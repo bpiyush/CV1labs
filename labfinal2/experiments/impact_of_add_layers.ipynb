{
 "cells": [
  {
   "cell_type": "code",
   "execution_count": 1,
   "id": "5507a249-fc78-4cfc-a933-ca345d0f1ee6",
   "metadata": {},
   "outputs": [],
   "source": [
    "%load_ext autoreload\n",
    "%autoreload 2"
   ]
  },
  {
   "cell_type": "code",
   "execution_count": 2,
   "id": "991c17b7-ff63-4049-9456-f3486680261d",
   "metadata": {},
   "outputs": [],
   "source": [
    "import sys\n",
    "sys.path.insert(0, \"../\")"
   ]
  },
  {
   "cell_type": "code",
   "execution_count": 3,
   "id": "80d8b0e7-7191-4e51-9743-f0e923743548",
   "metadata": {},
   "outputs": [],
   "source": [
    "import torch.nn as nn\n",
    "from torchsummary import summary\n",
    "\n",
    "from data.input_transforms import InputTransform\n",
    "from data.cifar import CIFAR\n",
    "from data.dataloader import get_dataloader\n",
    "from models.optimizer import optimizer, scheduler\n",
    "from networks.twolayernet import TwolayerNetAdditionalLayers\n",
    "from networks.convnet import ConvNetAdditionalLayers\n",
    "from utils.viz import plot_multiple_quantities_by_time\n",
    "from main import train, evaluate"
   ]
  },
  {
   "cell_type": "code",
   "execution_count": 4,
   "id": "ea471d50-2d7b-4f6f-89fb-150276fab8fd",
   "metadata": {},
   "outputs": [],
   "source": [
    "def experiment(train_transforms, valid_transforms, network, num_epochs, batch_size, opt_args, sch_args=None):\n",
    "    \n",
    "    print(train_transforms)\n",
    "    print(num_epochs)\n",
    "    print(batch_size)\n",
    "    print(opt_args)\n",
    "    print(sch_args)\n",
    "    \n",
    "    # define the datasets\n",
    "    train_transform = InputTransform(train_transforms)\n",
    "    valid_transform = InputTransform(valid_transforms)\n",
    "    train_dataset = CIFAR(root=\"../datasets/CIFAR-10/\", mode=\"train\", transform=train_transform)\n",
    "    valid_dataset = CIFAR(root=\"../datasets/CIFAR-10/\", mode=\"valid\", transform=valid_transform)\n",
    "\n",
    "    # obtain the train dataloader\n",
    "    train_loader = get_dataloader(train_dataset, train=True, batch_size=batch_size, num_workers=0)\n",
    "    valid_loader = get_dataloader(valid_dataset, train=False, batch_size=batch_size, num_workers=0)\n",
    "    \n",
    "    if network == \"tln\":\n",
    "        net = TwolayerNetAdditionalLayers(num_inputs=3 * 32 * 32, num_hidden=[1024, 512, 128], num_classes=10)\n",
    "    elif network == \"cnn\":\n",
    "        net = ConvNetAdditionalLayers(in_channels=3, num_classes=10)\n",
    "    else:\n",
    "        raise ValueError()\n",
    "    arch = type(net).__name__\n",
    "\n",
    "    # define the optimizer and scheduler\n",
    "    opt = optimizer(model_params=net.parameters(), **opt_args)\n",
    "    sch = None\n",
    "    if sch_args is not None:\n",
    "        sch = scheduler(opt=opt, **sch_args)\n",
    "\n",
    "    # define the loss function\n",
    "    loss_fn = nn.CrossEntropyLoss()\n",
    "\n",
    "    # train the model\n",
    "    epochs, train_losses, train_metrics, valid_losses, valid_metrics = train(\n",
    "        net, loss_fn, train_loader, valid_loader, num_epochs=num_epochs, opt=opt, sch=sch,\n",
    "    )\n",
    "\n",
    "    # plot training curves\n",
    "    plot_multiple_quantities_by_time(\n",
    "        quantities=[train_losses[\"loss\"], valid_losses[\"loss\"]],\n",
    "        time=epochs,\n",
    "        labels=[\"Train\", \"Validation\"],\n",
    "        title=f\"{arch} Loss curves\",\n",
    "        show=True,\n",
    "        save=True,\n",
    "        save_path=\"../results/cnn_loss_plot_best.png\",\n",
    "        ylabel=\"Loss\",\n",
    "    )\n",
    "    plot_multiple_quantities_by_time(\n",
    "        quantities=[train_metrics[\"accuracy\"], valid_metrics[\"accuracy\"]],\n",
    "        time=epochs,\n",
    "        labels=[\"Train\", \"Validation\"],\n",
    "        title=f\"{arch} Accuracy curves\",\n",
    "        show=True,\n",
    "        save=True,\n",
    "        save_path=\"../results/cnn_accu_plot_best.png\",\n",
    "        ylabel=\"Accuracy\",\n",
    "    )\n",
    "    \n",
    "    return net, loss_fn"
   ]
  },
  {
   "cell_type": "code",
   "execution_count": 5,
   "id": "d17ddae0-bd09-4b43-8c87-f69b7c417c95",
   "metadata": {},
   "outputs": [
    {
     "name": "stdout",
     "output_type": "stream",
     "text": [
      "[{'name': 'ToTensor', 'args': {}}, {'name': 'Normalize', 'args': {'mean': (0.5, 0.5, 0.5), 'std': (0.5, 0.5, 0.5)}}, {'name': 'RandomAffine', 'args': {'degrees': 10, 'translate': (0.1, 0.1), 'scale': (0.8, 1.2)}}]\n",
      "100\n",
      "128\n",
      "{'name': 'Adam', 'lr': 0.001}\n",
      "{'name': 'MultiStepLR', 'milestones': [50], 'gamma': 0.1}\n",
      "Selecting 40000 for train.\n",
      "Selecting 10000 for valid.\n"
     ]
    },
    {
     "name": "stderr",
     "output_type": "stream",
     "text": [
      "Training: Epoch [1/100]: 100%|██████████████████████████████| 313/313 [00:14<00:00, 22.09it/s]                                             \n",
      "Evaluate: Epoch [1/100]: 100%|██████████████████████████████| 79/79 [00:01<00:00, 77.41it/s]                                               \n"
     ]
    },
    {
     "name": "stdout",
     "output_type": "stream",
     "text": [
      "VALID \t: Summary: Loss: 1.6285 Accuracy: 0.3969\n",
      "TRAIN \t: Summary: Loss: 1.8811 Accuracy: 0.2975\n"
     ]
    },
    {
     "name": "stderr",
     "output_type": "stream",
     "text": [
      "Training: Epoch [2/100]: 100%|██████████████████████████████| 313/313 [00:14<00:00, 22.09it/s]                                             \n",
      "Evaluate: Epoch [2/100]: 100%|██████████████████████████████| 79/79 [00:00<00:00, 88.23it/s]                                               \n"
     ]
    },
    {
     "name": "stdout",
     "output_type": "stream",
     "text": [
      "VALID \t: Summary: Loss: 1.4793 Accuracy: 0.4473\n",
      "TRAIN \t: Summary: Loss: 1.6304 Accuracy: 0.3978\n"
     ]
    },
    {
     "name": "stderr",
     "output_type": "stream",
     "text": [
      "Training: Epoch [3/100]: 100%|██████████████████████████████| 313/313 [00:14<00:00, 22.04it/s]                                             \n",
      "Evaluate: Epoch [3/100]: 100%|██████████████████████████████| 79/79 [00:00<00:00, 84.72it/s]                                               \n"
     ]
    },
    {
     "name": "stdout",
     "output_type": "stream",
     "text": [
      "VALID \t: Summary: Loss: 1.4441 Accuracy: 0.4614\n",
      "TRAIN \t: Summary: Loss: 1.5500 Accuracy: 0.4293\n"
     ]
    },
    {
     "name": "stderr",
     "output_type": "stream",
     "text": [
      "Training: Epoch [4/100]: 100%|██████████████████████████████| 313/313 [00:14<00:00, 21.47it/s]                                             \n",
      "Evaluate: Epoch [4/100]: 100%|██████████████████████████████| 79/79 [00:00<00:00, 83.23it/s]                                               \n"
     ]
    },
    {
     "name": "stdout",
     "output_type": "stream",
     "text": [
      "VALID \t: Summary: Loss: 1.3377 Accuracy: 0.5126\n",
      "TRAIN \t: Summary: Loss: 1.4851 Accuracy: 0.4560\n"
     ]
    },
    {
     "name": "stderr",
     "output_type": "stream",
     "text": [
      "Training: Epoch [5/100]: 100%|██████████████████████████████| 313/313 [00:14<00:00, 21.91it/s]                                             \n",
      "Evaluate: Epoch [5/100]: 100%|██████████████████████████████| 79/79 [00:00<00:00, 85.21it/s]                                               \n"
     ]
    },
    {
     "name": "stdout",
     "output_type": "stream",
     "text": [
      "VALID \t: Summary: Loss: 1.3046 Accuracy: 0.5247\n",
      "TRAIN \t: Summary: Loss: 1.4341 Accuracy: 0.4763\n"
     ]
    },
    {
     "name": "stderr",
     "output_type": "stream",
     "text": [
      "Training: Epoch [6/100]: 100%|██████████████████████████████| 313/313 [00:14<00:00, 22.24it/s]                                             \n",
      "Evaluate: Epoch [6/100]: 100%|██████████████████████████████| 79/79 [00:01<00:00, 78.41it/s]                                               \n"
     ]
    },
    {
     "name": "stdout",
     "output_type": "stream",
     "text": [
      "VALID \t: Summary: Loss: 1.2801 Accuracy: 0.5317\n",
      "TRAIN \t: Summary: Loss: 1.3816 Accuracy: 0.4975\n"
     ]
    },
    {
     "name": "stderr",
     "output_type": "stream",
     "text": [
      "Training: Epoch [7/100]: 100%|██████████████████████████████| 313/313 [00:14<00:00, 20.89it/s]                                             \n",
      "Evaluate: Epoch [7/100]: 100%|██████████████████████████████| 79/79 [00:00<00:00, 86.45it/s]                                               \n"
     ]
    },
    {
     "name": "stdout",
     "output_type": "stream",
     "text": [
      "VALID \t: Summary: Loss: 1.2243 Accuracy: 0.5560\n",
      "TRAIN \t: Summary: Loss: 1.3455 Accuracy: 0.5146\n"
     ]
    },
    {
     "name": "stderr",
     "output_type": "stream",
     "text": [
      "Training: Epoch [8/100]: 100%|██████████████████████████████| 313/313 [00:14<00:00, 22.35it/s]                                             \n",
      "Evaluate: Epoch [8/100]: 100%|██████████████████████████████| 79/79 [00:00<00:00, 87.27it/s]                                               \n"
     ]
    },
    {
     "name": "stdout",
     "output_type": "stream",
     "text": [
      "VALID \t: Summary: Loss: 1.1937 Accuracy: 0.5788\n",
      "TRAIN \t: Summary: Loss: 1.3125 Accuracy: 0.5263\n"
     ]
    },
    {
     "name": "stderr",
     "output_type": "stream",
     "text": [
      "Training: Epoch [9/100]: 100%|██████████████████████████████| 313/313 [00:14<00:00, 21.91it/s]                                             \n",
      "Evaluate: Epoch [9/100]: 100%|██████████████████████████████| 79/79 [00:00<00:00, 81.91it/s]                                               \n"
     ]
    },
    {
     "name": "stdout",
     "output_type": "stream",
     "text": [
      "VALID \t: Summary: Loss: 1.1618 Accuracy: 0.5845\n",
      "TRAIN \t: Summary: Loss: 1.2842 Accuracy: 0.5375\n"
     ]
    },
    {
     "name": "stderr",
     "output_type": "stream",
     "text": [
      "Training: Epoch [10/100]: 100%|██████████████████████████████| 313/313 [00:14<00:00, 21.78it/s]                                            \n",
      "Evaluate: Epoch [10/100]: 100%|██████████████████████████████| 79/79 [00:00<00:00, 86.34it/s]                                              \n"
     ]
    },
    {
     "name": "stdout",
     "output_type": "stream",
     "text": [
      "VALID \t: Summary: Loss: 1.1466 Accuracy: 0.5942\n",
      "TRAIN \t: Summary: Loss: 1.2550 Accuracy: 0.5510\n"
     ]
    },
    {
     "name": "stderr",
     "output_type": "stream",
     "text": [
      "Training: Epoch [11/100]: 100%|██████████████████████████████| 313/313 [00:14<00:00, 22.15it/s]                                            \n",
      "Evaluate: Epoch [11/100]: 100%|██████████████████████████████| 79/79 [00:00<00:00, 87.81it/s]                                              \n"
     ]
    },
    {
     "name": "stdout",
     "output_type": "stream",
     "text": [
      "VALID \t: Summary: Loss: 1.1303 Accuracy: 0.6013\n",
      "TRAIN \t: Summary: Loss: 1.2381 Accuracy: 0.5586\n"
     ]
    },
    {
     "name": "stderr",
     "output_type": "stream",
     "text": [
      "Training: Epoch [12/100]: 100%|██████████████████████████████| 313/313 [00:14<00:00, 21.30it/s]                                            \n",
      "Evaluate: Epoch [12/100]: 100%|██████████████████████████████| 79/79 [00:00<00:00, 81.69it/s]                                              \n"
     ]
    },
    {
     "name": "stdout",
     "output_type": "stream",
     "text": [
      "VALID \t: Summary: Loss: 1.0818 Accuracy: 0.6229\n",
      "TRAIN \t: Summary: Loss: 1.2080 Accuracy: 0.5685\n"
     ]
    },
    {
     "name": "stderr",
     "output_type": "stream",
     "text": [
      "Training: Epoch [13/100]: 100%|██████████████████████████████| 313/313 [00:14<00:00, 21.86it/s]                                            \n",
      "Evaluate: Epoch [13/100]: 100%|██████████████████████████████| 79/79 [00:00<00:00, 82.94it/s]                                              \n"
     ]
    },
    {
     "name": "stdout",
     "output_type": "stream",
     "text": [
      "VALID \t: Summary: Loss: 1.0835 Accuracy: 0.6208\n",
      "TRAIN \t: Summary: Loss: 1.1879 Accuracy: 0.5747\n"
     ]
    },
    {
     "name": "stderr",
     "output_type": "stream",
     "text": [
      "Training: Epoch [14/100]: 100%|██████████████████████████████| 313/313 [00:14<00:00, 21.70it/s]                                            \n",
      "Evaluate: Epoch [14/100]: 100%|██████████████████████████████| 79/79 [00:00<00:00, 85.67it/s]                                              \n"
     ]
    },
    {
     "name": "stdout",
     "output_type": "stream",
     "text": [
      "VALID \t: Summary: Loss: 1.1088 Accuracy: 0.6074\n",
      "TRAIN \t: Summary: Loss: 1.1684 Accuracy: 0.5855\n"
     ]
    },
    {
     "name": "stderr",
     "output_type": "stream",
     "text": [
      "Training: Epoch [15/100]: 100%|██████████████████████████████| 313/313 [00:14<00:00, 21.92it/s]                                            \n",
      "Evaluate: Epoch [15/100]: 100%|██████████████████████████████| 79/79 [00:00<00:00, 80.60it/s]                                              \n"
     ]
    },
    {
     "name": "stdout",
     "output_type": "stream",
     "text": [
      "VALID \t: Summary: Loss: 1.0585 Accuracy: 0.6250\n",
      "TRAIN \t: Summary: Loss: 1.1500 Accuracy: 0.5904\n"
     ]
    },
    {
     "name": "stderr",
     "output_type": "stream",
     "text": [
      "Training: Epoch [16/100]: 100%|██████████████████████████████| 313/313 [00:14<00:00, 21.89it/s]                                            \n",
      "Evaluate: Epoch [16/100]: 100%|██████████████████████████████| 79/79 [00:00<00:00, 85.47it/s]                                              \n"
     ]
    },
    {
     "name": "stdout",
     "output_type": "stream",
     "text": [
      "VALID \t: Summary: Loss: 1.0693 Accuracy: 0.6214\n",
      "TRAIN \t: Summary: Loss: 1.1330 Accuracy: 0.5951\n"
     ]
    },
    {
     "name": "stderr",
     "output_type": "stream",
     "text": [
      "Training: Epoch [17/100]: 100%|██████████████████████████████| 313/313 [00:14<00:00, 21.80it/s]                                            \n",
      "Evaluate: Epoch [17/100]: 100%|██████████████████████████████| 79/79 [00:00<00:00, 86.26it/s]                                              \n"
     ]
    },
    {
     "name": "stdout",
     "output_type": "stream",
     "text": [
      "VALID \t: Summary: Loss: 1.0601 Accuracy: 0.6249\n",
      "TRAIN \t: Summary: Loss: 1.1224 Accuracy: 0.6021\n"
     ]
    },
    {
     "name": "stderr",
     "output_type": "stream",
     "text": [
      "Training: Epoch [18/100]: 100%|██████████████████████████████| 313/313 [00:14<00:00, 22.03it/s]                                            \n",
      "Evaluate: Epoch [18/100]: 100%|██████████████████████████████| 79/79 [00:00<00:00, 86.57it/s]                                              \n"
     ]
    },
    {
     "name": "stdout",
     "output_type": "stream",
     "text": [
      "VALID \t: Summary: Loss: 1.0214 Accuracy: 0.6373\n",
      "TRAIN \t: Summary: Loss: 1.1041 Accuracy: 0.6081\n"
     ]
    },
    {
     "name": "stderr",
     "output_type": "stream",
     "text": [
      "Training: Epoch [19/100]: 100%|██████████████████████████████| 313/313 [00:14<00:00, 22.12it/s]                                            \n",
      "Evaluate: Epoch [19/100]: 100%|██████████████████████████████| 79/79 [00:00<00:00, 87.89it/s]                                              \n"
     ]
    },
    {
     "name": "stdout",
     "output_type": "stream",
     "text": [
      "VALID \t: Summary: Loss: 1.0033 Accuracy: 0.6406\n",
      "TRAIN \t: Summary: Loss: 1.0910 Accuracy: 0.6120\n"
     ]
    },
    {
     "name": "stderr",
     "output_type": "stream",
     "text": [
      "Training: Epoch [20/100]: 100%|██████████████████████████████| 313/313 [00:14<00:00, 21.18it/s]                                            \n",
      "Evaluate: Epoch [20/100]: 100%|██████████████████████████████| 79/79 [00:00<00:00, 85.01it/s]                                              \n"
     ]
    },
    {
     "name": "stdout",
     "output_type": "stream",
     "text": [
      "VALID \t: Summary: Loss: 0.9901 Accuracy: 0.6501\n",
      "TRAIN \t: Summary: Loss: 1.0767 Accuracy: 0.6193\n"
     ]
    },
    {
     "name": "stderr",
     "output_type": "stream",
     "text": [
      "Training: Epoch [21/100]: 100%|██████████████████████████████| 313/313 [00:14<00:00, 21.87it/s]                                            \n",
      "Evaluate: Epoch [21/100]: 100%|██████████████████████████████| 79/79 [00:00<00:00, 85.75it/s]                                              \n"
     ]
    },
    {
     "name": "stdout",
     "output_type": "stream",
     "text": [
      "VALID \t: Summary: Loss: 0.9749 Accuracy: 0.6584\n",
      "TRAIN \t: Summary: Loss: 1.0658 Accuracy: 0.6219\n"
     ]
    },
    {
     "name": "stderr",
     "output_type": "stream",
     "text": [
      "Training: Epoch [22/100]: 100%|██████████████████████████████| 313/313 [00:14<00:00, 22.26it/s]                                            \n",
      "Evaluate: Epoch [22/100]: 100%|██████████████████████████████| 79/79 [00:00<00:00, 84.82it/s]                                              \n"
     ]
    },
    {
     "name": "stdout",
     "output_type": "stream",
     "text": [
      "VALID \t: Summary: Loss: 0.9877 Accuracy: 0.6512\n",
      "TRAIN \t: Summary: Loss: 1.0485 Accuracy: 0.6273\n"
     ]
    },
    {
     "name": "stderr",
     "output_type": "stream",
     "text": [
      "Training: Epoch [23/100]: 100%|██████████████████████████████| 313/313 [00:13<00:00, 22.36it/s]                                            \n",
      "Evaluate: Epoch [23/100]: 100%|██████████████████████████████| 79/79 [00:00<00:00, 86.36it/s]                                              \n"
     ]
    },
    {
     "name": "stdout",
     "output_type": "stream",
     "text": [
      "VALID \t: Summary: Loss: 0.9895 Accuracy: 0.6536\n",
      "TRAIN \t: Summary: Loss: 1.0393 Accuracy: 0.6307\n"
     ]
    },
    {
     "name": "stderr",
     "output_type": "stream",
     "text": [
      "Training: Epoch [24/100]: 100%|██████████████████████████████| 313/313 [00:14<00:00, 21.99it/s]                                            \n",
      "Evaluate: Epoch [24/100]: 100%|██████████████████████████████| 79/79 [00:00<00:00, 86.55it/s]                                              \n"
     ]
    },
    {
     "name": "stdout",
     "output_type": "stream",
     "text": [
      "VALID \t: Summary: Loss: 0.9879 Accuracy: 0.6528\n",
      "TRAIN \t: Summary: Loss: 1.0310 Accuracy: 0.6327\n"
     ]
    },
    {
     "name": "stderr",
     "output_type": "stream",
     "text": [
      "Training: Epoch [25/100]: 100%|██████████████████████████████| 313/313 [00:14<00:00, 22.03it/s]                                            \n",
      "Evaluate: Epoch [25/100]: 100%|██████████████████████████████| 79/79 [00:00<00:00, 83.85it/s]                                              \n"
     ]
    },
    {
     "name": "stdout",
     "output_type": "stream",
     "text": [
      "VALID \t: Summary: Loss: 0.9574 Accuracy: 0.6675\n",
      "TRAIN \t: Summary: Loss: 1.0268 Accuracy: 0.6354\n"
     ]
    },
    {
     "name": "stderr",
     "output_type": "stream",
     "text": [
      "Training: Epoch [26/100]: 100%|██████████████████████████████| 313/313 [00:13<00:00, 22.37it/s]                                            \n",
      "Evaluate: Epoch [26/100]: 100%|██████████████████████████████| 79/79 [00:00<00:00, 81.82it/s]                                              \n"
     ]
    },
    {
     "name": "stdout",
     "output_type": "stream",
     "text": [
      "VALID \t: Summary: Loss: 0.9807 Accuracy: 0.6593\n",
      "TRAIN \t: Summary: Loss: 1.0141 Accuracy: 0.6374\n"
     ]
    },
    {
     "name": "stderr",
     "output_type": "stream",
     "text": [
      "Training: Epoch [27/100]: 100%|██████████████████████████████| 313/313 [00:13<00:00, 22.39it/s]                                            \n",
      "Evaluate: Epoch [27/100]: 100%|██████████████████████████████| 79/79 [00:00<00:00, 84.89it/s]                                              \n"
     ]
    },
    {
     "name": "stdout",
     "output_type": "stream",
     "text": [
      "VALID \t: Summary: Loss: 0.9713 Accuracy: 0.6614\n",
      "TRAIN \t: Summary: Loss: 1.0057 Accuracy: 0.6443\n"
     ]
    },
    {
     "name": "stderr",
     "output_type": "stream",
     "text": [
      "Training: Epoch [28/100]: 100%|██████████████████████████████| 313/313 [00:14<00:00, 21.16it/s]                                            \n",
      "Evaluate: Epoch [28/100]: 100%|██████████████████████████████| 79/79 [00:00<00:00, 85.54it/s]                                              \n"
     ]
    },
    {
     "name": "stdout",
     "output_type": "stream",
     "text": [
      "VALID \t: Summary: Loss: 0.9881 Accuracy: 0.6527\n",
      "TRAIN \t: Summary: Loss: 0.9970 Accuracy: 0.6469\n"
     ]
    },
    {
     "name": "stderr",
     "output_type": "stream",
     "text": [
      "Training: Epoch [29/100]: 100%|██████████████████████████████| 313/313 [00:14<00:00, 21.90it/s]                                            \n",
      "Evaluate: Epoch [29/100]: 100%|██████████████████████████████| 79/79 [00:01<00:00, 73.67it/s]                                              \n"
     ]
    },
    {
     "name": "stdout",
     "output_type": "stream",
     "text": [
      "VALID \t: Summary: Loss: 0.9560 Accuracy: 0.6706\n",
      "TRAIN \t: Summary: Loss: 0.9876 Accuracy: 0.6518\n"
     ]
    },
    {
     "name": "stderr",
     "output_type": "stream",
     "text": [
      "Training: Epoch [30/100]: 100%|██████████████████████████████| 313/313 [00:13<00:00, 22.48it/s]                                            \n",
      "Evaluate: Epoch [30/100]: 100%|██████████████████████████████| 79/79 [00:00<00:00, 87.60it/s]                                              \n"
     ]
    },
    {
     "name": "stdout",
     "output_type": "stream",
     "text": [
      "VALID \t: Summary: Loss: 0.9560 Accuracy: 0.6689\n",
      "TRAIN \t: Summary: Loss: 0.9849 Accuracy: 0.6493\n"
     ]
    },
    {
     "name": "stderr",
     "output_type": "stream",
     "text": [
      "Training: Epoch [31/100]: 100%|██████████████████████████████| 313/313 [00:14<00:00, 22.15it/s]                                            \n",
      "Evaluate: Epoch [31/100]: 100%|██████████████████████████████| 79/79 [00:00<00:00, 87.35it/s]                                              \n"
     ]
    },
    {
     "name": "stdout",
     "output_type": "stream",
     "text": [
      "VALID \t: Summary: Loss: 0.9161 Accuracy: 0.6773\n",
      "TRAIN \t: Summary: Loss: 0.9774 Accuracy: 0.6537\n"
     ]
    },
    {
     "name": "stderr",
     "output_type": "stream",
     "text": [
      "Training: Epoch [32/100]: 100%|██████████████████████████████| 313/313 [00:14<00:00, 21.21it/s]                                            \n",
      "Evaluate: Epoch [32/100]: 100%|██████████████████████████████| 79/79 [00:00<00:00, 79.55it/s]                                              \n"
     ]
    },
    {
     "name": "stdout",
     "output_type": "stream",
     "text": [
      "VALID \t: Summary: Loss: 0.9413 Accuracy: 0.6711\n",
      "TRAIN \t: Summary: Loss: 0.9685 Accuracy: 0.6555\n"
     ]
    },
    {
     "name": "stderr",
     "output_type": "stream",
     "text": [
      "Training: Epoch [33/100]: 100%|██████████████████████████████| 313/313 [00:14<00:00, 21.65it/s]                                            \n",
      "Evaluate: Epoch [33/100]: 100%|██████████████████████████████| 79/79 [00:00<00:00, 87.79it/s]                                              \n"
     ]
    },
    {
     "name": "stdout",
     "output_type": "stream",
     "text": [
      "VALID \t: Summary: Loss: 0.9341 Accuracy: 0.6746\n",
      "TRAIN \t: Summary: Loss: 0.9605 Accuracy: 0.6611\n"
     ]
    },
    {
     "name": "stderr",
     "output_type": "stream",
     "text": [
      "Training: Epoch [34/100]: 100%|██████████████████████████████| 313/313 [00:13<00:00, 22.51it/s]                                            \n",
      "Evaluate: Epoch [34/100]: 100%|██████████████████████████████| 79/79 [00:00<00:00, 87.12it/s]                                              \n"
     ]
    },
    {
     "name": "stdout",
     "output_type": "stream",
     "text": [
      "VALID \t: Summary: Loss: 0.9403 Accuracy: 0.6704\n",
      "TRAIN \t: Summary: Loss: 0.9585 Accuracy: 0.6587\n"
     ]
    },
    {
     "name": "stderr",
     "output_type": "stream",
     "text": [
      "Training: Epoch [35/100]: 100%|██████████████████████████████| 313/313 [00:14<00:00, 21.98it/s]                                            \n",
      "Evaluate: Epoch [35/100]: 100%|██████████████████████████████| 79/79 [00:00<00:00, 86.50it/s]                                              \n"
     ]
    },
    {
     "name": "stdout",
     "output_type": "stream",
     "text": [
      "VALID \t: Summary: Loss: 0.9156 Accuracy: 0.6747\n",
      "TRAIN \t: Summary: Loss: 0.9434 Accuracy: 0.6662\n"
     ]
    },
    {
     "name": "stderr",
     "output_type": "stream",
     "text": [
      "Training: Epoch [36/100]: 100%|██████████████████████████████| 313/313 [00:15<00:00, 19.94it/s]                                            \n",
      "Evaluate: Epoch [36/100]: 100%|██████████████████████████████| 79/79 [00:00<00:00, 80.67it/s]                                              \n"
     ]
    },
    {
     "name": "stdout",
     "output_type": "stream",
     "text": [
      "VALID \t: Summary: Loss: 0.9208 Accuracy: 0.6699\n",
      "TRAIN \t: Summary: Loss: 0.9527 Accuracy: 0.6606\n"
     ]
    },
    {
     "name": "stderr",
     "output_type": "stream",
     "text": [
      "Training: Epoch [37/100]: 100%|██████████████████████████████| 313/313 [00:15<00:00, 20.14it/s]                                            \n",
      "Evaluate: Epoch [37/100]: 100%|██████████████████████████████| 79/79 [00:00<00:00, 79.88it/s]                                              \n"
     ]
    },
    {
     "name": "stdout",
     "output_type": "stream",
     "text": [
      "VALID \t: Summary: Loss: 0.9057 Accuracy: 0.6821\n",
      "TRAIN \t: Summary: Loss: 0.9436 Accuracy: 0.6654\n"
     ]
    },
    {
     "name": "stderr",
     "output_type": "stream",
     "text": [
      "Training: Epoch [38/100]: 100%|██████████████████████████████| 313/313 [00:16<00:00, 19.51it/s]                                            \n",
      "Evaluate: Epoch [38/100]: 100%|██████████████████████████████| 79/79 [00:01<00:00, 76.25it/s]                                              \n"
     ]
    },
    {
     "name": "stdout",
     "output_type": "stream",
     "text": [
      "VALID \t: Summary: Loss: 0.9180 Accuracy: 0.6763\n",
      "TRAIN \t: Summary: Loss: 0.9358 Accuracy: 0.6656\n"
     ]
    },
    {
     "name": "stderr",
     "output_type": "stream",
     "text": [
      "Training: Epoch [39/100]: 100%|██████████████████████████████| 313/313 [00:17<00:00, 18.07it/s]                                            \n",
      "Evaluate: Epoch [39/100]: 100%|██████████████████████████████| 79/79 [00:01<00:00, 72.27it/s]                                              \n"
     ]
    },
    {
     "name": "stdout",
     "output_type": "stream",
     "text": [
      "VALID \t: Summary: Loss: 0.9406 Accuracy: 0.6694\n",
      "TRAIN \t: Summary: Loss: 0.9320 Accuracy: 0.6690\n"
     ]
    },
    {
     "name": "stderr",
     "output_type": "stream",
     "text": [
      "Training: Epoch [40/100]: 100%|██████████████████████████████| 313/313 [00:16<00:00, 18.79it/s]                                            \n",
      "Evaluate: Epoch [40/100]: 100%|██████████████████████████████| 79/79 [00:01<00:00, 66.90it/s]                                              \n"
     ]
    },
    {
     "name": "stdout",
     "output_type": "stream",
     "text": [
      "VALID \t: Summary: Loss: 0.8998 Accuracy: 0.6855\n",
      "TRAIN \t: Summary: Loss: 0.9271 Accuracy: 0.6720\n"
     ]
    },
    {
     "name": "stderr",
     "output_type": "stream",
     "text": [
      "Training: Epoch [41/100]: 100%|██████████████████████████████| 313/313 [00:20<00:00, 15.11it/s]                                            \n",
      "Evaluate: Epoch [41/100]: 100%|██████████████████████████████| 79/79 [00:01<00:00, 70.11it/s]                                              \n"
     ]
    },
    {
     "name": "stdout",
     "output_type": "stream",
     "text": [
      "VALID \t: Summary: Loss: 0.9218 Accuracy: 0.6769\n",
      "TRAIN \t: Summary: Loss: 0.9239 Accuracy: 0.6730\n"
     ]
    },
    {
     "name": "stderr",
     "output_type": "stream",
     "text": [
      "Training: Epoch [42/100]: 100%|██████████████████████████████| 313/313 [00:17<00:00, 17.89it/s]                                            \n",
      "Evaluate: Epoch [42/100]: 100%|██████████████████████████████| 79/79 [00:01<00:00, 78.44it/s]                                              \n"
     ]
    },
    {
     "name": "stdout",
     "output_type": "stream",
     "text": [
      "VALID \t: Summary: Loss: 0.8767 Accuracy: 0.6921\n",
      "TRAIN \t: Summary: Loss: 0.9243 Accuracy: 0.6734\n"
     ]
    },
    {
     "name": "stderr",
     "output_type": "stream",
     "text": [
      "Training: Epoch [43/100]: 100%|██████████████████████████████| 313/313 [00:15<00:00, 20.04it/s]                                            \n",
      "Evaluate: Epoch [43/100]: 100%|██████████████████████████████| 79/79 [00:01<00:00, 77.52it/s]                                              \n"
     ]
    },
    {
     "name": "stdout",
     "output_type": "stream",
     "text": [
      "VALID \t: Summary: Loss: 0.8942 Accuracy: 0.6846\n",
      "TRAIN \t: Summary: Loss: 0.9140 Accuracy: 0.6776\n"
     ]
    },
    {
     "name": "stderr",
     "output_type": "stream",
     "text": [
      "Training: Epoch [44/100]: 100%|██████████████████████████████| 313/313 [00:15<00:00, 20.34it/s]                                            \n",
      "Evaluate: Epoch [44/100]: 100%|██████████████████████████████| 79/79 [00:00<00:00, 80.12it/s]                                              \n"
     ]
    },
    {
     "name": "stdout",
     "output_type": "stream",
     "text": [
      "VALID \t: Summary: Loss: 0.9081 Accuracy: 0.6850\n",
      "TRAIN \t: Summary: Loss: 0.9125 Accuracy: 0.6771\n"
     ]
    },
    {
     "name": "stderr",
     "output_type": "stream",
     "text": [
      "Training: Epoch [45/100]: 100%|██████████████████████████████| 313/313 [00:14<00:00, 21.24it/s]                                            \n",
      "Evaluate: Epoch [45/100]: 100%|██████████████████████████████| 79/79 [00:00<00:00, 83.02it/s]                                              \n"
     ]
    },
    {
     "name": "stdout",
     "output_type": "stream",
     "text": [
      "VALID \t: Summary: Loss: 0.8921 Accuracy: 0.6846\n",
      "TRAIN \t: Summary: Loss: 0.9029 Accuracy: 0.6807\n"
     ]
    },
    {
     "name": "stderr",
     "output_type": "stream",
     "text": [
      "Training: Epoch [46/100]: 100%|██████████████████████████████| 313/313 [00:15<00:00, 20.26it/s]                                            \n",
      "Evaluate: Epoch [46/100]: 100%|██████████████████████████████| 79/79 [00:00<00:00, 80.81it/s]                                              \n"
     ]
    },
    {
     "name": "stdout",
     "output_type": "stream",
     "text": [
      "VALID \t: Summary: Loss: 0.8956 Accuracy: 0.6814\n",
      "TRAIN \t: Summary: Loss: 0.9054 Accuracy: 0.6795\n"
     ]
    },
    {
     "name": "stderr",
     "output_type": "stream",
     "text": [
      "Training: Epoch [47/100]: 100%|██████████████████████████████| 313/313 [00:14<00:00, 20.98it/s]                                            \n",
      "Evaluate: Epoch [47/100]: 100%|██████████████████████████████| 79/79 [00:01<00:00, 73.55it/s]                                              \n"
     ]
    },
    {
     "name": "stdout",
     "output_type": "stream",
     "text": [
      "VALID \t: Summary: Loss: 0.8839 Accuracy: 0.6885\n",
      "TRAIN \t: Summary: Loss: 0.9033 Accuracy: 0.6786\n"
     ]
    },
    {
     "name": "stderr",
     "output_type": "stream",
     "text": [
      "Training: Epoch [48/100]: 100%|██████████████████████████████| 313/313 [00:14<00:00, 22.34it/s]                                            \n",
      "Evaluate: Epoch [48/100]: 100%|██████████████████████████████| 79/79 [00:00<00:00, 86.62it/s]                                              \n"
     ]
    },
    {
     "name": "stdout",
     "output_type": "stream",
     "text": [
      "VALID \t: Summary: Loss: 0.8767 Accuracy: 0.6901\n",
      "TRAIN \t: Summary: Loss: 0.8904 Accuracy: 0.6857\n"
     ]
    },
    {
     "name": "stderr",
     "output_type": "stream",
     "text": [
      "Training: Epoch [49/100]: 100%|██████████████████████████████| 313/313 [00:14<00:00, 22.32it/s]                                            \n",
      "Evaluate: Epoch [49/100]: 100%|██████████████████████████████| 79/79 [00:00<00:00, 86.48it/s]                                              \n"
     ]
    },
    {
     "name": "stdout",
     "output_type": "stream",
     "text": [
      "VALID \t: Summary: Loss: 0.8811 Accuracy: 0.6921\n",
      "TRAIN \t: Summary: Loss: 0.8987 Accuracy: 0.6822\n"
     ]
    },
    {
     "name": "stderr",
     "output_type": "stream",
     "text": [
      "Training: Epoch [50/100]: 100%|██████████████████████████████| 313/313 [00:14<00:00, 22.18it/s]                                            \n",
      "Evaluate: Epoch [50/100]: 100%|██████████████████████████████| 79/79 [00:00<00:00, 86.26it/s]                                              \n"
     ]
    },
    {
     "name": "stdout",
     "output_type": "stream",
     "text": [
      "VALID \t: Summary: Loss: 0.9117 Accuracy: 0.6809\n",
      "TRAIN \t: Summary: Loss: 0.8853 Accuracy: 0.6854\n"
     ]
    },
    {
     "name": "stderr",
     "output_type": "stream",
     "text": [
      "Training: Epoch [51/100]: 100%|██████████████████████████████| 313/313 [00:13<00:00, 22.48it/s]                                            \n",
      "Evaluate: Epoch [51/100]: 100%|██████████████████████████████| 79/79 [00:00<00:00, 83.95it/s]                                              \n"
     ]
    },
    {
     "name": "stdout",
     "output_type": "stream",
     "text": [
      "VALID \t: Summary: Loss: 0.8410 Accuracy: 0.7052\n",
      "TRAIN \t: Summary: Loss: 0.8211 Accuracy: 0.7077\n"
     ]
    },
    {
     "name": "stderr",
     "output_type": "stream",
     "text": [
      "Training: Epoch [52/100]: 100%|██████████████████████████████| 313/313 [00:13<00:00, 22.47it/s]                                            \n",
      "Evaluate: Epoch [52/100]: 100%|██████████████████████████████| 79/79 [00:00<00:00, 86.81it/s]                                              \n"
     ]
    },
    {
     "name": "stdout",
     "output_type": "stream",
     "text": [
      "VALID \t: Summary: Loss: 0.8387 Accuracy: 0.7090\n",
      "TRAIN \t: Summary: Loss: 0.8066 Accuracy: 0.7113\n"
     ]
    },
    {
     "name": "stderr",
     "output_type": "stream",
     "text": [
      "Training: Epoch [53/100]: 100%|██████████████████████████████| 313/313 [00:13<00:00, 22.47it/s]                                            \n",
      "Evaluate: Epoch [53/100]: 100%|██████████████████████████████| 79/79 [00:00<00:00, 87.39it/s]                                              \n"
     ]
    },
    {
     "name": "stdout",
     "output_type": "stream",
     "text": [
      "VALID \t: Summary: Loss: 0.8416 Accuracy: 0.7045\n",
      "TRAIN \t: Summary: Loss: 0.8032 Accuracy: 0.7167\n"
     ]
    },
    {
     "name": "stderr",
     "output_type": "stream",
     "text": [
      "Training: Epoch [54/100]: 100%|██████████████████████████████| 313/313 [00:14<00:00, 21.66it/s]                                            \n",
      "Evaluate: Epoch [54/100]: 100%|██████████████████████████████| 79/79 [00:00<00:00, 85.51it/s]                                              \n"
     ]
    },
    {
     "name": "stdout",
     "output_type": "stream",
     "text": [
      "VALID \t: Summary: Loss: 0.8423 Accuracy: 0.7038\n",
      "TRAIN \t: Summary: Loss: 0.7984 Accuracy: 0.7175\n"
     ]
    },
    {
     "name": "stderr",
     "output_type": "stream",
     "text": [
      "Training: Epoch [55/100]: 100%|██████████████████████████████| 313/313 [00:14<00:00, 21.29it/s]                                            \n",
      "Evaluate: Epoch [55/100]: 100%|██████████████████████████████| 79/79 [00:01<00:00, 77.18it/s]                                              \n"
     ]
    },
    {
     "name": "stdout",
     "output_type": "stream",
     "text": [
      "VALID \t: Summary: Loss: 0.8329 Accuracy: 0.7100\n",
      "TRAIN \t: Summary: Loss: 0.7974 Accuracy: 0.7202\n"
     ]
    },
    {
     "name": "stderr",
     "output_type": "stream",
     "text": [
      "Training: Epoch [56/100]: 100%|██████████████████████████████| 313/313 [00:14<00:00, 22.25it/s]                                            \n",
      "Evaluate: Epoch [56/100]: 100%|██████████████████████████████| 79/79 [00:00<00:00, 89.11it/s]                                              \n"
     ]
    },
    {
     "name": "stdout",
     "output_type": "stream",
     "text": [
      "VALID \t: Summary: Loss: 0.8407 Accuracy: 0.7076\n",
      "TRAIN \t: Summary: Loss: 0.7924 Accuracy: 0.7179\n"
     ]
    },
    {
     "name": "stderr",
     "output_type": "stream",
     "text": [
      "Training: Epoch [57/100]: 100%|██████████████████████████████| 313/313 [00:14<00:00, 22.23it/s]                                            \n",
      "Evaluate: Epoch [57/100]: 100%|██████████████████████████████| 79/79 [00:00<00:00, 84.97it/s]                                              \n"
     ]
    },
    {
     "name": "stdout",
     "output_type": "stream",
     "text": [
      "VALID \t: Summary: Loss: 0.8339 Accuracy: 0.7107\n",
      "TRAIN \t: Summary: Loss: 0.7937 Accuracy: 0.7191\n"
     ]
    },
    {
     "name": "stderr",
     "output_type": "stream",
     "text": [
      "Training: Epoch [58/100]: 100%|██████████████████████████████| 313/313 [00:14<00:00, 21.51it/s]                                            \n",
      "Evaluate: Epoch [58/100]: 100%|██████████████████████████████| 79/79 [00:01<00:00, 77.84it/s]                                              \n"
     ]
    },
    {
     "name": "stdout",
     "output_type": "stream",
     "text": [
      "VALID \t: Summary: Loss: 0.8349 Accuracy: 0.7090\n",
      "TRAIN \t: Summary: Loss: 0.7902 Accuracy: 0.7224\n"
     ]
    },
    {
     "name": "stderr",
     "output_type": "stream",
     "text": [
      "Training: Epoch [59/100]: 100%|██████████████████████████████| 313/313 [00:13<00:00, 22.45it/s]                                            \n",
      "Evaluate: Epoch [59/100]: 100%|██████████████████████████████| 79/79 [00:00<00:00, 88.01it/s]                                              \n"
     ]
    },
    {
     "name": "stdout",
     "output_type": "stream",
     "text": [
      "VALID \t: Summary: Loss: 0.8360 Accuracy: 0.7095\n",
      "TRAIN \t: Summary: Loss: 0.7873 Accuracy: 0.7214\n"
     ]
    },
    {
     "name": "stderr",
     "output_type": "stream",
     "text": [
      "Training: Epoch [60/100]: 100%|██████████████████████████████| 313/313 [00:14<00:00, 22.09it/s]                                            \n",
      "Evaluate: Epoch [60/100]: 100%|██████████████████████████████| 79/79 [00:00<00:00, 84.22it/s]                                              \n"
     ]
    },
    {
     "name": "stdout",
     "output_type": "stream",
     "text": [
      "VALID \t: Summary: Loss: 0.8328 Accuracy: 0.7095\n",
      "TRAIN \t: Summary: Loss: 0.7853 Accuracy: 0.7222\n"
     ]
    },
    {
     "name": "stderr",
     "output_type": "stream",
     "text": [
      "Training: Epoch [61/100]: 100%|██████████████████████████████| 313/313 [00:13<00:00, 22.53it/s]                                            \n",
      "Evaluate: Epoch [61/100]: 100%|██████████████████████████████| 79/79 [00:00<00:00, 88.05it/s]                                              \n"
     ]
    },
    {
     "name": "stdout",
     "output_type": "stream",
     "text": [
      "VALID \t: Summary: Loss: 0.8368 Accuracy: 0.7085\n",
      "TRAIN \t: Summary: Loss: 0.7886 Accuracy: 0.7208\n"
     ]
    },
    {
     "name": "stderr",
     "output_type": "stream",
     "text": [
      "Training: Epoch [62/100]: 100%|██████████████████████████████| 313/313 [00:15<00:00, 20.59it/s]                                            \n",
      "Evaluate: Epoch [62/100]: 100%|██████████████████████████████| 79/79 [00:01<00:00, 78.32it/s]                                              \n"
     ]
    },
    {
     "name": "stdout",
     "output_type": "stream",
     "text": [
      "VALID \t: Summary: Loss: 0.8409 Accuracy: 0.7090\n",
      "TRAIN \t: Summary: Loss: 0.7801 Accuracy: 0.7233\n"
     ]
    },
    {
     "name": "stderr",
     "output_type": "stream",
     "text": [
      "Training: Epoch [63/100]: 100%|██████████████████████████████| 313/313 [00:16<00:00, 18.73it/s]                                            \n",
      "Evaluate: Epoch [63/100]: 100%|██████████████████████████████| 79/79 [00:00<00:00, 86.63it/s]                                              \n"
     ]
    },
    {
     "name": "stdout",
     "output_type": "stream",
     "text": [
      "VALID \t: Summary: Loss: 0.8289 Accuracy: 0.7126\n",
      "TRAIN \t: Summary: Loss: 0.7786 Accuracy: 0.7238\n"
     ]
    },
    {
     "name": "stderr",
     "output_type": "stream",
     "text": [
      "Training: Epoch [64/100]: 100%|██████████████████████████████| 313/313 [00:13<00:00, 22.51it/s]                                            \n",
      "Evaluate: Epoch [64/100]: 100%|██████████████████████████████| 79/79 [00:00<00:00, 87.99it/s]                                              \n"
     ]
    },
    {
     "name": "stdout",
     "output_type": "stream",
     "text": [
      "VALID \t: Summary: Loss: 0.8352 Accuracy: 0.7111\n",
      "TRAIN \t: Summary: Loss: 0.7844 Accuracy: 0.7208\n"
     ]
    },
    {
     "name": "stderr",
     "output_type": "stream",
     "text": [
      "Training: Epoch [65/100]: 100%|██████████████████████████████| 313/313 [00:14<00:00, 22.02it/s]                                            \n",
      "Evaluate: Epoch [65/100]: 100%|██████████████████████████████| 79/79 [00:00<00:00, 87.21it/s]                                              \n"
     ]
    },
    {
     "name": "stdout",
     "output_type": "stream",
     "text": [
      "VALID \t: Summary: Loss: 0.8314 Accuracy: 0.7112\n",
      "TRAIN \t: Summary: Loss: 0.7847 Accuracy: 0.7220\n"
     ]
    },
    {
     "name": "stderr",
     "output_type": "stream",
     "text": [
      "Training: Epoch [66/100]: 100%|██████████████████████████████| 313/313 [00:14<00:00, 22.25it/s]                                            \n",
      "Evaluate: Epoch [66/100]: 100%|██████████████████████████████| 79/79 [00:00<00:00, 86.94it/s]                                              \n"
     ]
    },
    {
     "name": "stdout",
     "output_type": "stream",
     "text": [
      "VALID \t: Summary: Loss: 0.8317 Accuracy: 0.7105\n",
      "TRAIN \t: Summary: Loss: 0.7744 Accuracy: 0.7256\n"
     ]
    },
    {
     "name": "stderr",
     "output_type": "stream",
     "text": [
      "Training: Epoch [67/100]: 100%|██████████████████████████████| 313/313 [00:13<00:00, 22.47it/s]                                            \n",
      "Evaluate: Epoch [67/100]: 100%|██████████████████████████████| 79/79 [00:00<00:00, 86.86it/s]                                              \n"
     ]
    },
    {
     "name": "stdout",
     "output_type": "stream",
     "text": [
      "VALID \t: Summary: Loss: 0.8309 Accuracy: 0.7138\n",
      "TRAIN \t: Summary: Loss: 0.7821 Accuracy: 0.7233\n"
     ]
    },
    {
     "name": "stderr",
     "output_type": "stream",
     "text": [
      "Training: Epoch [68/100]: 100%|██████████████████████████████| 313/313 [00:13<00:00, 22.45it/s]                                            \n",
      "Evaluate: Epoch [68/100]: 100%|██████████████████████████████| 79/79 [00:00<00:00, 87.53it/s]                                              \n"
     ]
    },
    {
     "name": "stdout",
     "output_type": "stream",
     "text": [
      "VALID \t: Summary: Loss: 0.8333 Accuracy: 0.7093\n",
      "TRAIN \t: Summary: Loss: 0.7806 Accuracy: 0.7242\n"
     ]
    },
    {
     "name": "stderr",
     "output_type": "stream",
     "text": [
      "Training: Epoch [69/100]: 100%|██████████████████████████████| 313/313 [00:13<00:00, 22.56it/s]                                            \n",
      "Evaluate: Epoch [69/100]: 100%|██████████████████████████████| 79/79 [00:00<00:00, 88.53it/s]                                              \n"
     ]
    },
    {
     "name": "stdout",
     "output_type": "stream",
     "text": [
      "VALID \t: Summary: Loss: 0.8325 Accuracy: 0.7113\n",
      "TRAIN \t: Summary: Loss: 0.7826 Accuracy: 0.7243\n"
     ]
    },
    {
     "name": "stderr",
     "output_type": "stream",
     "text": [
      "Training: Epoch [70/100]: 100%|██████████████████████████████| 313/313 [00:14<00:00, 22.26it/s]                                            \n",
      "Evaluate: Epoch [70/100]: 100%|██████████████████████████████| 79/79 [00:00<00:00, 86.97it/s]                                              \n"
     ]
    },
    {
     "name": "stdout",
     "output_type": "stream",
     "text": [
      "VALID \t: Summary: Loss: 0.8341 Accuracy: 0.7070\n",
      "TRAIN \t: Summary: Loss: 0.7774 Accuracy: 0.7250\n"
     ]
    },
    {
     "name": "stderr",
     "output_type": "stream",
     "text": [
      "Training: Epoch [71/100]: 100%|██████████████████████████████| 313/313 [00:14<00:00, 22.36it/s]                                            \n",
      "Evaluate: Epoch [71/100]: 100%|██████████████████████████████| 79/79 [00:00<00:00, 87.57it/s]                                              \n"
     ]
    },
    {
     "name": "stdout",
     "output_type": "stream",
     "text": [
      "VALID \t: Summary: Loss: 0.8314 Accuracy: 0.7108\n",
      "TRAIN \t: Summary: Loss: 0.7765 Accuracy: 0.7244\n"
     ]
    },
    {
     "name": "stderr",
     "output_type": "stream",
     "text": [
      "Training: Epoch [72/100]: 100%|██████████████████████████████| 313/313 [00:13<00:00, 22.45it/s]                                            \n",
      "Evaluate: Epoch [72/100]: 100%|██████████████████████████████| 79/79 [00:00<00:00, 85.53it/s]                                              \n"
     ]
    },
    {
     "name": "stdout",
     "output_type": "stream",
     "text": [
      "VALID \t: Summary: Loss: 0.8290 Accuracy: 0.7130\n",
      "TRAIN \t: Summary: Loss: 0.7764 Accuracy: 0.7268\n"
     ]
    },
    {
     "name": "stderr",
     "output_type": "stream",
     "text": [
      "Training: Epoch [73/100]: 100%|██████████████████████████████| 313/313 [00:14<00:00, 22.25it/s]                                            \n",
      "Evaluate: Epoch [73/100]: 100%|██████████████████████████████| 79/79 [00:00<00:00, 86.11it/s]                                              \n"
     ]
    },
    {
     "name": "stdout",
     "output_type": "stream",
     "text": [
      "VALID \t: Summary: Loss: 0.8290 Accuracy: 0.7106\n",
      "TRAIN \t: Summary: Loss: 0.7770 Accuracy: 0.7242\n"
     ]
    },
    {
     "name": "stderr",
     "output_type": "stream",
     "text": [
      "Training: Epoch [74/100]: 100%|██████████████████████████████| 313/313 [00:13<00:00, 22.56it/s]                                            \n",
      "Evaluate: Epoch [74/100]: 100%|██████████████████████████████| 79/79 [00:00<00:00, 82.57it/s]                                              \n"
     ]
    },
    {
     "name": "stdout",
     "output_type": "stream",
     "text": [
      "VALID \t: Summary: Loss: 0.8324 Accuracy: 0.7102\n",
      "TRAIN \t: Summary: Loss: 0.7759 Accuracy: 0.7251\n"
     ]
    },
    {
     "name": "stderr",
     "output_type": "stream",
     "text": [
      "Training: Epoch [75/100]: 100%|██████████████████████████████| 313/313 [00:14<00:00, 21.84it/s]                                            \n",
      "Evaluate: Epoch [75/100]: 100%|██████████████████████████████| 79/79 [00:00<00:00, 85.94it/s]                                              \n"
     ]
    },
    {
     "name": "stdout",
     "output_type": "stream",
     "text": [
      "VALID \t: Summary: Loss: 0.8282 Accuracy: 0.7130\n",
      "TRAIN \t: Summary: Loss: 0.7707 Accuracy: 0.7258\n"
     ]
    },
    {
     "name": "stderr",
     "output_type": "stream",
     "text": [
      "Training: Epoch [76/100]: 100%|██████████████████████████████| 313/313 [00:14<00:00, 21.43it/s]                                            \n",
      "Evaluate: Epoch [76/100]: 100%|██████████████████████████████| 79/79 [00:00<00:00, 87.38it/s]                                              \n"
     ]
    },
    {
     "name": "stdout",
     "output_type": "stream",
     "text": [
      "VALID \t: Summary: Loss: 0.8296 Accuracy: 0.7123\n",
      "TRAIN \t: Summary: Loss: 0.7647 Accuracy: 0.7300\n"
     ]
    },
    {
     "name": "stderr",
     "output_type": "stream",
     "text": [
      "Training: Epoch [77/100]: 100%|██████████████████████████████| 313/313 [00:13<00:00, 22.42it/s]                                            \n",
      "Evaluate: Epoch [77/100]: 100%|██████████████████████████████| 79/79 [00:00<00:00, 94.41it/s]                                              \n"
     ]
    },
    {
     "name": "stdout",
     "output_type": "stream",
     "text": [
      "VALID \t: Summary: Loss: 0.8283 Accuracy: 0.7127\n",
      "TRAIN \t: Summary: Loss: 0.7679 Accuracy: 0.7284\n"
     ]
    },
    {
     "name": "stderr",
     "output_type": "stream",
     "text": [
      "Training: Epoch [78/100]: 100%|██████████████████████████████| 313/313 [00:12<00:00, 24.74it/s]                                            \n",
      "Evaluate: Epoch [78/100]: 100%|██████████████████████████████| 79/79 [00:00<00:00, 94.25it/s]                                              \n"
     ]
    },
    {
     "name": "stdout",
     "output_type": "stream",
     "text": [
      "VALID \t: Summary: Loss: 0.8275 Accuracy: 0.7153\n",
      "TRAIN \t: Summary: Loss: 0.7665 Accuracy: 0.7286\n"
     ]
    },
    {
     "name": "stderr",
     "output_type": "stream",
     "text": [
      "Training: Epoch [79/100]: 100%|██████████████████████████████| 313/313 [00:13<00:00, 23.83it/s]                                            \n",
      "Evaluate: Epoch [79/100]: 100%|██████████████████████████████| 79/79 [00:00<00:00, 91.51it/s]                                              \n"
     ]
    },
    {
     "name": "stdout",
     "output_type": "stream",
     "text": [
      "VALID \t: Summary: Loss: 0.8430 Accuracy: 0.7103\n",
      "TRAIN \t: Summary: Loss: 0.7651 Accuracy: 0.7286\n"
     ]
    },
    {
     "name": "stderr",
     "output_type": "stream",
     "text": [
      "Training: Epoch [80/100]: 100%|██████████████████████████████| 313/313 [00:13<00:00, 23.79it/s]                                            \n",
      "Evaluate: Epoch [80/100]: 100%|██████████████████████████████| 79/79 [00:00<00:00, 93.08it/s]                                              \n"
     ]
    },
    {
     "name": "stdout",
     "output_type": "stream",
     "text": [
      "VALID \t: Summary: Loss: 0.8396 Accuracy: 0.7108\n",
      "TRAIN \t: Summary: Loss: 0.7682 Accuracy: 0.7282\n"
     ]
    },
    {
     "name": "stderr",
     "output_type": "stream",
     "text": [
      "Training: Epoch [81/100]: 100%|██████████████████████████████| 313/313 [00:12<00:00, 25.07it/s]                                            \n",
      "Evaluate: Epoch [81/100]: 100%|██████████████████████████████| 79/79 [00:00<00:00, 97.67it/s]                                              \n"
     ]
    },
    {
     "name": "stdout",
     "output_type": "stream",
     "text": [
      "VALID \t: Summary: Loss: 0.8325 Accuracy: 0.7109\n",
      "TRAIN \t: Summary: Loss: 0.7664 Accuracy: 0.7269\n"
     ]
    },
    {
     "name": "stderr",
     "output_type": "stream",
     "text": [
      "Training: Epoch [82/100]: 100%|██████████████████████████████| 313/313 [00:12<00:00, 25.26it/s]                                            \n",
      "Evaluate: Epoch [82/100]: 100%|██████████████████████████████| 79/79 [00:00<00:00, 97.31it/s]                                              \n"
     ]
    },
    {
     "name": "stdout",
     "output_type": "stream",
     "text": [
      "VALID \t: Summary: Loss: 0.8282 Accuracy: 0.7138\n",
      "TRAIN \t: Summary: Loss: 0.7709 Accuracy: 0.7257\n"
     ]
    },
    {
     "name": "stderr",
     "output_type": "stream",
     "text": [
      "Training: Epoch [83/100]: 100%|██████████████████████████████| 313/313 [00:12<00:00, 25.27it/s]                                            \n",
      "Evaluate: Epoch [83/100]: 100%|██████████████████████████████| 79/79 [00:00<00:00, 97.98it/s]                                              \n"
     ]
    },
    {
     "name": "stdout",
     "output_type": "stream",
     "text": [
      "VALID \t: Summary: Loss: 0.8252 Accuracy: 0.7138\n",
      "TRAIN \t: Summary: Loss: 0.7702 Accuracy: 0.7285\n"
     ]
    },
    {
     "name": "stderr",
     "output_type": "stream",
     "text": [
      "Training: Epoch [84/100]: 100%|██████████████████████████████| 313/313 [00:12<00:00, 25.21it/s]                                            \n",
      "Evaluate: Epoch [84/100]: 100%|██████████████████████████████| 79/79 [00:00<00:00, 97.11it/s]                                              \n"
     ]
    },
    {
     "name": "stdout",
     "output_type": "stream",
     "text": [
      "VALID \t: Summary: Loss: 0.8348 Accuracy: 0.7108\n",
      "TRAIN \t: Summary: Loss: 0.7711 Accuracy: 0.7267\n"
     ]
    },
    {
     "name": "stderr",
     "output_type": "stream",
     "text": [
      "Training: Epoch [85/100]: 100%|██████████████████████████████| 313/313 [00:12<00:00, 25.24it/s]                                            \n",
      "Evaluate: Epoch [85/100]: 100%|██████████████████████████████| 79/79 [00:00<00:00, 95.95it/s]                                              \n"
     ]
    },
    {
     "name": "stdout",
     "output_type": "stream",
     "text": [
      "VALID \t: Summary: Loss: 0.8300 Accuracy: 0.7138\n",
      "TRAIN \t: Summary: Loss: 0.7714 Accuracy: 0.7259\n"
     ]
    },
    {
     "name": "stderr",
     "output_type": "stream",
     "text": [
      "Training: Epoch [86/100]: 100%|██████████████████████████████| 313/313 [00:12<00:00, 24.98it/s]                                            \n",
      "Evaluate: Epoch [86/100]: 100%|██████████████████████████████| 79/79 [00:00<00:00, 97.66it/s]                                              \n"
     ]
    },
    {
     "name": "stdout",
     "output_type": "stream",
     "text": [
      "VALID \t: Summary: Loss: 0.8325 Accuracy: 0.7122\n",
      "TRAIN \t: Summary: Loss: 0.7604 Accuracy: 0.7294\n"
     ]
    },
    {
     "name": "stderr",
     "output_type": "stream",
     "text": [
      "Training: Epoch [87/100]: 100%|██████████████████████████████| 313/313 [00:12<00:00, 24.70it/s]                                            \n",
      "Evaluate: Epoch [87/100]: 100%|██████████████████████████████| 79/79 [00:00<00:00, 95.76it/s]                                              \n"
     ]
    },
    {
     "name": "stdout",
     "output_type": "stream",
     "text": [
      "VALID \t: Summary: Loss: 0.8294 Accuracy: 0.7094\n",
      "TRAIN \t: Summary: Loss: 0.7595 Accuracy: 0.7326\n"
     ]
    },
    {
     "name": "stderr",
     "output_type": "stream",
     "text": [
      "Training: Epoch [88/100]: 100%|██████████████████████████████| 313/313 [00:12<00:00, 24.60it/s]                                            \n",
      "Evaluate: Epoch [88/100]: 100%|██████████████████████████████| 79/79 [00:00<00:00, 87.37it/s]                                              \n"
     ]
    },
    {
     "name": "stdout",
     "output_type": "stream",
     "text": [
      "VALID \t: Summary: Loss: 0.8263 Accuracy: 0.7127\n",
      "TRAIN \t: Summary: Loss: 0.7596 Accuracy: 0.7311\n"
     ]
    },
    {
     "name": "stderr",
     "output_type": "stream",
     "text": [
      "Training: Epoch [89/100]: 100%|██████████████████████████████| 313/313 [00:12<00:00, 24.77it/s]                                            \n",
      "Evaluate: Epoch [89/100]: 100%|██████████████████████████████| 79/79 [00:00<00:00, 98.03it/s]                                              \n"
     ]
    },
    {
     "name": "stdout",
     "output_type": "stream",
     "text": [
      "VALID \t: Summary: Loss: 0.8303 Accuracy: 0.7111\n",
      "TRAIN \t: Summary: Loss: 0.7617 Accuracy: 0.7294\n"
     ]
    },
    {
     "name": "stderr",
     "output_type": "stream",
     "text": [
      "Training: Epoch [90/100]: 100%|██████████████████████████████| 313/313 [00:12<00:00, 25.31it/s]                                            \n",
      "Evaluate: Epoch [90/100]: 100%|██████████████████████████████| 79/79 [00:00<00:00, 97.56it/s]                                              \n"
     ]
    },
    {
     "name": "stdout",
     "output_type": "stream",
     "text": [
      "VALID \t: Summary: Loss: 0.8328 Accuracy: 0.7117\n",
      "TRAIN \t: Summary: Loss: 0.7623 Accuracy: 0.7285\n"
     ]
    },
    {
     "name": "stderr",
     "output_type": "stream",
     "text": [
      "Training: Epoch [91/100]: 100%|██████████████████████████████| 313/313 [00:12<00:00, 25.27it/s]                                            \n",
      "Evaluate: Epoch [91/100]: 100%|██████████████████████████████| 79/79 [00:00<00:00, 90.08it/s]                                              \n"
     ]
    },
    {
     "name": "stdout",
     "output_type": "stream",
     "text": [
      "VALID \t: Summary: Loss: 0.8382 Accuracy: 0.7106\n",
      "TRAIN \t: Summary: Loss: 0.7580 Accuracy: 0.7302\n"
     ]
    },
    {
     "name": "stderr",
     "output_type": "stream",
     "text": [
      "Training: Epoch [92/100]: 100%|██████████████████████████████| 313/313 [00:12<00:00, 25.14it/s]                                            \n",
      "Evaluate: Epoch [92/100]: 100%|██████████████████████████████| 79/79 [00:00<00:00, 97.62it/s]                                              \n"
     ]
    },
    {
     "name": "stdout",
     "output_type": "stream",
     "text": [
      "VALID \t: Summary: Loss: 0.8239 Accuracy: 0.7143\n",
      "TRAIN \t: Summary: Loss: 0.7657 Accuracy: 0.7293\n"
     ]
    },
    {
     "name": "stderr",
     "output_type": "stream",
     "text": [
      "Training: Epoch [93/100]: 100%|██████████████████████████████| 313/313 [00:12<00:00, 25.30it/s]                                            \n",
      "Evaluate: Epoch [93/100]: 100%|██████████████████████████████| 79/79 [00:00<00:00, 97.71it/s]                                              \n"
     ]
    },
    {
     "name": "stdout",
     "output_type": "stream",
     "text": [
      "VALID \t: Summary: Loss: 0.8244 Accuracy: 0.7146\n",
      "TRAIN \t: Summary: Loss: 0.7576 Accuracy: 0.7335\n"
     ]
    },
    {
     "name": "stderr",
     "output_type": "stream",
     "text": [
      "Training: Epoch [94/100]: 100%|██████████████████████████████| 313/313 [00:12<00:00, 25.29it/s]                                            \n",
      "Evaluate: Epoch [94/100]: 100%|██████████████████████████████| 79/79 [00:00<00:00, 94.22it/s]                                              \n"
     ]
    },
    {
     "name": "stdout",
     "output_type": "stream",
     "text": [
      "VALID \t: Summary: Loss: 0.8276 Accuracy: 0.7109\n",
      "TRAIN \t: Summary: Loss: 0.7610 Accuracy: 0.7281\n"
     ]
    },
    {
     "name": "stderr",
     "output_type": "stream",
     "text": [
      "Training: Epoch [95/100]: 100%|██████████████████████████████| 313/313 [00:12<00:00, 25.29it/s]                                            \n",
      "Evaluate: Epoch [95/100]: 100%|██████████████████████████████| 79/79 [00:00<00:00, 99.16it/s]                                              \n"
     ]
    },
    {
     "name": "stdout",
     "output_type": "stream",
     "text": [
      "VALID \t: Summary: Loss: 0.8262 Accuracy: 0.7153\n",
      "TRAIN \t: Summary: Loss: 0.7580 Accuracy: 0.7320\n"
     ]
    },
    {
     "name": "stderr",
     "output_type": "stream",
     "text": [
      "Training: Epoch [96/100]: 100%|██████████████████████████████| 313/313 [00:12<00:00, 25.16it/s]                                            \n",
      "Evaluate: Epoch [96/100]: 100%|██████████████████████████████| 79/79 [00:00<00:00, 97.06it/s]                                              \n"
     ]
    },
    {
     "name": "stdout",
     "output_type": "stream",
     "text": [
      "VALID \t: Summary: Loss: 0.8379 Accuracy: 0.7106\n",
      "TRAIN \t: Summary: Loss: 0.7601 Accuracy: 0.7301\n"
     ]
    },
    {
     "name": "stderr",
     "output_type": "stream",
     "text": [
      "Training: Epoch [97/100]: 100%|██████████████████████████████| 313/313 [00:12<00:00, 25.31it/s]                                            \n",
      "Evaluate: Epoch [97/100]: 100%|██████████████████████████████| 79/79 [00:00<00:00, 93.02it/s]                                              \n"
     ]
    },
    {
     "name": "stdout",
     "output_type": "stream",
     "text": [
      "VALID \t: Summary: Loss: 0.8263 Accuracy: 0.7136\n",
      "TRAIN \t: Summary: Loss: 0.7634 Accuracy: 0.7288\n"
     ]
    },
    {
     "name": "stderr",
     "output_type": "stream",
     "text": [
      "Training: Epoch [98/100]: 100%|██████████████████████████████| 313/313 [00:12<00:00, 25.20it/s]                                            \n",
      "Evaluate: Epoch [98/100]: 100%|██████████████████████████████| 79/79 [00:00<00:00, 96.41it/s]                                              \n"
     ]
    },
    {
     "name": "stdout",
     "output_type": "stream",
     "text": [
      "VALID \t: Summary: Loss: 0.8236 Accuracy: 0.7164\n",
      "TRAIN \t: Summary: Loss: 0.7668 Accuracy: 0.7287\n"
     ]
    },
    {
     "name": "stderr",
     "output_type": "stream",
     "text": [
      "Training: Epoch [99/100]: 100%|██████████████████████████████| 313/313 [00:12<00:00, 25.37it/s]                                            \n",
      "Evaluate: Epoch [99/100]: 100%|██████████████████████████████| 79/79 [00:00<00:00, 95.01it/s]                                              \n"
     ]
    },
    {
     "name": "stdout",
     "output_type": "stream",
     "text": [
      "VALID \t: Summary: Loss: 0.8228 Accuracy: 0.7126\n",
      "TRAIN \t: Summary: Loss: 0.7577 Accuracy: 0.7294\n"
     ]
    },
    {
     "name": "stderr",
     "output_type": "stream",
     "text": [
      "Training: Epoch [100/100]: 100%|██████████████████████████████| 313/313 [00:12<00:00, 24.97it/s]                                           \n",
      "Evaluate: Epoch [100/100]: 100%|██████████████████████████████| 79/79 [00:00<00:00, 97.49it/s]                                             \n"
     ]
    },
    {
     "name": "stdout",
     "output_type": "stream",
     "text": [
      "VALID \t: Summary: Loss: 0.8360 Accuracy: 0.7146\n",
      "TRAIN \t: Summary: Loss: 0.7541 Accuracy: 0.7339\n"
     ]
    },
    {
     "data": {
      "image/png": "[encoded data removed]",
      "text/plain": [
       "<Figure size 648x432 with 1 Axes>"
      ]
     },
     "metadata": {
      "needs_background": "light"
     },
     "output_type": "display_data"
    },
    {
     "data": {
      "image/png": "[encoded data removed]",
      "text/plain": [
       "<Figure size 648x432 with 1 Axes>"
      ]
     },
     "metadata": {
      "needs_background": "light"
     },
     "output_type": "display_data"
    }
   ],
   "source": [
    "train_transforms = [\n",
    "    {\n",
    "        \"name\": \"ToTensor\",\n",
    "        \"args\": {},\n",
    "    },\n",
    "    {\n",
    "        \"name\": \"Normalize\",\n",
    "        \"args\": {\"mean\": (0.5, 0.5, 0.5), \"std\": (0.5, 0.5, 0.5)},\n",
    "    },\n",
    "    {\n",
    "        \"name\": \"RandomAffine\",\n",
    "        \"args\": {\"degrees\": 10, \"translate\": (0.1, 0.1), \"scale\": (0.8, 1.2)},\n",
    "    },\n",
    "]\n",
    "valid_transforms = [\n",
    "    {\n",
    "        \"name\": \"ToTensor\",\n",
    "        \"args\": {},\n",
    "    },\n",
    "    {\n",
    "        \"name\": \"Normalize\",\n",
    "        \"args\": {\"mean\": (0.5, 0.5, 0.5), \"std\": (0.5, 0.5, 0.5)},\n",
    "    },\n",
    "]\n",
    "\n",
    "network = \"cnn\"\n",
    "num_epochs = 100\n",
    "batch_size = 128\n",
    "opt_args = {\"name\": \"Adam\", \"lr\": 1e-3}\n",
    "\n",
    "sch_args = None\n",
    "sch_args = {\"name\": \"MultiStepLR\", \"milestones\": [50], \"gamma\": 0.1}\n",
    "\n",
    "net, loss_fn = experiment(\n",
    "    train_transforms, valid_transforms, network, num_epochs, batch_size, opt_args, sch_args=sch_args,\n",
    ")"
   ]
  },
  {
   "cell_type": "code",
   "execution_count": 6,
   "id": "ba16c236-665d-4fd0-a661-d82a2035d41a",
   "metadata": {},
   "outputs": [
    {
     "name": "stdout",
     "output_type": "stream",
     "text": [
      "----------------------------------------------------------------\n",
      "        Layer (type)               Output Shape         Param #\n",
      "================================================================\n",
      "            Conv2d-1            [-1, 6, 28, 28]             456\n",
      "              ReLU-2            [-1, 6, 28, 28]               0\n",
      "         AvgPool2d-3            [-1, 6, 14, 14]               0\n",
      "            Conv2d-4           [-1, 16, 10, 10]           2,416\n",
      "              ReLU-5           [-1, 16, 10, 10]               0\n",
      "            Conv2d-6             [-1, 64, 6, 6]          25,664\n",
      "              ReLU-7             [-1, 64, 6, 6]               0\n",
      "            Conv2d-8            [-1, 128, 2, 2]         204,928\n",
      "              ReLU-9            [-1, 128, 2, 2]               0\n",
      "        AvgPool2d-10            [-1, 128, 1, 1]               0\n",
      "           Linear-11                   [-1, 84]          10,836\n",
      "             ReLU-12                   [-1, 84]               0\n",
      "           Linear-13                   [-1, 10]             850\n",
      "================================================================\n",
      "Total params: 245,150\n",
      "Trainable params: 245,150\n",
      "Non-trainable params: 0\n",
      "----------------------------------------------------------------\n",
      "Input size (MB): 0.01\n",
      "Forward/backward pass size (MB): 0.15\n",
      "Params size (MB): 0.94\n",
      "Estimated Total Size (MB): 1.10\n",
      "----------------------------------------------------------------\n"
     ]
    }
   ],
   "source": [
    "summary(net, input_size=(3, 32, 32))"
   ]
  },
  {
   "cell_type": "code",
   "execution_count": 7,
   "id": "4747220c-f8d2-4009-bf66-e12e3074ff07",
   "metadata": {},
   "outputs": [],
   "source": [
    "test_transforms = [\n",
    "    {\n",
    "        \"name\": \"ToTensor\",\n",
    "        \"args\": {},\n",
    "    },\n",
    "    {\n",
    "        \"name\": \"Normalize\",\n",
    "        \"args\": {\"mean\": (0.5, 0.5, 0.5), \"std\": (0.5, 0.5, 0.5)},\n",
    "    },\n",
    "]\n",
    "test_transform = InputTransform(test_transforms)\n",
    "test_dataset = CIFAR(root=\"../datasets/CIFAR-10/\", mode=\"test\", transform=test_transform)\n",
    "test_loader = get_dataloader(test_dataset, train=False, batch_size=128, num_workers=0)"
   ]
  },
  {
   "cell_type": "code",
   "execution_count": 8,
   "id": "c96173df-3863-42d5-8295-f20f4233f02e",
   "metadata": {},
   "outputs": [
    {
     "name": "stderr",
     "output_type": "stream",
     "text": [
      "Evaluate: Epoch [1/1]: 100%|██████████████████████████████| 79/79 [00:00<00:00, 97.51it/s]                                                 "
     ]
    },
    {
     "name": "stdout",
     "output_type": "stream",
     "text": [
      "TEST \t: Summary: Loss: 0.8653 Accuracy: 0.7032\n"
     ]
    },
    {
     "name": "stderr",
     "output_type": "stream",
     "text": [
      "\n"
     ]
    },
    {
     "data": {
      "text/plain": [
       "(0.8652956500838075, 0.7032)"
      ]
     },
     "execution_count": 8,
     "metadata": {},
     "output_type": "execute_result"
    }
   ],
   "source": [
    "evaluate(net, test_loader, loss_fn, 1, 1, \"test\")"
   ]
  },
  {
   "cell_type": "code",
   "execution_count": 5,
   "id": "eff8affe-4375-4d1a-afa5-3d4ee1932270",
   "metadata": {
    "tags": []
   },
   "outputs": [
    {
     "name": "stdout",
     "output_type": "stream",
     "text": [
      "[{'name': 'ToTensor', 'args': {}}, {'name': 'Normalize', 'args': {'mean': (0.5, 0.5, 0.5), 'std': (0.5, 0.5, 0.5)}}, {'name': 'RandomAffine', 'args': {'degrees': 10, 'translate': (0.1, 0.1), 'scale': (0.8, 1.2)}}, {'name': 'RandomHorizontalFlip', 'args': {'p': 0.5}}, {'name': 'GaussianBlur', 'args': {'kernel_size': 3}}]\n",
      "200\n",
      "128\n",
      "{'name': 'Adam', 'lr': 0.0001}\n",
      "{'name': 'MultiStepLR', 'milestones': [50, 100, 150], 'gamma': 0.5}\n",
      "Selecting 40000 for train.\n",
      "Selecting 10000 for valid.\n"
     ]
    },
    {
     "name": "stderr",
     "output_type": "stream",
     "text": [
      "Training: Epoch [1/200]: 100%|██████████████████████████████| 313/313 [00:11<00:00, 26.13it/s]                                             \n",
      "Evaluate: Epoch [1/200]: 100%|██████████████████████████████| 79/79 [00:00<00:00, 201.93it/s]                                              \n"
     ]
    },
    {
     "name": "stdout",
     "output_type": "stream",
     "text": [
      "VALID \t: Summary: Loss: 1.6523 Accuracy: 0.4132\n",
      "TRAIN \t: Summary: Loss: 1.8843 Accuracy: 0.3275\n"
     ]
    },
    {
     "name": "stderr",
     "output_type": "stream",
     "text": [
      "Training: Epoch [2/200]: 100%|██████████████████████████████| 313/313 [00:12<00:00, 25.73it/s]                                             \n",
      "Evaluate: Epoch [2/200]: 100%|██████████████████████████████| 79/79 [00:00<00:00, 197.56it/s]                                              \n"
     ]
    },
    {
     "name": "stdout",
     "output_type": "stream",
     "text": [
      "VALID \t: Summary: Loss: 1.6062 Accuracy: 0.4327\n",
      "TRAIN \t: Summary: Loss: 1.7201 Accuracy: 0.3887\n"
     ]
    },
    {
     "name": "stderr",
     "output_type": "stream",
     "text": [
      "Training: Epoch [3/200]: 100%|██████████████████████████████| 313/313 [00:12<00:00, 25.47it/s]                                             \n",
      "Evaluate: Epoch [3/200]: 100%|██████████████████████████████| 79/79 [00:00<00:00, 209.95it/s]                                              \n"
     ]
    },
    {
     "name": "stdout",
     "output_type": "stream",
     "text": [
      "VALID \t: Summary: Loss: 1.5213 Accuracy: 0.4555\n",
      "TRAIN \t: Summary: Loss: 1.6599 Accuracy: 0.4099\n"
     ]
    },
    {
     "name": "stderr",
     "output_type": "stream",
     "text": [
      "Training: Epoch [4/200]: 100%|██████████████████████████████| 313/313 [00:13<00:00, 23.04it/s]                                             \n",
      "Evaluate: Epoch [4/200]: 100%|██████████████████████████████| 79/79 [00:00<00:00, 194.16it/s]                                              \n"
     ]
    },
    {
     "name": "stdout",
     "output_type": "stream",
     "text": [
      "VALID \t: Summary: Loss: 1.5072 Accuracy: 0.4609\n",
      "TRAIN \t: Summary: Loss: 1.6158 Accuracy: 0.4259\n"
     ]
    },
    {
     "name": "stderr",
     "output_type": "stream",
     "text": [
      "Training: Epoch [5/200]: 100%|██████████████████████████████| 313/313 [00:12<00:00, 24.86it/s]                                             \n",
      "Evaluate: Epoch [5/200]: 100%|██████████████████████████████| 79/79 [00:00<00:00, 207.03it/s]                                              \n"
     ]
    },
    {
     "name": "stdout",
     "output_type": "stream",
     "text": [
      "VALID \t: Summary: Loss: 1.4634 Accuracy: 0.4773\n",
      "TRAIN \t: Summary: Loss: 1.5910 Accuracy: 0.4357\n"
     ]
    },
    {
     "name": "stderr",
     "output_type": "stream",
     "text": [
      "Training: Epoch [6/200]: 100%|██████████████████████████████| 313/313 [00:12<00:00, 24.68it/s]                                             \n",
      "Evaluate: Epoch [6/200]: 100%|██████████████████████████████| 79/79 [00:00<00:00, 203.20it/s]                                              \n"
     ]
    },
    {
     "name": "stdout",
     "output_type": "stream",
     "text": [
      "VALID \t: Summary: Loss: 1.4618 Accuracy: 0.4796\n",
      "TRAIN \t: Summary: Loss: 1.5603 Accuracy: 0.4488\n"
     ]
    },
    {
     "name": "stderr",
     "output_type": "stream",
     "text": [
      "Training: Epoch [7/200]: 100%|██████████████████████████████| 313/313 [00:12<00:00, 24.19it/s]                                             \n",
      "Evaluate: Epoch [7/200]: 100%|██████████████████████████████| 79/79 [00:00<00:00, 198.94it/s]                                              \n"
     ]
    },
    {
     "name": "stdout",
     "output_type": "stream",
     "text": [
      "VALID \t: Summary: Loss: 1.4307 Accuracy: 0.4862\n",
      "TRAIN \t: Summary: Loss: 1.5378 Accuracy: 0.4570\n"
     ]
    },
    {
     "name": "stderr",
     "output_type": "stream",
     "text": [
      "Training: Epoch [8/200]: 100%|██████████████████████████████| 313/313 [00:12<00:00, 24.09it/s]                                             \n",
      "Evaluate: Epoch [8/200]: 100%|██████████████████████████████| 79/79 [00:00<00:00, 185.39it/s]                                              \n"
     ]
    },
    {
     "name": "stdout",
     "output_type": "stream",
     "text": [
      "VALID \t: Summary: Loss: 1.4079 Accuracy: 0.4961\n",
      "TRAIN \t: Summary: Loss: 1.5214 Accuracy: 0.4616\n"
     ]
    },
    {
     "name": "stderr",
     "output_type": "stream",
     "text": [
      "Training: Epoch [9/200]: 100%|██████████████████████████████| 313/313 [00:12<00:00, 24.48it/s]                                             \n",
      "Evaluate: Epoch [9/200]: 100%|██████████████████████████████| 79/79 [00:00<00:00, 202.06it/s]                                              \n"
     ]
    },
    {
     "name": "stdout",
     "output_type": "stream",
     "text": [
      "VALID \t: Summary: Loss: 1.3957 Accuracy: 0.4989\n",
      "TRAIN \t: Summary: Loss: 1.4989 Accuracy: 0.4695\n"
     ]
    },
    {
     "name": "stderr",
     "output_type": "stream",
     "text": [
      "Training: Epoch [10/200]: 100%|██████████████████████████████| 313/313 [00:12<00:00, 25.87it/s]                                            \n",
      "Evaluate: Epoch [10/200]: 100%|██████████████████████████████| 79/79 [00:00<00:00, 210.38it/s]                                             \n"
     ]
    },
    {
     "name": "stdout",
     "output_type": "stream",
     "text": [
      "VALID \t: Summary: Loss: 1.3706 Accuracy: 0.5087\n",
      "TRAIN \t: Summary: Loss: 1.4802 Accuracy: 0.4793\n"
     ]
    },
    {
     "name": "stderr",
     "output_type": "stream",
     "text": [
      "Training: Epoch [11/200]: 100%|██████████████████████████████| 313/313 [00:12<00:00, 25.98it/s]                                            \n",
      "Evaluate: Epoch [11/200]: 100%|██████████████████████████████| 79/79 [00:00<00:00, 212.91it/s]                                             \n"
     ]
    },
    {
     "name": "stdout",
     "output_type": "stream",
     "text": [
      "VALID \t: Summary: Loss: 1.3656 Accuracy: 0.5103\n",
      "TRAIN \t: Summary: Loss: 1.4683 Accuracy: 0.4817\n"
     ]
    },
    {
     "name": "stderr",
     "output_type": "stream",
     "text": [
      "Training: Epoch [12/200]: 100%|██████████████████████████████| 313/313 [00:12<00:00, 25.97it/s]                                            \n",
      "Evaluate: Epoch [12/200]: 100%|██████████████████████████████| 79/79 [00:00<00:00, 207.77it/s]                                             \n"
     ]
    },
    {
     "name": "stdout",
     "output_type": "stream",
     "text": [
      "VALID \t: Summary: Loss: 1.3538 Accuracy: 0.5138\n",
      "TRAIN \t: Summary: Loss: 1.4538 Accuracy: 0.4890\n"
     ]
    },
    {
     "name": "stderr",
     "output_type": "stream",
     "text": [
      "Training: Epoch [13/200]: 100%|██████████████████████████████| 313/313 [00:12<00:00, 25.76it/s]                                            \n",
      "Evaluate: Epoch [13/200]: 100%|██████████████████████████████| 79/79 [00:00<00:00, 208.98it/s]                                             \n"
     ]
    },
    {
     "name": "stdout",
     "output_type": "stream",
     "text": [
      "VALID \t: Summary: Loss: 1.3457 Accuracy: 0.5223\n",
      "TRAIN \t: Summary: Loss: 1.4415 Accuracy: 0.4921\n"
     ]
    },
    {
     "name": "stderr",
     "output_type": "stream",
     "text": [
      "Training: Epoch [14/200]: 100%|██████████████████████████████| 313/313 [00:12<00:00, 25.84it/s]                                            \n",
      "Evaluate: Epoch [14/200]: 100%|██████████████████████████████| 79/79 [00:00<00:00, 209.10it/s]                                             \n"
     ]
    },
    {
     "name": "stdout",
     "output_type": "stream",
     "text": [
      "VALID \t: Summary: Loss: 1.3256 Accuracy: 0.5271\n",
      "TRAIN \t: Summary: Loss: 1.4272 Accuracy: 0.4978\n"
     ]
    },
    {
     "name": "stderr",
     "output_type": "stream",
     "text": [
      "Training: Epoch [15/200]: 100%|██████████████████████████████| 313/313 [00:12<00:00, 25.94it/s]                                            \n",
      "Evaluate: Epoch [15/200]: 100%|██████████████████████████████| 79/79 [00:00<00:00, 208.82it/s]                                             \n"
     ]
    },
    {
     "name": "stdout",
     "output_type": "stream",
     "text": [
      "VALID \t: Summary: Loss: 1.3254 Accuracy: 0.5304\n",
      "TRAIN \t: Summary: Loss: 1.4191 Accuracy: 0.4995\n"
     ]
    },
    {
     "name": "stderr",
     "output_type": "stream",
     "text": [
      "Training: Epoch [16/200]: 100%|██████████████████████████████| 313/313 [00:12<00:00, 25.94it/s]                                            \n",
      "Evaluate: Epoch [16/200]: 100%|██████████████████████████████| 79/79 [00:00<00:00, 207.55it/s]                                             \n"
     ]
    },
    {
     "name": "stdout",
     "output_type": "stream",
     "text": [
      "VALID \t: Summary: Loss: 1.3055 Accuracy: 0.5380\n",
      "TRAIN \t: Summary: Loss: 1.4071 Accuracy: 0.5021\n"
     ]
    },
    {
     "name": "stderr",
     "output_type": "stream",
     "text": [
      "Training: Epoch [17/200]: 100%|██████████████████████████████| 313/313 [00:12<00:00, 25.92it/s]                                            \n",
      "Evaluate: Epoch [17/200]: 100%|██████████████████████████████| 79/79 [00:00<00:00, 211.19it/s]                                             \n"
     ]
    },
    {
     "name": "stdout",
     "output_type": "stream",
     "text": [
      "VALID \t: Summary: Loss: 1.2996 Accuracy: 0.5374\n",
      "TRAIN \t: Summary: Loss: 1.3964 Accuracy: 0.5073\n"
     ]
    },
    {
     "name": "stderr",
     "output_type": "stream",
     "text": [
      "Training: Epoch [18/200]: 100%|██████████████████████████████| 313/313 [00:12<00:00, 26.02it/s]                                            \n",
      "Evaluate: Epoch [18/200]: 100%|██████████████████████████████| 79/79 [00:00<00:00, 210.06it/s]                                             \n"
     ]
    },
    {
     "name": "stdout",
     "output_type": "stream",
     "text": [
      "VALID \t: Summary: Loss: 1.2889 Accuracy: 0.5370\n",
      "TRAIN \t: Summary: Loss: 1.3880 Accuracy: 0.5114\n"
     ]
    },
    {
     "name": "stderr",
     "output_type": "stream",
     "text": [
      "Training: Epoch [19/200]: 100%|██████████████████████████████| 313/313 [00:12<00:00, 25.98it/s]                                            \n",
      "Evaluate: Epoch [19/200]: 100%|██████████████████████████████| 79/79 [00:00<00:00, 210.54it/s]                                             \n"
     ]
    },
    {
     "name": "stdout",
     "output_type": "stream",
     "text": [
      "VALID \t: Summary: Loss: 1.2802 Accuracy: 0.5461\n",
      "TRAIN \t: Summary: Loss: 1.3814 Accuracy: 0.5131\n"
     ]
    },
    {
     "name": "stderr",
     "output_type": "stream",
     "text": [
      "Training: Epoch [20/200]: 100%|██████████████████████████████| 313/313 [00:12<00:00, 25.63it/s]                                            \n",
      "Evaluate: Epoch [20/200]: 100%|██████████████████████████████| 79/79 [00:00<00:00, 209.12it/s]                                             \n"
     ]
    },
    {
     "name": "stdout",
     "output_type": "stream",
     "text": [
      "VALID \t: Summary: Loss: 1.2668 Accuracy: 0.5530\n",
      "TRAIN \t: Summary: Loss: 1.3696 Accuracy: 0.5149\n"
     ]
    },
    {
     "name": "stderr",
     "output_type": "stream",
     "text": [
      "Training: Epoch [21/200]: 100%|██████████████████████████████| 313/313 [00:12<00:00, 26.08it/s]                                            \n",
      "Evaluate: Epoch [21/200]: 100%|██████████████████████████████| 79/79 [00:00<00:00, 205.69it/s]                                             \n"
     ]
    },
    {
     "name": "stdout",
     "output_type": "stream",
     "text": [
      "VALID \t: Summary: Loss: 1.2736 Accuracy: 0.5473\n",
      "TRAIN \t: Summary: Loss: 1.3654 Accuracy: 0.5212\n"
     ]
    },
    {
     "name": "stderr",
     "output_type": "stream",
     "text": [
      "Training: Epoch [22/200]: 100%|██████████████████████████████| 313/313 [00:12<00:00, 25.63it/s]                                            \n",
      "Evaluate: Epoch [22/200]: 100%|██████████████████████████████| 79/79 [00:00<00:00, 206.97it/s]                                             \n"
     ]
    },
    {
     "name": "stdout",
     "output_type": "stream",
     "text": [
      "VALID \t: Summary: Loss: 1.2581 Accuracy: 0.5551\n",
      "TRAIN \t: Summary: Loss: 1.3581 Accuracy: 0.5194\n"
     ]
    },
    {
     "name": "stderr",
     "output_type": "stream",
     "text": [
      "Training: Epoch [23/200]: 100%|██████████████████████████████| 313/313 [00:12<00:00, 26.00it/s]                                            \n",
      "Evaluate: Epoch [23/200]: 100%|██████████████████████████████| 79/79 [00:00<00:00, 210.57it/s]                                             \n"
     ]
    },
    {
     "name": "stdout",
     "output_type": "stream",
     "text": [
      "VALID \t: Summary: Loss: 1.2674 Accuracy: 0.5498\n",
      "TRAIN \t: Summary: Loss: 1.3489 Accuracy: 0.5246\n"
     ]
    },
    {
     "name": "stderr",
     "output_type": "stream",
     "text": [
      "Training: Epoch [24/200]: 100%|██████████████████████████████| 313/313 [00:12<00:00, 25.38it/s]                                            \n",
      "Evaluate: Epoch [24/200]: 100%|██████████████████████████████| 79/79 [00:00<00:00, 202.64it/s]                                             \n"
     ]
    },
    {
     "name": "stdout",
     "output_type": "stream",
     "text": [
      "VALID \t: Summary: Loss: 1.2529 Accuracy: 0.5524\n",
      "TRAIN \t: Summary: Loss: 1.3449 Accuracy: 0.5265\n"
     ]
    },
    {
     "name": "stderr",
     "output_type": "stream",
     "text": [
      "Training: Epoch [25/200]: 100%|██████████████████████████████| 313/313 [00:12<00:00, 25.35it/s]                                            \n",
      "Evaluate: Epoch [25/200]: 100%|██████████████████████████████| 79/79 [00:00<00:00, 205.96it/s]                                             \n"
     ]
    },
    {
     "name": "stdout",
     "output_type": "stream",
     "text": [
      "VALID \t: Summary: Loss: 1.2503 Accuracy: 0.5558\n",
      "TRAIN \t: Summary: Loss: 1.3364 Accuracy: 0.5283\n"
     ]
    },
    {
     "name": "stderr",
     "output_type": "stream",
     "text": [
      "Training: Epoch [26/200]: 100%|██████████████████████████████| 313/313 [00:12<00:00, 25.52it/s]                                            \n",
      "Evaluate: Epoch [26/200]: 100%|██████████████████████████████| 79/79 [00:00<00:00, 208.99it/s]                                             \n"
     ]
    },
    {
     "name": "stdout",
     "output_type": "stream",
     "text": [
      "VALID \t: Summary: Loss: 1.2436 Accuracy: 0.5579\n",
      "TRAIN \t: Summary: Loss: 1.3281 Accuracy: 0.5334\n"
     ]
    },
    {
     "name": "stderr",
     "output_type": "stream",
     "text": [
      "Training: Epoch [27/200]: 100%|██████████████████████████████| 313/313 [00:12<00:00, 25.88it/s]                                            \n",
      "Evaluate: Epoch [27/200]: 100%|██████████████████████████████| 79/79 [00:00<00:00, 210.69it/s]                                             \n"
     ]
    },
    {
     "name": "stdout",
     "output_type": "stream",
     "text": [
      "VALID \t: Summary: Loss: 1.2431 Accuracy: 0.5546\n",
      "TRAIN \t: Summary: Loss: 1.3267 Accuracy: 0.5326\n"
     ]
    },
    {
     "name": "stderr",
     "output_type": "stream",
     "text": [
      "Training: Epoch [28/200]: 100%|██████████████████████████████| 313/313 [00:12<00:00, 26.00it/s]                                            \n",
      "Evaluate: Epoch [28/200]: 100%|██████████████████████████████| 79/79 [00:00<00:00, 204.78it/s]                                             \n"
     ]
    },
    {
     "name": "stdout",
     "output_type": "stream",
     "text": [
      "VALID \t: Summary: Loss: 1.2417 Accuracy: 0.5597\n",
      "TRAIN \t: Summary: Loss: 1.3206 Accuracy: 0.5334\n"
     ]
    },
    {
     "name": "stderr",
     "output_type": "stream",
     "text": [
      "Training: Epoch [29/200]: 100%|██████████████████████████████| 313/313 [00:12<00:00, 26.04it/s]                                            \n",
      "Evaluate: Epoch [29/200]: 100%|██████████████████████████████| 79/79 [00:00<00:00, 206.16it/s]                                             \n"
     ]
    },
    {
     "name": "stdout",
     "output_type": "stream",
     "text": [
      "VALID \t: Summary: Loss: 1.2446 Accuracy: 0.5620\n",
      "TRAIN \t: Summary: Loss: 1.3157 Accuracy: 0.5358\n"
     ]
    },
    {
     "name": "stderr",
     "output_type": "stream",
     "text": [
      "Training: Epoch [30/200]: 100%|██████████████████████████████| 313/313 [00:12<00:00, 25.99it/s]                                            \n",
      "Evaluate: Epoch [30/200]: 100%|██████████████████████████████| 79/79 [00:00<00:00, 212.67it/s]                                             \n"
     ]
    },
    {
     "name": "stdout",
     "output_type": "stream",
     "text": [
      "VALID \t: Summary: Loss: 1.2279 Accuracy: 0.5675\n",
      "TRAIN \t: Summary: Loss: 1.3096 Accuracy: 0.5379\n"
     ]
    },
    {
     "name": "stderr",
     "output_type": "stream",
     "text": [
      "Training: Epoch [31/200]: 100%|██████████████████████████████| 313/313 [00:12<00:00, 26.02it/s]                                            \n",
      "Evaluate: Epoch [31/200]: 100%|██████████████████████████████| 79/79 [00:00<00:00, 207.54it/s]                                             \n"
     ]
    },
    {
     "name": "stdout",
     "output_type": "stream",
     "text": [
      "VALID \t: Summary: Loss: 1.2191 Accuracy: 0.5634\n",
      "TRAIN \t: Summary: Loss: 1.2978 Accuracy: 0.5412\n"
     ]
    },
    {
     "name": "stderr",
     "output_type": "stream",
     "text": [
      "Training: Epoch [32/200]: 100%|██████████████████████████████| 313/313 [00:12<00:00, 26.03it/s]                                            \n",
      "Evaluate: Epoch [32/200]: 100%|██████████████████████████████| 79/79 [00:00<00:00, 208.59it/s]                                             \n"
     ]
    },
    {
     "name": "stdout",
     "output_type": "stream",
     "text": [
      "VALID \t: Summary: Loss: 1.2299 Accuracy: 0.5608\n",
      "TRAIN \t: Summary: Loss: 1.3053 Accuracy: 0.5383\n"
     ]
    },
    {
     "name": "stderr",
     "output_type": "stream",
     "text": [
      "Training: Epoch [33/200]: 100%|██████████████████████████████| 313/313 [00:12<00:00, 25.98it/s]                                            \n",
      "Evaluate: Epoch [33/200]: 100%|██████████████████████████████| 79/79 [00:00<00:00, 208.18it/s]                                             \n"
     ]
    },
    {
     "name": "stdout",
     "output_type": "stream",
     "text": [
      "VALID \t: Summary: Loss: 1.2303 Accuracy: 0.5622\n",
      "TRAIN \t: Summary: Loss: 1.2905 Accuracy: 0.5453\n"
     ]
    },
    {
     "name": "stderr",
     "output_type": "stream",
     "text": [
      "Training: Epoch [34/200]: 100%|██████████████████████████████| 313/313 [00:12<00:00, 26.01it/s]                                            \n",
      "Evaluate: Epoch [34/200]: 100%|██████████████████████████████| 79/79 [00:00<00:00, 210.95it/s]                                             \n"
     ]
    },
    {
     "name": "stdout",
     "output_type": "stream",
     "text": [
      "VALID \t: Summary: Loss: 1.2215 Accuracy: 0.5680\n",
      "TRAIN \t: Summary: Loss: 1.2885 Accuracy: 0.5463\n"
     ]
    },
    {
     "name": "stderr",
     "output_type": "stream",
     "text": [
      "Training: Epoch [35/200]: 100%|██████████████████████████████| 313/313 [00:12<00:00, 26.05it/s]                                            \n",
      "Evaluate: Epoch [35/200]: 100%|██████████████████████████████| 79/79 [00:00<00:00, 210.90it/s]                                             \n"
     ]
    },
    {
     "name": "stdout",
     "output_type": "stream",
     "text": [
      "VALID \t: Summary: Loss: 1.2239 Accuracy: 0.5691\n",
      "TRAIN \t: Summary: Loss: 1.2850 Accuracy: 0.5457\n"
     ]
    },
    {
     "name": "stderr",
     "output_type": "stream",
     "text": [
      "Training: Epoch [36/200]: 100%|██████████████████████████████| 313/313 [00:12<00:00, 25.52it/s]                                            \n",
      "Evaluate: Epoch [36/200]: 100%|██████████████████████████████| 79/79 [00:00<00:00, 202.76it/s]                                             \n"
     ]
    },
    {
     "name": "stdout",
     "output_type": "stream",
     "text": [
      "VALID \t: Summary: Loss: 1.2102 Accuracy: 0.5741\n",
      "TRAIN \t: Summary: Loss: 1.2769 Accuracy: 0.5501\n"
     ]
    },
    {
     "name": "stderr",
     "output_type": "stream",
     "text": [
      "Training: Epoch [37/200]: 100%|██████████████████████████████| 313/313 [00:12<00:00, 25.99it/s]                                            \n",
      "Evaluate: Epoch [37/200]: 100%|██████████████████████████████| 79/79 [00:00<00:00, 211.56it/s]                                             \n"
     ]
    },
    {
     "name": "stdout",
     "output_type": "stream",
     "text": [
      "VALID \t: Summary: Loss: 1.2112 Accuracy: 0.5753\n",
      "TRAIN \t: Summary: Loss: 1.2793 Accuracy: 0.5491\n"
     ]
    },
    {
     "name": "stderr",
     "output_type": "stream",
     "text": [
      "Training: Epoch [38/200]: 100%|██████████████████████████████| 313/313 [00:12<00:00, 25.96it/s]                                            \n",
      "Evaluate: Epoch [38/200]: 100%|██████████████████████████████| 79/79 [00:00<00:00, 206.98it/s]                                             \n"
     ]
    },
    {
     "name": "stdout",
     "output_type": "stream",
     "text": [
      "VALID \t: Summary: Loss: 1.2054 Accuracy: 0.5776\n",
      "TRAIN \t: Summary: Loss: 1.2746 Accuracy: 0.5513\n"
     ]
    },
    {
     "name": "stderr",
     "output_type": "stream",
     "text": [
      "Training: Epoch [39/200]: 100%|██████████████████████████████| 313/313 [00:12<00:00, 26.05it/s]                                            \n",
      "Evaluate: Epoch [39/200]: 100%|██████████████████████████████| 79/79 [00:00<00:00, 206.26it/s]                                             \n"
     ]
    },
    {
     "name": "stdout",
     "output_type": "stream",
     "text": [
      "VALID \t: Summary: Loss: 1.2131 Accuracy: 0.5674\n",
      "TRAIN \t: Summary: Loss: 1.2649 Accuracy: 0.5537\n"
     ]
    },
    {
     "name": "stderr",
     "output_type": "stream",
     "text": [
      "Training: Epoch [40/200]: 100%|██████████████████████████████| 313/313 [00:12<00:00, 26.03it/s]                                            \n",
      "Evaluate: Epoch [40/200]: 100%|██████████████████████████████| 79/79 [00:00<00:00, 210.45it/s]                                             \n"
     ]
    },
    {
     "name": "stdout",
     "output_type": "stream",
     "text": [
      "VALID \t: Summary: Loss: 1.2106 Accuracy: 0.5755\n",
      "TRAIN \t: Summary: Loss: 1.2672 Accuracy: 0.5534\n"
     ]
    },
    {
     "name": "stderr",
     "output_type": "stream",
     "text": [
      "Training: Epoch [41/200]: 100%|██████████████████████████████| 313/313 [00:12<00:00, 26.01it/s]                                            \n",
      "Evaluate: Epoch [41/200]: 100%|██████████████████████████████| 79/79 [00:00<00:00, 210.10it/s]                                             \n"
     ]
    },
    {
     "name": "stdout",
     "output_type": "stream",
     "text": [
      "VALID \t: Summary: Loss: 1.2068 Accuracy: 0.5730\n",
      "TRAIN \t: Summary: Loss: 1.2624 Accuracy: 0.5562\n"
     ]
    },
    {
     "name": "stderr",
     "output_type": "stream",
     "text": [
      "Training: Epoch [42/200]: 100%|██████████████████████████████| 313/313 [00:12<00:00, 25.92it/s]                                            \n",
      "Evaluate: Epoch [42/200]: 100%|██████████████████████████████| 79/79 [00:00<00:00, 212.36it/s]                                             \n"
     ]
    },
    {
     "name": "stdout",
     "output_type": "stream",
     "text": [
      "VALID \t: Summary: Loss: 1.2014 Accuracy: 0.5721\n",
      "TRAIN \t: Summary: Loss: 1.2550 Accuracy: 0.5556\n"
     ]
    },
    {
     "name": "stderr",
     "output_type": "stream",
     "text": [
      "Training: Epoch [43/200]: 100%|██████████████████████████████| 313/313 [00:12<00:00, 25.99it/s]                                            \n",
      "Evaluate: Epoch [43/200]: 100%|██████████████████████████████| 79/79 [00:00<00:00, 212.59it/s]                                             \n"
     ]
    },
    {
     "name": "stdout",
     "output_type": "stream",
     "text": [
      "VALID \t: Summary: Loss: 1.1945 Accuracy: 0.5775\n",
      "TRAIN \t: Summary: Loss: 1.2531 Accuracy: 0.5572\n"
     ]
    },
    {
     "name": "stderr",
     "output_type": "stream",
     "text": [
      "Training: Epoch [44/200]: 100%|██████████████████████████████| 313/313 [00:12<00:00, 25.81it/s]                                            \n",
      "Evaluate: Epoch [44/200]: 100%|██████████████████████████████| 79/79 [00:00<00:00, 209.18it/s]                                             \n"
     ]
    },
    {
     "name": "stdout",
     "output_type": "stream",
     "text": [
      "VALID \t: Summary: Loss: 1.1997 Accuracy: 0.5757\n",
      "TRAIN \t: Summary: Loss: 1.2473 Accuracy: 0.5581\n"
     ]
    },
    {
     "name": "stderr",
     "output_type": "stream",
     "text": [
      "Training: Epoch [45/200]: 100%|██████████████████████████████| 313/313 [00:12<00:00, 25.45it/s]                                            \n",
      "Evaluate: Epoch [45/200]: 100%|██████████████████████████████| 79/79 [00:00<00:00, 210.04it/s]                                             \n"
     ]
    },
    {
     "name": "stdout",
     "output_type": "stream",
     "text": [
      "VALID \t: Summary: Loss: 1.1878 Accuracy: 0.5794\n",
      "TRAIN \t: Summary: Loss: 1.2427 Accuracy: 0.5631\n"
     ]
    },
    {
     "name": "stderr",
     "output_type": "stream",
     "text": [
      "Training: Epoch [46/200]: 100%|██████████████████████████████| 313/313 [00:12<00:00, 25.64it/s]                                            \n",
      "Evaluate: Epoch [46/200]: 100%|██████████████████████████████| 79/79 [00:00<00:00, 204.72it/s]                                             \n"
     ]
    },
    {
     "name": "stdout",
     "output_type": "stream",
     "text": [
      "VALID \t: Summary: Loss: 1.1872 Accuracy: 0.5845\n",
      "TRAIN \t: Summary: Loss: 1.2391 Accuracy: 0.5629\n"
     ]
    },
    {
     "name": "stderr",
     "output_type": "stream",
     "text": [
      "Training: Epoch [47/200]: 100%|██████████████████████████████| 313/313 [00:12<00:00, 25.98it/s]                                            \n",
      "Evaluate: Epoch [47/200]: 100%|██████████████████████████████| 79/79 [00:00<00:00, 209.95it/s]                                             \n"
     ]
    },
    {
     "name": "stdout",
     "output_type": "stream",
     "text": [
      "VALID \t: Summary: Loss: 1.1824 Accuracy: 0.5850\n",
      "TRAIN \t: Summary: Loss: 1.2357 Accuracy: 0.5634\n"
     ]
    },
    {
     "name": "stderr",
     "output_type": "stream",
     "text": [
      "Training: Epoch [48/200]: 100%|██████████████████████████████| 313/313 [00:12<00:00, 25.94it/s]                                            \n",
      "Evaluate: Epoch [48/200]: 100%|██████████████████████████████| 79/79 [00:00<00:00, 208.48it/s]                                             \n"
     ]
    },
    {
     "name": "stdout",
     "output_type": "stream",
     "text": [
      "VALID \t: Summary: Loss: 1.1843 Accuracy: 0.5792\n",
      "TRAIN \t: Summary: Loss: 1.2308 Accuracy: 0.5657\n"
     ]
    },
    {
     "name": "stderr",
     "output_type": "stream",
     "text": [
      "Training: Epoch [49/200]: 100%|██████████████████████████████| 313/313 [00:12<00:00, 26.01it/s]                                            \n",
      "Evaluate: Epoch [49/200]: 100%|██████████████████████████████| 79/79 [00:00<00:00, 211.73it/s]                                             \n"
     ]
    },
    {
     "name": "stdout",
     "output_type": "stream",
     "text": [
      "VALID \t: Summary: Loss: 1.1914 Accuracy: 0.5779\n",
      "TRAIN \t: Summary: Loss: 1.2274 Accuracy: 0.5675\n"
     ]
    },
    {
     "name": "stderr",
     "output_type": "stream",
     "text": [
      "Training: Epoch [50/200]: 100%|██████████████████████████████| 313/313 [00:12<00:00, 25.86it/s]                                            \n",
      "Evaluate: Epoch [50/200]: 100%|██████████████████████████████| 79/79 [00:00<00:00, 201.18it/s]                                             \n"
     ]
    },
    {
     "name": "stdout",
     "output_type": "stream",
     "text": [
      "VALID \t: Summary: Loss: 1.1843 Accuracy: 0.5862\n",
      "TRAIN \t: Summary: Loss: 1.2224 Accuracy: 0.5661\n"
     ]
    },
    {
     "name": "stderr",
     "output_type": "stream",
     "text": [
      "Training: Epoch [51/200]: 100%|██████████████████████████████| 313/313 [00:12<00:00, 25.80it/s]                                            \n",
      "Evaluate: Epoch [51/200]: 100%|██████████████████████████████| 79/79 [00:00<00:00, 212.00it/s]                                             \n"
     ]
    },
    {
     "name": "stdout",
     "output_type": "stream",
     "text": [
      "VALID \t: Summary: Loss: 1.1616 Accuracy: 0.5926\n",
      "TRAIN \t: Summary: Loss: 1.1982 Accuracy: 0.5800\n"
     ]
    },
    {
     "name": "stderr",
     "output_type": "stream",
     "text": [
      "Training: Epoch [52/200]: 100%|██████████████████████████████| 313/313 [00:12<00:00, 25.99it/s]                                            \n",
      "Evaluate: Epoch [52/200]: 100%|██████████████████████████████| 79/79 [00:00<00:00, 211.67it/s]                                             \n"
     ]
    },
    {
     "name": "stdout",
     "output_type": "stream",
     "text": [
      "VALID \t: Summary: Loss: 1.1554 Accuracy: 0.5911\n",
      "TRAIN \t: Summary: Loss: 1.1942 Accuracy: 0.5802\n"
     ]
    },
    {
     "name": "stderr",
     "output_type": "stream",
     "text": [
      "Training: Epoch [53/200]: 100%|██████████████████████████████| 313/313 [00:12<00:00, 26.03it/s]                                            \n",
      "Evaluate: Epoch [53/200]: 100%|██████████████████████████████| 79/79 [00:00<00:00, 207.77it/s]                                             \n"
     ]
    },
    {
     "name": "stdout",
     "output_type": "stream",
     "text": [
      "VALID \t: Summary: Loss: 1.1632 Accuracy: 0.5900\n",
      "TRAIN \t: Summary: Loss: 1.1976 Accuracy: 0.5772\n"
     ]
    },
    {
     "name": "stderr",
     "output_type": "stream",
     "text": [
      "Training: Epoch [54/200]: 100%|██████████████████████████████| 313/313 [00:12<00:00, 26.03it/s]                                            \n",
      "Evaluate: Epoch [54/200]: 100%|██████████████████████████████| 79/79 [00:00<00:00, 211.27it/s]                                             \n"
     ]
    },
    {
     "name": "stdout",
     "output_type": "stream",
     "text": [
      "VALID \t: Summary: Loss: 1.1533 Accuracy: 0.5925\n",
      "TRAIN \t: Summary: Loss: 1.1862 Accuracy: 0.5828\n"
     ]
    },
    {
     "name": "stderr",
     "output_type": "stream",
     "text": [
      "Training: Epoch [55/200]: 100%|██████████████████████████████| 313/313 [00:12<00:00, 25.90it/s]                                            \n",
      "Evaluate: Epoch [55/200]: 100%|██████████████████████████████| 79/79 [00:00<00:00, 201.53it/s]                                             \n"
     ]
    },
    {
     "name": "stdout",
     "output_type": "stream",
     "text": [
      "VALID \t: Summary: Loss: 1.1580 Accuracy: 0.5913\n",
      "TRAIN \t: Summary: Loss: 1.1870 Accuracy: 0.5817\n"
     ]
    },
    {
     "name": "stderr",
     "output_type": "stream",
     "text": [
      "Training: Epoch [56/200]: 100%|██████████████████████████████| 313/313 [00:12<00:00, 26.05it/s]                                            \n",
      "Evaluate: Epoch [56/200]: 100%|██████████████████████████████| 79/79 [00:00<00:00, 211.69it/s]                                             \n"
     ]
    },
    {
     "name": "stdout",
     "output_type": "stream",
     "text": [
      "VALID \t: Summary: Loss: 1.1543 Accuracy: 0.5920\n",
      "TRAIN \t: Summary: Loss: 1.1814 Accuracy: 0.5834\n"
     ]
    },
    {
     "name": "stderr",
     "output_type": "stream",
     "text": [
      "Training: Epoch [57/200]: 100%|██████████████████████████████| 313/313 [00:12<00:00, 26.02it/s]                                            \n",
      "Evaluate: Epoch [57/200]: 100%|██████████████████████████████| 79/79 [00:00<00:00, 208.78it/s]                                             \n"
     ]
    },
    {
     "name": "stdout",
     "output_type": "stream",
     "text": [
      "VALID \t: Summary: Loss: 1.1442 Accuracy: 0.5941\n",
      "TRAIN \t: Summary: Loss: 1.1841 Accuracy: 0.5819\n"
     ]
    },
    {
     "name": "stderr",
     "output_type": "stream",
     "text": [
      "Training: Epoch [58/200]: 100%|██████████████████████████████| 313/313 [00:12<00:00, 26.00it/s]                                            \n",
      "Evaluate: Epoch [58/200]: 100%|██████████████████████████████| 79/79 [00:00<00:00, 213.36it/s]                                             \n"
     ]
    },
    {
     "name": "stdout",
     "output_type": "stream",
     "text": [
      "VALID \t: Summary: Loss: 1.1501 Accuracy: 0.5944\n",
      "TRAIN \t: Summary: Loss: 1.1783 Accuracy: 0.5820\n"
     ]
    },
    {
     "name": "stderr",
     "output_type": "stream",
     "text": [
      "Training: Epoch [59/200]: 100%|██████████████████████████████| 313/313 [00:12<00:00, 26.04it/s]                                            \n",
      "Evaluate: Epoch [59/200]: 100%|██████████████████████████████| 79/79 [00:00<00:00, 209.16it/s]                                             \n"
     ]
    },
    {
     "name": "stdout",
     "output_type": "stream",
     "text": [
      "VALID \t: Summary: Loss: 1.1483 Accuracy: 0.5958\n",
      "TRAIN \t: Summary: Loss: 1.1735 Accuracy: 0.5857\n"
     ]
    },
    {
     "name": "stderr",
     "output_type": "stream",
     "text": [
      "Training: Epoch [60/200]: 100%|██████████████████████████████| 313/313 [00:12<00:00, 25.95it/s]                                            \n",
      "Evaluate: Epoch [60/200]: 100%|██████████████████████████████| 79/79 [00:00<00:00, 207.60it/s]                                             \n"
     ]
    },
    {
     "name": "stdout",
     "output_type": "stream",
     "text": [
      "VALID \t: Summary: Loss: 1.1501 Accuracy: 0.5952\n",
      "TRAIN \t: Summary: Loss: 1.1686 Accuracy: 0.5869\n"
     ]
    },
    {
     "name": "stderr",
     "output_type": "stream",
     "text": [
      "Training: Epoch [61/200]: 100%|██████████████████████████████| 313/313 [00:12<00:00, 26.04it/s]                                            \n",
      "Evaluate: Epoch [61/200]: 100%|██████████████████████████████| 79/79 [00:00<00:00, 213.74it/s]                                             \n"
     ]
    },
    {
     "name": "stdout",
     "output_type": "stream",
     "text": [
      "VALID \t: Summary: Loss: 1.1429 Accuracy: 0.5973\n",
      "TRAIN \t: Summary: Loss: 1.1713 Accuracy: 0.5862\n"
     ]
    },
    {
     "name": "stderr",
     "output_type": "stream",
     "text": [
      "Training: Epoch [62/200]: 100%|██████████████████████████████| 313/313 [00:12<00:00, 25.87it/s]                                            \n",
      "Evaluate: Epoch [62/200]: 100%|██████████████████████████████| 79/79 [00:00<00:00, 206.45it/s]                                             \n"
     ]
    },
    {
     "name": "stdout",
     "output_type": "stream",
     "text": [
      "VALID \t: Summary: Loss: 1.1513 Accuracy: 0.5951\n",
      "TRAIN \t: Summary: Loss: 1.1731 Accuracy: 0.5857\n"
     ]
    },
    {
     "name": "stderr",
     "output_type": "stream",
     "text": [
      "Training: Epoch [63/200]: 100%|██████████████████████████████| 313/313 [00:12<00:00, 26.05it/s]                                            \n",
      "Evaluate: Epoch [63/200]: 100%|██████████████████████████████| 79/79 [00:00<00:00, 209.77it/s]                                             \n"
     ]
    },
    {
     "name": "stdout",
     "output_type": "stream",
     "text": [
      "VALID \t: Summary: Loss: 1.1524 Accuracy: 0.5927\n",
      "TRAIN \t: Summary: Loss: 1.1676 Accuracy: 0.5908\n"
     ]
    },
    {
     "name": "stderr",
     "output_type": "stream",
     "text": [
      "Training: Epoch [64/200]: 100%|██████████████████████████████| 313/313 [00:12<00:00, 25.99it/s]                                            \n",
      "Evaluate: Epoch [64/200]: 100%|██████████████████████████████| 79/79 [00:00<00:00, 209.52it/s]                                             \n"
     ]
    },
    {
     "name": "stdout",
     "output_type": "stream",
     "text": [
      "VALID \t: Summary: Loss: 1.1461 Accuracy: 0.5939\n",
      "TRAIN \t: Summary: Loss: 1.1703 Accuracy: 0.5860\n"
     ]
    },
    {
     "name": "stderr",
     "output_type": "stream",
     "text": [
      "Training: Epoch [65/200]: 100%|██████████████████████████████| 313/313 [00:12<00:00, 25.93it/s]                                            \n",
      "Evaluate: Epoch [65/200]: 100%|██████████████████████████████| 79/79 [00:00<00:00, 207.94it/s]                                             \n"
     ]
    },
    {
     "name": "stdout",
     "output_type": "stream",
     "text": [
      "VALID \t: Summary: Loss: 1.1406 Accuracy: 0.5940\n",
      "TRAIN \t: Summary: Loss: 1.1644 Accuracy: 0.5903\n"
     ]
    },
    {
     "name": "stderr",
     "output_type": "stream",
     "text": [
      "Training: Epoch [66/200]: 100%|██████████████████████████████| 313/313 [00:12<00:00, 26.02it/s]                                            \n",
      "Evaluate: Epoch [66/200]: 100%|██████████████████████████████| 79/79 [00:00<00:00, 212.53it/s]                                             \n"
     ]
    },
    {
     "name": "stdout",
     "output_type": "stream",
     "text": [
      "VALID \t: Summary: Loss: 1.1431 Accuracy: 0.5942\n",
      "TRAIN \t: Summary: Loss: 1.1557 Accuracy: 0.5929\n"
     ]
    },
    {
     "name": "stderr",
     "output_type": "stream",
     "text": [
      "Training: Epoch [67/200]: 100%|██████████████████████████████| 313/313 [00:12<00:00, 25.95it/s]                                            \n",
      "Evaluate: Epoch [67/200]: 100%|██████████████████████████████| 79/79 [00:00<00:00, 201.10it/s]                                             \n"
     ]
    },
    {
     "name": "stdout",
     "output_type": "stream",
     "text": [
      "VALID \t: Summary: Loss: 1.1392 Accuracy: 0.5970\n",
      "TRAIN \t: Summary: Loss: 1.1643 Accuracy: 0.5914\n"
     ]
    },
    {
     "name": "stderr",
     "output_type": "stream",
     "text": [
      "Training: Epoch [68/200]: 100%|██████████████████████████████| 313/313 [00:12<00:00, 25.83it/s]                                            \n",
      "Evaluate: Epoch [68/200]: 100%|██████████████████████████████| 79/79 [00:00<00:00, 209.60it/s]                                             \n"
     ]
    },
    {
     "name": "stdout",
     "output_type": "stream",
     "text": [
      "VALID \t: Summary: Loss: 1.1412 Accuracy: 0.5989\n",
      "TRAIN \t: Summary: Loss: 1.1622 Accuracy: 0.5892\n"
     ]
    },
    {
     "name": "stderr",
     "output_type": "stream",
     "text": [
      "Training: Epoch [69/200]: 100%|██████████████████████████████| 313/313 [00:12<00:00, 26.07it/s]                                            \n",
      "Evaluate: Epoch [69/200]: 100%|██████████████████████████████| 79/79 [00:00<00:00, 211.64it/s]                                             \n"
     ]
    },
    {
     "name": "stdout",
     "output_type": "stream",
     "text": [
      "VALID \t: Summary: Loss: 1.1422 Accuracy: 0.5974\n",
      "TRAIN \t: Summary: Loss: 1.1587 Accuracy: 0.5949\n"
     ]
    },
    {
     "name": "stderr",
     "output_type": "stream",
     "text": [
      "Training: Epoch [70/200]: 100%|██████████████████████████████| 313/313 [00:12<00:00, 25.91it/s]                                            \n",
      "Evaluate: Epoch [70/200]: 100%|██████████████████████████████| 79/79 [00:00<00:00, 209.92it/s]                                             \n"
     ]
    },
    {
     "name": "stdout",
     "output_type": "stream",
     "text": [
      "VALID \t: Summary: Loss: 1.1481 Accuracy: 0.5965\n",
      "TRAIN \t: Summary: Loss: 1.1579 Accuracy: 0.5889\n"
     ]
    },
    {
     "name": "stderr",
     "output_type": "stream",
     "text": [
      "Training: Epoch [71/200]: 100%|██████████████████████████████| 313/313 [00:12<00:00, 25.92it/s]                                            \n",
      "Evaluate: Epoch [71/200]: 100%|██████████████████████████████| 79/79 [00:00<00:00, 210.46it/s]                                             \n"
     ]
    },
    {
     "name": "stdout",
     "output_type": "stream",
     "text": [
      "VALID \t: Summary: Loss: 1.1370 Accuracy: 0.5995\n",
      "TRAIN \t: Summary: Loss: 1.1518 Accuracy: 0.5942\n"
     ]
    },
    {
     "name": "stderr",
     "output_type": "stream",
     "text": [
      "Training: Epoch [72/200]: 100%|██████████████████████████████| 313/313 [00:12<00:00, 25.97it/s]                                            \n",
      "Evaluate: Epoch [72/200]: 100%|██████████████████████████████| 79/79 [00:00<00:00, 211.56it/s]                                             \n"
     ]
    },
    {
     "name": "stdout",
     "output_type": "stream",
     "text": [
      "VALID \t: Summary: Loss: 1.1370 Accuracy: 0.5988\n",
      "TRAIN \t: Summary: Loss: 1.1496 Accuracy: 0.5941\n"
     ]
    },
    {
     "name": "stderr",
     "output_type": "stream",
     "text": [
      "Training: Epoch [73/200]: 100%|██████████████████████████████| 313/313 [00:12<00:00, 26.07it/s]                                            \n",
      "Evaluate: Epoch [73/200]: 100%|██████████████████████████████| 79/79 [00:00<00:00, 207.86it/s]                                             \n"
     ]
    },
    {
     "name": "stdout",
     "output_type": "stream",
     "text": [
      "VALID \t: Summary: Loss: 1.1347 Accuracy: 0.5988\n",
      "TRAIN \t: Summary: Loss: 1.1496 Accuracy: 0.5935\n"
     ]
    },
    {
     "name": "stderr",
     "output_type": "stream",
     "text": [
      "Training: Epoch [74/200]: 100%|██████████████████████████████| 313/313 [00:12<00:00, 25.90it/s]                                            \n",
      "Evaluate: Epoch [74/200]: 100%|██████████████████████████████| 79/79 [00:00<00:00, 208.89it/s]                                             \n"
     ]
    },
    {
     "name": "stdout",
     "output_type": "stream",
     "text": [
      "VALID \t: Summary: Loss: 1.1500 Accuracy: 0.5966\n",
      "TRAIN \t: Summary: Loss: 1.1531 Accuracy: 0.5924\n"
     ]
    },
    {
     "name": "stderr",
     "output_type": "stream",
     "text": [
      "Training: Epoch [75/200]: 100%|██████████████████████████████| 313/313 [00:12<00:00, 25.22it/s]                                            \n",
      "Evaluate: Epoch [75/200]: 100%|██████████████████████████████| 79/79 [00:00<00:00, 206.03it/s]                                             \n"
     ]
    },
    {
     "name": "stdout",
     "output_type": "stream",
     "text": [
      "VALID \t: Summary: Loss: 1.1409 Accuracy: 0.5919\n",
      "TRAIN \t: Summary: Loss: 1.1496 Accuracy: 0.5946\n"
     ]
    },
    {
     "name": "stderr",
     "output_type": "stream",
     "text": [
      "Training: Epoch [76/200]: 100%|██████████████████████████████| 313/313 [00:12<00:00, 25.91it/s]                                            \n",
      "Evaluate: Epoch [76/200]: 100%|██████████████████████████████| 79/79 [00:00<00:00, 209.95it/s]                                             \n"
     ]
    },
    {
     "name": "stdout",
     "output_type": "stream",
     "text": [
      "VALID \t: Summary: Loss: 1.1300 Accuracy: 0.6002\n",
      "TRAIN \t: Summary: Loss: 1.1414 Accuracy: 0.5964\n"
     ]
    },
    {
     "name": "stderr",
     "output_type": "stream",
     "text": [
      "Training: Epoch [77/200]: 100%|██████████████████████████████| 313/313 [00:12<00:00, 26.05it/s]                                            \n",
      "Evaluate: Epoch [77/200]: 100%|██████████████████████████████| 79/79 [00:00<00:00, 208.03it/s]                                             \n"
     ]
    },
    {
     "name": "stdout",
     "output_type": "stream",
     "text": [
      "VALID \t: Summary: Loss: 1.1444 Accuracy: 0.6001\n",
      "TRAIN \t: Summary: Loss: 1.1467 Accuracy: 0.5945\n"
     ]
    },
    {
     "name": "stderr",
     "output_type": "stream",
     "text": [
      "Training: Epoch [78/200]: 100%|██████████████████████████████| 313/313 [00:12<00:00, 26.04it/s]                                            \n",
      "Evaluate: Epoch [78/200]: 100%|██████████████████████████████| 79/79 [00:00<00:00, 212.51it/s]                                             \n"
     ]
    },
    {
     "name": "stdout",
     "output_type": "stream",
     "text": [
      "VALID \t: Summary: Loss: 1.1276 Accuracy: 0.6034\n",
      "TRAIN \t: Summary: Loss: 1.1434 Accuracy: 0.5960\n"
     ]
    },
    {
     "name": "stderr",
     "output_type": "stream",
     "text": [
      "Training: Epoch [79/200]: 100%|██████████████████████████████| 313/313 [00:12<00:00, 26.04it/s]                                            \n",
      "Evaluate: Epoch [79/200]: 100%|██████████████████████████████| 79/79 [00:00<00:00, 207.96it/s]                                             \n"
     ]
    },
    {
     "name": "stdout",
     "output_type": "stream",
     "text": [
      "VALID \t: Summary: Loss: 1.1368 Accuracy: 0.5993\n",
      "TRAIN \t: Summary: Loss: 1.1346 Accuracy: 0.5975\n"
     ]
    },
    {
     "name": "stderr",
     "output_type": "stream",
     "text": [
      "Training: Epoch [80/200]: 100%|██████████████████████████████| 313/313 [00:12<00:00, 26.02it/s]                                            \n",
      "Evaluate: Epoch [80/200]: 100%|██████████████████████████████| 79/79 [00:00<00:00, 206.80it/s]                                             \n"
     ]
    },
    {
     "name": "stdout",
     "output_type": "stream",
     "text": [
      "VALID \t: Summary: Loss: 1.1381 Accuracy: 0.5978\n",
      "TRAIN \t: Summary: Loss: 1.1390 Accuracy: 0.5987\n"
     ]
    },
    {
     "name": "stderr",
     "output_type": "stream",
     "text": [
      "Training: Epoch [81/200]: 100%|██████████████████████████████| 313/313 [00:12<00:00, 25.97it/s]                                            \n",
      "Evaluate: Epoch [81/200]: 100%|██████████████████████████████| 79/79 [00:00<00:00, 210.96it/s]                                             \n"
     ]
    },
    {
     "name": "stdout",
     "output_type": "stream",
     "text": [
      "VALID \t: Summary: Loss: 1.1353 Accuracy: 0.5993\n",
      "TRAIN \t: Summary: Loss: 1.1337 Accuracy: 0.6001\n"
     ]
    },
    {
     "name": "stderr",
     "output_type": "stream",
     "text": [
      "Training: Epoch [82/200]: 100%|██████████████████████████████| 313/313 [00:12<00:00, 26.03it/s]                                            \n",
      "Evaluate: Epoch [82/200]: 100%|██████████████████████████████| 79/79 [00:00<00:00, 207.52it/s]                                             \n"
     ]
    },
    {
     "name": "stdout",
     "output_type": "stream",
     "text": [
      "VALID \t: Summary: Loss: 1.1365 Accuracy: 0.6004\n",
      "TRAIN \t: Summary: Loss: 1.1379 Accuracy: 0.5995\n"
     ]
    },
    {
     "name": "stderr",
     "output_type": "stream",
     "text": [
      "Training: Epoch [83/200]: 100%|██████████████████████████████| 313/313 [00:12<00:00, 25.97it/s]                                            \n",
      "Evaluate: Epoch [83/200]: 100%|██████████████████████████████| 79/79 [00:00<00:00, 212.58it/s]                                             \n"
     ]
    },
    {
     "name": "stdout",
     "output_type": "stream",
     "text": [
      "VALID \t: Summary: Loss: 1.1332 Accuracy: 0.6037\n",
      "TRAIN \t: Summary: Loss: 1.1331 Accuracy: 0.5975\n"
     ]
    },
    {
     "name": "stderr",
     "output_type": "stream",
     "text": [
      "Training: Epoch [84/200]: 100%|██████████████████████████████| 313/313 [00:12<00:00, 25.91it/s]                                            \n",
      "Evaluate: Epoch [84/200]: 100%|██████████████████████████████| 79/79 [00:00<00:00, 205.10it/s]                                             \n"
     ]
    },
    {
     "name": "stdout",
     "output_type": "stream",
     "text": [
      "VALID \t: Summary: Loss: 1.1536 Accuracy: 0.5922\n",
      "TRAIN \t: Summary: Loss: 1.1374 Accuracy: 0.6010\n"
     ]
    },
    {
     "name": "stderr",
     "output_type": "stream",
     "text": [
      "Training: Epoch [85/200]: 100%|██████████████████████████████| 313/313 [00:12<00:00, 26.03it/s]                                            \n",
      "Evaluate: Epoch [85/200]: 100%|██████████████████████████████| 79/79 [00:00<00:00, 211.31it/s]                                             \n"
     ]
    },
    {
     "name": "stdout",
     "output_type": "stream",
     "text": [
      "VALID \t: Summary: Loss: 1.1349 Accuracy: 0.5989\n",
      "TRAIN \t: Summary: Loss: 1.1289 Accuracy: 0.6027\n"
     ]
    },
    {
     "name": "stderr",
     "output_type": "stream",
     "text": [
      "Training: Epoch [86/200]: 100%|██████████████████████████████| 313/313 [00:12<00:00, 26.04it/s]                                            \n",
      "Evaluate: Epoch [86/200]: 100%|██████████████████████████████| 79/79 [00:00<00:00, 208.46it/s]                                             \n"
     ]
    },
    {
     "name": "stdout",
     "output_type": "stream",
     "text": [
      "VALID \t: Summary: Loss: 1.1245 Accuracy: 0.6012\n",
      "TRAIN \t: Summary: Loss: 1.1313 Accuracy: 0.6022\n"
     ]
    },
    {
     "name": "stderr",
     "output_type": "stream",
     "text": [
      "Training: Epoch [87/200]: 100%|██████████████████████████████| 313/313 [00:12<00:00, 25.98it/s]                                            \n",
      "Evaluate: Epoch [87/200]: 100%|██████████████████████████████| 79/79 [00:00<00:00, 210.43it/s]                                             \n"
     ]
    },
    {
     "name": "stdout",
     "output_type": "stream",
     "text": [
      "VALID \t: Summary: Loss: 1.1344 Accuracy: 0.5986\n",
      "TRAIN \t: Summary: Loss: 1.1282 Accuracy: 0.6006\n"
     ]
    },
    {
     "name": "stderr",
     "output_type": "stream",
     "text": [
      "Training: Epoch [88/200]: 100%|██████████████████████████████| 313/313 [00:12<00:00, 26.00it/s]                                            \n",
      "Evaluate: Epoch [88/200]: 100%|██████████████████████████████| 79/79 [00:00<00:00, 212.26it/s]                                             \n"
     ]
    },
    {
     "name": "stdout",
     "output_type": "stream",
     "text": [
      "VALID \t: Summary: Loss: 1.1303 Accuracy: 0.6024\n",
      "TRAIN \t: Summary: Loss: 1.1317 Accuracy: 0.6012\n"
     ]
    },
    {
     "name": "stderr",
     "output_type": "stream",
     "text": [
      "Training: Epoch [89/200]: 100%|██████████████████████████████| 313/313 [00:12<00:00, 25.97it/s]                                            \n",
      "Evaluate: Epoch [89/200]: 100%|██████████████████████████████| 79/79 [00:00<00:00, 203.93it/s]                                             \n"
     ]
    },
    {
     "name": "stdout",
     "output_type": "stream",
     "text": [
      "VALID \t: Summary: Loss: 1.1339 Accuracy: 0.5978\n",
      "TRAIN \t: Summary: Loss: 1.1278 Accuracy: 0.6018\n"
     ]
    },
    {
     "name": "stderr",
     "output_type": "stream",
     "text": [
      "Training: Epoch [90/200]: 100%|██████████████████████████████| 313/313 [00:12<00:00, 26.01it/s]                                            \n",
      "Evaluate: Epoch [90/200]: 100%|██████████████████████████████| 79/79 [00:00<00:00, 202.46it/s]                                             \n"
     ]
    },
    {
     "name": "stdout",
     "output_type": "stream",
     "text": [
      "VALID \t: Summary: Loss: 1.1284 Accuracy: 0.6001\n",
      "TRAIN \t: Summary: Loss: 1.1310 Accuracy: 0.6021\n"
     ]
    },
    {
     "name": "stderr",
     "output_type": "stream",
     "text": [
      "Training: Epoch [91/200]: 100%|██████████████████████████████| 313/313 [00:12<00:00, 25.97it/s]                                            \n",
      "Evaluate: Epoch [91/200]: 100%|██████████████████████████████| 79/79 [00:00<00:00, 206.88it/s]                                             \n"
     ]
    },
    {
     "name": "stdout",
     "output_type": "stream",
     "text": [
      "VALID \t: Summary: Loss: 1.1332 Accuracy: 0.6004\n",
      "TRAIN \t: Summary: Loss: 1.1203 Accuracy: 0.6041\n"
     ]
    },
    {
     "name": "stderr",
     "output_type": "stream",
     "text": [
      "Training: Epoch [92/200]: 100%|██████████████████████████████| 313/313 [00:12<00:00, 25.86it/s]                                            \n",
      "Evaluate: Epoch [92/200]: 100%|██████████████████████████████| 79/79 [00:00<00:00, 203.80it/s]                                             \n"
     ]
    },
    {
     "name": "stdout",
     "output_type": "stream",
     "text": [
      "VALID \t: Summary: Loss: 1.1283 Accuracy: 0.6028\n",
      "TRAIN \t: Summary: Loss: 1.1240 Accuracy: 0.6029\n"
     ]
    },
    {
     "name": "stderr",
     "output_type": "stream",
     "text": [
      "Training: Epoch [93/200]: 100%|██████████████████████████████| 313/313 [00:12<00:00, 26.06it/s]                                            \n",
      "Evaluate: Epoch [93/200]: 100%|██████████████████████████████| 79/79 [00:00<00:00, 211.40it/s]                                             \n"
     ]
    },
    {
     "name": "stdout",
     "output_type": "stream",
     "text": [
      "VALID \t: Summary: Loss: 1.1300 Accuracy: 0.6001\n",
      "TRAIN \t: Summary: Loss: 1.1173 Accuracy: 0.6049\n"
     ]
    },
    {
     "name": "stderr",
     "output_type": "stream",
     "text": [
      "Training: Epoch [94/200]: 100%|██████████████████████████████| 313/313 [00:12<00:00, 25.27it/s]                                            \n",
      "Evaluate: Epoch [94/200]: 100%|██████████████████████████████| 79/79 [00:00<00:00, 206.86it/s]                                             \n"
     ]
    },
    {
     "name": "stdout",
     "output_type": "stream",
     "text": [
      "VALID \t: Summary: Loss: 1.1295 Accuracy: 0.6022\n",
      "TRAIN \t: Summary: Loss: 1.1197 Accuracy: 0.6058\n"
     ]
    },
    {
     "name": "stderr",
     "output_type": "stream",
     "text": [
      "Training: Epoch [95/200]: 100%|██████████████████████████████| 313/313 [00:12<00:00, 25.86it/s]                                            \n",
      "Evaluate: Epoch [95/200]: 100%|██████████████████████████████| 79/79 [00:00<00:00, 208.24it/s]                                             \n"
     ]
    },
    {
     "name": "stdout",
     "output_type": "stream",
     "text": [
      "VALID \t: Summary: Loss: 1.1173 Accuracy: 0.6040\n",
      "TRAIN \t: Summary: Loss: 1.1150 Accuracy: 0.6051\n"
     ]
    },
    {
     "name": "stderr",
     "output_type": "stream",
     "text": [
      "Training: Epoch [96/200]: 100%|██████████████████████████████| 313/313 [00:12<00:00, 26.01it/s]                                            \n",
      "Evaluate: Epoch [96/200]: 100%|██████████████████████████████| 79/79 [00:00<00:00, 211.86it/s]                                             \n"
     ]
    },
    {
     "name": "stdout",
     "output_type": "stream",
     "text": [
      "VALID \t: Summary: Loss: 1.1266 Accuracy: 0.6049\n",
      "TRAIN \t: Summary: Loss: 1.1187 Accuracy: 0.6026\n"
     ]
    },
    {
     "name": "stderr",
     "output_type": "stream",
     "text": [
      "Training: Epoch [97/200]: 100%|██████████████████████████████| 313/313 [00:12<00:00, 26.00it/s]                                            \n",
      "Evaluate: Epoch [97/200]: 100%|██████████████████████████████| 79/79 [00:00<00:00, 207.25it/s]                                             \n"
     ]
    },
    {
     "name": "stdout",
     "output_type": "stream",
     "text": [
      "VALID \t: Summary: Loss: 1.1262 Accuracy: 0.6059\n",
      "TRAIN \t: Summary: Loss: 1.1108 Accuracy: 0.6083\n"
     ]
    },
    {
     "name": "stderr",
     "output_type": "stream",
     "text": [
      "Training: Epoch [98/200]: 100%|██████████████████████████████| 313/313 [00:12<00:00, 26.03it/s]                                            \n",
      "Evaluate: Epoch [98/200]: 100%|██████████████████████████████| 79/79 [00:00<00:00, 211.75it/s]                                             \n"
     ]
    },
    {
     "name": "stdout",
     "output_type": "stream",
     "text": [
      "VALID \t: Summary: Loss: 1.1196 Accuracy: 0.6027\n",
      "TRAIN \t: Summary: Loss: 1.1135 Accuracy: 0.6051\n"
     ]
    },
    {
     "name": "stderr",
     "output_type": "stream",
     "text": [
      "Training: Epoch [99/200]: 100%|██████████████████████████████| 313/313 [00:12<00:00, 25.95it/s]                                            \n",
      "Evaluate: Epoch [99/200]: 100%|██████████████████████████████| 79/79 [00:00<00:00, 210.09it/s]                                             \n"
     ]
    },
    {
     "name": "stdout",
     "output_type": "stream",
     "text": [
      "VALID \t: Summary: Loss: 1.1233 Accuracy: 0.6031\n",
      "TRAIN \t: Summary: Loss: 1.1121 Accuracy: 0.6090\n"
     ]
    },
    {
     "name": "stderr",
     "output_type": "stream",
     "text": [
      "Training: Epoch [100/200]: 100%|██████████████████████████████| 313/313 [00:13<00:00, 23.32it/s]                                           \n",
      "Evaluate: Epoch [100/200]: 100%|██████████████████████████████| 79/79 [00:00<00:00, 198.09it/s]                                            \n"
     ]
    },
    {
     "name": "stdout",
     "output_type": "stream",
     "text": [
      "VALID \t: Summary: Loss: 1.1251 Accuracy: 0.6038\n",
      "TRAIN \t: Summary: Loss: 1.1128 Accuracy: 0.6079\n"
     ]
    },
    {
     "name": "stderr",
     "output_type": "stream",
     "text": [
      "Training: Epoch [101/200]: 100%|██████████████████████████████| 313/313 [00:12<00:00, 25.31it/s]                                           \n",
      "Evaluate: Epoch [101/200]: 100%|██████████████████████████████| 79/79 [00:00<00:00, 209.46it/s]                                            \n"
     ]
    },
    {
     "name": "stdout",
     "output_type": "stream",
     "text": [
      "VALID \t: Summary: Loss: 1.1128 Accuracy: 0.6049\n",
      "TRAIN \t: Summary: Loss: 1.1009 Accuracy: 0.6132\n"
     ]
    },
    {
     "name": "stderr",
     "output_type": "stream",
     "text": [
      "Training: Epoch [102/200]: 100%|██████████████████████████████| 313/313 [00:12<00:00, 26.06it/s]                                           \n",
      "Evaluate: Epoch [102/200]: 100%|██████████████████████████████| 79/79 [00:00<00:00, 209.62it/s]                                            \n"
     ]
    },
    {
     "name": "stdout",
     "output_type": "stream",
     "text": [
      "VALID \t: Summary: Loss: 1.1158 Accuracy: 0.6073\n",
      "TRAIN \t: Summary: Loss: 1.0949 Accuracy: 0.6165\n"
     ]
    },
    {
     "name": "stderr",
     "output_type": "stream",
     "text": [
      "Training: Epoch [103/200]: 100%|██████████████████████████████| 313/313 [00:12<00:00, 26.03it/s]                                           \n",
      "Evaluate: Epoch [103/200]: 100%|██████████████████████████████| 79/79 [00:00<00:00, 209.36it/s]                                            \n"
     ]
    },
    {
     "name": "stdout",
     "output_type": "stream",
     "text": [
      "VALID \t: Summary: Loss: 1.1111 Accuracy: 0.6085\n",
      "TRAIN \t: Summary: Loss: 1.0958 Accuracy: 0.6128\n"
     ]
    },
    {
     "name": "stderr",
     "output_type": "stream",
     "text": [
      "Training: Epoch [104/200]: 100%|██████████████████████████████| 313/313 [00:12<00:00, 25.97it/s]                                           \n",
      "Evaluate: Epoch [104/200]: 100%|██████████████████████████████| 79/79 [00:00<00:00, 210.16it/s]                                            \n"
     ]
    },
    {
     "name": "stdout",
     "output_type": "stream",
     "text": [
      "VALID \t: Summary: Loss: 1.1129 Accuracy: 0.6087\n",
      "TRAIN \t: Summary: Loss: 1.0939 Accuracy: 0.6150\n"
     ]
    },
    {
     "name": "stderr",
     "output_type": "stream",
     "text": [
      "Training: Epoch [105/200]: 100%|██████████████████████████████| 313/313 [00:12<00:00, 26.00it/s]                                           \n",
      "Evaluate: Epoch [105/200]: 100%|██████████████████████████████| 79/79 [00:00<00:00, 209.49it/s]                                            \n"
     ]
    },
    {
     "name": "stdout",
     "output_type": "stream",
     "text": [
      "VALID \t: Summary: Loss: 1.1088 Accuracy: 0.6073\n",
      "TRAIN \t: Summary: Loss: 1.0912 Accuracy: 0.6138\n"
     ]
    },
    {
     "name": "stderr",
     "output_type": "stream",
     "text": [
      "Training: Epoch [106/200]: 100%|██████████████████████████████| 313/313 [00:12<00:00, 26.03it/s]                                           \n",
      "Evaluate: Epoch [106/200]: 100%|██████████████████████████████| 79/79 [00:00<00:00, 208.83it/s]                                            \n"
     ]
    },
    {
     "name": "stdout",
     "output_type": "stream",
     "text": [
      "VALID \t: Summary: Loss: 1.1089 Accuracy: 0.6087\n",
      "TRAIN \t: Summary: Loss: 1.0928 Accuracy: 0.6158\n"
     ]
    },
    {
     "name": "stderr",
     "output_type": "stream",
     "text": [
      "Training: Epoch [107/200]: 100%|██████████████████████████████| 313/313 [00:12<00:00, 25.76it/s]                                           \n",
      "Evaluate: Epoch [107/200]: 100%|██████████████████████████████| 79/79 [00:00<00:00, 209.22it/s]                                            \n"
     ]
    },
    {
     "name": "stdout",
     "output_type": "stream",
     "text": [
      "VALID \t: Summary: Loss: 1.1120 Accuracy: 0.6061\n",
      "TRAIN \t: Summary: Loss: 1.0814 Accuracy: 0.6174\n"
     ]
    },
    {
     "name": "stderr",
     "output_type": "stream",
     "text": [
      "Training: Epoch [108/200]: 100%|██████████████████████████████| 313/313 [00:12<00:00, 26.04it/s]                                           \n",
      "Evaluate: Epoch [108/200]: 100%|██████████████████████████████| 79/79 [00:00<00:00, 208.44it/s]                                            \n"
     ]
    },
    {
     "name": "stdout",
     "output_type": "stream",
     "text": [
      "VALID \t: Summary: Loss: 1.1082 Accuracy: 0.6086\n",
      "TRAIN \t: Summary: Loss: 1.0891 Accuracy: 0.6182\n"
     ]
    },
    {
     "name": "stderr",
     "output_type": "stream",
     "text": [
      "Training: Epoch [109/200]: 100%|██████████████████████████████| 313/313 [00:12<00:00, 25.20it/s]                                           \n",
      "Evaluate: Epoch [109/200]: 100%|██████████████████████████████| 79/79 [00:00<00:00, 207.87it/s]                                            \n"
     ]
    },
    {
     "name": "stdout",
     "output_type": "stream",
     "text": [
      "VALID \t: Summary: Loss: 1.1106 Accuracy: 0.6055\n",
      "TRAIN \t: Summary: Loss: 1.0871 Accuracy: 0.6181\n"
     ]
    },
    {
     "name": "stderr",
     "output_type": "stream",
     "text": [
      "Training: Epoch [110/200]: 100%|██████████████████████████████| 313/313 [00:12<00:00, 25.96it/s]                                           \n",
      "Evaluate: Epoch [110/200]: 100%|██████████████████████████████| 79/79 [00:00<00:00, 208.72it/s]                                            \n"
     ]
    },
    {
     "name": "stdout",
     "output_type": "stream",
     "text": [
      "VALID \t: Summary: Loss: 1.1089 Accuracy: 0.6070\n",
      "TRAIN \t: Summary: Loss: 1.0882 Accuracy: 0.6172\n"
     ]
    },
    {
     "name": "stderr",
     "output_type": "stream",
     "text": [
      "Training: Epoch [111/200]: 100%|██████████████████████████████| 313/313 [00:12<00:00, 24.79it/s]                                           \n",
      "Evaluate: Epoch [111/200]: 100%|██████████████████████████████| 79/79 [00:00<00:00, 207.98it/s]                                            \n"
     ]
    },
    {
     "name": "stdout",
     "output_type": "stream",
     "text": [
      "VALID \t: Summary: Loss: 1.1125 Accuracy: 0.6097\n",
      "TRAIN \t: Summary: Loss: 1.0836 Accuracy: 0.6185\n"
     ]
    },
    {
     "name": "stderr",
     "output_type": "stream",
     "text": [
      "Training: Epoch [112/200]: 100%|██████████████████████████████| 313/313 [00:12<00:00, 26.03it/s]                                           \n",
      "Evaluate: Epoch [112/200]: 100%|██████████████████████████████| 79/79 [00:00<00:00, 213.20it/s]                                            \n"
     ]
    },
    {
     "name": "stdout",
     "output_type": "stream",
     "text": [
      "VALID \t: Summary: Loss: 1.1089 Accuracy: 0.6097\n",
      "TRAIN \t: Summary: Loss: 1.0853 Accuracy: 0.6171\n"
     ]
    },
    {
     "name": "stderr",
     "output_type": "stream",
     "text": [
      "Training: Epoch [113/200]: 100%|██████████████████████████████| 313/313 [00:12<00:00, 25.96it/s]                                           \n",
      "Evaluate: Epoch [113/200]: 100%|██████████████████████████████| 79/79 [00:00<00:00, 212.76it/s]                                            \n"
     ]
    },
    {
     "name": "stdout",
     "output_type": "stream",
     "text": [
      "VALID \t: Summary: Loss: 1.1057 Accuracy: 0.6102\n",
      "TRAIN \t: Summary: Loss: 1.0836 Accuracy: 0.6174\n"
     ]
    },
    {
     "name": "stderr",
     "output_type": "stream",
     "text": [
      "Training: Epoch [114/200]: 100%|██████████████████████████████| 313/313 [00:12<00:00, 26.00it/s]                                           \n",
      "Evaluate: Epoch [114/200]: 100%|██████████████████████████████| 79/79 [00:00<00:00, 209.46it/s]                                            \n"
     ]
    },
    {
     "name": "stdout",
     "output_type": "stream",
     "text": [
      "VALID \t: Summary: Loss: 1.1112 Accuracy: 0.6085\n",
      "TRAIN \t: Summary: Loss: 1.0819 Accuracy: 0.6202\n"
     ]
    },
    {
     "name": "stderr",
     "output_type": "stream",
     "text": [
      "Training: Epoch [115/200]: 100%|██████████████████████████████| 313/313 [00:12<00:00, 26.04it/s]                                           \n",
      "Evaluate: Epoch [115/200]: 100%|██████████████████████████████| 79/79 [00:00<00:00, 209.82it/s]                                            \n"
     ]
    },
    {
     "name": "stdout",
     "output_type": "stream",
     "text": [
      "VALID \t: Summary: Loss: 1.1092 Accuracy: 0.6085\n",
      "TRAIN \t: Summary: Loss: 1.0818 Accuracy: 0.6170\n"
     ]
    },
    {
     "name": "stderr",
     "output_type": "stream",
     "text": [
      "Training: Epoch [116/200]: 100%|██████████████████████████████| 313/313 [00:12<00:00, 25.73it/s]                                           \n",
      "Evaluate: Epoch [116/200]: 100%|██████████████████████████████| 79/79 [00:00<00:00, 209.99it/s]                                            \n"
     ]
    },
    {
     "name": "stdout",
     "output_type": "stream",
     "text": [
      "VALID \t: Summary: Loss: 1.1163 Accuracy: 0.6063\n",
      "TRAIN \t: Summary: Loss: 1.0818 Accuracy: 0.6187\n"
     ]
    },
    {
     "name": "stderr",
     "output_type": "stream",
     "text": [
      "Training: Epoch [117/200]: 100%|██████████████████████████████| 313/313 [00:12<00:00, 25.85it/s]                                           \n",
      "Evaluate: Epoch [117/200]: 100%|██████████████████████████████| 79/79 [00:00<00:00, 208.21it/s]                                            \n"
     ]
    },
    {
     "name": "stdout",
     "output_type": "stream",
     "text": [
      "VALID \t: Summary: Loss: 1.1087 Accuracy: 0.6078\n",
      "TRAIN \t: Summary: Loss: 1.0843 Accuracy: 0.6175\n"
     ]
    },
    {
     "name": "stderr",
     "output_type": "stream",
     "text": [
      "Training: Epoch [118/200]: 100%|██████████████████████████████| 313/313 [00:12<00:00, 25.92it/s]                                           \n",
      "Evaluate: Epoch [118/200]: 100%|██████████████████████████████| 79/79 [00:00<00:00, 212.06it/s]                                            \n"
     ]
    },
    {
     "name": "stdout",
     "output_type": "stream",
     "text": [
      "VALID \t: Summary: Loss: 1.1097 Accuracy: 0.6093\n",
      "TRAIN \t: Summary: Loss: 1.0729 Accuracy: 0.6213\n"
     ]
    },
    {
     "name": "stderr",
     "output_type": "stream",
     "text": [
      "Training: Epoch [119/200]: 100%|██████████████████████████████| 313/313 [00:12<00:00, 26.03it/s]                                           \n",
      "Evaluate: Epoch [119/200]: 100%|██████████████████████████████| 79/79 [00:00<00:00, 210.27it/s]                                            \n"
     ]
    },
    {
     "name": "stdout",
     "output_type": "stream",
     "text": [
      "VALID \t: Summary: Loss: 1.1107 Accuracy: 0.6089\n",
      "TRAIN \t: Summary: Loss: 1.0793 Accuracy: 0.6191\n"
     ]
    },
    {
     "name": "stderr",
     "output_type": "stream",
     "text": [
      "Training: Epoch [120/200]: 100%|██████████████████████████████| 313/313 [00:11<00:00, 26.08it/s]                                           \n",
      "Evaluate: Epoch [120/200]: 100%|██████████████████████████████| 79/79 [00:00<00:00, 212.24it/s]                                            \n"
     ]
    },
    {
     "name": "stdout",
     "output_type": "stream",
     "text": [
      "VALID \t: Summary: Loss: 1.1171 Accuracy: 0.6069\n",
      "TRAIN \t: Summary: Loss: 1.0833 Accuracy: 0.6153\n"
     ]
    },
    {
     "name": "stderr",
     "output_type": "stream",
     "text": [
      "Training: Epoch [121/200]: 100%|██████████████████████████████| 313/313 [00:12<00:00, 25.99it/s]                                           \n",
      "Evaluate: Epoch [121/200]: 100%|██████████████████████████████| 79/79 [00:00<00:00, 210.37it/s]                                            \n"
     ]
    },
    {
     "name": "stdout",
     "output_type": "stream",
     "text": [
      "VALID \t: Summary: Loss: 1.1049 Accuracy: 0.6094\n",
      "TRAIN \t: Summary: Loss: 1.0799 Accuracy: 0.6202\n"
     ]
    },
    {
     "name": "stderr",
     "output_type": "stream",
     "text": [
      "Training: Epoch [122/200]: 100%|██████████████████████████████| 313/313 [00:12<00:00, 26.07it/s]                                           \n",
      "Evaluate: Epoch [122/200]: 100%|██████████████████████████████| 79/79 [00:00<00:00, 213.84it/s]                                            \n"
     ]
    },
    {
     "name": "stdout",
     "output_type": "stream",
     "text": [
      "VALID \t: Summary: Loss: 1.1088 Accuracy: 0.6113\n",
      "TRAIN \t: Summary: Loss: 1.0789 Accuracy: 0.6197\n"
     ]
    },
    {
     "name": "stderr",
     "output_type": "stream",
     "text": [
      "Training: Epoch [123/200]: 100%|██████████████████████████████| 313/313 [00:12<00:00, 25.61it/s]                                           \n",
      "Evaluate: Epoch [123/200]: 100%|██████████████████████████████| 79/79 [00:00<00:00, 208.17it/s]                                            \n"
     ]
    },
    {
     "name": "stdout",
     "output_type": "stream",
     "text": [
      "VALID \t: Summary: Loss: 1.1097 Accuracy: 0.6091\n",
      "TRAIN \t: Summary: Loss: 1.0753 Accuracy: 0.6192\n"
     ]
    },
    {
     "name": "stderr",
     "output_type": "stream",
     "text": [
      "Training: Epoch [124/200]: 100%|██████████████████████████████| 313/313 [00:12<00:00, 25.80it/s]                                           \n",
      "Evaluate: Epoch [124/200]: 100%|██████████████████████████████| 79/79 [00:00<00:00, 200.08it/s]                                            \n"
     ]
    },
    {
     "name": "stdout",
     "output_type": "stream",
     "text": [
      "VALID \t: Summary: Loss: 1.1130 Accuracy: 0.6080\n",
      "TRAIN \t: Summary: Loss: 1.0709 Accuracy: 0.6220\n"
     ]
    },
    {
     "name": "stderr",
     "output_type": "stream",
     "text": [
      "Training: Epoch [125/200]: 100%|██████████████████████████████| 313/313 [00:12<00:00, 26.02it/s]                                           \n",
      "Evaluate: Epoch [125/200]: 100%|██████████████████████████████| 79/79 [00:00<00:00, 210.33it/s]                                            \n"
     ]
    },
    {
     "name": "stdout",
     "output_type": "stream",
     "text": [
      "VALID \t: Summary: Loss: 1.1066 Accuracy: 0.6123\n",
      "TRAIN \t: Summary: Loss: 1.0779 Accuracy: 0.6180\n"
     ]
    },
    {
     "name": "stderr",
     "output_type": "stream",
     "text": [
      "Training: Epoch [126/200]: 100%|██████████████████████████████| 313/313 [00:12<00:00, 26.01it/s]                                           \n",
      "Evaluate: Epoch [126/200]: 100%|██████████████████████████████| 79/79 [00:00<00:00, 215.00it/s]                                            \n"
     ]
    },
    {
     "name": "stdout",
     "output_type": "stream",
     "text": [
      "VALID \t: Summary: Loss: 1.1090 Accuracy: 0.6096\n",
      "TRAIN \t: Summary: Loss: 1.0758 Accuracy: 0.6207\n"
     ]
    },
    {
     "name": "stderr",
     "output_type": "stream",
     "text": [
      "Training: Epoch [127/200]: 100%|██████████████████████████████| 313/313 [00:11<00:00, 26.11it/s]                                           \n",
      "Evaluate: Epoch [127/200]: 100%|██████████████████████████████| 79/79 [00:00<00:00, 211.22it/s]                                            \n"
     ]
    },
    {
     "name": "stdout",
     "output_type": "stream",
     "text": [
      "VALID \t: Summary: Loss: 1.1073 Accuracy: 0.6127\n",
      "TRAIN \t: Summary: Loss: 1.0725 Accuracy: 0.6220\n"
     ]
    },
    {
     "name": "stderr",
     "output_type": "stream",
     "text": [
      "Training: Epoch [128/200]: 100%|██████████████████████████████| 313/313 [00:12<00:00, 26.08it/s]                                           \n",
      "Evaluate: Epoch [128/200]: 100%|██████████████████████████████| 79/79 [00:00<00:00, 211.54it/s]                                            \n"
     ]
    },
    {
     "name": "stdout",
     "output_type": "stream",
     "text": [
      "VALID \t: Summary: Loss: 1.1117 Accuracy: 0.6083\n",
      "TRAIN \t: Summary: Loss: 1.0785 Accuracy: 0.6196\n"
     ]
    },
    {
     "name": "stderr",
     "output_type": "stream",
     "text": [
      "Training: Epoch [129/200]: 100%|██████████████████████████████| 313/313 [00:12<00:00, 26.02it/s]                                           \n",
      "Evaluate: Epoch [129/200]: 100%|██████████████████████████████| 79/79 [00:00<00:00, 210.11it/s]                                            \n"
     ]
    },
    {
     "name": "stdout",
     "output_type": "stream",
     "text": [
      "VALID \t: Summary: Loss: 1.1120 Accuracy: 0.6143\n",
      "TRAIN \t: Summary: Loss: 1.0725 Accuracy: 0.6196\n"
     ]
    },
    {
     "name": "stderr",
     "output_type": "stream",
     "text": [
      "Training: Epoch [130/200]: 100%|██████████████████████████████| 313/313 [00:12<00:00, 25.19it/s]                                           \n",
      "Evaluate: Epoch [130/200]: 100%|██████████████████████████████| 79/79 [00:00<00:00, 180.91it/s]                                            \n"
     ]
    },
    {
     "name": "stdout",
     "output_type": "stream",
     "text": [
      "VALID \t: Summary: Loss: 1.1078 Accuracy: 0.6142\n",
      "TRAIN \t: Summary: Loss: 1.0733 Accuracy: 0.6209\n"
     ]
    },
    {
     "name": "stderr",
     "output_type": "stream",
     "text": [
      "Training: Epoch [131/200]: 100%|██████████████████████████████| 313/313 [00:12<00:00, 24.83it/s]                                           \n",
      "Evaluate: Epoch [131/200]: 100%|██████████████████████████████| 79/79 [00:00<00:00, 221.05it/s]                                            \n"
     ]
    },
    {
     "name": "stdout",
     "output_type": "stream",
     "text": [
      "VALID \t: Summary: Loss: 1.1038 Accuracy: 0.6125\n",
      "TRAIN \t: Summary: Loss: 1.0719 Accuracy: 0.6222\n"
     ]
    },
    {
     "name": "stderr",
     "output_type": "stream",
     "text": [
      "Training: Epoch [132/200]: 100%|██████████████████████████████| 313/313 [00:12<00:00, 24.20it/s]                                           \n",
      "Evaluate: Epoch [132/200]: 100%|██████████████████████████████| 79/79 [00:00<00:00, 201.80it/s]                                            \n"
     ]
    },
    {
     "name": "stdout",
     "output_type": "stream",
     "text": [
      "VALID \t: Summary: Loss: 1.1048 Accuracy: 0.6131\n",
      "TRAIN \t: Summary: Loss: 1.0711 Accuracy: 0.6214\n"
     ]
    },
    {
     "name": "stderr",
     "output_type": "stream",
     "text": [
      "Training: Epoch [133/200]: 100%|██████████████████████████████| 313/313 [00:14<00:00, 21.35it/s]                                           \n",
      "Evaluate: Epoch [133/200]: 100%|██████████████████████████████| 79/79 [00:00<00:00, 207.11it/s]                                            \n"
     ]
    },
    {
     "name": "stdout",
     "output_type": "stream",
     "text": [
      "VALID \t: Summary: Loss: 1.1080 Accuracy: 0.6110\n",
      "TRAIN \t: Summary: Loss: 1.0703 Accuracy: 0.6210\n"
     ]
    },
    {
     "name": "stderr",
     "output_type": "stream",
     "text": [
      "Training: Epoch [134/200]: 100%|██████████████████████████████| 313/313 [00:12<00:00, 24.41it/s]                                           \n",
      "Evaluate: Epoch [134/200]: 100%|██████████████████████████████| 79/79 [00:00<00:00, 205.87it/s]                                            \n"
     ]
    },
    {
     "name": "stdout",
     "output_type": "stream",
     "text": [
      "VALID \t: Summary: Loss: 1.1081 Accuracy: 0.6104\n",
      "TRAIN \t: Summary: Loss: 1.0681 Accuracy: 0.6208\n"
     ]
    },
    {
     "name": "stderr",
     "output_type": "stream",
     "text": [
      "Training: Epoch [135/200]: 100%|██████████████████████████████| 313/313 [00:12<00:00, 25.34it/s]                                           \n",
      "Evaluate: Epoch [135/200]: 100%|██████████████████████████████| 79/79 [00:00<00:00, 210.76it/s]                                            \n"
     ]
    },
    {
     "name": "stdout",
     "output_type": "stream",
     "text": [
      "VALID \t: Summary: Loss: 1.1089 Accuracy: 0.6131\n",
      "TRAIN \t: Summary: Loss: 1.0677 Accuracy: 0.6242\n"
     ]
    },
    {
     "name": "stderr",
     "output_type": "stream",
     "text": [
      "Training: Epoch [136/200]: 100%|██████████████████████████████| 313/313 [00:12<00:00, 25.74it/s]                                           \n",
      "Evaluate: Epoch [136/200]: 100%|██████████████████████████████| 79/79 [00:00<00:00, 212.08it/s]                                            \n"
     ]
    },
    {
     "name": "stdout",
     "output_type": "stream",
     "text": [
      "VALID \t: Summary: Loss: 1.1031 Accuracy: 0.6114\n",
      "TRAIN \t: Summary: Loss: 1.0671 Accuracy: 0.6236\n"
     ]
    },
    {
     "name": "stderr",
     "output_type": "stream",
     "text": [
      "Training: Epoch [137/200]: 100%|██████████████████████████████| 313/313 [00:12<00:00, 25.28it/s]                                           \n",
      "Evaluate: Epoch [137/200]: 100%|██████████████████████████████| 79/79 [00:00<00:00, 192.66it/s]                                            \n"
     ]
    },
    {
     "name": "stdout",
     "output_type": "stream",
     "text": [
      "VALID \t: Summary: Loss: 1.1135 Accuracy: 0.6072\n",
      "TRAIN \t: Summary: Loss: 1.0699 Accuracy: 0.6212\n"
     ]
    },
    {
     "name": "stderr",
     "output_type": "stream",
     "text": [
      "Training: Epoch [138/200]: 100%|██████████████████████████████| 313/313 [00:12<00:00, 25.34it/s]                                           \n",
      "Evaluate: Epoch [138/200]: 100%|██████████████████████████████| 79/79 [00:00<00:00, 210.72it/s]                                            \n"
     ]
    },
    {
     "name": "stdout",
     "output_type": "stream",
     "text": [
      "VALID \t: Summary: Loss: 1.1060 Accuracy: 0.6152\n",
      "TRAIN \t: Summary: Loss: 1.0624 Accuracy: 0.6263\n"
     ]
    },
    {
     "name": "stderr",
     "output_type": "stream",
     "text": [
      "Training: Epoch [139/200]: 100%|██████████████████████████████| 313/313 [00:11<00:00, 26.14it/s]                                           \n",
      "Evaluate: Epoch [139/200]: 100%|██████████████████████████████| 79/79 [00:00<00:00, 210.73it/s]                                            \n"
     ]
    },
    {
     "name": "stdout",
     "output_type": "stream",
     "text": [
      "VALID \t: Summary: Loss: 1.1114 Accuracy: 0.6127\n",
      "TRAIN \t: Summary: Loss: 1.0676 Accuracy: 0.6234\n"
     ]
    },
    {
     "name": "stderr",
     "output_type": "stream",
     "text": [
      "Training: Epoch [140/200]: 100%|██████████████████████████████| 313/313 [00:12<00:00, 26.02it/s]                                           \n",
      "Evaluate: Epoch [140/200]: 100%|██████████████████████████████| 79/79 [00:00<00:00, 209.35it/s]                                            \n"
     ]
    },
    {
     "name": "stdout",
     "output_type": "stream",
     "text": [
      "VALID \t: Summary: Loss: 1.1078 Accuracy: 0.6105\n",
      "TRAIN \t: Summary: Loss: 1.0617 Accuracy: 0.6239\n"
     ]
    },
    {
     "name": "stderr",
     "output_type": "stream",
     "text": [
      "Training: Epoch [141/200]: 100%|██████████████████████████████| 313/313 [00:12<00:00, 26.08it/s]                                           \n",
      "Evaluate: Epoch [141/200]: 100%|██████████████████████████████| 79/79 [00:00<00:00, 214.14it/s]                                            \n"
     ]
    },
    {
     "name": "stdout",
     "output_type": "stream",
     "text": [
      "VALID \t: Summary: Loss: 1.1085 Accuracy: 0.6124\n",
      "TRAIN \t: Summary: Loss: 1.0657 Accuracy: 0.6224\n"
     ]
    },
    {
     "name": "stderr",
     "output_type": "stream",
     "text": [
      "Training: Epoch [142/200]: 100%|██████████████████████████████| 313/313 [00:12<00:00, 25.76it/s]                                           \n",
      "Evaluate: Epoch [142/200]: 100%|██████████████████████████████| 79/79 [00:00<00:00, 212.53it/s]                                            \n"
     ]
    },
    {
     "name": "stdout",
     "output_type": "stream",
     "text": [
      "VALID \t: Summary: Loss: 1.1031 Accuracy: 0.6121\n",
      "TRAIN \t: Summary: Loss: 1.0654 Accuracy: 0.6252\n"
     ]
    },
    {
     "name": "stderr",
     "output_type": "stream",
     "text": [
      "Training: Epoch [143/200]: 100%|██████████████████████████████| 313/313 [00:12<00:00, 25.95it/s]                                           \n",
      "Evaluate: Epoch [143/200]: 100%|██████████████████████████████| 79/79 [00:00<00:00, 210.74it/s]                                            \n"
     ]
    },
    {
     "name": "stdout",
     "output_type": "stream",
     "text": [
      "VALID \t: Summary: Loss: 1.1037 Accuracy: 0.6164\n",
      "TRAIN \t: Summary: Loss: 1.0608 Accuracy: 0.6260\n"
     ]
    },
    {
     "name": "stderr",
     "output_type": "stream",
     "text": [
      "Training: Epoch [144/200]: 100%|██████████████████████████████| 313/313 [00:12<00:00, 26.01it/s]                                           \n",
      "Evaluate: Epoch [144/200]: 100%|██████████████████████████████| 79/79 [00:00<00:00, 210.68it/s]                                            \n"
     ]
    },
    {
     "name": "stdout",
     "output_type": "stream",
     "text": [
      "VALID \t: Summary: Loss: 1.1052 Accuracy: 0.6143\n",
      "TRAIN \t: Summary: Loss: 1.0651 Accuracy: 0.6233\n"
     ]
    },
    {
     "name": "stderr",
     "output_type": "stream",
     "text": [
      "Training: Epoch [145/200]: 100%|██████████████████████████████| 313/313 [00:11<00:00, 26.14it/s]                                           \n",
      "Evaluate: Epoch [145/200]: 100%|██████████████████████████████| 79/79 [00:00<00:00, 210.05it/s]                                            \n"
     ]
    },
    {
     "name": "stdout",
     "output_type": "stream",
     "text": [
      "VALID \t: Summary: Loss: 1.1018 Accuracy: 0.6147\n",
      "TRAIN \t: Summary: Loss: 1.0601 Accuracy: 0.6260\n"
     ]
    },
    {
     "name": "stderr",
     "output_type": "stream",
     "text": [
      "Training: Epoch [146/200]: 100%|██████████████████████████████| 313/313 [00:12<00:00, 26.05it/s]                                           \n",
      "Evaluate: Epoch [146/200]: 100%|██████████████████████████████| 79/79 [00:00<00:00, 204.88it/s]                                            \n"
     ]
    },
    {
     "name": "stdout",
     "output_type": "stream",
     "text": [
      "VALID \t: Summary: Loss: 1.1017 Accuracy: 0.6129\n",
      "TRAIN \t: Summary: Loss: 1.0636 Accuracy: 0.6264\n"
     ]
    },
    {
     "name": "stderr",
     "output_type": "stream",
     "text": [
      "Training: Epoch [147/200]: 100%|██████████████████████████████| 313/313 [00:12<00:00, 26.02it/s]                                           \n",
      "Evaluate: Epoch [147/200]: 100%|██████████████████████████████| 79/79 [00:00<00:00, 211.28it/s]                                            \n"
     ]
    },
    {
     "name": "stdout",
     "output_type": "stream",
     "text": [
      "VALID \t: Summary: Loss: 1.1046 Accuracy: 0.6115\n",
      "TRAIN \t: Summary: Loss: 1.0598 Accuracy: 0.6243\n"
     ]
    },
    {
     "name": "stderr",
     "output_type": "stream",
     "text": [
      "Training: Epoch [148/200]: 100%|██████████████████████████████| 313/313 [00:11<00:00, 26.12it/s]                                           \n",
      "Evaluate: Epoch [148/200]: 100%|██████████████████████████████| 79/79 [00:00<00:00, 211.14it/s]                                            \n"
     ]
    },
    {
     "name": "stdout",
     "output_type": "stream",
     "text": [
      "VALID \t: Summary: Loss: 1.1071 Accuracy: 0.6106\n",
      "TRAIN \t: Summary: Loss: 1.0619 Accuracy: 0.6266\n"
     ]
    },
    {
     "name": "stderr",
     "output_type": "stream",
     "text": [
      "Training: Epoch [149/200]: 100%|██████████████████████████████| 313/313 [00:11<00:00, 26.09it/s]                                           \n",
      "Evaluate: Epoch [149/200]: 100%|██████████████████████████████| 79/79 [00:00<00:00, 211.57it/s]                                            \n"
     ]
    },
    {
     "name": "stdout",
     "output_type": "stream",
     "text": [
      "VALID \t: Summary: Loss: 1.1052 Accuracy: 0.6100\n",
      "TRAIN \t: Summary: Loss: 1.0546 Accuracy: 0.6269\n"
     ]
    },
    {
     "name": "stderr",
     "output_type": "stream",
     "text": [
      "Training: Epoch [150/200]: 100%|██████████████████████████████| 313/313 [00:12<00:00, 25.97it/s]                                           \n",
      "Evaluate: Epoch [150/200]: 100%|██████████████████████████████| 79/79 [00:00<00:00, 211.94it/s]                                            \n"
     ]
    },
    {
     "name": "stdout",
     "output_type": "stream",
     "text": [
      "VALID \t: Summary: Loss: 1.1055 Accuracy: 0.6112\n",
      "TRAIN \t: Summary: Loss: 1.0587 Accuracy: 0.6284\n"
     ]
    },
    {
     "name": "stderr",
     "output_type": "stream",
     "text": [
      "Training: Epoch [151/200]: 100%|██████████████████████████████| 313/313 [00:13<00:00, 23.69it/s]                                           \n",
      "Evaluate: Epoch [151/200]: 100%|██████████████████████████████| 79/79 [00:00<00:00, 210.93it/s]                                            \n"
     ]
    },
    {
     "name": "stdout",
     "output_type": "stream",
     "text": [
      "VALID \t: Summary: Loss: 1.1007 Accuracy: 0.6139\n",
      "TRAIN \t: Summary: Loss: 1.0517 Accuracy: 0.6277\n"
     ]
    },
    {
     "name": "stderr",
     "output_type": "stream",
     "text": [
      "Training: Epoch [152/200]: 100%|██████████████████████████████| 313/313 [00:12<00:00, 24.84it/s]                                           \n",
      "Evaluate: Epoch [152/200]: 100%|██████████████████████████████| 79/79 [00:00<00:00, 202.59it/s]                                            \n"
     ]
    },
    {
     "name": "stdout",
     "output_type": "stream",
     "text": [
      "VALID \t: Summary: Loss: 1.0954 Accuracy: 0.6143\n",
      "TRAIN \t: Summary: Loss: 1.0509 Accuracy: 0.6314\n"
     ]
    },
    {
     "name": "stderr",
     "output_type": "stream",
     "text": [
      "Training: Epoch [153/200]: 100%|██████████████████████████████| 313/313 [00:12<00:00, 25.97it/s]                                           \n",
      "Evaluate: Epoch [153/200]: 100%|██████████████████████████████| 79/79 [00:00<00:00, 211.66it/s]                                            \n"
     ]
    },
    {
     "name": "stdout",
     "output_type": "stream",
     "text": [
      "VALID \t: Summary: Loss: 1.0977 Accuracy: 0.6144\n",
      "TRAIN \t: Summary: Loss: 1.0459 Accuracy: 0.6331\n"
     ]
    },
    {
     "name": "stderr",
     "output_type": "stream",
     "text": [
      "Training: Epoch [154/200]: 100%|██████████████████████████████| 313/313 [00:11<00:00, 26.13it/s]                                           \n",
      "Evaluate: Epoch [154/200]: 100%|██████████████████████████████| 79/79 [00:00<00:00, 212.54it/s]                                            \n"
     ]
    },
    {
     "name": "stdout",
     "output_type": "stream",
     "text": [
      "VALID \t: Summary: Loss: 1.0988 Accuracy: 0.6139\n",
      "TRAIN \t: Summary: Loss: 1.0529 Accuracy: 0.6302\n"
     ]
    },
    {
     "name": "stderr",
     "output_type": "stream",
     "text": [
      "Training: Epoch [155/200]: 100%|██████████████████████████████| 313/313 [00:11<00:00, 26.14it/s]                                           \n",
      "Evaluate: Epoch [155/200]: 100%|██████████████████████████████| 79/79 [00:00<00:00, 213.87it/s]                                            \n"
     ]
    },
    {
     "name": "stdout",
     "output_type": "stream",
     "text": [
      "VALID \t: Summary: Loss: 1.1006 Accuracy: 0.6133\n",
      "TRAIN \t: Summary: Loss: 1.0481 Accuracy: 0.6315\n"
     ]
    },
    {
     "name": "stderr",
     "output_type": "stream",
     "text": [
      "Training: Epoch [156/200]: 100%|██████████████████████████████| 313/313 [00:11<00:00, 26.08it/s]                                           \n",
      "Evaluate: Epoch [156/200]: 100%|██████████████████████████████| 79/79 [00:00<00:00, 211.64it/s]                                            \n"
     ]
    },
    {
     "name": "stdout",
     "output_type": "stream",
     "text": [
      "VALID \t: Summary: Loss: 1.0964 Accuracy: 0.6137\n",
      "TRAIN \t: Summary: Loss: 1.0522 Accuracy: 0.6291\n"
     ]
    },
    {
     "name": "stderr",
     "output_type": "stream",
     "text": [
      "Training: Epoch [157/200]: 100%|██████████████████████████████| 313/313 [00:12<00:00, 26.06it/s]                                           \n",
      "Evaluate: Epoch [157/200]: 100%|██████████████████████████████| 79/79 [00:00<00:00, 211.03it/s]                                            \n"
     ]
    },
    {
     "name": "stdout",
     "output_type": "stream",
     "text": [
      "VALID \t: Summary: Loss: 1.0993 Accuracy: 0.6132\n",
      "TRAIN \t: Summary: Loss: 1.0511 Accuracy: 0.6278\n"
     ]
    },
    {
     "name": "stderr",
     "output_type": "stream",
     "text": [
      "Training: Epoch [158/200]: 100%|██████████████████████████████| 313/313 [00:12<00:00, 26.00it/s]                                           \n",
      "Evaluate: Epoch [158/200]: 100%|██████████████████████████████| 79/79 [00:00<00:00, 214.78it/s]                                            \n"
     ]
    },
    {
     "name": "stdout",
     "output_type": "stream",
     "text": [
      "VALID \t: Summary: Loss: 1.0999 Accuracy: 0.6143\n",
      "TRAIN \t: Summary: Loss: 1.0464 Accuracy: 0.6301\n"
     ]
    },
    {
     "name": "stderr",
     "output_type": "stream",
     "text": [
      "Training: Epoch [159/200]: 100%|██████████████████████████████| 313/313 [00:11<00:00, 26.13it/s]                                           \n",
      "Evaluate: Epoch [159/200]: 100%|██████████████████████████████| 79/79 [00:00<00:00, 212.47it/s]                                            \n"
     ]
    },
    {
     "name": "stdout",
     "output_type": "stream",
     "text": [
      "VALID \t: Summary: Loss: 1.0995 Accuracy: 0.6130\n",
      "TRAIN \t: Summary: Loss: 1.0475 Accuracy: 0.6288\n"
     ]
    },
    {
     "name": "stderr",
     "output_type": "stream",
     "text": [
      "Training: Epoch [160/200]: 100%|██████████████████████████████| 313/313 [00:12<00:00, 24.09it/s]                                           \n",
      "Evaluate: Epoch [160/200]: 100%|██████████████████████████████| 79/79 [00:00<00:00, 195.46it/s]                                            \n"
     ]
    },
    {
     "name": "stdout",
     "output_type": "stream",
     "text": [
      "VALID \t: Summary: Loss: 1.0968 Accuracy: 0.6124\n",
      "TRAIN \t: Summary: Loss: 1.0503 Accuracy: 0.6298\n"
     ]
    },
    {
     "name": "stderr",
     "output_type": "stream",
     "text": [
      "Training: Epoch [161/200]: 100%|██████████████████████████████| 313/313 [00:13<00:00, 23.47it/s]                                           \n",
      "Evaluate: Epoch [161/200]: 100%|██████████████████████████████| 79/79 [00:00<00:00, 204.07it/s]                                            \n"
     ]
    },
    {
     "name": "stdout",
     "output_type": "stream",
     "text": [
      "VALID \t: Summary: Loss: 1.1016 Accuracy: 0.6148\n",
      "TRAIN \t: Summary: Loss: 1.0421 Accuracy: 0.6319\n"
     ]
    },
    {
     "name": "stderr",
     "output_type": "stream",
     "text": [
      "Training: Epoch [162/200]: 100%|██████████████████████████████| 313/313 [00:12<00:00, 25.85it/s]                                           \n",
      "Evaluate: Epoch [162/200]: 100%|██████████████████████████████| 79/79 [00:00<00:00, 209.64it/s]                                            \n"
     ]
    },
    {
     "name": "stdout",
     "output_type": "stream",
     "text": [
      "VALID \t: Summary: Loss: 1.0976 Accuracy: 0.6145\n",
      "TRAIN \t: Summary: Loss: 1.0524 Accuracy: 0.6277\n"
     ]
    },
    {
     "name": "stderr",
     "output_type": "stream",
     "text": [
      "Training: Epoch [163/200]: 100%|██████████████████████████████| 313/313 [00:12<00:00, 25.96it/s]                                           \n",
      "Evaluate: Epoch [163/200]: 100%|██████████████████████████████| 79/79 [00:00<00:00, 209.95it/s]                                            \n"
     ]
    },
    {
     "name": "stdout",
     "output_type": "stream",
     "text": [
      "VALID \t: Summary: Loss: 1.0959 Accuracy: 0.6139\n",
      "TRAIN \t: Summary: Loss: 1.0518 Accuracy: 0.6309\n"
     ]
    },
    {
     "name": "stderr",
     "output_type": "stream",
     "text": [
      "Training: Epoch [164/200]: 100%|██████████████████████████████| 313/313 [00:12<00:00, 25.99it/s]                                           \n",
      "Evaluate: Epoch [164/200]: 100%|██████████████████████████████| 79/79 [00:00<00:00, 208.44it/s]                                            \n"
     ]
    },
    {
     "name": "stdout",
     "output_type": "stream",
     "text": [
      "VALID \t: Summary: Loss: 1.0980 Accuracy: 0.6163\n",
      "TRAIN \t: Summary: Loss: 1.0487 Accuracy: 0.6295\n"
     ]
    },
    {
     "name": "stderr",
     "output_type": "stream",
     "text": [
      "Training: Epoch [165/200]: 100%|██████████████████████████████| 313/313 [00:12<00:00, 26.02it/s]                                           \n",
      "Evaluate: Epoch [165/200]: 100%|██████████████████████████████| 79/79 [00:00<00:00, 206.94it/s]                                            \n"
     ]
    },
    {
     "name": "stdout",
     "output_type": "stream",
     "text": [
      "VALID \t: Summary: Loss: 1.0986 Accuracy: 0.6126\n",
      "TRAIN \t: Summary: Loss: 1.0441 Accuracy: 0.6322\n"
     ]
    },
    {
     "name": "stderr",
     "output_type": "stream",
     "text": [
      "Training: Epoch [166/200]: 100%|██████████████████████████████| 313/313 [00:12<00:00, 26.03it/s]                                           \n",
      "Evaluate: Epoch [166/200]: 100%|██████████████████████████████| 79/79 [00:00<00:00, 208.72it/s]                                            \n"
     ]
    },
    {
     "name": "stdout",
     "output_type": "stream",
     "text": [
      "VALID \t: Summary: Loss: 1.0965 Accuracy: 0.6146\n",
      "TRAIN \t: Summary: Loss: 1.0469 Accuracy: 0.6311\n"
     ]
    },
    {
     "name": "stderr",
     "output_type": "stream",
     "text": [
      "Training: Epoch [167/200]: 100%|██████████████████████████████| 313/313 [00:12<00:00, 26.04it/s]                                           \n",
      "Evaluate: Epoch [167/200]: 100%|██████████████████████████████| 79/79 [00:00<00:00, 210.62it/s]                                            \n"
     ]
    },
    {
     "name": "stdout",
     "output_type": "stream",
     "text": [
      "VALID \t: Summary: Loss: 1.0997 Accuracy: 0.6121\n",
      "TRAIN \t: Summary: Loss: 1.0462 Accuracy: 0.6319\n"
     ]
    },
    {
     "name": "stderr",
     "output_type": "stream",
     "text": [
      "Training: Epoch [168/200]: 100%|██████████████████████████████| 313/313 [00:12<00:00, 26.07it/s]                                           \n",
      "Evaluate: Epoch [168/200]: 100%|██████████████████████████████| 79/79 [00:00<00:00, 205.96it/s]                                            \n"
     ]
    },
    {
     "name": "stdout",
     "output_type": "stream",
     "text": [
      "VALID \t: Summary: Loss: 1.0997 Accuracy: 0.6128\n",
      "TRAIN \t: Summary: Loss: 1.0394 Accuracy: 0.6364\n"
     ]
    },
    {
     "name": "stderr",
     "output_type": "stream",
     "text": [
      "Training: Epoch [169/200]: 100%|██████████████████████████████| 313/313 [00:12<00:00, 25.85it/s]                                           \n",
      "Evaluate: Epoch [169/200]: 100%|██████████████████████████████| 79/79 [00:00<00:00, 207.88it/s]                                            \n"
     ]
    },
    {
     "name": "stdout",
     "output_type": "stream",
     "text": [
      "VALID \t: Summary: Loss: 1.0984 Accuracy: 0.6142\n",
      "TRAIN \t: Summary: Loss: 1.0404 Accuracy: 0.6318\n"
     ]
    },
    {
     "name": "stderr",
     "output_type": "stream",
     "text": [
      "Training: Epoch [170/200]: 100%|██████████████████████████████| 313/313 [00:12<00:00, 26.01it/s]                                           \n",
      "Evaluate: Epoch [170/200]: 100%|██████████████████████████████| 79/79 [00:00<00:00, 209.51it/s]                                            \n"
     ]
    },
    {
     "name": "stdout",
     "output_type": "stream",
     "text": [
      "VALID \t: Summary: Loss: 1.0945 Accuracy: 0.6160\n",
      "TRAIN \t: Summary: Loss: 1.0462 Accuracy: 0.6304\n"
     ]
    },
    {
     "name": "stderr",
     "output_type": "stream",
     "text": [
      "Training: Epoch [171/200]: 100%|██████████████████████████████| 313/313 [00:12<00:00, 25.65it/s]                                           \n",
      "Evaluate: Epoch [171/200]: 100%|██████████████████████████████| 79/79 [00:00<00:00, 207.30it/s]                                            \n"
     ]
    },
    {
     "name": "stdout",
     "output_type": "stream",
     "text": [
      "VALID \t: Summary: Loss: 1.0974 Accuracy: 0.6168\n",
      "TRAIN \t: Summary: Loss: 1.0436 Accuracy: 0.6340\n"
     ]
    },
    {
     "name": "stderr",
     "output_type": "stream",
     "text": [
      "Training: Epoch [172/200]: 100%|██████████████████████████████| 313/313 [00:12<00:00, 25.91it/s]                                           \n",
      "Evaluate: Epoch [172/200]: 100%|██████████████████████████████| 79/79 [00:00<00:00, 208.19it/s]                                            \n"
     ]
    },
    {
     "name": "stdout",
     "output_type": "stream",
     "text": [
      "VALID \t: Summary: Loss: 1.0948 Accuracy: 0.6129\n",
      "TRAIN \t: Summary: Loss: 1.0391 Accuracy: 0.6346\n"
     ]
    },
    {
     "name": "stderr",
     "output_type": "stream",
     "text": [
      "Training: Epoch [173/200]: 100%|██████████████████████████████| 313/313 [00:11<00:00, 26.10it/s]                                           \n",
      "Evaluate: Epoch [173/200]: 100%|██████████████████████████████| 79/79 [00:00<00:00, 209.59it/s]                                            \n"
     ]
    },
    {
     "name": "stdout",
     "output_type": "stream",
     "text": [
      "VALID \t: Summary: Loss: 1.0953 Accuracy: 0.6144\n",
      "TRAIN \t: Summary: Loss: 1.0461 Accuracy: 0.6316\n"
     ]
    },
    {
     "name": "stderr",
     "output_type": "stream",
     "text": [
      "Training: Epoch [174/200]: 100%|██████████████████████████████| 313/313 [00:12<00:00, 26.07it/s]                                           \n",
      "Evaluate: Epoch [174/200]: 100%|██████████████████████████████| 79/79 [00:00<00:00, 210.08it/s]                                            \n"
     ]
    },
    {
     "name": "stdout",
     "output_type": "stream",
     "text": [
      "VALID \t: Summary: Loss: 1.0975 Accuracy: 0.6124\n",
      "TRAIN \t: Summary: Loss: 1.0382 Accuracy: 0.6337\n"
     ]
    },
    {
     "name": "stderr",
     "output_type": "stream",
     "text": [
      "Training: Epoch [175/200]: 100%|██████████████████████████████| 313/313 [00:12<00:00, 26.03it/s]                                           \n",
      "Evaluate: Epoch [175/200]: 100%|██████████████████████████████| 79/79 [00:00<00:00, 208.72it/s]                                            \n"
     ]
    },
    {
     "name": "stdout",
     "output_type": "stream",
     "text": [
      "VALID \t: Summary: Loss: 1.0963 Accuracy: 0.6145\n",
      "TRAIN \t: Summary: Loss: 1.0390 Accuracy: 0.6333\n"
     ]
    },
    {
     "name": "stderr",
     "output_type": "stream",
     "text": [
      "Training: Epoch [176/200]: 100%|██████████████████████████████| 313/313 [00:11<00:00, 26.10it/s]                                           \n",
      "Evaluate: Epoch [176/200]: 100%|██████████████████████████████| 79/79 [00:00<00:00, 208.16it/s]                                            \n"
     ]
    },
    {
     "name": "stdout",
     "output_type": "stream",
     "text": [
      "VALID \t: Summary: Loss: 1.0929 Accuracy: 0.6163\n",
      "TRAIN \t: Summary: Loss: 1.0381 Accuracy: 0.6330\n"
     ]
    },
    {
     "name": "stderr",
     "output_type": "stream",
     "text": [
      "Training: Epoch [177/200]: 100%|██████████████████████████████| 313/313 [00:12<00:00, 26.06it/s]                                           \n",
      "Evaluate: Epoch [177/200]: 100%|██████████████████████████████| 79/79 [00:00<00:00, 210.34it/s]                                            \n"
     ]
    },
    {
     "name": "stdout",
     "output_type": "stream",
     "text": [
      "VALID \t: Summary: Loss: 1.0947 Accuracy: 0.6161\n",
      "TRAIN \t: Summary: Loss: 1.0428 Accuracy: 0.6321\n"
     ]
    },
    {
     "name": "stderr",
     "output_type": "stream",
     "text": [
      "Training: Epoch [178/200]: 100%|██████████████████████████████| 313/313 [00:11<00:00, 26.09it/s]                                           \n",
      "Evaluate: Epoch [178/200]: 100%|██████████████████████████████| 79/79 [00:00<00:00, 205.57it/s]                                            \n"
     ]
    },
    {
     "name": "stdout",
     "output_type": "stream",
     "text": [
      "VALID \t: Summary: Loss: 1.0995 Accuracy: 0.6133\n",
      "TRAIN \t: Summary: Loss: 1.0447 Accuracy: 0.6332\n"
     ]
    },
    {
     "name": "stderr",
     "output_type": "stream",
     "text": [
      "Training: Epoch [179/200]: 100%|██████████████████████████████| 313/313 [00:12<00:00, 26.02it/s]                                           \n",
      "Evaluate: Epoch [179/200]: 100%|██████████████████████████████| 79/79 [00:00<00:00, 209.88it/s]                                            \n"
     ]
    },
    {
     "name": "stdout",
     "output_type": "stream",
     "text": [
      "VALID \t: Summary: Loss: 1.0942 Accuracy: 0.6166\n",
      "TRAIN \t: Summary: Loss: 1.0435 Accuracy: 0.6317\n"
     ]
    },
    {
     "name": "stderr",
     "output_type": "stream",
     "text": [
      "Training: Epoch [180/200]: 100%|██████████████████████████████| 313/313 [00:12<00:00, 26.07it/s]                                           \n",
      "Evaluate: Epoch [180/200]: 100%|██████████████████████████████| 79/79 [00:00<00:00, 209.32it/s]                                            \n"
     ]
    },
    {
     "name": "stdout",
     "output_type": "stream",
     "text": [
      "VALID \t: Summary: Loss: 1.0946 Accuracy: 0.6157\n",
      "TRAIN \t: Summary: Loss: 1.0376 Accuracy: 0.6338\n"
     ]
    },
    {
     "name": "stderr",
     "output_type": "stream",
     "text": [
      "Training: Epoch [181/200]: 100%|██████████████████████████████| 313/313 [00:12<00:00, 25.63it/s]                                           \n",
      "Evaluate: Epoch [181/200]: 100%|██████████████████████████████| 79/79 [00:00<00:00, 209.93it/s]                                            \n"
     ]
    },
    {
     "name": "stdout",
     "output_type": "stream",
     "text": [
      "VALID \t: Summary: Loss: 1.0973 Accuracy: 0.6132\n",
      "TRAIN \t: Summary: Loss: 1.0413 Accuracy: 0.6317\n"
     ]
    },
    {
     "name": "stderr",
     "output_type": "stream",
     "text": [
      "Training: Epoch [182/200]: 100%|██████████████████████████████| 313/313 [00:12<00:00, 26.04it/s]                                           \n",
      "Evaluate: Epoch [182/200]: 100%|██████████████████████████████| 79/79 [00:00<00:00, 207.14it/s]                                            \n"
     ]
    },
    {
     "name": "stdout",
     "output_type": "stream",
     "text": [
      "VALID \t: Summary: Loss: 1.0997 Accuracy: 0.6130\n",
      "TRAIN \t: Summary: Loss: 1.0393 Accuracy: 0.6335\n"
     ]
    },
    {
     "name": "stderr",
     "output_type": "stream",
     "text": [
      "Training: Epoch [183/200]: 100%|██████████████████████████████| 313/313 [00:12<00:00, 26.05it/s]                                           \n",
      "Evaluate: Epoch [183/200]: 100%|██████████████████████████████| 79/79 [00:00<00:00, 210.01it/s]                                            \n"
     ]
    },
    {
     "name": "stdout",
     "output_type": "stream",
     "text": [
      "VALID \t: Summary: Loss: 1.1000 Accuracy: 0.6134\n",
      "TRAIN \t: Summary: Loss: 1.0387 Accuracy: 0.6302\n"
     ]
    },
    {
     "name": "stderr",
     "output_type": "stream",
     "text": [
      "Training: Epoch [184/200]: 100%|██████████████████████████████| 313/313 [00:12<00:00, 26.08it/s]                                           \n",
      "Evaluate: Epoch [184/200]: 100%|██████████████████████████████| 79/79 [00:00<00:00, 208.10it/s]                                            \n"
     ]
    },
    {
     "name": "stdout",
     "output_type": "stream",
     "text": [
      "VALID \t: Summary: Loss: 1.0984 Accuracy: 0.6146\n",
      "TRAIN \t: Summary: Loss: 1.0412 Accuracy: 0.6317\n"
     ]
    },
    {
     "name": "stderr",
     "output_type": "stream",
     "text": [
      "Training: Epoch [185/200]: 100%|██████████████████████████████| 313/313 [00:12<00:00, 25.19it/s]                                           \n",
      "Evaluate: Epoch [185/200]: 100%|██████████████████████████████| 79/79 [00:00<00:00, 209.48it/s]                                            \n"
     ]
    },
    {
     "name": "stdout",
     "output_type": "stream",
     "text": [
      "VALID \t: Summary: Loss: 1.0957 Accuracy: 0.6143\n",
      "TRAIN \t: Summary: Loss: 1.0449 Accuracy: 0.6296\n"
     ]
    },
    {
     "name": "stderr",
     "output_type": "stream",
     "text": [
      "Training: Epoch [186/200]: 100%|██████████████████████████████| 313/313 [00:12<00:00, 26.03it/s]                                           \n",
      "Evaluate: Epoch [186/200]: 100%|██████████████████████████████| 79/79 [00:00<00:00, 207.99it/s]                                            \n"
     ]
    },
    {
     "name": "stdout",
     "output_type": "stream",
     "text": [
      "VALID \t: Summary: Loss: 1.0949 Accuracy: 0.6147\n",
      "TRAIN \t: Summary: Loss: 1.0359 Accuracy: 0.6355\n"
     ]
    },
    {
     "name": "stderr",
     "output_type": "stream",
     "text": [
      "Training: Epoch [187/200]: 100%|██████████████████████████████| 313/313 [00:11<00:00, 26.12it/s]                                           \n",
      "Evaluate: Epoch [187/200]: 100%|██████████████████████████████| 79/79 [00:00<00:00, 208.51it/s]                                            \n"
     ]
    },
    {
     "name": "stdout",
     "output_type": "stream",
     "text": [
      "VALID \t: Summary: Loss: 1.0956 Accuracy: 0.6139\n",
      "TRAIN \t: Summary: Loss: 1.0386 Accuracy: 0.6336\n"
     ]
    },
    {
     "name": "stderr",
     "output_type": "stream",
     "text": [
      "Training: Epoch [188/200]: 100%|██████████████████████████████| 313/313 [00:12<00:00, 25.84it/s]                                           \n",
      "Evaluate: Epoch [188/200]: 100%|██████████████████████████████| 79/79 [00:00<00:00, 208.28it/s]                                            \n"
     ]
    },
    {
     "name": "stdout",
     "output_type": "stream",
     "text": [
      "VALID \t: Summary: Loss: 1.0948 Accuracy: 0.6120\n",
      "TRAIN \t: Summary: Loss: 1.0369 Accuracy: 0.6341\n"
     ]
    },
    {
     "name": "stderr",
     "output_type": "stream",
     "text": [
      "Training: Epoch [189/200]: 100%|██████████████████████████████| 313/313 [00:12<00:00, 26.05it/s]                                           \n",
      "Evaluate: Epoch [189/200]: 100%|██████████████████████████████| 79/79 [00:00<00:00, 206.97it/s]                                            \n"
     ]
    },
    {
     "name": "stdout",
     "output_type": "stream",
     "text": [
      "VALID \t: Summary: Loss: 1.0969 Accuracy: 0.6141\n",
      "TRAIN \t: Summary: Loss: 1.0363 Accuracy: 0.6334\n"
     ]
    },
    {
     "name": "stderr",
     "output_type": "stream",
     "text": [
      "Training: Epoch [190/200]: 100%|██████████████████████████████| 313/313 [00:10<00:00, 30.29it/s]                                           \n",
      "Evaluate: Epoch [190/200]: 100%|██████████████████████████████| 79/79 [00:00<00:00, 208.96it/s]                                            \n"
     ]
    },
    {
     "name": "stdout",
     "output_type": "stream",
     "text": [
      "VALID \t: Summary: Loss: 1.0931 Accuracy: 0.6161\n",
      "TRAIN \t: Summary: Loss: 1.0384 Accuracy: 0.6332\n"
     ]
    },
    {
     "name": "stderr",
     "output_type": "stream",
     "text": [
      "Training: Epoch [191/200]: 100%|██████████████████████████████| 313/313 [00:12<00:00, 25.88it/s]                                           \n",
      "Evaluate: Epoch [191/200]: 100%|██████████████████████████████| 79/79 [00:00<00:00, 203.82it/s]                                            \n"
     ]
    },
    {
     "name": "stdout",
     "output_type": "stream",
     "text": [
      "VALID \t: Summary: Loss: 1.0942 Accuracy: 0.6170\n",
      "TRAIN \t: Summary: Loss: 1.0403 Accuracy: 0.6321\n"
     ]
    },
    {
     "name": "stderr",
     "output_type": "stream",
     "text": [
      "Training: Epoch [192/200]: 100%|██████████████████████████████| 313/313 [00:12<00:00, 26.06it/s]                                           \n",
      "Evaluate: Epoch [192/200]: 100%|██████████████████████████████| 79/79 [00:00<00:00, 208.56it/s]                                            \n"
     ]
    },
    {
     "name": "stdout",
     "output_type": "stream",
     "text": [
      "VALID \t: Summary: Loss: 1.0944 Accuracy: 0.6165\n",
      "TRAIN \t: Summary: Loss: 1.0328 Accuracy: 0.6355\n"
     ]
    },
    {
     "name": "stderr",
     "output_type": "stream",
     "text": [
      "Training: Epoch [193/200]: 100%|██████████████████████████████| 313/313 [00:12<00:00, 26.04it/s]                                           \n",
      "Evaluate: Epoch [193/200]: 100%|██████████████████████████████| 79/79 [00:00<00:00, 209.24it/s]                                            \n"
     ]
    },
    {
     "name": "stdout",
     "output_type": "stream",
     "text": [
      "VALID \t: Summary: Loss: 1.0916 Accuracy: 0.6159\n",
      "TRAIN \t: Summary: Loss: 1.0338 Accuracy: 0.6340\n"
     ]
    },
    {
     "name": "stderr",
     "output_type": "stream",
     "text": [
      "Training: Epoch [194/200]: 100%|██████████████████████████████| 313/313 [00:12<00:00, 25.98it/s]                                           \n",
      "Evaluate: Epoch [194/200]: 100%|██████████████████████████████| 79/79 [00:00<00:00, 208.97it/s]                                            \n"
     ]
    },
    {
     "name": "stdout",
     "output_type": "stream",
     "text": [
      "VALID \t: Summary: Loss: 1.0916 Accuracy: 0.6168\n",
      "TRAIN \t: Summary: Loss: 1.0403 Accuracy: 0.6310\n"
     ]
    },
    {
     "name": "stderr",
     "output_type": "stream",
     "text": [
      "Training: Epoch [195/200]: 100%|██████████████████████████████| 313/313 [00:12<00:00, 25.99it/s]                                           \n",
      "Evaluate: Epoch [195/200]: 100%|██████████████████████████████| 79/79 [00:00<00:00, 210.83it/s]                                            \n"
     ]
    },
    {
     "name": "stdout",
     "output_type": "stream",
     "text": [
      "VALID \t: Summary: Loss: 1.0950 Accuracy: 0.6164\n",
      "TRAIN \t: Summary: Loss: 1.0410 Accuracy: 0.6332\n"
     ]
    },
    {
     "name": "stderr",
     "output_type": "stream",
     "text": [
      "Training: Epoch [196/200]: 100%|██████████████████████████████| 313/313 [00:12<00:00, 26.01it/s]                                           \n",
      "Evaluate: Epoch [196/200]: 100%|██████████████████████████████| 79/79 [00:00<00:00, 211.59it/s]                                            \n"
     ]
    },
    {
     "name": "stdout",
     "output_type": "stream",
     "text": [
      "VALID \t: Summary: Loss: 1.0938 Accuracy: 0.6168\n",
      "TRAIN \t: Summary: Loss: 1.0361 Accuracy: 0.6343\n"
     ]
    },
    {
     "name": "stderr",
     "output_type": "stream",
     "text": [
      "Training: Epoch [197/200]: 100%|██████████████████████████████| 313/313 [00:12<00:00, 26.08it/s]                                           \n",
      "Evaluate: Epoch [197/200]: 100%|██████████████████████████████| 79/79 [00:00<00:00, 207.46it/s]                                            \n"
     ]
    },
    {
     "name": "stdout",
     "output_type": "stream",
     "text": [
      "VALID \t: Summary: Loss: 1.0958 Accuracy: 0.6151\n",
      "TRAIN \t: Summary: Loss: 1.0343 Accuracy: 0.6371\n"
     ]
    },
    {
     "name": "stderr",
     "output_type": "stream",
     "text": [
      "Training: Epoch [198/200]: 100%|██████████████████████████████| 313/313 [00:11<00:00, 26.09it/s]                                           \n",
      "Evaluate: Epoch [198/200]: 100%|██████████████████████████████| 79/79 [00:00<00:00, 207.42it/s]                                            \n"
     ]
    },
    {
     "name": "stdout",
     "output_type": "stream",
     "text": [
      "VALID \t: Summary: Loss: 1.0941 Accuracy: 0.6166\n",
      "TRAIN \t: Summary: Loss: 1.0357 Accuracy: 0.6354\n"
     ]
    },
    {
     "name": "stderr",
     "output_type": "stream",
     "text": [
      "Training: Epoch [199/200]: 100%|██████████████████████████████| 313/313 [00:12<00:00, 25.99it/s]                                           \n",
      "Evaluate: Epoch [199/200]: 100%|██████████████████████████████| 79/79 [00:00<00:00, 209.60it/s]                                            \n"
     ]
    },
    {
     "name": "stdout",
     "output_type": "stream",
     "text": [
      "VALID \t: Summary: Loss: 1.0941 Accuracy: 0.6155\n",
      "TRAIN \t: Summary: Loss: 1.0351 Accuracy: 0.6349\n"
     ]
    },
    {
     "name": "stderr",
     "output_type": "stream",
     "text": [
      "Training: Epoch [200/200]: 100%|██████████████████████████████| 313/313 [00:12<00:00, 25.68it/s]                                           \n",
      "Evaluate: Epoch [200/200]: 100%|██████████████████████████████| 79/79 [00:00<00:00, 203.92it/s]                                            \n"
     ]
    },
    {
     "name": "stdout",
     "output_type": "stream",
     "text": [
      "VALID \t: Summary: Loss: 1.0914 Accuracy: 0.6162\n",
      "TRAIN \t: Summary: Loss: 1.0392 Accuracy: 0.6333\n"
     ]
    },
    {
     "data": {
      "image/png": "[encoded data removed]",
      "text/plain": [
       "<Figure size 648x432 with 1 Axes>"
      ]
     },
     "metadata": {
      "needs_background": "light"
     },
     "output_type": "display_data"
    },
    {
     "data": {
      "image/png": "[encoded data removed]",
      "text/plain": [
       "<Figure size 648x432 with 1 Axes>"
      ]
     },
     "metadata": {
      "needs_background": "light"
     },
     "output_type": "display_data"
    }
   ],
   "source": [
    "train_transforms = [\n",
    "    {\n",
    "        \"name\": \"ToTensor\",\n",
    "        \"args\": {},\n",
    "    },\n",
    "    {\n",
    "        \"name\": \"Normalize\",\n",
    "        \"args\": {\"mean\": (0.5, 0.5, 0.5), \"std\": (0.5, 0.5, 0.5)},\n",
    "    },\n",
    "    {\n",
    "        \"name\": \"RandomAffine\",\n",
    "        \"args\": {\"degrees\": 10, \"translate\": (0.1, 0.1), \"scale\": (0.8, 1.2)},\n",
    "    },\n",
    "    {\n",
    "        \"name\": \"RandomHorizontalFlip\",\n",
    "        \"args\": {\"p\": 0.5},\n",
    "    },\n",
    "    {\n",
    "        \"name\": \"GaussianBlur\",\n",
    "        \"args\": {\"kernel_size\": 3},\n",
    "    },\n",
    "]\n",
    "valid_transforms = [\n",
    "    {\n",
    "        \"name\": \"ToTensor\",\n",
    "        \"args\": {},\n",
    "    },\n",
    "    {\n",
    "        \"name\": \"Normalize\",\n",
    "        \"args\": {\"mean\": (0.5, 0.5, 0.5), \"std\": (0.5, 0.5, 0.5)},\n",
    "    },\n",
    "]\n",
    "\n",
    "network = \"tln\"\n",
    "num_epochs = 200\n",
    "batch_size = 128\n",
    "opt_args = {\"name\": \"Adam\", \"lr\": 1e-4}\n",
    "sch_args = {\"name\": \"MultiStepLR\", \"milestones\": [50, 100, 150], \"gamma\": 0.5}\n",
    "\n",
    "net, loss_fn = experiment(\n",
    "    train_transforms, valid_transforms, network, num_epochs, batch_size, opt_args, sch_args=sch_args,\n",
    ")"
   ]
  },
  {
   "cell_type": "code",
   "execution_count": 6,
   "id": "f764e92e-fe41-47b6-89f5-b99f355581c5",
   "metadata": {},
   "outputs": [],
   "source": [
    "test_transforms = [\n",
    "    {\n",
    "        \"name\": \"ToTensor\",\n",
    "        \"args\": {},\n",
    "    },\n",
    "    {\n",
    "        \"name\": \"Normalize\",\n",
    "        \"args\": {\"mean\": (0.5, 0.5, 0.5), \"std\": (0.5, 0.5, 0.5)},\n",
    "    },\n",
    "]\n",
    "test_transform = InputTransform(test_transforms)\n",
    "test_dataset = CIFAR(root=\"../datasets/CIFAR-10/\", mode=\"test\", transform=test_transform)\n",
    "test_loader = get_dataloader(test_dataset, train=False, batch_size=128, num_workers=0)"
   ]
  },
  {
   "cell_type": "code",
   "execution_count": 7,
   "id": "e9d653ef-ac0c-4bae-964c-46329c79db45",
   "metadata": {},
   "outputs": [
    {
     "name": "stderr",
     "output_type": "stream",
     "text": [
      "Evaluate: Epoch [1/1]: 100%|██████████████████████████████| 79/79 [00:00<00:00, 196.16it/s]                                                "
     ]
    },
    {
     "name": "stdout",
     "output_type": "stream",
     "text": [
      "TEST \t: Summary: Loss: 1.1194 Accuracy: 0.6078\n"
     ]
    },
    {
     "name": "stderr",
     "output_type": "stream",
     "text": [
      "\n"
     ]
    },
    {
     "data": {
      "text/plain": [
       "(1.1193882657002798, 0.6078)"
      ]
     },
     "execution_count": 7,
     "metadata": {},
     "output_type": "execute_result"
    }
   ],
   "source": [
    "evaluate(net, test_loader, loss_fn, 1, 1, \"test\")"
   ]
  },
  {
   "cell_type": "code",
   "execution_count": null,
   "id": "56b489ab-8fd7-4f0c-9b12-b73069e2b364",
   "metadata": {},
   "outputs": [],
   "source": []
  }
 ],
 "metadata": {
  "kernelspec": {
   "display_name": "Python 3 (ipykernel)",
   "language": "python",
   "name": "python3"
  },
  "language_info": {
   "codemirror_mode": {
    "name": "ipython",
    "version": 3
   },
   "file_extension": ".py",
   "mimetype": "text/x-python",
   "name": "python",
   "nbconvert_exporter": "python",
   "pygments_lexer": "ipython3",
   "version": "3.9.7"
  }
 },
 "nbformat": 4,
 "nbformat_minor": 5
}
