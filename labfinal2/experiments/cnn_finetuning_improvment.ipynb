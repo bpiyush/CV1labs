{
 "cells": [
  {
   "cell_type": "code",
   "execution_count": 1,
   "id": "5507a249-fc78-4cfc-a933-ca345d0f1ee6",
   "metadata": {},
   "outputs": [],
   "source": [
    "%load_ext autoreload\n",
    "%autoreload 2"
   ]
  },
  {
   "cell_type": "code",
   "execution_count": 2,
   "id": "991c17b7-ff63-4049-9456-f3486680261d",
   "metadata": {},
   "outputs": [],
   "source": [
    "import sys\n",
    "sys.path.insert(0, \"../\")"
   ]
  },
  {
   "cell_type": "code",
   "execution_count": 3,
   "id": "80d8b0e7-7191-4e51-9743-f0e923743548",
   "metadata": {},
   "outputs": [
    {
     "name": "stdout",
     "output_type": "stream",
     "text": [
      "sys.version_info(major=3, minor=9, micro=7, releaselevel='final', serial=0)\n"
     ]
    }
   ],
   "source": [
    "import numpy as np\n",
    "import pandas as pd\n",
    "from tqdm import tqdm\n",
    "import matplotlib.pyplot as plt\n",
    "import seaborn as sns\n",
    "from sklearn.manifold import TSNE\n",
    "import torch\n",
    "import torch.nn as nn\n",
    "from torchsummary import summary\n",
    "\n",
    "from data.input_transforms import InputTransform\n",
    "from data.cifar import CIFAR\n",
    "from data.stl import STL, LABEL_MAP\n",
    "from data.dataloader import get_dataloader\n",
    "from models.optimizer import optimizer, scheduler\n",
    "from networks.twolayernet import TwolayerNet\n",
    "from networks.convnet import ConvNet\n",
    "from utils.viz import plot_multiple_quantities_by_time, show_many_images\n",
    "from main import train, evaluate, fix_seed"
   ]
  },
  {
   "cell_type": "markdown",
   "id": "e096308c-9a90-4947-9ec7-5afc7ef267d4",
   "metadata": {
    "tags": []
   },
   "source": [
    "### Train the network"
   ]
  },
  {
   "cell_type": "code",
   "execution_count": 86,
   "id": "311385db-5de8-4db4-8796-5059c91cccc3",
   "metadata": {
    "tags": []
   },
   "outputs": [
    {
     "name": "stdout",
     "output_type": "stream",
     "text": [
      ":::: Loaded dataset from ../datasets/STL-10/: X ((500, 96, 96, 3)) y (500)\n",
      ":::: Loaded dataset from ../datasets/STL-10/: X ((2000, 96, 96, 3)) y (2000)\n",
      ":::: Loaded dataset from ../datasets/STL-10/: X ((4000, 96, 96, 3)) y (4000)\n"
     ]
    },
    {
     "name": "stderr",
     "output_type": "stream",
     "text": [
      "Training: Epoch [1/100]: 100%|██████████████████████████████| 16/16 [00:00<00:00, 35.50it/s]                    \n",
      "Evaluate: Epoch [1/100]: 100%|██████████████████████████████| 4/4 [00:00<00:00, 73.72it/s]                      \n"
     ]
    },
    {
     "name": "stdout",
     "output_type": "stream",
     "text": [
      "VALID \t: Summary: Loss: 1.8570 Accuracy: 0.2040\n",
      "TRAIN \t: Summary: Loss: 1.8377 Accuracy: 0.2215\n"
     ]
    },
    {
     "name": "stderr",
     "output_type": "stream",
     "text": [
      "Training: Epoch [2/100]: 100%|██████████████████████████████| 16/16 [00:00<00:00, 38.68it/s]                    \n",
      "Evaluate: Epoch [2/100]: 100%|██████████████████████████████| 4/4 [00:00<00:00, 58.62it/s]                      \n"
     ]
    },
    {
     "name": "stdout",
     "output_type": "stream",
     "text": [
      "VALID \t: Summary: Loss: 1.8023 Accuracy: 0.2040\n",
      "TRAIN \t: Summary: Loss: 1.7935 Accuracy: 0.2295\n"
     ]
    },
    {
     "name": "stderr",
     "output_type": "stream",
     "text": [
      "Training: Epoch [3/100]: 100%|██████████████████████████████| 16/16 [00:00<00:00, 37.66it/s]                    \n",
      "Evaluate: Epoch [3/100]: 100%|██████████████████████████████| 4/4 [00:00<00:00, 81.99it/s]                      \n"
     ]
    },
    {
     "name": "stdout",
     "output_type": "stream",
     "text": [
      "VALID \t: Summary: Loss: 1.7517 Accuracy: 0.2160\n",
      "TRAIN \t: Summary: Loss: 1.7358 Accuracy: 0.2450\n"
     ]
    },
    {
     "name": "stderr",
     "output_type": "stream",
     "text": [
      "Training: Epoch [4/100]: 100%|██████████████████████████████| 16/16 [00:00<00:00, 39.66it/s]                    \n",
      "Evaluate: Epoch [4/100]: 100%|██████████████████████████████| 4/4 [00:00<00:00, 82.61it/s]                      \n"
     ]
    },
    {
     "name": "stdout",
     "output_type": "stream",
     "text": [
      "VALID \t: Summary: Loss: 1.7048 Accuracy: 0.2220\n",
      "TRAIN \t: Summary: Loss: 1.6981 Accuracy: 0.2405\n"
     ]
    },
    {
     "name": "stderr",
     "output_type": "stream",
     "text": [
      "Training: Epoch [5/100]: 100%|██████████████████████████████| 16/16 [00:00<00:00, 39.31it/s]                    \n",
      "Evaluate: Epoch [5/100]: 100%|██████████████████████████████| 4/4 [00:00<00:00, 82.04it/s]                      \n"
     ]
    },
    {
     "name": "stdout",
     "output_type": "stream",
     "text": [
      "VALID \t: Summary: Loss: 1.6615 Accuracy: 0.2420\n",
      "TRAIN \t: Summary: Loss: 1.6685 Accuracy: 0.2595\n"
     ]
    },
    {
     "name": "stderr",
     "output_type": "stream",
     "text": [
      "Training: Epoch [6/100]: 100%|██████████████████████████████| 16/16 [00:00<00:00, 39.19it/s]                    \n",
      "Evaluate: Epoch [6/100]: 100%|██████████████████████████████| 4/4 [00:00<00:00, 79.57it/s]                      \n"
     ]
    },
    {
     "name": "stdout",
     "output_type": "stream",
     "text": [
      "VALID \t: Summary: Loss: 1.6223 Accuracy: 0.2640\n",
      "TRAIN \t: Summary: Loss: 1.6361 Accuracy: 0.2875\n"
     ]
    },
    {
     "name": "stderr",
     "output_type": "stream",
     "text": [
      "Training: Epoch [7/100]: 100%|██████████████████████████████| 16/16 [00:00<00:00, 39.06it/s]                    \n",
      "Evaluate: Epoch [7/100]: 100%|██████████████████████████████| 4/4 [00:00<00:00, 81.74it/s]                      \n"
     ]
    },
    {
     "name": "stdout",
     "output_type": "stream",
     "text": [
      "VALID \t: Summary: Loss: 1.5849 Accuracy: 0.2900\n",
      "TRAIN \t: Summary: Loss: 1.5924 Accuracy: 0.3060\n"
     ]
    },
    {
     "name": "stderr",
     "output_type": "stream",
     "text": [
      "Training: Epoch [8/100]: 100%|██████████████████████████████| 16/16 [00:00<00:00, 39.84it/s]                    \n",
      "Evaluate: Epoch [8/100]: 100%|██████████████████████████████| 4/4 [00:00<00:00, 83.31it/s]                      \n"
     ]
    },
    {
     "name": "stdout",
     "output_type": "stream",
     "text": [
      "VALID \t: Summary: Loss: 1.5502 Accuracy: 0.3060\n",
      "TRAIN \t: Summary: Loss: 1.5658 Accuracy: 0.3085\n"
     ]
    },
    {
     "name": "stderr",
     "output_type": "stream",
     "text": [
      "Training: Epoch [9/100]: 100%|██████████████████████████████| 16/16 [00:00<00:00, 39.70it/s]                    \n",
      "Evaluate: Epoch [9/100]: 100%|██████████████████████████████| 4/4 [00:00<00:00, 82.32it/s]                      \n"
     ]
    },
    {
     "name": "stdout",
     "output_type": "stream",
     "text": [
      "VALID \t: Summary: Loss: 1.5185 Accuracy: 0.3280\n",
      "TRAIN \t: Summary: Loss: 1.5310 Accuracy: 0.3315\n"
     ]
    },
    {
     "name": "stderr",
     "output_type": "stream",
     "text": [
      "Training: Epoch [10/100]: 100%|██████████████████████████████| 16/16 [00:00<00:00, 39.80it/s]                   \n",
      "Evaluate: Epoch [10/100]: 100%|██████████████████████████████| 4/4 [00:00<00:00, 83.01it/s]                     \n"
     ]
    },
    {
     "name": "stdout",
     "output_type": "stream",
     "text": [
      "VALID \t: Summary: Loss: 1.4891 Accuracy: 0.3580\n",
      "TRAIN \t: Summary: Loss: 1.4963 Accuracy: 0.3535\n"
     ]
    },
    {
     "name": "stderr",
     "output_type": "stream",
     "text": [
      "Training: Epoch [11/100]: 100%|██████████████████████████████| 16/16 [00:00<00:00, 39.43it/s]                   \n",
      "Evaluate: Epoch [11/100]: 100%|██████████████████████████████| 4/4 [00:00<00:00, 81.73it/s]                     \n"
     ]
    },
    {
     "name": "stdout",
     "output_type": "stream",
     "text": [
      "VALID \t: Summary: Loss: 1.4619 Accuracy: 0.3720\n",
      "TRAIN \t: Summary: Loss: 1.4831 Accuracy: 0.3540\n"
     ]
    },
    {
     "name": "stderr",
     "output_type": "stream",
     "text": [
      "Training: Epoch [12/100]: 100%|██████████████████████████████| 16/16 [00:00<00:00, 39.25it/s]                   \n",
      "Evaluate: Epoch [12/100]: 100%|██████████████████████████████| 4/4 [00:00<00:00, 80.93it/s]                     \n"
     ]
    },
    {
     "name": "stdout",
     "output_type": "stream",
     "text": [
      "VALID \t: Summary: Loss: 1.4362 Accuracy: 0.3840\n",
      "TRAIN \t: Summary: Loss: 1.4547 Accuracy: 0.3855\n"
     ]
    },
    {
     "name": "stderr",
     "output_type": "stream",
     "text": [
      "Training: Epoch [13/100]: 100%|██████████████████████████████| 16/16 [00:00<00:00, 39.18it/s]                   \n",
      "Evaluate: Epoch [13/100]: 100%|██████████████████████████████| 4/4 [00:00<00:00, 83.35it/s]                     \n"
     ]
    },
    {
     "name": "stdout",
     "output_type": "stream",
     "text": [
      "VALID \t: Summary: Loss: 1.4121 Accuracy: 0.3940\n",
      "TRAIN \t: Summary: Loss: 1.4480 Accuracy: 0.3775\n"
     ]
    },
    {
     "name": "stderr",
     "output_type": "stream",
     "text": [
      "Training: Epoch [14/100]: 100%|██████████████████████████████| 16/16 [00:00<00:00, 39.42it/s]                   \n",
      "Evaluate: Epoch [14/100]: 100%|██████████████████████████████| 4/4 [00:00<00:00, 81.08it/s]                     \n"
     ]
    },
    {
     "name": "stdout",
     "output_type": "stream",
     "text": [
      "VALID \t: Summary: Loss: 1.3899 Accuracy: 0.3900\n",
      "TRAIN \t: Summary: Loss: 1.4123 Accuracy: 0.3975\n"
     ]
    },
    {
     "name": "stderr",
     "output_type": "stream",
     "text": [
      "Training: Epoch [15/100]: 100%|██████████████████████████████| 16/16 [00:00<00:00, 38.72it/s]                   \n",
      "Evaluate: Epoch [15/100]: 100%|██████████████████████████████| 4/4 [00:00<00:00, 79.36it/s]                     \n"
     ]
    },
    {
     "name": "stdout",
     "output_type": "stream",
     "text": [
      "VALID \t: Summary: Loss: 1.3686 Accuracy: 0.3980\n",
      "TRAIN \t: Summary: Loss: 1.3917 Accuracy: 0.4125\n"
     ]
    },
    {
     "name": "stderr",
     "output_type": "stream",
     "text": [
      "Training: Epoch [16/100]: 100%|██████████████████████████████| 16/16 [00:00<00:00, 39.20it/s]                   \n",
      "Evaluate: Epoch [16/100]: 100%|██████████████████████████████| 4/4 [00:00<00:00, 82.66it/s]                     \n"
     ]
    },
    {
     "name": "stdout",
     "output_type": "stream",
     "text": [
      "VALID \t: Summary: Loss: 1.3485 Accuracy: 0.4120\n",
      "TRAIN \t: Summary: Loss: 1.3788 Accuracy: 0.4175\n"
     ]
    },
    {
     "name": "stderr",
     "output_type": "stream",
     "text": [
      "Training: Epoch [17/100]: 100%|██████████████████████████████| 16/16 [00:00<00:00, 39.09it/s]                   \n",
      "Evaluate: Epoch [17/100]: 100%|██████████████████████████████| 4/4 [00:00<00:00, 82.34it/s]                     \n"
     ]
    },
    {
     "name": "stdout",
     "output_type": "stream",
     "text": [
      "VALID \t: Summary: Loss: 1.3300 Accuracy: 0.4300\n",
      "TRAIN \t: Summary: Loss: 1.3574 Accuracy: 0.4315\n"
     ]
    },
    {
     "name": "stderr",
     "output_type": "stream",
     "text": [
      "Training: Epoch [18/100]: 100%|██████████████████████████████| 16/16 [00:00<00:00, 38.94it/s]                   \n",
      "Evaluate: Epoch [18/100]: 100%|██████████████████████████████| 4/4 [00:00<00:00, 83.18it/s]                     \n"
     ]
    },
    {
     "name": "stdout",
     "output_type": "stream",
     "text": [
      "VALID \t: Summary: Loss: 1.3122 Accuracy: 0.4340\n",
      "TRAIN \t: Summary: Loss: 1.3453 Accuracy: 0.4225\n"
     ]
    },
    {
     "name": "stderr",
     "output_type": "stream",
     "text": [
      "Training: Epoch [19/100]: 100%|██████████████████████████████| 16/16 [00:00<00:00, 39.44it/s]                   \n",
      "Evaluate: Epoch [19/100]: 100%|██████████████████████████████| 4/4 [00:00<00:00, 81.00it/s]                     \n"
     ]
    },
    {
     "name": "stdout",
     "output_type": "stream",
     "text": [
      "VALID \t: Summary: Loss: 1.2951 Accuracy: 0.4480\n",
      "TRAIN \t: Summary: Loss: 1.3256 Accuracy: 0.4430\n"
     ]
    },
    {
     "name": "stderr",
     "output_type": "stream",
     "text": [
      "Training: Epoch [20/100]: 100%|██████████████████████████████| 16/16 [00:00<00:00, 39.17it/s]                   \n",
      "Evaluate: Epoch [20/100]: 100%|██████████████████████████████| 4/4 [00:00<00:00, 83.55it/s]                     \n"
     ]
    },
    {
     "name": "stdout",
     "output_type": "stream",
     "text": [
      "VALID \t: Summary: Loss: 1.2794 Accuracy: 0.4580\n",
      "TRAIN \t: Summary: Loss: 1.3153 Accuracy: 0.4460\n"
     ]
    },
    {
     "name": "stderr",
     "output_type": "stream",
     "text": [
      "Training: Epoch [21/100]: 100%|██████████████████████████████| 16/16 [00:00<00:00, 39.31it/s]                   \n",
      "Evaluate: Epoch [21/100]: 100%|██████████████████████████████| 4/4 [00:00<00:00, 82.14it/s]                     \n"
     ]
    },
    {
     "name": "stdout",
     "output_type": "stream",
     "text": [
      "VALID \t: Summary: Loss: 1.2644 Accuracy: 0.4720\n",
      "TRAIN \t: Summary: Loss: 1.2996 Accuracy: 0.4515\n"
     ]
    },
    {
     "name": "stderr",
     "output_type": "stream",
     "text": [
      "Training: Epoch [22/100]: 100%|██████████████████████████████| 16/16 [00:00<00:00, 38.84it/s]                   \n",
      "Evaluate: Epoch [22/100]: 100%|██████████████████████████████| 4/4 [00:00<00:00, 78.88it/s]                     \n"
     ]
    },
    {
     "name": "stdout",
     "output_type": "stream",
     "text": [
      "VALID \t: Summary: Loss: 1.2500 Accuracy: 0.4800\n",
      "TRAIN \t: Summary: Loss: 1.2812 Accuracy: 0.4550\n"
     ]
    },
    {
     "name": "stderr",
     "output_type": "stream",
     "text": [
      "Training: Epoch [23/100]: 100%|██████████████████████████████| 16/16 [00:00<00:00, 39.20it/s]                   \n",
      "Evaluate: Epoch [23/100]: 100%|██████████████████████████████| 4/4 [00:00<00:00, 81.81it/s]                     \n"
     ]
    },
    {
     "name": "stdout",
     "output_type": "stream",
     "text": [
      "VALID \t: Summary: Loss: 1.2360 Accuracy: 0.4900\n",
      "TRAIN \t: Summary: Loss: 1.2745 Accuracy: 0.4710\n"
     ]
    },
    {
     "name": "stderr",
     "output_type": "stream",
     "text": [
      "Training: Epoch [24/100]: 100%|██████████████████████████████| 16/16 [00:00<00:00, 39.08it/s]                   \n",
      "Evaluate: Epoch [24/100]: 100%|██████████████████████████████| 4/4 [00:00<00:00, 76.10it/s]                     \n"
     ]
    },
    {
     "name": "stdout",
     "output_type": "stream",
     "text": [
      "VALID \t: Summary: Loss: 1.2232 Accuracy: 0.5000\n",
      "TRAIN \t: Summary: Loss: 1.2603 Accuracy: 0.4780\n"
     ]
    },
    {
     "name": "stderr",
     "output_type": "stream",
     "text": [
      "Training: Epoch [25/100]: 100%|██████████████████████████████| 16/16 [00:00<00:00, 39.06it/s]                   \n",
      "Evaluate: Epoch [25/100]: 100%|██████████████████████████████| 4/4 [00:00<00:00, 80.44it/s]                     \n"
     ]
    },
    {
     "name": "stdout",
     "output_type": "stream",
     "text": [
      "VALID \t: Summary: Loss: 1.2108 Accuracy: 0.5060\n",
      "TRAIN \t: Summary: Loss: 1.2503 Accuracy: 0.4885\n"
     ]
    },
    {
     "name": "stderr",
     "output_type": "stream",
     "text": [
      "Training: Epoch [26/100]: 100%|██████████████████████████████| 16/16 [00:00<00:00, 38.77it/s]                   \n",
      "Evaluate: Epoch [26/100]: 100%|██████████████████████████████| 4/4 [00:00<00:00, 82.70it/s]                     \n"
     ]
    },
    {
     "name": "stdout",
     "output_type": "stream",
     "text": [
      "VALID \t: Summary: Loss: 1.1988 Accuracy: 0.5060\n",
      "TRAIN \t: Summary: Loss: 1.2370 Accuracy: 0.4765\n"
     ]
    },
    {
     "name": "stderr",
     "output_type": "stream",
     "text": [
      "Training: Epoch [27/100]: 100%|██████████████████████████████| 16/16 [00:00<00:00, 38.90it/s]                   \n",
      "Evaluate: Epoch [27/100]: 100%|██████████████████████████████| 4/4 [00:00<00:00, 80.61it/s]                     \n"
     ]
    },
    {
     "name": "stdout",
     "output_type": "stream",
     "text": [
      "VALID \t: Summary: Loss: 1.1877 Accuracy: 0.5140\n",
      "TRAIN \t: Summary: Loss: 1.2322 Accuracy: 0.4890\n"
     ]
    },
    {
     "name": "stderr",
     "output_type": "stream",
     "text": [
      "Training: Epoch [28/100]: 100%|██████████████████████████████| 16/16 [00:00<00:00, 39.24it/s]                   \n",
      "Evaluate: Epoch [28/100]: 100%|██████████████████████████████| 4/4 [00:00<00:00, 81.22it/s]                     \n"
     ]
    },
    {
     "name": "stdout",
     "output_type": "stream",
     "text": [
      "VALID \t: Summary: Loss: 1.1768 Accuracy: 0.5220\n",
      "TRAIN \t: Summary: Loss: 1.2214 Accuracy: 0.4835\n"
     ]
    },
    {
     "name": "stderr",
     "output_type": "stream",
     "text": [
      "Training: Epoch [29/100]: 100%|██████████████████████████████| 16/16 [00:00<00:00, 39.45it/s]                   \n",
      "Evaluate: Epoch [29/100]: 100%|██████████████████████████████| 4/4 [00:00<00:00, 82.64it/s]                     \n"
     ]
    },
    {
     "name": "stdout",
     "output_type": "stream",
     "text": [
      "VALID \t: Summary: Loss: 1.1664 Accuracy: 0.5260\n",
      "TRAIN \t: Summary: Loss: 1.2014 Accuracy: 0.5000\n"
     ]
    },
    {
     "name": "stderr",
     "output_type": "stream",
     "text": [
      "Training: Epoch [30/100]: 100%|██████████████████████████████| 16/16 [00:00<00:00, 39.46it/s]                   \n",
      "Evaluate: Epoch [30/100]: 100%|██████████████████████████████| 4/4 [00:00<00:00, 81.78it/s]                     \n"
     ]
    },
    {
     "name": "stdout",
     "output_type": "stream",
     "text": [
      "VALID \t: Summary: Loss: 1.1565 Accuracy: 0.5360\n",
      "TRAIN \t: Summary: Loss: 1.1991 Accuracy: 0.4890\n"
     ]
    },
    {
     "name": "stderr",
     "output_type": "stream",
     "text": [
      "Training: Epoch [31/100]: 100%|██████████████████████████████| 16/16 [00:00<00:00, 39.17it/s]                   \n",
      "Evaluate: Epoch [31/100]: 100%|██████████████████████████████| 4/4 [00:00<00:00, 81.79it/s]                     \n"
     ]
    },
    {
     "name": "stdout",
     "output_type": "stream",
     "text": [
      "VALID \t: Summary: Loss: 1.1471 Accuracy: 0.5360\n",
      "TRAIN \t: Summary: Loss: 1.1837 Accuracy: 0.5070\n"
     ]
    },
    {
     "name": "stderr",
     "output_type": "stream",
     "text": [
      "Training: Epoch [32/100]: 100%|██████████████████████████████| 16/16 [00:00<00:00, 39.30it/s]                   \n",
      "Evaluate: Epoch [32/100]: 100%|██████████████████████████████| 4/4 [00:00<00:00, 82.12it/s]                     \n"
     ]
    },
    {
     "name": "stdout",
     "output_type": "stream",
     "text": [
      "VALID \t: Summary: Loss: 1.1378 Accuracy: 0.5460\n",
      "TRAIN \t: Summary: Loss: 1.1778 Accuracy: 0.5210\n"
     ]
    },
    {
     "name": "stderr",
     "output_type": "stream",
     "text": [
      "Training: Epoch [33/100]: 100%|██████████████████████████████| 16/16 [00:00<00:00, 38.71it/s]                   \n",
      "Evaluate: Epoch [33/100]: 100%|██████████████████████████████| 4/4 [00:00<00:00, 82.63it/s]                     \n"
     ]
    },
    {
     "name": "stdout",
     "output_type": "stream",
     "text": [
      "VALID \t: Summary: Loss: 1.1292 Accuracy: 0.5480\n",
      "TRAIN \t: Summary: Loss: 1.1736 Accuracy: 0.5120\n"
     ]
    },
    {
     "name": "stderr",
     "output_type": "stream",
     "text": [
      "Training: Epoch [34/100]: 100%|██████████████████████████████| 16/16 [00:00<00:00, 39.71it/s]                   \n",
      "Evaluate: Epoch [34/100]: 100%|██████████████████████████████| 4/4 [00:00<00:00, 82.02it/s]                     \n"
     ]
    },
    {
     "name": "stdout",
     "output_type": "stream",
     "text": [
      "VALID \t: Summary: Loss: 1.1206 Accuracy: 0.5560\n",
      "TRAIN \t: Summary: Loss: 1.1621 Accuracy: 0.5150\n"
     ]
    },
    {
     "name": "stderr",
     "output_type": "stream",
     "text": [
      "Training: Epoch [35/100]: 100%|██████████████████████████████| 16/16 [00:00<00:00, 39.63it/s]                   \n",
      "Evaluate: Epoch [35/100]: 100%|██████████████████████████████| 4/4 [00:00<00:00, 80.73it/s]                     \n"
     ]
    },
    {
     "name": "stdout",
     "output_type": "stream",
     "text": [
      "VALID \t: Summary: Loss: 1.1126 Accuracy: 0.5560\n",
      "TRAIN \t: Summary: Loss: 1.1617 Accuracy: 0.5185\n"
     ]
    },
    {
     "name": "stderr",
     "output_type": "stream",
     "text": [
      "Training: Epoch [36/100]: 100%|██████████████████████████████| 16/16 [00:00<00:00, 39.12it/s]                   \n",
      "Evaluate: Epoch [36/100]: 100%|██████████████████████████████| 4/4 [00:00<00:00, 80.48it/s]                     \n"
     ]
    },
    {
     "name": "stdout",
     "output_type": "stream",
     "text": [
      "VALID \t: Summary: Loss: 1.1045 Accuracy: 0.5620\n",
      "TRAIN \t: Summary: Loss: 1.1569 Accuracy: 0.5170\n"
     ]
    },
    {
     "name": "stderr",
     "output_type": "stream",
     "text": [
      "Training: Epoch [37/100]: 100%|██████████████████████████████| 16/16 [00:00<00:00, 39.08it/s]                   \n",
      "Evaluate: Epoch [37/100]: 100%|██████████████████████████████| 4/4 [00:00<00:00, 83.71it/s]                     \n"
     ]
    },
    {
     "name": "stdout",
     "output_type": "stream",
     "text": [
      "VALID \t: Summary: Loss: 1.0970 Accuracy: 0.5660\n",
      "TRAIN \t: Summary: Loss: 1.1392 Accuracy: 0.5315\n"
     ]
    },
    {
     "name": "stderr",
     "output_type": "stream",
     "text": [
      "Training: Epoch [38/100]: 100%|██████████████████████████████| 16/16 [00:00<00:00, 39.62it/s]                   \n",
      "Evaluate: Epoch [38/100]: 100%|██████████████████████████████| 4/4 [00:00<00:00, 82.49it/s]                     \n"
     ]
    },
    {
     "name": "stdout",
     "output_type": "stream",
     "text": [
      "VALID \t: Summary: Loss: 1.0898 Accuracy: 0.5680\n",
      "TRAIN \t: Summary: Loss: 1.1407 Accuracy: 0.5265\n"
     ]
    },
    {
     "name": "stderr",
     "output_type": "stream",
     "text": [
      "Training: Epoch [39/100]: 100%|██████████████████████████████| 16/16 [00:00<00:00, 38.35it/s]                   \n",
      "Evaluate: Epoch [39/100]: 100%|██████████████████████████████| 4/4 [00:00<00:00, 79.67it/s]                     \n"
     ]
    },
    {
     "name": "stdout",
     "output_type": "stream",
     "text": [
      "VALID \t: Summary: Loss: 1.0829 Accuracy: 0.5660\n",
      "TRAIN \t: Summary: Loss: 1.1327 Accuracy: 0.5270\n"
     ]
    },
    {
     "name": "stderr",
     "output_type": "stream",
     "text": [
      "Training: Epoch [40/100]: 100%|██████████████████████████████| 16/16 [00:00<00:00, 39.50it/s]                   \n",
      "Evaluate: Epoch [40/100]: 100%|██████████████████████████████| 4/4 [00:00<00:00, 80.86it/s]                     \n"
     ]
    },
    {
     "name": "stdout",
     "output_type": "stream",
     "text": [
      "VALID \t: Summary: Loss: 1.0760 Accuracy: 0.5700\n",
      "TRAIN \t: Summary: Loss: 1.1230 Accuracy: 0.5310\n"
     ]
    },
    {
     "name": "stderr",
     "output_type": "stream",
     "text": [
      "Training: Epoch [41/100]: 100%|██████████████████████████████| 16/16 [00:00<00:00, 38.98it/s]                   \n",
      "Evaluate: Epoch [41/100]: 100%|██████████████████████████████| 4/4 [00:00<00:00, 81.84it/s]                     \n"
     ]
    },
    {
     "name": "stdout",
     "output_type": "stream",
     "text": [
      "VALID \t: Summary: Loss: 1.0696 Accuracy: 0.5740\n",
      "TRAIN \t: Summary: Loss: 1.1193 Accuracy: 0.5345\n"
     ]
    },
    {
     "name": "stderr",
     "output_type": "stream",
     "text": [
      "Training: Epoch [42/100]: 100%|██████████████████████████████| 16/16 [00:00<00:00, 38.99it/s]                   \n",
      "Evaluate: Epoch [42/100]: 100%|██████████████████████████████| 4/4 [00:00<00:00, 81.87it/s]                     \n"
     ]
    },
    {
     "name": "stdout",
     "output_type": "stream",
     "text": [
      "VALID \t: Summary: Loss: 1.0632 Accuracy: 0.5880\n",
      "TRAIN \t: Summary: Loss: 1.1132 Accuracy: 0.5320\n"
     ]
    },
    {
     "name": "stderr",
     "output_type": "stream",
     "text": [
      "Training: Epoch [43/100]: 100%|██████████████████████████████| 16/16 [00:00<00:00, 38.49it/s]                   \n",
      "Evaluate: Epoch [43/100]: 100%|██████████████████████████████| 4/4 [00:00<00:00, 77.94it/s]                     \n"
     ]
    },
    {
     "name": "stdout",
     "output_type": "stream",
     "text": [
      "VALID \t: Summary: Loss: 1.0571 Accuracy: 0.5920\n",
      "TRAIN \t: Summary: Loss: 1.1067 Accuracy: 0.5540\n"
     ]
    },
    {
     "name": "stderr",
     "output_type": "stream",
     "text": [
      "Training: Epoch [44/100]: 100%|██████████████████████████████| 16/16 [00:00<00:00, 37.60it/s]                   \n",
      "Evaluate: Epoch [44/100]: 100%|██████████████████████████████| 4/4 [00:00<00:00, 51.83it/s]                     \n"
     ]
    },
    {
     "name": "stdout",
     "output_type": "stream",
     "text": [
      "VALID \t: Summary: Loss: 1.0511 Accuracy: 0.5960\n",
      "TRAIN \t: Summary: Loss: 1.1056 Accuracy: 0.5435\n"
     ]
    },
    {
     "name": "stderr",
     "output_type": "stream",
     "text": [
      "Training: Epoch [45/100]: 100%|██████████████████████████████| 16/16 [00:00<00:00, 33.05it/s]                   \n",
      "Evaluate: Epoch [45/100]: 100%|██████████████████████████████| 4/4 [00:00<00:00, 64.78it/s]                     \n"
     ]
    },
    {
     "name": "stdout",
     "output_type": "stream",
     "text": [
      "VALID \t: Summary: Loss: 1.0453 Accuracy: 0.6040\n",
      "TRAIN \t: Summary: Loss: 1.1037 Accuracy: 0.5530\n"
     ]
    },
    {
     "name": "stderr",
     "output_type": "stream",
     "text": [
      "Training: Epoch [46/100]: 100%|██████████████████████████████| 16/16 [00:00<00:00, 37.92it/s]                   \n",
      "Evaluate: Epoch [46/100]: 100%|██████████████████████████████| 4/4 [00:00<00:00, 80.64it/s]                     \n"
     ]
    },
    {
     "name": "stdout",
     "output_type": "stream",
     "text": [
      "VALID \t: Summary: Loss: 1.0399 Accuracy: 0.6040\n",
      "TRAIN \t: Summary: Loss: 1.0865 Accuracy: 0.5620\n"
     ]
    },
    {
     "name": "stderr",
     "output_type": "stream",
     "text": [
      "Training: Epoch [47/100]: 100%|██████████████████████████████| 16/16 [00:00<00:00, 39.13it/s]                   \n",
      "Evaluate: Epoch [47/100]: 100%|██████████████████████████████| 4/4 [00:00<00:00, 81.92it/s]                     \n"
     ]
    },
    {
     "name": "stdout",
     "output_type": "stream",
     "text": [
      "VALID \t: Summary: Loss: 1.0345 Accuracy: 0.6040\n",
      "TRAIN \t: Summary: Loss: 1.0771 Accuracy: 0.5570\n"
     ]
    },
    {
     "name": "stderr",
     "output_type": "stream",
     "text": [
      "Training: Epoch [48/100]: 100%|██████████████████████████████| 16/16 [00:00<00:00, 39.39it/s]                   \n",
      "Evaluate: Epoch [48/100]: 100%|██████████████████████████████| 4/4 [00:00<00:00, 82.92it/s]                     \n"
     ]
    },
    {
     "name": "stdout",
     "output_type": "stream",
     "text": [
      "VALID \t: Summary: Loss: 1.0289 Accuracy: 0.6120\n",
      "TRAIN \t: Summary: Loss: 1.0868 Accuracy: 0.5525\n"
     ]
    },
    {
     "name": "stderr",
     "output_type": "stream",
     "text": [
      "Training: Epoch [49/100]: 100%|██████████████████████████████| 16/16 [00:00<00:00, 39.60it/s]                   \n",
      "Evaluate: Epoch [49/100]: 100%|██████████████████████████████| 4/4 [00:00<00:00, 83.28it/s]                     \n"
     ]
    },
    {
     "name": "stdout",
     "output_type": "stream",
     "text": [
      "VALID \t: Summary: Loss: 1.0237 Accuracy: 0.6160\n",
      "TRAIN \t: Summary: Loss: 1.0694 Accuracy: 0.5665\n"
     ]
    },
    {
     "name": "stderr",
     "output_type": "stream",
     "text": [
      "Training: Epoch [50/100]: 100%|██████████████████████████████| 16/16 [00:00<00:00, 38.76it/s]                   \n",
      "Evaluate: Epoch [50/100]: 100%|██████████████████████████████| 4/4 [00:00<00:00, 82.10it/s]                     \n"
     ]
    },
    {
     "name": "stdout",
     "output_type": "stream",
     "text": [
      "VALID \t: Summary: Loss: 1.0188 Accuracy: 0.6180\n",
      "TRAIN \t: Summary: Loss: 1.0651 Accuracy: 0.5600\n"
     ]
    },
    {
     "name": "stderr",
     "output_type": "stream",
     "text": [
      "Training: Epoch [51/100]: 100%|██████████████████████████████| 16/16 [00:00<00:00, 39.53it/s]                   \n",
      "Evaluate: Epoch [51/100]: 100%|██████████████████████████████| 4/4 [00:00<00:00, 81.50it/s]                     \n"
     ]
    },
    {
     "name": "stdout",
     "output_type": "stream",
     "text": [
      "VALID \t: Summary: Loss: 1.0141 Accuracy: 0.6220\n",
      "TRAIN \t: Summary: Loss: 1.0726 Accuracy: 0.5670\n"
     ]
    },
    {
     "name": "stderr",
     "output_type": "stream",
     "text": [
      "Training: Epoch [52/100]: 100%|██████████████████████████████| 16/16 [00:00<00:00, 39.00it/s]                   \n",
      "Evaluate: Epoch [52/100]: 100%|██████████████████████████████| 4/4 [00:00<00:00, 83.21it/s]                     \n"
     ]
    },
    {
     "name": "stdout",
     "output_type": "stream",
     "text": [
      "VALID \t: Summary: Loss: 1.0098 Accuracy: 0.6240\n",
      "TRAIN \t: Summary: Loss: 1.0601 Accuracy: 0.5650\n"
     ]
    },
    {
     "name": "stderr",
     "output_type": "stream",
     "text": [
      "Training: Epoch [53/100]: 100%|██████████████████████████████| 16/16 [00:00<00:00, 37.82it/s]                   \n",
      "Evaluate: Epoch [53/100]: 100%|██████████████████████████████| 4/4 [00:00<00:00, 76.09it/s]                     \n"
     ]
    },
    {
     "name": "stdout",
     "output_type": "stream",
     "text": [
      "VALID \t: Summary: Loss: 1.0050 Accuracy: 0.6260\n",
      "TRAIN \t: Summary: Loss: 1.0499 Accuracy: 0.5830\n"
     ]
    },
    {
     "name": "stderr",
     "output_type": "stream",
     "text": [
      "Training: Epoch [54/100]: 100%|██████████████████████████████| 16/16 [00:00<00:00, 39.41it/s]                   \n",
      "Evaluate: Epoch [54/100]: 100%|██████████████████████████████| 4/4 [00:00<00:00, 82.27it/s]                     \n"
     ]
    },
    {
     "name": "stdout",
     "output_type": "stream",
     "text": [
      "VALID \t: Summary: Loss: 1.0005 Accuracy: 0.6320\n",
      "TRAIN \t: Summary: Loss: 1.0611 Accuracy: 0.5645\n"
     ]
    },
    {
     "name": "stderr",
     "output_type": "stream",
     "text": [
      "Training: Epoch [55/100]: 100%|██████████████████████████████| 16/16 [00:00<00:00, 39.76it/s]                   \n",
      "Evaluate: Epoch [55/100]: 100%|██████████████████████████████| 4/4 [00:00<00:00, 82.73it/s]                     \n"
     ]
    },
    {
     "name": "stdout",
     "output_type": "stream",
     "text": [
      "VALID \t: Summary: Loss: 0.9962 Accuracy: 0.6320\n",
      "TRAIN \t: Summary: Loss: 1.0484 Accuracy: 0.5780\n"
     ]
    },
    {
     "name": "stderr",
     "output_type": "stream",
     "text": [
      "Training: Epoch [56/100]: 100%|██████████████████████████████| 16/16 [00:00<00:00, 39.11it/s]                   \n",
      "Evaluate: Epoch [56/100]: 100%|██████████████████████████████| 4/4 [00:00<00:00, 82.69it/s]                     \n"
     ]
    },
    {
     "name": "stdout",
     "output_type": "stream",
     "text": [
      "VALID \t: Summary: Loss: 0.9924 Accuracy: 0.6300\n",
      "TRAIN \t: Summary: Loss: 1.0375 Accuracy: 0.5870\n"
     ]
    },
    {
     "name": "stderr",
     "output_type": "stream",
     "text": [
      "Training: Epoch [57/100]: 100%|██████████████████████████████| 16/16 [00:00<00:00, 39.67it/s]                   \n",
      "Evaluate: Epoch [57/100]: 100%|██████████████████████████████| 4/4 [00:00<00:00, 83.22it/s]                     \n"
     ]
    },
    {
     "name": "stdout",
     "output_type": "stream",
     "text": [
      "VALID \t: Summary: Loss: 0.9881 Accuracy: 0.6320\n",
      "TRAIN \t: Summary: Loss: 1.0395 Accuracy: 0.5860\n"
     ]
    },
    {
     "name": "stderr",
     "output_type": "stream",
     "text": [
      "Training: Epoch [58/100]: 100%|██████████████████████████████| 16/16 [00:00<00:00, 39.27it/s]                   \n",
      "Evaluate: Epoch [58/100]: 100%|██████████████████████████████| 4/4 [00:00<00:00, 83.81it/s]                     \n"
     ]
    },
    {
     "name": "stdout",
     "output_type": "stream",
     "text": [
      "VALID \t: Summary: Loss: 0.9839 Accuracy: 0.6340\n",
      "TRAIN \t: Summary: Loss: 1.0241 Accuracy: 0.5845\n"
     ]
    },
    {
     "name": "stderr",
     "output_type": "stream",
     "text": [
      "Training: Epoch [59/100]: 100%|██████████████████████████████| 16/16 [00:00<00:00, 39.50it/s]                   \n",
      "Evaluate: Epoch [59/100]: 100%|██████████████████████████████| 4/4 [00:00<00:00, 83.90it/s]                     \n"
     ]
    },
    {
     "name": "stdout",
     "output_type": "stream",
     "text": [
      "VALID \t: Summary: Loss: 0.9802 Accuracy: 0.6340\n",
      "TRAIN \t: Summary: Loss: 1.0271 Accuracy: 0.5845\n"
     ]
    },
    {
     "name": "stderr",
     "output_type": "stream",
     "text": [
      "Training: Epoch [60/100]: 100%|██████████████████████████████| 16/16 [00:00<00:00, 39.56it/s]                   \n",
      "Evaluate: Epoch [60/100]: 100%|██████████████████████████████| 4/4 [00:00<00:00, 83.43it/s]                     \n"
     ]
    },
    {
     "name": "stdout",
     "output_type": "stream",
     "text": [
      "VALID \t: Summary: Loss: 0.9766 Accuracy: 0.6380\n",
      "TRAIN \t: Summary: Loss: 1.0321 Accuracy: 0.5780\n"
     ]
    },
    {
     "name": "stderr",
     "output_type": "stream",
     "text": [
      "Training: Epoch [61/100]: 100%|██████████████████████████████| 16/16 [00:00<00:00, 39.74it/s]                   \n",
      "Evaluate: Epoch [61/100]: 100%|██████████████████████████████| 4/4 [00:00<00:00, 83.95it/s]                     \n"
     ]
    },
    {
     "name": "stdout",
     "output_type": "stream",
     "text": [
      "VALID \t: Summary: Loss: 0.9729 Accuracy: 0.6380\n",
      "TRAIN \t: Summary: Loss: 1.0340 Accuracy: 0.5840\n"
     ]
    },
    {
     "name": "stderr",
     "output_type": "stream",
     "text": [
      "Training: Epoch [62/100]: 100%|██████████████████████████████| 16/16 [00:00<00:00, 39.71it/s]                   \n",
      "Evaluate: Epoch [62/100]: 100%|██████████████████████████████| 4/4 [00:00<00:00, 84.80it/s]                     \n"
     ]
    },
    {
     "name": "stdout",
     "output_type": "stream",
     "text": [
      "VALID \t: Summary: Loss: 0.9694 Accuracy: 0.6400\n",
      "TRAIN \t: Summary: Loss: 1.0218 Accuracy: 0.5940\n"
     ]
    },
    {
     "name": "stderr",
     "output_type": "stream",
     "text": [
      "Training: Epoch [63/100]: 100%|██████████████████████████████| 16/16 [00:00<00:00, 39.67it/s]                   \n",
      "Evaluate: Epoch [63/100]: 100%|██████████████████████████████| 4/4 [00:00<00:00, 83.34it/s]                     \n"
     ]
    },
    {
     "name": "stdout",
     "output_type": "stream",
     "text": [
      "VALID \t: Summary: Loss: 0.9661 Accuracy: 0.6440\n",
      "TRAIN \t: Summary: Loss: 1.0154 Accuracy: 0.5740\n"
     ]
    },
    {
     "name": "stderr",
     "output_type": "stream",
     "text": [
      "Training: Epoch [64/100]: 100%|██████████████████████████████| 16/16 [00:00<00:00, 39.68it/s]                   \n",
      "Evaluate: Epoch [64/100]: 100%|██████████████████████████████| 4/4 [00:00<00:00, 83.79it/s]                     \n"
     ]
    },
    {
     "name": "stdout",
     "output_type": "stream",
     "text": [
      "VALID \t: Summary: Loss: 0.9629 Accuracy: 0.6460\n",
      "TRAIN \t: Summary: Loss: 1.0084 Accuracy: 0.5945\n"
     ]
    },
    {
     "name": "stderr",
     "output_type": "stream",
     "text": [
      "Training: Epoch [65/100]: 100%|██████████████████████████████| 16/16 [00:00<00:00, 39.61it/s]                   \n",
      "Evaluate: Epoch [65/100]: 100%|██████████████████████████████| 4/4 [00:00<00:00, 84.47it/s]                     \n"
     ]
    },
    {
     "name": "stdout",
     "output_type": "stream",
     "text": [
      "VALID \t: Summary: Loss: 0.9597 Accuracy: 0.6500\n",
      "TRAIN \t: Summary: Loss: 1.0077 Accuracy: 0.5965\n"
     ]
    },
    {
     "name": "stderr",
     "output_type": "stream",
     "text": [
      "Training: Epoch [66/100]: 100%|██████████████████████████████| 16/16 [00:00<00:00, 39.36it/s]                   \n",
      "Evaluate: Epoch [66/100]: 100%|██████████████████████████████| 4/4 [00:00<00:00, 82.25it/s]                     \n"
     ]
    },
    {
     "name": "stdout",
     "output_type": "stream",
     "text": [
      "VALID \t: Summary: Loss: 0.9567 Accuracy: 0.6480\n",
      "TRAIN \t: Summary: Loss: 1.0119 Accuracy: 0.5860\n"
     ]
    },
    {
     "name": "stderr",
     "output_type": "stream",
     "text": [
      "Training: Epoch [67/100]: 100%|██████████████████████████████| 16/16 [00:00<00:00, 39.16it/s]                   \n",
      "Evaluate: Epoch [67/100]: 100%|██████████████████████████████| 4/4 [00:00<00:00, 82.62it/s]                     \n"
     ]
    },
    {
     "name": "stdout",
     "output_type": "stream",
     "text": [
      "VALID \t: Summary: Loss: 0.9536 Accuracy: 0.6520\n",
      "TRAIN \t: Summary: Loss: 1.0097 Accuracy: 0.5945\n"
     ]
    },
    {
     "name": "stderr",
     "output_type": "stream",
     "text": [
      "Training: Epoch [68/100]: 100%|██████████████████████████████| 16/16 [00:00<00:00, 39.38it/s]                   \n",
      "Evaluate: Epoch [68/100]: 100%|██████████████████████████████| 4/4 [00:00<00:00, 84.04it/s]                     \n"
     ]
    },
    {
     "name": "stdout",
     "output_type": "stream",
     "text": [
      "VALID \t: Summary: Loss: 0.9507 Accuracy: 0.6520\n",
      "TRAIN \t: Summary: Loss: 1.0096 Accuracy: 0.5900\n"
     ]
    },
    {
     "name": "stderr",
     "output_type": "stream",
     "text": [
      "Training: Epoch [69/100]: 100%|██████████████████████████████| 16/16 [00:00<00:00, 39.36it/s]                   \n",
      "Evaluate: Epoch [69/100]: 100%|██████████████████████████████| 4/4 [00:00<00:00, 84.42it/s]                     \n"
     ]
    },
    {
     "name": "stdout",
     "output_type": "stream",
     "text": [
      "VALID \t: Summary: Loss: 0.9474 Accuracy: 0.6560\n",
      "TRAIN \t: Summary: Loss: 1.0031 Accuracy: 0.5920\n"
     ]
    },
    {
     "name": "stderr",
     "output_type": "stream",
     "text": [
      "Training: Epoch [70/100]: 100%|██████████████████████████████| 16/16 [00:00<00:00, 38.29it/s]                   \n",
      "Evaluate: Epoch [70/100]: 100%|██████████████████████████████| 4/4 [00:00<00:00, 79.49it/s]                     \n"
     ]
    },
    {
     "name": "stdout",
     "output_type": "stream",
     "text": [
      "VALID \t: Summary: Loss: 0.9447 Accuracy: 0.6560\n",
      "TRAIN \t: Summary: Loss: 0.9935 Accuracy: 0.5945\n"
     ]
    },
    {
     "name": "stderr",
     "output_type": "stream",
     "text": [
      "Training: Epoch [71/100]: 100%|██████████████████████████████| 16/16 [00:00<00:00, 37.72it/s]                   \n",
      "Evaluate: Epoch [71/100]: 100%|██████████████████████████████| 4/4 [00:00<00:00, 79.46it/s]                     \n"
     ]
    },
    {
     "name": "stdout",
     "output_type": "stream",
     "text": [
      "VALID \t: Summary: Loss: 0.9419 Accuracy: 0.6540\n",
      "TRAIN \t: Summary: Loss: 0.9917 Accuracy: 0.6005\n"
     ]
    },
    {
     "name": "stderr",
     "output_type": "stream",
     "text": [
      "Training: Epoch [72/100]: 100%|██████████████████████████████| 16/16 [00:00<00:00, 39.77it/s]                   \n",
      "Evaluate: Epoch [72/100]: 100%|██████████████████████████████| 4/4 [00:00<00:00, 81.68it/s]                     \n"
     ]
    },
    {
     "name": "stdout",
     "output_type": "stream",
     "text": [
      "VALID \t: Summary: Loss: 0.9390 Accuracy: 0.6600\n",
      "TRAIN \t: Summary: Loss: 0.9910 Accuracy: 0.5990\n"
     ]
    },
    {
     "name": "stderr",
     "output_type": "stream",
     "text": [
      "Training: Epoch [73/100]: 100%|██████████████████████████████| 16/16 [00:00<00:00, 38.59it/s]                   \n",
      "Evaluate: Epoch [73/100]: 100%|██████████████████████████████| 4/4 [00:00<00:00, 83.28it/s]                     \n"
     ]
    },
    {
     "name": "stdout",
     "output_type": "stream",
     "text": [
      "VALID \t: Summary: Loss: 0.9364 Accuracy: 0.6620\n",
      "TRAIN \t: Summary: Loss: 0.9858 Accuracy: 0.6110\n"
     ]
    },
    {
     "name": "stderr",
     "output_type": "stream",
     "text": [
      "Training: Epoch [74/100]: 100%|██████████████████████████████| 16/16 [00:00<00:00, 39.48it/s]                   \n",
      "Evaluate: Epoch [74/100]: 100%|██████████████████████████████| 4/4 [00:00<00:00, 83.00it/s]                     \n"
     ]
    },
    {
     "name": "stdout",
     "output_type": "stream",
     "text": [
      "VALID \t: Summary: Loss: 0.9339 Accuracy: 0.6620\n",
      "TRAIN \t: Summary: Loss: 0.9837 Accuracy: 0.6150\n"
     ]
    },
    {
     "name": "stderr",
     "output_type": "stream",
     "text": [
      "Training: Epoch [75/100]: 100%|██████████████████████████████| 16/16 [00:00<00:00, 39.70it/s]                   \n",
      "Evaluate: Epoch [75/100]: 100%|██████████████████████████████| 4/4 [00:00<00:00, 83.04it/s]                     \n"
     ]
    },
    {
     "name": "stdout",
     "output_type": "stream",
     "text": [
      "VALID \t: Summary: Loss: 0.9314 Accuracy: 0.6620\n",
      "TRAIN \t: Summary: Loss: 0.9868 Accuracy: 0.6110\n"
     ]
    },
    {
     "name": "stderr",
     "output_type": "stream",
     "text": [
      "Training: Epoch [76/100]: 100%|██████████████████████████████| 16/16 [00:00<00:00, 39.69it/s]                   \n",
      "Evaluate: Epoch [76/100]: 100%|██████████████████████████████| 4/4 [00:00<00:00, 83.11it/s]                     \n"
     ]
    },
    {
     "name": "stdout",
     "output_type": "stream",
     "text": [
      "VALID \t: Summary: Loss: 0.9291 Accuracy: 0.6620\n",
      "TRAIN \t: Summary: Loss: 0.9891 Accuracy: 0.5985\n"
     ]
    },
    {
     "name": "stderr",
     "output_type": "stream",
     "text": [
      "Training: Epoch [77/100]: 100%|██████████████████████████████| 16/16 [00:00<00:00, 39.37it/s]                   \n",
      "Evaluate: Epoch [77/100]: 100%|██████████████████████████████| 4/4 [00:00<00:00, 83.18it/s]                     \n"
     ]
    },
    {
     "name": "stdout",
     "output_type": "stream",
     "text": [
      "VALID \t: Summary: Loss: 0.9265 Accuracy: 0.6620\n",
      "TRAIN \t: Summary: Loss: 0.9748 Accuracy: 0.6025\n"
     ]
    },
    {
     "name": "stderr",
     "output_type": "stream",
     "text": [
      "Training: Epoch [78/100]: 100%|██████████████████████████████| 16/16 [00:00<00:00, 39.58it/s]                   \n",
      "Evaluate: Epoch [78/100]: 100%|██████████████████████████████| 4/4 [00:00<00:00, 84.33it/s]                     \n"
     ]
    },
    {
     "name": "stdout",
     "output_type": "stream",
     "text": [
      "VALID \t: Summary: Loss: 0.9240 Accuracy: 0.6640\n",
      "TRAIN \t: Summary: Loss: 0.9791 Accuracy: 0.6120\n"
     ]
    },
    {
     "name": "stderr",
     "output_type": "stream",
     "text": [
      "Training: Epoch [79/100]: 100%|██████████████████████████████| 16/16 [00:00<00:00, 39.60it/s]                   \n",
      "Evaluate: Epoch [79/100]: 100%|██████████████████████████████| 4/4 [00:00<00:00, 83.93it/s]                     \n"
     ]
    },
    {
     "name": "stdout",
     "output_type": "stream",
     "text": [
      "VALID \t: Summary: Loss: 0.9218 Accuracy: 0.6620\n",
      "TRAIN \t: Summary: Loss: 0.9739 Accuracy: 0.6175\n"
     ]
    },
    {
     "name": "stderr",
     "output_type": "stream",
     "text": [
      "Training: Epoch [80/100]: 100%|██████████████████████████████| 16/16 [00:00<00:00, 38.42it/s]                   \n",
      "Evaluate: Epoch [80/100]: 100%|██████████████████████████████| 4/4 [00:00<00:00, 73.84it/s]                     \n"
     ]
    },
    {
     "name": "stdout",
     "output_type": "stream",
     "text": [
      "VALID \t: Summary: Loss: 0.9197 Accuracy: 0.6600\n",
      "TRAIN \t: Summary: Loss: 0.9749 Accuracy: 0.6090\n"
     ]
    },
    {
     "name": "stderr",
     "output_type": "stream",
     "text": [
      "Training: Epoch [81/100]: 100%|██████████████████████████████| 16/16 [00:00<00:00, 35.15it/s]                   \n",
      "Evaluate: Epoch [81/100]: 100%|██████████████████████████████| 4/4 [00:00<00:00, 70.76it/s]                     \n"
     ]
    },
    {
     "name": "stdout",
     "output_type": "stream",
     "text": [
      "VALID \t: Summary: Loss: 0.9175 Accuracy: 0.6600\n",
      "TRAIN \t: Summary: Loss: 0.9814 Accuracy: 0.5995\n"
     ]
    },
    {
     "name": "stderr",
     "output_type": "stream",
     "text": [
      "Training: Epoch [82/100]: 100%|██████████████████████████████| 16/16 [00:00<00:00, 36.11it/s]                   \n",
      "Evaluate: Epoch [82/100]: 100%|██████████████████████████████| 4/4 [00:00<00:00, 83.46it/s]                     \n"
     ]
    },
    {
     "name": "stdout",
     "output_type": "stream",
     "text": [
      "VALID \t: Summary: Loss: 0.9156 Accuracy: 0.6620\n",
      "TRAIN \t: Summary: Loss: 0.9670 Accuracy: 0.6045\n"
     ]
    },
    {
     "name": "stderr",
     "output_type": "stream",
     "text": [
      "Training: Epoch [83/100]: 100%|██████████████████████████████| 16/16 [00:00<00:00, 39.37it/s]                   \n",
      "Evaluate: Epoch [83/100]: 100%|██████████████████████████████| 4/4 [00:00<00:00, 84.03it/s]                     \n"
     ]
    },
    {
     "name": "stdout",
     "output_type": "stream",
     "text": [
      "VALID \t: Summary: Loss: 0.9136 Accuracy: 0.6620\n",
      "TRAIN \t: Summary: Loss: 0.9587 Accuracy: 0.6225\n"
     ]
    },
    {
     "name": "stderr",
     "output_type": "stream",
     "text": [
      "Training: Epoch [84/100]: 100%|██████████████████████████████| 16/16 [00:00<00:00, 39.66it/s]                   \n",
      "Evaluate: Epoch [84/100]: 100%|██████████████████████████████| 4/4 [00:00<00:00, 83.79it/s]                     \n"
     ]
    },
    {
     "name": "stdout",
     "output_type": "stream",
     "text": [
      "VALID \t: Summary: Loss: 0.9115 Accuracy: 0.6620\n",
      "TRAIN \t: Summary: Loss: 0.9678 Accuracy: 0.6095\n"
     ]
    },
    {
     "name": "stderr",
     "output_type": "stream",
     "text": [
      "Training: Epoch [85/100]: 100%|██████████████████████████████| 16/16 [00:00<00:00, 39.62it/s]                   \n",
      "Evaluate: Epoch [85/100]: 100%|██████████████████████████████| 4/4 [00:00<00:00, 84.18it/s]                     \n"
     ]
    },
    {
     "name": "stdout",
     "output_type": "stream",
     "text": [
      "VALID \t: Summary: Loss: 0.9095 Accuracy: 0.6620\n",
      "TRAIN \t: Summary: Loss: 0.9620 Accuracy: 0.6120\n"
     ]
    },
    {
     "name": "stderr",
     "output_type": "stream",
     "text": [
      "Training: Epoch [86/100]: 100%|██████████████████████████████| 16/16 [00:00<00:00, 39.52it/s]                   \n",
      "Evaluate: Epoch [86/100]: 100%|██████████████████████████████| 4/4 [00:00<00:00, 84.30it/s]                     \n"
     ]
    },
    {
     "name": "stdout",
     "output_type": "stream",
     "text": [
      "VALID \t: Summary: Loss: 0.9080 Accuracy: 0.6620\n",
      "TRAIN \t: Summary: Loss: 0.9596 Accuracy: 0.6090\n"
     ]
    },
    {
     "name": "stderr",
     "output_type": "stream",
     "text": [
      "Training: Epoch [87/100]: 100%|██████████████████████████████| 16/16 [00:00<00:00, 39.67it/s]                   \n",
      "Evaluate: Epoch [87/100]: 100%|██████████████████████████████| 4/4 [00:00<00:00, 84.31it/s]                     \n"
     ]
    },
    {
     "name": "stdout",
     "output_type": "stream",
     "text": [
      "VALID \t: Summary: Loss: 0.9061 Accuracy: 0.6640\n",
      "TRAIN \t: Summary: Loss: 0.9556 Accuracy: 0.6205\n"
     ]
    },
    {
     "name": "stderr",
     "output_type": "stream",
     "text": [
      "Training: Epoch [88/100]: 100%|██████████████████████████████| 16/16 [00:00<00:00, 39.60it/s]                   \n",
      "Evaluate: Epoch [88/100]: 100%|██████████████████████████████| 4/4 [00:00<00:00, 83.91it/s]                     \n"
     ]
    },
    {
     "name": "stdout",
     "output_type": "stream",
     "text": [
      "VALID \t: Summary: Loss: 0.9039 Accuracy: 0.6620\n",
      "TRAIN \t: Summary: Loss: 0.9630 Accuracy: 0.6070\n"
     ]
    },
    {
     "name": "stderr",
     "output_type": "stream",
     "text": [
      "Training: Epoch [89/100]: 100%|██████████████████████████████| 16/16 [00:00<00:00, 39.61it/s]                   \n",
      "Evaluate: Epoch [89/100]: 100%|██████████████████████████████| 4/4 [00:00<00:00, 83.98it/s]                     \n"
     ]
    },
    {
     "name": "stdout",
     "output_type": "stream",
     "text": [
      "VALID \t: Summary: Loss: 0.9021 Accuracy: 0.6620\n",
      "TRAIN \t: Summary: Loss: 0.9554 Accuracy: 0.6220\n"
     ]
    },
    {
     "name": "stderr",
     "output_type": "stream",
     "text": [
      "Training: Epoch [90/100]: 100%|██████████████████████████████| 16/16 [00:00<00:00, 39.57it/s]                   \n",
      "Evaluate: Epoch [90/100]: 100%|██████████████████████████████| 4/4 [00:00<00:00, 81.97it/s]                     \n"
     ]
    },
    {
     "name": "stdout",
     "output_type": "stream",
     "text": [
      "VALID \t: Summary: Loss: 0.9001 Accuracy: 0.6620\n",
      "TRAIN \t: Summary: Loss: 0.9493 Accuracy: 0.6210\n"
     ]
    },
    {
     "name": "stderr",
     "output_type": "stream",
     "text": [
      "Training: Epoch [91/100]: 100%|██████████████████████████████| 16/16 [00:00<00:00, 39.63it/s]                   \n",
      "Evaluate: Epoch [91/100]: 100%|██████████████████████████████| 4/4 [00:00<00:00, 84.31it/s]                     \n"
     ]
    },
    {
     "name": "stdout",
     "output_type": "stream",
     "text": [
      "VALID \t: Summary: Loss: 0.8982 Accuracy: 0.6600\n",
      "TRAIN \t: Summary: Loss: 0.9495 Accuracy: 0.6130\n"
     ]
    },
    {
     "name": "stderr",
     "output_type": "stream",
     "text": [
      "Training: Epoch [92/100]: 100%|██████████████████████████████| 16/16 [00:00<00:00, 39.46it/s]                   \n",
      "Evaluate: Epoch [92/100]: 100%|██████████████████████████████| 4/4 [00:00<00:00, 84.05it/s]                     \n"
     ]
    },
    {
     "name": "stdout",
     "output_type": "stream",
     "text": [
      "VALID \t: Summary: Loss: 0.8967 Accuracy: 0.6600\n",
      "TRAIN \t: Summary: Loss: 0.9459 Accuracy: 0.6235\n"
     ]
    },
    {
     "name": "stderr",
     "output_type": "stream",
     "text": [
      "Training: Epoch [93/100]: 100%|██████████████████████████████| 16/16 [00:00<00:00, 39.83it/s]                   \n",
      "Evaluate: Epoch [93/100]: 100%|██████████████████████████████| 4/4 [00:00<00:00, 83.27it/s]                     \n"
     ]
    },
    {
     "name": "stdout",
     "output_type": "stream",
     "text": [
      "VALID \t: Summary: Loss: 0.8950 Accuracy: 0.6600\n",
      "TRAIN \t: Summary: Loss: 0.9439 Accuracy: 0.6175\n"
     ]
    },
    {
     "name": "stderr",
     "output_type": "stream",
     "text": [
      "Training: Epoch [94/100]: 100%|██████████████████████████████| 16/16 [00:00<00:00, 39.28it/s]                   \n",
      "Evaluate: Epoch [94/100]: 100%|██████████████████████████████| 4/4 [00:00<00:00, 83.16it/s]                     \n"
     ]
    },
    {
     "name": "stdout",
     "output_type": "stream",
     "text": [
      "VALID \t: Summary: Loss: 0.8929 Accuracy: 0.6620\n",
      "TRAIN \t: Summary: Loss: 0.9372 Accuracy: 0.6295\n"
     ]
    },
    {
     "name": "stderr",
     "output_type": "stream",
     "text": [
      "Training: Epoch [95/100]: 100%|██████████████████████████████| 16/16 [00:00<00:00, 39.04it/s]                   \n",
      "Evaluate: Epoch [95/100]: 100%|██████████████████████████████| 4/4 [00:00<00:00, 82.58it/s]                     \n"
     ]
    },
    {
     "name": "stdout",
     "output_type": "stream",
     "text": [
      "VALID \t: Summary: Loss: 0.8913 Accuracy: 0.6600\n",
      "TRAIN \t: Summary: Loss: 0.9483 Accuracy: 0.6115\n"
     ]
    },
    {
     "name": "stderr",
     "output_type": "stream",
     "text": [
      "Training: Epoch [96/100]: 100%|██████████████████████████████| 16/16 [00:00<00:00, 39.36it/s]                   \n",
      "Evaluate: Epoch [96/100]: 100%|██████████████████████████████| 4/4 [00:00<00:00, 83.31it/s]                     \n"
     ]
    },
    {
     "name": "stdout",
     "output_type": "stream",
     "text": [
      "VALID \t: Summary: Loss: 0.8899 Accuracy: 0.6620\n",
      "TRAIN \t: Summary: Loss: 0.9564 Accuracy: 0.6165\n"
     ]
    },
    {
     "name": "stderr",
     "output_type": "stream",
     "text": [
      "Training: Epoch [97/100]: 100%|██████████████████████████████| 16/16 [00:00<00:00, 39.33it/s]                   \n",
      "Evaluate: Epoch [97/100]: 100%|██████████████████████████████| 4/4 [00:00<00:00, 81.91it/s]                     \n"
     ]
    },
    {
     "name": "stdout",
     "output_type": "stream",
     "text": [
      "VALID \t: Summary: Loss: 0.8882 Accuracy: 0.6620\n",
      "TRAIN \t: Summary: Loss: 0.9434 Accuracy: 0.6185\n"
     ]
    },
    {
     "name": "stderr",
     "output_type": "stream",
     "text": [
      "Training: Epoch [98/100]: 100%|██████████████████████████████| 16/16 [00:00<00:00, 39.33it/s]                   \n",
      "Evaluate: Epoch [98/100]: 100%|██████████████████████████████| 4/4 [00:00<00:00, 81.78it/s]                     \n"
     ]
    },
    {
     "name": "stdout",
     "output_type": "stream",
     "text": [
      "VALID \t: Summary: Loss: 0.8869 Accuracy: 0.6600\n",
      "TRAIN \t: Summary: Loss: 0.9450 Accuracy: 0.6150\n"
     ]
    },
    {
     "name": "stderr",
     "output_type": "stream",
     "text": [
      "Training: Epoch [99/100]: 100%|██████████████████████████████| 16/16 [00:00<00:00, 38.47it/s]                   \n",
      "Evaluate: Epoch [99/100]: 100%|██████████████████████████████| 4/4 [00:00<00:00, 77.86it/s]                     \n"
     ]
    },
    {
     "name": "stdout",
     "output_type": "stream",
     "text": [
      "VALID \t: Summary: Loss: 0.8853 Accuracy: 0.6600\n",
      "TRAIN \t: Summary: Loss: 0.9360 Accuracy: 0.6420\n"
     ]
    },
    {
     "name": "stderr",
     "output_type": "stream",
     "text": [
      "Training: Epoch [100/100]: 100%|██████████████████████████████| 16/16 [00:00<00:00, 37.75it/s]                  \n",
      "Evaluate: Epoch [100/100]: 100%|██████████████████████████████| 4/4 [00:00<00:00, 83.36it/s]                    \n"
     ]
    },
    {
     "name": "stdout",
     "output_type": "stream",
     "text": [
      "VALID \t: Summary: Loss: 0.8838 Accuracy: 0.6620\n",
      "TRAIN \t: Summary: Loss: 0.9463 Accuracy: 0.6155\n"
     ]
    },
    {
     "data": {
      "image/png": "[encoded data removed]",
      "text/plain": [
       "<Figure size 648x432 with 1 Axes>"
      ]
     },
     "metadata": {
      "needs_background": "light"
     },
     "output_type": "display_data"
    },
    {
     "data": {
      "image/png": "[encoded data removed]",
      "text/plain": [
       "<Figure size 648x432 with 1 Axes>"
      ]
     },
     "metadata": {
      "needs_background": "light"
     },
     "output_type": "display_data"
    },
    {
     "name": "stderr",
     "output_type": "stream",
     "text": [
      "Evaluate: Epoch [1/1]: 100%|██████████████████████████████| 32/32 [00:00<00:00, 78.71it/s]                      "
     ]
    },
    {
     "name": "stdout",
     "output_type": "stream",
     "text": [
      "TEST \t: Summary: Loss: 0.8795 Accuracy: 0.6445\n"
     ]
    },
    {
     "name": "stderr",
     "output_type": "stream",
     "text": [
      "\n"
     ]
    },
    {
     "data": {
      "text/plain": [
       "(0.8795049898326397, 0.6445)"
      ]
     },
     "execution_count": 86,
     "metadata": {},
     "output_type": "execute_result"
    }
   ],
   "source": [
    "fix_seed(0)\n",
    "\n",
    "# define network\n",
    "net = ConvNet(\n",
    "    in_channels=3,\n",
    "    num_classes=5,\n",
    "    ckpt_path=\"../checkpoints/cnn_best_hparams.pt\",\n",
    "    return_features=False,\n",
    ")\n",
    "\n",
    "# freeze some layers\n",
    "net.conv1.weight.requires_grad = False\n",
    "net.conv1.bias.requires_grad = False\n",
    "\n",
    "net.conv2.weight.requires_grad = False\n",
    "net.conv2.bias.requires_grad = False\n",
    "\n",
    "net.linear1.weight.requires_grad = False\n",
    "net.linear1.bias.requires_grad = False\n",
    "\n",
    "net.linear2.weight.requires_grad = False\n",
    "net.linear2.bias.requires_grad = False\n",
    "\n",
    "# define transforms\n",
    "train_transforms = [\n",
    "    {\n",
    "        \"name\": \"ToTensor\",\n",
    "        \"args\": {},\n",
    "    },\n",
    "    {\n",
    "        \"name\": \"Resize\",\n",
    "        \"args\": {\"size\": 32},\n",
    "    },\n",
    "    {\n",
    "        \"name\": \"Normalize\",\n",
    "        \"args\": {\"mean\": (0.5, 0.5, 0.5), \"std\": (0.5, 0.5, 0.5)},\n",
    "    },\n",
    "    {\n",
    "        \"name\": \"RandomAffine\",\n",
    "        \"args\": {\"degrees\": 10, \"translate\": (0.1, 0.1), \"scale\": (0.8, 1.2)},\n",
    "    },\n",
    "]\n",
    "valid_transforms = [\n",
    "    {\n",
    "        \"name\": \"ToTensor\",\n",
    "        \"args\": {},\n",
    "    },\n",
    "    {\n",
    "        \"name\": \"Resize\",\n",
    "        \"args\": {\"size\": 32},\n",
    "    },\n",
    "    {\n",
    "        \"name\": \"Normalize\",\n",
    "        \"args\": {\"mean\": (0.5, 0.5, 0.5), \"std\": (0.5, 0.5, 0.5)},\n",
    "    },\n",
    "]\n",
    "test_transforms = [\n",
    "    {\n",
    "        \"name\": \"ToTensor\",\n",
    "        \"args\": {},\n",
    "    },\n",
    "    {\n",
    "        \"name\": \"Resize\",\n",
    "        \"args\": {\"size\": 32},\n",
    "    },\n",
    "    {\n",
    "        \"name\": \"Normalize\",\n",
    "        \"args\": {\"mean\": (0.5, 0.5, 0.5), \"std\": (0.5, 0.5, 0.5)},\n",
    "    },\n",
    "]\n",
    "\n",
    "num_epochs = 100\n",
    "batch_size = 128\n",
    "\n",
    "# define the datasets\n",
    "valid_transform = InputTransform(valid_transforms)\n",
    "valid_dataset = STL(root=\"../datasets/STL-10/\", mode=\"valid\", transform=valid_transform, encode_labels=True)\n",
    "valid_loader = get_dataloader(valid_dataset, train=False, batch_size=batch_size, num_workers=0)\n",
    "\n",
    "train_transform = InputTransform(train_transforms)\n",
    "train_dataset = STL(root=\"../datasets/STL-10/\", mode=\"train\", transform=train_transform, encode_labels=True)\n",
    "train_loader = get_dataloader(train_dataset, train=True, batch_size=batch_size, num_workers=0)\n",
    "\n",
    "test_transform = InputTransform(test_transforms)\n",
    "test_dataset = STL(root=\"../datasets/STL-10/\", mode=\"test\", transform=test_transform, encode_labels=True)\n",
    "test_loader = get_dataloader(test_dataset, train=False, batch_size=batch_size, num_workers=0)\n",
    "\n",
    "# define the optimizer and scheduler\n",
    "opt_args = {\"name\": \"Adam\", \"lr\": 1e-4}\n",
    "\n",
    "sch_args = None\n",
    "# sch_args = {\"name\": \"MultiStepLR\", \"milestones\": [50], \"gamma\": 0.1}\n",
    "\n",
    "opt = optimizer(model_params=net.parameters(), **opt_args)\n",
    "sch = None\n",
    "if sch_args is not None:\n",
    "    sch = scheduler(opt=opt, **sch_args)\n",
    "    \n",
    "# define the loss function\n",
    "loss_fn = nn.CrossEntropyLoss()\n",
    "\n",
    "# train the model\n",
    "epochs, train_losses, train_metrics, valid_losses, valid_metrics = train(\n",
    "    net, loss_fn, train_loader, valid_loader, num_epochs=num_epochs, opt=opt, sch=sch,\n",
    ")\n",
    "\n",
    "arch = type(net).__name__\n",
    "\n",
    "# plot training curves\n",
    "plot_multiple_quantities_by_time(\n",
    "    quantities=[train_losses[\"loss\"], valid_losses[\"loss\"]],\n",
    "    time=epochs,\n",
    "    labels=[\"Train\", \"Validation\"],\n",
    "    title=f\"{arch} Loss curves: Finetune on STL\",\n",
    "    show=True,\n",
    "    save=True,\n",
    "    save_path=\"../results/cnn_finetuning_loss_plot_default.png\",\n",
    "    ylabel=\"Loss\",\n",
    ")\n",
    "plot_multiple_quantities_by_time(\n",
    "    quantities=[train_metrics[\"accuracy\"], valid_metrics[\"accuracy\"]],\n",
    "    time=epochs,\n",
    "    labels=[\"Train\", \"Validation\"],\n",
    "    title=f\"{arch} Accuracy curves: Finetune on STL\",\n",
    "    show=True,\n",
    "    save=True,\n",
    "    save_path=\"../results/cnn_finetuning_accu_plot_default.png\",\n",
    "    ylabel=\"Accuracy\",\n",
    ")\n",
    "\n",
    "N = net.eval()\n",
    "evaluate(N, test_loader, nn.CrossEntropyLoss(), 1, 1, mode=\"test\")"
   ]
  },
  {
   "cell_type": "code",
   "execution_count": 39,
   "id": "4116f068-7293-44cd-8a31-bb325fd5fcc1",
   "metadata": {},
   "outputs": [],
   "source": [
    "torch.save(net, \"../checkpoints/cnn_finetuned_best_stl.pt\")"
   ]
  },
  {
   "cell_type": "markdown",
   "id": "b7ebe145-ddab-44d9-bc5a-6eb64247d687",
   "metadata": {},
   "source": [
    "### Evaluate on test set"
   ]
  },
  {
   "cell_type": "code",
   "execution_count": 40,
   "id": "a711b183-203f-4422-98bf-a574a800f690",
   "metadata": {},
   "outputs": [],
   "source": [
    "net = ConvNet(\n",
    "    in_channels=3,\n",
    "    num_classes=5,\n",
    "    ckpt_path=\"../checkpoints/cnn_finetuned_best_stl.pt\",\n",
    "    return_features=False,\n",
    "    layer_to_ignore=None,\n",
    ")\n",
    "net = net.eval()"
   ]
  },
  {
   "cell_type": "code",
   "execution_count": 41,
   "id": "4bfccb15-a3d4-4b64-925a-141732a4eacc",
   "metadata": {},
   "outputs": [
    {
     "name": "stderr",
     "output_type": "stream",
     "text": [
      "Evaluate: Epoch [1/1]: 100%|██████████████████████████████| 32/32 [00:00<00:00, 78.33it/s]                      "
     ]
    },
    {
     "name": "stdout",
     "output_type": "stream",
     "text": [
      "TEST \t: Summary: Loss: 0.7493 Accuracy: 0.6990\n"
     ]
    },
    {
     "name": "stderr",
     "output_type": "stream",
     "text": [
      "\n"
     ]
    },
    {
     "data": {
      "text/plain": [
       "(0.7493223370984197, 0.699)"
      ]
     },
     "execution_count": 41,
     "metadata": {},
     "output_type": "execute_result"
    }
   ],
   "source": [
    "evaluate(net, test_loader, nn.CrossEntropyLoss(), 1, 1, mode=\"test\")"
   ]
  },
  {
   "cell_type": "markdown",
   "id": "38ca761a-4b93-4f4b-bdb6-64b5972e433a",
   "metadata": {
    "tags": []
   },
   "source": [
    "### Visualize features after finetuning"
   ]
  },
  {
   "cell_type": "code",
   "execution_count": 13,
   "id": "2d57e1ec-9962-4f0c-9985-ce588eebfaec",
   "metadata": {},
   "outputs": [
    {
     "name": "stdout",
     "output_type": "stream",
     "text": [
      ":::: Loaded dataset from ../datasets/STL-10/: X ((500, 96, 96, 3)) y (500)\n"
     ]
    }
   ],
   "source": [
    "# define the datasets\n",
    "valid_transform = InputTransform(valid_transforms)\n",
    "valid_dataset = STL(root=\"../datasets/STL-10/\", mode=\"valid\", transform=valid_transform, encode_labels=False)\n",
    "valid_loader = get_dataloader(valid_dataset, train=False, batch_size=128, num_workers=0)"
   ]
  },
  {
   "cell_type": "code",
   "execution_count": 14,
   "id": "fb633f6f-7c0d-47e4-a605-b26fe14be196",
   "metadata": {},
   "outputs": [],
   "source": [
    "net = ConvNet(\n",
    "    in_channels=3,\n",
    "    num_classes=5,\n",
    "    ckpt_path=\"../checkpoints/cnn_finetuned_best_stl.pt\",\n",
    "    return_features=True,\n",
    "    layer_to_ignore=None,\n",
    ")\n",
    "net = net.eval()"
   ]
  },
  {
   "cell_type": "code",
   "execution_count": 15,
   "id": "a345fac8-a790-4fa5-8036-f56e9e962cce",
   "metadata": {},
   "outputs": [
    {
     "name": "stderr",
     "output_type": "stream",
     "text": [
      "Extracting features: 100%|██████████████████████████████| 4/4 [00:00<00:00, 64.72it/s]                          \n"
     ]
    }
   ],
   "source": [
    "val_features = []\n",
    "valid_labels = []\n",
    "\n",
    "iterator = tqdm(valid_loader, f\"Extracting features\", bar_format='{l_bar}{bar:30}{r_bar}{bar:-10b}')\n",
    "with torch.no_grad():\n",
    "    for i, batch in enumerate(iterator):\n",
    "        images, targets = batch\n",
    "        output = net(images)\n",
    "        val_features.append(output.numpy())\n",
    "        valid_labels.append(targets.numpy())"
   ]
  },
  {
   "cell_type": "code",
   "execution_count": 16,
   "id": "398b7be5-eb79-4909-aed8-9e7ca914941f",
   "metadata": {},
   "outputs": [],
   "source": [
    "valid_features = np.vstack(val_features)\n",
    "valid_labels = np.concatenate(valid_labels)"
   ]
  },
  {
   "cell_type": "code",
   "execution_count": 17,
   "id": "6aed019e-7437-4201-bf61-3409840bf31b",
   "metadata": {},
   "outputs": [
    {
     "data": {
      "text/plain": [
       "((500, 84), (500,))"
      ]
     },
     "execution_count": 17,
     "metadata": {},
     "output_type": "execute_result"
    }
   ],
   "source": [
    "valid_features.shape, valid_labels.shape"
   ]
  },
  {
   "cell_type": "code",
   "execution_count": 18,
   "id": "a3d3fd61-0470-4127-9aee-33fd15cc4351",
   "metadata": {},
   "outputs": [],
   "source": [
    "X = valid_features\n",
    "y = valid_labels"
   ]
  },
  {
   "cell_type": "code",
   "execution_count": 19,
   "id": "4ce2197a-2418-499c-9b23-aee499b72c9e",
   "metadata": {},
   "outputs": [],
   "source": [
    "def visualize_features(\n",
    "        X, y,\n",
    "        title=\"Sample features\",\n",
    "        seed=0,\n",
    "        save=False,\n",
    "        save_path=\"../results/sample.png\",\n",
    "        show=True,\n",
    "    ):\n",
    "    np.random.seed(seed)\n",
    "\n",
    "    tsne = TSNE(n_components=2, random_state=seed)\n",
    "    Z = tsne.fit_transform(X)\n",
    "\n",
    "    df = pd.DataFrame(None, columns=[\"Z1\", \"Z2\", \"label\"])\n",
    "    df[\"Z1\"] = Z[:, 0]\n",
    "    df[\"Z2\"] = Z[:, 1]\n",
    "    df[\"label\"] = [LABEL_MAP[a].capitalize() for a in y]\n",
    "\n",
    "    fig, ax = plt.subplots(1, 1, figsize=(11, 7))\n",
    "    ax.grid()\n",
    "    sns.scatterplot(\n",
    "        data=df,\n",
    "        x=\"Z1\", y=\"Z2\", hue=\"label\", palette=\"Set2\", legend=True, ax=ax, s=100,\n",
    "    )\n",
    "    ax.set_title(title, fontsize=17)\n",
    "    \n",
    "    plt.legend(fontsize=14)\n",
    "\n",
    "    if save:\n",
    "        plt.savefig(save_path, bbox_inches=\"tight\")\n",
    "    \n",
    "    if save:\n",
    "        plt.show()"
   ]
  },
  {
   "cell_type": "code",
   "execution_count": 20,
   "id": "e76900e8-9bfe-4adc-ae6d-ee4ec0583cee",
   "metadata": {},
   "outputs": [
    {
     "data": {
      "image/png": "[encoded data removed]",
      "text/plain": [
       "<Figure size 792x504 with 1 Axes>"
      ]
     },
     "metadata": {
      "needs_background": "light"
     },
     "output_type": "display_data"
    }
   ],
   "source": [
    "visualize_features(\n",
    "    X, y,\n",
    "    title=\"ConvNet features for STL-10 (validation set) after finetuning\",\n",
    "    save_path=\"../results/convnet_features_after_finetuning.png\", save=True,\n",
    ")"
   ]
  },
  {
   "cell_type": "markdown",
   "id": "3de7fd09-0b0e-4760-85be-3ae722df866f",
   "metadata": {},
   "source": [
    "### Linear probing"
   ]
  },
  {
   "cell_type": "code",
   "execution_count": 80,
   "id": "bc2236ce-b73c-4e6b-ba61-5cc4ad81dbf5",
   "metadata": {},
   "outputs": [
    {
     "name": "stdout",
     "output_type": "stream",
     "text": [
      ":::: Loaded dataset from ../datasets/STL-10/: X ((500, 96, 96, 3)) y (500)\n",
      ":::: Loaded dataset from ../datasets/STL-10/: X ((2000, 96, 96, 3)) y (2000)\n",
      ":::: Loaded dataset from ../datasets/STL-10/: X ((4000, 96, 96, 3)) y (4000)\n"
     ]
    },
    {
     "name": "stderr",
     "output_type": "stream",
     "text": [
      "Extracting features: 100%|██████████████████████████████| 16/16 [00:00<00:00, 37.90it/s]                        \n",
      "Extracting features: 100%|██████████████████████████████| 4/4 [00:00<00:00, 79.59it/s]                          \n",
      "Extracting features: 100%|██████████████████████████████| 4/4 [00:00<00:00, 84.59it/s]                          \n"
     ]
    },
    {
     "data": {
      "image/png": "[encoded data removed]",
      "text/plain": [
       "<Figure size 648x432 with 1 Axes>"
      ]
     },
     "metadata": {
      "needs_background": "light"
     },
     "output_type": "display_data"
    },
    {
     "data": {
      "image/png": "[encoded data removed]",
      "text/plain": [
       "<Figure size 648x432 with 1 Axes>"
      ]
     },
     "metadata": {
      "needs_background": "light"
     },
     "output_type": "display_data"
    },
    {
     "name": "stdout",
     "output_type": "stream",
     "text": [
      "tensor(0.6680)\n"
     ]
    }
   ],
   "source": [
    "import torch\n",
    "import torch.nn as nn\n",
    "import torch.nn.functional as F\n",
    "\n",
    "train_transforms = [\n",
    "    {\n",
    "        \"name\": \"ToTensor\",\n",
    "        \"args\": {},\n",
    "    },\n",
    "    {\n",
    "        \"name\": \"Resize\",\n",
    "        \"args\": {\"size\": 32},\n",
    "    },\n",
    "    {\n",
    "        \"name\": \"Normalize\",\n",
    "        \"args\": {\"mean\": (0.5, 0.5, 0.5), \"std\": (0.5, 0.5, 0.5)},\n",
    "    },\n",
    "    {\n",
    "        \"name\": \"RandomAffine\",\n",
    "        \"args\": {\"degrees\": 10, \"translate\": (0.1, 0.1), \"scale\": (0.8, 1.2)},\n",
    "    },\n",
    "]\n",
    "train_transform = InputTransform(train_transforms)\n",
    "\n",
    "\n",
    "# define the datasets\n",
    "valid_dataset = STL(root=\"../datasets/STL-10/\", mode=\"valid\", transform=valid_transform, encode_labels=True)\n",
    "valid_loader = get_dataloader(valid_dataset, train=False, batch_size=batch_size, num_workers=0)\n",
    "\n",
    "train_dataset = STL(root=\"../datasets/STL-10/\", mode=\"train\", transform=train_transform, encode_labels=True)\n",
    "train_loader = get_dataloader(train_dataset, train=True, batch_size=batch_size, num_workers=0)\n",
    "\n",
    "test_dataset = STL(root=\"../datasets/STL-10/\", mode=\"test\", transform=test_transform, encode_labels=True)\n",
    "test_loader = get_dataloader(test_dataset, train=False, batch_size=batch_size, num_workers=0)\n",
    "\n",
    "# test checkpoint loading\n",
    "net = ConvNet(\n",
    "    in_channels=3,\n",
    "    num_classes=5,\n",
    "    ckpt_path=\"../checkpoints/cnn_best_hparams.pt\",\n",
    "    return_features=True,\n",
    ")\n",
    "net = net.eval()\n",
    "\n",
    "def get_features(net, data_loader):\n",
    "    features = []\n",
    "    labels = []\n",
    "\n",
    "    iterator = tqdm(data_loader, f\"Extracting features\", bar_format='{l_bar}{bar:30}{r_bar}{bar:-10b}')\n",
    "    with torch.no_grad():\n",
    "        for i, batch in enumerate(iterator):\n",
    "            images, targets = batch\n",
    "            output = net(images)\n",
    "            features.append(output)\n",
    "            labels.append(targets)\n",
    "    \n",
    "    return torch.vstack(features), torch.cat(labels)\n",
    "\n",
    "train_X, train_y = get_features(net, train_loader)\n",
    "valid_X, valid_y = get_features(net, valid_loader)\n",
    "test_X, test_y = get_features(net, valid_loader)\n",
    "\n",
    "linnet = nn.Sequential(\n",
    "    nn.Linear(84, 32),\n",
    "    nn.Linear(32, 5)\n",
    ")\n",
    "\n",
    "opt = optimizer(\"Adam\", linnet.parameters(), lr=1e-2)\n",
    "loss_fn = nn.CrossEntropyLoss()\n",
    "\n",
    "train_losses = []\n",
    "valid_losses = []\n",
    "train_accura = []\n",
    "valid_accura = []\n",
    "epochs = []\n",
    "num_epochs = 50\n",
    "\n",
    "for i in range(1, num_epochs + 1):\n",
    "    opt.zero_grad()\n",
    "\n",
    "    y_pred = linnet(train_X)\n",
    "    y_true = train_y\n",
    "    loss = loss_fn(y_pred, y_true)\n",
    "    y_pred = y_pred.argmax(1)\n",
    "    train_accura.append((sum(y_true == y_pred) / len(y_true)))\n",
    "\n",
    "    loss.backward()\n",
    "    opt.step()\n",
    "\n",
    "    train_losses.append(loss.item())\n",
    "    \n",
    "    with torch.no_grad():\n",
    "        y_pred = linnet(valid_X)\n",
    "        y_true = valid_y\n",
    "        loss = loss_fn(y_pred, y_true)\n",
    "        valid_losses.append(loss)\n",
    "        y_pred = y_pred.argmax(1)\n",
    "        valid_accura.append((sum(y_true == y_pred) / len(y_true)))\n",
    "    \n",
    "    epochs.append(i)\n",
    "\n",
    "plot_multiple_quantities_by_time(\n",
    "    quantities=[train_losses, valid_losses],\n",
    "    time=epochs,\n",
    "    labels=[\"Train\", \"Validation\"],\n",
    "    title=f\"(Linear probing) Loss curves: Finetune on STL\",\n",
    "    show=True,\n",
    "    ylabel=\"Loss\",\n",
    ")\n",
    "plot_multiple_quantities_by_time(\n",
    "    quantities=[train_accura, valid_accura],\n",
    "    time=epochs,\n",
    "    labels=[\"Train\", \"Validation\"],\n",
    "    title=f\"(Linear probing) Accuracy curves: Finetune on STL\",\n",
    "    show=True,\n",
    "    ylabel=\"Accuracy\",\n",
    ")\n",
    "\n",
    "y_pred = linnet(test_X)\n",
    "y_true = test_y\n",
    "y_pred = y_pred.argmax(1)\n",
    "print(sum(y_true == y_pred) / len(y_true))"
   ]
  },
  {
   "cell_type": "code",
   "execution_count": null,
   "id": "752dac50-6939-4137-bcd0-c025639fb514",
   "metadata": {},
   "outputs": [],
   "source": [
    "torch.save(linnet, \"../checkpoints/linear_probing_on_stl.pt\")"
   ]
  },
  {
   "cell_type": "code",
   "execution_count": null,
   "id": "2c750835-1a4f-4e03-a374-284117a7e37b",
   "metadata": {},
   "outputs": [],
   "source": []
  }
 ],
 "metadata": {
  "kernelspec": {
   "display_name": "Python 3 (ipykernel)",
   "language": "python",
   "name": "python3"
  },
  "language_info": {
   "codemirror_mode": {
    "name": "ipython",
    "version": 3
   },
   "file_extension": ".py",
   "mimetype": "text/x-python",
   "name": "python",
   "nbconvert_exporter": "python",
   "pygments_lexer": "ipython3",
   "version": "3.9.7"
  }
 },
 "nbformat": 4,
 "nbformat_minor": 5
}
