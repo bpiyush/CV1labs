{
 "cells": [
  {
   "cell_type": "code",
   "execution_count": 1,
   "id": "5507a249-fc78-4cfc-a933-ca345d0f1ee6",
   "metadata": {},
   "outputs": [],
   "source": [
    "%load_ext autoreload\n",
    "%autoreload 2"
   ]
  },
  {
   "cell_type": "code",
   "execution_count": 2,
   "id": "991c17b7-ff63-4049-9456-f3486680261d",
   "metadata": {},
   "outputs": [],
   "source": [
    "import sys\n",
    "sys.path.insert(0, \"../\")"
   ]
  },
  {
   "cell_type": "code",
   "execution_count": 3,
   "id": "80d8b0e7-7191-4e51-9743-f0e923743548",
   "metadata": {},
   "outputs": [],
   "source": [
    "import torch.nn as nn\n",
    "\n",
    "from data.input_transforms import InputTransform\n",
    "from data.cifar import CIFAR\n",
    "from data.dataloader import get_dataloader\n",
    "from models.optimizer import optimizer, scheduler\n",
    "from networks.twolayernet import TwolayerNet\n",
    "from networks.convnet import ConvNet\n",
    "from utils.viz import plot_multiple_quantities_by_time\n",
    "from main import train, evaluate"
   ]
  },
  {
   "cell_type": "code",
   "execution_count": 4,
   "id": "ea471d50-2d7b-4f6f-89fb-150276fab8fd",
   "metadata": {},
   "outputs": [],
   "source": [
    "def experiment(train_transforms, valid_transforms, network, num_epochs, batch_size, opt_args, sch_args=None):\n",
    "    \n",
    "    print(train_transforms)\n",
    "    print(num_epochs)\n",
    "    print(batch_size)\n",
    "    print(opt_args)\n",
    "    print(sch_args)\n",
    "    \n",
    "    # define the datasets\n",
    "    train_transform = InputTransform(train_transforms)\n",
    "    valid_transform = InputTransform(valid_transforms)\n",
    "    train_dataset = CIFAR(root=\"../datasets/CIFAR-10/\", mode=\"train\", transform=train_transform)\n",
    "    valid_dataset = CIFAR(root=\"../datasets/CIFAR-10/\", mode=\"valid\", transform=valid_transform)\n",
    "\n",
    "    # obtain the train dataloader\n",
    "    train_loader = get_dataloader(train_dataset, train=True, batch_size=batch_size, num_workers=0)\n",
    "    valid_loader = get_dataloader(valid_dataset, train=False, batch_size=batch_size, num_workers=0)\n",
    "    \n",
    "    if network == \"tln\":\n",
    "        net = TwolayerNet(num_inputs=3 * 32 * 32, num_hidden=512, num_classes=10)\n",
    "    elif network == \"cln\":\n",
    "        net = ConvNet(in_channels=3, num_classes=10)\n",
    "    else:\n",
    "        raise ValueError()\n",
    "    arch = type(net).__name__\n",
    "\n",
    "    # define the optimizer and scheduler\n",
    "    opt = optimizer(model_params=net.parameters(), **opt_args)\n",
    "    sch = None\n",
    "    if sch_args is not None:\n",
    "        sch = scheduler(opt=opt, **sch_args)\n",
    "\n",
    "    # define the loss function\n",
    "    loss_fn = nn.CrossEntropyLoss()\n",
    "\n",
    "    # train the model\n",
    "    epochs, train_losses, train_metrics, valid_losses, valid_metrics = train(\n",
    "        net, loss_fn, train_loader, valid_loader, num_epochs=num_epochs, opt=opt, sch=sch,\n",
    "    )\n",
    "\n",
    "    # plot training curves\n",
    "    plot_multiple_quantities_by_time(\n",
    "        quantities=[train_losses[\"loss\"], valid_losses[\"loss\"]],\n",
    "        time=epochs,\n",
    "        labels=[\"Train\", \"Validation\"],\n",
    "        title=f\"{arch} Loss curves\",\n",
    "        show=True,\n",
    "        save=False,\n",
    "        save_path=\"./results/loss_plot.png\",\n",
    "        ylabel=\"Loss\",\n",
    "    )\n",
    "    plot_multiple_quantities_by_time(\n",
    "        quantities=[train_metrics[\"accuracy\"], valid_metrics[\"accuracy\"]],\n",
    "        time=epochs,\n",
    "        labels=[\"Train\", \"Validation\"],\n",
    "        title=f\"{arch} Accuracy curves\",\n",
    "        show=True,\n",
    "        save=False,\n",
    "        save_path=\"./results/accu_plot.png\",\n",
    "        ylabel=\"Accuracy\",\n",
    "    )"
   ]
  },
  {
   "cell_type": "code",
   "execution_count": 18,
   "id": "d17ddae0-bd09-4b43-8c87-f69b7c417c95",
   "metadata": {},
   "outputs": [
    {
     "name": "stdout",
     "output_type": "stream",
     "text": [
      "[{'name': 'ToTensor', 'args': {}}, {'name': 'Normalize', 'args': {'mean': (0.5, 0.5, 0.5), 'std': (0.5, 0.5, 0.5)}}, {'name': 'RandomAffine', 'args': {'degrees': 10, 'translate': (0.1, 0.1), 'scale': (0.8, 1.2)}}, {'name': 'RandomHorizontalFlip', 'args': {'p': 0.5}}, {'name': 'GaussianBlur', 'args': {'kernel_size': 3}}]\n",
      "200\n",
      "128\n",
      "{'name': 'Adam', 'lr': 0.0001}\n",
      "{'name': 'MultiStepLR', 'milestones': [50, 100, 150], 'gamma': 0.5}\n",
      "Selecting 40000 for train.\n",
      "Selecting 10000 for valid.\n"
     ]
    },
    {
     "name": "stderr",
     "output_type": "stream",
     "text": [
      "Training: Epoch [1/200]: 100%|██████████████████████████████| 313/313 [00:11<00:00, 26.41it/s]                                             \n",
      "Evaluate: Epoch [1/200]: 100%|██████████████████████████████| 79/79 [00:00<00:00, 131.15it/s]                                              \n"
     ]
    },
    {
     "name": "stdout",
     "output_type": "stream",
     "text": [
      "VALID \t: Summary: Loss: 1.9418 Accuracy: 0.3053\n",
      "TRAIN \t: Summary: Loss: 2.0828 Accuracy: 0.2317\n"
     ]
    },
    {
     "name": "stderr",
     "output_type": "stream",
     "text": [
      "Training: Epoch [2/200]: 100%|██████████████████████████████| 313/313 [00:12<00:00, 25.63it/s]                                             \n",
      "Evaluate: Epoch [2/200]: 100%|██████████████████████████████| 79/79 [00:00<00:00, 127.64it/s]                                              \n"
     ]
    },
    {
     "name": "stdout",
     "output_type": "stream",
     "text": [
      "VALID \t: Summary: Loss: 1.8783 Accuracy: 0.3363\n",
      "TRAIN \t: Summary: Loss: 1.9528 Accuracy: 0.3003\n"
     ]
    },
    {
     "name": "stderr",
     "output_type": "stream",
     "text": [
      "Training: Epoch [3/200]: 100%|██████████████████████████████| 313/313 [00:11<00:00, 26.31it/s]                                             \n",
      "Evaluate: Epoch [3/200]: 100%|██████████████████████████████| 79/79 [00:00<00:00, 131.66it/s]                                              \n"
     ]
    },
    {
     "name": "stdout",
     "output_type": "stream",
     "text": [
      "VALID \t: Summary: Loss: 1.8267 Accuracy: 0.3579\n",
      "TRAIN \t: Summary: Loss: 1.9042 Accuracy: 0.3247\n"
     ]
    },
    {
     "name": "stderr",
     "output_type": "stream",
     "text": [
      "Training: Epoch [4/200]: 100%|██████████████████████████████| 313/313 [00:11<00:00, 26.52it/s]                                             \n",
      "Evaluate: Epoch [4/200]: 100%|██████████████████████████████| 79/79 [00:00<00:00, 131.67it/s]                                              \n"
     ]
    },
    {
     "name": "stdout",
     "output_type": "stream",
     "text": [
      "VALID \t: Summary: Loss: 1.7876 Accuracy: 0.3658\n",
      "TRAIN \t: Summary: Loss: 1.8643 Accuracy: 0.3362\n"
     ]
    },
    {
     "name": "stderr",
     "output_type": "stream",
     "text": [
      "Training: Epoch [5/200]: 100%|██████████████████████████████| 313/313 [00:11<00:00, 26.48it/s]                                             \n",
      "Evaluate: Epoch [5/200]: 100%|██████████████████████████████| 79/79 [00:00<00:00, 132.31it/s]                                              \n"
     ]
    },
    {
     "name": "stdout",
     "output_type": "stream",
     "text": [
      "VALID \t: Summary: Loss: 1.7609 Accuracy: 0.3759\n",
      "TRAIN \t: Summary: Loss: 1.8380 Accuracy: 0.3444\n"
     ]
    },
    {
     "name": "stderr",
     "output_type": "stream",
     "text": [
      "Training: Epoch [6/200]: 100%|██████████████████████████████| 313/313 [00:11<00:00, 26.40it/s]                                             \n",
      "Evaluate: Epoch [6/200]: 100%|██████████████████████████████| 79/79 [00:00<00:00, 131.38it/s]                                              \n"
     ]
    },
    {
     "name": "stdout",
     "output_type": "stream",
     "text": [
      "VALID \t: Summary: Loss: 1.7322 Accuracy: 0.3921\n",
      "TRAIN \t: Summary: Loss: 1.8158 Accuracy: 0.3526\n"
     ]
    },
    {
     "name": "stderr",
     "output_type": "stream",
     "text": [
      "Training: Epoch [7/200]: 100%|██████████████████████████████| 313/313 [00:11<00:00, 26.44it/s]                                             \n",
      "Evaluate: Epoch [7/200]: 100%|██████████████████████████████| 79/79 [00:00<00:00, 131.32it/s]                                              \n"
     ]
    },
    {
     "name": "stdout",
     "output_type": "stream",
     "text": [
      "VALID \t: Summary: Loss: 1.7054 Accuracy: 0.3944\n",
      "TRAIN \t: Summary: Loss: 1.7911 Accuracy: 0.3596\n"
     ]
    },
    {
     "name": "stderr",
     "output_type": "stream",
     "text": [
      "Training: Epoch [8/200]: 100%|██████████████████████████████| 313/313 [00:11<00:00, 26.32it/s]                                             \n",
      "Evaluate: Epoch [8/200]: 100%|██████████████████████████████| 79/79 [00:00<00:00, 130.74it/s]                                              \n"
     ]
    },
    {
     "name": "stdout",
     "output_type": "stream",
     "text": [
      "VALID \t: Summary: Loss: 1.6831 Accuracy: 0.4049\n",
      "TRAIN \t: Summary: Loss: 1.7671 Accuracy: 0.3668\n"
     ]
    },
    {
     "name": "stderr",
     "output_type": "stream",
     "text": [
      "Training: Epoch [9/200]: 100%|██████████████████████████████| 313/313 [00:12<00:00, 25.90it/s]                                             \n",
      "Evaluate: Epoch [9/200]: 100%|██████████████████████████████| 79/79 [00:00<00:00, 128.92it/s]                                              \n"
     ]
    },
    {
     "name": "stdout",
     "output_type": "stream",
     "text": [
      "VALID \t: Summary: Loss: 1.6579 Accuracy: 0.4099\n",
      "TRAIN \t: Summary: Loss: 1.7473 Accuracy: 0.3762\n"
     ]
    },
    {
     "name": "stderr",
     "output_type": "stream",
     "text": [
      "Training: Epoch [10/200]: 100%|██████████████████████████████| 313/313 [00:11<00:00, 26.19it/s]                                            \n",
      "Evaluate: Epoch [10/200]: 100%|██████████████████████████████| 79/79 [00:00<00:00, 126.90it/s]                                             \n"
     ]
    },
    {
     "name": "stdout",
     "output_type": "stream",
     "text": [
      "VALID \t: Summary: Loss: 1.6356 Accuracy: 0.4188\n",
      "TRAIN \t: Summary: Loss: 1.7282 Accuracy: 0.3824\n"
     ]
    },
    {
     "name": "stderr",
     "output_type": "stream",
     "text": [
      "Training: Epoch [11/200]: 100%|██████████████████████████████| 313/313 [00:12<00:00, 25.85it/s]                                            \n",
      "Evaluate: Epoch [11/200]: 100%|██████████████████████████████| 79/79 [00:00<00:00, 131.61it/s]                                             \n"
     ]
    },
    {
     "name": "stdout",
     "output_type": "stream",
     "text": [
      "VALID \t: Summary: Loss: 1.6138 Accuracy: 0.4233\n",
      "TRAIN \t: Summary: Loss: 1.7051 Accuracy: 0.3896\n"
     ]
    },
    {
     "name": "stderr",
     "output_type": "stream",
     "text": [
      "Training: Epoch [12/200]: 100%|██████████████████████████████| 313/313 [00:12<00:00, 25.93it/s]                                            \n",
      "Evaluate: Epoch [12/200]: 100%|██████████████████████████████| 79/79 [00:00<00:00, 127.86it/s]                                             \n"
     ]
    },
    {
     "name": "stdout",
     "output_type": "stream",
     "text": [
      "VALID \t: Summary: Loss: 1.5930 Accuracy: 0.4312\n",
      "TRAIN \t: Summary: Loss: 1.6841 Accuracy: 0.3977\n"
     ]
    },
    {
     "name": "stderr",
     "output_type": "stream",
     "text": [
      "Training: Epoch [13/200]: 100%|██████████████████████████████| 313/313 [00:12<00:00, 25.84it/s]                                            \n",
      "Evaluate: Epoch [13/200]: 100%|██████████████████████████████| 79/79 [00:00<00:00, 127.56it/s]                                             \n"
     ]
    },
    {
     "name": "stdout",
     "output_type": "stream",
     "text": [
      "VALID \t: Summary: Loss: 1.5720 Accuracy: 0.4344\n",
      "TRAIN \t: Summary: Loss: 1.6681 Accuracy: 0.3996\n"
     ]
    },
    {
     "name": "stderr",
     "output_type": "stream",
     "text": [
      "Training: Epoch [14/200]: 100%|██████████████████████████████| 313/313 [00:12<00:00, 25.44it/s]                                            \n",
      "Evaluate: Epoch [14/200]: 100%|██████████████████████████████| 79/79 [00:00<00:00, 129.19it/s]                                             \n"
     ]
    },
    {
     "name": "stdout",
     "output_type": "stream",
     "text": [
      "VALID \t: Summary: Loss: 1.5584 Accuracy: 0.4435\n",
      "TRAIN \t: Summary: Loss: 1.6489 Accuracy: 0.4087\n"
     ]
    },
    {
     "name": "stderr",
     "output_type": "stream",
     "text": [
      "Training: Epoch [15/200]: 100%|██████████████████████████████| 313/313 [00:12<00:00, 26.08it/s]                                            \n",
      "Evaluate: Epoch [15/200]: 100%|██████████████████████████████| 79/79 [00:00<00:00, 128.55it/s]                                             \n"
     ]
    },
    {
     "name": "stdout",
     "output_type": "stream",
     "text": [
      "VALID \t: Summary: Loss: 1.5414 Accuracy: 0.4499\n",
      "TRAIN \t: Summary: Loss: 1.6318 Accuracy: 0.4120\n"
     ]
    },
    {
     "name": "stderr",
     "output_type": "stream",
     "text": [
      "Training: Epoch [16/200]: 100%|██████████████████████████████| 313/313 [00:12<00:00, 25.87it/s]                                            \n",
      "Evaluate: Epoch [16/200]: 100%|██████████████████████████████| 79/79 [00:00<00:00, 127.87it/s]                                             \n"
     ]
    },
    {
     "name": "stdout",
     "output_type": "stream",
     "text": [
      "VALID \t: Summary: Loss: 1.5259 Accuracy: 0.4549\n",
      "TRAIN \t: Summary: Loss: 1.6195 Accuracy: 0.4188\n"
     ]
    },
    {
     "name": "stderr",
     "output_type": "stream",
     "text": [
      "Training: Epoch [17/200]: 100%|██████████████████████████████| 313/313 [00:11<00:00, 26.16it/s]                                            \n",
      "Evaluate: Epoch [17/200]: 100%|██████████████████████████████| 79/79 [00:00<00:00, 130.31it/s]                                             \n"
     ]
    },
    {
     "name": "stdout",
     "output_type": "stream",
     "text": [
      "VALID \t: Summary: Loss: 1.5134 Accuracy: 0.4601\n",
      "TRAIN \t: Summary: Loss: 1.6026 Accuracy: 0.4231\n"
     ]
    },
    {
     "name": "stderr",
     "output_type": "stream",
     "text": [
      "Training: Epoch [18/200]: 100%|██████████████████████████████| 313/313 [00:11<00:00, 26.19it/s]                                            \n",
      "Evaluate: Epoch [18/200]: 100%|██████████████████████████████| 79/79 [00:00<00:00, 115.43it/s]                                             \n"
     ]
    },
    {
     "name": "stdout",
     "output_type": "stream",
     "text": [
      "VALID \t: Summary: Loss: 1.5013 Accuracy: 0.4618\n",
      "TRAIN \t: Summary: Loss: 1.5918 Accuracy: 0.4276\n"
     ]
    },
    {
     "name": "stderr",
     "output_type": "stream",
     "text": [
      "Training: Epoch [19/200]: 100%|██████████████████████████████| 313/313 [00:12<00:00, 25.73it/s]                                            \n",
      "Evaluate: Epoch [19/200]: 100%|██████████████████████████████| 79/79 [00:00<00:00, 126.75it/s]                                             \n"
     ]
    },
    {
     "name": "stdout",
     "output_type": "stream",
     "text": [
      "VALID \t: Summary: Loss: 1.4903 Accuracy: 0.4675\n",
      "TRAIN \t: Summary: Loss: 1.5839 Accuracy: 0.4309\n"
     ]
    },
    {
     "name": "stderr",
     "output_type": "stream",
     "text": [
      "Training: Epoch [20/200]: 100%|██████████████████████████████| 313/313 [00:12<00:00, 25.92it/s]                                            \n",
      "Evaluate: Epoch [20/200]: 100%|██████████████████████████████| 79/79 [00:00<00:00, 130.12it/s]                                             \n"
     ]
    },
    {
     "name": "stdout",
     "output_type": "stream",
     "text": [
      "VALID \t: Summary: Loss: 1.4780 Accuracy: 0.4705\n",
      "TRAIN \t: Summary: Loss: 1.5718 Accuracy: 0.4342\n"
     ]
    },
    {
     "name": "stderr",
     "output_type": "stream",
     "text": [
      "Training: Epoch [21/200]: 100%|██████████████████████████████| 313/313 [00:11<00:00, 26.09it/s]                                            \n",
      "Evaluate: Epoch [21/200]: 100%|██████████████████████████████| 79/79 [00:00<00:00, 132.49it/s]                                             \n"
     ]
    },
    {
     "name": "stdout",
     "output_type": "stream",
     "text": [
      "VALID \t: Summary: Loss: 1.4688 Accuracy: 0.4760\n",
      "TRAIN \t: Summary: Loss: 1.5634 Accuracy: 0.4396\n"
     ]
    },
    {
     "name": "stderr",
     "output_type": "stream",
     "text": [
      "Training: Epoch [22/200]: 100%|██████████████████████████████| 313/313 [00:12<00:00, 26.02it/s]                                            \n",
      "Evaluate: Epoch [22/200]: 100%|██████████████████████████████| 79/79 [00:00<00:00, 129.87it/s]                                             \n"
     ]
    },
    {
     "name": "stdout",
     "output_type": "stream",
     "text": [
      "VALID \t: Summary: Loss: 1.4635 Accuracy: 0.4778\n",
      "TRAIN \t: Summary: Loss: 1.5498 Accuracy: 0.4461\n"
     ]
    },
    {
     "name": "stderr",
     "output_type": "stream",
     "text": [
      "Training: Epoch [23/200]: 100%|██████████████████████████████| 313/313 [00:12<00:00, 25.79it/s]                                            \n",
      "Evaluate: Epoch [23/200]: 100%|██████████████████████████████| 79/79 [00:00<00:00, 121.31it/s]                                             \n"
     ]
    },
    {
     "name": "stdout",
     "output_type": "stream",
     "text": [
      "VALID \t: Summary: Loss: 1.4533 Accuracy: 0.4805\n",
      "TRAIN \t: Summary: Loss: 1.5472 Accuracy: 0.4442\n"
     ]
    },
    {
     "name": "stderr",
     "output_type": "stream",
     "text": [
      "Training: Epoch [24/200]: 100%|██████████████████████████████| 313/313 [00:12<00:00, 25.62it/s]                                            \n",
      "Evaluate: Epoch [24/200]: 100%|██████████████████████████████| 79/79 [00:00<00:00, 133.21it/s]                                             \n"
     ]
    },
    {
     "name": "stdout",
     "output_type": "stream",
     "text": [
      "VALID \t: Summary: Loss: 1.4452 Accuracy: 0.4828\n",
      "TRAIN \t: Summary: Loss: 1.5380 Accuracy: 0.4489\n"
     ]
    },
    {
     "name": "stderr",
     "output_type": "stream",
     "text": [
      "Training: Epoch [25/200]: 100%|██████████████████████████████| 313/313 [00:11<00:00, 26.18it/s]                                            \n",
      "Evaluate: Epoch [25/200]: 100%|██████████████████████████████| 79/79 [00:00<00:00, 125.16it/s]                                             \n"
     ]
    },
    {
     "name": "stdout",
     "output_type": "stream",
     "text": [
      "VALID \t: Summary: Loss: 1.4356 Accuracy: 0.4874\n",
      "TRAIN \t: Summary: Loss: 1.5259 Accuracy: 0.4506\n"
     ]
    },
    {
     "name": "stderr",
     "output_type": "stream",
     "text": [
      "Training: Epoch [26/200]: 100%|██████████████████████████████| 313/313 [00:12<00:00, 25.77it/s]                                            \n",
      "Evaluate: Epoch [26/200]: 100%|██████████████████████████████| 79/79 [00:00<00:00, 131.49it/s]                                             \n"
     ]
    },
    {
     "name": "stdout",
     "output_type": "stream",
     "text": [
      "VALID \t: Summary: Loss: 1.4295 Accuracy: 0.4904\n",
      "TRAIN \t: Summary: Loss: 1.5197 Accuracy: 0.4536\n"
     ]
    },
    {
     "name": "stderr",
     "output_type": "stream",
     "text": [
      "Training: Epoch [27/200]: 100%|██████████████████████████████| 313/313 [00:12<00:00, 25.98it/s]                                            \n",
      "Evaluate: Epoch [27/200]: 100%|██████████████████████████████| 79/79 [00:00<00:00, 128.07it/s]                                             \n"
     ]
    },
    {
     "name": "stdout",
     "output_type": "stream",
     "text": [
      "VALID \t: Summary: Loss: 1.4197 Accuracy: 0.4907\n",
      "TRAIN \t: Summary: Loss: 1.5111 Accuracy: 0.4584\n"
     ]
    },
    {
     "name": "stderr",
     "output_type": "stream",
     "text": [
      "Training: Epoch [28/200]: 100%|██████████████████████████████| 313/313 [00:12<00:00, 25.49it/s]                                            \n",
      "Evaluate: Epoch [28/200]: 100%|██████████████████████████████| 79/79 [00:00<00:00, 128.46it/s]                                             \n"
     ]
    },
    {
     "name": "stdout",
     "output_type": "stream",
     "text": [
      "VALID \t: Summary: Loss: 1.4149 Accuracy: 0.4936\n",
      "TRAIN \t: Summary: Loss: 1.5037 Accuracy: 0.4615\n"
     ]
    },
    {
     "name": "stderr",
     "output_type": "stream",
     "text": [
      "Training: Epoch [29/200]: 100%|██████████████████████████████| 313/313 [00:12<00:00, 25.94it/s]                                            \n",
      "Evaluate: Epoch [29/200]: 100%|██████████████████████████████| 79/79 [00:00<00:00, 130.43it/s]                                             \n"
     ]
    },
    {
     "name": "stdout",
     "output_type": "stream",
     "text": [
      "VALID \t: Summary: Loss: 1.4074 Accuracy: 0.4957\n",
      "TRAIN \t: Summary: Loss: 1.4963 Accuracy: 0.4601\n"
     ]
    },
    {
     "name": "stderr",
     "output_type": "stream",
     "text": [
      "Training: Epoch [30/200]: 100%|██████████████████████████████| 313/313 [00:12<00:00, 25.61it/s]                                            \n",
      "Evaluate: Epoch [30/200]: 100%|██████████████████████████████| 79/79 [00:00<00:00, 128.33it/s]                                             \n"
     ]
    },
    {
     "name": "stdout",
     "output_type": "stream",
     "text": [
      "VALID \t: Summary: Loss: 1.4037 Accuracy: 0.4969\n",
      "TRAIN \t: Summary: Loss: 1.4945 Accuracy: 0.4592\n"
     ]
    },
    {
     "name": "stderr",
     "output_type": "stream",
     "text": [
      "Training: Epoch [31/200]: 100%|██████████████████████████████| 313/313 [00:12<00:00, 26.08it/s]                                            \n",
      "Evaluate: Epoch [31/200]: 100%|██████████████████████████████| 79/79 [00:00<00:00, 130.15it/s]                                             \n"
     ]
    },
    {
     "name": "stdout",
     "output_type": "stream",
     "text": [
      "VALID \t: Summary: Loss: 1.3958 Accuracy: 0.4995\n",
      "TRAIN \t: Summary: Loss: 1.4821 Accuracy: 0.4652\n"
     ]
    },
    {
     "name": "stderr",
     "output_type": "stream",
     "text": [
      "Training: Epoch [32/200]: 100%|██████████████████████████████| 313/313 [00:12<00:00, 25.98it/s]                                            \n",
      "Evaluate: Epoch [32/200]: 100%|██████████████████████████████| 79/79 [00:00<00:00, 133.94it/s]                                             \n"
     ]
    },
    {
     "name": "stdout",
     "output_type": "stream",
     "text": [
      "VALID \t: Summary: Loss: 1.3913 Accuracy: 0.5006\n",
      "TRAIN \t: Summary: Loss: 1.4828 Accuracy: 0.4681\n"
     ]
    },
    {
     "name": "stderr",
     "output_type": "stream",
     "text": [
      "Training: Epoch [33/200]: 100%|██████████████████████████████| 313/313 [00:12<00:00, 25.95it/s]                                            \n",
      "Evaluate: Epoch [33/200]: 100%|██████████████████████████████| 79/79 [00:00<00:00, 126.01it/s]                                             \n"
     ]
    },
    {
     "name": "stdout",
     "output_type": "stream",
     "text": [
      "VALID \t: Summary: Loss: 1.3815 Accuracy: 0.5057\n",
      "TRAIN \t: Summary: Loss: 1.4722 Accuracy: 0.4681\n"
     ]
    },
    {
     "name": "stderr",
     "output_type": "stream",
     "text": [
      "Training: Epoch [34/200]: 100%|██████████████████████████████| 313/313 [00:12<00:00, 26.00it/s]                                            \n",
      "Evaluate: Epoch [34/200]: 100%|██████████████████████████████| 79/79 [00:00<00:00, 128.64it/s]                                             \n"
     ]
    },
    {
     "name": "stdout",
     "output_type": "stream",
     "text": [
      "VALID \t: Summary: Loss: 1.3727 Accuracy: 0.5058\n",
      "TRAIN \t: Summary: Loss: 1.4694 Accuracy: 0.4718\n"
     ]
    },
    {
     "name": "stderr",
     "output_type": "stream",
     "text": [
      "Training: Epoch [35/200]: 100%|██████████████████████████████| 313/313 [00:12<00:00, 24.79it/s]                                            \n",
      "Evaluate: Epoch [35/200]: 100%|██████████████████████████████| 79/79 [00:00<00:00, 126.35it/s]                                             \n"
     ]
    },
    {
     "name": "stdout",
     "output_type": "stream",
     "text": [
      "VALID \t: Summary: Loss: 1.3715 Accuracy: 0.5028\n",
      "TRAIN \t: Summary: Loss: 1.4635 Accuracy: 0.4729\n"
     ]
    },
    {
     "name": "stderr",
     "output_type": "stream",
     "text": [
      "Training: Epoch [36/200]: 100%|██████████████████████████████| 313/313 [00:12<00:00, 26.03it/s]                                            \n",
      "Evaluate: Epoch [36/200]: 100%|██████████████████████████████| 79/79 [00:00<00:00, 125.86it/s]                                             \n"
     ]
    },
    {
     "name": "stdout",
     "output_type": "stream",
     "text": [
      "VALID \t: Summary: Loss: 1.3692 Accuracy: 0.5085\n",
      "TRAIN \t: Summary: Loss: 1.4591 Accuracy: 0.4743\n"
     ]
    },
    {
     "name": "stderr",
     "output_type": "stream",
     "text": [
      "Training: Epoch [37/200]: 100%|██████████████████████████████| 313/313 [00:12<00:00, 25.59it/s]                                            \n",
      "Evaluate: Epoch [37/200]: 100%|██████████████████████████████| 79/79 [00:00<00:00, 103.70it/s]                                             \n"
     ]
    },
    {
     "name": "stdout",
     "output_type": "stream",
     "text": [
      "VALID \t: Summary: Loss: 1.3616 Accuracy: 0.5106\n",
      "TRAIN \t: Summary: Loss: 1.4543 Accuracy: 0.4785\n"
     ]
    },
    {
     "name": "stderr",
     "output_type": "stream",
     "text": [
      "Training: Epoch [38/200]: 100%|██████████████████████████████| 313/313 [00:13<00:00, 23.66it/s]                                            \n",
      "Evaluate: Epoch [38/200]: 100%|██████████████████████████████| 79/79 [00:00<00:00, 93.35it/s]                                              \n"
     ]
    },
    {
     "name": "stdout",
     "output_type": "stream",
     "text": [
      "VALID \t: Summary: Loss: 1.3560 Accuracy: 0.5095\n",
      "TRAIN \t: Summary: Loss: 1.4502 Accuracy: 0.4773\n"
     ]
    },
    {
     "name": "stderr",
     "output_type": "stream",
     "text": [
      "Training: Epoch [39/200]: 100%|██████████████████████████████| 313/313 [00:12<00:00, 24.78it/s]                                            \n",
      "Evaluate: Epoch [39/200]: 100%|██████████████████████████████| 79/79 [00:00<00:00, 128.47it/s]                                             \n"
     ]
    },
    {
     "name": "stdout",
     "output_type": "stream",
     "text": [
      "VALID \t: Summary: Loss: 1.3564 Accuracy: 0.5136\n",
      "TRAIN \t: Summary: Loss: 1.4401 Accuracy: 0.4843\n"
     ]
    },
    {
     "name": "stderr",
     "output_type": "stream",
     "text": [
      "Training: Epoch [40/200]: 100%|██████████████████████████████| 313/313 [00:12<00:00, 25.83it/s]                                            \n",
      "Evaluate: Epoch [40/200]: 100%|██████████████████████████████| 79/79 [00:00<00:00, 129.20it/s]                                             \n"
     ]
    },
    {
     "name": "stdout",
     "output_type": "stream",
     "text": [
      "VALID \t: Summary: Loss: 1.3488 Accuracy: 0.5142\n",
      "TRAIN \t: Summary: Loss: 1.4409 Accuracy: 0.4832\n"
     ]
    },
    {
     "name": "stderr",
     "output_type": "stream",
     "text": [
      "Training: Epoch [41/200]: 100%|██████████████████████████████| 313/313 [00:12<00:00, 25.75it/s]                                            \n",
      "Evaluate: Epoch [41/200]: 100%|██████████████████████████████| 79/79 [00:00<00:00, 127.28it/s]                                             \n"
     ]
    },
    {
     "name": "stdout",
     "output_type": "stream",
     "text": [
      "VALID \t: Summary: Loss: 1.3436 Accuracy: 0.5173\n",
      "TRAIN \t: Summary: Loss: 1.4347 Accuracy: 0.4833\n"
     ]
    },
    {
     "name": "stderr",
     "output_type": "stream",
     "text": [
      "Training: Epoch [42/200]: 100%|██████████████████████████████| 313/313 [00:12<00:00, 25.22it/s]                                            \n",
      "Evaluate: Epoch [42/200]: 100%|██████████████████████████████| 79/79 [00:00<00:00, 119.77it/s]                                             \n"
     ]
    },
    {
     "name": "stdout",
     "output_type": "stream",
     "text": [
      "VALID \t: Summary: Loss: 1.3382 Accuracy: 0.5180\n",
      "TRAIN \t: Summary: Loss: 1.4302 Accuracy: 0.4882\n"
     ]
    },
    {
     "name": "stderr",
     "output_type": "stream",
     "text": [
      "Training: Epoch [43/200]: 100%|██████████████████████████████| 313/313 [00:12<00:00, 24.77it/s]                                            \n",
      "Evaluate: Epoch [43/200]: 100%|██████████████████████████████| 79/79 [00:00<00:00, 105.84it/s]                                             \n"
     ]
    },
    {
     "name": "stdout",
     "output_type": "stream",
     "text": [
      "VALID \t: Summary: Loss: 1.3396 Accuracy: 0.5202\n",
      "TRAIN \t: Summary: Loss: 1.4279 Accuracy: 0.4873\n"
     ]
    },
    {
     "name": "stderr",
     "output_type": "stream",
     "text": [
      "Training: Epoch [44/200]: 100%|██████████████████████████████| 313/313 [00:12<00:00, 25.61it/s]                                            \n",
      "Evaluate: Epoch [44/200]: 100%|██████████████████████████████| 79/79 [00:00<00:00, 127.27it/s]                                             \n"
     ]
    },
    {
     "name": "stdout",
     "output_type": "stream",
     "text": [
      "VALID \t: Summary: Loss: 1.3293 Accuracy: 0.5217\n",
      "TRAIN \t: Summary: Loss: 1.4211 Accuracy: 0.4879\n"
     ]
    },
    {
     "name": "stderr",
     "output_type": "stream",
     "text": [
      "Training: Epoch [45/200]: 100%|██████████████████████████████| 313/313 [00:12<00:00, 26.00it/s]                                            \n",
      "Evaluate: Epoch [45/200]: 100%|██████████████████████████████| 79/79 [00:00<00:00, 104.36it/s]                                             \n"
     ]
    },
    {
     "name": "stdout",
     "output_type": "stream",
     "text": [
      "VALID \t: Summary: Loss: 1.3287 Accuracy: 0.5221\n",
      "TRAIN \t: Summary: Loss: 1.4166 Accuracy: 0.4925\n"
     ]
    },
    {
     "name": "stderr",
     "output_type": "stream",
     "text": [
      "Training: Epoch [46/200]: 100%|██████████████████████████████| 313/313 [00:12<00:00, 25.15it/s]                                            \n",
      "Evaluate: Epoch [46/200]: 100%|██████████████████████████████| 79/79 [00:00<00:00, 130.65it/s]                                             \n"
     ]
    },
    {
     "name": "stdout",
     "output_type": "stream",
     "text": [
      "VALID \t: Summary: Loss: 1.3241 Accuracy: 0.5226\n",
      "TRAIN \t: Summary: Loss: 1.4148 Accuracy: 0.4937\n"
     ]
    },
    {
     "name": "stderr",
     "output_type": "stream",
     "text": [
      "Training: Epoch [47/200]: 100%|██████████████████████████████| 313/313 [00:12<00:00, 25.37it/s]                                            \n",
      "Evaluate: Epoch [47/200]: 100%|██████████████████████████████| 79/79 [00:00<00:00, 127.04it/s]                                             \n"
     ]
    },
    {
     "name": "stdout",
     "output_type": "stream",
     "text": [
      "VALID \t: Summary: Loss: 1.3202 Accuracy: 0.5223\n",
      "TRAIN \t: Summary: Loss: 1.4094 Accuracy: 0.4941\n"
     ]
    },
    {
     "name": "stderr",
     "output_type": "stream",
     "text": [
      "Training: Epoch [48/200]: 100%|██████████████████████████████| 313/313 [00:12<00:00, 25.92it/s]                                            \n",
      "Evaluate: Epoch [48/200]: 100%|██████████████████████████████| 79/79 [00:00<00:00, 125.42it/s]                                             \n"
     ]
    },
    {
     "name": "stdout",
     "output_type": "stream",
     "text": [
      "VALID \t: Summary: Loss: 1.3198 Accuracy: 0.5222\n",
      "TRAIN \t: Summary: Loss: 1.4055 Accuracy: 0.4943\n"
     ]
    },
    {
     "name": "stderr",
     "output_type": "stream",
     "text": [
      "Training: Epoch [49/200]: 100%|██████████████████████████████| 313/313 [00:12<00:00, 25.96it/s]                                            \n",
      "Evaluate: Epoch [49/200]: 100%|██████████████████████████████| 79/79 [00:00<00:00, 122.39it/s]                                             \n"
     ]
    },
    {
     "name": "stdout",
     "output_type": "stream",
     "text": [
      "VALID \t: Summary: Loss: 1.3148 Accuracy: 0.5283\n",
      "TRAIN \t: Summary: Loss: 1.4020 Accuracy: 0.4960\n"
     ]
    },
    {
     "name": "stderr",
     "output_type": "stream",
     "text": [
      "Training: Epoch [50/200]: 100%|██████████████████████████████| 313/313 [00:12<00:00, 25.50it/s]                                            \n",
      "Evaluate: Epoch [50/200]: 100%|██████████████████████████████| 79/79 [00:00<00:00, 129.69it/s]                                             \n"
     ]
    },
    {
     "name": "stdout",
     "output_type": "stream",
     "text": [
      "VALID \t: Summary: Loss: 1.3077 Accuracy: 0.5282\n",
      "TRAIN \t: Summary: Loss: 1.4007 Accuracy: 0.4956\n"
     ]
    },
    {
     "name": "stderr",
     "output_type": "stream",
     "text": [
      "Training: Epoch [51/200]: 100%|██████████████████████████████| 313/313 [00:12<00:00, 26.07it/s]                                            \n",
      "Evaluate: Epoch [51/200]: 100%|██████████████████████████████| 79/79 [00:00<00:00, 129.79it/s]                                             \n"
     ]
    },
    {
     "name": "stdout",
     "output_type": "stream",
     "text": [
      "VALID \t: Summary: Loss: 1.3070 Accuracy: 0.5292\n",
      "TRAIN \t: Summary: Loss: 1.3914 Accuracy: 0.5037\n"
     ]
    },
    {
     "name": "stderr",
     "output_type": "stream",
     "text": [
      "Training: Epoch [52/200]: 100%|██████████████████████████████| 313/313 [00:11<00:00, 26.09it/s]                                            \n",
      "Evaluate: Epoch [52/200]: 100%|██████████████████████████████| 79/79 [00:00<00:00, 130.44it/s]                                             \n"
     ]
    },
    {
     "name": "stdout",
     "output_type": "stream",
     "text": [
      "VALID \t: Summary: Loss: 1.3055 Accuracy: 0.5275\n",
      "TRAIN \t: Summary: Loss: 1.3870 Accuracy: 0.5038\n"
     ]
    },
    {
     "name": "stderr",
     "output_type": "stream",
     "text": [
      "Training: Epoch [53/200]: 100%|██████████████████████████████| 313/313 [00:12<00:00, 25.70it/s]                                            \n",
      "Evaluate: Epoch [53/200]: 100%|██████████████████████████████| 79/79 [00:00<00:00, 127.99it/s]                                             \n"
     ]
    },
    {
     "name": "stdout",
     "output_type": "stream",
     "text": [
      "VALID \t: Summary: Loss: 1.3027 Accuracy: 0.5296\n",
      "TRAIN \t: Summary: Loss: 1.3844 Accuracy: 0.5015\n"
     ]
    },
    {
     "name": "stderr",
     "output_type": "stream",
     "text": [
      "Training: Epoch [54/200]: 100%|██████████████████████████████| 313/313 [00:12<00:00, 24.28it/s]                                            \n",
      "Evaluate: Epoch [54/200]: 100%|██████████████████████████████| 79/79 [00:00<00:00, 120.30it/s]                                             \n"
     ]
    },
    {
     "name": "stdout",
     "output_type": "stream",
     "text": [
      "VALID \t: Summary: Loss: 1.2992 Accuracy: 0.5321\n",
      "TRAIN \t: Summary: Loss: 1.3864 Accuracy: 0.4984\n"
     ]
    },
    {
     "name": "stderr",
     "output_type": "stream",
     "text": [
      "Training: Epoch [55/200]: 100%|██████████████████████████████| 313/313 [00:12<00:00, 25.15it/s]                                            \n",
      "Evaluate: Epoch [55/200]: 100%|██████████████████████████████| 79/79 [00:00<00:00, 128.83it/s]                                             \n"
     ]
    },
    {
     "name": "stdout",
     "output_type": "stream",
     "text": [
      "VALID \t: Summary: Loss: 1.3004 Accuracy: 0.5325\n",
      "TRAIN \t: Summary: Loss: 1.3853 Accuracy: 0.5011\n"
     ]
    },
    {
     "name": "stderr",
     "output_type": "stream",
     "text": [
      "Training: Epoch [56/200]: 100%|██████████████████████████████| 313/313 [00:12<00:00, 24.79it/s]                                            \n",
      "Evaluate: Epoch [56/200]: 100%|██████████████████████████████| 79/79 [00:00<00:00, 126.90it/s]                                             \n"
     ]
    },
    {
     "name": "stdout",
     "output_type": "stream",
     "text": [
      "VALID \t: Summary: Loss: 1.2971 Accuracy: 0.5295\n",
      "TRAIN \t: Summary: Loss: 1.3857 Accuracy: 0.5027\n"
     ]
    },
    {
     "name": "stderr",
     "output_type": "stream",
     "text": [
      "Training: Epoch [57/200]: 100%|██████████████████████████████| 313/313 [00:12<00:00, 25.33it/s]                                            \n",
      "Evaluate: Epoch [57/200]: 100%|██████████████████████████████| 79/79 [00:00<00:00, 113.88it/s]                                             \n"
     ]
    },
    {
     "name": "stdout",
     "output_type": "stream",
     "text": [
      "VALID \t: Summary: Loss: 1.2987 Accuracy: 0.5296\n",
      "TRAIN \t: Summary: Loss: 1.3822 Accuracy: 0.5023\n"
     ]
    },
    {
     "name": "stderr",
     "output_type": "stream",
     "text": [
      "Training: Epoch [58/200]: 100%|██████████████████████████████| 313/313 [00:12<00:00, 24.85it/s]                                            \n",
      "Evaluate: Epoch [58/200]: 100%|██████████████████████████████| 79/79 [00:00<00:00, 123.17it/s]                                             \n"
     ]
    },
    {
     "name": "stdout",
     "output_type": "stream",
     "text": [
      "VALID \t: Summary: Loss: 1.2946 Accuracy: 0.5309\n",
      "TRAIN \t: Summary: Loss: 1.3797 Accuracy: 0.5049\n"
     ]
    },
    {
     "name": "stderr",
     "output_type": "stream",
     "text": [
      "Training: Epoch [59/200]: 100%|██████████████████████████████| 313/313 [00:12<00:00, 25.49it/s]                                            \n",
      "Evaluate: Epoch [59/200]: 100%|██████████████████████████████| 79/79 [00:00<00:00, 120.92it/s]                                             \n"
     ]
    },
    {
     "name": "stdout",
     "output_type": "stream",
     "text": [
      "VALID \t: Summary: Loss: 1.2920 Accuracy: 0.5348\n",
      "TRAIN \t: Summary: Loss: 1.3789 Accuracy: 0.5053\n"
     ]
    },
    {
     "name": "stderr",
     "output_type": "stream",
     "text": [
      "Training: Epoch [60/200]: 100%|██████████████████████████████| 313/313 [00:12<00:00, 25.19it/s]                                            \n",
      "Evaluate: Epoch [60/200]: 100%|██████████████████████████████| 79/79 [00:00<00:00, 127.16it/s]                                             \n"
     ]
    },
    {
     "name": "stdout",
     "output_type": "stream",
     "text": [
      "VALID \t: Summary: Loss: 1.2966 Accuracy: 0.5311\n",
      "TRAIN \t: Summary: Loss: 1.3795 Accuracy: 0.5043\n"
     ]
    },
    {
     "name": "stderr",
     "output_type": "stream",
     "text": [
      "Training: Epoch [61/200]: 100%|██████████████████████████████| 313/313 [00:12<00:00, 25.59it/s]                                            \n",
      "Evaluate: Epoch [61/200]: 100%|██████████████████████████████| 79/79 [00:00<00:00, 105.86it/s]                                             \n"
     ]
    },
    {
     "name": "stdout",
     "output_type": "stream",
     "text": [
      "VALID \t: Summary: Loss: 1.2887 Accuracy: 0.5356\n",
      "TRAIN \t: Summary: Loss: 1.3748 Accuracy: 0.5052\n"
     ]
    },
    {
     "name": "stderr",
     "output_type": "stream",
     "text": [
      "Training: Epoch [62/200]: 100%|██████████████████████████████| 313/313 [00:12<00:00, 24.65it/s]                                            \n",
      "Evaluate: Epoch [62/200]: 100%|██████████████████████████████| 79/79 [00:00<00:00, 127.97it/s]                                             \n"
     ]
    },
    {
     "name": "stdout",
     "output_type": "stream",
     "text": [
      "VALID \t: Summary: Loss: 1.2886 Accuracy: 0.5365\n",
      "TRAIN \t: Summary: Loss: 1.3735 Accuracy: 0.5062\n"
     ]
    },
    {
     "name": "stderr",
     "output_type": "stream",
     "text": [
      "Training: Epoch [63/200]: 100%|██████████████████████████████| 313/313 [00:12<00:00, 25.63it/s]                                            \n",
      "Evaluate: Epoch [63/200]: 100%|██████████████████████████████| 79/79 [00:00<00:00, 127.42it/s]                                             \n"
     ]
    },
    {
     "name": "stdout",
     "output_type": "stream",
     "text": [
      "VALID \t: Summary: Loss: 1.2894 Accuracy: 0.5349\n",
      "TRAIN \t: Summary: Loss: 1.3693 Accuracy: 0.5090\n"
     ]
    },
    {
     "name": "stderr",
     "output_type": "stream",
     "text": [
      "Training: Epoch [64/200]: 100%|██████████████████████████████| 313/313 [00:12<00:00, 25.60it/s]                                            \n",
      "Evaluate: Epoch [64/200]: 100%|██████████████████████████████| 79/79 [00:00<00:00, 130.71it/s]                                             \n"
     ]
    },
    {
     "name": "stdout",
     "output_type": "stream",
     "text": [
      "VALID \t: Summary: Loss: 1.2889 Accuracy: 0.5372\n",
      "TRAIN \t: Summary: Loss: 1.3691 Accuracy: 0.5079\n"
     ]
    },
    {
     "name": "stderr",
     "output_type": "stream",
     "text": [
      "Training: Epoch [65/200]: 100%|██████████████████████████████| 313/313 [00:12<00:00, 25.31it/s]                                            \n",
      "Evaluate: Epoch [65/200]: 100%|██████████████████████████████| 79/79 [00:00<00:00, 128.50it/s]                                             \n"
     ]
    },
    {
     "name": "stdout",
     "output_type": "stream",
     "text": [
      "VALID \t: Summary: Loss: 1.2848 Accuracy: 0.5386\n",
      "TRAIN \t: Summary: Loss: 1.3704 Accuracy: 0.5091\n"
     ]
    },
    {
     "name": "stderr",
     "output_type": "stream",
     "text": [
      "Training: Epoch [66/200]: 100%|██████████████████████████████| 313/313 [00:12<00:00, 26.06it/s]                                            \n",
      "Evaluate: Epoch [66/200]: 100%|██████████████████████████████| 79/79 [00:00<00:00, 129.52it/s]                                             \n"
     ]
    },
    {
     "name": "stdout",
     "output_type": "stream",
     "text": [
      "VALID \t: Summary: Loss: 1.2844 Accuracy: 0.5364\n",
      "TRAIN \t: Summary: Loss: 1.3657 Accuracy: 0.5117\n"
     ]
    },
    {
     "name": "stderr",
     "output_type": "stream",
     "text": [
      "Training: Epoch [67/200]: 100%|██████████████████████████████| 313/313 [00:12<00:00, 25.12it/s]                                            \n",
      "Evaluate: Epoch [67/200]: 100%|██████████████████████████████| 79/79 [00:00<00:00, 128.37it/s]                                             \n"
     ]
    },
    {
     "name": "stdout",
     "output_type": "stream",
     "text": [
      "VALID \t: Summary: Loss: 1.2817 Accuracy: 0.5373\n",
      "TRAIN \t: Summary: Loss: 1.3672 Accuracy: 0.5087\n"
     ]
    },
    {
     "name": "stderr",
     "output_type": "stream",
     "text": [
      "Training: Epoch [68/200]: 100%|██████████████████████████████| 313/313 [00:12<00:00, 26.07it/s]                                            \n",
      "Evaluate: Epoch [68/200]: 100%|██████████████████████████████| 79/79 [00:00<00:00, 128.66it/s]                                             \n"
     ]
    },
    {
     "name": "stdout",
     "output_type": "stream",
     "text": [
      "VALID \t: Summary: Loss: 1.2817 Accuracy: 0.5369\n",
      "TRAIN \t: Summary: Loss: 1.3680 Accuracy: 0.5104\n"
     ]
    },
    {
     "name": "stderr",
     "output_type": "stream",
     "text": [
      "Training: Epoch [69/200]: 100%|██████████████████████████████| 313/313 [00:12<00:00, 25.97it/s]                                            \n",
      "Evaluate: Epoch [69/200]: 100%|██████████████████████████████| 79/79 [00:00<00:00, 119.07it/s]                                             \n"
     ]
    },
    {
     "name": "stdout",
     "output_type": "stream",
     "text": [
      "VALID \t: Summary: Loss: 1.2802 Accuracy: 0.5388\n",
      "TRAIN \t: Summary: Loss: 1.3647 Accuracy: 0.5111\n"
     ]
    },
    {
     "name": "stderr",
     "output_type": "stream",
     "text": [
      "Training: Epoch [70/200]: 100%|██████████████████████████████| 313/313 [00:12<00:00, 25.42it/s]                                            \n",
      "Evaluate: Epoch [70/200]: 100%|██████████████████████████████| 79/79 [00:00<00:00, 130.30it/s]                                             \n"
     ]
    },
    {
     "name": "stdout",
     "output_type": "stream",
     "text": [
      "VALID \t: Summary: Loss: 1.2789 Accuracy: 0.5383\n",
      "TRAIN \t: Summary: Loss: 1.3605 Accuracy: 0.5095\n"
     ]
    },
    {
     "name": "stderr",
     "output_type": "stream",
     "text": [
      "Training: Epoch [71/200]: 100%|██████████████████████████████| 313/313 [00:12<00:00, 25.51it/s]                                            \n",
      "Evaluate: Epoch [71/200]: 100%|██████████████████████████████| 79/79 [00:00<00:00, 128.07it/s]                                             \n"
     ]
    },
    {
     "name": "stdout",
     "output_type": "stream",
     "text": [
      "VALID \t: Summary: Loss: 1.2771 Accuracy: 0.5388\n",
      "TRAIN \t: Summary: Loss: 1.3625 Accuracy: 0.5093\n"
     ]
    },
    {
     "name": "stderr",
     "output_type": "stream",
     "text": [
      "Training: Epoch [72/200]: 100%|██████████████████████████████| 313/313 [00:11<00:00, 26.08it/s]                                            \n",
      "Evaluate: Epoch [72/200]: 100%|██████████████████████████████| 79/79 [00:00<00:00, 128.49it/s]                                             \n"
     ]
    },
    {
     "name": "stdout",
     "output_type": "stream",
     "text": [
      "VALID \t: Summary: Loss: 1.2773 Accuracy: 0.5394\n",
      "TRAIN \t: Summary: Loss: 1.3559 Accuracy: 0.5123\n"
     ]
    },
    {
     "name": "stderr",
     "output_type": "stream",
     "text": [
      "Training: Epoch [73/200]: 100%|██████████████████████████████| 313/313 [00:11<00:00, 26.15it/s]                                            \n",
      "Evaluate: Epoch [73/200]: 100%|██████████████████████████████| 79/79 [00:00<00:00, 124.22it/s]                                             \n"
     ]
    },
    {
     "name": "stdout",
     "output_type": "stream",
     "text": [
      "VALID \t: Summary: Loss: 1.2717 Accuracy: 0.5429\n",
      "TRAIN \t: Summary: Loss: 1.3576 Accuracy: 0.5111\n"
     ]
    },
    {
     "name": "stderr",
     "output_type": "stream",
     "text": [
      "Training: Epoch [74/200]: 100%|██████████████████████████████| 313/313 [00:12<00:00, 26.06it/s]                                            \n",
      "Evaluate: Epoch [74/200]: 100%|██████████████████████████████| 79/79 [00:00<00:00, 129.05it/s]                                             \n"
     ]
    },
    {
     "name": "stdout",
     "output_type": "stream",
     "text": [
      "VALID \t: Summary: Loss: 1.2735 Accuracy: 0.5414\n",
      "TRAIN \t: Summary: Loss: 1.3574 Accuracy: 0.5113\n"
     ]
    },
    {
     "name": "stderr",
     "output_type": "stream",
     "text": [
      "Training: Epoch [75/200]: 100%|██████████████████████████████| 313/313 [00:12<00:00, 25.77it/s]                                            \n",
      "Evaluate: Epoch [75/200]: 100%|██████████████████████████████| 79/79 [00:00<00:00, 128.21it/s]                                             \n"
     ]
    },
    {
     "name": "stdout",
     "output_type": "stream",
     "text": [
      "VALID \t: Summary: Loss: 1.2735 Accuracy: 0.5421\n",
      "TRAIN \t: Summary: Loss: 1.3560 Accuracy: 0.5121\n"
     ]
    },
    {
     "name": "stderr",
     "output_type": "stream",
     "text": [
      "Training: Epoch [76/200]: 100%|██████████████████████████████| 313/313 [00:12<00:00, 25.90it/s]                                            \n",
      "Evaluate: Epoch [76/200]: 100%|██████████████████████████████| 79/79 [00:00<00:00, 128.15it/s]                                             \n"
     ]
    },
    {
     "name": "stdout",
     "output_type": "stream",
     "text": [
      "VALID \t: Summary: Loss: 1.2698 Accuracy: 0.5434\n",
      "TRAIN \t: Summary: Loss: 1.3564 Accuracy: 0.5140\n"
     ]
    },
    {
     "name": "stderr",
     "output_type": "stream",
     "text": [
      "Training: Epoch [77/200]: 100%|██████████████████████████████| 313/313 [00:12<00:00, 26.04it/s]                                            \n",
      "Evaluate: Epoch [77/200]: 100%|██████████████████████████████| 79/79 [00:00<00:00, 128.22it/s]                                             \n"
     ]
    },
    {
     "name": "stdout",
     "output_type": "stream",
     "text": [
      "VALID \t: Summary: Loss: 1.2690 Accuracy: 0.5442\n",
      "TRAIN \t: Summary: Loss: 1.3556 Accuracy: 0.5129\n"
     ]
    },
    {
     "name": "stderr",
     "output_type": "stream",
     "text": [
      "Training: Epoch [78/200]: 100%|██████████████████████████████| 313/313 [00:12<00:00, 25.91it/s]                                            \n",
      "Evaluate: Epoch [78/200]: 100%|██████████████████████████████| 79/79 [00:00<00:00, 128.45it/s]                                             \n"
     ]
    },
    {
     "name": "stdout",
     "output_type": "stream",
     "text": [
      "VALID \t: Summary: Loss: 1.2698 Accuracy: 0.5438\n",
      "TRAIN \t: Summary: Loss: 1.3491 Accuracy: 0.5161\n"
     ]
    },
    {
     "name": "stderr",
     "output_type": "stream",
     "text": [
      "Training: Epoch [79/200]: 100%|██████████████████████████████| 313/313 [00:12<00:00, 26.04it/s]                                            \n",
      "Evaluate: Epoch [79/200]: 100%|██████████████████████████████| 79/79 [00:00<00:00, 128.37it/s]                                             \n"
     ]
    },
    {
     "name": "stdout",
     "output_type": "stream",
     "text": [
      "VALID \t: Summary: Loss: 1.2681 Accuracy: 0.5452\n",
      "TRAIN \t: Summary: Loss: 1.3478 Accuracy: 0.5165\n"
     ]
    },
    {
     "name": "stderr",
     "output_type": "stream",
     "text": [
      "Training: Epoch [80/200]: 100%|██████████████████████████████| 313/313 [00:12<00:00, 24.34it/s]                                            \n",
      "Evaluate: Epoch [80/200]: 100%|██████████████████████████████| 79/79 [00:00<00:00, 128.91it/s]                                             \n"
     ]
    },
    {
     "name": "stdout",
     "output_type": "stream",
     "text": [
      "VALID \t: Summary: Loss: 1.2674 Accuracy: 0.5461\n",
      "TRAIN \t: Summary: Loss: 1.3463 Accuracy: 0.5168\n"
     ]
    },
    {
     "name": "stderr",
     "output_type": "stream",
     "text": [
      "Training: Epoch [81/200]: 100%|██████████████████████████████| 313/313 [00:12<00:00, 25.98it/s]                                            \n",
      "Evaluate: Epoch [81/200]: 100%|██████████████████████████████| 79/79 [00:00<00:00, 128.27it/s]                                             \n"
     ]
    },
    {
     "name": "stdout",
     "output_type": "stream",
     "text": [
      "VALID \t: Summary: Loss: 1.2636 Accuracy: 0.5472\n",
      "TRAIN \t: Summary: Loss: 1.3477 Accuracy: 0.5166\n"
     ]
    },
    {
     "name": "stderr",
     "output_type": "stream",
     "text": [
      "Training: Epoch [82/200]: 100%|██████████████████████████████| 313/313 [00:12<00:00, 25.89it/s]                                            \n",
      "Evaluate: Epoch [82/200]: 100%|██████████████████████████████| 79/79 [00:00<00:00, 127.54it/s]                                             \n"
     ]
    },
    {
     "name": "stdout",
     "output_type": "stream",
     "text": [
      "VALID \t: Summary: Loss: 1.2643 Accuracy: 0.5457\n",
      "TRAIN \t: Summary: Loss: 1.3490 Accuracy: 0.5173\n"
     ]
    },
    {
     "name": "stderr",
     "output_type": "stream",
     "text": [
      "Training: Epoch [83/200]: 100%|██████████████████████████████| 313/313 [00:12<00:00, 25.95it/s]                                            \n",
      "Evaluate: Epoch [83/200]: 100%|██████████████████████████████| 79/79 [00:00<00:00, 126.00it/s]                                             \n"
     ]
    },
    {
     "name": "stdout",
     "output_type": "stream",
     "text": [
      "VALID \t: Summary: Loss: 1.2626 Accuracy: 0.5453\n",
      "TRAIN \t: Summary: Loss: 1.3438 Accuracy: 0.5163\n"
     ]
    },
    {
     "name": "stderr",
     "output_type": "stream",
     "text": [
      "Training: Epoch [84/200]: 100%|██████████████████████████████| 313/313 [00:12<00:00, 25.69it/s]                                            \n",
      "Evaluate: Epoch [84/200]: 100%|██████████████████████████████| 79/79 [00:00<00:00, 126.82it/s]                                             \n"
     ]
    },
    {
     "name": "stdout",
     "output_type": "stream",
     "text": [
      "VALID \t: Summary: Loss: 1.2598 Accuracy: 0.5478\n",
      "TRAIN \t: Summary: Loss: 1.3450 Accuracy: 0.5201\n"
     ]
    },
    {
     "name": "stderr",
     "output_type": "stream",
     "text": [
      "Training: Epoch [85/200]: 100%|██████████████████████████████| 313/313 [00:12<00:00, 26.01it/s]                                            \n",
      "Evaluate: Epoch [85/200]: 100%|██████████████████████████████| 79/79 [00:00<00:00, 128.11it/s]                                             \n"
     ]
    },
    {
     "name": "stdout",
     "output_type": "stream",
     "text": [
      "VALID \t: Summary: Loss: 1.2587 Accuracy: 0.5481\n",
      "TRAIN \t: Summary: Loss: 1.3424 Accuracy: 0.5205\n"
     ]
    },
    {
     "name": "stderr",
     "output_type": "stream",
     "text": [
      "Training: Epoch [86/200]: 100%|██████████████████████████████| 313/313 [00:12<00:00, 25.99it/s]                                            \n",
      "Evaluate: Epoch [86/200]: 100%|██████████████████████████████| 79/79 [00:00<00:00, 129.88it/s]                                             \n"
     ]
    },
    {
     "name": "stdout",
     "output_type": "stream",
     "text": [
      "VALID \t: Summary: Loss: 1.2582 Accuracy: 0.5466\n",
      "TRAIN \t: Summary: Loss: 1.3409 Accuracy: 0.5196\n"
     ]
    },
    {
     "name": "stderr",
     "output_type": "stream",
     "text": [
      "Training: Epoch [87/200]: 100%|██████████████████████████████| 313/313 [00:12<00:00, 26.05it/s]                                            \n",
      "Evaluate: Epoch [87/200]: 100%|██████████████████████████████| 79/79 [00:00<00:00, 128.59it/s]                                             \n"
     ]
    },
    {
     "name": "stdout",
     "output_type": "stream",
     "text": [
      "VALID \t: Summary: Loss: 1.2583 Accuracy: 0.5469\n",
      "TRAIN \t: Summary: Loss: 1.3346 Accuracy: 0.5216\n"
     ]
    },
    {
     "name": "stderr",
     "output_type": "stream",
     "text": [
      "Training: Epoch [88/200]: 100%|██████████████████████████████| 313/313 [00:12<00:00, 25.17it/s]                                            \n",
      "Evaluate: Epoch [88/200]: 100%|██████████████████████████████| 79/79 [00:00<00:00, 128.37it/s]                                             \n"
     ]
    },
    {
     "name": "stdout",
     "output_type": "stream",
     "text": [
      "VALID \t: Summary: Loss: 1.2561 Accuracy: 0.5493\n",
      "TRAIN \t: Summary: Loss: 1.3358 Accuracy: 0.5193\n"
     ]
    },
    {
     "name": "stderr",
     "output_type": "stream",
     "text": [
      "Training: Epoch [89/200]: 100%|██████████████████████████████| 313/313 [00:12<00:00, 25.35it/s]                                            \n",
      "Evaluate: Epoch [89/200]: 100%|██████████████████████████████| 79/79 [00:00<00:00, 125.61it/s]                                             \n"
     ]
    },
    {
     "name": "stdout",
     "output_type": "stream",
     "text": [
      "VALID \t: Summary: Loss: 1.2569 Accuracy: 0.5508\n",
      "TRAIN \t: Summary: Loss: 1.3347 Accuracy: 0.5230\n"
     ]
    },
    {
     "name": "stderr",
     "output_type": "stream",
     "text": [
      "Training: Epoch [90/200]: 100%|██████████████████████████████| 313/313 [00:12<00:00, 24.84it/s]                                            \n",
      "Evaluate: Epoch [90/200]: 100%|██████████████████████████████| 79/79 [00:00<00:00, 116.02it/s]                                             \n"
     ]
    },
    {
     "name": "stdout",
     "output_type": "stream",
     "text": [
      "VALID \t: Summary: Loss: 1.2547 Accuracy: 0.5509\n",
      "TRAIN \t: Summary: Loss: 1.3335 Accuracy: 0.5228\n"
     ]
    },
    {
     "name": "stderr",
     "output_type": "stream",
     "text": [
      "Training: Epoch [91/200]: 100%|██████████████████████████████| 313/313 [00:12<00:00, 24.72it/s]                                            \n",
      "Evaluate: Epoch [91/200]: 100%|██████████████████████████████| 79/79 [00:00<00:00, 111.10it/s]                                             \n"
     ]
    },
    {
     "name": "stdout",
     "output_type": "stream",
     "text": [
      "VALID \t: Summary: Loss: 1.2553 Accuracy: 0.5494\n",
      "TRAIN \t: Summary: Loss: 1.3389 Accuracy: 0.5184\n"
     ]
    },
    {
     "name": "stderr",
     "output_type": "stream",
     "text": [
      "Training: Epoch [92/200]: 100%|██████████████████████████████| 313/313 [00:12<00:00, 25.18it/s]                                            \n",
      "Evaluate: Epoch [92/200]: 100%|██████████████████████████████| 79/79 [00:00<00:00, 119.40it/s]                                             \n"
     ]
    },
    {
     "name": "stdout",
     "output_type": "stream",
     "text": [
      "VALID \t: Summary: Loss: 1.2532 Accuracy: 0.5520\n",
      "TRAIN \t: Summary: Loss: 1.3360 Accuracy: 0.5215\n"
     ]
    },
    {
     "name": "stderr",
     "output_type": "stream",
     "text": [
      "Training: Epoch [93/200]: 100%|██████████████████████████████| 313/313 [00:12<00:00, 24.91it/s]                                            \n",
      "Evaluate: Epoch [93/200]: 100%|██████████████████████████████| 79/79 [00:00<00:00, 128.20it/s]                                             \n"
     ]
    },
    {
     "name": "stdout",
     "output_type": "stream",
     "text": [
      "VALID \t: Summary: Loss: 1.2502 Accuracy: 0.5511\n",
      "TRAIN \t: Summary: Loss: 1.3295 Accuracy: 0.5243\n"
     ]
    },
    {
     "name": "stderr",
     "output_type": "stream",
     "text": [
      "Training: Epoch [94/200]: 100%|██████████████████████████████| 313/313 [00:12<00:00, 24.55it/s]                                            \n",
      "Evaluate: Epoch [94/200]: 100%|██████████████████████████████| 79/79 [00:00<00:00, 121.72it/s]                                             \n"
     ]
    },
    {
     "name": "stdout",
     "output_type": "stream",
     "text": [
      "VALID \t: Summary: Loss: 1.2492 Accuracy: 0.5520\n",
      "TRAIN \t: Summary: Loss: 1.3307 Accuracy: 0.5222\n"
     ]
    },
    {
     "name": "stderr",
     "output_type": "stream",
     "text": [
      "Training: Epoch [95/200]: 100%|██████████████████████████████| 313/313 [00:12<00:00, 25.89it/s]                                            \n",
      "Evaluate: Epoch [95/200]: 100%|██████████████████████████████| 79/79 [00:00<00:00, 126.78it/s]                                             \n"
     ]
    },
    {
     "name": "stdout",
     "output_type": "stream",
     "text": [
      "VALID \t: Summary: Loss: 1.2480 Accuracy: 0.5547\n",
      "TRAIN \t: Summary: Loss: 1.3325 Accuracy: 0.5232\n"
     ]
    },
    {
     "name": "stderr",
     "output_type": "stream",
     "text": [
      "Training: Epoch [96/200]: 100%|██████████████████████████████| 313/313 [00:12<00:00, 25.42it/s]                                            \n",
      "Evaluate: Epoch [96/200]: 100%|██████████████████████████████| 79/79 [00:00<00:00, 114.11it/s]                                             \n"
     ]
    },
    {
     "name": "stdout",
     "output_type": "stream",
     "text": [
      "VALID \t: Summary: Loss: 1.2467 Accuracy: 0.5508\n",
      "TRAIN \t: Summary: Loss: 1.3286 Accuracy: 0.5260\n"
     ]
    },
    {
     "name": "stderr",
     "output_type": "stream",
     "text": [
      "Training: Epoch [97/200]: 100%|██████████████████████████████| 313/313 [00:12<00:00, 25.76it/s]                                            \n",
      "Evaluate: Epoch [97/200]: 100%|██████████████████████████████| 79/79 [00:00<00:00, 102.39it/s]                                             \n"
     ]
    },
    {
     "name": "stdout",
     "output_type": "stream",
     "text": [
      "VALID \t: Summary: Loss: 1.2462 Accuracy: 0.5537\n",
      "TRAIN \t: Summary: Loss: 1.3297 Accuracy: 0.5237\n"
     ]
    },
    {
     "name": "stderr",
     "output_type": "stream",
     "text": [
      "Training: Epoch [98/200]: 100%|██████████████████████████████| 313/313 [00:12<00:00, 24.88it/s]                                            \n",
      "Evaluate: Epoch [98/200]: 100%|██████████████████████████████| 79/79 [00:00<00:00, 127.19it/s]                                             \n"
     ]
    },
    {
     "name": "stdout",
     "output_type": "stream",
     "text": [
      "VALID \t: Summary: Loss: 1.2461 Accuracy: 0.5518\n",
      "TRAIN \t: Summary: Loss: 1.3315 Accuracy: 0.5260\n"
     ]
    },
    {
     "name": "stderr",
     "output_type": "stream",
     "text": [
      "Training: Epoch [99/200]: 100%|██████████████████████████████| 313/313 [00:12<00:00, 26.06it/s]                                            \n",
      "Evaluate: Epoch [99/200]: 100%|██████████████████████████████| 79/79 [00:00<00:00, 127.38it/s]                                             \n"
     ]
    },
    {
     "name": "stdout",
     "output_type": "stream",
     "text": [
      "VALID \t: Summary: Loss: 1.2452 Accuracy: 0.5551\n",
      "TRAIN \t: Summary: Loss: 1.3258 Accuracy: 0.5284\n"
     ]
    },
    {
     "name": "stderr",
     "output_type": "stream",
     "text": [
      "Training: Epoch [100/200]: 100%|██████████████████████████████| 313/313 [00:12<00:00, 26.01it/s]                                           \n",
      "Evaluate: Epoch [100/200]: 100%|██████████████████████████████| 79/79 [00:00<00:00, 120.75it/s]                                            \n"
     ]
    },
    {
     "name": "stdout",
     "output_type": "stream",
     "text": [
      "VALID \t: Summary: Loss: 1.2464 Accuracy: 0.5542\n",
      "TRAIN \t: Summary: Loss: 1.3239 Accuracy: 0.5249\n"
     ]
    },
    {
     "name": "stderr",
     "output_type": "stream",
     "text": [
      "Training: Epoch [101/200]: 100%|██████████████████████████████| 313/313 [00:12<00:00, 26.06it/s]                                           \n",
      "Evaluate: Epoch [101/200]: 100%|██████████████████████████████| 79/79 [00:00<00:00, 127.24it/s]                                            \n"
     ]
    },
    {
     "name": "stdout",
     "output_type": "stream",
     "text": [
      "VALID \t: Summary: Loss: 1.2415 Accuracy: 0.5554\n",
      "TRAIN \t: Summary: Loss: 1.3220 Accuracy: 0.5270\n"
     ]
    },
    {
     "name": "stderr",
     "output_type": "stream",
     "text": [
      "Training: Epoch [102/200]: 100%|██████████████████████████████| 313/313 [00:12<00:00, 25.95it/s]                                           \n",
      "Evaluate: Epoch [102/200]: 100%|██████████████████████████████| 79/79 [00:00<00:00, 127.91it/s]                                            \n"
     ]
    },
    {
     "name": "stdout",
     "output_type": "stream",
     "text": [
      "VALID \t: Summary: Loss: 1.2411 Accuracy: 0.5542\n",
      "TRAIN \t: Summary: Loss: 1.3228 Accuracy: 0.5264\n"
     ]
    },
    {
     "name": "stderr",
     "output_type": "stream",
     "text": [
      "Training: Epoch [103/200]: 100%|██████████████████████████████| 313/313 [00:12<00:00, 26.00it/s]                                           \n",
      "Evaluate: Epoch [103/200]: 100%|██████████████████████████████| 79/79 [00:00<00:00, 128.05it/s]                                            \n"
     ]
    },
    {
     "name": "stdout",
     "output_type": "stream",
     "text": [
      "VALID \t: Summary: Loss: 1.2399 Accuracy: 0.5555\n",
      "TRAIN \t: Summary: Loss: 1.3188 Accuracy: 0.5310\n"
     ]
    },
    {
     "name": "stderr",
     "output_type": "stream",
     "text": [
      "Training: Epoch [104/200]: 100%|██████████████████████████████| 313/313 [00:12<00:00, 25.59it/s]                                           \n",
      "Evaluate: Epoch [104/200]: 100%|██████████████████████████████| 79/79 [00:00<00:00, 128.34it/s]                                            \n"
     ]
    },
    {
     "name": "stdout",
     "output_type": "stream",
     "text": [
      "VALID \t: Summary: Loss: 1.2409 Accuracy: 0.5588\n",
      "TRAIN \t: Summary: Loss: 1.3185 Accuracy: 0.5264\n"
     ]
    },
    {
     "name": "stderr",
     "output_type": "stream",
     "text": [
      "Training: Epoch [105/200]: 100%|██████████████████████████████| 313/313 [00:12<00:00, 25.81it/s]                                           \n",
      "Evaluate: Epoch [105/200]: 100%|██████████████████████████████| 79/79 [00:00<00:00, 128.13it/s]                                            \n"
     ]
    },
    {
     "name": "stdout",
     "output_type": "stream",
     "text": [
      "VALID \t: Summary: Loss: 1.2405 Accuracy: 0.5540\n",
      "TRAIN \t: Summary: Loss: 1.3185 Accuracy: 0.5280\n"
     ]
    },
    {
     "name": "stderr",
     "output_type": "stream",
     "text": [
      "Training: Epoch [106/200]: 100%|██████████████████████████████| 313/313 [00:12<00:00, 26.00it/s]                                           \n",
      "Evaluate: Epoch [106/200]: 100%|██████████████████████████████| 79/79 [00:00<00:00, 127.28it/s]                                            \n"
     ]
    },
    {
     "name": "stdout",
     "output_type": "stream",
     "text": [
      "VALID \t: Summary: Loss: 1.2407 Accuracy: 0.5573\n",
      "TRAIN \t: Summary: Loss: 1.3186 Accuracy: 0.5290\n"
     ]
    },
    {
     "name": "stderr",
     "output_type": "stream",
     "text": [
      "Training: Epoch [107/200]: 100%|██████████████████████████████| 313/313 [00:12<00:00, 25.85it/s]                                           \n",
      "Evaluate: Epoch [107/200]: 100%|██████████████████████████████| 79/79 [00:00<00:00, 128.53it/s]                                            \n"
     ]
    },
    {
     "name": "stdout",
     "output_type": "stream",
     "text": [
      "VALID \t: Summary: Loss: 1.2379 Accuracy: 0.5542\n",
      "TRAIN \t: Summary: Loss: 1.3223 Accuracy: 0.5277\n"
     ]
    },
    {
     "name": "stderr",
     "output_type": "stream",
     "text": [
      "Training: Epoch [108/200]: 100%|██████████████████████████████| 313/313 [00:12<00:00, 24.54it/s]                                           \n",
      "Evaluate: Epoch [108/200]: 100%|██████████████████████████████| 79/79 [00:00<00:00, 123.24it/s]                                            \n"
     ]
    },
    {
     "name": "stdout",
     "output_type": "stream",
     "text": [
      "VALID \t: Summary: Loss: 1.2379 Accuracy: 0.5579\n",
      "TRAIN \t: Summary: Loss: 1.3177 Accuracy: 0.5299\n"
     ]
    },
    {
     "name": "stderr",
     "output_type": "stream",
     "text": [
      "Training: Epoch [109/200]: 100%|██████████████████████████████| 313/313 [00:12<00:00, 25.31it/s]                                           \n",
      "Evaluate: Epoch [109/200]: 100%|██████████████████████████████| 79/79 [00:00<00:00, 122.16it/s]                                            \n"
     ]
    },
    {
     "name": "stdout",
     "output_type": "stream",
     "text": [
      "VALID \t: Summary: Loss: 1.2394 Accuracy: 0.5582\n",
      "TRAIN \t: Summary: Loss: 1.3195 Accuracy: 0.5275\n"
     ]
    },
    {
     "name": "stderr",
     "output_type": "stream",
     "text": [
      "Training: Epoch [110/200]: 100%|██████████████████████████████| 313/313 [00:12<00:00, 25.40it/s]                                           \n",
      "Evaluate: Epoch [110/200]: 100%|██████████████████████████████| 79/79 [00:00<00:00, 127.50it/s]                                            \n"
     ]
    },
    {
     "name": "stdout",
     "output_type": "stream",
     "text": [
      "VALID \t: Summary: Loss: 1.2373 Accuracy: 0.5567\n",
      "TRAIN \t: Summary: Loss: 1.3143 Accuracy: 0.5283\n"
     ]
    },
    {
     "name": "stderr",
     "output_type": "stream",
     "text": [
      "Training: Epoch [111/200]: 100%|██████████████████████████████| 313/313 [00:12<00:00, 25.99it/s]                                           \n",
      "Evaluate: Epoch [111/200]: 100%|██████████████████████████████| 79/79 [00:00<00:00, 130.23it/s]                                            \n"
     ]
    },
    {
     "name": "stdout",
     "output_type": "stream",
     "text": [
      "VALID \t: Summary: Loss: 1.2364 Accuracy: 0.5576\n",
      "TRAIN \t: Summary: Loss: 1.3162 Accuracy: 0.5304\n"
     ]
    },
    {
     "name": "stderr",
     "output_type": "stream",
     "text": [
      "Training: Epoch [112/200]: 100%|██████████████████████████████| 313/313 [00:12<00:00, 25.83it/s]                                           \n",
      "Evaluate: Epoch [112/200]: 100%|██████████████████████████████| 79/79 [00:00<00:00, 95.61it/s]                                             \n"
     ]
    },
    {
     "name": "stdout",
     "output_type": "stream",
     "text": [
      "VALID \t: Summary: Loss: 1.2362 Accuracy: 0.5574\n",
      "TRAIN \t: Summary: Loss: 1.3185 Accuracy: 0.5294\n"
     ]
    },
    {
     "name": "stderr",
     "output_type": "stream",
     "text": [
      "Training: Epoch [113/200]: 100%|██████████████████████████████| 313/313 [00:12<00:00, 25.80it/s]                                           \n",
      "Evaluate: Epoch [113/200]: 100%|██████████████████████████████| 79/79 [00:00<00:00, 127.01it/s]                                            \n"
     ]
    },
    {
     "name": "stdout",
     "output_type": "stream",
     "text": [
      "VALID \t: Summary: Loss: 1.2349 Accuracy: 0.5592\n",
      "TRAIN \t: Summary: Loss: 1.3165 Accuracy: 0.5262\n"
     ]
    },
    {
     "name": "stderr",
     "output_type": "stream",
     "text": [
      "Training: Epoch [114/200]: 100%|██████████████████████████████| 313/313 [00:12<00:00, 25.57it/s]                                           \n",
      "Evaluate: Epoch [114/200]: 100%|██████████████████████████████| 79/79 [00:00<00:00, 128.29it/s]                                            \n"
     ]
    },
    {
     "name": "stdout",
     "output_type": "stream",
     "text": [
      "VALID \t: Summary: Loss: 1.2348 Accuracy: 0.5604\n",
      "TRAIN \t: Summary: Loss: 1.3152 Accuracy: 0.5316\n"
     ]
    },
    {
     "name": "stderr",
     "output_type": "stream",
     "text": [
      "Training: Epoch [115/200]: 100%|██████████████████████████████| 313/313 [00:12<00:00, 24.77it/s]                                           \n",
      "Evaluate: Epoch [115/200]: 100%|██████████████████████████████| 79/79 [00:00<00:00, 125.36it/s]                                            \n"
     ]
    },
    {
     "name": "stdout",
     "output_type": "stream",
     "text": [
      "VALID \t: Summary: Loss: 1.2356 Accuracy: 0.5602\n",
      "TRAIN \t: Summary: Loss: 1.3113 Accuracy: 0.5318\n"
     ]
    },
    {
     "name": "stderr",
     "output_type": "stream",
     "text": [
      "Training: Epoch [116/200]: 100%|██████████████████████████████| 313/313 [00:12<00:00, 25.40it/s]                                           \n",
      "Evaluate: Epoch [116/200]: 100%|██████████████████████████████| 79/79 [00:00<00:00, 127.04it/s]                                            \n"
     ]
    },
    {
     "name": "stdout",
     "output_type": "stream",
     "text": [
      "VALID \t: Summary: Loss: 1.2350 Accuracy: 0.5570\n",
      "TRAIN \t: Summary: Loss: 1.3129 Accuracy: 0.5282\n"
     ]
    },
    {
     "name": "stderr",
     "output_type": "stream",
     "text": [
      "Training: Epoch [117/200]: 100%|██████████████████████████████| 313/313 [00:12<00:00, 25.18it/s]                                           \n",
      "Evaluate: Epoch [117/200]: 100%|██████████████████████████████| 79/79 [00:00<00:00, 123.08it/s]                                            \n"
     ]
    },
    {
     "name": "stdout",
     "output_type": "stream",
     "text": [
      "VALID \t: Summary: Loss: 1.2336 Accuracy: 0.5594\n",
      "TRAIN \t: Summary: Loss: 1.3128 Accuracy: 0.5296\n"
     ]
    },
    {
     "name": "stderr",
     "output_type": "stream",
     "text": [
      "Training: Epoch [118/200]: 100%|██████████████████████████████| 313/313 [00:12<00:00, 24.26it/s]                                           \n",
      "Evaluate: Epoch [118/200]: 100%|██████████████████████████████| 79/79 [00:00<00:00, 127.57it/s]                                            \n"
     ]
    },
    {
     "name": "stdout",
     "output_type": "stream",
     "text": [
      "VALID \t: Summary: Loss: 1.2319 Accuracy: 0.5592\n",
      "TRAIN \t: Summary: Loss: 1.3131 Accuracy: 0.5303\n"
     ]
    },
    {
     "name": "stderr",
     "output_type": "stream",
     "text": [
      "Training: Epoch [119/200]: 100%|██████████████████████████████| 313/313 [00:12<00:00, 25.84it/s]                                           \n",
      "Evaluate: Epoch [119/200]: 100%|██████████████████████████████| 79/79 [00:00<00:00, 128.77it/s]                                            \n"
     ]
    },
    {
     "name": "stdout",
     "output_type": "stream",
     "text": [
      "VALID \t: Summary: Loss: 1.2308 Accuracy: 0.5577\n",
      "TRAIN \t: Summary: Loss: 1.3121 Accuracy: 0.5282\n"
     ]
    },
    {
     "name": "stderr",
     "output_type": "stream",
     "text": [
      "Training: Epoch [120/200]: 100%|██████████████████████████████| 313/313 [00:12<00:00, 25.46it/s]                                           \n",
      "Evaluate: Epoch [120/200]: 100%|██████████████████████████████| 79/79 [00:00<00:00, 129.75it/s]                                            \n"
     ]
    },
    {
     "name": "stdout",
     "output_type": "stream",
     "text": [
      "VALID \t: Summary: Loss: 1.2326 Accuracy: 0.5606\n",
      "TRAIN \t: Summary: Loss: 1.3157 Accuracy: 0.5289\n"
     ]
    },
    {
     "name": "stderr",
     "output_type": "stream",
     "text": [
      "Training: Epoch [121/200]: 100%|██████████████████████████████| 313/313 [00:12<00:00, 25.54it/s]                                           \n",
      "Evaluate: Epoch [121/200]: 100%|██████████████████████████████| 79/79 [00:00<00:00, 127.87it/s]                                            \n"
     ]
    },
    {
     "name": "stdout",
     "output_type": "stream",
     "text": [
      "VALID \t: Summary: Loss: 1.2315 Accuracy: 0.5622\n",
      "TRAIN \t: Summary: Loss: 1.3158 Accuracy: 0.5309\n"
     ]
    },
    {
     "name": "stderr",
     "output_type": "stream",
     "text": [
      "Training: Epoch [122/200]: 100%|██████████████████████████████| 313/313 [00:12<00:00, 26.01it/s]                                           \n",
      "Evaluate: Epoch [122/200]: 100%|██████████████████████████████| 79/79 [00:00<00:00, 121.89it/s]                                            \n"
     ]
    },
    {
     "name": "stdout",
     "output_type": "stream",
     "text": [
      "VALID \t: Summary: Loss: 1.2303 Accuracy: 0.5616\n",
      "TRAIN \t: Summary: Loss: 1.3131 Accuracy: 0.5328\n"
     ]
    },
    {
     "name": "stderr",
     "output_type": "stream",
     "text": [
      "Training: Epoch [123/200]: 100%|██████████████████████████████| 313/313 [00:12<00:00, 25.75it/s]                                           \n",
      "Evaluate: Epoch [123/200]: 100%|██████████████████████████████| 79/79 [00:00<00:00, 124.10it/s]                                            \n"
     ]
    },
    {
     "name": "stdout",
     "output_type": "stream",
     "text": [
      "VALID \t: Summary: Loss: 1.2311 Accuracy: 0.5610\n",
      "TRAIN \t: Summary: Loss: 1.3035 Accuracy: 0.5339\n"
     ]
    },
    {
     "name": "stderr",
     "output_type": "stream",
     "text": [
      "Training: Epoch [124/200]: 100%|██████████████████████████████| 313/313 [00:12<00:00, 25.81it/s]                                           \n",
      "Evaluate: Epoch [124/200]: 100%|██████████████████████████████| 79/79 [00:00<00:00, 129.01it/s]                                            \n"
     ]
    },
    {
     "name": "stdout",
     "output_type": "stream",
     "text": [
      "VALID \t: Summary: Loss: 1.2313 Accuracy: 0.5612\n",
      "TRAIN \t: Summary: Loss: 1.3105 Accuracy: 0.5302\n"
     ]
    },
    {
     "name": "stderr",
     "output_type": "stream",
     "text": [
      "Training: Epoch [125/200]: 100%|██████████████████████████████| 313/313 [00:11<00:00, 26.16it/s]                                           \n",
      "Evaluate: Epoch [125/200]: 100%|██████████████████████████████| 79/79 [00:00<00:00, 122.99it/s]                                            \n"
     ]
    },
    {
     "name": "stdout",
     "output_type": "stream",
     "text": [
      "VALID \t: Summary: Loss: 1.2301 Accuracy: 0.5617\n",
      "TRAIN \t: Summary: Loss: 1.3084 Accuracy: 0.5319\n"
     ]
    },
    {
     "name": "stderr",
     "output_type": "stream",
     "text": [
      "Training: Epoch [126/200]: 100%|██████████████████████████████| 313/313 [00:12<00:00, 25.28it/s]                                           \n",
      "Evaluate: Epoch [126/200]: 100%|██████████████████████████████| 79/79 [00:00<00:00, 124.89it/s]                                            \n"
     ]
    },
    {
     "name": "stdout",
     "output_type": "stream",
     "text": [
      "VALID \t: Summary: Loss: 1.2288 Accuracy: 0.5610\n",
      "TRAIN \t: Summary: Loss: 1.3090 Accuracy: 0.5319\n"
     ]
    },
    {
     "name": "stderr",
     "output_type": "stream",
     "text": [
      "Training: Epoch [127/200]: 100%|██████████████████████████████| 313/313 [00:12<00:00, 25.24it/s]                                           \n",
      "Evaluate: Epoch [127/200]: 100%|██████████████████████████████| 79/79 [00:00<00:00, 109.83it/s]                                            \n"
     ]
    },
    {
     "name": "stdout",
     "output_type": "stream",
     "text": [
      "VALID \t: Summary: Loss: 1.2284 Accuracy: 0.5599\n",
      "TRAIN \t: Summary: Loss: 1.3065 Accuracy: 0.5337\n"
     ]
    },
    {
     "name": "stderr",
     "output_type": "stream",
     "text": [
      "Training: Epoch [128/200]: 100%|██████████████████████████████| 313/313 [00:12<00:00, 25.63it/s]                                           \n",
      "Evaluate: Epoch [128/200]: 100%|██████████████████████████████| 79/79 [00:00<00:00, 131.27it/s]                                            \n"
     ]
    },
    {
     "name": "stdout",
     "output_type": "stream",
     "text": [
      "VALID \t: Summary: Loss: 1.2282 Accuracy: 0.5623\n",
      "TRAIN \t: Summary: Loss: 1.3067 Accuracy: 0.5344\n"
     ]
    },
    {
     "name": "stderr",
     "output_type": "stream",
     "text": [
      "Training: Epoch [129/200]: 100%|██████████████████████████████| 313/313 [00:12<00:00, 25.74it/s]                                           \n",
      "Evaluate: Epoch [129/200]: 100%|██████████████████████████████| 79/79 [00:00<00:00, 128.13it/s]                                            \n"
     ]
    },
    {
     "name": "stdout",
     "output_type": "stream",
     "text": [
      "VALID \t: Summary: Loss: 1.2282 Accuracy: 0.5622\n",
      "TRAIN \t: Summary: Loss: 1.3066 Accuracy: 0.5332\n"
     ]
    },
    {
     "name": "stderr",
     "output_type": "stream",
     "text": [
      "Training: Epoch [130/200]: 100%|██████████████████████████████| 313/313 [00:12<00:00, 25.75it/s]                                           \n",
      "Evaluate: Epoch [130/200]: 100%|██████████████████████████████| 79/79 [00:00<00:00, 124.98it/s]                                            \n"
     ]
    },
    {
     "name": "stdout",
     "output_type": "stream",
     "text": [
      "VALID \t: Summary: Loss: 1.2275 Accuracy: 0.5632\n",
      "TRAIN \t: Summary: Loss: 1.3059 Accuracy: 0.5325\n"
     ]
    },
    {
     "name": "stderr",
     "output_type": "stream",
     "text": [
      "Training: Epoch [131/200]: 100%|██████████████████████████████| 313/313 [00:12<00:00, 25.98it/s]                                           \n",
      "Evaluate: Epoch [131/200]: 100%|██████████████████████████████| 79/79 [00:00<00:00, 127.38it/s]                                            \n"
     ]
    },
    {
     "name": "stdout",
     "output_type": "stream",
     "text": [
      "VALID \t: Summary: Loss: 1.2264 Accuracy: 0.5635\n",
      "TRAIN \t: Summary: Loss: 1.3088 Accuracy: 0.5322\n"
     ]
    },
    {
     "name": "stderr",
     "output_type": "stream",
     "text": [
      "Training: Epoch [132/200]: 100%|██████████████████████████████| 313/313 [00:12<00:00, 25.50it/s]                                           \n",
      "Evaluate: Epoch [132/200]: 100%|██████████████████████████████| 79/79 [00:00<00:00, 122.18it/s]                                            \n"
     ]
    },
    {
     "name": "stdout",
     "output_type": "stream",
     "text": [
      "VALID \t: Summary: Loss: 1.2256 Accuracy: 0.5652\n",
      "TRAIN \t: Summary: Loss: 1.3068 Accuracy: 0.5360\n"
     ]
    },
    {
     "name": "stderr",
     "output_type": "stream",
     "text": [
      "Training: Epoch [133/200]: 100%|██████████████████████████████| 313/313 [00:12<00:00, 25.91it/s]                                           \n",
      "Evaluate: Epoch [133/200]: 100%|██████████████████████████████| 79/79 [00:00<00:00, 129.32it/s]                                            \n"
     ]
    },
    {
     "name": "stdout",
     "output_type": "stream",
     "text": [
      "VALID \t: Summary: Loss: 1.2239 Accuracy: 0.5664\n",
      "TRAIN \t: Summary: Loss: 1.3107 Accuracy: 0.5305\n"
     ]
    },
    {
     "name": "stderr",
     "output_type": "stream",
     "text": [
      "Training: Epoch [134/200]: 100%|██████████████████████████████| 313/313 [00:12<00:00, 25.84it/s]                                           \n",
      "Evaluate: Epoch [134/200]: 100%|██████████████████████████████| 79/79 [00:00<00:00, 125.68it/s]                                            \n"
     ]
    },
    {
     "name": "stdout",
     "output_type": "stream",
     "text": [
      "VALID \t: Summary: Loss: 1.2252 Accuracy: 0.5642\n",
      "TRAIN \t: Summary: Loss: 1.3060 Accuracy: 0.5321\n"
     ]
    },
    {
     "name": "stderr",
     "output_type": "stream",
     "text": [
      "Training: Epoch [135/200]: 100%|██████████████████████████████| 313/313 [00:12<00:00, 25.91it/s]                                           \n",
      "Evaluate: Epoch [135/200]: 100%|██████████████████████████████| 79/79 [00:00<00:00, 125.51it/s]                                            \n"
     ]
    },
    {
     "name": "stdout",
     "output_type": "stream",
     "text": [
      "VALID \t: Summary: Loss: 1.2273 Accuracy: 0.5650\n",
      "TRAIN \t: Summary: Loss: 1.3052 Accuracy: 0.5337\n"
     ]
    },
    {
     "name": "stderr",
     "output_type": "stream",
     "text": [
      "Training: Epoch [136/200]: 100%|██████████████████████████████| 313/313 [00:12<00:00, 25.92it/s]                                           \n",
      "Evaluate: Epoch [136/200]: 100%|██████████████████████████████| 79/79 [00:00<00:00, 129.96it/s]                                            \n"
     ]
    },
    {
     "name": "stdout",
     "output_type": "stream",
     "text": [
      "VALID \t: Summary: Loss: 1.2272 Accuracy: 0.5648\n",
      "TRAIN \t: Summary: Loss: 1.3043 Accuracy: 0.5341\n"
     ]
    },
    {
     "name": "stderr",
     "output_type": "stream",
     "text": [
      "Training: Epoch [137/200]: 100%|██████████████████████████████| 313/313 [00:12<00:00, 26.01it/s]                                           \n",
      "Evaluate: Epoch [137/200]: 100%|██████████████████████████████| 79/79 [00:00<00:00, 126.14it/s]                                            \n"
     ]
    },
    {
     "name": "stdout",
     "output_type": "stream",
     "text": [
      "VALID \t: Summary: Loss: 1.2247 Accuracy: 0.5634\n",
      "TRAIN \t: Summary: Loss: 1.3013 Accuracy: 0.5358\n"
     ]
    },
    {
     "name": "stderr",
     "output_type": "stream",
     "text": [
      "Training: Epoch [138/200]: 100%|██████████████████████████████| 313/313 [00:12<00:00, 26.00it/s]                                           \n",
      "Evaluate: Epoch [138/200]: 100%|██████████████████████████████| 79/79 [00:00<00:00, 127.80it/s]                                            \n"
     ]
    },
    {
     "name": "stdout",
     "output_type": "stream",
     "text": [
      "VALID \t: Summary: Loss: 1.2231 Accuracy: 0.5644\n",
      "TRAIN \t: Summary: Loss: 1.3018 Accuracy: 0.5333\n"
     ]
    },
    {
     "name": "stderr",
     "output_type": "stream",
     "text": [
      "Training: Epoch [139/200]: 100%|██████████████████████████████| 313/313 [00:12<00:00, 26.01it/s]                                           \n",
      "Evaluate: Epoch [139/200]: 100%|██████████████████████████████| 79/79 [00:00<00:00, 128.91it/s]                                            \n"
     ]
    },
    {
     "name": "stdout",
     "output_type": "stream",
     "text": [
      "VALID \t: Summary: Loss: 1.2236 Accuracy: 0.5645\n",
      "TRAIN \t: Summary: Loss: 1.2993 Accuracy: 0.5369\n"
     ]
    },
    {
     "name": "stderr",
     "output_type": "stream",
     "text": [
      "Training: Epoch [140/200]: 100%|██████████████████████████████| 313/313 [00:12<00:00, 25.91it/s]                                           \n",
      "Evaluate: Epoch [140/200]: 100%|██████████████████████████████| 79/79 [00:00<00:00, 131.06it/s]                                            \n"
     ]
    },
    {
     "name": "stdout",
     "output_type": "stream",
     "text": [
      "VALID \t: Summary: Loss: 1.2224 Accuracy: 0.5631\n",
      "TRAIN \t: Summary: Loss: 1.3061 Accuracy: 0.5326\n"
     ]
    },
    {
     "name": "stderr",
     "output_type": "stream",
     "text": [
      "Training: Epoch [141/200]: 100%|██████████████████████████████| 313/313 [00:11<00:00, 26.11it/s]                                           \n",
      "Evaluate: Epoch [141/200]: 100%|██████████████████████████████| 79/79 [00:00<00:00, 127.34it/s]                                            \n"
     ]
    },
    {
     "name": "stdout",
     "output_type": "stream",
     "text": [
      "VALID \t: Summary: Loss: 1.2249 Accuracy: 0.5645\n",
      "TRAIN \t: Summary: Loss: 1.3047 Accuracy: 0.5312\n"
     ]
    },
    {
     "name": "stderr",
     "output_type": "stream",
     "text": [
      "Training: Epoch [142/200]: 100%|██████████████████████████████| 313/313 [00:12<00:00, 25.96it/s]                                           \n",
      "Evaluate: Epoch [142/200]: 100%|██████████████████████████████| 79/79 [00:00<00:00, 125.87it/s]                                            \n"
     ]
    },
    {
     "name": "stdout",
     "output_type": "stream",
     "text": [
      "VALID \t: Summary: Loss: 1.2225 Accuracy: 0.5643\n",
      "TRAIN \t: Summary: Loss: 1.3015 Accuracy: 0.5342\n"
     ]
    },
    {
     "name": "stderr",
     "output_type": "stream",
     "text": [
      "Training: Epoch [143/200]: 100%|██████████████████████████████| 313/313 [00:12<00:00, 25.24it/s]                                           \n",
      "Evaluate: Epoch [143/200]: 100%|██████████████████████████████| 79/79 [00:00<00:00, 111.22it/s]                                            \n"
     ]
    },
    {
     "name": "stdout",
     "output_type": "stream",
     "text": [
      "VALID \t: Summary: Loss: 1.2233 Accuracy: 0.5654\n",
      "TRAIN \t: Summary: Loss: 1.3009 Accuracy: 0.5337\n"
     ]
    },
    {
     "name": "stderr",
     "output_type": "stream",
     "text": [
      "Training: Epoch [144/200]: 100%|██████████████████████████████| 313/313 [00:12<00:00, 26.05it/s]                                           \n",
      "Evaluate: Epoch [144/200]: 100%|██████████████████████████████| 79/79 [00:00<00:00, 128.97it/s]                                            \n"
     ]
    },
    {
     "name": "stdout",
     "output_type": "stream",
     "text": [
      "VALID \t: Summary: Loss: 1.2225 Accuracy: 0.5649\n",
      "TRAIN \t: Summary: Loss: 1.3015 Accuracy: 0.5325\n"
     ]
    },
    {
     "name": "stderr",
     "output_type": "stream",
     "text": [
      "Training: Epoch [145/200]: 100%|██████████████████████████████| 313/313 [00:12<00:00, 26.03it/s]                                           \n",
      "Evaluate: Epoch [145/200]: 100%|██████████████████████████████| 79/79 [00:00<00:00, 125.73it/s]                                            \n"
     ]
    },
    {
     "name": "stdout",
     "output_type": "stream",
     "text": [
      "VALID \t: Summary: Loss: 1.2213 Accuracy: 0.5665\n",
      "TRAIN \t: Summary: Loss: 1.3016 Accuracy: 0.5341\n"
     ]
    },
    {
     "name": "stderr",
     "output_type": "stream",
     "text": [
      "Training: Epoch [146/200]: 100%|██████████████████████████████| 313/313 [00:12<00:00, 26.03it/s]                                           \n",
      "Evaluate: Epoch [146/200]: 100%|██████████████████████████████| 79/79 [00:00<00:00, 130.05it/s]                                            \n"
     ]
    },
    {
     "name": "stdout",
     "output_type": "stream",
     "text": [
      "VALID \t: Summary: Loss: 1.2199 Accuracy: 0.5672\n",
      "TRAIN \t: Summary: Loss: 1.2980 Accuracy: 0.5377\n"
     ]
    },
    {
     "name": "stderr",
     "output_type": "stream",
     "text": [
      "Training: Epoch [147/200]: 100%|██████████████████████████████| 313/313 [00:11<00:00, 26.21it/s]                                           \n",
      "Evaluate: Epoch [147/200]: 100%|██████████████████████████████| 79/79 [00:00<00:00, 126.38it/s]                                            \n"
     ]
    },
    {
     "name": "stdout",
     "output_type": "stream",
     "text": [
      "VALID \t: Summary: Loss: 1.2223 Accuracy: 0.5656\n",
      "TRAIN \t: Summary: Loss: 1.3020 Accuracy: 0.5339\n"
     ]
    },
    {
     "name": "stderr",
     "output_type": "stream",
     "text": [
      "Training: Epoch [148/200]: 100%|██████████████████████████████| 313/313 [00:12<00:00, 25.97it/s]                                           \n",
      "Evaluate: Epoch [148/200]: 100%|██████████████████████████████| 79/79 [00:00<00:00, 129.17it/s]                                            \n"
     ]
    },
    {
     "name": "stdout",
     "output_type": "stream",
     "text": [
      "VALID \t: Summary: Loss: 1.2209 Accuracy: 0.5658\n",
      "TRAIN \t: Summary: Loss: 1.2990 Accuracy: 0.5367\n"
     ]
    },
    {
     "name": "stderr",
     "output_type": "stream",
     "text": [
      "Training: Epoch [149/200]: 100%|██████████████████████████████| 313/313 [00:12<00:00, 26.08it/s]                                           \n",
      "Evaluate: Epoch [149/200]: 100%|██████████████████████████████| 79/79 [00:00<00:00, 127.02it/s]                                            \n"
     ]
    },
    {
     "name": "stdout",
     "output_type": "stream",
     "text": [
      "VALID \t: Summary: Loss: 1.2209 Accuracy: 0.5662\n",
      "TRAIN \t: Summary: Loss: 1.2999 Accuracy: 0.5352\n"
     ]
    },
    {
     "name": "stderr",
     "output_type": "stream",
     "text": [
      "Training: Epoch [150/200]: 100%|██████████████████████████████| 313/313 [00:12<00:00, 25.56it/s]                                           \n",
      "Evaluate: Epoch [150/200]: 100%|██████████████████████████████| 79/79 [00:00<00:00, 128.34it/s]                                            \n"
     ]
    },
    {
     "name": "stdout",
     "output_type": "stream",
     "text": [
      "VALID \t: Summary: Loss: 1.2193 Accuracy: 0.5666\n",
      "TRAIN \t: Summary: Loss: 1.2951 Accuracy: 0.5357\n"
     ]
    },
    {
     "name": "stderr",
     "output_type": "stream",
     "text": [
      "Training: Epoch [151/200]: 100%|██████████████████████████████| 313/313 [00:12<00:00, 25.55it/s]                                           \n",
      "Evaluate: Epoch [151/200]: 100%|██████████████████████████████| 79/79 [00:00<00:00, 127.33it/s]                                            \n"
     ]
    },
    {
     "name": "stdout",
     "output_type": "stream",
     "text": [
      "VALID \t: Summary: Loss: 1.2179 Accuracy: 0.5672\n",
      "TRAIN \t: Summary: Loss: 1.2990 Accuracy: 0.5355\n"
     ]
    },
    {
     "name": "stderr",
     "output_type": "stream",
     "text": [
      "Training: Epoch [152/200]: 100%|██████████████████████████████| 313/313 [00:12<00:00, 25.87it/s]                                           \n",
      "Evaluate: Epoch [152/200]: 100%|██████████████████████████████| 79/79 [00:00<00:00, 128.18it/s]                                            \n"
     ]
    },
    {
     "name": "stdout",
     "output_type": "stream",
     "text": [
      "VALID \t: Summary: Loss: 1.2193 Accuracy: 0.5651\n",
      "TRAIN \t: Summary: Loss: 1.2973 Accuracy: 0.5361\n"
     ]
    },
    {
     "name": "stderr",
     "output_type": "stream",
     "text": [
      "Training: Epoch [153/200]:  34%|██████████                    | 105/313 [00:04<00:08, 25.76it/s]                                           \n"
     ]
    },
    {
     "ename": "KeyboardInterrupt",
     "evalue": "",
     "output_type": "error",
     "traceback": [
      "\u001b[0;31m---------------------------------------------------------------------------\u001b[0m",
      "\u001b[0;31mKeyboardInterrupt\u001b[0m                         Traceback (most recent call last)",
      "\u001b[0;32m/var/folders/nw/93_by3716yn881ckngw_vmp40000gn/T/ipykernel_29925/3571220662.py\u001b[0m in \u001b[0;36m<module>\u001b[0;34m\u001b[0m\n\u001b[1;32m     39\u001b[0m \u001b[0msch_args\u001b[0m \u001b[0;34m=\u001b[0m \u001b[0;34m{\u001b[0m\u001b[0;34m\"name\"\u001b[0m\u001b[0;34m:\u001b[0m \u001b[0;34m\"MultiStepLR\"\u001b[0m\u001b[0;34m,\u001b[0m \u001b[0;34m\"milestones\"\u001b[0m\u001b[0;34m:\u001b[0m \u001b[0;34m[\u001b[0m\u001b[0;36m50\u001b[0m\u001b[0;34m,\u001b[0m \u001b[0;36m100\u001b[0m\u001b[0;34m,\u001b[0m \u001b[0;36m150\u001b[0m\u001b[0;34m]\u001b[0m\u001b[0;34m,\u001b[0m \u001b[0;34m\"gamma\"\u001b[0m\u001b[0;34m:\u001b[0m \u001b[0;36m0.5\u001b[0m\u001b[0;34m}\u001b[0m\u001b[0;34m\u001b[0m\u001b[0;34m\u001b[0m\u001b[0m\n\u001b[1;32m     40\u001b[0m \u001b[0;34m\u001b[0m\u001b[0m\n\u001b[0;32m---> 41\u001b[0;31m \u001b[0mexperiment\u001b[0m\u001b[0;34m(\u001b[0m\u001b[0mtrain_transforms\u001b[0m\u001b[0;34m,\u001b[0m \u001b[0mvalid_transforms\u001b[0m\u001b[0;34m,\u001b[0m \u001b[0mnetwork\u001b[0m\u001b[0;34m,\u001b[0m \u001b[0mnum_epochs\u001b[0m\u001b[0;34m,\u001b[0m \u001b[0mbatch_size\u001b[0m\u001b[0;34m,\u001b[0m \u001b[0mopt_args\u001b[0m\u001b[0;34m,\u001b[0m \u001b[0msch_args\u001b[0m\u001b[0;34m=\u001b[0m\u001b[0msch_args\u001b[0m\u001b[0;34m)\u001b[0m\u001b[0;34m\u001b[0m\u001b[0;34m\u001b[0m\u001b[0m\n\u001b[0m",
      "\u001b[0;32m/var/folders/nw/93_by3716yn881ckngw_vmp40000gn/T/ipykernel_29925/207030723.py\u001b[0m in \u001b[0;36mexperiment\u001b[0;34m(train_transforms, valid_transforms, network, num_epochs, batch_size, opt_args, sch_args)\u001b[0m\n\u001b[1;32m     35\u001b[0m \u001b[0;34m\u001b[0m\u001b[0m\n\u001b[1;32m     36\u001b[0m     \u001b[0;31m# train the model\u001b[0m\u001b[0;34m\u001b[0m\u001b[0;34m\u001b[0m\u001b[0m\n\u001b[0;32m---> 37\u001b[0;31m     epochs, train_losses, train_metrics, valid_losses, valid_metrics = train(\n\u001b[0m\u001b[1;32m     38\u001b[0m         \u001b[0mnet\u001b[0m\u001b[0;34m,\u001b[0m \u001b[0mloss_fn\u001b[0m\u001b[0;34m,\u001b[0m \u001b[0mtrain_loader\u001b[0m\u001b[0;34m,\u001b[0m \u001b[0mvalid_loader\u001b[0m\u001b[0;34m,\u001b[0m \u001b[0mnum_epochs\u001b[0m\u001b[0;34m=\u001b[0m\u001b[0mnum_epochs\u001b[0m\u001b[0;34m,\u001b[0m \u001b[0mopt\u001b[0m\u001b[0;34m=\u001b[0m\u001b[0mopt\u001b[0m\u001b[0;34m,\u001b[0m \u001b[0msch\u001b[0m\u001b[0;34m=\u001b[0m\u001b[0msch\u001b[0m\u001b[0;34m,\u001b[0m\u001b[0;34m\u001b[0m\u001b[0;34m\u001b[0m\u001b[0m\n\u001b[1;32m     39\u001b[0m     )\n",
      "\u001b[0;32m~/UvA/academics/CV1/CV1labs/labfinal2/experiments/../main.py\u001b[0m in \u001b[0;36mtrain\u001b[0;34m(net, loss_fn, train_loader, valid_loader, num_epochs, opt, sch)\u001b[0m\n\u001b[1;32m     96\u001b[0m             \u001b[0;34mf\"Training: Epoch [{epoch}/{num_epochs}]\"\u001b[0m\u001b[0;34m,\u001b[0m \u001b[0mbar_format\u001b[0m\u001b[0;34m=\u001b[0m\u001b[0;34m'{l_bar}{bar:30}{r_bar}{bar:-10b}'\u001b[0m\u001b[0;34m,\u001b[0m\u001b[0;34m\u001b[0m\u001b[0;34m\u001b[0m\u001b[0m\n\u001b[1;32m     97\u001b[0m         )\n\u001b[0;32m---> 98\u001b[0;31m         \u001b[0;32mfor\u001b[0m \u001b[0mi\u001b[0m\u001b[0;34m,\u001b[0m \u001b[0mbatch\u001b[0m \u001b[0;32min\u001b[0m \u001b[0menumerate\u001b[0m\u001b[0;34m(\u001b[0m\u001b[0miterator\u001b[0m\u001b[0;34m)\u001b[0m\u001b[0;34m:\u001b[0m\u001b[0;34m\u001b[0m\u001b[0;34m\u001b[0m\u001b[0m\n\u001b[0m\u001b[1;32m     99\u001b[0m             \u001b[0;34m(\u001b[0m\u001b[0mimages\u001b[0m\u001b[0;34m,\u001b[0m \u001b[0mlabels\u001b[0m\u001b[0;34m)\u001b[0m \u001b[0;34m=\u001b[0m \u001b[0mbatch\u001b[0m\u001b[0;34m\u001b[0m\u001b[0;34m\u001b[0m\u001b[0m\n\u001b[1;32m    100\u001b[0m \u001b[0;34m\u001b[0m\u001b[0m\n",
      "\u001b[0;32m~/miniforge3/envs/cv1labs/lib/python3.9/site-packages/tqdm/std.py\u001b[0m in \u001b[0;36m__iter__\u001b[0;34m(self)\u001b[0m\n\u001b[1;32m   1178\u001b[0m \u001b[0;34m\u001b[0m\u001b[0m\n\u001b[1;32m   1179\u001b[0m         \u001b[0;32mtry\u001b[0m\u001b[0;34m:\u001b[0m\u001b[0;34m\u001b[0m\u001b[0;34m\u001b[0m\u001b[0m\n\u001b[0;32m-> 1180\u001b[0;31m             \u001b[0;32mfor\u001b[0m \u001b[0mobj\u001b[0m \u001b[0;32min\u001b[0m \u001b[0miterable\u001b[0m\u001b[0;34m:\u001b[0m\u001b[0;34m\u001b[0m\u001b[0;34m\u001b[0m\u001b[0m\n\u001b[0m\u001b[1;32m   1181\u001b[0m                 \u001b[0;32myield\u001b[0m \u001b[0mobj\u001b[0m\u001b[0;34m\u001b[0m\u001b[0;34m\u001b[0m\u001b[0m\n\u001b[1;32m   1182\u001b[0m                 \u001b[0;31m# Update and possibly print the progressbar.\u001b[0m\u001b[0;34m\u001b[0m\u001b[0;34m\u001b[0m\u001b[0m\n",
      "\u001b[0;32m~/miniforge3/envs/cv1labs/lib/python3.9/site-packages/torch/utils/data/dataloader.py\u001b[0m in \u001b[0;36m__next__\u001b[0;34m(self)\u001b[0m\n\u001b[1;32m    519\u001b[0m             \u001b[0;32mif\u001b[0m \u001b[0mself\u001b[0m\u001b[0;34m.\u001b[0m\u001b[0m_sampler_iter\u001b[0m \u001b[0;32mis\u001b[0m \u001b[0;32mNone\u001b[0m\u001b[0;34m:\u001b[0m\u001b[0;34m\u001b[0m\u001b[0;34m\u001b[0m\u001b[0m\n\u001b[1;32m    520\u001b[0m                 \u001b[0mself\u001b[0m\u001b[0;34m.\u001b[0m\u001b[0m_reset\u001b[0m\u001b[0;34m(\u001b[0m\u001b[0;34m)\u001b[0m\u001b[0;34m\u001b[0m\u001b[0;34m\u001b[0m\u001b[0m\n\u001b[0;32m--> 521\u001b[0;31m             \u001b[0mdata\u001b[0m \u001b[0;34m=\u001b[0m \u001b[0mself\u001b[0m\u001b[0;34m.\u001b[0m\u001b[0m_next_data\u001b[0m\u001b[0;34m(\u001b[0m\u001b[0;34m)\u001b[0m\u001b[0;34m\u001b[0m\u001b[0;34m\u001b[0m\u001b[0m\n\u001b[0m\u001b[1;32m    522\u001b[0m             \u001b[0mself\u001b[0m\u001b[0;34m.\u001b[0m\u001b[0m_num_yielded\u001b[0m \u001b[0;34m+=\u001b[0m \u001b[0;36m1\u001b[0m\u001b[0;34m\u001b[0m\u001b[0;34m\u001b[0m\u001b[0m\n\u001b[1;32m    523\u001b[0m             \u001b[0;32mif\u001b[0m \u001b[0mself\u001b[0m\u001b[0;34m.\u001b[0m\u001b[0m_dataset_kind\u001b[0m \u001b[0;34m==\u001b[0m \u001b[0m_DatasetKind\u001b[0m\u001b[0;34m.\u001b[0m\u001b[0mIterable\u001b[0m \u001b[0;32mand\u001b[0m\u001b[0;31m \u001b[0m\u001b[0;31m\\\u001b[0m\u001b[0;34m\u001b[0m\u001b[0;34m\u001b[0m\u001b[0m\n",
      "\u001b[0;32m~/miniforge3/envs/cv1labs/lib/python3.9/site-packages/torch/utils/data/dataloader.py\u001b[0m in \u001b[0;36m_next_data\u001b[0;34m(self)\u001b[0m\n\u001b[1;32m    559\u001b[0m     \u001b[0;32mdef\u001b[0m \u001b[0m_next_data\u001b[0m\u001b[0;34m(\u001b[0m\u001b[0mself\u001b[0m\u001b[0;34m)\u001b[0m\u001b[0;34m:\u001b[0m\u001b[0;34m\u001b[0m\u001b[0;34m\u001b[0m\u001b[0m\n\u001b[1;32m    560\u001b[0m         \u001b[0mindex\u001b[0m \u001b[0;34m=\u001b[0m \u001b[0mself\u001b[0m\u001b[0;34m.\u001b[0m\u001b[0m_next_index\u001b[0m\u001b[0;34m(\u001b[0m\u001b[0;34m)\u001b[0m  \u001b[0;31m# may raise StopIteration\u001b[0m\u001b[0;34m\u001b[0m\u001b[0;34m\u001b[0m\u001b[0m\n\u001b[0;32m--> 561\u001b[0;31m         \u001b[0mdata\u001b[0m \u001b[0;34m=\u001b[0m \u001b[0mself\u001b[0m\u001b[0;34m.\u001b[0m\u001b[0m_dataset_fetcher\u001b[0m\u001b[0;34m.\u001b[0m\u001b[0mfetch\u001b[0m\u001b[0;34m(\u001b[0m\u001b[0mindex\u001b[0m\u001b[0;34m)\u001b[0m  \u001b[0;31m# may raise StopIteration\u001b[0m\u001b[0;34m\u001b[0m\u001b[0;34m\u001b[0m\u001b[0m\n\u001b[0m\u001b[1;32m    562\u001b[0m         \u001b[0;32mif\u001b[0m \u001b[0mself\u001b[0m\u001b[0;34m.\u001b[0m\u001b[0m_pin_memory\u001b[0m\u001b[0;34m:\u001b[0m\u001b[0;34m\u001b[0m\u001b[0;34m\u001b[0m\u001b[0m\n\u001b[1;32m    563\u001b[0m             \u001b[0mdata\u001b[0m \u001b[0;34m=\u001b[0m \u001b[0m_utils\u001b[0m\u001b[0;34m.\u001b[0m\u001b[0mpin_memory\u001b[0m\u001b[0;34m.\u001b[0m\u001b[0mpin_memory\u001b[0m\u001b[0;34m(\u001b[0m\u001b[0mdata\u001b[0m\u001b[0;34m)\u001b[0m\u001b[0;34m\u001b[0m\u001b[0;34m\u001b[0m\u001b[0m\n",
      "\u001b[0;32m~/miniforge3/envs/cv1labs/lib/python3.9/site-packages/torch/utils/data/_utils/fetch.py\u001b[0m in \u001b[0;36mfetch\u001b[0;34m(self, possibly_batched_index)\u001b[0m\n\u001b[1;32m     42\u001b[0m     \u001b[0;32mdef\u001b[0m \u001b[0mfetch\u001b[0m\u001b[0;34m(\u001b[0m\u001b[0mself\u001b[0m\u001b[0;34m,\u001b[0m \u001b[0mpossibly_batched_index\u001b[0m\u001b[0;34m)\u001b[0m\u001b[0;34m:\u001b[0m\u001b[0;34m\u001b[0m\u001b[0;34m\u001b[0m\u001b[0m\n\u001b[1;32m     43\u001b[0m         \u001b[0;32mif\u001b[0m \u001b[0mself\u001b[0m\u001b[0;34m.\u001b[0m\u001b[0mauto_collation\u001b[0m\u001b[0;34m:\u001b[0m\u001b[0;34m\u001b[0m\u001b[0;34m\u001b[0m\u001b[0m\n\u001b[0;32m---> 44\u001b[0;31m             \u001b[0mdata\u001b[0m \u001b[0;34m=\u001b[0m \u001b[0;34m[\u001b[0m\u001b[0mself\u001b[0m\u001b[0;34m.\u001b[0m\u001b[0mdataset\u001b[0m\u001b[0;34m[\u001b[0m\u001b[0midx\u001b[0m\u001b[0;34m]\u001b[0m \u001b[0;32mfor\u001b[0m \u001b[0midx\u001b[0m \u001b[0;32min\u001b[0m \u001b[0mpossibly_batched_index\u001b[0m\u001b[0;34m]\u001b[0m\u001b[0;34m\u001b[0m\u001b[0;34m\u001b[0m\u001b[0m\n\u001b[0m\u001b[1;32m     45\u001b[0m         \u001b[0;32melse\u001b[0m\u001b[0;34m:\u001b[0m\u001b[0;34m\u001b[0m\u001b[0;34m\u001b[0m\u001b[0m\n\u001b[1;32m     46\u001b[0m             \u001b[0mdata\u001b[0m \u001b[0;34m=\u001b[0m \u001b[0mself\u001b[0m\u001b[0;34m.\u001b[0m\u001b[0mdataset\u001b[0m\u001b[0;34m[\u001b[0m\u001b[0mpossibly_batched_index\u001b[0m\u001b[0;34m]\u001b[0m\u001b[0;34m\u001b[0m\u001b[0;34m\u001b[0m\u001b[0m\n",
      "\u001b[0;32m~/miniforge3/envs/cv1labs/lib/python3.9/site-packages/torch/utils/data/_utils/fetch.py\u001b[0m in \u001b[0;36m<listcomp>\u001b[0;34m(.0)\u001b[0m\n\u001b[1;32m     42\u001b[0m     \u001b[0;32mdef\u001b[0m \u001b[0mfetch\u001b[0m\u001b[0;34m(\u001b[0m\u001b[0mself\u001b[0m\u001b[0;34m,\u001b[0m \u001b[0mpossibly_batched_index\u001b[0m\u001b[0;34m)\u001b[0m\u001b[0;34m:\u001b[0m\u001b[0;34m\u001b[0m\u001b[0;34m\u001b[0m\u001b[0m\n\u001b[1;32m     43\u001b[0m         \u001b[0;32mif\u001b[0m \u001b[0mself\u001b[0m\u001b[0;34m.\u001b[0m\u001b[0mauto_collation\u001b[0m\u001b[0;34m:\u001b[0m\u001b[0;34m\u001b[0m\u001b[0;34m\u001b[0m\u001b[0m\n\u001b[0;32m---> 44\u001b[0;31m             \u001b[0mdata\u001b[0m \u001b[0;34m=\u001b[0m \u001b[0;34m[\u001b[0m\u001b[0mself\u001b[0m\u001b[0;34m.\u001b[0m\u001b[0mdataset\u001b[0m\u001b[0;34m[\u001b[0m\u001b[0midx\u001b[0m\u001b[0;34m]\u001b[0m \u001b[0;32mfor\u001b[0m \u001b[0midx\u001b[0m \u001b[0;32min\u001b[0m \u001b[0mpossibly_batched_index\u001b[0m\u001b[0;34m]\u001b[0m\u001b[0;34m\u001b[0m\u001b[0;34m\u001b[0m\u001b[0m\n\u001b[0m\u001b[1;32m     45\u001b[0m         \u001b[0;32melse\u001b[0m\u001b[0;34m:\u001b[0m\u001b[0;34m\u001b[0m\u001b[0;34m\u001b[0m\u001b[0m\n\u001b[1;32m     46\u001b[0m             \u001b[0mdata\u001b[0m \u001b[0;34m=\u001b[0m \u001b[0mself\u001b[0m\u001b[0;34m.\u001b[0m\u001b[0mdataset\u001b[0m\u001b[0;34m[\u001b[0m\u001b[0mpossibly_batched_index\u001b[0m\u001b[0;34m]\u001b[0m\u001b[0;34m\u001b[0m\u001b[0;34m\u001b[0m\u001b[0m\n",
      "\u001b[0;32m~/UvA/academics/CV1/CV1labs/labfinal2/experiments/../data/cifar.py\u001b[0m in \u001b[0;36m__getitem__\u001b[0;34m(self, item)\u001b[0m\n\u001b[1;32m     69\u001b[0m         \u001b[0;31m# transform the input (e.g. augmentations apply here)\u001b[0m\u001b[0;34m\u001b[0m\u001b[0;34m\u001b[0m\u001b[0m\n\u001b[1;32m     70\u001b[0m         \u001b[0;32mif\u001b[0m \u001b[0mself\u001b[0m\u001b[0;34m.\u001b[0m\u001b[0mtransform\u001b[0m \u001b[0;32mis\u001b[0m \u001b[0;32mnot\u001b[0m \u001b[0;32mNone\u001b[0m\u001b[0;34m:\u001b[0m\u001b[0;34m\u001b[0m\u001b[0;34m\u001b[0m\u001b[0m\n\u001b[0;32m---> 71\u001b[0;31m             \u001b[0mimg\u001b[0m \u001b[0;34m=\u001b[0m \u001b[0mself\u001b[0m\u001b[0;34m.\u001b[0m\u001b[0mtransform\u001b[0m\u001b[0;34m(\u001b[0m\u001b[0mimg\u001b[0m\u001b[0;34m)\u001b[0m\u001b[0;34m\u001b[0m\u001b[0;34m\u001b[0m\u001b[0m\n\u001b[0m\u001b[1;32m     72\u001b[0m \u001b[0;34m\u001b[0m\u001b[0m\n\u001b[1;32m     73\u001b[0m         \u001b[0;32mreturn\u001b[0m \u001b[0mimg\u001b[0m\u001b[0;34m,\u001b[0m \u001b[0mtarget\u001b[0m\u001b[0;34m\u001b[0m\u001b[0;34m\u001b[0m\u001b[0m\n",
      "\u001b[0;32m~/UvA/academics/CV1/CV1labs/labfinal2/experiments/../data/input_transforms.py\u001b[0m in \u001b[0;36m__call__\u001b[0;34m(self, img)\u001b[0m\n\u001b[1;32m     20\u001b[0m \u001b[0;34m\u001b[0m\u001b[0m\n\u001b[1;32m     21\u001b[0m     \u001b[0;32mdef\u001b[0m \u001b[0m__call__\u001b[0m\u001b[0;34m(\u001b[0m\u001b[0mself\u001b[0m\u001b[0;34m,\u001b[0m \u001b[0mimg\u001b[0m\u001b[0;34m:\u001b[0m \u001b[0mnp\u001b[0m\u001b[0;34m.\u001b[0m\u001b[0mndarray\u001b[0m\u001b[0;34m)\u001b[0m\u001b[0;34m:\u001b[0m\u001b[0;34m\u001b[0m\u001b[0;34m\u001b[0m\u001b[0m\n\u001b[0;32m---> 22\u001b[0;31m         \u001b[0;32mreturn\u001b[0m \u001b[0mself\u001b[0m\u001b[0;34m.\u001b[0m\u001b[0m_transforms\u001b[0m\u001b[0;34m(\u001b[0m\u001b[0mimg\u001b[0m\u001b[0;34m)\u001b[0m\u001b[0;34m\u001b[0m\u001b[0;34m\u001b[0m\u001b[0m\n\u001b[0m\u001b[1;32m     23\u001b[0m \u001b[0;34m\u001b[0m\u001b[0m\n\u001b[1;32m     24\u001b[0m \u001b[0;34m\u001b[0m\u001b[0m\n",
      "\u001b[0;32m~/miniforge3/envs/cv1labs/lib/python3.9/site-packages/torchvision/transforms/transforms.py\u001b[0m in \u001b[0;36m__call__\u001b[0;34m(self, img)\u001b[0m\n\u001b[1;32m     58\u001b[0m     \u001b[0;32mdef\u001b[0m \u001b[0m__call__\u001b[0m\u001b[0;34m(\u001b[0m\u001b[0mself\u001b[0m\u001b[0;34m,\u001b[0m \u001b[0mimg\u001b[0m\u001b[0;34m)\u001b[0m\u001b[0;34m:\u001b[0m\u001b[0;34m\u001b[0m\u001b[0;34m\u001b[0m\u001b[0m\n\u001b[1;32m     59\u001b[0m         \u001b[0;32mfor\u001b[0m \u001b[0mt\u001b[0m \u001b[0;32min\u001b[0m \u001b[0mself\u001b[0m\u001b[0;34m.\u001b[0m\u001b[0mtransforms\u001b[0m\u001b[0;34m:\u001b[0m\u001b[0;34m\u001b[0m\u001b[0;34m\u001b[0m\u001b[0m\n\u001b[0;32m---> 60\u001b[0;31m             \u001b[0mimg\u001b[0m \u001b[0;34m=\u001b[0m \u001b[0mt\u001b[0m\u001b[0;34m(\u001b[0m\u001b[0mimg\u001b[0m\u001b[0;34m)\u001b[0m\u001b[0;34m\u001b[0m\u001b[0;34m\u001b[0m\u001b[0m\n\u001b[0m\u001b[1;32m     61\u001b[0m         \u001b[0;32mreturn\u001b[0m \u001b[0mimg\u001b[0m\u001b[0;34m\u001b[0m\u001b[0;34m\u001b[0m\u001b[0m\n\u001b[1;32m     62\u001b[0m \u001b[0;34m\u001b[0m\u001b[0m\n",
      "\u001b[0;32m~/miniforge3/envs/cv1labs/lib/python3.9/site-packages/torch/nn/modules/module.py\u001b[0m in \u001b[0;36m_call_impl\u001b[0;34m(self, *input, **kwargs)\u001b[0m\n\u001b[1;32m   1049\u001b[0m         if not (self._backward_hooks or self._forward_hooks or self._forward_pre_hooks or _global_backward_hooks\n\u001b[1;32m   1050\u001b[0m                 or _global_forward_hooks or _global_forward_pre_hooks):\n\u001b[0;32m-> 1051\u001b[0;31m             \u001b[0;32mreturn\u001b[0m \u001b[0mforward_call\u001b[0m\u001b[0;34m(\u001b[0m\u001b[0;34m*\u001b[0m\u001b[0minput\u001b[0m\u001b[0;34m,\u001b[0m \u001b[0;34m**\u001b[0m\u001b[0mkwargs\u001b[0m\u001b[0;34m)\u001b[0m\u001b[0;34m\u001b[0m\u001b[0;34m\u001b[0m\u001b[0m\n\u001b[0m\u001b[1;32m   1052\u001b[0m         \u001b[0;31m# Do not call functions when jit is used\u001b[0m\u001b[0;34m\u001b[0m\u001b[0;34m\u001b[0m\u001b[0m\n\u001b[1;32m   1053\u001b[0m         \u001b[0mfull_backward_hooks\u001b[0m\u001b[0;34m,\u001b[0m \u001b[0mnon_full_backward_hooks\u001b[0m \u001b[0;34m=\u001b[0m \u001b[0;34m[\u001b[0m\u001b[0;34m]\u001b[0m\u001b[0;34m,\u001b[0m \u001b[0;34m[\u001b[0m\u001b[0;34m]\u001b[0m\u001b[0;34m\u001b[0m\u001b[0;34m\u001b[0m\u001b[0m\n",
      "\u001b[0;32m~/miniforge3/envs/cv1labs/lib/python3.9/site-packages/torchvision/transforms/transforms.py\u001b[0m in \u001b[0;36mforward\u001b[0;34m(self, img)\u001b[0m\n\u001b[1;32m   1446\u001b[0m         \u001b[0mret\u001b[0m \u001b[0;34m=\u001b[0m \u001b[0mself\u001b[0m\u001b[0;34m.\u001b[0m\u001b[0mget_params\u001b[0m\u001b[0;34m(\u001b[0m\u001b[0mself\u001b[0m\u001b[0;34m.\u001b[0m\u001b[0mdegrees\u001b[0m\u001b[0;34m,\u001b[0m \u001b[0mself\u001b[0m\u001b[0;34m.\u001b[0m\u001b[0mtranslate\u001b[0m\u001b[0;34m,\u001b[0m \u001b[0mself\u001b[0m\u001b[0;34m.\u001b[0m\u001b[0mscale\u001b[0m\u001b[0;34m,\u001b[0m \u001b[0mself\u001b[0m\u001b[0;34m.\u001b[0m\u001b[0mshear\u001b[0m\u001b[0;34m,\u001b[0m \u001b[0mimg_size\u001b[0m\u001b[0;34m)\u001b[0m\u001b[0;34m\u001b[0m\u001b[0;34m\u001b[0m\u001b[0m\n\u001b[1;32m   1447\u001b[0m \u001b[0;34m\u001b[0m\u001b[0m\n\u001b[0;32m-> 1448\u001b[0;31m         \u001b[0;32mreturn\u001b[0m \u001b[0mF\u001b[0m\u001b[0;34m.\u001b[0m\u001b[0maffine\u001b[0m\u001b[0;34m(\u001b[0m\u001b[0mimg\u001b[0m\u001b[0;34m,\u001b[0m \u001b[0;34m*\u001b[0m\u001b[0mret\u001b[0m\u001b[0;34m,\u001b[0m \u001b[0minterpolation\u001b[0m\u001b[0;34m=\u001b[0m\u001b[0mself\u001b[0m\u001b[0;34m.\u001b[0m\u001b[0minterpolation\u001b[0m\u001b[0;34m,\u001b[0m \u001b[0mfill\u001b[0m\u001b[0;34m=\u001b[0m\u001b[0mfill\u001b[0m\u001b[0;34m)\u001b[0m\u001b[0;34m\u001b[0m\u001b[0;34m\u001b[0m\u001b[0m\n\u001b[0m\u001b[1;32m   1449\u001b[0m \u001b[0;34m\u001b[0m\u001b[0m\n\u001b[1;32m   1450\u001b[0m     \u001b[0;32mdef\u001b[0m \u001b[0m__repr__\u001b[0m\u001b[0;34m(\u001b[0m\u001b[0mself\u001b[0m\u001b[0;34m)\u001b[0m\u001b[0;34m:\u001b[0m\u001b[0;34m\u001b[0m\u001b[0;34m\u001b[0m\u001b[0m\n",
      "\u001b[0;32m~/miniforge3/envs/cv1labs/lib/python3.9/site-packages/torchvision/transforms/functional.py\u001b[0m in \u001b[0;36maffine\u001b[0;34m(img, angle, translate, scale, shear, interpolation, fill, resample, fillcolor)\u001b[0m\n\u001b[1;32m   1105\u001b[0m     \u001b[0mtranslate_f\u001b[0m \u001b[0;34m=\u001b[0m \u001b[0;34m[\u001b[0m\u001b[0;36m1.0\u001b[0m \u001b[0;34m*\u001b[0m \u001b[0mt\u001b[0m \u001b[0;32mfor\u001b[0m \u001b[0mt\u001b[0m \u001b[0;32min\u001b[0m \u001b[0mtranslate\u001b[0m\u001b[0;34m]\u001b[0m\u001b[0;34m\u001b[0m\u001b[0;34m\u001b[0m\u001b[0m\n\u001b[1;32m   1106\u001b[0m     \u001b[0mmatrix\u001b[0m \u001b[0;34m=\u001b[0m \u001b[0m_get_inverse_affine_matrix\u001b[0m\u001b[0;34m(\u001b[0m\u001b[0;34m[\u001b[0m\u001b[0;36m0.0\u001b[0m\u001b[0;34m,\u001b[0m \u001b[0;36m0.0\u001b[0m\u001b[0;34m]\u001b[0m\u001b[0;34m,\u001b[0m \u001b[0mangle\u001b[0m\u001b[0;34m,\u001b[0m \u001b[0mtranslate_f\u001b[0m\u001b[0;34m,\u001b[0m \u001b[0mscale\u001b[0m\u001b[0;34m,\u001b[0m \u001b[0mshear\u001b[0m\u001b[0;34m)\u001b[0m\u001b[0;34m\u001b[0m\u001b[0;34m\u001b[0m\u001b[0m\n\u001b[0;32m-> 1107\u001b[0;31m     \u001b[0;32mreturn\u001b[0m \u001b[0mF_t\u001b[0m\u001b[0;34m.\u001b[0m\u001b[0maffine\u001b[0m\u001b[0;34m(\u001b[0m\u001b[0mimg\u001b[0m\u001b[0;34m,\u001b[0m \u001b[0mmatrix\u001b[0m\u001b[0;34m=\u001b[0m\u001b[0mmatrix\u001b[0m\u001b[0;34m,\u001b[0m \u001b[0minterpolation\u001b[0m\u001b[0;34m=\u001b[0m\u001b[0minterpolation\u001b[0m\u001b[0;34m.\u001b[0m\u001b[0mvalue\u001b[0m\u001b[0;34m,\u001b[0m \u001b[0mfill\u001b[0m\u001b[0;34m=\u001b[0m\u001b[0mfill\u001b[0m\u001b[0;34m)\u001b[0m\u001b[0;34m\u001b[0m\u001b[0;34m\u001b[0m\u001b[0m\n\u001b[0m\u001b[1;32m   1108\u001b[0m \u001b[0;34m\u001b[0m\u001b[0m\n\u001b[1;32m   1109\u001b[0m \u001b[0;34m\u001b[0m\u001b[0m\n",
      "\u001b[0;32m~/miniforge3/envs/cv1labs/lib/python3.9/site-packages/torchvision/transforms/functional_tensor.py\u001b[0m in \u001b[0;36maffine\u001b[0;34m(img, matrix, interpolation, fill)\u001b[0m\n\u001b[1;32m    690\u001b[0m     \u001b[0;31m# grid will be generated on the same device as theta and img\u001b[0m\u001b[0;34m\u001b[0m\u001b[0;34m\u001b[0m\u001b[0m\n\u001b[1;32m    691\u001b[0m     \u001b[0mgrid\u001b[0m \u001b[0;34m=\u001b[0m \u001b[0m_gen_affine_grid\u001b[0m\u001b[0;34m(\u001b[0m\u001b[0mtheta\u001b[0m\u001b[0;34m,\u001b[0m \u001b[0mw\u001b[0m\u001b[0;34m=\u001b[0m\u001b[0mshape\u001b[0m\u001b[0;34m[\u001b[0m\u001b[0;34m-\u001b[0m\u001b[0;36m1\u001b[0m\u001b[0;34m]\u001b[0m\u001b[0;34m,\u001b[0m \u001b[0mh\u001b[0m\u001b[0;34m=\u001b[0m\u001b[0mshape\u001b[0m\u001b[0;34m[\u001b[0m\u001b[0;34m-\u001b[0m\u001b[0;36m2\u001b[0m\u001b[0;34m]\u001b[0m\u001b[0;34m,\u001b[0m \u001b[0mow\u001b[0m\u001b[0;34m=\u001b[0m\u001b[0mshape\u001b[0m\u001b[0;34m[\u001b[0m\u001b[0;34m-\u001b[0m\u001b[0;36m1\u001b[0m\u001b[0;34m]\u001b[0m\u001b[0;34m,\u001b[0m \u001b[0moh\u001b[0m\u001b[0;34m=\u001b[0m\u001b[0mshape\u001b[0m\u001b[0;34m[\u001b[0m\u001b[0;34m-\u001b[0m\u001b[0;36m2\u001b[0m\u001b[0;34m]\u001b[0m\u001b[0;34m)\u001b[0m\u001b[0;34m\u001b[0m\u001b[0;34m\u001b[0m\u001b[0m\n\u001b[0;32m--> 692\u001b[0;31m     \u001b[0;32mreturn\u001b[0m \u001b[0m_apply_grid_transform\u001b[0m\u001b[0;34m(\u001b[0m\u001b[0mimg\u001b[0m\u001b[0;34m,\u001b[0m \u001b[0mgrid\u001b[0m\u001b[0;34m,\u001b[0m \u001b[0minterpolation\u001b[0m\u001b[0;34m,\u001b[0m \u001b[0mfill\u001b[0m\u001b[0;34m=\u001b[0m\u001b[0mfill\u001b[0m\u001b[0;34m)\u001b[0m\u001b[0;34m\u001b[0m\u001b[0;34m\u001b[0m\u001b[0m\n\u001b[0m\u001b[1;32m    693\u001b[0m \u001b[0;34m\u001b[0m\u001b[0m\n\u001b[1;32m    694\u001b[0m \u001b[0;34m\u001b[0m\u001b[0m\n",
      "\u001b[0;32m~/miniforge3/envs/cv1labs/lib/python3.9/site-packages/torchvision/transforms/functional_tensor.py\u001b[0m in \u001b[0;36m_apply_grid_transform\u001b[0;34m(img, grid, mode, fill)\u001b[0m\n\u001b[1;32m    644\u001b[0m     \u001b[0;32mif\u001b[0m \u001b[0mfill\u001b[0m \u001b[0;32mis\u001b[0m \u001b[0;32mnot\u001b[0m \u001b[0;32mNone\u001b[0m\u001b[0;34m:\u001b[0m\u001b[0;34m\u001b[0m\u001b[0;34m\u001b[0m\u001b[0m\n\u001b[1;32m    645\u001b[0m         \u001b[0mmask\u001b[0m \u001b[0;34m=\u001b[0m \u001b[0mimg\u001b[0m\u001b[0;34m[\u001b[0m\u001b[0;34m:\u001b[0m\u001b[0;34m,\u001b[0m \u001b[0;34m-\u001b[0m\u001b[0;36m1\u001b[0m\u001b[0;34m:\u001b[0m\u001b[0;34m,\u001b[0m \u001b[0;34m:\u001b[0m\u001b[0;34m,\u001b[0m \u001b[0;34m:\u001b[0m\u001b[0;34m]\u001b[0m  \u001b[0;31m# N * 1 * H * W\u001b[0m\u001b[0;34m\u001b[0m\u001b[0;34m\u001b[0m\u001b[0m\n\u001b[0;32m--> 646\u001b[0;31m         \u001b[0mimg\u001b[0m \u001b[0;34m=\u001b[0m \u001b[0mimg\u001b[0m\u001b[0;34m[\u001b[0m\u001b[0;34m:\u001b[0m\u001b[0;34m,\u001b[0m \u001b[0;34m:\u001b[0m\u001b[0;34m-\u001b[0m\u001b[0;36m1\u001b[0m\u001b[0;34m,\u001b[0m \u001b[0;34m:\u001b[0m\u001b[0;34m,\u001b[0m \u001b[0;34m:\u001b[0m\u001b[0;34m]\u001b[0m  \u001b[0;31m# N * C * H * W\u001b[0m\u001b[0;34m\u001b[0m\u001b[0;34m\u001b[0m\u001b[0m\n\u001b[0m\u001b[1;32m    647\u001b[0m         \u001b[0mmask\u001b[0m \u001b[0;34m=\u001b[0m \u001b[0mmask\u001b[0m\u001b[0;34m.\u001b[0m\u001b[0mexpand_as\u001b[0m\u001b[0;34m(\u001b[0m\u001b[0mimg\u001b[0m\u001b[0;34m)\u001b[0m\u001b[0;34m\u001b[0m\u001b[0;34m\u001b[0m\u001b[0m\n\u001b[1;32m    648\u001b[0m         \u001b[0mlen_fill\u001b[0m \u001b[0;34m=\u001b[0m \u001b[0mlen\u001b[0m\u001b[0;34m(\u001b[0m\u001b[0mfill\u001b[0m\u001b[0;34m)\u001b[0m \u001b[0;32mif\u001b[0m \u001b[0misinstance\u001b[0m\u001b[0;34m(\u001b[0m\u001b[0mfill\u001b[0m\u001b[0;34m,\u001b[0m \u001b[0;34m(\u001b[0m\u001b[0mtuple\u001b[0m\u001b[0;34m,\u001b[0m \u001b[0mlist\u001b[0m\u001b[0;34m)\u001b[0m\u001b[0;34m)\u001b[0m \u001b[0;32melse\u001b[0m \u001b[0;36m1\u001b[0m\u001b[0;34m\u001b[0m\u001b[0;34m\u001b[0m\u001b[0m\n",
      "\u001b[0;31mKeyboardInterrupt\u001b[0m: "
     ]
    }
   ],
   "source": [
    "train_transforms = [\n",
    "    {\n",
    "        \"name\": \"ToTensor\",\n",
    "        \"args\": {},\n",
    "    },\n",
    "    {\n",
    "        \"name\": \"Normalize\",\n",
    "        \"args\": {\"mean\": (0.5, 0.5, 0.5), \"std\": (0.5, 0.5, 0.5)},\n",
    "    },\n",
    "    {\n",
    "        \"name\": \"RandomAffine\",\n",
    "        \"args\": {\"degrees\": 10, \"translate\": (0.1, 0.1), \"scale\": (0.8, 1.2)},\n",
    "    },\n",
    "    {\n",
    "        \"name\": \"RandomHorizontalFlip\",\n",
    "        \"args\": {\"p\": 0.5},\n",
    "    },\n",
    "    {\n",
    "        \"name\": \"GaussianBlur\",\n",
    "        \"args\": {\"kernel_size\": 3},\n",
    "    },\n",
    "]\n",
    "valid_transforms = [\n",
    "    {\n",
    "        \"name\": \"ToTensor\",\n",
    "        \"args\": {},\n",
    "    },\n",
    "    {\n",
    "        \"name\": \"Normalize\",\n",
    "        \"args\": {\"mean\": (0.5, 0.5, 0.5), \"std\": (0.5, 0.5, 0.5)},\n",
    "    },\n",
    "]\n",
    "\n",
    "network = \"tln\"\n",
    "num_epochs = 200\n",
    "batch_size = 128\n",
    "# opt_args = {\"name\": \"SGD\", \"lr\": 3e-4, \"momentum\": 0.9}\n",
    "opt_args = {\"name\": \"Adam\", \"lr\": 1e-4}\n",
    "sch_args = {\"name\": \"MultiStepLR\", \"milestones\": [50, 100, 150], \"gamma\": 0.5}\n",
    "\n",
    "experiment(train_transforms, valid_transforms, network, num_epochs, batch_size, opt_args, sch_args=sch_args)"
   ]
  },
  {
   "cell_type": "code",
   "execution_count": null,
   "id": "4747220c-f8d2-4009-bf66-e12e3074ff07",
   "metadata": {},
   "outputs": [],
   "source": []
  }
 ],
 "metadata": {
  "kernelspec": {
   "display_name": "Python 3 (ipykernel)",
   "language": "python",
   "name": "python3"
  },
  "language_info": {
   "codemirror_mode": {
    "name": "ipython",
    "version": 3
   },
   "file_extension": ".py",
   "mimetype": "text/x-python",
   "name": "python",
   "nbconvert_exporter": "python",
   "pygments_lexer": "ipython3",
   "version": "3.9.7"
  }
 },
 "nbformat": 4,
 "nbformat_minor": 5
}
