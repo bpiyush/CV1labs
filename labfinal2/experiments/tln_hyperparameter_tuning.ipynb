{
 "cells": [
  {
   "cell_type": "code",
   "execution_count": 1,
   "id": "5507a249-fc78-4cfc-a933-ca345d0f1ee6",
   "metadata": {},
   "outputs": [],
   "source": [
    "%load_ext autoreload\n",
    "%autoreload 2"
   ]
  },
  {
   "cell_type": "code",
   "execution_count": 2,
   "id": "991c17b7-ff63-4049-9456-f3486680261d",
   "metadata": {},
   "outputs": [],
   "source": [
    "import sys\n",
    "sys.path.insert(0, \"../\")"
   ]
  },
  {
   "cell_type": "code",
   "execution_count": 3,
   "id": "80d8b0e7-7191-4e51-9743-f0e923743548",
   "metadata": {},
   "outputs": [],
   "source": [
    "import torch.nn as nn\n",
    "from torchsummary import summary\n",
    "\n",
    "from data.input_transforms import InputTransform\n",
    "from data.cifar import CIFAR\n",
    "from data.dataloader import get_dataloader\n",
    "from models.optimizer import optimizer, scheduler\n",
    "from networks.twolayernet import TwolayerNet\n",
    "from networks.convnet import ConvNet\n",
    "from utils.viz import plot_multiple_quantities_by_time\n",
    "from main import train, evaluate"
   ]
  },
  {
   "cell_type": "code",
   "execution_count": 4,
   "id": "ea471d50-2d7b-4f6f-89fb-150276fab8fd",
   "metadata": {},
   "outputs": [],
   "source": [
    "def experiment(train_transforms, valid_transforms, network, num_epochs, batch_size, opt_args, sch_args=None):\n",
    "    \n",
    "    print(train_transforms)\n",
    "    print(num_epochs)\n",
    "    print(batch_size)\n",
    "    print(opt_args)\n",
    "    print(sch_args)\n",
    "    \n",
    "    # define the datasets\n",
    "    train_transform = InputTransform(train_transforms)\n",
    "    valid_transform = InputTransform(valid_transforms)\n",
    "    train_dataset = CIFAR(root=\"../datasets/CIFAR-10/\", mode=\"train\", transform=train_transform)\n",
    "    valid_dataset = CIFAR(root=\"../datasets/CIFAR-10/\", mode=\"valid\", transform=valid_transform)\n",
    "\n",
    "    # obtain the train dataloader\n",
    "    train_loader = get_dataloader(train_dataset, train=True, batch_size=batch_size, num_workers=0)\n",
    "    valid_loader = get_dataloader(valid_dataset, train=False, batch_size=batch_size, num_workers=0)\n",
    "    \n",
    "    if network == \"tln\":\n",
    "        net = TwolayerNet(num_inputs=3 * 32 * 32, num_hidden=512, num_classes=10)\n",
    "    elif network == \"cnn\":\n",
    "        net = ConvNet(in_channels=3, num_classes=10)\n",
    "    else:\n",
    "        raise ValueError()\n",
    "    arch = type(net).__name__\n",
    "\n",
    "    # define the optimizer and scheduler\n",
    "    opt = optimizer(model_params=net.parameters(), **opt_args)\n",
    "    sch = None\n",
    "    if sch_args is not None:\n",
    "        sch = scheduler(opt=opt, **sch_args)\n",
    "\n",
    "    # define the loss function\n",
    "    loss_fn = nn.CrossEntropyLoss()\n",
    "\n",
    "    # train the model\n",
    "    epochs, train_losses, train_metrics, valid_losses, valid_metrics = train(\n",
    "        net, loss_fn, train_loader, valid_loader, num_epochs=num_epochs, opt=opt, sch=sch,\n",
    "    )\n",
    "\n",
    "    # plot training curves\n",
    "    plot_multiple_quantities_by_time(\n",
    "        quantities=[train_losses[\"loss\"], valid_losses[\"loss\"]],\n",
    "        time=epochs,\n",
    "        labels=[\"Train\", \"Validation\"],\n",
    "        title=f\"{arch} Loss curves\",\n",
    "        show=True,\n",
    "        save=True,\n",
    "        save_path=\"../results/tln_best_plot_best.png\",\n",
    "        ylabel=\"Loss\",\n",
    "    )\n",
    "    plot_multiple_quantities_by_time(\n",
    "        quantities=[train_metrics[\"accuracy\"], valid_metrics[\"accuracy\"]],\n",
    "        time=epochs,\n",
    "        labels=[\"Train\", \"Validation\"],\n",
    "        title=f\"{arch} Accuracy curves\",\n",
    "        show=True,\n",
    "        save=True,\n",
    "        save_path=\"../results/tln_accu_plot_best.png\",\n",
    "        ylabel=\"Accuracy\",\n",
    "    )\n",
    "    \n",
    "    return net, loss_fn"
   ]
  },
  {
   "cell_type": "code",
   "execution_count": null,
   "id": "d17ddae0-bd09-4b43-8c87-f69b7c417c95",
   "metadata": {
    "tags": []
   },
   "outputs": [
    {
     "name": "stdout",
     "output_type": "stream",
     "text": [
      "[{'name': 'ToTensor', 'args': {}}, {'name': 'Normalize', 'args': {'mean': (0.5, 0.5, 0.5), 'std': (0.5, 0.5, 0.5)}}, {'name': 'RandomAffine', 'args': {'degrees': 10, 'translate': (0.1, 0.1), 'scale': (0.8, 1.2)}}, {'name': 'RandomHorizontalFlip', 'args': {'p': 0.5}}, {'name': 'GaussianBlur', 'args': {'kernel_size': 3}}]\n",
      "200\n",
      "128\n",
      "{'name': 'Adam', 'lr': 0.0001}\n",
      "{'name': 'MultiStepLR', 'milestones': [50, 100, 150], 'gamma': 0.5}\n",
      "Selecting 40000 for train.\n",
      "Selecting 10000 for valid.\n"
     ]
    },
    {
     "name": "stderr",
     "output_type": "stream",
     "text": [
      "Training: Epoch [1/200]: 100%|██████████████████████████████| 313/313 [00:13<00:00, 24.02it/s]                                             \n",
      "Evaluate: Epoch [1/200]: 100%|██████████████████████████████| 79/79 [00:00<00:00, 204.42it/s]                                              \n"
     ]
    },
    {
     "name": "stdout",
     "output_type": "stream",
     "text": [
      "VALID \t: Summary: Loss: 1.6419 Accuracy: 0.4175\n",
      "TRAIN \t: Summary: Loss: 1.8627 Accuracy: 0.3408\n"
     ]
    },
    {
     "name": "stderr",
     "output_type": "stream",
     "text": [
      "Training: Epoch [2/200]: 100%|██████████████████████████████| 313/313 [00:12<00:00, 25.93it/s]                                             \n",
      "Evaluate: Epoch [2/200]: 100%|██████████████████████████████| 79/79 [00:00<00:00, 210.27it/s]                                              \n"
     ]
    },
    {
     "name": "stdout",
     "output_type": "stream",
     "text": [
      "VALID \t: Summary: Loss: 1.5871 Accuracy: 0.4397\n",
      "TRAIN \t: Summary: Loss: 1.7213 Accuracy: 0.3937\n"
     ]
    },
    {
     "name": "stderr",
     "output_type": "stream",
     "text": [
      "Training: Epoch [3/200]: 100%|██████████████████████████████| 313/313 [00:12<00:00, 25.63it/s]                                             \n",
      "Evaluate: Epoch [3/200]: 100%|██████████████████████████████| 79/79 [00:00<00:00, 210.44it/s]                                              \n"
     ]
    },
    {
     "name": "stdout",
     "output_type": "stream",
     "text": [
      "VALID \t: Summary: Loss: 1.5339 Accuracy: 0.4582\n",
      "TRAIN \t: Summary: Loss: 1.6705 Accuracy: 0.4124\n"
     ]
    },
    {
     "name": "stderr",
     "output_type": "stream",
     "text": [
      "Training: Epoch [4/200]: 100%|██████████████████████████████| 313/313 [00:12<00:00, 24.96it/s]                                             \n",
      "Evaluate: Epoch [4/200]: 100%|██████████████████████████████| 79/79 [00:00<00:00, 213.61it/s]                                              \n"
     ]
    },
    {
     "name": "stdout",
     "output_type": "stream",
     "text": [
      "VALID \t: Summary: Loss: 1.4988 Accuracy: 0.4717\n",
      "TRAIN \t: Summary: Loss: 1.6301 Accuracy: 0.4285\n"
     ]
    },
    {
     "name": "stderr",
     "output_type": "stream",
     "text": [
      "Training: Epoch [5/200]: 100%|██████████████████████████████| 313/313 [00:13<00:00, 23.20it/s]                                             \n",
      "Evaluate: Epoch [5/200]: 100%|██████████████████████████████| 79/79 [00:00<00:00, 203.00it/s]                                              \n"
     ]
    },
    {
     "name": "stdout",
     "output_type": "stream",
     "text": [
      "VALID \t: Summary: Loss: 1.4869 Accuracy: 0.4742\n",
      "TRAIN \t: Summary: Loss: 1.6039 Accuracy: 0.4396\n"
     ]
    },
    {
     "name": "stderr",
     "output_type": "stream",
     "text": [
      "Training: Epoch [6/200]: 100%|██████████████████████████████| 313/313 [00:12<00:00, 24.18it/s]                                             \n",
      "Evaluate: Epoch [6/200]: 100%|██████████████████████████████| 79/79 [00:00<00:00, 201.07it/s]                                              \n"
     ]
    },
    {
     "name": "stdout",
     "output_type": "stream",
     "text": [
      "VALID \t: Summary: Loss: 1.4661 Accuracy: 0.4797\n",
      "TRAIN \t: Summary: Loss: 1.5873 Accuracy: 0.4413\n"
     ]
    },
    {
     "name": "stderr",
     "output_type": "stream",
     "text": [
      "Training: Epoch [7/200]: 100%|██████████████████████████████| 313/313 [00:12<00:00, 24.56it/s]                                             \n",
      "Evaluate: Epoch [7/200]: 100%|██████████████████████████████| 79/79 [00:00<00:00, 200.72it/s]                                              \n"
     ]
    },
    {
     "name": "stdout",
     "output_type": "stream",
     "text": [
      "VALID \t: Summary: Loss: 1.4446 Accuracy: 0.4894\n",
      "TRAIN \t: Summary: Loss: 1.5659 Accuracy: 0.4519\n"
     ]
    },
    {
     "name": "stderr",
     "output_type": "stream",
     "text": [
      "Training: Epoch [8/200]: 100%|██████████████████████████████| 313/313 [00:12<00:00, 25.62it/s]                                             \n",
      "Evaluate: Epoch [8/200]: 100%|██████████████████████████████| 79/79 [00:00<00:00, 212.88it/s]                                              \n"
     ]
    },
    {
     "name": "stdout",
     "output_type": "stream",
     "text": [
      "VALID \t: Summary: Loss: 1.4339 Accuracy: 0.4960\n",
      "TRAIN \t: Summary: Loss: 1.5530 Accuracy: 0.4572\n"
     ]
    },
    {
     "name": "stderr",
     "output_type": "stream",
     "text": [
      "Training: Epoch [9/200]: 100%|██████████████████████████████| 313/313 [00:12<00:00, 24.18it/s]                                             \n",
      "Evaluate: Epoch [9/200]: 100%|██████████████████████████████| 79/79 [00:00<00:00, 209.70it/s]                                              \n"
     ]
    },
    {
     "name": "stdout",
     "output_type": "stream",
     "text": [
      "VALID \t: Summary: Loss: 1.4212 Accuracy: 0.4985\n",
      "TRAIN \t: Summary: Loss: 1.5349 Accuracy: 0.4640\n"
     ]
    },
    {
     "name": "stderr",
     "output_type": "stream",
     "text": [
      "Training: Epoch [10/200]: 100%|██████████████████████████████| 313/313 [00:12<00:00, 24.89it/s]                                            \n",
      "Evaluate: Epoch [10/200]: 100%|██████████████████████████████| 79/79 [00:00<00:00, 210.28it/s]                                             \n"
     ]
    },
    {
     "name": "stdout",
     "output_type": "stream",
     "text": [
      "VALID \t: Summary: Loss: 1.3979 Accuracy: 0.5065\n",
      "TRAIN \t: Summary: Loss: 1.5257 Accuracy: 0.4677\n"
     ]
    },
    {
     "name": "stderr",
     "output_type": "stream",
     "text": [
      "Training: Epoch [11/200]: 100%|██████████████████████████████| 313/313 [00:12<00:00, 25.64it/s]                                            \n",
      "Evaluate: Epoch [11/200]: 100%|██████████████████████████████| 79/79 [00:00<00:00, 195.02it/s]                                             \n"
     ]
    },
    {
     "name": "stdout",
     "output_type": "stream",
     "text": [
      "VALID \t: Summary: Loss: 1.3925 Accuracy: 0.5036\n",
      "TRAIN \t: Summary: Loss: 1.5166 Accuracy: 0.4693\n"
     ]
    },
    {
     "name": "stderr",
     "output_type": "stream",
     "text": [
      "Training: Epoch [12/200]: 100%|██████████████████████████████| 313/313 [00:12<00:00, 25.05it/s]                                            \n",
      "Evaluate: Epoch [12/200]: 100%|██████████████████████████████| 79/79 [00:00<00:00, 211.35it/s]                                             \n"
     ]
    },
    {
     "name": "stdout",
     "output_type": "stream",
     "text": [
      "VALID \t: Summary: Loss: 1.3877 Accuracy: 0.5102\n",
      "TRAIN \t: Summary: Loss: 1.5049 Accuracy: 0.4748\n"
     ]
    },
    {
     "name": "stderr",
     "output_type": "stream",
     "text": [
      "Training: Epoch [13/200]: 100%|██████████████████████████████| 313/313 [00:12<00:00, 25.33it/s]                                            \n",
      "Evaluate: Epoch [13/200]: 100%|██████████████████████████████| 79/79 [00:00<00:00, 211.04it/s]                                             \n"
     ]
    },
    {
     "name": "stdout",
     "output_type": "stream",
     "text": [
      "VALID \t: Summary: Loss: 1.3824 Accuracy: 0.5122\n",
      "TRAIN \t: Summary: Loss: 1.4977 Accuracy: 0.4763\n"
     ]
    },
    {
     "name": "stderr",
     "output_type": "stream",
     "text": [
      "Training: Epoch [14/200]: 100%|██████████████████████████████| 313/313 [00:12<00:00, 25.49it/s]                                            \n",
      "Evaluate: Epoch [14/200]: 100%|██████████████████████████████| 79/79 [00:00<00:00, 211.82it/s]                                             \n"
     ]
    },
    {
     "name": "stdout",
     "output_type": "stream",
     "text": [
      "VALID \t: Summary: Loss: 1.3731 Accuracy: 0.5211\n",
      "TRAIN \t: Summary: Loss: 1.4866 Accuracy: 0.4791\n"
     ]
    },
    {
     "name": "stderr",
     "output_type": "stream",
     "text": [
      "Training: Epoch [15/200]: 100%|██████████████████████████████| 313/313 [00:12<00:00, 24.66it/s]                                            \n",
      "Evaluate: Epoch [15/200]: 100%|██████████████████████████████| 79/79 [00:00<00:00, 206.28it/s]                                             \n"
     ]
    },
    {
     "name": "stdout",
     "output_type": "stream",
     "text": [
      "VALID \t: Summary: Loss: 1.3537 Accuracy: 0.5209\n",
      "TRAIN \t: Summary: Loss: 1.4795 Accuracy: 0.4847\n"
     ]
    },
    {
     "name": "stderr",
     "output_type": "stream",
     "text": [
      "Training: Epoch [16/200]: 100%|██████████████████████████████| 313/313 [00:12<00:00, 25.49it/s]                                            \n",
      "Evaluate: Epoch [16/200]: 100%|██████████████████████████████| 79/79 [00:00<00:00, 197.01it/s]                                             \n"
     ]
    },
    {
     "name": "stdout",
     "output_type": "stream",
     "text": [
      "VALID \t: Summary: Loss: 1.3488 Accuracy: 0.5233\n",
      "TRAIN \t: Summary: Loss: 1.4745 Accuracy: 0.4852\n"
     ]
    },
    {
     "name": "stderr",
     "output_type": "stream",
     "text": [
      "Training: Epoch [17/200]: 100%|██████████████████████████████| 313/313 [00:12<00:00, 24.09it/s]                                            \n",
      "Evaluate: Epoch [17/200]: 100%|██████████████████████████████| 79/79 [00:00<00:00, 203.51it/s]                                             \n"
     ]
    },
    {
     "name": "stdout",
     "output_type": "stream",
     "text": [
      "VALID \t: Summary: Loss: 1.3523 Accuracy: 0.5211\n",
      "TRAIN \t: Summary: Loss: 1.4607 Accuracy: 0.4901\n"
     ]
    },
    {
     "name": "stderr",
     "output_type": "stream",
     "text": [
      "Training: Epoch [18/200]: 100%|██████████████████████████████| 313/313 [00:12<00:00, 25.44it/s]                                            \n",
      "Evaluate: Epoch [18/200]: 100%|██████████████████████████████| 79/79 [00:00<00:00, 211.01it/s]                                             \n"
     ]
    },
    {
     "name": "stdout",
     "output_type": "stream",
     "text": [
      "VALID \t: Summary: Loss: 1.3443 Accuracy: 0.5272\n",
      "TRAIN \t: Summary: Loss: 1.4596 Accuracy: 0.4903\n"
     ]
    },
    {
     "name": "stderr",
     "output_type": "stream",
     "text": [
      "Training: Epoch [19/200]: 100%|██████████████████████████████| 313/313 [00:12<00:00, 24.82it/s]                                            \n",
      "Evaluate: Epoch [19/200]: 100%|██████████████████████████████| 79/79 [00:00<00:00, 208.65it/s]                                             \n"
     ]
    },
    {
     "name": "stdout",
     "output_type": "stream",
     "text": [
      "VALID \t: Summary: Loss: 1.3304 Accuracy: 0.5235\n",
      "TRAIN \t: Summary: Loss: 1.4516 Accuracy: 0.4931\n"
     ]
    },
    {
     "name": "stderr",
     "output_type": "stream",
     "text": [
      "Training: Epoch [20/200]: 100%|██████████████████████████████| 313/313 [00:12<00:00, 25.47it/s]                                            \n",
      "Evaluate: Epoch [20/200]: 100%|██████████████████████████████| 79/79 [00:00<00:00, 210.79it/s]                                             \n"
     ]
    },
    {
     "name": "stdout",
     "output_type": "stream",
     "text": [
      "VALID \t: Summary: Loss: 1.3329 Accuracy: 0.5259\n",
      "TRAIN \t: Summary: Loss: 1.4417 Accuracy: 0.4966\n"
     ]
    },
    {
     "name": "stderr",
     "output_type": "stream",
     "text": [
      "Training: Epoch [21/200]: 100%|██████████████████████████████| 313/313 [00:12<00:00, 25.29it/s]                                            \n",
      "Evaluate: Epoch [21/200]: 100%|██████████████████████████████| 79/79 [00:00<00:00, 209.09it/s]                                             \n"
     ]
    },
    {
     "name": "stdout",
     "output_type": "stream",
     "text": [
      "VALID \t: Summary: Loss: 1.3278 Accuracy: 0.5321\n",
      "TRAIN \t: Summary: Loss: 1.4406 Accuracy: 0.4983\n"
     ]
    },
    {
     "name": "stderr",
     "output_type": "stream",
     "text": [
      "Training: Epoch [22/200]: 100%|██████████████████████████████| 313/313 [00:12<00:00, 25.62it/s]                                            \n",
      "Evaluate: Epoch [22/200]: 100%|██████████████████████████████| 79/79 [00:00<00:00, 209.57it/s]                                             \n"
     ]
    },
    {
     "name": "stdout",
     "output_type": "stream",
     "text": [
      "VALID \t: Summary: Loss: 1.3203 Accuracy: 0.5352\n",
      "TRAIN \t: Summary: Loss: 1.4332 Accuracy: 0.4985\n"
     ]
    },
    {
     "name": "stderr",
     "output_type": "stream",
     "text": [
      "Training: Epoch [23/200]: 100%|██████████████████████████████| 313/313 [00:12<00:00, 24.98it/s]                                            \n",
      "Evaluate: Epoch [23/200]: 100%|██████████████████████████████| 79/79 [00:00<00:00, 200.60it/s]                                             \n"
     ]
    },
    {
     "name": "stdout",
     "output_type": "stream",
     "text": [
      "VALID \t: Summary: Loss: 1.3264 Accuracy: 0.5283\n",
      "TRAIN \t: Summary: Loss: 1.4332 Accuracy: 0.4995\n"
     ]
    },
    {
     "name": "stderr",
     "output_type": "stream",
     "text": [
      "Training: Epoch [24/200]: 100%|██████████████████████████████| 313/313 [00:12<00:00, 24.50it/s]                                            \n",
      "Evaluate: Epoch [24/200]: 100%|██████████████████████████████| 79/79 [00:00<00:00, 168.02it/s]                                             \n"
     ]
    },
    {
     "name": "stdout",
     "output_type": "stream",
     "text": [
      "VALID \t: Summary: Loss: 1.3103 Accuracy: 0.5404\n",
      "TRAIN \t: Summary: Loss: 1.4232 Accuracy: 0.5027\n"
     ]
    },
    {
     "name": "stderr",
     "output_type": "stream",
     "text": [
      "Training: Epoch [25/200]: 100%|██████████████████████████████| 313/313 [00:13<00:00, 23.54it/s]                                            \n",
      "Evaluate: Epoch [25/200]: 100%|██████████████████████████████| 79/79 [00:00<00:00, 207.80it/s]                                             \n"
     ]
    },
    {
     "name": "stdout",
     "output_type": "stream",
     "text": [
      "VALID \t: Summary: Loss: 1.3090 Accuracy: 0.5412\n",
      "TRAIN \t: Summary: Loss: 1.4198 Accuracy: 0.5050\n"
     ]
    },
    {
     "name": "stderr",
     "output_type": "stream",
     "text": [
      "Training: Epoch [26/200]: 100%|██████████████████████████████| 313/313 [00:12<00:00, 24.93it/s]                                            \n",
      "Evaluate: Epoch [26/200]: 100%|██████████████████████████████| 79/79 [00:00<00:00, 204.54it/s]                                             \n"
     ]
    },
    {
     "name": "stdout",
     "output_type": "stream",
     "text": [
      "VALID \t: Summary: Loss: 1.3046 Accuracy: 0.5388\n",
      "TRAIN \t: Summary: Loss: 1.4155 Accuracy: 0.5051\n"
     ]
    },
    {
     "name": "stderr",
     "output_type": "stream",
     "text": [
      "Training: Epoch [27/200]: 100%|██████████████████████████████| 313/313 [00:12<00:00, 25.70it/s]                                            \n",
      "Evaluate: Epoch [27/200]: 100%|██████████████████████████████| 79/79 [00:00<00:00, 213.71it/s]                                             \n"
     ]
    },
    {
     "name": "stdout",
     "output_type": "stream",
     "text": [
      "VALID \t: Summary: Loss: 1.2977 Accuracy: 0.5439\n",
      "TRAIN \t: Summary: Loss: 1.4098 Accuracy: 0.5091\n"
     ]
    },
    {
     "name": "stderr",
     "output_type": "stream",
     "text": [
      "Training: Epoch [28/200]: 100%|██████████████████████████████| 313/313 [00:12<00:00, 25.56it/s]                                            \n",
      "Evaluate: Epoch [28/200]: 100%|██████████████████████████████| 79/79 [00:00<00:00, 219.26it/s]                                             \n"
     ]
    },
    {
     "name": "stdout",
     "output_type": "stream",
     "text": [
      "VALID \t: Summary: Loss: 1.2932 Accuracy: 0.5458\n",
      "TRAIN \t: Summary: Loss: 1.4016 Accuracy: 0.5106\n"
     ]
    },
    {
     "name": "stderr",
     "output_type": "stream",
     "text": [
      "Training: Epoch [29/200]: 100%|██████████████████████████████| 313/313 [00:12<00:00, 25.58it/s]                                            \n",
      "Evaluate: Epoch [29/200]: 100%|██████████████████████████████| 79/79 [00:00<00:00, 202.13it/s]                                             \n"
     ]
    },
    {
     "name": "stdout",
     "output_type": "stream",
     "text": [
      "VALID \t: Summary: Loss: 1.2868 Accuracy: 0.5445\n",
      "TRAIN \t: Summary: Loss: 1.4018 Accuracy: 0.5084\n"
     ]
    },
    {
     "name": "stderr",
     "output_type": "stream",
     "text": [
      "Training: Epoch [30/200]: 100%|██████████████████████████████| 313/313 [00:12<00:00, 25.65it/s]                                            \n",
      "Evaluate: Epoch [30/200]: 100%|██████████████████████████████| 79/79 [00:00<00:00, 190.42it/s]                                             \n"
     ]
    },
    {
     "name": "stdout",
     "output_type": "stream",
     "text": [
      "VALID \t: Summary: Loss: 1.2854 Accuracy: 0.5452\n",
      "TRAIN \t: Summary: Loss: 1.3997 Accuracy: 0.5120\n"
     ]
    },
    {
     "name": "stderr",
     "output_type": "stream",
     "text": [
      "Training: Epoch [31/200]: 100%|██████████████████████████████| 313/313 [00:12<00:00, 25.15it/s]                                            \n",
      "Evaluate: Epoch [31/200]: 100%|██████████████████████████████| 79/79 [00:00<00:00, 197.57it/s]                                             \n"
     ]
    },
    {
     "name": "stdout",
     "output_type": "stream",
     "text": [
      "VALID \t: Summary: Loss: 1.2766 Accuracy: 0.5536\n",
      "TRAIN \t: Summary: Loss: 1.3887 Accuracy: 0.5142\n"
     ]
    },
    {
     "name": "stderr",
     "output_type": "stream",
     "text": [
      "Training: Epoch [32/200]: 100%|██████████████████████████████| 313/313 [00:13<00:00, 23.85it/s]                                            \n",
      "Evaluate: Epoch [32/200]: 100%|██████████████████████████████| 79/79 [00:00<00:00, 208.68it/s]                                             \n"
     ]
    },
    {
     "name": "stdout",
     "output_type": "stream",
     "text": [
      "VALID \t: Summary: Loss: 1.3021 Accuracy: 0.5421\n",
      "TRAIN \t: Summary: Loss: 1.3855 Accuracy: 0.5156\n"
     ]
    },
    {
     "name": "stderr",
     "output_type": "stream",
     "text": [
      "Training: Epoch [33/200]: 100%|██████████████████████████████| 313/313 [00:14<00:00, 22.19it/s]                                            \n",
      "Evaluate: Epoch [33/200]: 100%|██████████████████████████████| 79/79 [00:00<00:00, 161.94it/s]                                             \n"
     ]
    },
    {
     "name": "stdout",
     "output_type": "stream",
     "text": [
      "VALID \t: Summary: Loss: 1.2675 Accuracy: 0.5540\n",
      "TRAIN \t: Summary: Loss: 1.3840 Accuracy: 0.5169\n"
     ]
    },
    {
     "name": "stderr",
     "output_type": "stream",
     "text": [
      "Training: Epoch [34/200]: 100%|██████████████████████████████| 313/313 [00:13<00:00, 22.80it/s]                                            \n",
      "Evaluate: Epoch [34/200]: 100%|██████████████████████████████| 79/79 [00:00<00:00, 190.11it/s]                                             \n"
     ]
    },
    {
     "name": "stdout",
     "output_type": "stream",
     "text": [
      "VALID \t: Summary: Loss: 1.2791 Accuracy: 0.5511\n",
      "TRAIN \t: Summary: Loss: 1.3763 Accuracy: 0.5215\n"
     ]
    },
    {
     "name": "stderr",
     "output_type": "stream",
     "text": [
      "Training: Epoch [35/200]: 100%|██████████████████████████████| 313/313 [00:12<00:00, 24.42it/s]                                            \n",
      "Evaluate: Epoch [35/200]: 100%|██████████████████████████████| 79/79 [00:00<00:00, 205.56it/s]                                             \n"
     ]
    },
    {
     "name": "stdout",
     "output_type": "stream",
     "text": [
      "VALID \t: Summary: Loss: 1.2690 Accuracy: 0.5574\n",
      "TRAIN \t: Summary: Loss: 1.3793 Accuracy: 0.5181\n"
     ]
    },
    {
     "name": "stderr",
     "output_type": "stream",
     "text": [
      "Training: Epoch [36/200]: 100%|██████████████████████████████| 313/313 [00:12<00:00, 24.76it/s]                                            \n",
      "Evaluate: Epoch [36/200]: 100%|██████████████████████████████| 79/79 [00:00<00:00, 204.10it/s]                                             \n"
     ]
    },
    {
     "name": "stdout",
     "output_type": "stream",
     "text": [
      "VALID \t: Summary: Loss: 1.2662 Accuracy: 0.5547\n",
      "TRAIN \t: Summary: Loss: 1.3712 Accuracy: 0.5220\n"
     ]
    },
    {
     "name": "stderr",
     "output_type": "stream",
     "text": [
      "Training: Epoch [37/200]: 100%|██████████████████████████████| 313/313 [00:12<00:00, 24.67it/s]                                            \n",
      "Evaluate: Epoch [37/200]: 100%|██████████████████████████████| 79/79 [00:00<00:00, 203.28it/s]                                             \n"
     ]
    },
    {
     "name": "stdout",
     "output_type": "stream",
     "text": [
      "VALID \t: Summary: Loss: 1.2626 Accuracy: 0.5572\n",
      "TRAIN \t: Summary: Loss: 1.3706 Accuracy: 0.5186\n"
     ]
    },
    {
     "name": "stderr",
     "output_type": "stream",
     "text": [
      "Training: Epoch [38/200]: 100%|██████████████████████████████| 313/313 [00:12<00:00, 24.27it/s]                                            \n",
      "Evaluate: Epoch [38/200]: 100%|██████████████████████████████| 79/79 [00:00<00:00, 206.72it/s]                                             \n"
     ]
    },
    {
     "name": "stdout",
     "output_type": "stream",
     "text": [
      "VALID \t: Summary: Loss: 1.2651 Accuracy: 0.5546\n",
      "TRAIN \t: Summary: Loss: 1.3686 Accuracy: 0.5236\n"
     ]
    },
    {
     "name": "stderr",
     "output_type": "stream",
     "text": [
      "Training: Epoch [39/200]: 100%|██████████████████████████████| 313/313 [00:13<00:00, 23.99it/s]                                            \n",
      "Evaluate: Epoch [39/200]: 100%|██████████████████████████████| 79/79 [00:00<00:00, 195.39it/s]                                             \n"
     ]
    },
    {
     "name": "stdout",
     "output_type": "stream",
     "text": [
      "VALID \t: Summary: Loss: 1.2664 Accuracy: 0.5546\n",
      "TRAIN \t: Summary: Loss: 1.3673 Accuracy: 0.5222\n"
     ]
    },
    {
     "name": "stderr",
     "output_type": "stream",
     "text": [
      "Training: Epoch [40/200]: 100%|██████████████████████████████| 313/313 [00:12<00:00, 25.23it/s]                                            \n",
      "Evaluate: Epoch [40/200]: 100%|██████████████████████████████| 79/79 [00:00<00:00, 215.87it/s]                                             \n"
     ]
    },
    {
     "name": "stdout",
     "output_type": "stream",
     "text": [
      "VALID \t: Summary: Loss: 1.2563 Accuracy: 0.5613\n",
      "TRAIN \t: Summary: Loss: 1.3579 Accuracy: 0.5254\n"
     ]
    },
    {
     "name": "stderr",
     "output_type": "stream",
     "text": [
      "Training: Epoch [41/200]: 100%|██████████████████████████████| 313/313 [00:13<00:00, 24.03it/s]                                            \n",
      "Evaluate: Epoch [41/200]: 100%|██████████████████████████████| 79/79 [00:00<00:00, 202.59it/s]                                             \n"
     ]
    },
    {
     "name": "stdout",
     "output_type": "stream",
     "text": [
      "VALID \t: Summary: Loss: 1.2581 Accuracy: 0.5570\n",
      "TRAIN \t: Summary: Loss: 1.3573 Accuracy: 0.5236\n"
     ]
    },
    {
     "name": "stderr",
     "output_type": "stream",
     "text": [
      "Training: Epoch [42/200]: 100%|██████████████████████████████| 313/313 [00:12<00:00, 24.09it/s]                                            \n",
      "Evaluate: Epoch [42/200]: 100%|██████████████████████████████| 79/79 [00:00<00:00, 201.58it/s]                                             \n"
     ]
    },
    {
     "name": "stdout",
     "output_type": "stream",
     "text": [
      "VALID \t: Summary: Loss: 1.2527 Accuracy: 0.5600\n",
      "TRAIN \t: Summary: Loss: 1.3578 Accuracy: 0.5279\n"
     ]
    },
    {
     "name": "stderr",
     "output_type": "stream",
     "text": [
      "Training: Epoch [43/200]: 100%|██████████████████████████████| 313/313 [00:13<00:00, 23.47it/s]                                            \n",
      "Evaluate: Epoch [43/200]: 100%|██████████████████████████████| 79/79 [00:00<00:00, 201.92it/s]                                             \n"
     ]
    },
    {
     "name": "stdout",
     "output_type": "stream",
     "text": [
      "VALID \t: Summary: Loss: 1.2524 Accuracy: 0.5571\n",
      "TRAIN \t: Summary: Loss: 1.3530 Accuracy: 0.5285\n"
     ]
    },
    {
     "name": "stderr",
     "output_type": "stream",
     "text": [
      "Training: Epoch [44/200]: 100%|██████████████████████████████| 313/313 [00:12<00:00, 25.40it/s]                                            \n",
      "Evaluate: Epoch [44/200]: 100%|██████████████████████████████| 79/79 [00:00<00:00, 211.05it/s]                                             \n"
     ]
    },
    {
     "name": "stdout",
     "output_type": "stream",
     "text": [
      "VALID \t: Summary: Loss: 1.2562 Accuracy: 0.5638\n",
      "TRAIN \t: Summary: Loss: 1.3515 Accuracy: 0.5295\n"
     ]
    },
    {
     "name": "stderr",
     "output_type": "stream",
     "text": [
      "Training: Epoch [45/200]: 100%|██████████████████████████████| 313/313 [00:12<00:00, 25.18it/s]                                            \n",
      "Evaluate: Epoch [45/200]: 100%|██████████████████████████████| 79/79 [00:00<00:00, 203.50it/s]                                             \n"
     ]
    },
    {
     "name": "stdout",
     "output_type": "stream",
     "text": [
      "VALID \t: Summary: Loss: 1.2387 Accuracy: 0.5661\n",
      "TRAIN \t: Summary: Loss: 1.3495 Accuracy: 0.5284\n"
     ]
    },
    {
     "name": "stderr",
     "output_type": "stream",
     "text": [
      "Training: Epoch [46/200]: 100%|██████████████████████████████| 313/313 [00:13<00:00, 22.86it/s]                                            \n",
      "Evaluate: Epoch [46/200]: 100%|██████████████████████████████| 79/79 [00:00<00:00, 195.03it/s]                                             \n"
     ]
    },
    {
     "name": "stdout",
     "output_type": "stream",
     "text": [
      "VALID \t: Summary: Loss: 1.2499 Accuracy: 0.5600\n",
      "TRAIN \t: Summary: Loss: 1.3400 Accuracy: 0.5333\n"
     ]
    },
    {
     "name": "stderr",
     "output_type": "stream",
     "text": [
      "Training: Epoch [47/200]: 100%|██████████████████████████████| 313/313 [00:12<00:00, 24.94it/s]                                            \n",
      "Evaluate: Epoch [47/200]: 100%|██████████████████████████████| 79/79 [00:00<00:00, 206.54it/s]                                             \n"
     ]
    },
    {
     "name": "stdout",
     "output_type": "stream",
     "text": [
      "VALID \t: Summary: Loss: 1.2383 Accuracy: 0.5659\n",
      "TRAIN \t: Summary: Loss: 1.3437 Accuracy: 0.5325\n"
     ]
    },
    {
     "name": "stderr",
     "output_type": "stream",
     "text": [
      "Training: Epoch [48/200]: 100%|██████████████████████████████| 313/313 [00:12<00:00, 25.13it/s]                                            \n",
      "Evaluate: Epoch [48/200]: 100%|██████████████████████████████| 79/79 [00:00<00:00, 184.33it/s]                                             \n"
     ]
    },
    {
     "name": "stdout",
     "output_type": "stream",
     "text": [
      "VALID \t: Summary: Loss: 1.2341 Accuracy: 0.5674\n",
      "TRAIN \t: Summary: Loss: 1.3365 Accuracy: 0.5324\n"
     ]
    },
    {
     "name": "stderr",
     "output_type": "stream",
     "text": [
      "Training: Epoch [49/200]: 100%|██████████████████████████████| 313/313 [00:12<00:00, 25.66it/s]                                            \n",
      "Evaluate: Epoch [49/200]: 100%|██████████████████████████████| 79/79 [00:00<00:00, 205.52it/s]                                             \n"
     ]
    },
    {
     "name": "stdout",
     "output_type": "stream",
     "text": [
      "VALID \t: Summary: Loss: 1.2350 Accuracy: 0.5615\n",
      "TRAIN \t: Summary: Loss: 1.3344 Accuracy: 0.5336\n"
     ]
    },
    {
     "name": "stderr",
     "output_type": "stream",
     "text": [
      "Training: Epoch [50/200]: 100%|██████████████████████████████| 313/313 [00:12<00:00, 25.29it/s]                                            \n",
      "Evaluate: Epoch [50/200]: 100%|██████████████████████████████| 79/79 [00:00<00:00, 179.73it/s]                                             \n"
     ]
    },
    {
     "name": "stdout",
     "output_type": "stream",
     "text": [
      "VALID \t: Summary: Loss: 1.2351 Accuracy: 0.5666\n",
      "TRAIN \t: Summary: Loss: 1.3351 Accuracy: 0.5344\n"
     ]
    },
    {
     "name": "stderr",
     "output_type": "stream",
     "text": [
      "Training: Epoch [51/200]: 100%|██████████████████████████████| 313/313 [00:15<00:00, 20.18it/s]                                            \n",
      "Evaluate: Epoch [51/200]: 100%|██████████████████████████████| 79/79 [00:00<00:00, 194.51it/s]                                             \n"
     ]
    },
    {
     "name": "stdout",
     "output_type": "stream",
     "text": [
      "VALID \t: Summary: Loss: 1.2158 Accuracy: 0.5759\n",
      "TRAIN \t: Summary: Loss: 1.3171 Accuracy: 0.5410\n"
     ]
    },
    {
     "name": "stderr",
     "output_type": "stream",
     "text": [
      "Training: Epoch [52/200]: 100%|██████████████████████████████| 313/313 [00:13<00:00, 23.88it/s]                                            \n",
      "Evaluate: Epoch [52/200]: 100%|██████████████████████████████| 79/79 [00:00<00:00, 199.66it/s]                                             \n"
     ]
    },
    {
     "name": "stdout",
     "output_type": "stream",
     "text": [
      "VALID \t: Summary: Loss: 1.2180 Accuracy: 0.5760\n",
      "TRAIN \t: Summary: Loss: 1.3148 Accuracy: 0.5438\n"
     ]
    },
    {
     "name": "stderr",
     "output_type": "stream",
     "text": [
      "Training: Epoch [53/200]: 100%|██████████████████████████████| 313/313 [00:12<00:00, 24.64it/s]                                            \n",
      "Evaluate: Epoch [53/200]: 100%|██████████████████████████████| 79/79 [00:00<00:00, 179.02it/s]                                             \n"
     ]
    },
    {
     "name": "stdout",
     "output_type": "stream",
     "text": [
      "VALID \t: Summary: Loss: 1.2199 Accuracy: 0.5722\n",
      "TRAIN \t: Summary: Loss: 1.3111 Accuracy: 0.5422\n"
     ]
    },
    {
     "name": "stderr",
     "output_type": "stream",
     "text": [
      "Training: Epoch [54/200]: 100%|██████████████████████████████| 313/313 [00:13<00:00, 23.39it/s]                                            \n",
      "Evaluate: Epoch [54/200]: 100%|██████████████████████████████| 79/79 [00:00<00:00, 188.31it/s]                                             \n"
     ]
    },
    {
     "name": "stdout",
     "output_type": "stream",
     "text": [
      "VALID \t: Summary: Loss: 1.2154 Accuracy: 0.5771\n",
      "TRAIN \t: Summary: Loss: 1.3116 Accuracy: 0.5437\n"
     ]
    },
    {
     "name": "stderr",
     "output_type": "stream",
     "text": [
      "Training: Epoch [55/200]: 100%|██████████████████████████████| 313/313 [00:12<00:00, 25.41it/s]                                            \n",
      "Evaluate: Epoch [55/200]: 100%|██████████████████████████████| 79/79 [00:00<00:00, 207.38it/s]                                             \n"
     ]
    },
    {
     "name": "stdout",
     "output_type": "stream",
     "text": [
      "VALID \t: Summary: Loss: 1.2056 Accuracy: 0.5790\n",
      "TRAIN \t: Summary: Loss: 1.3099 Accuracy: 0.5439\n"
     ]
    },
    {
     "name": "stderr",
     "output_type": "stream",
     "text": [
      "Training: Epoch [56/200]: 100%|██████████████████████████████| 313/313 [00:12<00:00, 25.50it/s]                                            \n",
      "Evaluate: Epoch [56/200]: 100%|██████████████████████████████| 79/79 [00:00<00:00, 207.11it/s]                                             \n"
     ]
    },
    {
     "name": "stdout",
     "output_type": "stream",
     "text": [
      "VALID \t: Summary: Loss: 1.2082 Accuracy: 0.5791\n",
      "TRAIN \t: Summary: Loss: 1.3069 Accuracy: 0.5460\n"
     ]
    },
    {
     "name": "stderr",
     "output_type": "stream",
     "text": [
      "Training: Epoch [57/200]: 100%|██████████████████████████████| 313/313 [00:12<00:00, 24.14it/s]                                            \n",
      "Evaluate: Epoch [57/200]: 100%|██████████████████████████████| 79/79 [00:00<00:00, 182.97it/s]                                             \n"
     ]
    },
    {
     "name": "stdout",
     "output_type": "stream",
     "text": [
      "VALID \t: Summary: Loss: 1.2042 Accuracy: 0.5778\n",
      "TRAIN \t: Summary: Loss: 1.3078 Accuracy: 0.5444\n"
     ]
    },
    {
     "name": "stderr",
     "output_type": "stream",
     "text": [
      "Training: Epoch [58/200]: 100%|██████████████████████████████| 313/313 [00:12<00:00, 25.67it/s]                                            \n",
      "Evaluate: Epoch [58/200]: 100%|██████████████████████████████| 79/79 [00:00<00:00, 191.55it/s]                                             \n"
     ]
    },
    {
     "name": "stdout",
     "output_type": "stream",
     "text": [
      "VALID \t: Summary: Loss: 1.2131 Accuracy: 0.5753\n",
      "TRAIN \t: Summary: Loss: 1.2979 Accuracy: 0.5470\n"
     ]
    },
    {
     "name": "stderr",
     "output_type": "stream",
     "text": [
      "Training: Epoch [59/200]: 100%|██████████████████████████████| 313/313 [00:12<00:00, 24.74it/s]                                            \n",
      "Evaluate: Epoch [59/200]: 100%|██████████████████████████████| 79/79 [00:00<00:00, 195.67it/s]                                             \n"
     ]
    },
    {
     "name": "stdout",
     "output_type": "stream",
     "text": [
      "VALID \t: Summary: Loss: 1.2143 Accuracy: 0.5755\n",
      "TRAIN \t: Summary: Loss: 1.3042 Accuracy: 0.5476\n"
     ]
    },
    {
     "name": "stderr",
     "output_type": "stream",
     "text": [
      "Training: Epoch [60/200]: 100%|██████████████████████████████| 313/313 [00:13<00:00, 22.41it/s]                                            \n",
      "Evaluate: Epoch [60/200]: 100%|██████████████████████████████| 79/79 [00:00<00:00, 169.14it/s]                                             \n"
     ]
    },
    {
     "name": "stdout",
     "output_type": "stream",
     "text": [
      "VALID \t: Summary: Loss: 1.2030 Accuracy: 0.5773\n",
      "TRAIN \t: Summary: Loss: 1.3008 Accuracy: 0.5500\n"
     ]
    },
    {
     "name": "stderr",
     "output_type": "stream",
     "text": [
      "Training: Epoch [61/200]:  26%|███████▊                      | 82/313 [00:04<00:13, 16.70it/s]                                             "
     ]
    }
   ],
   "source": [
    "train_transforms = [\n",
    "    {\n",
    "        \"name\": \"ToTensor\",\n",
    "        \"args\": {},\n",
    "    },\n",
    "    {\n",
    "        \"name\": \"Normalize\",\n",
    "        \"args\": {\"mean\": (0.5, 0.5, 0.5), \"std\": (0.5, 0.5, 0.5)},\n",
    "    },\n",
    "    {\n",
    "        \"name\": \"RandomAffine\",\n",
    "        \"args\": {\"degrees\": 10, \"translate\": (0.1, 0.1), \"scale\": (0.8, 1.2)},\n",
    "    },\n",
    "    {\n",
    "        \"name\": \"RandomHorizontalFlip\",\n",
    "        \"args\": {\"p\": 0.5},\n",
    "    },\n",
    "    {\n",
    "        \"name\": \"GaussianBlur\",\n",
    "        \"args\": {\"kernel_size\": 3},\n",
    "    },\n",
    "]\n",
    "valid_transforms = [\n",
    "    {\n",
    "        \"name\": \"ToTensor\",\n",
    "        \"args\": {},\n",
    "    },\n",
    "    {\n",
    "        \"name\": \"Normalize\",\n",
    "        \"args\": {\"mean\": (0.5, 0.5, 0.5), \"std\": (0.5, 0.5, 0.5)},\n",
    "    },\n",
    "]\n",
    "\n",
    "network = \"tln\"\n",
    "num_epochs = 200\n",
    "batch_size = 128\n",
    "opt_args = {\"name\": \"Adam\", \"lr\": 1e-4}\n",
    "sch_args = {\"name\": \"MultiStepLR\", \"milestones\": [50, 100, 150], \"gamma\": 0.5}\n",
    "\n",
    "net, loss_fn = experiment(\n",
    "    train_transforms, valid_transforms, network, num_epochs, batch_size, opt_args, sch_args=sch_args,\n",
    ")"
   ]
  },
  {
   "cell_type": "code",
   "execution_count": null,
   "id": "6e0aef7a-6f58-46f8-9b6b-c4ced12014da",
   "metadata": {},
   "outputs": [],
   "source": [
    "summary(net, input_size=(3 * 32 * 32,))"
   ]
  },
  {
   "cell_type": "code",
   "execution_count": null,
   "id": "72e70f58-2523-41a0-b057-b4de2ce3d2e0",
   "metadata": {},
   "outputs": [],
   "source": [
    "test_transforms = [\n",
    "    {\n",
    "        \"name\": \"ToTensor\",\n",
    "        \"args\": {},\n",
    "    },\n",
    "    {\n",
    "        \"name\": \"Normalize\",\n",
    "        \"args\": {\"mean\": (0.5, 0.5, 0.5), \"std\": (0.5, 0.5, 0.5)},\n",
    "    },\n",
    "]\n",
    "test_transform = InputTransform(test_transforms)\n",
    "test_dataset = CIFAR(root=\"../datasets/CIFAR-10/\", mode=\"test\", transform=test_transform)\n",
    "test_loader = get_dataloader(test_dataset, train=False, batch_size=128, num_workers=0)"
   ]
  },
  {
   "cell_type": "code",
   "execution_count": null,
   "id": "786ba689-88e5-467f-b243-d1fb6e8568dc",
   "metadata": {},
   "outputs": [],
   "source": [
    "evaluate(net, test_loader, loss_fn, 1, 1, \"test\")"
   ]
  },
  {
   "cell_type": "code",
   "execution_count": null,
   "id": "4747220c-f8d2-4009-bf66-e12e3074ff07",
   "metadata": {},
   "outputs": [],
   "source": []
  }
 ],
 "metadata": {
  "kernelspec": {
   "display_name": "Python 3 (ipykernel)",
   "language": "python",
   "name": "python3"
  },
  "language_info": {
   "codemirror_mode": {
    "name": "ipython",
    "version": 3
   },
   "file_extension": ".py",
   "mimetype": "text/x-python",
   "name": "python",
   "nbconvert_exporter": "python",
   "pygments_lexer": "ipython3",
   "version": "3.9.7"
  }
 },
 "nbformat": 4,
 "nbformat_minor": 5
}
