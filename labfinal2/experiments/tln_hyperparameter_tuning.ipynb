{
 "cells": [
  {
   "cell_type": "code",
   "execution_count": 1,
   "id": "5507a249-fc78-4cfc-a933-ca345d0f1ee6",
   "metadata": {},
   "outputs": [],
   "source": [
    "%load_ext autoreload\n",
    "%autoreload 2"
   ]
  },
  {
   "cell_type": "code",
   "execution_count": 2,
   "id": "991c17b7-ff63-4049-9456-f3486680261d",
   "metadata": {},
   "outputs": [],
   "source": [
    "import sys\n",
    "sys.path.insert(0, \"../\")"
   ]
  },
  {
   "cell_type": "code",
   "execution_count": 3,
   "id": "80d8b0e7-7191-4e51-9743-f0e923743548",
   "metadata": {},
   "outputs": [],
   "source": [
    "import torch\n",
    "import torch.nn as nn\n",
    "from torchsummary import summary\n",
    "\n",
    "from data.input_transforms import InputTransform\n",
    "from data.cifar import CIFAR\n",
    "from data.dataloader import get_dataloader\n",
    "from models.optimizer import optimizer, scheduler\n",
    "from networks.twolayernet import TwolayerNet\n",
    "from networks.convnet import ConvNet\n",
    "from utils.viz import plot_multiple_quantities_by_time\n",
    "from main import train, evaluate"
   ]
  },
  {
   "cell_type": "code",
   "execution_count": 4,
   "id": "ea471d50-2d7b-4f6f-89fb-150276fab8fd",
   "metadata": {},
   "outputs": [],
   "source": [
    "def experiment(train_transforms, valid_transforms, network, num_epochs, batch_size, opt_args, sch_args=None):\n",
    "    \n",
    "    print(train_transforms)\n",
    "    print(num_epochs)\n",
    "    print(batch_size)\n",
    "    print(opt_args)\n",
    "    print(sch_args)\n",
    "    \n",
    "    # define the datasets\n",
    "    train_transform = InputTransform(train_transforms)\n",
    "    valid_transform = InputTransform(valid_transforms)\n",
    "    train_dataset = CIFAR(root=\"../datasets/CIFAR-10/\", mode=\"train\", transform=train_transform)\n",
    "    valid_dataset = CIFAR(root=\"../datasets/CIFAR-10/\", mode=\"valid\", transform=valid_transform)\n",
    "\n",
    "    # obtain the train dataloader\n",
    "    train_loader = get_dataloader(train_dataset, train=True, batch_size=batch_size, num_workers=0)\n",
    "    valid_loader = get_dataloader(valid_dataset, train=False, batch_size=batch_size, num_workers=0)\n",
    "    \n",
    "    if network == \"tln\":\n",
    "        net = TwolayerNet(num_inputs=3 * 32 * 32, num_hidden=512, num_classes=10)\n",
    "    elif network == \"cnn\":\n",
    "        net = ConvNet(in_channels=3, num_classes=10)\n",
    "    else:\n",
    "        raise ValueError()\n",
    "    arch = type(net).__name__\n",
    "\n",
    "    # define the optimizer and scheduler\n",
    "    opt = optimizer(model_params=net.parameters(), **opt_args)\n",
    "    sch = None\n",
    "    if sch_args is not None:\n",
    "        sch = scheduler(opt=opt, **sch_args)\n",
    "\n",
    "    # define the loss function\n",
    "    loss_fn = nn.CrossEntropyLoss()\n",
    "\n",
    "    # train the model\n",
    "    epochs, train_losses, train_metrics, valid_losses, valid_metrics = train(\n",
    "        net, loss_fn, train_loader, valid_loader, num_epochs=num_epochs, opt=opt, sch=sch,\n",
    "    )\n",
    "\n",
    "    # plot training curves\n",
    "    plot_multiple_quantities_by_time(\n",
    "        quantities=[train_losses[\"loss\"], valid_losses[\"loss\"]],\n",
    "        time=epochs,\n",
    "        labels=[\"Train\", \"Validation\"],\n",
    "        title=f\"{arch} Loss curves\",\n",
    "        show=True,\n",
    "        save=True,\n",
    "        save_path=\"../results/tln_best_plot_best.png\",\n",
    "        ylabel=\"Loss\",\n",
    "    )\n",
    "    plot_multiple_quantities_by_time(\n",
    "        quantities=[train_metrics[\"accuracy\"], valid_metrics[\"accuracy\"]],\n",
    "        time=epochs,\n",
    "        labels=[\"Train\", \"Validation\"],\n",
    "        title=f\"{arch} Accuracy curves\",\n",
    "        show=True,\n",
    "        save=True,\n",
    "        save_path=\"../results/tln_accu_plot_best.png\",\n",
    "        ylabel=\"Accuracy\",\n",
    "    )\n",
    "    \n",
    "    return net, loss_fn"
   ]
  },
  {
   "cell_type": "code",
   "execution_count": 5,
   "id": "d17ddae0-bd09-4b43-8c87-f69b7c417c95",
   "metadata": {
    "tags": []
   },
   "outputs": [
    {
     "name": "stdout",
     "output_type": "stream",
     "text": [
      "[{'name': 'ToTensor', 'args': {}}, {'name': 'Normalize', 'args': {'mean': (0.5, 0.5, 0.5), 'std': (0.5, 0.5, 0.5)}}, {'name': 'RandomAffine', 'args': {'degrees': 10, 'translate': (0.1, 0.1), 'scale': (0.8, 1.2)}}, {'name': 'RandomHorizontalFlip', 'args': {'p': 0.5}}, {'name': 'GaussianBlur', 'args': {'kernel_size': 3}}]\n",
      "200\n",
      "128\n",
      "{'name': 'Adam', 'lr': 0.0001}\n",
      "{'name': 'MultiStepLR', 'milestones': [50, 100, 150], 'gamma': 0.5}\n",
      "Selecting 40000 for train.\n",
      "Selecting 10000 for valid.\n"
     ]
    },
    {
     "name": "stderr",
     "output_type": "stream",
     "text": [
      "Training: Epoch [1/200]: 100%|██████████████████████████████| 313/313 [00:13<00:00, 24.02it/s]                                             \n",
      "Evaluate: Epoch [1/200]: 100%|██████████████████████████████| 79/79 [00:00<00:00, 204.42it/s]                                              \n"
     ]
    },
    {
     "name": "stdout",
     "output_type": "stream",
     "text": [
      "VALID \t: Summary: Loss: 1.6419 Accuracy: 0.4175\n",
      "TRAIN \t: Summary: Loss: 1.8627 Accuracy: 0.3408\n"
     ]
    },
    {
     "name": "stderr",
     "output_type": "stream",
     "text": [
      "Training: Epoch [2/200]: 100%|██████████████████████████████| 313/313 [00:12<00:00, 25.93it/s]                                             \n",
      "Evaluate: Epoch [2/200]: 100%|██████████████████████████████| 79/79 [00:00<00:00, 210.27it/s]                                              \n"
     ]
    },
    {
     "name": "stdout",
     "output_type": "stream",
     "text": [
      "VALID \t: Summary: Loss: 1.5871 Accuracy: 0.4397\n",
      "TRAIN \t: Summary: Loss: 1.7213 Accuracy: 0.3937\n"
     ]
    },
    {
     "name": "stderr",
     "output_type": "stream",
     "text": [
      "Training: Epoch [3/200]: 100%|██████████████████████████████| 313/313 [00:12<00:00, 25.63it/s]                                             \n",
      "Evaluate: Epoch [3/200]: 100%|██████████████████████████████| 79/79 [00:00<00:00, 210.44it/s]                                              \n"
     ]
    },
    {
     "name": "stdout",
     "output_type": "stream",
     "text": [
      "VALID \t: Summary: Loss: 1.5339 Accuracy: 0.4582\n",
      "TRAIN \t: Summary: Loss: 1.6705 Accuracy: 0.4124\n"
     ]
    },
    {
     "name": "stderr",
     "output_type": "stream",
     "text": [
      "Training: Epoch [4/200]: 100%|██████████████████████████████| 313/313 [00:12<00:00, 24.96it/s]                                             \n",
      "Evaluate: Epoch [4/200]: 100%|██████████████████████████████| 79/79 [00:00<00:00, 213.61it/s]                                              \n"
     ]
    },
    {
     "name": "stdout",
     "output_type": "stream",
     "text": [
      "VALID \t: Summary: Loss: 1.4988 Accuracy: 0.4717\n",
      "TRAIN \t: Summary: Loss: 1.6301 Accuracy: 0.4285\n"
     ]
    },
    {
     "name": "stderr",
     "output_type": "stream",
     "text": [
      "Training: Epoch [5/200]: 100%|██████████████████████████████| 313/313 [00:13<00:00, 23.20it/s]                                             \n",
      "Evaluate: Epoch [5/200]: 100%|██████████████████████████████| 79/79 [00:00<00:00, 203.00it/s]                                              \n"
     ]
    },
    {
     "name": "stdout",
     "output_type": "stream",
     "text": [
      "VALID \t: Summary: Loss: 1.4869 Accuracy: 0.4742\n",
      "TRAIN \t: Summary: Loss: 1.6039 Accuracy: 0.4396\n"
     ]
    },
    {
     "name": "stderr",
     "output_type": "stream",
     "text": [
      "Training: Epoch [6/200]: 100%|██████████████████████████████| 313/313 [00:12<00:00, 24.18it/s]                                             \n",
      "Evaluate: Epoch [6/200]: 100%|██████████████████████████████| 79/79 [00:00<00:00, 201.07it/s]                                              \n"
     ]
    },
    {
     "name": "stdout",
     "output_type": "stream",
     "text": [
      "VALID \t: Summary: Loss: 1.4661 Accuracy: 0.4797\n",
      "TRAIN \t: Summary: Loss: 1.5873 Accuracy: 0.4413\n"
     ]
    },
    {
     "name": "stderr",
     "output_type": "stream",
     "text": [
      "Training: Epoch [7/200]: 100%|██████████████████████████████| 313/313 [00:12<00:00, 24.56it/s]                                             \n",
      "Evaluate: Epoch [7/200]: 100%|██████████████████████████████| 79/79 [00:00<00:00, 200.72it/s]                                              \n"
     ]
    },
    {
     "name": "stdout",
     "output_type": "stream",
     "text": [
      "VALID \t: Summary: Loss: 1.4446 Accuracy: 0.4894\n",
      "TRAIN \t: Summary: Loss: 1.5659 Accuracy: 0.4519\n"
     ]
    },
    {
     "name": "stderr",
     "output_type": "stream",
     "text": [
      "Training: Epoch [8/200]: 100%|██████████████████████████████| 313/313 [00:12<00:00, 25.62it/s]                                             \n",
      "Evaluate: Epoch [8/200]: 100%|██████████████████████████████| 79/79 [00:00<00:00, 212.88it/s]                                              \n"
     ]
    },
    {
     "name": "stdout",
     "output_type": "stream",
     "text": [
      "VALID \t: Summary: Loss: 1.4339 Accuracy: 0.4960\n",
      "TRAIN \t: Summary: Loss: 1.5530 Accuracy: 0.4572\n"
     ]
    },
    {
     "name": "stderr",
     "output_type": "stream",
     "text": [
      "Training: Epoch [9/200]: 100%|██████████████████████████████| 313/313 [00:12<00:00, 24.18it/s]                                             \n",
      "Evaluate: Epoch [9/200]: 100%|██████████████████████████████| 79/79 [00:00<00:00, 209.70it/s]                                              \n"
     ]
    },
    {
     "name": "stdout",
     "output_type": "stream",
     "text": [
      "VALID \t: Summary: Loss: 1.4212 Accuracy: 0.4985\n",
      "TRAIN \t: Summary: Loss: 1.5349 Accuracy: 0.4640\n"
     ]
    },
    {
     "name": "stderr",
     "output_type": "stream",
     "text": [
      "Training: Epoch [10/200]: 100%|██████████████████████████████| 313/313 [00:12<00:00, 24.89it/s]                                            \n",
      "Evaluate: Epoch [10/200]: 100%|██████████████████████████████| 79/79 [00:00<00:00, 210.28it/s]                                             \n"
     ]
    },
    {
     "name": "stdout",
     "output_type": "stream",
     "text": [
      "VALID \t: Summary: Loss: 1.3979 Accuracy: 0.5065\n",
      "TRAIN \t: Summary: Loss: 1.5257 Accuracy: 0.4677\n"
     ]
    },
    {
     "name": "stderr",
     "output_type": "stream",
     "text": [
      "Training: Epoch [11/200]: 100%|██████████████████████████████| 313/313 [00:12<00:00, 25.64it/s]                                            \n",
      "Evaluate: Epoch [11/200]: 100%|██████████████████████████████| 79/79 [00:00<00:00, 195.02it/s]                                             \n"
     ]
    },
    {
     "name": "stdout",
     "output_type": "stream",
     "text": [
      "VALID \t: Summary: Loss: 1.3925 Accuracy: 0.5036\n",
      "TRAIN \t: Summary: Loss: 1.5166 Accuracy: 0.4693\n"
     ]
    },
    {
     "name": "stderr",
     "output_type": "stream",
     "text": [
      "Training: Epoch [12/200]: 100%|██████████████████████████████| 313/313 [00:12<00:00, 25.05it/s]                                            \n",
      "Evaluate: Epoch [12/200]: 100%|██████████████████████████████| 79/79 [00:00<00:00, 211.35it/s]                                             \n"
     ]
    },
    {
     "name": "stdout",
     "output_type": "stream",
     "text": [
      "VALID \t: Summary: Loss: 1.3877 Accuracy: 0.5102\n",
      "TRAIN \t: Summary: Loss: 1.5049 Accuracy: 0.4748\n"
     ]
    },
    {
     "name": "stderr",
     "output_type": "stream",
     "text": [
      "Training: Epoch [13/200]: 100%|██████████████████████████████| 313/313 [00:12<00:00, 25.33it/s]                                            \n",
      "Evaluate: Epoch [13/200]: 100%|██████████████████████████████| 79/79 [00:00<00:00, 211.04it/s]                                             \n"
     ]
    },
    {
     "name": "stdout",
     "output_type": "stream",
     "text": [
      "VALID \t: Summary: Loss: 1.3824 Accuracy: 0.5122\n",
      "TRAIN \t: Summary: Loss: 1.4977 Accuracy: 0.4763\n"
     ]
    },
    {
     "name": "stderr",
     "output_type": "stream",
     "text": [
      "Training: Epoch [14/200]: 100%|██████████████████████████████| 313/313 [00:12<00:00, 25.49it/s]                                            \n",
      "Evaluate: Epoch [14/200]: 100%|██████████████████████████████| 79/79 [00:00<00:00, 211.82it/s]                                             \n"
     ]
    },
    {
     "name": "stdout",
     "output_type": "stream",
     "text": [
      "VALID \t: Summary: Loss: 1.3731 Accuracy: 0.5211\n",
      "TRAIN \t: Summary: Loss: 1.4866 Accuracy: 0.4791\n"
     ]
    },
    {
     "name": "stderr",
     "output_type": "stream",
     "text": [
      "Training: Epoch [15/200]: 100%|██████████████████████████████| 313/313 [00:12<00:00, 24.66it/s]                                            \n",
      "Evaluate: Epoch [15/200]: 100%|██████████████████████████████| 79/79 [00:00<00:00, 206.28it/s]                                             \n"
     ]
    },
    {
     "name": "stdout",
     "output_type": "stream",
     "text": [
      "VALID \t: Summary: Loss: 1.3537 Accuracy: 0.5209\n",
      "TRAIN \t: Summary: Loss: 1.4795 Accuracy: 0.4847\n"
     ]
    },
    {
     "name": "stderr",
     "output_type": "stream",
     "text": [
      "Training: Epoch [16/200]: 100%|██████████████████████████████| 313/313 [00:12<00:00, 25.49it/s]                                            \n",
      "Evaluate: Epoch [16/200]: 100%|██████████████████████████████| 79/79 [00:00<00:00, 197.01it/s]                                             \n"
     ]
    },
    {
     "name": "stdout",
     "output_type": "stream",
     "text": [
      "VALID \t: Summary: Loss: 1.3488 Accuracy: 0.5233\n",
      "TRAIN \t: Summary: Loss: 1.4745 Accuracy: 0.4852\n"
     ]
    },
    {
     "name": "stderr",
     "output_type": "stream",
     "text": [
      "Training: Epoch [17/200]: 100%|██████████████████████████████| 313/313 [00:12<00:00, 24.09it/s]                                            \n",
      "Evaluate: Epoch [17/200]: 100%|██████████████████████████████| 79/79 [00:00<00:00, 203.51it/s]                                             \n"
     ]
    },
    {
     "name": "stdout",
     "output_type": "stream",
     "text": [
      "VALID \t: Summary: Loss: 1.3523 Accuracy: 0.5211\n",
      "TRAIN \t: Summary: Loss: 1.4607 Accuracy: 0.4901\n"
     ]
    },
    {
     "name": "stderr",
     "output_type": "stream",
     "text": [
      "Training: Epoch [18/200]: 100%|██████████████████████████████| 313/313 [00:12<00:00, 25.44it/s]                                            \n",
      "Evaluate: Epoch [18/200]: 100%|██████████████████████████████| 79/79 [00:00<00:00, 211.01it/s]                                             \n"
     ]
    },
    {
     "name": "stdout",
     "output_type": "stream",
     "text": [
      "VALID \t: Summary: Loss: 1.3443 Accuracy: 0.5272\n",
      "TRAIN \t: Summary: Loss: 1.4596 Accuracy: 0.4903\n"
     ]
    },
    {
     "name": "stderr",
     "output_type": "stream",
     "text": [
      "Training: Epoch [19/200]: 100%|██████████████████████████████| 313/313 [00:12<00:00, 24.82it/s]                                            \n",
      "Evaluate: Epoch [19/200]: 100%|██████████████████████████████| 79/79 [00:00<00:00, 208.65it/s]                                             \n"
     ]
    },
    {
     "name": "stdout",
     "output_type": "stream",
     "text": [
      "VALID \t: Summary: Loss: 1.3304 Accuracy: 0.5235\n",
      "TRAIN \t: Summary: Loss: 1.4516 Accuracy: 0.4931\n"
     ]
    },
    {
     "name": "stderr",
     "output_type": "stream",
     "text": [
      "Training: Epoch [20/200]: 100%|██████████████████████████████| 313/313 [00:12<00:00, 25.47it/s]                                            \n",
      "Evaluate: Epoch [20/200]: 100%|██████████████████████████████| 79/79 [00:00<00:00, 210.79it/s]                                             \n"
     ]
    },
    {
     "name": "stdout",
     "output_type": "stream",
     "text": [
      "VALID \t: Summary: Loss: 1.3329 Accuracy: 0.5259\n",
      "TRAIN \t: Summary: Loss: 1.4417 Accuracy: 0.4966\n"
     ]
    },
    {
     "name": "stderr",
     "output_type": "stream",
     "text": [
      "Training: Epoch [21/200]: 100%|██████████████████████████████| 313/313 [00:12<00:00, 25.29it/s]                                            \n",
      "Evaluate: Epoch [21/200]: 100%|██████████████████████████████| 79/79 [00:00<00:00, 209.09it/s]                                             \n"
     ]
    },
    {
     "name": "stdout",
     "output_type": "stream",
     "text": [
      "VALID \t: Summary: Loss: 1.3278 Accuracy: 0.5321\n",
      "TRAIN \t: Summary: Loss: 1.4406 Accuracy: 0.4983\n"
     ]
    },
    {
     "name": "stderr",
     "output_type": "stream",
     "text": [
      "Training: Epoch [22/200]: 100%|██████████████████████████████| 313/313 [00:12<00:00, 25.62it/s]                                            \n",
      "Evaluate: Epoch [22/200]: 100%|██████████████████████████████| 79/79 [00:00<00:00, 209.57it/s]                                             \n"
     ]
    },
    {
     "name": "stdout",
     "output_type": "stream",
     "text": [
      "VALID \t: Summary: Loss: 1.3203 Accuracy: 0.5352\n",
      "TRAIN \t: Summary: Loss: 1.4332 Accuracy: 0.4985\n"
     ]
    },
    {
     "name": "stderr",
     "output_type": "stream",
     "text": [
      "Training: Epoch [23/200]: 100%|██████████████████████████████| 313/313 [00:12<00:00, 24.98it/s]                                            \n",
      "Evaluate: Epoch [23/200]: 100%|██████████████████████████████| 79/79 [00:00<00:00, 200.60it/s]                                             \n"
     ]
    },
    {
     "name": "stdout",
     "output_type": "stream",
     "text": [
      "VALID \t: Summary: Loss: 1.3264 Accuracy: 0.5283\n",
      "TRAIN \t: Summary: Loss: 1.4332 Accuracy: 0.4995\n"
     ]
    },
    {
     "name": "stderr",
     "output_type": "stream",
     "text": [
      "Training: Epoch [24/200]: 100%|██████████████████████████████| 313/313 [00:12<00:00, 24.50it/s]                                            \n",
      "Evaluate: Epoch [24/200]: 100%|██████████████████████████████| 79/79 [00:00<00:00, 168.02it/s]                                             \n"
     ]
    },
    {
     "name": "stdout",
     "output_type": "stream",
     "text": [
      "VALID \t: Summary: Loss: 1.3103 Accuracy: 0.5404\n",
      "TRAIN \t: Summary: Loss: 1.4232 Accuracy: 0.5027\n"
     ]
    },
    {
     "name": "stderr",
     "output_type": "stream",
     "text": [
      "Training: Epoch [25/200]: 100%|██████████████████████████████| 313/313 [00:13<00:00, 23.54it/s]                                            \n",
      "Evaluate: Epoch [25/200]: 100%|██████████████████████████████| 79/79 [00:00<00:00, 207.80it/s]                                             \n"
     ]
    },
    {
     "name": "stdout",
     "output_type": "stream",
     "text": [
      "VALID \t: Summary: Loss: 1.3090 Accuracy: 0.5412\n",
      "TRAIN \t: Summary: Loss: 1.4198 Accuracy: 0.5050\n"
     ]
    },
    {
     "name": "stderr",
     "output_type": "stream",
     "text": [
      "Training: Epoch [26/200]: 100%|██████████████████████████████| 313/313 [00:12<00:00, 24.93it/s]                                            \n",
      "Evaluate: Epoch [26/200]: 100%|██████████████████████████████| 79/79 [00:00<00:00, 204.54it/s]                                             \n"
     ]
    },
    {
     "name": "stdout",
     "output_type": "stream",
     "text": [
      "VALID \t: Summary: Loss: 1.3046 Accuracy: 0.5388\n",
      "TRAIN \t: Summary: Loss: 1.4155 Accuracy: 0.5051\n"
     ]
    },
    {
     "name": "stderr",
     "output_type": "stream",
     "text": [
      "Training: Epoch [27/200]: 100%|██████████████████████████████| 313/313 [00:12<00:00, 25.70it/s]                                            \n",
      "Evaluate: Epoch [27/200]: 100%|██████████████████████████████| 79/79 [00:00<00:00, 213.71it/s]                                             \n"
     ]
    },
    {
     "name": "stdout",
     "output_type": "stream",
     "text": [
      "VALID \t: Summary: Loss: 1.2977 Accuracy: 0.5439\n",
      "TRAIN \t: Summary: Loss: 1.4098 Accuracy: 0.5091\n"
     ]
    },
    {
     "name": "stderr",
     "output_type": "stream",
     "text": [
      "Training: Epoch [28/200]: 100%|██████████████████████████████| 313/313 [00:12<00:00, 25.56it/s]                                            \n",
      "Evaluate: Epoch [28/200]: 100%|██████████████████████████████| 79/79 [00:00<00:00, 219.26it/s]                                             \n"
     ]
    },
    {
     "name": "stdout",
     "output_type": "stream",
     "text": [
      "VALID \t: Summary: Loss: 1.2932 Accuracy: 0.5458\n",
      "TRAIN \t: Summary: Loss: 1.4016 Accuracy: 0.5106\n"
     ]
    },
    {
     "name": "stderr",
     "output_type": "stream",
     "text": [
      "Training: Epoch [29/200]: 100%|██████████████████████████████| 313/313 [00:12<00:00, 25.58it/s]                                            \n",
      "Evaluate: Epoch [29/200]: 100%|██████████████████████████████| 79/79 [00:00<00:00, 202.13it/s]                                             \n"
     ]
    },
    {
     "name": "stdout",
     "output_type": "stream",
     "text": [
      "VALID \t: Summary: Loss: 1.2868 Accuracy: 0.5445\n",
      "TRAIN \t: Summary: Loss: 1.4018 Accuracy: 0.5084\n"
     ]
    },
    {
     "name": "stderr",
     "output_type": "stream",
     "text": [
      "Training: Epoch [30/200]: 100%|██████████████████████████████| 313/313 [00:12<00:00, 25.65it/s]                                            \n",
      "Evaluate: Epoch [30/200]: 100%|██████████████████████████████| 79/79 [00:00<00:00, 190.42it/s]                                             \n"
     ]
    },
    {
     "name": "stdout",
     "output_type": "stream",
     "text": [
      "VALID \t: Summary: Loss: 1.2854 Accuracy: 0.5452\n",
      "TRAIN \t: Summary: Loss: 1.3997 Accuracy: 0.5120\n"
     ]
    },
    {
     "name": "stderr",
     "output_type": "stream",
     "text": [
      "Training: Epoch [31/200]: 100%|██████████████████████████████| 313/313 [00:12<00:00, 25.15it/s]                                            \n",
      "Evaluate: Epoch [31/200]: 100%|██████████████████████████████| 79/79 [00:00<00:00, 197.57it/s]                                             \n"
     ]
    },
    {
     "name": "stdout",
     "output_type": "stream",
     "text": [
      "VALID \t: Summary: Loss: 1.2766 Accuracy: 0.5536\n",
      "TRAIN \t: Summary: Loss: 1.3887 Accuracy: 0.5142\n"
     ]
    },
    {
     "name": "stderr",
     "output_type": "stream",
     "text": [
      "Training: Epoch [32/200]: 100%|██████████████████████████████| 313/313 [00:13<00:00, 23.85it/s]                                            \n",
      "Evaluate: Epoch [32/200]: 100%|██████████████████████████████| 79/79 [00:00<00:00, 208.68it/s]                                             \n"
     ]
    },
    {
     "name": "stdout",
     "output_type": "stream",
     "text": [
      "VALID \t: Summary: Loss: 1.3021 Accuracy: 0.5421\n",
      "TRAIN \t: Summary: Loss: 1.3855 Accuracy: 0.5156\n"
     ]
    },
    {
     "name": "stderr",
     "output_type": "stream",
     "text": [
      "Training: Epoch [33/200]: 100%|██████████████████████████████| 313/313 [00:14<00:00, 22.19it/s]                                            \n",
      "Evaluate: Epoch [33/200]: 100%|██████████████████████████████| 79/79 [00:00<00:00, 161.94it/s]                                             \n"
     ]
    },
    {
     "name": "stdout",
     "output_type": "stream",
     "text": [
      "VALID \t: Summary: Loss: 1.2675 Accuracy: 0.5540\n",
      "TRAIN \t: Summary: Loss: 1.3840 Accuracy: 0.5169\n"
     ]
    },
    {
     "name": "stderr",
     "output_type": "stream",
     "text": [
      "Training: Epoch [34/200]: 100%|██████████████████████████████| 313/313 [00:13<00:00, 22.80it/s]                                            \n",
      "Evaluate: Epoch [34/200]: 100%|██████████████████████████████| 79/79 [00:00<00:00, 190.11it/s]                                             \n"
     ]
    },
    {
     "name": "stdout",
     "output_type": "stream",
     "text": [
      "VALID \t: Summary: Loss: 1.2791 Accuracy: 0.5511\n",
      "TRAIN \t: Summary: Loss: 1.3763 Accuracy: 0.5215\n"
     ]
    },
    {
     "name": "stderr",
     "output_type": "stream",
     "text": [
      "Training: Epoch [35/200]: 100%|██████████████████████████████| 313/313 [00:12<00:00, 24.42it/s]                                            \n",
      "Evaluate: Epoch [35/200]: 100%|██████████████████████████████| 79/79 [00:00<00:00, 205.56it/s]                                             \n"
     ]
    },
    {
     "name": "stdout",
     "output_type": "stream",
     "text": [
      "VALID \t: Summary: Loss: 1.2690 Accuracy: 0.5574\n",
      "TRAIN \t: Summary: Loss: 1.3793 Accuracy: 0.5181\n"
     ]
    },
    {
     "name": "stderr",
     "output_type": "stream",
     "text": [
      "Training: Epoch [36/200]: 100%|██████████████████████████████| 313/313 [00:12<00:00, 24.76it/s]                                            \n",
      "Evaluate: Epoch [36/200]: 100%|██████████████████████████████| 79/79 [00:00<00:00, 204.10it/s]                                             \n"
     ]
    },
    {
     "name": "stdout",
     "output_type": "stream",
     "text": [
      "VALID \t: Summary: Loss: 1.2662 Accuracy: 0.5547\n",
      "TRAIN \t: Summary: Loss: 1.3712 Accuracy: 0.5220\n"
     ]
    },
    {
     "name": "stderr",
     "output_type": "stream",
     "text": [
      "Training: Epoch [37/200]: 100%|██████████████████████████████| 313/313 [00:12<00:00, 24.67it/s]                                            \n",
      "Evaluate: Epoch [37/200]: 100%|██████████████████████████████| 79/79 [00:00<00:00, 203.28it/s]                                             \n"
     ]
    },
    {
     "name": "stdout",
     "output_type": "stream",
     "text": [
      "VALID \t: Summary: Loss: 1.2626 Accuracy: 0.5572\n",
      "TRAIN \t: Summary: Loss: 1.3706 Accuracy: 0.5186\n"
     ]
    },
    {
     "name": "stderr",
     "output_type": "stream",
     "text": [
      "Training: Epoch [38/200]: 100%|██████████████████████████████| 313/313 [00:12<00:00, 24.27it/s]                                            \n",
      "Evaluate: Epoch [38/200]: 100%|██████████████████████████████| 79/79 [00:00<00:00, 206.72it/s]                                             \n"
     ]
    },
    {
     "name": "stdout",
     "output_type": "stream",
     "text": [
      "VALID \t: Summary: Loss: 1.2651 Accuracy: 0.5546\n",
      "TRAIN \t: Summary: Loss: 1.3686 Accuracy: 0.5236\n"
     ]
    },
    {
     "name": "stderr",
     "output_type": "stream",
     "text": [
      "Training: Epoch [39/200]: 100%|██████████████████████████████| 313/313 [00:13<00:00, 23.99it/s]                                            \n",
      "Evaluate: Epoch [39/200]: 100%|██████████████████████████████| 79/79 [00:00<00:00, 195.39it/s]                                             \n"
     ]
    },
    {
     "name": "stdout",
     "output_type": "stream",
     "text": [
      "VALID \t: Summary: Loss: 1.2664 Accuracy: 0.5546\n",
      "TRAIN \t: Summary: Loss: 1.3673 Accuracy: 0.5222\n"
     ]
    },
    {
     "name": "stderr",
     "output_type": "stream",
     "text": [
      "Training: Epoch [40/200]: 100%|██████████████████████████████| 313/313 [00:12<00:00, 25.23it/s]                                            \n",
      "Evaluate: Epoch [40/200]: 100%|██████████████████████████████| 79/79 [00:00<00:00, 215.87it/s]                                             \n"
     ]
    },
    {
     "name": "stdout",
     "output_type": "stream",
     "text": [
      "VALID \t: Summary: Loss: 1.2563 Accuracy: 0.5613\n",
      "TRAIN \t: Summary: Loss: 1.3579 Accuracy: 0.5254\n"
     ]
    },
    {
     "name": "stderr",
     "output_type": "stream",
     "text": [
      "Training: Epoch [41/200]: 100%|██████████████████████████████| 313/313 [00:13<00:00, 24.03it/s]                                            \n",
      "Evaluate: Epoch [41/200]: 100%|██████████████████████████████| 79/79 [00:00<00:00, 202.59it/s]                                             \n"
     ]
    },
    {
     "name": "stdout",
     "output_type": "stream",
     "text": [
      "VALID \t: Summary: Loss: 1.2581 Accuracy: 0.5570\n",
      "TRAIN \t: Summary: Loss: 1.3573 Accuracy: 0.5236\n"
     ]
    },
    {
     "name": "stderr",
     "output_type": "stream",
     "text": [
      "Training: Epoch [42/200]: 100%|██████████████████████████████| 313/313 [00:12<00:00, 24.09it/s]                                            \n",
      "Evaluate: Epoch [42/200]: 100%|██████████████████████████████| 79/79 [00:00<00:00, 201.58it/s]                                             \n"
     ]
    },
    {
     "name": "stdout",
     "output_type": "stream",
     "text": [
      "VALID \t: Summary: Loss: 1.2527 Accuracy: 0.5600\n",
      "TRAIN \t: Summary: Loss: 1.3578 Accuracy: 0.5279\n"
     ]
    },
    {
     "name": "stderr",
     "output_type": "stream",
     "text": [
      "Training: Epoch [43/200]: 100%|██████████████████████████████| 313/313 [00:13<00:00, 23.47it/s]                                            \n",
      "Evaluate: Epoch [43/200]: 100%|██████████████████████████████| 79/79 [00:00<00:00, 201.92it/s]                                             \n"
     ]
    },
    {
     "name": "stdout",
     "output_type": "stream",
     "text": [
      "VALID \t: Summary: Loss: 1.2524 Accuracy: 0.5571\n",
      "TRAIN \t: Summary: Loss: 1.3530 Accuracy: 0.5285\n"
     ]
    },
    {
     "name": "stderr",
     "output_type": "stream",
     "text": [
      "Training: Epoch [44/200]: 100%|██████████████████████████████| 313/313 [00:12<00:00, 25.40it/s]                                            \n",
      "Evaluate: Epoch [44/200]: 100%|██████████████████████████████| 79/79 [00:00<00:00, 211.05it/s]                                             \n"
     ]
    },
    {
     "name": "stdout",
     "output_type": "stream",
     "text": [
      "VALID \t: Summary: Loss: 1.2562 Accuracy: 0.5638\n",
      "TRAIN \t: Summary: Loss: 1.3515 Accuracy: 0.5295\n"
     ]
    },
    {
     "name": "stderr",
     "output_type": "stream",
     "text": [
      "Training: Epoch [45/200]: 100%|██████████████████████████████| 313/313 [00:12<00:00, 25.18it/s]                                            \n",
      "Evaluate: Epoch [45/200]: 100%|██████████████████████████████| 79/79 [00:00<00:00, 203.50it/s]                                             \n"
     ]
    },
    {
     "name": "stdout",
     "output_type": "stream",
     "text": [
      "VALID \t: Summary: Loss: 1.2387 Accuracy: 0.5661\n",
      "TRAIN \t: Summary: Loss: 1.3495 Accuracy: 0.5284\n"
     ]
    },
    {
     "name": "stderr",
     "output_type": "stream",
     "text": [
      "Training: Epoch [46/200]: 100%|██████████████████████████████| 313/313 [00:13<00:00, 22.86it/s]                                            \n",
      "Evaluate: Epoch [46/200]: 100%|██████████████████████████████| 79/79 [00:00<00:00, 195.03it/s]                                             \n"
     ]
    },
    {
     "name": "stdout",
     "output_type": "stream",
     "text": [
      "VALID \t: Summary: Loss: 1.2499 Accuracy: 0.5600\n",
      "TRAIN \t: Summary: Loss: 1.3400 Accuracy: 0.5333\n"
     ]
    },
    {
     "name": "stderr",
     "output_type": "stream",
     "text": [
      "Training: Epoch [47/200]: 100%|██████████████████████████████| 313/313 [00:12<00:00, 24.94it/s]                                            \n",
      "Evaluate: Epoch [47/200]: 100%|██████████████████████████████| 79/79 [00:00<00:00, 206.54it/s]                                             \n"
     ]
    },
    {
     "name": "stdout",
     "output_type": "stream",
     "text": [
      "VALID \t: Summary: Loss: 1.2383 Accuracy: 0.5659\n",
      "TRAIN \t: Summary: Loss: 1.3437 Accuracy: 0.5325\n"
     ]
    },
    {
     "name": "stderr",
     "output_type": "stream",
     "text": [
      "Training: Epoch [48/200]: 100%|██████████████████████████████| 313/313 [00:12<00:00, 25.13it/s]                                            \n",
      "Evaluate: Epoch [48/200]: 100%|██████████████████████████████| 79/79 [00:00<00:00, 184.33it/s]                                             \n"
     ]
    },
    {
     "name": "stdout",
     "output_type": "stream",
     "text": [
      "VALID \t: Summary: Loss: 1.2341 Accuracy: 0.5674\n",
      "TRAIN \t: Summary: Loss: 1.3365 Accuracy: 0.5324\n"
     ]
    },
    {
     "name": "stderr",
     "output_type": "stream",
     "text": [
      "Training: Epoch [49/200]: 100%|██████████████████████████████| 313/313 [00:12<00:00, 25.66it/s]                                            \n",
      "Evaluate: Epoch [49/200]: 100%|██████████████████████████████| 79/79 [00:00<00:00, 205.52it/s]                                             \n"
     ]
    },
    {
     "name": "stdout",
     "output_type": "stream",
     "text": [
      "VALID \t: Summary: Loss: 1.2350 Accuracy: 0.5615\n",
      "TRAIN \t: Summary: Loss: 1.3344 Accuracy: 0.5336\n"
     ]
    },
    {
     "name": "stderr",
     "output_type": "stream",
     "text": [
      "Training: Epoch [50/200]: 100%|██████████████████████████████| 313/313 [00:12<00:00, 25.29it/s]                                            \n",
      "Evaluate: Epoch [50/200]: 100%|██████████████████████████████| 79/79 [00:00<00:00, 179.73it/s]                                             \n"
     ]
    },
    {
     "name": "stdout",
     "output_type": "stream",
     "text": [
      "VALID \t: Summary: Loss: 1.2351 Accuracy: 0.5666\n",
      "TRAIN \t: Summary: Loss: 1.3351 Accuracy: 0.5344\n"
     ]
    },
    {
     "name": "stderr",
     "output_type": "stream",
     "text": [
      "Training: Epoch [51/200]: 100%|██████████████████████████████| 313/313 [00:15<00:00, 20.18it/s]                                            \n",
      "Evaluate: Epoch [51/200]: 100%|██████████████████████████████| 79/79 [00:00<00:00, 194.51it/s]                                             \n"
     ]
    },
    {
     "name": "stdout",
     "output_type": "stream",
     "text": [
      "VALID \t: Summary: Loss: 1.2158 Accuracy: 0.5759\n",
      "TRAIN \t: Summary: Loss: 1.3171 Accuracy: 0.5410\n"
     ]
    },
    {
     "name": "stderr",
     "output_type": "stream",
     "text": [
      "Training: Epoch [52/200]: 100%|██████████████████████████████| 313/313 [00:13<00:00, 23.88it/s]                                            \n",
      "Evaluate: Epoch [52/200]: 100%|██████████████████████████████| 79/79 [00:00<00:00, 199.66it/s]                                             \n"
     ]
    },
    {
     "name": "stdout",
     "output_type": "stream",
     "text": [
      "VALID \t: Summary: Loss: 1.2180 Accuracy: 0.5760\n",
      "TRAIN \t: Summary: Loss: 1.3148 Accuracy: 0.5438\n"
     ]
    },
    {
     "name": "stderr",
     "output_type": "stream",
     "text": [
      "Training: Epoch [53/200]: 100%|██████████████████████████████| 313/313 [00:12<00:00, 24.64it/s]                                            \n",
      "Evaluate: Epoch [53/200]: 100%|██████████████████████████████| 79/79 [00:00<00:00, 179.02it/s]                                             \n"
     ]
    },
    {
     "name": "stdout",
     "output_type": "stream",
     "text": [
      "VALID \t: Summary: Loss: 1.2199 Accuracy: 0.5722\n",
      "TRAIN \t: Summary: Loss: 1.3111 Accuracy: 0.5422\n"
     ]
    },
    {
     "name": "stderr",
     "output_type": "stream",
     "text": [
      "Training: Epoch [54/200]: 100%|██████████████████████████████| 313/313 [00:13<00:00, 23.39it/s]                                            \n",
      "Evaluate: Epoch [54/200]: 100%|██████████████████████████████| 79/79 [00:00<00:00, 188.31it/s]                                             \n"
     ]
    },
    {
     "name": "stdout",
     "output_type": "stream",
     "text": [
      "VALID \t: Summary: Loss: 1.2154 Accuracy: 0.5771\n",
      "TRAIN \t: Summary: Loss: 1.3116 Accuracy: 0.5437\n"
     ]
    },
    {
     "name": "stderr",
     "output_type": "stream",
     "text": [
      "Training: Epoch [55/200]: 100%|██████████████████████████████| 313/313 [00:12<00:00, 25.41it/s]                                            \n",
      "Evaluate: Epoch [55/200]: 100%|██████████████████████████████| 79/79 [00:00<00:00, 207.38it/s]                                             \n"
     ]
    },
    {
     "name": "stdout",
     "output_type": "stream",
     "text": [
      "VALID \t: Summary: Loss: 1.2056 Accuracy: 0.5790\n",
      "TRAIN \t: Summary: Loss: 1.3099 Accuracy: 0.5439\n"
     ]
    },
    {
     "name": "stderr",
     "output_type": "stream",
     "text": [
      "Training: Epoch [56/200]: 100%|██████████████████████████████| 313/313 [00:12<00:00, 25.50it/s]                                            \n",
      "Evaluate: Epoch [56/200]: 100%|██████████████████████████████| 79/79 [00:00<00:00, 207.11it/s]                                             \n"
     ]
    },
    {
     "name": "stdout",
     "output_type": "stream",
     "text": [
      "VALID \t: Summary: Loss: 1.2082 Accuracy: 0.5791\n",
      "TRAIN \t: Summary: Loss: 1.3069 Accuracy: 0.5460\n"
     ]
    },
    {
     "name": "stderr",
     "output_type": "stream",
     "text": [
      "Training: Epoch [57/200]: 100%|██████████████████████████████| 313/313 [00:12<00:00, 24.14it/s]                                            \n",
      "Evaluate: Epoch [57/200]: 100%|██████████████████████████████| 79/79 [00:00<00:00, 182.97it/s]                                             \n"
     ]
    },
    {
     "name": "stdout",
     "output_type": "stream",
     "text": [
      "VALID \t: Summary: Loss: 1.2042 Accuracy: 0.5778\n",
      "TRAIN \t: Summary: Loss: 1.3078 Accuracy: 0.5444\n"
     ]
    },
    {
     "name": "stderr",
     "output_type": "stream",
     "text": [
      "Training: Epoch [58/200]: 100%|██████████████████████████████| 313/313 [00:12<00:00, 25.67it/s]                                            \n",
      "Evaluate: Epoch [58/200]: 100%|██████████████████████████████| 79/79 [00:00<00:00, 191.55it/s]                                             \n"
     ]
    },
    {
     "name": "stdout",
     "output_type": "stream",
     "text": [
      "VALID \t: Summary: Loss: 1.2131 Accuracy: 0.5753\n",
      "TRAIN \t: Summary: Loss: 1.2979 Accuracy: 0.5470\n"
     ]
    },
    {
     "name": "stderr",
     "output_type": "stream",
     "text": [
      "Training: Epoch [59/200]: 100%|██████████████████████████████| 313/313 [00:12<00:00, 24.74it/s]                                            \n",
      "Evaluate: Epoch [59/200]: 100%|██████████████████████████████| 79/79 [00:00<00:00, 195.67it/s]                                             \n"
     ]
    },
    {
     "name": "stdout",
     "output_type": "stream",
     "text": [
      "VALID \t: Summary: Loss: 1.2143 Accuracy: 0.5755\n",
      "TRAIN \t: Summary: Loss: 1.3042 Accuracy: 0.5476\n"
     ]
    },
    {
     "name": "stderr",
     "output_type": "stream",
     "text": [
      "Training: Epoch [60/200]: 100%|██████████████████████████████| 313/313 [00:13<00:00, 22.41it/s]                                            \n",
      "Evaluate: Epoch [60/200]: 100%|██████████████████████████████| 79/79 [00:00<00:00, 169.14it/s]                                             \n"
     ]
    },
    {
     "name": "stdout",
     "output_type": "stream",
     "text": [
      "VALID \t: Summary: Loss: 1.2030 Accuracy: 0.5773\n",
      "TRAIN \t: Summary: Loss: 1.3008 Accuracy: 0.5500\n"
     ]
    },
    {
     "name": "stderr",
     "output_type": "stream",
     "text": [
      "Training: Epoch [61/200]: 100%|██████████████████████████████| 313/313 [00:14<00:00, 21.22it/s]                                            \n",
      "Evaluate: Epoch [61/200]: 100%|██████████████████████████████| 79/79 [00:00<00:00, 196.36it/s]                                             \n"
     ]
    },
    {
     "name": "stdout",
     "output_type": "stream",
     "text": [
      "VALID \t: Summary: Loss: 1.2061 Accuracy: 0.5789\n",
      "TRAIN \t: Summary: Loss: 1.3056 Accuracy: 0.5464\n"
     ]
    },
    {
     "name": "stderr",
     "output_type": "stream",
     "text": [
      "Training: Epoch [62/200]: 100%|██████████████████████████████| 313/313 [00:12<00:00, 24.53it/s]                                            \n",
      "Evaluate: Epoch [62/200]: 100%|██████████████████████████████| 79/79 [00:00<00:00, 203.43it/s]                                             \n"
     ]
    },
    {
     "name": "stdout",
     "output_type": "stream",
     "text": [
      "VALID \t: Summary: Loss: 1.2007 Accuracy: 0.5806\n",
      "TRAIN \t: Summary: Loss: 1.2994 Accuracy: 0.5478\n"
     ]
    },
    {
     "name": "stderr",
     "output_type": "stream",
     "text": [
      "Training: Epoch [63/200]: 100%|██████████████████████████████| 313/313 [00:13<00:00, 23.97it/s]                                            \n",
      "Evaluate: Epoch [63/200]: 100%|██████████████████████████████| 79/79 [00:00<00:00, 198.89it/s]                                             \n"
     ]
    },
    {
     "name": "stdout",
     "output_type": "stream",
     "text": [
      "VALID \t: Summary: Loss: 1.2031 Accuracy: 0.5782\n",
      "TRAIN \t: Summary: Loss: 1.3021 Accuracy: 0.5473\n"
     ]
    },
    {
     "name": "stderr",
     "output_type": "stream",
     "text": [
      "Training: Epoch [64/200]: 100%|██████████████████████████████| 313/313 [00:12<00:00, 24.76it/s]                                            \n",
      "Evaluate: Epoch [64/200]: 100%|██████████████████████████████| 79/79 [00:00<00:00, 198.96it/s]                                             \n"
     ]
    },
    {
     "name": "stdout",
     "output_type": "stream",
     "text": [
      "VALID \t: Summary: Loss: 1.1994 Accuracy: 0.5823\n",
      "TRAIN \t: Summary: Loss: 1.2958 Accuracy: 0.5478\n"
     ]
    },
    {
     "name": "stderr",
     "output_type": "stream",
     "text": [
      "Training: Epoch [65/200]: 100%|██████████████████████████████| 313/313 [00:13<00:00, 24.03it/s]                                            \n",
      "Evaluate: Epoch [65/200]: 100%|██████████████████████████████| 79/79 [00:00<00:00, 198.60it/s]                                             \n"
     ]
    },
    {
     "name": "stdout",
     "output_type": "stream",
     "text": [
      "VALID \t: Summary: Loss: 1.1921 Accuracy: 0.5839\n",
      "TRAIN \t: Summary: Loss: 1.2967 Accuracy: 0.5464\n"
     ]
    },
    {
     "name": "stderr",
     "output_type": "stream",
     "text": [
      "Training: Epoch [66/200]: 100%|██████████████████████████████| 313/313 [00:12<00:00, 25.06it/s]                                            \n",
      "Evaluate: Epoch [66/200]: 100%|██████████████████████████████| 79/79 [00:00<00:00, 207.11it/s]                                             \n"
     ]
    },
    {
     "name": "stdout",
     "output_type": "stream",
     "text": [
      "VALID \t: Summary: Loss: 1.2055 Accuracy: 0.5770\n",
      "TRAIN \t: Summary: Loss: 1.2951 Accuracy: 0.5496\n"
     ]
    },
    {
     "name": "stderr",
     "output_type": "stream",
     "text": [
      "Training: Epoch [67/200]: 100%|██████████████████████████████| 313/313 [00:12<00:00, 24.25it/s]                                            \n",
      "Evaluate: Epoch [67/200]: 100%|██████████████████████████████| 79/79 [00:00<00:00, 202.24it/s]                                             \n"
     ]
    },
    {
     "name": "stdout",
     "output_type": "stream",
     "text": [
      "VALID \t: Summary: Loss: 1.1988 Accuracy: 0.5809\n",
      "TRAIN \t: Summary: Loss: 1.2920 Accuracy: 0.5528\n"
     ]
    },
    {
     "name": "stderr",
     "output_type": "stream",
     "text": [
      "Training: Epoch [68/200]: 100%|██████████████████████████████| 313/313 [00:13<00:00, 23.86it/s]                                            \n",
      "Evaluate: Epoch [68/200]: 100%|██████████████████████████████| 79/79 [00:00<00:00, 201.86it/s]                                             \n"
     ]
    },
    {
     "name": "stdout",
     "output_type": "stream",
     "text": [
      "VALID \t: Summary: Loss: 1.1924 Accuracy: 0.5817\n",
      "TRAIN \t: Summary: Loss: 1.2932 Accuracy: 0.5514\n"
     ]
    },
    {
     "name": "stderr",
     "output_type": "stream",
     "text": [
      "Training: Epoch [69/200]: 100%|██████████████████████████████| 313/313 [00:12<00:00, 25.12it/s]                                            \n",
      "Evaluate: Epoch [69/200]: 100%|██████████████████████████████| 79/79 [00:00<00:00, 201.08it/s]                                             \n"
     ]
    },
    {
     "name": "stdout",
     "output_type": "stream",
     "text": [
      "VALID \t: Summary: Loss: 1.1941 Accuracy: 0.5821\n",
      "TRAIN \t: Summary: Loss: 1.2923 Accuracy: 0.5500\n"
     ]
    },
    {
     "name": "stderr",
     "output_type": "stream",
     "text": [
      "Training: Epoch [70/200]: 100%|██████████████████████████████| 313/313 [00:13<00:00, 23.52it/s]                                            \n",
      "Evaluate: Epoch [70/200]: 100%|██████████████████████████████| 79/79 [00:00<00:00, 185.79it/s]                                             \n"
     ]
    },
    {
     "name": "stdout",
     "output_type": "stream",
     "text": [
      "VALID \t: Summary: Loss: 1.1926 Accuracy: 0.5851\n",
      "TRAIN \t: Summary: Loss: 1.2886 Accuracy: 0.5514\n"
     ]
    },
    {
     "name": "stderr",
     "output_type": "stream",
     "text": [
      "Training: Epoch [71/200]: 100%|██████████████████████████████| 313/313 [00:12<00:00, 25.03it/s]                                            \n",
      "Evaluate: Epoch [71/200]: 100%|██████████████████████████████| 79/79 [00:00<00:00, 210.11it/s]                                             \n"
     ]
    },
    {
     "name": "stdout",
     "output_type": "stream",
     "text": [
      "VALID \t: Summary: Loss: 1.1898 Accuracy: 0.5831\n",
      "TRAIN \t: Summary: Loss: 1.2913 Accuracy: 0.5494\n"
     ]
    },
    {
     "name": "stderr",
     "output_type": "stream",
     "text": [
      "Training: Epoch [72/200]: 100%|██████████████████████████████| 313/313 [00:12<00:00, 24.69it/s]                                            \n",
      "Evaluate: Epoch [72/200]: 100%|██████████████████████████████| 79/79 [00:00<00:00, 204.42it/s]                                             \n"
     ]
    },
    {
     "name": "stdout",
     "output_type": "stream",
     "text": [
      "VALID \t: Summary: Loss: 1.1845 Accuracy: 0.5875\n",
      "TRAIN \t: Summary: Loss: 1.2853 Accuracy: 0.5552\n"
     ]
    },
    {
     "name": "stderr",
     "output_type": "stream",
     "text": [
      "Training: Epoch [73/200]: 100%|██████████████████████████████| 313/313 [00:12<00:00, 25.46it/s]                                            \n",
      "Evaluate: Epoch [73/200]: 100%|██████████████████████████████| 79/79 [00:00<00:00, 203.02it/s]                                             \n"
     ]
    },
    {
     "name": "stdout",
     "output_type": "stream",
     "text": [
      "VALID \t: Summary: Loss: 1.1964 Accuracy: 0.5805\n",
      "TRAIN \t: Summary: Loss: 1.2853 Accuracy: 0.5522\n"
     ]
    },
    {
     "name": "stderr",
     "output_type": "stream",
     "text": [
      "Training: Epoch [74/200]: 100%|██████████████████████████████| 313/313 [00:12<00:00, 24.13it/s]                                            \n",
      "Evaluate: Epoch [74/200]: 100%|██████████████████████████████| 79/79 [00:00<00:00, 205.49it/s]                                             \n"
     ]
    },
    {
     "name": "stdout",
     "output_type": "stream",
     "text": [
      "VALID \t: Summary: Loss: 1.1894 Accuracy: 0.5836\n",
      "TRAIN \t: Summary: Loss: 1.2826 Accuracy: 0.5539\n"
     ]
    },
    {
     "name": "stderr",
     "output_type": "stream",
     "text": [
      "Training: Epoch [75/200]: 100%|██████████████████████████████| 313/313 [00:12<00:00, 25.80it/s]                                            \n",
      "Evaluate: Epoch [75/200]: 100%|██████████████████████████████| 79/79 [00:00<00:00, 189.51it/s]                                             \n"
     ]
    },
    {
     "name": "stdout",
     "output_type": "stream",
     "text": [
      "VALID \t: Summary: Loss: 1.1897 Accuracy: 0.5839\n",
      "TRAIN \t: Summary: Loss: 1.2839 Accuracy: 0.5572\n"
     ]
    },
    {
     "name": "stderr",
     "output_type": "stream",
     "text": [
      "Training: Epoch [76/200]: 100%|██████████████████████████████| 313/313 [00:12<00:00, 24.90it/s]                                            \n",
      "Evaluate: Epoch [76/200]: 100%|██████████████████████████████| 79/79 [00:00<00:00, 208.79it/s]                                             \n"
     ]
    },
    {
     "name": "stdout",
     "output_type": "stream",
     "text": [
      "VALID \t: Summary: Loss: 1.1891 Accuracy: 0.5855\n",
      "TRAIN \t: Summary: Loss: 1.2827 Accuracy: 0.5534\n"
     ]
    },
    {
     "name": "stderr",
     "output_type": "stream",
     "text": [
      "Training: Epoch [77/200]: 100%|██████████████████████████████| 313/313 [00:12<00:00, 24.34it/s]                                            \n",
      "Evaluate: Epoch [77/200]: 100%|██████████████████████████████| 79/79 [00:00<00:00, 199.81it/s]                                             \n"
     ]
    },
    {
     "name": "stdout",
     "output_type": "stream",
     "text": [
      "VALID \t: Summary: Loss: 1.1882 Accuracy: 0.5837\n",
      "TRAIN \t: Summary: Loss: 1.2816 Accuracy: 0.5537\n"
     ]
    },
    {
     "name": "stderr",
     "output_type": "stream",
     "text": [
      "Training: Epoch [78/200]: 100%|██████████████████████████████| 313/313 [00:12<00:00, 24.22it/s]                                            \n",
      "Evaluate: Epoch [78/200]: 100%|██████████████████████████████| 79/79 [00:00<00:00, 199.90it/s]                                             \n"
     ]
    },
    {
     "name": "stdout",
     "output_type": "stream",
     "text": [
      "VALID \t: Summary: Loss: 1.1808 Accuracy: 0.5876\n",
      "TRAIN \t: Summary: Loss: 1.2832 Accuracy: 0.5554\n"
     ]
    },
    {
     "name": "stderr",
     "output_type": "stream",
     "text": [
      "Training: Epoch [79/200]: 100%|██████████████████████████████| 313/313 [00:12<00:00, 24.47it/s]                                            \n",
      "Evaluate: Epoch [79/200]: 100%|██████████████████████████████| 79/79 [00:00<00:00, 200.14it/s]                                             \n"
     ]
    },
    {
     "name": "stdout",
     "output_type": "stream",
     "text": [
      "VALID \t: Summary: Loss: 1.1798 Accuracy: 0.5839\n",
      "TRAIN \t: Summary: Loss: 1.2775 Accuracy: 0.5541\n"
     ]
    },
    {
     "name": "stderr",
     "output_type": "stream",
     "text": [
      "Training: Epoch [80/200]: 100%|██████████████████████████████| 313/313 [00:12<00:00, 24.42it/s]                                            \n",
      "Evaluate: Epoch [80/200]: 100%|██████████████████████████████| 79/79 [00:00<00:00, 202.54it/s]                                             \n"
     ]
    },
    {
     "name": "stdout",
     "output_type": "stream",
     "text": [
      "VALID \t: Summary: Loss: 1.1792 Accuracy: 0.5916\n",
      "TRAIN \t: Summary: Loss: 1.2770 Accuracy: 0.5532\n"
     ]
    },
    {
     "name": "stderr",
     "output_type": "stream",
     "text": [
      "Training: Epoch [81/200]: 100%|██████████████████████████████| 313/313 [00:12<00:00, 25.33it/s]                                            \n",
      "Evaluate: Epoch [81/200]: 100%|██████████████████████████████| 79/79 [00:00<00:00, 228.08it/s]                                             \n"
     ]
    },
    {
     "name": "stdout",
     "output_type": "stream",
     "text": [
      "VALID \t: Summary: Loss: 1.1757 Accuracy: 0.5883\n",
      "TRAIN \t: Summary: Loss: 1.2800 Accuracy: 0.5562\n"
     ]
    },
    {
     "name": "stderr",
     "output_type": "stream",
     "text": [
      "Training: Epoch [82/200]: 100%|██████████████████████████████| 313/313 [00:10<00:00, 30.48it/s]                                            \n",
      "Evaluate: Epoch [82/200]: 100%|██████████████████████████████| 79/79 [00:00<00:00, 250.50it/s]                                             \n"
     ]
    },
    {
     "name": "stdout",
     "output_type": "stream",
     "text": [
      "VALID \t: Summary: Loss: 1.1827 Accuracy: 0.5857\n",
      "TRAIN \t: Summary: Loss: 1.2790 Accuracy: 0.5550\n"
     ]
    },
    {
     "name": "stderr",
     "output_type": "stream",
     "text": [
      "Training: Epoch [83/200]: 100%|██████████████████████████████| 313/313 [00:10<00:00, 29.93it/s]                                            \n",
      "Evaluate: Epoch [83/200]: 100%|██████████████████████████████| 79/79 [00:00<00:00, 242.91it/s]                                             \n"
     ]
    },
    {
     "name": "stdout",
     "output_type": "stream",
     "text": [
      "VALID \t: Summary: Loss: 1.1866 Accuracy: 0.5853\n",
      "TRAIN \t: Summary: Loss: 1.2785 Accuracy: 0.5558\n"
     ]
    },
    {
     "name": "stderr",
     "output_type": "stream",
     "text": [
      "Training: Epoch [84/200]: 100%|██████████████████████████████| 313/313 [00:10<00:00, 30.56it/s]                                            \n",
      "Evaluate: Epoch [84/200]: 100%|██████████████████████████████| 79/79 [00:00<00:00, 256.62it/s]                                             \n"
     ]
    },
    {
     "name": "stdout",
     "output_type": "stream",
     "text": [
      "VALID \t: Summary: Loss: 1.1766 Accuracy: 0.5883\n",
      "TRAIN \t: Summary: Loss: 1.2708 Accuracy: 0.5586\n"
     ]
    },
    {
     "name": "stderr",
     "output_type": "stream",
     "text": [
      "Training: Epoch [85/200]: 100%|██████████████████████████████| 313/313 [00:10<00:00, 28.72it/s]                                            \n",
      "Evaluate: Epoch [85/200]: 100%|██████████████████████████████| 79/79 [00:00<00:00, 226.36it/s]                                             \n"
     ]
    },
    {
     "name": "stdout",
     "output_type": "stream",
     "text": [
      "VALID \t: Summary: Loss: 1.1846 Accuracy: 0.5895\n",
      "TRAIN \t: Summary: Loss: 1.2713 Accuracy: 0.5579\n"
     ]
    },
    {
     "name": "stderr",
     "output_type": "stream",
     "text": [
      "Training: Epoch [86/200]: 100%|██████████████████████████████| 313/313 [00:10<00:00, 29.30it/s]                                            \n",
      "Evaluate: Epoch [86/200]: 100%|██████████████████████████████| 79/79 [00:00<00:00, 243.28it/s]                                             \n"
     ]
    },
    {
     "name": "stdout",
     "output_type": "stream",
     "text": [
      "VALID \t: Summary: Loss: 1.1788 Accuracy: 0.5903\n",
      "TRAIN \t: Summary: Loss: 1.2711 Accuracy: 0.5599\n"
     ]
    },
    {
     "name": "stderr",
     "output_type": "stream",
     "text": [
      "Training: Epoch [87/200]: 100%|██████████████████████████████| 313/313 [00:10<00:00, 29.87it/s]                                            \n",
      "Evaluate: Epoch [87/200]: 100%|██████████████████████████████| 79/79 [00:00<00:00, 250.92it/s]                                             \n"
     ]
    },
    {
     "name": "stdout",
     "output_type": "stream",
     "text": [
      "VALID \t: Summary: Loss: 1.1820 Accuracy: 0.5885\n",
      "TRAIN \t: Summary: Loss: 1.2679 Accuracy: 0.5579\n"
     ]
    },
    {
     "name": "stderr",
     "output_type": "stream",
     "text": [
      "Training: Epoch [88/200]: 100%|██████████████████████████████| 313/313 [00:10<00:00, 30.27it/s]                                            \n",
      "Evaluate: Epoch [88/200]: 100%|██████████████████████████████| 79/79 [00:00<00:00, 244.44it/s]                                             \n"
     ]
    },
    {
     "name": "stdout",
     "output_type": "stream",
     "text": [
      "VALID \t: Summary: Loss: 1.1778 Accuracy: 0.5909\n",
      "TRAIN \t: Summary: Loss: 1.2653 Accuracy: 0.5587\n"
     ]
    },
    {
     "name": "stderr",
     "output_type": "stream",
     "text": [
      "Training: Epoch [89/200]: 100%|██████████████████████████████| 313/313 [00:10<00:00, 30.48it/s]                                            \n",
      "Evaluate: Epoch [89/200]: 100%|██████████████████████████████| 79/79 [00:00<00:00, 234.90it/s]                                             \n"
     ]
    },
    {
     "name": "stdout",
     "output_type": "stream",
     "text": [
      "VALID \t: Summary: Loss: 1.1803 Accuracy: 0.5902\n",
      "TRAIN \t: Summary: Loss: 1.2704 Accuracy: 0.5556\n"
     ]
    },
    {
     "name": "stderr",
     "output_type": "stream",
     "text": [
      "Training: Epoch [90/200]: 100%|██████████████████████████████| 313/313 [00:10<00:00, 30.38it/s]                                            \n",
      "Evaluate: Epoch [90/200]: 100%|██████████████████████████████| 79/79 [00:00<00:00, 256.91it/s]                                             \n"
     ]
    },
    {
     "name": "stdout",
     "output_type": "stream",
     "text": [
      "VALID \t: Summary: Loss: 1.1786 Accuracy: 0.5904\n",
      "TRAIN \t: Summary: Loss: 1.2670 Accuracy: 0.5592\n"
     ]
    },
    {
     "name": "stderr",
     "output_type": "stream",
     "text": [
      "Training: Epoch [91/200]: 100%|██████████████████████████████| 313/313 [00:10<00:00, 30.72it/s]                                            \n",
      "Evaluate: Epoch [91/200]: 100%|██████████████████████████████| 79/79 [00:00<00:00, 238.53it/s]                                             \n"
     ]
    },
    {
     "name": "stdout",
     "output_type": "stream",
     "text": [
      "VALID \t: Summary: Loss: 1.1796 Accuracy: 0.5880\n",
      "TRAIN \t: Summary: Loss: 1.2689 Accuracy: 0.5607\n"
     ]
    },
    {
     "name": "stderr",
     "output_type": "stream",
     "text": [
      "Training: Epoch [92/200]: 100%|██████████████████████████████| 313/313 [00:10<00:00, 30.54it/s]                                            \n",
      "Evaluate: Epoch [92/200]: 100%|██████████████████████████████| 79/79 [00:00<00:00, 262.39it/s]                                             \n"
     ]
    },
    {
     "name": "stdout",
     "output_type": "stream",
     "text": [
      "VALID \t: Summary: Loss: 1.1721 Accuracy: 0.5908\n",
      "TRAIN \t: Summary: Loss: 1.2635 Accuracy: 0.5596\n"
     ]
    },
    {
     "name": "stderr",
     "output_type": "stream",
     "text": [
      "Training: Epoch [93/200]: 100%|██████████████████████████████| 313/313 [00:10<00:00, 31.27it/s]                                            \n",
      "Evaluate: Epoch [93/200]: 100%|██████████████████████████████| 79/79 [00:00<00:00, 265.70it/s]                                             \n"
     ]
    },
    {
     "name": "stdout",
     "output_type": "stream",
     "text": [
      "VALID \t: Summary: Loss: 1.1750 Accuracy: 0.5914\n",
      "TRAIN \t: Summary: Loss: 1.2668 Accuracy: 0.5586\n"
     ]
    },
    {
     "name": "stderr",
     "output_type": "stream",
     "text": [
      "Training: Epoch [94/200]: 100%|██████████████████████████████| 313/313 [00:09<00:00, 31.36it/s]                                            \n",
      "Evaluate: Epoch [94/200]: 100%|██████████████████████████████| 79/79 [00:00<00:00, 265.20it/s]                                             \n"
     ]
    },
    {
     "name": "stdout",
     "output_type": "stream",
     "text": [
      "VALID \t: Summary: Loss: 1.1727 Accuracy: 0.5940\n",
      "TRAIN \t: Summary: Loss: 1.2672 Accuracy: 0.5608\n"
     ]
    },
    {
     "name": "stderr",
     "output_type": "stream",
     "text": [
      "Training: Epoch [95/200]: 100%|██████████████████████████████| 313/313 [00:10<00:00, 30.78it/s]                                            \n",
      "Evaluate: Epoch [95/200]: 100%|██████████████████████████████| 79/79 [00:00<00:00, 237.13it/s]                                             \n"
     ]
    },
    {
     "name": "stdout",
     "output_type": "stream",
     "text": [
      "VALID \t: Summary: Loss: 1.1715 Accuracy: 0.5928\n",
      "TRAIN \t: Summary: Loss: 1.2626 Accuracy: 0.5599\n"
     ]
    },
    {
     "name": "stderr",
     "output_type": "stream",
     "text": [
      "Training: Epoch [96/200]: 100%|██████████████████████████████| 313/313 [00:10<00:00, 29.97it/s]                                            \n",
      "Evaluate: Epoch [96/200]: 100%|██████████████████████████████| 79/79 [00:00<00:00, 240.94it/s]                                             \n"
     ]
    },
    {
     "name": "stdout",
     "output_type": "stream",
     "text": [
      "VALID \t: Summary: Loss: 1.1731 Accuracy: 0.5940\n",
      "TRAIN \t: Summary: Loss: 1.2627 Accuracy: 0.5629\n"
     ]
    },
    {
     "name": "stderr",
     "output_type": "stream",
     "text": [
      "Training: Epoch [97/200]: 100%|██████████████████████████████| 313/313 [00:10<00:00, 30.80it/s]                                            \n",
      "Evaluate: Epoch [97/200]: 100%|██████████████████████████████| 79/79 [00:00<00:00, 262.24it/s]                                             \n"
     ]
    },
    {
     "name": "stdout",
     "output_type": "stream",
     "text": [
      "VALID \t: Summary: Loss: 1.1710 Accuracy: 0.5903\n",
      "TRAIN \t: Summary: Loss: 1.2606 Accuracy: 0.5642\n"
     ]
    },
    {
     "name": "stderr",
     "output_type": "stream",
     "text": [
      "Training: Epoch [98/200]: 100%|██████████████████████████████| 313/313 [00:10<00:00, 30.47it/s]                                            \n",
      "Evaluate: Epoch [98/200]: 100%|██████████████████████████████| 79/79 [00:00<00:00, 248.54it/s]                                             \n"
     ]
    },
    {
     "name": "stdout",
     "output_type": "stream",
     "text": [
      "VALID \t: Summary: Loss: 1.1695 Accuracy: 0.5921\n",
      "TRAIN \t: Summary: Loss: 1.2614 Accuracy: 0.5620\n"
     ]
    },
    {
     "name": "stderr",
     "output_type": "stream",
     "text": [
      "Training: Epoch [99/200]: 100%|██████████████████████████████| 313/313 [00:10<00:00, 30.83it/s]                                            \n",
      "Evaluate: Epoch [99/200]: 100%|██████████████████████████████| 79/79 [00:00<00:00, 248.89it/s]                                             \n"
     ]
    },
    {
     "name": "stdout",
     "output_type": "stream",
     "text": [
      "VALID \t: Summary: Loss: 1.1680 Accuracy: 0.5902\n",
      "TRAIN \t: Summary: Loss: 1.2626 Accuracy: 0.5630\n"
     ]
    },
    {
     "name": "stderr",
     "output_type": "stream",
     "text": [
      "Training: Epoch [100/200]: 100%|██████████████████████████████| 313/313 [00:10<00:00, 30.57it/s]                                           \n",
      "Evaluate: Epoch [100/200]: 100%|██████████████████████████████| 79/79 [00:00<00:00, 226.30it/s]                                            \n"
     ]
    },
    {
     "name": "stdout",
     "output_type": "stream",
     "text": [
      "VALID \t: Summary: Loss: 1.1617 Accuracy: 0.5947\n",
      "TRAIN \t: Summary: Loss: 1.2625 Accuracy: 0.5616\n"
     ]
    },
    {
     "name": "stderr",
     "output_type": "stream",
     "text": [
      "Training: Epoch [101/200]: 100%|██████████████████████████████| 313/313 [00:10<00:00, 29.93it/s]                                           \n",
      "Evaluate: Epoch [101/200]: 100%|██████████████████████████████| 79/79 [00:00<00:00, 250.34it/s]                                            \n"
     ]
    },
    {
     "name": "stdout",
     "output_type": "stream",
     "text": [
      "VALID \t: Summary: Loss: 1.1579 Accuracy: 0.5956\n",
      "TRAIN \t: Summary: Loss: 1.2532 Accuracy: 0.5639\n"
     ]
    },
    {
     "name": "stderr",
     "output_type": "stream",
     "text": [
      "Training: Epoch [102/200]: 100%|██████████████████████████████| 313/313 [00:10<00:00, 29.85it/s]                                           \n",
      "Evaluate: Epoch [102/200]: 100%|██████████████████████████████| 79/79 [00:00<00:00, 187.15it/s]                                            \n"
     ]
    },
    {
     "name": "stdout",
     "output_type": "stream",
     "text": [
      "VALID \t: Summary: Loss: 1.1576 Accuracy: 0.5977\n",
      "TRAIN \t: Summary: Loss: 1.2494 Accuracy: 0.5657\n"
     ]
    },
    {
     "name": "stderr",
     "output_type": "stream",
     "text": [
      "Training: Epoch [103/200]: 100%|██████████████████████████████| 313/313 [00:10<00:00, 30.40it/s]                                           \n",
      "Evaluate: Epoch [103/200]: 100%|██████████████████████████████| 79/79 [00:00<00:00, 255.86it/s]                                            \n"
     ]
    },
    {
     "name": "stdout",
     "output_type": "stream",
     "text": [
      "VALID \t: Summary: Loss: 1.1585 Accuracy: 0.5979\n",
      "TRAIN \t: Summary: Loss: 1.2507 Accuracy: 0.5676\n"
     ]
    },
    {
     "name": "stderr",
     "output_type": "stream",
     "text": [
      "Training: Epoch [104/200]: 100%|██████████████████████████████| 313/313 [00:10<00:00, 29.38it/s]                                           \n",
      "Evaluate: Epoch [104/200]: 100%|██████████████████████████████| 79/79 [00:00<00:00, 254.60it/s]                                            \n"
     ]
    },
    {
     "name": "stdout",
     "output_type": "stream",
     "text": [
      "VALID \t: Summary: Loss: 1.1576 Accuracy: 0.5971\n",
      "TRAIN \t: Summary: Loss: 1.2468 Accuracy: 0.5687\n"
     ]
    },
    {
     "name": "stderr",
     "output_type": "stream",
     "text": [
      "Training: Epoch [105/200]: 100%|██████████████████████████████| 313/313 [00:10<00:00, 30.88it/s]                                           \n",
      "Evaluate: Epoch [105/200]: 100%|██████████████████████████████| 79/79 [00:00<00:00, 263.56it/s]                                            \n"
     ]
    },
    {
     "name": "stdout",
     "output_type": "stream",
     "text": [
      "VALID \t: Summary: Loss: 1.1615 Accuracy: 0.5955\n",
      "TRAIN \t: Summary: Loss: 1.2501 Accuracy: 0.5639\n"
     ]
    },
    {
     "name": "stderr",
     "output_type": "stream",
     "text": [
      "Training: Epoch [106/200]: 100%|██████████████████████████████| 313/313 [00:10<00:00, 30.76it/s]                                           \n",
      "Evaluate: Epoch [106/200]: 100%|██████████████████████████████| 79/79 [00:00<00:00, 251.91it/s]                                            \n"
     ]
    },
    {
     "name": "stdout",
     "output_type": "stream",
     "text": [
      "VALID \t: Summary: Loss: 1.1578 Accuracy: 0.5983\n",
      "TRAIN \t: Summary: Loss: 1.2449 Accuracy: 0.5673\n"
     ]
    },
    {
     "name": "stderr",
     "output_type": "stream",
     "text": [
      "Training: Epoch [107/200]: 100%|██████████████████████████████| 313/313 [00:10<00:00, 29.31it/s]                                           \n",
      "Evaluate: Epoch [107/200]: 100%|██████████████████████████████| 79/79 [00:00<00:00, 238.77it/s]                                            \n"
     ]
    },
    {
     "name": "stdout",
     "output_type": "stream",
     "text": [
      "VALID \t: Summary: Loss: 1.1572 Accuracy: 0.5968\n",
      "TRAIN \t: Summary: Loss: 1.2420 Accuracy: 0.5695\n"
     ]
    },
    {
     "name": "stderr",
     "output_type": "stream",
     "text": [
      "Training: Epoch [108/200]: 100%|██████████████████████████████| 313/313 [00:10<00:00, 30.30it/s]                                           \n",
      "Evaluate: Epoch [108/200]: 100%|██████████████████████████████| 79/79 [00:00<00:00, 261.10it/s]                                            \n"
     ]
    },
    {
     "name": "stdout",
     "output_type": "stream",
     "text": [
      "VALID \t: Summary: Loss: 1.1576 Accuracy: 0.5973\n",
      "TRAIN \t: Summary: Loss: 1.2465 Accuracy: 0.5665\n"
     ]
    },
    {
     "name": "stderr",
     "output_type": "stream",
     "text": [
      "Training: Epoch [109/200]: 100%|██████████████████████████████| 313/313 [00:10<00:00, 28.71it/s]                                           \n",
      "Evaluate: Epoch [109/200]: 100%|██████████████████████████████| 79/79 [00:00<00:00, 195.77it/s]                                            \n"
     ]
    },
    {
     "name": "stdout",
     "output_type": "stream",
     "text": [
      "VALID \t: Summary: Loss: 1.1604 Accuracy: 0.5939\n",
      "TRAIN \t: Summary: Loss: 1.2452 Accuracy: 0.5693\n"
     ]
    },
    {
     "name": "stderr",
     "output_type": "stream",
     "text": [
      "Training: Epoch [110/200]: 100%|██████████████████████████████| 313/313 [00:12<00:00, 24.37it/s]                                           \n",
      "Evaluate: Epoch [110/200]: 100%|██████████████████████████████| 79/79 [00:00<00:00, 188.51it/s]                                            \n"
     ]
    },
    {
     "name": "stdout",
     "output_type": "stream",
     "text": [
      "VALID \t: Summary: Loss: 1.1542 Accuracy: 0.5985\n",
      "TRAIN \t: Summary: Loss: 1.2447 Accuracy: 0.5672\n"
     ]
    },
    {
     "name": "stderr",
     "output_type": "stream",
     "text": [
      "Training: Epoch [111/200]: 100%|██████████████████████████████| 313/313 [00:13<00:00, 23.78it/s]                                           \n",
      "Evaluate: Epoch [111/200]: 100%|██████████████████████████████| 79/79 [00:00<00:00, 173.80it/s]                                            \n"
     ]
    },
    {
     "name": "stdout",
     "output_type": "stream",
     "text": [
      "VALID \t: Summary: Loss: 1.1554 Accuracy: 0.5956\n",
      "TRAIN \t: Summary: Loss: 1.2486 Accuracy: 0.5672\n"
     ]
    },
    {
     "name": "stderr",
     "output_type": "stream",
     "text": [
      "Training: Epoch [112/200]: 100%|██████████████████████████████| 313/313 [00:10<00:00, 30.25it/s]                                           \n",
      "Evaluate: Epoch [112/200]: 100%|██████████████████████████████| 79/79 [00:00<00:00, 242.24it/s]                                            \n"
     ]
    },
    {
     "name": "stdout",
     "output_type": "stream",
     "text": [
      "VALID \t: Summary: Loss: 1.1529 Accuracy: 0.5964\n",
      "TRAIN \t: Summary: Loss: 1.2442 Accuracy: 0.5685\n"
     ]
    },
    {
     "name": "stderr",
     "output_type": "stream",
     "text": [
      "Training: Epoch [113/200]: 100%|██████████████████████████████| 313/313 [00:09<00:00, 31.40it/s]                                           \n",
      "Evaluate: Epoch [113/200]: 100%|██████████████████████████████| 79/79 [00:00<00:00, 263.35it/s]                                            \n"
     ]
    },
    {
     "name": "stdout",
     "output_type": "stream",
     "text": [
      "VALID \t: Summary: Loss: 1.1590 Accuracy: 0.5954\n",
      "TRAIN \t: Summary: Loss: 1.2427 Accuracy: 0.5696\n"
     ]
    },
    {
     "name": "stderr",
     "output_type": "stream",
     "text": [
      "Training: Epoch [114/200]: 100%|██████████████████████████████| 313/313 [00:10<00:00, 30.31it/s]                                           \n",
      "Evaluate: Epoch [114/200]: 100%|██████████████████████████████| 79/79 [00:00<00:00, 265.51it/s]                                            \n"
     ]
    },
    {
     "name": "stdout",
     "output_type": "stream",
     "text": [
      "VALID \t: Summary: Loss: 1.1577 Accuracy: 0.5948\n",
      "TRAIN \t: Summary: Loss: 1.2437 Accuracy: 0.5695\n"
     ]
    },
    {
     "name": "stderr",
     "output_type": "stream",
     "text": [
      "Training: Epoch [115/200]: 100%|██████████████████████████████| 313/313 [00:10<00:00, 30.70it/s]                                           \n",
      "Evaluate: Epoch [115/200]: 100%|██████████████████████████████| 79/79 [00:00<00:00, 252.07it/s]                                            \n"
     ]
    },
    {
     "name": "stdout",
     "output_type": "stream",
     "text": [
      "VALID \t: Summary: Loss: 1.1560 Accuracy: 0.5972\n",
      "TRAIN \t: Summary: Loss: 1.2415 Accuracy: 0.5710\n"
     ]
    },
    {
     "name": "stderr",
     "output_type": "stream",
     "text": [
      "Training: Epoch [116/200]: 100%|██████████████████████████████| 313/313 [00:10<00:00, 30.88it/s]                                           \n",
      "Evaluate: Epoch [116/200]: 100%|██████████████████████████████| 79/79 [00:00<00:00, 247.08it/s]                                            \n"
     ]
    },
    {
     "name": "stdout",
     "output_type": "stream",
     "text": [
      "VALID \t: Summary: Loss: 1.1534 Accuracy: 0.6002\n",
      "TRAIN \t: Summary: Loss: 1.2418 Accuracy: 0.5687\n"
     ]
    },
    {
     "name": "stderr",
     "output_type": "stream",
     "text": [
      "Training: Epoch [117/200]: 100%|██████████████████████████████| 313/313 [00:10<00:00, 30.50it/s]                                           \n",
      "Evaluate: Epoch [117/200]: 100%|██████████████████████████████| 79/79 [00:00<00:00, 250.41it/s]                                            \n"
     ]
    },
    {
     "name": "stdout",
     "output_type": "stream",
     "text": [
      "VALID \t: Summary: Loss: 1.1524 Accuracy: 0.5973\n",
      "TRAIN \t: Summary: Loss: 1.2412 Accuracy: 0.5677\n"
     ]
    },
    {
     "name": "stderr",
     "output_type": "stream",
     "text": [
      "Training: Epoch [118/200]: 100%|██████████████████████████████| 313/313 [00:10<00:00, 30.45it/s]                                           \n",
      "Evaluate: Epoch [118/200]: 100%|██████████████████████████████| 79/79 [00:00<00:00, 194.81it/s]                                            \n"
     ]
    },
    {
     "name": "stdout",
     "output_type": "stream",
     "text": [
      "VALID \t: Summary: Loss: 1.1534 Accuracy: 0.5951\n",
      "TRAIN \t: Summary: Loss: 1.2435 Accuracy: 0.5691\n"
     ]
    },
    {
     "name": "stderr",
     "output_type": "stream",
     "text": [
      "Training: Epoch [119/200]: 100%|██████████████████████████████| 313/313 [00:13<00:00, 23.39it/s]                                           \n",
      "Evaluate: Epoch [119/200]: 100%|██████████████████████████████| 79/79 [00:00<00:00, 153.82it/s]                                            \n"
     ]
    },
    {
     "name": "stdout",
     "output_type": "stream",
     "text": [
      "VALID \t: Summary: Loss: 1.1534 Accuracy: 0.5968\n",
      "TRAIN \t: Summary: Loss: 1.2394 Accuracy: 0.5690\n"
     ]
    },
    {
     "name": "stderr",
     "output_type": "stream",
     "text": [
      "Training: Epoch [120/200]: 100%|██████████████████████████████| 313/313 [00:13<00:00, 23.16it/s]                                           \n",
      "Evaluate: Epoch [120/200]: 100%|██████████████████████████████| 79/79 [00:00<00:00, 192.36it/s]                                            \n"
     ]
    },
    {
     "name": "stdout",
     "output_type": "stream",
     "text": [
      "VALID \t: Summary: Loss: 1.1495 Accuracy: 0.6002\n",
      "TRAIN \t: Summary: Loss: 1.2433 Accuracy: 0.5692\n"
     ]
    },
    {
     "name": "stderr",
     "output_type": "stream",
     "text": [
      "Training: Epoch [121/200]: 100%|██████████████████████████████| 313/313 [00:13<00:00, 23.21it/s]                                           \n",
      "Evaluate: Epoch [121/200]: 100%|██████████████████████████████| 79/79 [00:00<00:00, 199.97it/s]                                            \n"
     ]
    },
    {
     "name": "stdout",
     "output_type": "stream",
     "text": [
      "VALID \t: Summary: Loss: 1.1537 Accuracy: 0.5981\n",
      "TRAIN \t: Summary: Loss: 1.2430 Accuracy: 0.5704\n"
     ]
    },
    {
     "name": "stderr",
     "output_type": "stream",
     "text": [
      "Training: Epoch [122/200]: 100%|██████████████████████████████| 313/313 [00:14<00:00, 21.78it/s]                                           \n",
      "Evaluate: Epoch [122/200]: 100%|██████████████████████████████| 79/79 [00:00<00:00, 198.37it/s]                                            \n"
     ]
    },
    {
     "name": "stdout",
     "output_type": "stream",
     "text": [
      "VALID \t: Summary: Loss: 1.1516 Accuracy: 0.6018\n",
      "TRAIN \t: Summary: Loss: 1.2332 Accuracy: 0.5729\n"
     ]
    },
    {
     "name": "stderr",
     "output_type": "stream",
     "text": [
      "Training: Epoch [123/200]: 100%|██████████████████████████████| 313/313 [00:13<00:00, 22.47it/s]                                           \n",
      "Evaluate: Epoch [123/200]: 100%|██████████████████████████████| 79/79 [00:00<00:00, 179.31it/s]                                            \n"
     ]
    },
    {
     "name": "stdout",
     "output_type": "stream",
     "text": [
      "VALID \t: Summary: Loss: 1.1502 Accuracy: 0.6006\n",
      "TRAIN \t: Summary: Loss: 1.2364 Accuracy: 0.5701\n"
     ]
    },
    {
     "name": "stderr",
     "output_type": "stream",
     "text": [
      "Training: Epoch [124/200]: 100%|██████████████████████████████| 313/313 [00:13<00:00, 22.87it/s]                                           \n",
      "Evaluate: Epoch [124/200]: 100%|██████████████████████████████| 79/79 [00:00<00:00, 191.38it/s]                                            \n"
     ]
    },
    {
     "name": "stdout",
     "output_type": "stream",
     "text": [
      "VALID \t: Summary: Loss: 1.1523 Accuracy: 0.6011\n",
      "TRAIN \t: Summary: Loss: 1.2303 Accuracy: 0.5717\n"
     ]
    },
    {
     "name": "stderr",
     "output_type": "stream",
     "text": [
      "Training: Epoch [125/200]: 100%|██████████████████████████████| 313/313 [00:14<00:00, 21.61it/s]                                           \n",
      "Evaluate: Epoch [125/200]: 100%|██████████████████████████████| 79/79 [00:00<00:00, 172.66it/s]                                            \n"
     ]
    },
    {
     "name": "stdout",
     "output_type": "stream",
     "text": [
      "VALID \t: Summary: Loss: 1.1502 Accuracy: 0.5990\n",
      "TRAIN \t: Summary: Loss: 1.2388 Accuracy: 0.5704\n"
     ]
    },
    {
     "name": "stderr",
     "output_type": "stream",
     "text": [
      "Training: Epoch [126/200]: 100%|██████████████████████████████| 313/313 [00:13<00:00, 22.86it/s]                                           \n",
      "Evaluate: Epoch [126/200]: 100%|██████████████████████████████| 79/79 [00:00<00:00, 197.03it/s]                                            \n"
     ]
    },
    {
     "name": "stdout",
     "output_type": "stream",
     "text": [
      "VALID \t: Summary: Loss: 1.1478 Accuracy: 0.6024\n",
      "TRAIN \t: Summary: Loss: 1.2332 Accuracy: 0.5712\n"
     ]
    },
    {
     "name": "stderr",
     "output_type": "stream",
     "text": [
      "Training: Epoch [127/200]: 100%|██████████████████████████████| 313/313 [00:13<00:00, 23.47it/s]                                           \n",
      "Evaluate: Epoch [127/200]: 100%|██████████████████████████████| 79/79 [00:00<00:00, 186.71it/s]                                            \n"
     ]
    },
    {
     "name": "stdout",
     "output_type": "stream",
     "text": [
      "VALID \t: Summary: Loss: 1.1516 Accuracy: 0.5992\n",
      "TRAIN \t: Summary: Loss: 1.2359 Accuracy: 0.5717\n"
     ]
    },
    {
     "name": "stderr",
     "output_type": "stream",
     "text": [
      "Training: Epoch [128/200]: 100%|██████████████████████████████| 313/313 [00:13<00:00, 22.65it/s]                                           \n",
      "Evaluate: Epoch [128/200]: 100%|██████████████████████████████| 79/79 [00:00<00:00, 176.88it/s]                                            \n"
     ]
    },
    {
     "name": "stdout",
     "output_type": "stream",
     "text": [
      "VALID \t: Summary: Loss: 1.1470 Accuracy: 0.5994\n",
      "TRAIN \t: Summary: Loss: 1.2332 Accuracy: 0.5713\n"
     ]
    },
    {
     "name": "stderr",
     "output_type": "stream",
     "text": [
      "Training: Epoch [129/200]: 100%|██████████████████████████████| 313/313 [00:13<00:00, 22.57it/s]                                           \n",
      "Evaluate: Epoch [129/200]: 100%|██████████████████████████████| 79/79 [00:00<00:00, 185.96it/s]                                            \n"
     ]
    },
    {
     "name": "stdout",
     "output_type": "stream",
     "text": [
      "VALID \t: Summary: Loss: 1.1531 Accuracy: 0.5983\n",
      "TRAIN \t: Summary: Loss: 1.2358 Accuracy: 0.5719\n"
     ]
    },
    {
     "name": "stderr",
     "output_type": "stream",
     "text": [
      "Training: Epoch [130/200]: 100%|██████████████████████████████| 313/313 [00:13<00:00, 23.24it/s]                                           \n",
      "Evaluate: Epoch [130/200]: 100%|██████████████████████████████| 79/79 [00:00<00:00, 200.15it/s]                                            \n"
     ]
    },
    {
     "name": "stdout",
     "output_type": "stream",
     "text": [
      "VALID \t: Summary: Loss: 1.1469 Accuracy: 0.5994\n",
      "TRAIN \t: Summary: Loss: 1.2399 Accuracy: 0.5698\n"
     ]
    },
    {
     "name": "stderr",
     "output_type": "stream",
     "text": [
      "Training: Epoch [131/200]: 100%|██████████████████████████████| 313/313 [00:14<00:00, 21.34it/s]                                           \n",
      "Evaluate: Epoch [131/200]: 100%|██████████████████████████████| 79/79 [00:00<00:00, 195.61it/s]                                            \n"
     ]
    },
    {
     "name": "stdout",
     "output_type": "stream",
     "text": [
      "VALID \t: Summary: Loss: 1.1468 Accuracy: 0.6008\n",
      "TRAIN \t: Summary: Loss: 1.2380 Accuracy: 0.5711\n"
     ]
    },
    {
     "name": "stderr",
     "output_type": "stream",
     "text": [
      "Training: Epoch [132/200]: 100%|██████████████████████████████| 313/313 [00:13<00:00, 22.45it/s]                                           \n",
      "Evaluate: Epoch [132/200]: 100%|██████████████████████████████| 79/79 [00:00<00:00, 174.57it/s]                                            \n"
     ]
    },
    {
     "name": "stdout",
     "output_type": "stream",
     "text": [
      "VALID \t: Summary: Loss: 1.1445 Accuracy: 0.6030\n",
      "TRAIN \t: Summary: Loss: 1.2338 Accuracy: 0.5729\n"
     ]
    },
    {
     "name": "stderr",
     "output_type": "stream",
     "text": [
      "Training: Epoch [133/200]: 100%|██████████████████████████████| 313/313 [00:14<00:00, 22.23it/s]                                           \n",
      "Evaluate: Epoch [133/200]: 100%|██████████████████████████████| 79/79 [00:00<00:00, 185.78it/s]                                            \n"
     ]
    },
    {
     "name": "stdout",
     "output_type": "stream",
     "text": [
      "VALID \t: Summary: Loss: 1.1446 Accuracy: 0.6009\n",
      "TRAIN \t: Summary: Loss: 1.2316 Accuracy: 0.5757\n"
     ]
    },
    {
     "name": "stderr",
     "output_type": "stream",
     "text": [
      "Training: Epoch [134/200]: 100%|██████████████████████████████| 313/313 [00:13<00:00, 22.91it/s]                                           \n",
      "Evaluate: Epoch [134/200]: 100%|██████████████████████████████| 79/79 [00:00<00:00, 166.77it/s]                                            \n"
     ]
    },
    {
     "name": "stdout",
     "output_type": "stream",
     "text": [
      "VALID \t: Summary: Loss: 1.1470 Accuracy: 0.6026\n",
      "TRAIN \t: Summary: Loss: 1.2299 Accuracy: 0.5743\n"
     ]
    },
    {
     "name": "stderr",
     "output_type": "stream",
     "text": [
      "Training: Epoch [135/200]: 100%|██████████████████████████████| 313/313 [00:13<00:00, 22.88it/s]                                           \n",
      "Evaluate: Epoch [135/200]: 100%|██████████████████████████████| 79/79 [00:00<00:00, 176.30it/s]                                            \n"
     ]
    },
    {
     "name": "stdout",
     "output_type": "stream",
     "text": [
      "VALID \t: Summary: Loss: 1.1473 Accuracy: 0.5972\n",
      "TRAIN \t: Summary: Loss: 1.2298 Accuracy: 0.5708\n"
     ]
    },
    {
     "name": "stderr",
     "output_type": "stream",
     "text": [
      "Training: Epoch [136/200]: 100%|██████████████████████████████| 313/313 [00:13<00:00, 22.55it/s]                                           \n",
      "Evaluate: Epoch [136/200]: 100%|██████████████████████████████| 79/79 [00:00<00:00, 176.77it/s]                                            \n"
     ]
    },
    {
     "name": "stdout",
     "output_type": "stream",
     "text": [
      "VALID \t: Summary: Loss: 1.1490 Accuracy: 0.6020\n",
      "TRAIN \t: Summary: Loss: 1.2327 Accuracy: 0.5727\n"
     ]
    },
    {
     "name": "stderr",
     "output_type": "stream",
     "text": [
      "Training: Epoch [137/200]: 100%|██████████████████████████████| 313/313 [00:13<00:00, 22.89it/s]                                           \n",
      "Evaluate: Epoch [137/200]: 100%|██████████████████████████████| 79/79 [00:00<00:00, 182.80it/s]                                            \n"
     ]
    },
    {
     "name": "stdout",
     "output_type": "stream",
     "text": [
      "VALID \t: Summary: Loss: 1.1515 Accuracy: 0.6040\n",
      "TRAIN \t: Summary: Loss: 1.2303 Accuracy: 0.5738\n"
     ]
    },
    {
     "name": "stderr",
     "output_type": "stream",
     "text": [
      "Training: Epoch [138/200]: 100%|██████████████████████████████| 313/313 [00:13<00:00, 22.81it/s]                                           \n",
      "Evaluate: Epoch [138/200]: 100%|██████████████████████████████| 79/79 [00:00<00:00, 181.93it/s]                                            \n"
     ]
    },
    {
     "name": "stdout",
     "output_type": "stream",
     "text": [
      "VALID \t: Summary: Loss: 1.1438 Accuracy: 0.6011\n",
      "TRAIN \t: Summary: Loss: 1.2290 Accuracy: 0.5746\n"
     ]
    },
    {
     "name": "stderr",
     "output_type": "stream",
     "text": [
      "Training: Epoch [139/200]: 100%|██████████████████████████████| 313/313 [00:14<00:00, 22.10it/s]                                           \n",
      "Evaluate: Epoch [139/200]: 100%|██████████████████████████████| 79/79 [00:00<00:00, 181.81it/s]                                            \n"
     ]
    },
    {
     "name": "stdout",
     "output_type": "stream",
     "text": [
      "VALID \t: Summary: Loss: 1.1470 Accuracy: 0.6021\n",
      "TRAIN \t: Summary: Loss: 1.2348 Accuracy: 0.5734\n"
     ]
    },
    {
     "name": "stderr",
     "output_type": "stream",
     "text": [
      "Training: Epoch [140/200]: 100%|██████████████████████████████| 313/313 [00:14<00:00, 22.04it/s]                                           \n",
      "Evaluate: Epoch [140/200]: 100%|██████████████████████████████| 79/79 [00:00<00:00, 173.54it/s]                                            \n"
     ]
    },
    {
     "name": "stdout",
     "output_type": "stream",
     "text": [
      "VALID \t: Summary: Loss: 1.1462 Accuracy: 0.6017\n",
      "TRAIN \t: Summary: Loss: 1.2307 Accuracy: 0.5731\n"
     ]
    },
    {
     "name": "stderr",
     "output_type": "stream",
     "text": [
      "Training: Epoch [141/200]: 100%|██████████████████████████████| 313/313 [00:13<00:00, 22.93it/s]                                           \n",
      "Evaluate: Epoch [141/200]: 100%|██████████████████████████████| 79/79 [00:00<00:00, 196.81it/s]                                            \n"
     ]
    },
    {
     "name": "stdout",
     "output_type": "stream",
     "text": [
      "VALID \t: Summary: Loss: 1.1438 Accuracy: 0.6043\n",
      "TRAIN \t: Summary: Loss: 1.2286 Accuracy: 0.5743\n"
     ]
    },
    {
     "name": "stderr",
     "output_type": "stream",
     "text": [
      "Training: Epoch [142/200]: 100%|██████████████████████████████| 313/313 [00:13<00:00, 22.87it/s]                                           \n",
      "Evaluate: Epoch [142/200]: 100%|██████████████████████████████| 79/79 [00:00<00:00, 197.02it/s]                                            \n"
     ]
    },
    {
     "name": "stdout",
     "output_type": "stream",
     "text": [
      "VALID \t: Summary: Loss: 1.1416 Accuracy: 0.6065\n",
      "TRAIN \t: Summary: Loss: 1.2272 Accuracy: 0.5753\n"
     ]
    },
    {
     "name": "stderr",
     "output_type": "stream",
     "text": [
      "Training: Epoch [143/200]: 100%|██████████████████████████████| 313/313 [00:13<00:00, 23.46it/s]                                           \n",
      "Evaluate: Epoch [143/200]: 100%|██████████████████████████████| 79/79 [00:00<00:00, 189.09it/s]                                            \n"
     ]
    },
    {
     "name": "stdout",
     "output_type": "stream",
     "text": [
      "VALID \t: Summary: Loss: 1.1449 Accuracy: 0.6044\n",
      "TRAIN \t: Summary: Loss: 1.2293 Accuracy: 0.5746\n"
     ]
    },
    {
     "name": "stderr",
     "output_type": "stream",
     "text": [
      "Training: Epoch [144/200]: 100%|██████████████████████████████| 313/313 [00:13<00:00, 22.68it/s]                                           \n",
      "Evaluate: Epoch [144/200]: 100%|██████████████████████████████| 79/79 [00:00<00:00, 196.16it/s]                                            \n"
     ]
    },
    {
     "name": "stdout",
     "output_type": "stream",
     "text": [
      "VALID \t: Summary: Loss: 1.1429 Accuracy: 0.6015\n",
      "TRAIN \t: Summary: Loss: 1.2300 Accuracy: 0.5724\n"
     ]
    },
    {
     "name": "stderr",
     "output_type": "stream",
     "text": [
      "Training: Epoch [145/200]: 100%|██████████████████████████████| 313/313 [00:13<00:00, 22.89it/s]                                           \n",
      "Evaluate: Epoch [145/200]: 100%|██████████████████████████████| 79/79 [00:00<00:00, 198.35it/s]                                            \n"
     ]
    },
    {
     "name": "stdout",
     "output_type": "stream",
     "text": [
      "VALID \t: Summary: Loss: 1.1445 Accuracy: 0.6029\n",
      "TRAIN \t: Summary: Loss: 1.2286 Accuracy: 0.5760\n"
     ]
    },
    {
     "name": "stderr",
     "output_type": "stream",
     "text": [
      "Training: Epoch [146/200]: 100%|██████████████████████████████| 313/313 [00:13<00:00, 22.91it/s]                                           \n",
      "Evaluate: Epoch [146/200]: 100%|██████████████████████████████| 79/79 [00:00<00:00, 182.80it/s]                                            \n"
     ]
    },
    {
     "name": "stdout",
     "output_type": "stream",
     "text": [
      "VALID \t: Summary: Loss: 1.1449 Accuracy: 0.6034\n",
      "TRAIN \t: Summary: Loss: 1.2312 Accuracy: 0.5739\n"
     ]
    },
    {
     "name": "stderr",
     "output_type": "stream",
     "text": [
      "Training: Epoch [147/200]: 100%|██████████████████████████████| 313/313 [00:13<00:00, 23.57it/s]                                           \n",
      "Evaluate: Epoch [147/200]: 100%|██████████████████████████████| 79/79 [00:00<00:00, 198.82it/s]                                            \n"
     ]
    },
    {
     "name": "stdout",
     "output_type": "stream",
     "text": [
      "VALID \t: Summary: Loss: 1.1435 Accuracy: 0.6032\n",
      "TRAIN \t: Summary: Loss: 1.2271 Accuracy: 0.5755\n"
     ]
    },
    {
     "name": "stderr",
     "output_type": "stream",
     "text": [
      "Training: Epoch [148/200]: 100%|██████████████████████████████| 313/313 [00:14<00:00, 21.57it/s]                                           \n",
      "Evaluate: Epoch [148/200]: 100%|██████████████████████████████| 79/79 [00:00<00:00, 179.68it/s]                                            \n"
     ]
    },
    {
     "name": "stdout",
     "output_type": "stream",
     "text": [
      "VALID \t: Summary: Loss: 1.1411 Accuracy: 0.6055\n",
      "TRAIN \t: Summary: Loss: 1.2316 Accuracy: 0.5718\n"
     ]
    },
    {
     "name": "stderr",
     "output_type": "stream",
     "text": [
      "Training: Epoch [149/200]: 100%|██████████████████████████████| 313/313 [00:13<00:00, 22.69it/s]                                           \n",
      "Evaluate: Epoch [149/200]: 100%|██████████████████████████████| 79/79 [00:00<00:00, 157.43it/s]                                            \n"
     ]
    },
    {
     "name": "stdout",
     "output_type": "stream",
     "text": [
      "VALID \t: Summary: Loss: 1.1402 Accuracy: 0.6058\n",
      "TRAIN \t: Summary: Loss: 1.2324 Accuracy: 0.5730\n"
     ]
    },
    {
     "name": "stderr",
     "output_type": "stream",
     "text": [
      "Training: Epoch [150/200]: 100%|██████████████████████████████| 313/313 [00:13<00:00, 23.93it/s]                                           \n",
      "Evaluate: Epoch [150/200]: 100%|██████████████████████████████| 79/79 [00:00<00:00, 189.45it/s]                                            \n"
     ]
    },
    {
     "name": "stdout",
     "output_type": "stream",
     "text": [
      "VALID \t: Summary: Loss: 1.1425 Accuracy: 0.6054\n",
      "TRAIN \t: Summary: Loss: 1.2319 Accuracy: 0.5720\n"
     ]
    },
    {
     "name": "stderr",
     "output_type": "stream",
     "text": [
      "Training: Epoch [151/200]: 100%|██████████████████████████████| 313/313 [00:13<00:00, 23.00it/s]                                           \n",
      "Evaluate: Epoch [151/200]: 100%|██████████████████████████████| 79/79 [00:00<00:00, 195.65it/s]                                            \n"
     ]
    },
    {
     "name": "stdout",
     "output_type": "stream",
     "text": [
      "VALID \t: Summary: Loss: 1.1379 Accuracy: 0.6062\n",
      "TRAIN \t: Summary: Loss: 1.2247 Accuracy: 0.5754\n"
     ]
    },
    {
     "name": "stderr",
     "output_type": "stream",
     "text": [
      "Training: Epoch [152/200]: 100%|██████████████████████████████| 313/313 [00:14<00:00, 22.05it/s]                                           \n",
      "Evaluate: Epoch [152/200]: 100%|██████████████████████████████| 79/79 [00:00<00:00, 166.27it/s]                                            \n"
     ]
    },
    {
     "name": "stdout",
     "output_type": "stream",
     "text": [
      "VALID \t: Summary: Loss: 1.1377 Accuracy: 0.6072\n",
      "TRAIN \t: Summary: Loss: 1.2197 Accuracy: 0.5780\n"
     ]
    },
    {
     "name": "stderr",
     "output_type": "stream",
     "text": [
      "Training: Epoch [153/200]: 100%|██████████████████████████████| 313/313 [00:13<00:00, 22.61it/s]                                           \n",
      "Evaluate: Epoch [153/200]: 100%|██████████████████████████████| 79/79 [00:00<00:00, 188.48it/s]                                            \n"
     ]
    },
    {
     "name": "stdout",
     "output_type": "stream",
     "text": [
      "VALID \t: Summary: Loss: 1.1359 Accuracy: 0.6038\n",
      "TRAIN \t: Summary: Loss: 1.2245 Accuracy: 0.5754\n"
     ]
    },
    {
     "name": "stderr",
     "output_type": "stream",
     "text": [
      "Training: Epoch [154/200]: 100%|██████████████████████████████| 313/313 [00:13<00:00, 23.18it/s]                                           \n",
      "Evaluate: Epoch [154/200]: 100%|██████████████████████████████| 79/79 [00:00<00:00, 194.01it/s]                                            \n"
     ]
    },
    {
     "name": "stdout",
     "output_type": "stream",
     "text": [
      "VALID \t: Summary: Loss: 1.1365 Accuracy: 0.6037\n",
      "TRAIN \t: Summary: Loss: 1.2238 Accuracy: 0.5780\n"
     ]
    },
    {
     "name": "stderr",
     "output_type": "stream",
     "text": [
      "Training: Epoch [155/200]: 100%|██████████████████████████████| 313/313 [00:13<00:00, 22.94it/s]                                           \n",
      "Evaluate: Epoch [155/200]: 100%|██████████████████████████████| 79/79 [00:00<00:00, 186.69it/s]                                            \n"
     ]
    },
    {
     "name": "stdout",
     "output_type": "stream",
     "text": [
      "VALID \t: Summary: Loss: 1.1385 Accuracy: 0.6026\n",
      "TRAIN \t: Summary: Loss: 1.2212 Accuracy: 0.5753\n"
     ]
    },
    {
     "name": "stderr",
     "output_type": "stream",
     "text": [
      "Training: Epoch [156/200]: 100%|██████████████████████████████| 313/313 [00:14<00:00, 22.26it/s]                                           \n",
      "Evaluate: Epoch [156/200]: 100%|██████████████████████████████| 79/79 [00:00<00:00, 196.20it/s]                                            \n"
     ]
    },
    {
     "name": "stdout",
     "output_type": "stream",
     "text": [
      "VALID \t: Summary: Loss: 1.1381 Accuracy: 0.6038\n",
      "TRAIN \t: Summary: Loss: 1.2186 Accuracy: 0.5776\n"
     ]
    },
    {
     "name": "stderr",
     "output_type": "stream",
     "text": [
      "Training: Epoch [157/200]: 100%|██████████████████████████████| 313/313 [00:16<00:00, 19.33it/s]                                           \n",
      "Evaluate: Epoch [157/200]: 100%|██████████████████████████████| 79/79 [00:00<00:00, 180.38it/s]                                            \n"
     ]
    },
    {
     "name": "stdout",
     "output_type": "stream",
     "text": [
      "VALID \t: Summary: Loss: 1.1361 Accuracy: 0.6068\n",
      "TRAIN \t: Summary: Loss: 1.2179 Accuracy: 0.5772\n"
     ]
    },
    {
     "name": "stderr",
     "output_type": "stream",
     "text": [
      "Training: Epoch [158/200]: 100%|██████████████████████████████| 313/313 [00:15<00:00, 20.80it/s]                                           \n",
      "Evaluate: Epoch [158/200]: 100%|██████████████████████████████| 79/79 [00:00<00:00, 176.84it/s]                                            \n"
     ]
    },
    {
     "name": "stdout",
     "output_type": "stream",
     "text": [
      "VALID \t: Summary: Loss: 1.1360 Accuracy: 0.6062\n",
      "TRAIN \t: Summary: Loss: 1.2182 Accuracy: 0.5762\n"
     ]
    },
    {
     "name": "stderr",
     "output_type": "stream",
     "text": [
      "Training: Epoch [159/200]: 100%|██████████████████████████████| 313/313 [00:16<00:00, 18.69it/s]                                           \n",
      "Evaluate: Epoch [159/200]: 100%|██████████████████████████████| 79/79 [00:00<00:00, 158.97it/s]                                            \n"
     ]
    },
    {
     "name": "stdout",
     "output_type": "stream",
     "text": [
      "VALID \t: Summary: Loss: 1.1371 Accuracy: 0.6072\n",
      "TRAIN \t: Summary: Loss: 1.2212 Accuracy: 0.5780\n"
     ]
    },
    {
     "name": "stderr",
     "output_type": "stream",
     "text": [
      "Training: Epoch [160/200]: 100%|██████████████████████████████| 313/313 [00:16<00:00, 18.52it/s]                                           \n",
      "Evaluate: Epoch [160/200]: 100%|██████████████████████████████| 79/79 [00:00<00:00, 169.35it/s]                                            \n"
     ]
    },
    {
     "name": "stdout",
     "output_type": "stream",
     "text": [
      "VALID \t: Summary: Loss: 1.1384 Accuracy: 0.6048\n",
      "TRAIN \t: Summary: Loss: 1.2186 Accuracy: 0.5779\n"
     ]
    },
    {
     "name": "stderr",
     "output_type": "stream",
     "text": [
      "Training: Epoch [161/200]: 100%|██████████████████████████████| 313/313 [00:17<00:00, 17.41it/s]                                           \n",
      "Evaluate: Epoch [161/200]: 100%|██████████████████████████████| 79/79 [00:00<00:00, 118.34it/s]                                            \n"
     ]
    },
    {
     "name": "stdout",
     "output_type": "stream",
     "text": [
      "VALID \t: Summary: Loss: 1.1384 Accuracy: 0.6046\n",
      "TRAIN \t: Summary: Loss: 1.2186 Accuracy: 0.5770\n"
     ]
    },
    {
     "name": "stderr",
     "output_type": "stream",
     "text": [
      "Training: Epoch [162/200]: 100%|██████████████████████████████| 313/313 [00:20<00:00, 14.97it/s]                                           \n",
      "Evaluate: Epoch [162/200]: 100%|██████████████████████████████| 79/79 [00:00<00:00, 164.84it/s]                                            \n"
     ]
    },
    {
     "name": "stdout",
     "output_type": "stream",
     "text": [
      "VALID \t: Summary: Loss: 1.1348 Accuracy: 0.6039\n",
      "TRAIN \t: Summary: Loss: 1.2147 Accuracy: 0.5786\n"
     ]
    },
    {
     "name": "stderr",
     "output_type": "stream",
     "text": [
      "Training: Epoch [163/200]: 100%|██████████████████████████████| 313/313 [00:16<00:00, 19.40it/s]                                           \n",
      "Evaluate: Epoch [163/200]: 100%|██████████████████████████████| 79/79 [00:00<00:00, 177.64it/s]                                            \n"
     ]
    },
    {
     "name": "stdout",
     "output_type": "stream",
     "text": [
      "VALID \t: Summary: Loss: 1.1358 Accuracy: 0.6047\n",
      "TRAIN \t: Summary: Loss: 1.2190 Accuracy: 0.5801\n"
     ]
    },
    {
     "name": "stderr",
     "output_type": "stream",
     "text": [
      "Training: Epoch [164/200]: 100%|██████████████████████████████| 313/313 [00:15<00:00, 20.06it/s]                                           \n",
      "Evaluate: Epoch [164/200]: 100%|██████████████████████████████| 79/79 [00:00<00:00, 167.75it/s]                                            \n"
     ]
    },
    {
     "name": "stdout",
     "output_type": "stream",
     "text": [
      "VALID \t: Summary: Loss: 1.1371 Accuracy: 0.6071\n",
      "TRAIN \t: Summary: Loss: 1.2223 Accuracy: 0.5754\n"
     ]
    },
    {
     "name": "stderr",
     "output_type": "stream",
     "text": [
      "Training: Epoch [165/200]: 100%|██████████████████████████████| 313/313 [00:14<00:00, 21.25it/s]                                           \n",
      "Evaluate: Epoch [165/200]: 100%|██████████████████████████████| 79/79 [00:00<00:00, 179.08it/s]                                            \n"
     ]
    },
    {
     "name": "stdout",
     "output_type": "stream",
     "text": [
      "VALID \t: Summary: Loss: 1.1331 Accuracy: 0.6033\n",
      "TRAIN \t: Summary: Loss: 1.2217 Accuracy: 0.5750\n"
     ]
    },
    {
     "name": "stderr",
     "output_type": "stream",
     "text": [
      "Training: Epoch [166/200]: 100%|██████████████████████████████| 313/313 [00:14<00:00, 21.97it/s]                                           \n",
      "Evaluate: Epoch [166/200]: 100%|██████████████████████████████| 79/79 [00:00<00:00, 175.51it/s]                                            \n"
     ]
    },
    {
     "name": "stdout",
     "output_type": "stream",
     "text": [
      "VALID \t: Summary: Loss: 1.1370 Accuracy: 0.6039\n",
      "TRAIN \t: Summary: Loss: 1.2188 Accuracy: 0.5776\n"
     ]
    },
    {
     "name": "stderr",
     "output_type": "stream",
     "text": [
      "Training: Epoch [167/200]: 100%|██████████████████████████████| 313/313 [00:15<00:00, 20.35it/s]                                           \n",
      "Evaluate: Epoch [167/200]: 100%|██████████████████████████████| 79/79 [00:00<00:00, 178.64it/s]                                            \n"
     ]
    },
    {
     "name": "stdout",
     "output_type": "stream",
     "text": [
      "VALID \t: Summary: Loss: 1.1349 Accuracy: 0.6030\n",
      "TRAIN \t: Summary: Loss: 1.2162 Accuracy: 0.5777\n"
     ]
    },
    {
     "name": "stderr",
     "output_type": "stream",
     "text": [
      "Training: Epoch [168/200]: 100%|██████████████████████████████| 313/313 [00:14<00:00, 22.01it/s]                                           \n",
      "Evaluate: Epoch [168/200]: 100%|██████████████████████████████| 79/79 [00:00<00:00, 142.56it/s]                                            \n"
     ]
    },
    {
     "name": "stdout",
     "output_type": "stream",
     "text": [
      "VALID \t: Summary: Loss: 1.1345 Accuracy: 0.6055\n",
      "TRAIN \t: Summary: Loss: 1.2198 Accuracy: 0.5745\n"
     ]
    },
    {
     "name": "stderr",
     "output_type": "stream",
     "text": [
      "Training: Epoch [169/200]: 100%|██████████████████████████████| 313/313 [00:13<00:00, 23.67it/s]                                           \n",
      "Evaluate: Epoch [169/200]: 100%|██████████████████████████████| 79/79 [00:00<00:00, 194.85it/s]                                            \n"
     ]
    },
    {
     "name": "stdout",
     "output_type": "stream",
     "text": [
      "VALID \t: Summary: Loss: 1.1358 Accuracy: 0.6055\n",
      "TRAIN \t: Summary: Loss: 1.2206 Accuracy: 0.5785\n"
     ]
    },
    {
     "name": "stderr",
     "output_type": "stream",
     "text": [
      "Training: Epoch [170/200]: 100%|██████████████████████████████| 313/313 [00:13<00:00, 23.14it/s]                                           \n",
      "Evaluate: Epoch [170/200]: 100%|██████████████████████████████| 79/79 [00:00<00:00, 195.93it/s]                                            \n"
     ]
    },
    {
     "name": "stdout",
     "output_type": "stream",
     "text": [
      "VALID \t: Summary: Loss: 1.1346 Accuracy: 0.6038\n",
      "TRAIN \t: Summary: Loss: 1.2175 Accuracy: 0.5766\n"
     ]
    },
    {
     "name": "stderr",
     "output_type": "stream",
     "text": [
      "Training: Epoch [171/200]: 100%|██████████████████████████████| 313/313 [00:13<00:00, 23.12it/s]                                           \n",
      "Evaluate: Epoch [171/200]: 100%|██████████████████████████████| 79/79 [00:00<00:00, 194.06it/s]                                            \n"
     ]
    },
    {
     "name": "stdout",
     "output_type": "stream",
     "text": [
      "VALID \t: Summary: Loss: 1.1367 Accuracy: 0.6062\n",
      "TRAIN \t: Summary: Loss: 1.2171 Accuracy: 0.5792\n"
     ]
    },
    {
     "name": "stderr",
     "output_type": "stream",
     "text": [
      "Training: Epoch [172/200]: 100%|██████████████████████████████| 313/313 [00:13<00:00, 23.39it/s]                                           \n",
      "Evaluate: Epoch [172/200]: 100%|██████████████████████████████| 79/79 [00:00<00:00, 189.56it/s]                                            \n"
     ]
    },
    {
     "name": "stdout",
     "output_type": "stream",
     "text": [
      "VALID \t: Summary: Loss: 1.1354 Accuracy: 0.6062\n",
      "TRAIN \t: Summary: Loss: 1.2162 Accuracy: 0.5791\n"
     ]
    },
    {
     "name": "stderr",
     "output_type": "stream",
     "text": [
      "Training: Epoch [173/200]: 100%|██████████████████████████████| 313/313 [00:13<00:00, 23.52it/s]                                           \n",
      "Evaluate: Epoch [173/200]: 100%|██████████████████████████████| 79/79 [00:00<00:00, 195.32it/s]                                            \n"
     ]
    },
    {
     "name": "stdout",
     "output_type": "stream",
     "text": [
      "VALID \t: Summary: Loss: 1.1337 Accuracy: 0.6059\n",
      "TRAIN \t: Summary: Loss: 1.2148 Accuracy: 0.5766\n"
     ]
    },
    {
     "name": "stderr",
     "output_type": "stream",
     "text": [
      "Training: Epoch [174/200]: 100%|██████████████████████████████| 313/313 [00:13<00:00, 23.38it/s]                                           \n",
      "Evaluate: Epoch [174/200]: 100%|██████████████████████████████| 79/79 [00:00<00:00, 202.68it/s]                                            \n"
     ]
    },
    {
     "name": "stdout",
     "output_type": "stream",
     "text": [
      "VALID \t: Summary: Loss: 1.1357 Accuracy: 0.6048\n",
      "TRAIN \t: Summary: Loss: 1.2220 Accuracy: 0.5777\n"
     ]
    },
    {
     "name": "stderr",
     "output_type": "stream",
     "text": [
      "Training: Epoch [175/200]: 100%|██████████████████████████████| 313/313 [00:13<00:00, 23.48it/s]                                           \n",
      "Evaluate: Epoch [175/200]: 100%|██████████████████████████████| 79/79 [00:00<00:00, 168.98it/s]                                            \n"
     ]
    },
    {
     "name": "stdout",
     "output_type": "stream",
     "text": [
      "VALID \t: Summary: Loss: 1.1374 Accuracy: 0.6051\n",
      "TRAIN \t: Summary: Loss: 1.2119 Accuracy: 0.5820\n"
     ]
    },
    {
     "name": "stderr",
     "output_type": "stream",
     "text": [
      "Training: Epoch [176/200]: 100%|██████████████████████████████| 313/313 [00:14<00:00, 22.08it/s]                                           \n",
      "Evaluate: Epoch [176/200]: 100%|██████████████████████████████| 79/79 [00:00<00:00, 191.72it/s]                                            \n"
     ]
    },
    {
     "name": "stdout",
     "output_type": "stream",
     "text": [
      "VALID \t: Summary: Loss: 1.1336 Accuracy: 0.6071\n",
      "TRAIN \t: Summary: Loss: 1.2118 Accuracy: 0.5770\n"
     ]
    },
    {
     "name": "stderr",
     "output_type": "stream",
     "text": [
      "Training: Epoch [177/200]: 100%|██████████████████████████████| 313/313 [00:14<00:00, 21.80it/s]                                           \n",
      "Evaluate: Epoch [177/200]: 100%|██████████████████████████████| 79/79 [00:00<00:00, 193.37it/s]                                            \n"
     ]
    },
    {
     "name": "stdout",
     "output_type": "stream",
     "text": [
      "VALID \t: Summary: Loss: 1.1338 Accuracy: 0.6052\n",
      "TRAIN \t: Summary: Loss: 1.2204 Accuracy: 0.5755\n"
     ]
    },
    {
     "name": "stderr",
     "output_type": "stream",
     "text": [
      "Training: Epoch [178/200]: 100%|██████████████████████████████| 313/313 [00:13<00:00, 23.70it/s]                                           \n",
      "Evaluate: Epoch [178/200]: 100%|██████████████████████████████| 79/79 [00:00<00:00, 201.19it/s]                                            \n"
     ]
    },
    {
     "name": "stdout",
     "output_type": "stream",
     "text": [
      "VALID \t: Summary: Loss: 1.1357 Accuracy: 0.6049\n",
      "TRAIN \t: Summary: Loss: 1.2167 Accuracy: 0.5799\n"
     ]
    },
    {
     "name": "stderr",
     "output_type": "stream",
     "text": [
      "Training: Epoch [179/200]: 100%|██████████████████████████████| 313/313 [00:13<00:00, 22.78it/s]                                           \n",
      "Evaluate: Epoch [179/200]: 100%|██████████████████████████████| 79/79 [00:00<00:00, 189.30it/s]                                            \n"
     ]
    },
    {
     "name": "stdout",
     "output_type": "stream",
     "text": [
      "VALID \t: Summary: Loss: 1.1360 Accuracy: 0.6048\n",
      "TRAIN \t: Summary: Loss: 1.2139 Accuracy: 0.5810\n"
     ]
    },
    {
     "name": "stderr",
     "output_type": "stream",
     "text": [
      "Training: Epoch [180/200]: 100%|██████████████████████████████| 313/313 [00:14<00:00, 21.92it/s]                                           \n",
      "Evaluate: Epoch [180/200]: 100%|██████████████████████████████| 79/79 [00:00<00:00, 194.64it/s]                                            \n"
     ]
    },
    {
     "name": "stdout",
     "output_type": "stream",
     "text": [
      "VALID \t: Summary: Loss: 1.1339 Accuracy: 0.6072\n",
      "TRAIN \t: Summary: Loss: 1.2177 Accuracy: 0.5790\n"
     ]
    },
    {
     "name": "stderr",
     "output_type": "stream",
     "text": [
      "Training: Epoch [181/200]: 100%|██████████████████████████████| 313/313 [00:13<00:00, 23.61it/s]                                           \n",
      "Evaluate: Epoch [181/200]: 100%|██████████████████████████████| 79/79 [00:00<00:00, 198.64it/s]                                            \n"
     ]
    },
    {
     "name": "stdout",
     "output_type": "stream",
     "text": [
      "VALID \t: Summary: Loss: 1.1333 Accuracy: 0.6053\n",
      "TRAIN \t: Summary: Loss: 1.2153 Accuracy: 0.5778\n"
     ]
    },
    {
     "name": "stderr",
     "output_type": "stream",
     "text": [
      "Training: Epoch [182/200]: 100%|██████████████████████████████| 313/313 [00:13<00:00, 23.13it/s]                                           \n",
      "Evaluate: Epoch [182/200]: 100%|██████████████████████████████| 79/79 [00:00<00:00, 175.55it/s]                                            \n"
     ]
    },
    {
     "name": "stdout",
     "output_type": "stream",
     "text": [
      "VALID \t: Summary: Loss: 1.1314 Accuracy: 0.6062\n",
      "TRAIN \t: Summary: Loss: 1.2153 Accuracy: 0.5802\n"
     ]
    },
    {
     "name": "stderr",
     "output_type": "stream",
     "text": [
      "Training: Epoch [183/200]: 100%|██████████████████████████████| 313/313 [00:13<00:00, 23.84it/s]                                           \n",
      "Evaluate: Epoch [183/200]: 100%|██████████████████████████████| 79/79 [00:00<00:00, 200.72it/s]                                            \n"
     ]
    },
    {
     "name": "stdout",
     "output_type": "stream",
     "text": [
      "VALID \t: Summary: Loss: 1.1316 Accuracy: 0.6061\n",
      "TRAIN \t: Summary: Loss: 1.2158 Accuracy: 0.5773\n"
     ]
    },
    {
     "name": "stderr",
     "output_type": "stream",
     "text": [
      "Training: Epoch [184/200]: 100%|██████████████████████████████| 313/313 [00:14<00:00, 21.47it/s]                                           \n",
      "Evaluate: Epoch [184/200]: 100%|██████████████████████████████| 79/79 [00:00<00:00, 152.92it/s]                                            \n"
     ]
    },
    {
     "name": "stdout",
     "output_type": "stream",
     "text": [
      "VALID \t: Summary: Loss: 1.1334 Accuracy: 0.6042\n",
      "TRAIN \t: Summary: Loss: 1.2116 Accuracy: 0.5792\n"
     ]
    },
    {
     "name": "stderr",
     "output_type": "stream",
     "text": [
      "Training: Epoch [185/200]: 100%|██████████████████████████████| 313/313 [00:17<00:00, 18.26it/s]                                           \n",
      "Evaluate: Epoch [185/200]: 100%|██████████████████████████████| 79/79 [00:00<00:00, 190.08it/s]                                            \n"
     ]
    },
    {
     "name": "stdout",
     "output_type": "stream",
     "text": [
      "VALID \t: Summary: Loss: 1.1332 Accuracy: 0.6077\n",
      "TRAIN \t: Summary: Loss: 1.2164 Accuracy: 0.5774\n"
     ]
    },
    {
     "name": "stderr",
     "output_type": "stream",
     "text": [
      "Training: Epoch [186/200]: 100%|██████████████████████████████| 313/313 [00:13<00:00, 23.52it/s]                                           \n",
      "Evaluate: Epoch [186/200]: 100%|██████████████████████████████| 79/79 [00:00<00:00, 195.32it/s]                                            \n"
     ]
    },
    {
     "name": "stdout",
     "output_type": "stream",
     "text": [
      "VALID \t: Summary: Loss: 1.1353 Accuracy: 0.6048\n",
      "TRAIN \t: Summary: Loss: 1.2163 Accuracy: 0.5806\n"
     ]
    },
    {
     "name": "stderr",
     "output_type": "stream",
     "text": [
      "Training: Epoch [187/200]: 100%|██████████████████████████████| 313/313 [00:13<00:00, 22.95it/s]                                           \n",
      "Evaluate: Epoch [187/200]: 100%|██████████████████████████████| 79/79 [00:00<00:00, 192.88it/s]                                            \n"
     ]
    },
    {
     "name": "stdout",
     "output_type": "stream",
     "text": [
      "VALID \t: Summary: Loss: 1.1321 Accuracy: 0.6064\n",
      "TRAIN \t: Summary: Loss: 1.2079 Accuracy: 0.5823\n"
     ]
    },
    {
     "name": "stderr",
     "output_type": "stream",
     "text": [
      "Training: Epoch [188/200]: 100%|██████████████████████████████| 313/313 [00:13<00:00, 22.81it/s]                                           \n",
      "Evaluate: Epoch [188/200]: 100%|██████████████████████████████| 79/79 [00:00<00:00, 196.34it/s]                                            \n"
     ]
    },
    {
     "name": "stdout",
     "output_type": "stream",
     "text": [
      "VALID \t: Summary: Loss: 1.1310 Accuracy: 0.6061\n",
      "TRAIN \t: Summary: Loss: 1.2160 Accuracy: 0.5786\n"
     ]
    },
    {
     "name": "stderr",
     "output_type": "stream",
     "text": [
      "Training: Epoch [189/200]: 100%|██████████████████████████████| 313/313 [00:13<00:00, 23.55it/s]                                           \n",
      "Evaluate: Epoch [189/200]: 100%|██████████████████████████████| 79/79 [00:00<00:00, 180.24it/s]                                            \n"
     ]
    },
    {
     "name": "stdout",
     "output_type": "stream",
     "text": [
      "VALID \t: Summary: Loss: 1.1318 Accuracy: 0.6049\n",
      "TRAIN \t: Summary: Loss: 1.2175 Accuracy: 0.5788\n"
     ]
    },
    {
     "name": "stderr",
     "output_type": "stream",
     "text": [
      "Training: Epoch [190/200]: 100%|██████████████████████████████| 313/313 [00:13<00:00, 23.42it/s]                                           \n",
      "Evaluate: Epoch [190/200]: 100%|██████████████████████████████| 79/79 [00:00<00:00, 197.05it/s]                                            \n"
     ]
    },
    {
     "name": "stdout",
     "output_type": "stream",
     "text": [
      "VALID \t: Summary: Loss: 1.1335 Accuracy: 0.6031\n",
      "TRAIN \t: Summary: Loss: 1.2148 Accuracy: 0.5772\n"
     ]
    },
    {
     "name": "stderr",
     "output_type": "stream",
     "text": [
      "Training: Epoch [191/200]: 100%|██████████████████████████████| 313/313 [00:13<00:00, 23.50it/s]                                           \n",
      "Evaluate: Epoch [191/200]: 100%|██████████████████████████████| 79/79 [00:00<00:00, 196.53it/s]                                            \n"
     ]
    },
    {
     "name": "stdout",
     "output_type": "stream",
     "text": [
      "VALID \t: Summary: Loss: 1.1315 Accuracy: 0.6059\n",
      "TRAIN \t: Summary: Loss: 1.2152 Accuracy: 0.5763\n"
     ]
    },
    {
     "name": "stderr",
     "output_type": "stream",
     "text": [
      "Training: Epoch [192/200]: 100%|██████████████████████████████| 313/313 [00:13<00:00, 23.51it/s]                                           \n",
      "Evaluate: Epoch [192/200]: 100%|██████████████████████████████| 79/79 [00:00<00:00, 194.16it/s]                                            \n"
     ]
    },
    {
     "name": "stdout",
     "output_type": "stream",
     "text": [
      "VALID \t: Summary: Loss: 1.1307 Accuracy: 0.6077\n",
      "TRAIN \t: Summary: Loss: 1.2120 Accuracy: 0.5803\n"
     ]
    },
    {
     "name": "stderr",
     "output_type": "stream",
     "text": [
      "Training: Epoch [193/200]: 100%|██████████████████████████████| 313/313 [00:13<00:00, 23.30it/s]                                           \n",
      "Evaluate: Epoch [193/200]: 100%|██████████████████████████████| 79/79 [00:00<00:00, 192.28it/s]                                            \n"
     ]
    },
    {
     "name": "stdout",
     "output_type": "stream",
     "text": [
      "VALID \t: Summary: Loss: 1.1317 Accuracy: 0.6058\n",
      "TRAIN \t: Summary: Loss: 1.2126 Accuracy: 0.5792\n"
     ]
    },
    {
     "name": "stderr",
     "output_type": "stream",
     "text": [
      "Training: Epoch [194/200]: 100%|██████████████████████████████| 313/313 [00:13<00:00, 23.48it/s]                                           \n",
      "Evaluate: Epoch [194/200]: 100%|██████████████████████████████| 79/79 [00:00<00:00, 188.35it/s]                                            \n"
     ]
    },
    {
     "name": "stdout",
     "output_type": "stream",
     "text": [
      "VALID \t: Summary: Loss: 1.1303 Accuracy: 0.6027\n",
      "TRAIN \t: Summary: Loss: 1.2144 Accuracy: 0.5815\n"
     ]
    },
    {
     "name": "stderr",
     "output_type": "stream",
     "text": [
      "Training: Epoch [195/200]: 100%|██████████████████████████████| 313/313 [00:13<00:00, 23.47it/s]                                           \n",
      "Evaluate: Epoch [195/200]: 100%|██████████████████████████████| 79/79 [00:00<00:00, 198.72it/s]                                            \n"
     ]
    },
    {
     "name": "stdout",
     "output_type": "stream",
     "text": [
      "VALID \t: Summary: Loss: 1.1321 Accuracy: 0.6056\n",
      "TRAIN \t: Summary: Loss: 1.2111 Accuracy: 0.5808\n"
     ]
    },
    {
     "name": "stderr",
     "output_type": "stream",
     "text": [
      "Training: Epoch [196/200]: 100%|██████████████████████████████| 313/313 [00:13<00:00, 22.98it/s]                                           \n",
      "Evaluate: Epoch [196/200]: 100%|██████████████████████████████| 79/79 [00:00<00:00, 189.19it/s]                                            \n"
     ]
    },
    {
     "name": "stdout",
     "output_type": "stream",
     "text": [
      "VALID \t: Summary: Loss: 1.1313 Accuracy: 0.6069\n",
      "TRAIN \t: Summary: Loss: 1.2137 Accuracy: 0.5779\n"
     ]
    },
    {
     "name": "stderr",
     "output_type": "stream",
     "text": [
      "Training: Epoch [197/200]: 100%|██████████████████████████████| 313/313 [00:13<00:00, 23.85it/s]                                           \n",
      "Evaluate: Epoch [197/200]: 100%|██████████████████████████████| 79/79 [00:00<00:00, 171.52it/s]                                            \n"
     ]
    },
    {
     "name": "stdout",
     "output_type": "stream",
     "text": [
      "VALID \t: Summary: Loss: 1.1328 Accuracy: 0.6055\n",
      "TRAIN \t: Summary: Loss: 1.2101 Accuracy: 0.5816\n"
     ]
    },
    {
     "name": "stderr",
     "output_type": "stream",
     "text": [
      "Training: Epoch [198/200]: 100%|██████████████████████████████| 313/313 [00:13<00:00, 22.81it/s]                                           \n",
      "Evaluate: Epoch [198/200]: 100%|██████████████████████████████| 79/79 [00:00<00:00, 194.26it/s]                                            \n"
     ]
    },
    {
     "name": "stdout",
     "output_type": "stream",
     "text": [
      "VALID \t: Summary: Loss: 1.1318 Accuracy: 0.6052\n",
      "TRAIN \t: Summary: Loss: 1.2139 Accuracy: 0.5803\n"
     ]
    },
    {
     "name": "stderr",
     "output_type": "stream",
     "text": [
      "Training: Epoch [199/200]: 100%|██████████████████████████████| 313/313 [00:14<00:00, 22.16it/s]                                           \n",
      "Evaluate: Epoch [199/200]: 100%|██████████████████████████████| 79/79 [00:00<00:00, 188.75it/s]                                            \n"
     ]
    },
    {
     "name": "stdout",
     "output_type": "stream",
     "text": [
      "VALID \t: Summary: Loss: 1.1338 Accuracy: 0.6087\n",
      "TRAIN \t: Summary: Loss: 1.2074 Accuracy: 0.5817\n"
     ]
    },
    {
     "name": "stderr",
     "output_type": "stream",
     "text": [
      "Training: Epoch [200/200]: 100%|██████████████████████████████| 313/313 [00:13<00:00, 23.26it/s]                                           \n",
      "Evaluate: Epoch [200/200]: 100%|██████████████████████████████| 79/79 [00:00<00:00, 188.19it/s]                                            \n"
     ]
    },
    {
     "name": "stdout",
     "output_type": "stream",
     "text": [
      "VALID \t: Summary: Loss: 1.1333 Accuracy: 0.6064\n",
      "TRAIN \t: Summary: Loss: 1.2110 Accuracy: 0.5829\n"
     ]
    },
    {
     "data": {
      "image/png": "[encoded data removed]",
      "text/plain": [
       "<Figure size 648x432 with 1 Axes>"
      ]
     },
     "metadata": {
      "needs_background": "light"
     },
     "output_type": "display_data"
    },
    {
     "data": {
      "image/png": "[encoded data removed]",
      "text/plain": [
       "<Figure size 648x432 with 1 Axes>"
      ]
     },
     "metadata": {
      "needs_background": "light"
     },
     "output_type": "display_data"
    }
   ],
   "source": [
    "train_transforms = [\n",
    "    {\n",
    "        \"name\": \"ToTensor\",\n",
    "        \"args\": {},\n",
    "    },\n",
    "    {\n",
    "        \"name\": \"Normalize\",\n",
    "        \"args\": {\"mean\": (0.5, 0.5, 0.5), \"std\": (0.5, 0.5, 0.5)},\n",
    "    },\n",
    "    {\n",
    "        \"name\": \"RandomAffine\",\n",
    "        \"args\": {\"degrees\": 10, \"translate\": (0.1, 0.1), \"scale\": (0.8, 1.2)},\n",
    "    },\n",
    "    {\n",
    "        \"name\": \"RandomHorizontalFlip\",\n",
    "        \"args\": {\"p\": 0.5},\n",
    "    },\n",
    "    {\n",
    "        \"name\": \"GaussianBlur\",\n",
    "        \"args\": {\"kernel_size\": 3},\n",
    "    },\n",
    "]\n",
    "valid_transforms = [\n",
    "    {\n",
    "        \"name\": \"ToTensor\",\n",
    "        \"args\": {},\n",
    "    },\n",
    "    {\n",
    "        \"name\": \"Normalize\",\n",
    "        \"args\": {\"mean\": (0.5, 0.5, 0.5), \"std\": (0.5, 0.5, 0.5)},\n",
    "    },\n",
    "]\n",
    "\n",
    "network = \"tln\"\n",
    "num_epochs = 200\n",
    "batch_size = 128\n",
    "opt_args = {\"name\": \"Adam\", \"lr\": 1e-4}\n",
    "sch_args = {\"name\": \"MultiStepLR\", \"milestones\": [50, 100, 150], \"gamma\": 0.5}\n",
    "\n",
    "net, loss_fn = experiment(\n",
    "    train_transforms, valid_transforms, network, num_epochs, batch_size, opt_args, sch_args=sch_args,\n",
    ")"
   ]
  },
  {
   "cell_type": "code",
   "execution_count": 6,
   "id": "6e0aef7a-6f58-46f8-9b6b-c4ced12014da",
   "metadata": {},
   "outputs": [
    {
     "name": "stdout",
     "output_type": "stream",
     "text": [
      "----------------------------------------------------------------\n",
      "        Layer (type)               Output Shape         Param #\n",
      "================================================================\n",
      "            Linear-1                  [-1, 512]       1,573,376\n",
      "              ReLU-2                  [-1, 512]               0\n",
      "            Linear-3                   [-1, 10]           5,130\n",
      "================================================================\n",
      "Total params: 1,578,506\n",
      "Trainable params: 1,578,506\n",
      "Non-trainable params: 0\n",
      "----------------------------------------------------------------\n",
      "Input size (MB): 0.01\n",
      "Forward/backward pass size (MB): 0.01\n",
      "Params size (MB): 6.02\n",
      "Estimated Total Size (MB): 6.04\n",
      "----------------------------------------------------------------\n"
     ]
    }
   ],
   "source": [
    "summary(net, input_size=(3 * 32 * 32,))"
   ]
  },
  {
   "cell_type": "code",
   "execution_count": 7,
   "id": "72e70f58-2523-41a0-b057-b4de2ce3d2e0",
   "metadata": {},
   "outputs": [],
   "source": [
    "test_transforms = [\n",
    "    {\n",
    "        \"name\": \"ToTensor\",\n",
    "        \"args\": {},\n",
    "    },\n",
    "    {\n",
    "        \"name\": \"Normalize\",\n",
    "        \"args\": {\"mean\": (0.5, 0.5, 0.5), \"std\": (0.5, 0.5, 0.5)},\n",
    "    },\n",
    "]\n",
    "test_transform = InputTransform(test_transforms)\n",
    "test_dataset = CIFAR(root=\"../datasets/CIFAR-10/\", mode=\"test\", transform=test_transform)\n",
    "test_loader = get_dataloader(test_dataset, train=False, batch_size=128, num_workers=0)"
   ]
  },
  {
   "cell_type": "code",
   "execution_count": 8,
   "id": "786ba689-88e5-467f-b243-d1fb6e8568dc",
   "metadata": {},
   "outputs": [
    {
     "name": "stderr",
     "output_type": "stream",
     "text": [
      "Evaluate: Epoch [1/1]: 100%|██████████████████████████████| 79/79 [00:00<00:00, 205.77it/s]                                                "
     ]
    },
    {
     "name": "stdout",
     "output_type": "stream",
     "text": [
      "TEST \t: Summary: Loss: 1.1413 Accuracy: 0.6026\n"
     ]
    },
    {
     "name": "stderr",
     "output_type": "stream",
     "text": [
      "\n"
     ]
    },
    {
     "data": {
      "text/plain": [
       "(1.1413381009162227, 0.6026)"
      ]
     },
     "execution_count": 8,
     "metadata": {},
     "output_type": "execute_result"
    }
   ],
   "source": [
    "evaluate(net, test_loader, loss_fn, 1, 1, \"test\")"
   ]
  },
  {
   "cell_type": "code",
   "execution_count": 9,
   "id": "4747220c-f8d2-4009-bf66-e12e3074ff07",
   "metadata": {},
   "outputs": [],
   "source": [
    "torch.save(net, \"../checkpoints/tln_best_hparams.pt\")"
   ]
  },
  {
   "cell_type": "code",
   "execution_count": null,
   "id": "ae4ec8a1-1978-4879-b9ad-14646424d384",
   "metadata": {},
   "outputs": [],
   "source": []
  }
 ],
 "metadata": {
  "kernelspec": {
   "display_name": "Python 3 (ipykernel)",
   "language": "python",
   "name": "python3"
  },
  "language_info": {
   "codemirror_mode": {
    "name": "ipython",
    "version": 3
   },
   "file_extension": ".py",
   "mimetype": "text/x-python",
   "name": "python",
   "nbconvert_exporter": "python",
   "pygments_lexer": "ipython3",
   "version": "3.9.7"
  }
 },
 "nbformat": 4,
 "nbformat_minor": 5
}
