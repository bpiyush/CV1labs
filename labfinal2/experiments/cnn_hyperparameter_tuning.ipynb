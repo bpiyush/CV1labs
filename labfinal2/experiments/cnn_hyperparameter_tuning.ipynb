{
 "cells": [
  {
   "cell_type": "code",
   "execution_count": 1,
   "id": "5507a249-fc78-4cfc-a933-ca345d0f1ee6",
   "metadata": {},
   "outputs": [],
   "source": [
    "%load_ext autoreload\n",
    "%autoreload 2"
   ]
  },
  {
   "cell_type": "code",
   "execution_count": 2,
   "id": "991c17b7-ff63-4049-9456-f3486680261d",
   "metadata": {},
   "outputs": [],
   "source": [
    "import sys\n",
    "sys.path.insert(0, \"../\")"
   ]
  },
  {
   "cell_type": "code",
   "execution_count": 3,
   "id": "80d8b0e7-7191-4e51-9743-f0e923743548",
   "metadata": {},
   "outputs": [],
   "source": [
    "import torch.nn as nn\n",
    "from torchsummary import summary\n",
    "\n",
    "from data.input_transforms import InputTransform\n",
    "from data.cifar import CIFAR\n",
    "from data.dataloader import get_dataloader\n",
    "from models.optimizer import optimizer, scheduler\n",
    "from networks.twolayernet import TwolayerNet\n",
    "from networks.convnet import ConvNet\n",
    "from utils.viz import plot_multiple_quantities_by_time\n",
    "from main import train, evaluate"
   ]
  },
  {
   "cell_type": "code",
   "execution_count": 4,
   "id": "ea471d50-2d7b-4f6f-89fb-150276fab8fd",
   "metadata": {},
   "outputs": [],
   "source": [
    "def experiment(train_transforms, valid_transforms, network, num_epochs, batch_size, opt_args, sch_args=None):\n",
    "    \n",
    "    print(train_transforms)\n",
    "    print(num_epochs)\n",
    "    print(batch_size)\n",
    "    print(opt_args)\n",
    "    print(sch_args)\n",
    "    \n",
    "    # define the datasets\n",
    "    train_transform = InputTransform(train_transforms)\n",
    "    valid_transform = InputTransform(valid_transforms)\n",
    "    train_dataset = CIFAR(root=\"../datasets/CIFAR-10/\", mode=\"train\", transform=train_transform)\n",
    "    valid_dataset = CIFAR(root=\"../datasets/CIFAR-10/\", mode=\"valid\", transform=valid_transform)\n",
    "\n",
    "    # obtain the train dataloader\n",
    "    train_loader = get_dataloader(train_dataset, train=True, batch_size=batch_size, num_workers=0)\n",
    "    valid_loader = get_dataloader(valid_dataset, train=False, batch_size=batch_size, num_workers=0)\n",
    "    \n",
    "    if network == \"tln\":\n",
    "        net = TwolayerNet(num_inputs=3 * 32 * 32, num_hidden=512, num_classes=10)\n",
    "    elif network == \"cnn\":\n",
    "        net = ConvNet(in_channels=3, num_classes=10)\n",
    "    else:\n",
    "        raise ValueError()\n",
    "    arch = type(net).__name__\n",
    "\n",
    "    # define the optimizer and scheduler\n",
    "    opt = optimizer(model_params=net.parameters(), **opt_args)\n",
    "    sch = None\n",
    "    if sch_args is not None:\n",
    "        sch = scheduler(opt=opt, **sch_args)\n",
    "\n",
    "    # define the loss function\n",
    "    loss_fn = nn.CrossEntropyLoss()\n",
    "\n",
    "    # train the model\n",
    "    epochs, train_losses, train_metrics, valid_losses, valid_metrics = train(\n",
    "        net, loss_fn, train_loader, valid_loader, num_epochs=num_epochs, opt=opt, sch=sch,\n",
    "    )\n",
    "\n",
    "    # plot training curves\n",
    "    plot_multiple_quantities_by_time(\n",
    "        quantities=[train_losses[\"loss\"], valid_losses[\"loss\"]],\n",
    "        time=epochs,\n",
    "        labels=[\"Train\", \"Validation\"],\n",
    "        title=f\"{arch} Loss curves\",\n",
    "        show=True,\n",
    "        save=True,\n",
    "        save_path=\"../results/cnn_loss_plot_best.png\",\n",
    "        ylabel=\"Loss\",\n",
    "    )\n",
    "    plot_multiple_quantities_by_time(\n",
    "        quantities=[train_metrics[\"accuracy\"], valid_metrics[\"accuracy\"]],\n",
    "        time=epochs,\n",
    "        labels=[\"Train\", \"Validation\"],\n",
    "        title=f\"{arch} Accuracy curves\",\n",
    "        show=True,\n",
    "        save=True,\n",
    "        save_path=\"../results/cnn_accu_plot_best.png\",\n",
    "        ylabel=\"Accuracy\",\n",
    "    )\n",
    "    \n",
    "    return net, loss_fn"
   ]
  },
  {
   "cell_type": "code",
   "execution_count": null,
   "id": "d17ddae0-bd09-4b43-8c87-f69b7c417c95",
   "metadata": {},
   "outputs": [
    {
     "name": "stdout",
     "output_type": "stream",
     "text": [
      "[{'name': 'ToTensor', 'args': {}}, {'name': 'Normalize', 'args': {'mean': (0.5, 0.5, 0.5), 'std': (0.5, 0.5, 0.5)}}, {'name': 'RandomAffine', 'args': {'degrees': 10, 'translate': (0.1, 0.1), 'scale': (0.8, 1.2)}}]\n",
      "100\n",
      "128\n",
      "{'name': 'Adam', 'lr': 0.001}\n",
      "{'name': 'MultiStepLR', 'milestones': [50], 'gamma': 0.1}\n",
      "Selecting 40000 for train.\n",
      "Selecting 10000 for valid.\n"
     ]
    },
    {
     "name": "stderr",
     "output_type": "stream",
     "text": [
      "Training: Epoch [1/100]: 100%|██████████████████████████████| 313/313 [00:09<00:00, 34.54it/s]                                             \n",
      "Evaluate: Epoch [1/100]: 100%|██████████████████████████████| 79/79 [00:00<00:00, 115.61it/s]                                              \n"
     ]
    },
    {
     "name": "stdout",
     "output_type": "stream",
     "text": [
      "VALID \t: Summary: Loss: 1.6925 Accuracy: 0.3817\n",
      "TRAIN \t: Summary: Loss: 1.9289 Accuracy: 0.2925\n"
     ]
    },
    {
     "name": "stderr",
     "output_type": "stream",
     "text": [
      "Training: Epoch [2/100]: 100%|██████████████████████████████| 313/313 [00:09<00:00, 31.60it/s]                                             \n",
      "Evaluate: Epoch [2/100]: 100%|██████████████████████████████| 79/79 [00:00<00:00, 111.43it/s]                                              \n"
     ]
    },
    {
     "name": "stdout",
     "output_type": "stream",
     "text": [
      "VALID \t: Summary: Loss: 1.5297 Accuracy: 0.4442\n",
      "TRAIN \t: Summary: Loss: 1.6867 Accuracy: 0.3843\n"
     ]
    },
    {
     "name": "stderr",
     "output_type": "stream",
     "text": [
      "Training: Epoch [3/100]: 100%|██████████████████████████████| 313/313 [00:10<00:00, 31.18it/s]                                             \n",
      "Evaluate: Epoch [3/100]: 100%|██████████████████████████████| 79/79 [00:00<00:00, 124.71it/s]                                              \n"
     ]
    },
    {
     "name": "stdout",
     "output_type": "stream",
     "text": [
      "VALID \t: Summary: Loss: 1.4317 Accuracy: 0.4852\n",
      "TRAIN \t: Summary: Loss: 1.5723 Accuracy: 0.4274\n"
     ]
    },
    {
     "name": "stderr",
     "output_type": "stream",
     "text": [
      "Training: Epoch [4/100]: 100%|██████████████████████████████| 313/313 [00:09<00:00, 32.10it/s]                                             \n",
      "Evaluate: Epoch [4/100]: 100%|██████████████████████████████| 79/79 [00:00<00:00, 127.22it/s]                                              \n"
     ]
    },
    {
     "name": "stdout",
     "output_type": "stream",
     "text": [
      "VALID \t: Summary: Loss: 1.3653 Accuracy: 0.5076\n",
      "TRAIN \t: Summary: Loss: 1.5005 Accuracy: 0.4570\n"
     ]
    },
    {
     "name": "stderr",
     "output_type": "stream",
     "text": [
      "Training: Epoch [5/100]: 100%|██████████████████████████████| 313/313 [00:09<00:00, 32.19it/s]                                             \n",
      "Evaluate: Epoch [5/100]: 100%|██████████████████████████████| 79/79 [00:00<00:00, 125.03it/s]                                              \n"
     ]
    },
    {
     "name": "stdout",
     "output_type": "stream",
     "text": [
      "VALID \t: Summary: Loss: 1.3216 Accuracy: 0.5220\n",
      "TRAIN \t: Summary: Loss: 1.4524 Accuracy: 0.4744\n"
     ]
    },
    {
     "name": "stderr",
     "output_type": "stream",
     "text": [
      "Training: Epoch [6/100]: 100%|██████████████████████████████| 313/313 [00:09<00:00, 32.27it/s]                                             \n",
      "Evaluate: Epoch [6/100]: 100%|██████████████████████████████| 79/79 [00:00<00:00, 112.68it/s]                                              \n"
     ]
    },
    {
     "name": "stdout",
     "output_type": "stream",
     "text": [
      "VALID \t: Summary: Loss: 1.2748 Accuracy: 0.5399\n",
      "TRAIN \t: Summary: Loss: 1.4186 Accuracy: 0.4906\n"
     ]
    },
    {
     "name": "stderr",
     "output_type": "stream",
     "text": [
      "Training: Epoch [7/100]: 100%|██████████████████████████████| 313/313 [00:10<00:00, 28.50it/s]                                             \n",
      "Evaluate: Epoch [7/100]: 100%|██████████████████████████████| 79/79 [00:00<00:00, 123.84it/s]                                              \n"
     ]
    },
    {
     "name": "stdout",
     "output_type": "stream",
     "text": [
      "VALID \t: Summary: Loss: 1.2459 Accuracy: 0.5540\n",
      "TRAIN \t: Summary: Loss: 1.3800 Accuracy: 0.5030\n"
     ]
    },
    {
     "name": "stderr",
     "output_type": "stream",
     "text": [
      "Training: Epoch [8/100]: 100%|██████████████████████████████| 313/313 [00:10<00:00, 29.98it/s]                                             \n",
      "Evaluate: Epoch [8/100]: 100%|██████████████████████████████| 79/79 [00:00<00:00, 111.79it/s]                                              \n"
     ]
    },
    {
     "name": "stdout",
     "output_type": "stream",
     "text": [
      "VALID \t: Summary: Loss: 1.2407 Accuracy: 0.5462\n",
      "TRAIN \t: Summary: Loss: 1.3507 Accuracy: 0.5130\n"
     ]
    },
    {
     "name": "stderr",
     "output_type": "stream",
     "text": [
      "Training: Epoch [9/100]: 100%|██████████████████████████████| 313/313 [00:09<00:00, 31.74it/s]                                             \n",
      "Evaluate: Epoch [9/100]: 100%|██████████████████████████████| 79/79 [00:00<00:00, 126.14it/s]                                              \n"
     ]
    },
    {
     "name": "stdout",
     "output_type": "stream",
     "text": [
      "VALID \t: Summary: Loss: 1.1965 Accuracy: 0.5711\n",
      "TRAIN \t: Summary: Loss: 1.3201 Accuracy: 0.5258\n"
     ]
    },
    {
     "name": "stderr",
     "output_type": "stream",
     "text": [
      "Training: Epoch [10/100]: 100%|██████████████████████████████| 313/313 [00:10<00:00, 30.91it/s]                                            \n",
      "Evaluate: Epoch [10/100]: 100%|██████████████████████████████| 79/79 [00:00<00:00, 128.06it/s]                                             \n"
     ]
    },
    {
     "name": "stdout",
     "output_type": "stream",
     "text": [
      "VALID \t: Summary: Loss: 1.1709 Accuracy: 0.5820\n",
      "TRAIN \t: Summary: Loss: 1.2930 Accuracy: 0.5376\n"
     ]
    },
    {
     "name": "stderr",
     "output_type": "stream",
     "text": [
      "Training: Epoch [11/100]: 100%|██████████████████████████████| 313/313 [00:09<00:00, 32.06it/s]                                            \n",
      "Evaluate: Epoch [11/100]: 100%|██████████████████████████████| 79/79 [00:00<00:00, 122.65it/s]                                             \n"
     ]
    },
    {
     "name": "stdout",
     "output_type": "stream",
     "text": [
      "VALID \t: Summary: Loss: 1.1792 Accuracy: 0.5693\n",
      "TRAIN \t: Summary: Loss: 1.2755 Accuracy: 0.5437\n"
     ]
    },
    {
     "name": "stderr",
     "output_type": "stream",
     "text": [
      "Training: Epoch [12/100]: 100%|██████████████████████████████| 313/313 [00:09<00:00, 31.64it/s]                                            \n",
      "Evaluate: Epoch [12/100]: 100%|██████████████████████████████| 79/79 [00:00<00:00, 124.06it/s]                                             \n"
     ]
    },
    {
     "name": "stdout",
     "output_type": "stream",
     "text": [
      "VALID \t: Summary: Loss: 1.1512 Accuracy: 0.5890\n",
      "TRAIN \t: Summary: Loss: 1.2532 Accuracy: 0.5519\n"
     ]
    },
    {
     "name": "stderr",
     "output_type": "stream",
     "text": [
      "Training: Epoch [13/100]: 100%|██████████████████████████████| 313/313 [00:10<00:00, 29.63it/s]                                            \n",
      "Evaluate: Epoch [13/100]: 100%|██████████████████████████████| 79/79 [00:00<00:00, 117.27it/s]                                             \n"
     ]
    },
    {
     "name": "stdout",
     "output_type": "stream",
     "text": [
      "VALID \t: Summary: Loss: 1.1154 Accuracy: 0.5995\n",
      "TRAIN \t: Summary: Loss: 1.2398 Accuracy: 0.5597\n"
     ]
    },
    {
     "name": "stderr",
     "output_type": "stream",
     "text": [
      "Training: Epoch [14/100]: 100%|██████████████████████████████| 313/313 [00:09<00:00, 31.90it/s]                                            \n",
      "Evaluate: Epoch [14/100]: 100%|██████████████████████████████| 79/79 [00:00<00:00, 123.84it/s]                                             \n"
     ]
    },
    {
     "name": "stdout",
     "output_type": "stream",
     "text": [
      "VALID \t: Summary: Loss: 1.1332 Accuracy: 0.5944\n",
      "TRAIN \t: Summary: Loss: 1.2283 Accuracy: 0.5618\n"
     ]
    },
    {
     "name": "stderr",
     "output_type": "stream",
     "text": [
      "Training: Epoch [15/100]: 100%|██████████████████████████████| 313/313 [00:09<00:00, 31.60it/s]                                            \n",
      "Evaluate: Epoch [15/100]: 100%|██████████████████████████████| 79/79 [00:00<00:00, 124.32it/s]                                             \n"
     ]
    },
    {
     "name": "stdout",
     "output_type": "stream",
     "text": [
      "VALID \t: Summary: Loss: 1.1046 Accuracy: 0.6043\n",
      "TRAIN \t: Summary: Loss: 1.2160 Accuracy: 0.5638\n"
     ]
    },
    {
     "name": "stderr",
     "output_type": "stream",
     "text": [
      "Training: Epoch [16/100]: 100%|██████████████████████████████| 313/313 [00:09<00:00, 31.69it/s]                                            \n",
      "Evaluate: Epoch [16/100]: 100%|██████████████████████████████| 79/79 [00:00<00:00, 125.65it/s]                                             \n"
     ]
    },
    {
     "name": "stdout",
     "output_type": "stream",
     "text": [
      "VALID \t: Summary: Loss: 1.1169 Accuracy: 0.6071\n",
      "TRAIN \t: Summary: Loss: 1.1983 Accuracy: 0.5736\n"
     ]
    },
    {
     "name": "stderr",
     "output_type": "stream",
     "text": [
      "Training: Epoch [17/100]: 100%|██████████████████████████████| 313/313 [00:09<00:00, 31.90it/s]                                            \n",
      "Evaluate: Epoch [17/100]: 100%|██████████████████████████████| 79/79 [00:00<00:00, 122.21it/s]                                             \n"
     ]
    },
    {
     "name": "stdout",
     "output_type": "stream",
     "text": [
      "VALID \t: Summary: Loss: 1.0852 Accuracy: 0.6109\n",
      "TRAIN \t: Summary: Loss: 1.1912 Accuracy: 0.5736\n"
     ]
    },
    {
     "name": "stderr",
     "output_type": "stream",
     "text": [
      "Training: Epoch [18/100]: 100%|██████████████████████████████| 313/313 [00:09<00:00, 31.84it/s]                                            \n",
      "Evaluate: Epoch [18/100]: 100%|██████████████████████████████| 79/79 [00:00<00:00, 127.72it/s]                                             \n"
     ]
    },
    {
     "name": "stdout",
     "output_type": "stream",
     "text": [
      "VALID \t: Summary: Loss: 1.0859 Accuracy: 0.6153\n",
      "TRAIN \t: Summary: Loss: 1.1725 Accuracy: 0.5835\n"
     ]
    },
    {
     "name": "stderr",
     "output_type": "stream",
     "text": [
      "Training: Epoch [19/100]: 100%|██████████████████████████████| 313/313 [00:09<00:00, 31.82it/s]                                            \n",
      "Evaluate: Epoch [19/100]: 100%|██████████████████████████████| 79/79 [00:00<00:00, 125.42it/s]                                             \n"
     ]
    },
    {
     "name": "stdout",
     "output_type": "stream",
     "text": [
      "VALID \t: Summary: Loss: 1.0813 Accuracy: 0.6152\n",
      "TRAIN \t: Summary: Loss: 1.1676 Accuracy: 0.5834\n"
     ]
    },
    {
     "name": "stderr",
     "output_type": "stream",
     "text": [
      "Training: Epoch [20/100]: 100%|██████████████████████████████| 313/313 [00:10<00:00, 30.98it/s]                                            \n",
      "Evaluate: Epoch [20/100]: 100%|██████████████████████████████| 79/79 [00:00<00:00, 122.04it/s]                                             \n"
     ]
    },
    {
     "name": "stdout",
     "output_type": "stream",
     "text": [
      "VALID \t: Summary: Loss: 1.0852 Accuracy: 0.6161\n",
      "TRAIN \t: Summary: Loss: 1.1566 Accuracy: 0.5877\n"
     ]
    },
    {
     "name": "stderr",
     "output_type": "stream",
     "text": [
      "Training: Epoch [21/100]: 100%|██████████████████████████████| 313/313 [00:09<00:00, 31.84it/s]                                            \n",
      "Evaluate: Epoch [21/100]: 100%|██████████████████████████████| 79/79 [00:00<00:00, 123.06it/s]                                             \n"
     ]
    },
    {
     "name": "stdout",
     "output_type": "stream",
     "text": [
      "VALID \t: Summary: Loss: 1.0670 Accuracy: 0.6241\n",
      "TRAIN \t: Summary: Loss: 1.1564 Accuracy: 0.5884\n"
     ]
    },
    {
     "name": "stderr",
     "output_type": "stream",
     "text": [
      "Training: Epoch [22/100]: 100%|██████████████████████████████| 313/313 [00:10<00:00, 31.03it/s]                                            \n",
      "Evaluate: Epoch [22/100]: 100%|██████████████████████████████| 79/79 [00:00<00:00, 111.02it/s]                                             \n"
     ]
    },
    {
     "name": "stdout",
     "output_type": "stream",
     "text": [
      "VALID \t: Summary: Loss: 1.0563 Accuracy: 0.6282\n",
      "TRAIN \t: Summary: Loss: 1.1395 Accuracy: 0.5955\n"
     ]
    },
    {
     "name": "stderr",
     "output_type": "stream",
     "text": [
      "Training: Epoch [23/100]: 100%|██████████████████████████████| 313/313 [00:09<00:00, 31.47it/s]                                            \n",
      "Evaluate: Epoch [23/100]: 100%|██████████████████████████████| 79/79 [00:00<00:00, 127.72it/s]                                             \n"
     ]
    },
    {
     "name": "stdout",
     "output_type": "stream",
     "text": [
      "VALID \t: Summary: Loss: 1.0384 Accuracy: 0.6322\n",
      "TRAIN \t: Summary: Loss: 1.1314 Accuracy: 0.5997\n"
     ]
    },
    {
     "name": "stderr",
     "output_type": "stream",
     "text": [
      "Training: Epoch [24/100]: 100%|██████████████████████████████| 313/313 [00:09<00:00, 31.33it/s]                                            \n",
      "Evaluate: Epoch [24/100]: 100%|██████████████████████████████| 79/79 [00:00<00:00, 126.35it/s]                                             \n"
     ]
    },
    {
     "name": "stdout",
     "output_type": "stream",
     "text": [
      "VALID \t: Summary: Loss: 1.0621 Accuracy: 0.6210\n",
      "TRAIN \t: Summary: Loss: 1.1222 Accuracy: 0.6021\n"
     ]
    },
    {
     "name": "stderr",
     "output_type": "stream",
     "text": [
      "Training: Epoch [25/100]: 100%|██████████████████████████████| 313/313 [00:09<00:00, 31.76it/s]                                            \n",
      "Evaluate: Epoch [25/100]: 100%|██████████████████████████████| 79/79 [00:00<00:00, 123.42it/s]                                             \n"
     ]
    },
    {
     "name": "stdout",
     "output_type": "stream",
     "text": [
      "VALID \t: Summary: Loss: 1.0259 Accuracy: 0.6372\n",
      "TRAIN \t: Summary: Loss: 1.1101 Accuracy: 0.6026\n"
     ]
    },
    {
     "name": "stderr",
     "output_type": "stream",
     "text": [
      "Training: Epoch [26/100]: 100%|██████████████████████████████| 313/313 [00:09<00:00, 32.00it/s]                                            \n",
      "Evaluate: Epoch [26/100]: 100%|██████████████████████████████| 79/79 [00:00<00:00, 128.50it/s]                                             \n"
     ]
    },
    {
     "name": "stdout",
     "output_type": "stream",
     "text": [
      "VALID \t: Summary: Loss: 1.0468 Accuracy: 0.6260\n",
      "TRAIN \t: Summary: Loss: 1.1106 Accuracy: 0.6066\n"
     ]
    },
    {
     "name": "stderr",
     "output_type": "stream",
     "text": [
      "Training: Epoch [27/100]: 100%|██████████████████████████████| 313/313 [00:09<00:00, 31.77it/s]                                            \n",
      "Evaluate: Epoch [27/100]: 100%|██████████████████████████████| 79/79 [00:00<00:00, 127.76it/s]                                             \n"
     ]
    },
    {
     "name": "stdout",
     "output_type": "stream",
     "text": [
      "VALID \t: Summary: Loss: 1.0198 Accuracy: 0.6371\n",
      "TRAIN \t: Summary: Loss: 1.1009 Accuracy: 0.6082\n"
     ]
    },
    {
     "name": "stderr",
     "output_type": "stream",
     "text": [
      "Training: Epoch [28/100]: 100%|██████████████████████████████| 313/313 [00:09<00:00, 31.84it/s]                                            \n",
      "Evaluate: Epoch [28/100]: 100%|██████████████████████████████| 79/79 [00:00<00:00, 123.41it/s]                                             \n"
     ]
    },
    {
     "name": "stdout",
     "output_type": "stream",
     "text": [
      "VALID \t: Summary: Loss: 1.0600 Accuracy: 0.6210\n",
      "TRAIN \t: Summary: Loss: 1.0972 Accuracy: 0.6093\n"
     ]
    },
    {
     "name": "stderr",
     "output_type": "stream",
     "text": [
      "Training: Epoch [29/100]: 100%|██████████████████████████████| 313/313 [00:10<00:00, 31.02it/s]                                            \n",
      "Evaluate: Epoch [29/100]: 100%|██████████████████████████████| 79/79 [00:00<00:00, 129.96it/s]                                             \n"
     ]
    },
    {
     "name": "stdout",
     "output_type": "stream",
     "text": [
      "VALID \t: Summary: Loss: 1.0303 Accuracy: 0.6315\n",
      "TRAIN \t: Summary: Loss: 1.0943 Accuracy: 0.6112\n"
     ]
    },
    {
     "name": "stderr",
     "output_type": "stream",
     "text": [
      "Training: Epoch [30/100]: 100%|██████████████████████████████| 313/313 [00:09<00:00, 31.97it/s]                                            \n",
      "Evaluate: Epoch [30/100]: 100%|██████████████████████████████| 79/79 [00:00<00:00, 123.83it/s]                                             \n"
     ]
    },
    {
     "name": "stdout",
     "output_type": "stream",
     "text": [
      "VALID \t: Summary: Loss: 1.0106 Accuracy: 0.6411\n",
      "TRAIN \t: Summary: Loss: 1.0815 Accuracy: 0.6155\n"
     ]
    },
    {
     "name": "stderr",
     "output_type": "stream",
     "text": [
      "Training: Epoch [31/100]: 100%|██████████████████████████████| 313/313 [00:10<00:00, 29.62it/s]                                            \n",
      "Evaluate: Epoch [31/100]: 100%|██████████████████████████████| 79/79 [00:00<00:00, 126.35it/s]                                             \n"
     ]
    },
    {
     "name": "stdout",
     "output_type": "stream",
     "text": [
      "VALID \t: Summary: Loss: 1.0023 Accuracy: 0.6422\n",
      "TRAIN \t: Summary: Loss: 1.0713 Accuracy: 0.6173\n"
     ]
    },
    {
     "name": "stderr",
     "output_type": "stream",
     "text": [
      "Training: Epoch [32/100]: 100%|██████████████████████████████| 313/313 [00:10<00:00, 30.22it/s]                                            \n",
      "Evaluate: Epoch [32/100]: 100%|██████████████████████████████| 79/79 [00:00<00:00, 124.17it/s]                                             \n"
     ]
    },
    {
     "name": "stdout",
     "output_type": "stream",
     "text": [
      "VALID \t: Summary: Loss: 0.9983 Accuracy: 0.6480\n",
      "TRAIN \t: Summary: Loss: 1.0724 Accuracy: 0.6190\n"
     ]
    },
    {
     "name": "stderr",
     "output_type": "stream",
     "text": [
      "Training: Epoch [33/100]: 100%|██████████████████████████████| 313/313 [00:10<00:00, 31.26it/s]                                            \n",
      "Evaluate: Epoch [33/100]: 100%|██████████████████████████████| 79/79 [00:00<00:00, 125.23it/s]                                             \n"
     ]
    },
    {
     "name": "stdout",
     "output_type": "stream",
     "text": [
      "VALID \t: Summary: Loss: 1.0230 Accuracy: 0.6374\n",
      "TRAIN \t: Summary: Loss: 1.0650 Accuracy: 0.6238\n"
     ]
    },
    {
     "name": "stderr",
     "output_type": "stream",
     "text": [
      "Training: Epoch [34/100]: 100%|██████████████████████████████| 313/313 [00:09<00:00, 31.96it/s]                                            \n",
      "Evaluate: Epoch [34/100]: 100%|██████████████████████████████| 79/79 [00:00<00:00, 121.10it/s]                                             \n"
     ]
    },
    {
     "name": "stdout",
     "output_type": "stream",
     "text": [
      "VALID \t: Summary: Loss: 1.0065 Accuracy: 0.6439\n",
      "TRAIN \t: Summary: Loss: 1.0555 Accuracy: 0.6248\n"
     ]
    },
    {
     "name": "stderr",
     "output_type": "stream",
     "text": [
      "Training: Epoch [35/100]: 100%|██████████████████████████████| 313/313 [00:09<00:00, 32.26it/s]                                            \n",
      "Evaluate: Epoch [35/100]: 100%|██████████████████████████████| 79/79 [00:00<00:00, 126.78it/s]                                             \n"
     ]
    },
    {
     "name": "stdout",
     "output_type": "stream",
     "text": [
      "VALID \t: Summary: Loss: 0.9977 Accuracy: 0.6464\n",
      "TRAIN \t: Summary: Loss: 1.0524 Accuracy: 0.6244\n"
     ]
    },
    {
     "name": "stderr",
     "output_type": "stream",
     "text": [
      "Training: Epoch [36/100]: 100%|██████████████████████████████| 313/313 [00:09<00:00, 31.81it/s]                                            \n",
      "Evaluate: Epoch [36/100]: 100%|██████████████████████████████| 79/79 [00:00<00:00, 127.14it/s]                                             \n"
     ]
    },
    {
     "name": "stdout",
     "output_type": "stream",
     "text": [
      "VALID \t: Summary: Loss: 0.9898 Accuracy: 0.6482\n",
      "TRAIN \t: Summary: Loss: 1.0522 Accuracy: 0.6278\n"
     ]
    },
    {
     "name": "stderr",
     "output_type": "stream",
     "text": [
      "Training: Epoch [37/100]: 100%|██████████████████████████████| 313/313 [00:09<00:00, 31.73it/s]                                            \n",
      "Evaluate: Epoch [37/100]: 100%|██████████████████████████████| 79/79 [00:00<00:00, 126.35it/s]                                             \n"
     ]
    },
    {
     "name": "stdout",
     "output_type": "stream",
     "text": [
      "VALID \t: Summary: Loss: 0.9818 Accuracy: 0.6518\n",
      "TRAIN \t: Summary: Loss: 1.0434 Accuracy: 0.6312\n"
     ]
    },
    {
     "name": "stderr",
     "output_type": "stream",
     "text": [
      "Training: Epoch [38/100]: 100%|██████████████████████████████| 313/313 [00:09<00:00, 31.97it/s]                                            \n",
      "Evaluate: Epoch [38/100]: 100%|██████████████████████████████| 79/79 [00:00<00:00, 126.19it/s]                                             \n"
     ]
    },
    {
     "name": "stdout",
     "output_type": "stream",
     "text": [
      "VALID \t: Summary: Loss: 0.9860 Accuracy: 0.6484\n",
      "TRAIN \t: Summary: Loss: 1.0454 Accuracy: 0.6297\n"
     ]
    },
    {
     "name": "stderr",
     "output_type": "stream",
     "text": [
      "Training: Epoch [39/100]: 100%|██████████████████████████████| 313/313 [00:09<00:00, 31.81it/s]                                            \n",
      "Evaluate: Epoch [39/100]: 100%|██████████████████████████████| 79/79 [00:00<00:00, 126.49it/s]                                             \n"
     ]
    },
    {
     "name": "stdout",
     "output_type": "stream",
     "text": [
      "VALID \t: Summary: Loss: 1.0100 Accuracy: 0.6441\n",
      "TRAIN \t: Summary: Loss: 1.0398 Accuracy: 0.6295\n"
     ]
    },
    {
     "name": "stderr",
     "output_type": "stream",
     "text": [
      "Training: Epoch [40/100]: 100%|██████████████████████████████| 313/313 [00:10<00:00, 29.32it/s]                                            \n",
      "Evaluate: Epoch [40/100]: 100%|██████████████████████████████| 79/79 [00:00<00:00, 111.94it/s]                                             \n"
     ]
    },
    {
     "name": "stdout",
     "output_type": "stream",
     "text": [
      "VALID \t: Summary: Loss: 0.9742 Accuracy: 0.6607\n",
      "TRAIN \t: Summary: Loss: 1.0412 Accuracy: 0.6295\n"
     ]
    },
    {
     "name": "stderr",
     "output_type": "stream",
     "text": [
      "Training: Epoch [41/100]: 100%|██████████████████████████████| 313/313 [00:09<00:00, 31.32it/s]                                            \n",
      "Evaluate: Epoch [41/100]: 100%|██████████████████████████████| 79/79 [00:00<00:00, 92.81it/s]                                              \n"
     ]
    },
    {
     "name": "stdout",
     "output_type": "stream",
     "text": [
      "VALID \t: Summary: Loss: 0.9653 Accuracy: 0.6598\n",
      "TRAIN \t: Summary: Loss: 1.0301 Accuracy: 0.6343\n"
     ]
    },
    {
     "name": "stderr",
     "output_type": "stream",
     "text": [
      "Training: Epoch [42/100]: 100%|██████████████████████████████| 313/313 [00:11<00:00, 27.10it/s]                                            \n",
      "Evaluate: Epoch [42/100]: 100%|██████████████████████████████| 79/79 [00:00<00:00, 121.10it/s]                                             \n"
     ]
    },
    {
     "name": "stdout",
     "output_type": "stream",
     "text": [
      "VALID \t: Summary: Loss: 0.9810 Accuracy: 0.6519\n",
      "TRAIN \t: Summary: Loss: 1.0257 Accuracy: 0.6367\n"
     ]
    },
    {
     "name": "stderr",
     "output_type": "stream",
     "text": [
      "Training: Epoch [43/100]: 100%|██████████████████████████████| 313/313 [00:10<00:00, 29.75it/s]                                            \n",
      "Evaluate: Epoch [43/100]: 100%|██████████████████████████████| 79/79 [00:00<00:00, 123.55it/s]                                             \n"
     ]
    },
    {
     "name": "stdout",
     "output_type": "stream",
     "text": [
      "VALID \t: Summary: Loss: 0.9864 Accuracy: 0.6511\n",
      "TRAIN \t: Summary: Loss: 1.0167 Accuracy: 0.6363\n"
     ]
    },
    {
     "name": "stderr",
     "output_type": "stream",
     "text": [
      "Training: Epoch [44/100]: 100%|██████████████████████████████| 313/313 [00:10<00:00, 31.13it/s]                                            \n",
      "Evaluate: Epoch [44/100]: 100%|██████████████████████████████| 79/79 [00:00<00:00, 120.07it/s]                                             \n"
     ]
    },
    {
     "name": "stdout",
     "output_type": "stream",
     "text": [
      "VALID \t: Summary: Loss: 0.9742 Accuracy: 0.6563\n",
      "TRAIN \t: Summary: Loss: 1.0173 Accuracy: 0.6360\n"
     ]
    },
    {
     "name": "stderr",
     "output_type": "stream",
     "text": [
      "Training: Epoch [45/100]: 100%|██████████████████████████████| 313/313 [00:10<00:00, 31.20it/s]                                            \n",
      "Evaluate: Epoch [45/100]: 100%|██████████████████████████████| 79/79 [00:00<00:00, 123.33it/s]                                             \n"
     ]
    },
    {
     "name": "stdout",
     "output_type": "stream",
     "text": [
      "VALID \t: Summary: Loss: 0.9690 Accuracy: 0.6552\n",
      "TRAIN \t: Summary: Loss: 1.0095 Accuracy: 0.6406\n"
     ]
    },
    {
     "name": "stderr",
     "output_type": "stream",
     "text": [
      "Training: Epoch [46/100]: 100%|██████████████████████████████| 313/313 [00:09<00:00, 31.45it/s]                                            \n",
      "Evaluate: Epoch [46/100]: 100%|██████████████████████████████| 79/79 [00:00<00:00, 122.20it/s]                                             \n"
     ]
    },
    {
     "name": "stdout",
     "output_type": "stream",
     "text": [
      "VALID \t: Summary: Loss: 0.9637 Accuracy: 0.6604\n",
      "TRAIN \t: Summary: Loss: 1.0131 Accuracy: 0.6398\n"
     ]
    },
    {
     "name": "stderr",
     "output_type": "stream",
     "text": [
      "Training: Epoch [47/100]: 100%|██████████████████████████████| 313/313 [00:10<00:00, 30.64it/s]                                            \n",
      "Evaluate: Epoch [47/100]: 100%|██████████████████████████████| 79/79 [00:00<00:00, 118.87it/s]                                             \n"
     ]
    },
    {
     "name": "stdout",
     "output_type": "stream",
     "text": [
      "VALID \t: Summary: Loss: 0.9767 Accuracy: 0.6512\n",
      "TRAIN \t: Summary: Loss: 1.0117 Accuracy: 0.6414\n"
     ]
    },
    {
     "name": "stderr",
     "output_type": "stream",
     "text": [
      "Training: Epoch [48/100]: 100%|██████████████████████████████| 313/313 [00:10<00:00, 30.07it/s]                                            \n",
      "Evaluate: Epoch [48/100]: 100%|██████████████████████████████| 79/79 [00:00<00:00, 124.80it/s]                                             \n"
     ]
    },
    {
     "name": "stdout",
     "output_type": "stream",
     "text": [
      "VALID \t: Summary: Loss: 0.9578 Accuracy: 0.6645\n",
      "TRAIN \t: Summary: Loss: 1.0091 Accuracy: 0.6417\n"
     ]
    },
    {
     "name": "stderr",
     "output_type": "stream",
     "text": [
      "Training: Epoch [49/100]: 100%|██████████████████████████████| 313/313 [00:10<00:00, 30.88it/s]                                            \n",
      "Evaluate: Epoch [49/100]: 100%|██████████████████████████████| 79/79 [00:00<00:00, 123.62it/s]                                             \n"
     ]
    },
    {
     "name": "stdout",
     "output_type": "stream",
     "text": [
      "VALID \t: Summary: Loss: 0.9668 Accuracy: 0.6547\n",
      "TRAIN \t: Summary: Loss: 1.0023 Accuracy: 0.6439\n"
     ]
    },
    {
     "name": "stderr",
     "output_type": "stream",
     "text": [
      "Training: Epoch [50/100]: 100%|██████████████████████████████| 313/313 [00:09<00:00, 31.50it/s]                                            \n",
      "Evaluate: Epoch [50/100]: 100%|██████████████████████████████| 79/79 [00:00<00:00, 128.31it/s]                                             \n"
     ]
    },
    {
     "name": "stdout",
     "output_type": "stream",
     "text": [
      "VALID \t: Summary: Loss: 0.9604 Accuracy: 0.6630\n",
      "TRAIN \t: Summary: Loss: 1.0011 Accuracy: 0.6450\n"
     ]
    },
    {
     "name": "stderr",
     "output_type": "stream",
     "text": [
      "Training: Epoch [51/100]: 100%|██████████████████████████████| 313/313 [00:10<00:00, 30.75it/s]                                            \n",
      "Evaluate: Epoch [51/100]: 100%|██████████████████████████████| 79/79 [00:00<00:00, 96.71it/s]                                              \n"
     ]
    },
    {
     "name": "stdout",
     "output_type": "stream",
     "text": [
      "VALID \t: Summary: Loss: 0.9212 Accuracy: 0.6757\n",
      "TRAIN \t: Summary: Loss: 0.9531 Accuracy: 0.6623\n"
     ]
    },
    {
     "name": "stderr",
     "output_type": "stream",
     "text": [
      "Training: Epoch [52/100]: 100%|██████████████████████████████| 313/313 [00:10<00:00, 30.90it/s]                                            \n",
      "Evaluate: Epoch [52/100]: 100%|██████████████████████████████| 79/79 [00:00<00:00, 122.29it/s]                                             \n"
     ]
    },
    {
     "name": "stdout",
     "output_type": "stream",
     "text": [
      "VALID \t: Summary: Loss: 0.9207 Accuracy: 0.6764\n",
      "TRAIN \t: Summary: Loss: 0.9412 Accuracy: 0.6670\n"
     ]
    },
    {
     "name": "stderr",
     "output_type": "stream",
     "text": [
      "Training: Epoch [53/100]: 100%|██████████████████████████████| 313/313 [00:10<00:00, 29.41it/s]                                            \n",
      "Evaluate: Epoch [53/100]: 100%|██████████████████████████████| 79/79 [00:00<00:00, 97.88it/s]                                              \n"
     ]
    },
    {
     "name": "stdout",
     "output_type": "stream",
     "text": [
      "VALID \t: Summary: Loss: 0.9198 Accuracy: 0.6747\n",
      "TRAIN \t: Summary: Loss: 0.9415 Accuracy: 0.6649\n"
     ]
    },
    {
     "name": "stderr",
     "output_type": "stream",
     "text": [
      "Training: Epoch [54/100]: 100%|██████████████████████████████| 313/313 [00:10<00:00, 31.12it/s]                                            \n",
      "Evaluate: Epoch [54/100]: 100%|██████████████████████████████| 79/79 [00:00<00:00, 124.73it/s]                                             \n"
     ]
    },
    {
     "name": "stdout",
     "output_type": "stream",
     "text": [
      "VALID \t: Summary: Loss: 0.9177 Accuracy: 0.6766\n",
      "TRAIN \t: Summary: Loss: 0.9363 Accuracy: 0.6659\n"
     ]
    },
    {
     "name": "stderr",
     "output_type": "stream",
     "text": [
      "Training: Epoch [55/100]: 100%|██████████████████████████████| 313/313 [00:09<00:00, 31.96it/s]                                            \n",
      "Evaluate: Epoch [55/100]: 100%|██████████████████████████████| 79/79 [00:00<00:00, 125.87it/s]                                             \n"
     ]
    },
    {
     "name": "stdout",
     "output_type": "stream",
     "text": [
      "VALID \t: Summary: Loss: 0.9207 Accuracy: 0.6727\n",
      "TRAIN \t: Summary: Loss: 0.9371 Accuracy: 0.6680\n"
     ]
    },
    {
     "name": "stderr",
     "output_type": "stream",
     "text": [
      "Training: Epoch [56/100]: 100%|██████████████████████████████| 313/313 [00:10<00:00, 31.25it/s]                                            \n",
      "Evaluate: Epoch [56/100]: 100%|██████████████████████████████| 79/79 [00:00<00:00, 126.07it/s]                                             \n"
     ]
    },
    {
     "name": "stdout",
     "output_type": "stream",
     "text": [
      "VALID \t: Summary: Loss: 0.9179 Accuracy: 0.6762\n",
      "TRAIN \t: Summary: Loss: 0.9363 Accuracy: 0.6687\n"
     ]
    },
    {
     "name": "stderr",
     "output_type": "stream",
     "text": [
      "Training: Epoch [57/100]: 100%|██████████████████████████████| 313/313 [00:10<00:00, 30.01it/s]                                            \n",
      "Evaluate: Epoch [57/100]: 100%|██████████████████████████████| 79/79 [00:00<00:00, 120.93it/s]                                             \n"
     ]
    },
    {
     "name": "stdout",
     "output_type": "stream",
     "text": [
      "VALID \t: Summary: Loss: 0.9164 Accuracy: 0.6762\n",
      "TRAIN \t: Summary: Loss: 0.9316 Accuracy: 0.6715\n"
     ]
    },
    {
     "name": "stderr",
     "output_type": "stream",
     "text": [
      "Training: Epoch [58/100]: 100%|██████████████████████████████| 313/313 [00:10<00:00, 29.53it/s]                                            \n",
      "Evaluate: Epoch [58/100]: 100%|██████████████████████████████| 79/79 [00:00<00:00, 118.00it/s]                                             \n"
     ]
    },
    {
     "name": "stdout",
     "output_type": "stream",
     "text": [
      "VALID \t: Summary: Loss: 0.9140 Accuracy: 0.6763\n",
      "TRAIN \t: Summary: Loss: 0.9310 Accuracy: 0.6714\n"
     ]
    },
    {
     "name": "stderr",
     "output_type": "stream",
     "text": [
      "Training: Epoch [59/100]: 100%|██████████████████████████████| 313/313 [00:09<00:00, 31.51it/s]                                            \n",
      "Evaluate: Epoch [59/100]: 100%|██████████████████████████████| 79/79 [00:00<00:00, 121.22it/s]                                             \n"
     ]
    },
    {
     "name": "stdout",
     "output_type": "stream",
     "text": [
      "VALID \t: Summary: Loss: 0.9166 Accuracy: 0.6746\n",
      "TRAIN \t: Summary: Loss: 0.9292 Accuracy: 0.6710\n"
     ]
    },
    {
     "name": "stderr",
     "output_type": "stream",
     "text": [
      "Training: Epoch [60/100]: 100%|██████████████████████████████| 313/313 [00:09<00:00, 31.66it/s]                                            \n",
      "Evaluate: Epoch [60/100]: 100%|██████████████████████████████| 79/79 [00:00<00:00, 123.75it/s]                                             \n"
     ]
    },
    {
     "name": "stdout",
     "output_type": "stream",
     "text": [
      "VALID \t: Summary: Loss: 0.9133 Accuracy: 0.6770\n",
      "TRAIN \t: Summary: Loss: 0.9316 Accuracy: 0.6727\n"
     ]
    },
    {
     "name": "stderr",
     "output_type": "stream",
     "text": [
      "Training: Epoch [61/100]: 100%|██████████████████████████████| 313/313 [00:09<00:00, 31.97it/s]                                            \n",
      "Evaluate: Epoch [61/100]: 100%|██████████████████████████████| 79/79 [00:00<00:00, 124.36it/s]                                             \n"
     ]
    },
    {
     "name": "stdout",
     "output_type": "stream",
     "text": [
      "VALID \t: Summary: Loss: 0.9178 Accuracy: 0.6779\n",
      "TRAIN \t: Summary: Loss: 0.9330 Accuracy: 0.6703\n"
     ]
    },
    {
     "name": "stderr",
     "output_type": "stream",
     "text": [
      "Training: Epoch [62/100]: 100%|██████████████████████████████| 313/313 [00:09<00:00, 31.65it/s]                                            \n",
      "Evaluate: Epoch [62/100]: 100%|██████████████████████████████| 79/79 [00:00<00:00, 126.46it/s]                                             \n"
     ]
    },
    {
     "name": "stdout",
     "output_type": "stream",
     "text": [
      "VALID \t: Summary: Loss: 0.9150 Accuracy: 0.6774\n",
      "TRAIN \t: Summary: Loss: 0.9283 Accuracy: 0.6715\n"
     ]
    },
    {
     "name": "stderr",
     "output_type": "stream",
     "text": [
      "Training: Epoch [63/100]: 100%|██████████████████████████████| 313/313 [00:10<00:00, 29.53it/s]                                            \n",
      "Evaluate: Epoch [63/100]: 100%|██████████████████████████████| 79/79 [00:00<00:00, 113.47it/s]                                             \n"
     ]
    },
    {
     "name": "stdout",
     "output_type": "stream",
     "text": [
      "VALID \t: Summary: Loss: 0.9159 Accuracy: 0.6746\n",
      "TRAIN \t: Summary: Loss: 0.9298 Accuracy: 0.6728\n"
     ]
    },
    {
     "name": "stderr",
     "output_type": "stream",
     "text": [
      "Training: Epoch [64/100]: 100%|██████████████████████████████| 313/313 [00:11<00:00, 26.32it/s]                                            \n",
      "Evaluate: Epoch [64/100]: 100%|██████████████████████████████| 79/79 [00:00<00:00, 95.87it/s]                                              \n"
     ]
    },
    {
     "name": "stdout",
     "output_type": "stream",
     "text": [
      "VALID \t: Summary: Loss: 0.9135 Accuracy: 0.6768\n",
      "TRAIN \t: Summary: Loss: 0.9295 Accuracy: 0.6688\n"
     ]
    },
    {
     "name": "stderr",
     "output_type": "stream",
     "text": [
      "Training: Epoch [65/100]: 100%|██████████████████████████████| 313/313 [00:10<00:00, 30.43it/s]                                            \n",
      "Evaluate: Epoch [65/100]: 100%|██████████████████████████████| 79/79 [00:00<00:00, 124.60it/s]                                             \n"
     ]
    },
    {
     "name": "stdout",
     "output_type": "stream",
     "text": [
      "VALID \t: Summary: Loss: 0.9149 Accuracy: 0.6796\n",
      "TRAIN \t: Summary: Loss: 0.9237 Accuracy: 0.6730\n"
     ]
    },
    {
     "name": "stderr",
     "output_type": "stream",
     "text": [
      "Training: Epoch [66/100]: 100%|██████████████████████████████| 313/313 [00:10<00:00, 31.25it/s]                                            \n",
      "Evaluate: Epoch [66/100]: 100%|██████████████████████████████| 79/79 [00:00<00:00, 126.50it/s]                                             \n"
     ]
    },
    {
     "name": "stdout",
     "output_type": "stream",
     "text": [
      "VALID \t: Summary: Loss: 0.9145 Accuracy: 0.6786\n",
      "TRAIN \t: Summary: Loss: 0.9229 Accuracy: 0.6724\n"
     ]
    },
    {
     "name": "stderr",
     "output_type": "stream",
     "text": [
      "Training: Epoch [67/100]: 100%|██████████████████████████████| 313/313 [00:10<00:00, 29.03it/s]                                            \n",
      "Evaluate: Epoch [67/100]: 100%|██████████████████████████████| 79/79 [00:00<00:00, 123.21it/s]                                             \n"
     ]
    },
    {
     "name": "stdout",
     "output_type": "stream",
     "text": [
      "VALID \t: Summary: Loss: 0.9131 Accuracy: 0.6775\n",
      "TRAIN \t: Summary: Loss: 0.9260 Accuracy: 0.6725\n"
     ]
    },
    {
     "name": "stderr",
     "output_type": "stream",
     "text": [
      "Training: Epoch [68/100]: 100%|██████████████████████████████| 313/313 [00:09<00:00, 31.66it/s]                                            \n",
      "Evaluate: Epoch [68/100]: 100%|██████████████████████████████| 79/79 [00:00<00:00, 126.80it/s]                                             \n"
     ]
    },
    {
     "name": "stdout",
     "output_type": "stream",
     "text": [
      "VALID \t: Summary: Loss: 0.9167 Accuracy: 0.6767\n",
      "TRAIN \t: Summary: Loss: 0.9236 Accuracy: 0.6718\n"
     ]
    },
    {
     "name": "stderr",
     "output_type": "stream",
     "text": [
      "Training: Epoch [69/100]: 100%|██████████████████████████████| 313/313 [00:09<00:00, 31.67it/s]                                            \n",
      "Evaluate: Epoch [69/100]: 100%|██████████████████████████████| 79/79 [00:00<00:00, 122.84it/s]                                             \n"
     ]
    },
    {
     "name": "stdout",
     "output_type": "stream",
     "text": [
      "VALID \t: Summary: Loss: 0.9168 Accuracy: 0.6772\n",
      "TRAIN \t: Summary: Loss: 0.9232 Accuracy: 0.6717\n"
     ]
    },
    {
     "name": "stderr",
     "output_type": "stream",
     "text": [
      "Training: Epoch [70/100]: 100%|██████████████████████████████| 313/313 [00:09<00:00, 31.81it/s]                                            \n",
      "Evaluate: Epoch [70/100]: 100%|██████████████████████████████| 79/79 [00:00<00:00, 124.63it/s]                                             \n"
     ]
    },
    {
     "name": "stdout",
     "output_type": "stream",
     "text": [
      "VALID \t: Summary: Loss: 0.9143 Accuracy: 0.6782\n",
      "TRAIN \t: Summary: Loss: 0.9201 Accuracy: 0.6717\n"
     ]
    },
    {
     "name": "stderr",
     "output_type": "stream",
     "text": [
      "Training: Epoch [71/100]: 100%|██████████████████████████████| 313/313 [00:10<00:00, 30.13it/s]                                            \n",
      "Evaluate: Epoch [71/100]: 100%|██████████████████████████████| 79/79 [00:00<00:00, 120.91it/s]                                             \n"
     ]
    },
    {
     "name": "stdout",
     "output_type": "stream",
     "text": [
      "VALID \t: Summary: Loss: 0.9152 Accuracy: 0.6776\n",
      "TRAIN \t: Summary: Loss: 0.9213 Accuracy: 0.6729\n"
     ]
    },
    {
     "name": "stderr",
     "output_type": "stream",
     "text": [
      "Training: Epoch [72/100]: 100%|██████████████████████████████| 313/313 [00:09<00:00, 32.11it/s]                                            \n",
      "Evaluate: Epoch [72/100]: 100%|██████████████████████████████| 79/79 [00:00<00:00, 123.32it/s]                                             \n"
     ]
    },
    {
     "name": "stdout",
     "output_type": "stream",
     "text": [
      "VALID \t: Summary: Loss: 0.9146 Accuracy: 0.6776\n",
      "TRAIN \t: Summary: Loss: 0.9250 Accuracy: 0.6726\n"
     ]
    },
    {
     "name": "stderr",
     "output_type": "stream",
     "text": [
      "Training: Epoch [73/100]: 100%|██████████████████████████████| 313/313 [00:09<00:00, 31.34it/s]                                            \n",
      "Evaluate: Epoch [73/100]: 100%|██████████████████████████████| 79/79 [00:00<00:00, 115.53it/s]                                             \n"
     ]
    },
    {
     "name": "stdout",
     "output_type": "stream",
     "text": [
      "VALID \t: Summary: Loss: 0.9113 Accuracy: 0.6773\n",
      "TRAIN \t: Summary: Loss: 0.9198 Accuracy: 0.6730\n"
     ]
    },
    {
     "name": "stderr",
     "output_type": "stream",
     "text": [
      "Training: Epoch [74/100]: 100%|██████████████████████████████| 313/313 [00:10<00:00, 30.62it/s]                                            \n",
      "Evaluate: Epoch [74/100]: 100%|██████████████████████████████| 79/79 [00:00<00:00, 114.00it/s]                                             \n"
     ]
    },
    {
     "name": "stdout",
     "output_type": "stream",
     "text": [
      "VALID \t: Summary: Loss: 0.9124 Accuracy: 0.6784\n",
      "TRAIN \t: Summary: Loss: 0.9264 Accuracy: 0.6701\n"
     ]
    },
    {
     "name": "stderr",
     "output_type": "stream",
     "text": [
      "Training: Epoch [75/100]: 100%|██████████████████████████████| 313/313 [00:11<00:00, 26.98it/s]                                            \n",
      "Evaluate: Epoch [75/100]: 100%|██████████████████████████████| 79/79 [00:00<00:00, 91.41it/s]                                              \n"
     ]
    },
    {
     "name": "stdout",
     "output_type": "stream",
     "text": [
      "VALID \t: Summary: Loss: 0.9118 Accuracy: 0.6788\n",
      "TRAIN \t: Summary: Loss: 0.9244 Accuracy: 0.6717\n"
     ]
    },
    {
     "name": "stderr",
     "output_type": "stream",
     "text": [
      "Training: Epoch [76/100]: 100%|██████████████████████████████| 313/313 [00:11<00:00, 28.07it/s]                                            \n",
      "Evaluate: Epoch [76/100]: 100%|██████████████████████████████| 79/79 [00:00<00:00, 124.08it/s]                                             \n"
     ]
    },
    {
     "name": "stdout",
     "output_type": "stream",
     "text": [
      "VALID \t: Summary: Loss: 0.9148 Accuracy: 0.6783\n",
      "TRAIN \t: Summary: Loss: 0.9203 Accuracy: 0.6737\n"
     ]
    },
    {
     "name": "stderr",
     "output_type": "stream",
     "text": [
      "Training: Epoch [77/100]: 100%|██████████████████████████████| 313/313 [00:10<00:00, 31.01it/s]                                            \n",
      "Evaluate: Epoch [77/100]: 100%|██████████████████████████████| 79/79 [00:00<00:00, 119.03it/s]                                             \n"
     ]
    },
    {
     "name": "stdout",
     "output_type": "stream",
     "text": [
      "VALID \t: Summary: Loss: 0.9146 Accuracy: 0.6754\n",
      "TRAIN \t: Summary: Loss: 0.9196 Accuracy: 0.6757\n"
     ]
    },
    {
     "name": "stderr",
     "output_type": "stream",
     "text": [
      "Training: Epoch [78/100]: 100%|██████████████████████████████| 313/313 [00:10<00:00, 30.24it/s]                                            \n",
      "Evaluate: Epoch [78/100]: 100%|██████████████████████████████| 79/79 [00:00<00:00, 121.53it/s]                                             \n"
     ]
    },
    {
     "name": "stdout",
     "output_type": "stream",
     "text": [
      "VALID \t: Summary: Loss: 0.9125 Accuracy: 0.6766\n",
      "TRAIN \t: Summary: Loss: 0.9168 Accuracy: 0.6763\n"
     ]
    },
    {
     "name": "stderr",
     "output_type": "stream",
     "text": [
      "Training: Epoch [79/100]: 100%|██████████████████████████████| 313/313 [00:10<00:00, 31.07it/s]                                            \n",
      "Evaluate: Epoch [79/100]: 100%|██████████████████████████████| 79/79 [00:00<00:00, 121.50it/s]                                             \n"
     ]
    },
    {
     "name": "stdout",
     "output_type": "stream",
     "text": [
      "VALID \t: Summary: Loss: 0.9163 Accuracy: 0.6771\n",
      "TRAIN \t: Summary: Loss: 0.9196 Accuracy: 0.6724\n"
     ]
    },
    {
     "name": "stderr",
     "output_type": "stream",
     "text": [
      "Training: Epoch [80/100]:  35%|██████████▎                   | 108/313 [00:03<00:06, 31.29it/s]                                            "
     ]
    }
   ],
   "source": [
    "train_transforms = [\n",
    "    {\n",
    "        \"name\": \"ToTensor\",\n",
    "        \"args\": {},\n",
    "    },\n",
    "    {\n",
    "        \"name\": \"Normalize\",\n",
    "        \"args\": {\"mean\": (0.5, 0.5, 0.5), \"std\": (0.5, 0.5, 0.5)},\n",
    "    },\n",
    "    {\n",
    "        \"name\": \"RandomAffine\",\n",
    "        \"args\": {\"degrees\": 10, \"translate\": (0.1, 0.1), \"scale\": (0.8, 1.2)},\n",
    "    },\n",
    "]\n",
    "valid_transforms = [\n",
    "    {\n",
    "        \"name\": \"ToTensor\",\n",
    "        \"args\": {},\n",
    "    },\n",
    "    {\n",
    "        \"name\": \"Normalize\",\n",
    "        \"args\": {\"mean\": (0.5, 0.5, 0.5), \"std\": (0.5, 0.5, 0.5)},\n",
    "    },\n",
    "]\n",
    "\n",
    "network = \"cnn\"\n",
    "num_epochs = 100\n",
    "batch_size = 128\n",
    "opt_args = {\"name\": \"Adam\", \"lr\": 1e-3}\n",
    "\n",
    "sch_args = None\n",
    "sch_args = {\"name\": \"MultiStepLR\", \"milestones\": [50], \"gamma\": 0.1}\n",
    "\n",
    "net, loss_fn = experiment(\n",
    "    train_transforms, valid_transforms, network, num_epochs, batch_size, opt_args, sch_args=sch_args,\n",
    ")"
   ]
  },
  {
   "cell_type": "code",
   "execution_count": null,
   "id": "ba16c236-665d-4fd0-a661-d82a2035d41a",
   "metadata": {},
   "outputs": [],
   "source": [
    "summary(net, input_size=(3, 32, 32))"
   ]
  },
  {
   "cell_type": "code",
   "execution_count": null,
   "id": "4747220c-f8d2-4009-bf66-e12e3074ff07",
   "metadata": {},
   "outputs": [],
   "source": [
    "test_transforms = [\n",
    "    {\n",
    "        \"name\": \"ToTensor\",\n",
    "        \"args\": {},\n",
    "    },\n",
    "    {\n",
    "        \"name\": \"Normalize\",\n",
    "        \"args\": {\"mean\": (0.5, 0.5, 0.5), \"std\": (0.5, 0.5, 0.5)},\n",
    "    },\n",
    "]\n",
    "test_transform = InputTransform(test_transforms)\n",
    "test_dataset = CIFAR(root=\"../datasets/CIFAR-10/\", mode=\"test\", transform=test_transform)\n",
    "test_loader = get_dataloader(test_dataset, train=False, batch_size=128, num_workers=0)"
   ]
  },
  {
   "cell_type": "code",
   "execution_count": null,
   "id": "c96173df-3863-42d5-8295-f20f4233f02e",
   "metadata": {},
   "outputs": [],
   "source": [
    "evaluate(net, test_loader, loss_fn, 1, 1, \"test\")"
   ]
  },
  {
   "cell_type": "code",
   "execution_count": null,
   "id": "eff8affe-4375-4d1a-afa5-3d4ee1932270",
   "metadata": {},
   "outputs": [],
   "source": []
  }
 ],
 "metadata": {
  "kernelspec": {
   "display_name": "Python 3 (ipykernel)",
   "language": "python",
   "name": "python3"
  },
  "language_info": {
   "codemirror_mode": {
    "name": "ipython",
    "version": 3
   },
   "file_extension": ".py",
   "mimetype": "text/x-python",
   "name": "python",
   "nbconvert_exporter": "python",
   "pygments_lexer": "ipython3",
   "version": "3.9.7"
  }
 },
 "nbformat": 4,
 "nbformat_minor": 5
}
