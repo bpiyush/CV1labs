{
 "cells": [
  {
   "cell_type": "code",
   "execution_count": 1,
   "id": "5507a249-fc78-4cfc-a933-ca345d0f1ee6",
   "metadata": {},
   "outputs": [],
   "source": [
    "%load_ext autoreload\n",
    "%autoreload 2"
   ]
  },
  {
   "cell_type": "code",
   "execution_count": 2,
   "id": "991c17b7-ff63-4049-9456-f3486680261d",
   "metadata": {},
   "outputs": [],
   "source": [
    "import sys\n",
    "sys.path.insert(0, \"../\")"
   ]
  },
  {
   "cell_type": "code",
   "execution_count": 36,
   "id": "80d8b0e7-7191-4e51-9743-f0e923743548",
   "metadata": {},
   "outputs": [],
   "source": [
    "import numpy as np\n",
    "import pandas as pd\n",
    "from tqdm import tqdm\n",
    "import matplotlib.pyplot as plt\n",
    "import seaborn as sns\n",
    "from sklearn.manifold import TSNE\n",
    "import torch\n",
    "import torch.nn as nn\n",
    "from torchsummary import summary\n",
    "\n",
    "from data.input_transforms import InputTransform\n",
    "from data.cifar import CIFAR\n",
    "from data.stl import STL, LABEL_MAP\n",
    "from data.dataloader import get_dataloader\n",
    "from models.optimizer import optimizer, scheduler\n",
    "from networks.twolayernet import TwolayerNet\n",
    "from networks.convnet import ConvNet\n",
    "from utils.viz import plot_multiple_quantities_by_time\n",
    "from main import train, evaluate"
   ]
  },
  {
   "cell_type": "markdown",
   "id": "9495b850-a49d-4e30-af6a-0aa3a3abb4ce",
   "metadata": {},
   "source": [
    "### Load dataset"
   ]
  },
  {
   "cell_type": "code",
   "execution_count": 4,
   "id": "1a4a975a-3201-4903-82bd-2df3774886c2",
   "metadata": {},
   "outputs": [
    {
     "name": "stdout",
     "output_type": "stream",
     "text": [
      ":::: Loaded dataset from ../datasets/STL-10/: X ((500, 96, 96, 3)) y (500)\n"
     ]
    }
   ],
   "source": [
    "valid_transforms = [\n",
    "    {\n",
    "        \"name\": \"ToTensor\",\n",
    "        \"args\": {},\n",
    "    },\n",
    "    {\n",
    "        \"name\": \"Resize\",\n",
    "        \"args\": {\"size\": 32},\n",
    "    },\n",
    "    {\n",
    "        \"name\": \"Normalize\",\n",
    "        \"args\": {\"mean\": (0.5, 0.5, 0.5), \"std\": (0.5, 0.5, 0.5)},\n",
    "    },\n",
    "]\n",
    "valid_transform = InputTransform(valid_transforms)\n",
    "valid_dataset = STL(root=\"../datasets/STL-10/\", mode=\"valid\", transform=valid_transform)\n",
    "valid_loader = get_dataloader(valid_dataset, train=False, batch_size=128, num_workers=0)"
   ]
  },
  {
   "cell_type": "markdown",
   "id": "8666feb7-9d47-41bc-b3d7-98d301223409",
   "metadata": {},
   "source": [
    "### Load model"
   ]
  },
  {
   "cell_type": "code",
   "execution_count": 5,
   "id": "45524288-a41f-4fce-8dc4-be487c0946d6",
   "metadata": {},
   "outputs": [],
   "source": [
    "# test checkpoint loading\n",
    "net = ConvNet(\n",
    "    in_channels=3,\n",
    "    num_classes=5,\n",
    "    ckpt_path=\"../checkpoints/cnn_best_hparams.pt\",\n",
    "    return_features=True,\n",
    ")"
   ]
  },
  {
   "cell_type": "markdown",
   "id": "5cb6156f-03bf-4798-89c2-8639418e37af",
   "metadata": {},
   "source": [
    "### Visualize features without finetuning"
   ]
  },
  {
   "cell_type": "code",
   "execution_count": 6,
   "id": "487b35d2-2729-4836-b4a3-a5bcefb64b2c",
   "metadata": {},
   "outputs": [],
   "source": [
    "net = net.eval()"
   ]
  },
  {
   "cell_type": "code",
   "execution_count": 14,
   "id": "83bc32be-2c82-47b3-971a-ce3f18e5c60b",
   "metadata": {},
   "outputs": [
    {
     "name": "stderr",
     "output_type": "stream",
     "text": [
      "Extracting features: 100%|██████████████████████████████| 4/4 [00:00<00:00, 60.79it/s]                                                     \n"
     ]
    }
   ],
   "source": [
    "val_features = []\n",
    "valid_labels = []\n",
    "\n",
    "iterator = tqdm(valid_loader, f\"Extracting features\", bar_format='{l_bar}{bar:30}{r_bar}{bar:-10b}')\n",
    "with torch.no_grad():\n",
    "    for i, batch in enumerate(iterator):\n",
    "        images, targets = batch\n",
    "        output = net(images)\n",
    "        val_features.append(output.numpy())\n",
    "        valid_labels.append(targets.numpy())"
   ]
  },
  {
   "cell_type": "code",
   "execution_count": 19,
   "id": "ed3c796f-507d-4208-9553-0570c832070c",
   "metadata": {},
   "outputs": [],
   "source": [
    "valid_features = np.vstack(val_features)\n",
    "valid_labels = np.concatenate(valid_labels)"
   ]
  },
  {
   "cell_type": "code",
   "execution_count": 20,
   "id": "548ecb89-997c-42c0-998a-70e84b745c49",
   "metadata": {},
   "outputs": [
    {
     "data": {
      "text/plain": [
       "((500, 400), (500,))"
      ]
     },
     "execution_count": 20,
     "metadata": {},
     "output_type": "execute_result"
    }
   ],
   "source": [
    "valid_features.shape, valid_labels.shape"
   ]
  },
  {
   "cell_type": "markdown",
   "id": "3be7b072-1994-4c77-a7aa-453b759bf990",
   "metadata": {},
   "source": [
    "### Visualize features"
   ]
  },
  {
   "cell_type": "code",
   "execution_count": 21,
   "id": "241aca17-83d8-455e-8f6f-d6191001fdcf",
   "metadata": {},
   "outputs": [],
   "source": [
    "X = valid_features\n",
    "y = valid_labels"
   ]
  },
  {
   "cell_type": "code",
   "execution_count": 11,
   "id": "5a893541-dabe-46e1-a232-318b887b9955",
   "metadata": {},
   "outputs": [],
   "source": [
    "X = valid_features\n",
    "\n",
    "f = TSNE(n_components=2)\n",
    "Z = f.fit_transform(X)"
   ]
  },
  {
   "cell_type": "code",
   "execution_count": 12,
   "id": "1a8a095b-e41d-4bef-8275-7cc8a25a9672",
   "metadata": {},
   "outputs": [
    {
     "data": {
      "text/plain": [
       "(500, 2)"
      ]
     },
     "execution_count": 12,
     "metadata": {},
     "output_type": "execute_result"
    }
   ],
   "source": [
    "Z.shape"
   ]
  },
  {
   "cell_type": "code",
   "execution_count": 50,
   "id": "a5e11188-aa46-47fa-9e95-ef80bbc00d75",
   "metadata": {},
   "outputs": [],
   "source": [
    "def visualize_features(\n",
    "        X, y,\n",
    "        title=\"Sample features\",\n",
    "        seed=0,\n",
    "        save=False,\n",
    "        save_path=\"../results/sample.png\",\n",
    "        show=True,\n",
    "    ):\n",
    "    np.random.seed(seed)\n",
    "\n",
    "    tsne = TSNE(n_components=2, random_state=seed)\n",
    "    Z = tsne.fit_transform(X)\n",
    "\n",
    "    df = pd.DataFrame(None, columns=[\"Z1\", \"Z2\", \"label\"])\n",
    "    df[\"Z1\"] = Z[:, 0]\n",
    "    df[\"Z2\"] = Z[:, 1]\n",
    "    df[\"label\"] = [LABEL_MAP[a].capitalize() for a in y]\n",
    "\n",
    "    fig, ax = plt.subplots(1, 1, figsize=(11, 7))\n",
    "    ax.grid()\n",
    "    sns.scatterplot(\n",
    "        data=df,\n",
    "        x=\"Z1\", y=\"Z2\", hue=\"label\", palette=\"Set2\", legend=True, ax=ax, s=100,\n",
    "    )\n",
    "    ax.set_title(title, fontsize=17)\n",
    "    \n",
    "    plt.legend(fontsize=14)\n",
    "\n",
    "    if save:\n",
    "        plt.savefig(save_path, bbox_inches=\"tight\")\n",
    "    \n",
    "    if save:\n",
    "        plt.show()"
   ]
  },
  {
   "cell_type": "code",
   "execution_count": 51,
   "id": "ed1ece72-4cbb-438b-8c14-7e8fc9b37556",
   "metadata": {},
   "outputs": [
    {
     "data": {
      "image/png": "[encoded data removed]",
      "text/plain": [
       "<Figure size 792x504 with 1 Axes>"
      ]
     },
     "metadata": {
      "needs_background": "light"
     },
     "output_type": "display_data"
    }
   ],
   "source": [
    "visualize_features(\n",
    "    X, y,\n",
    "    title=\"ConvNet features for STL-10 (validation set) before finetuning\",\n",
    "    save_path=\"../results/convnet_features_before_finetuning.png\", save=True,\n",
    ")"
   ]
  },
  {
   "cell_type": "code",
   "execution_count": null,
   "id": "bb54b4cf-500a-4fe4-88fa-6e3a6d994130",
   "metadata": {},
   "outputs": [],
   "source": []
  },
  {
   "cell_type": "code",
   "execution_count": null,
   "id": "8e009971-184b-49c8-904e-834a82763349",
   "metadata": {},
   "outputs": [],
   "source": []
  },
  {
   "cell_type": "code",
   "execution_count": null,
   "id": "b140d8da-9f60-4194-9846-de1d7b8807af",
   "metadata": {},
   "outputs": [],
   "source": []
  },
  {
   "cell_type": "code",
   "execution_count": null,
   "id": "ea471d50-2d7b-4f6f-89fb-150276fab8fd",
   "metadata": {},
   "outputs": [],
   "source": [
    "def experiment(train_transforms, valid_transforms, network, num_epochs, batch_size, opt_args, sch_args=None):\n",
    "    \n",
    "    print(train_transforms)\n",
    "    print(num_epochs)\n",
    "    print(batch_size)\n",
    "    print(opt_args)\n",
    "    print(sch_args)\n",
    "    \n",
    "    # define the datasets\n",
    "    train_transform = InputTransform(train_transforms)\n",
    "    valid_transform = InputTransform(valid_transforms)\n",
    "    train_dataset = CIFAR(root=\"../datasets/CIFAR-10/\", mode=\"train\", transform=train_transform)\n",
    "    valid_dataset = CIFAR(root=\"../datasets/CIFAR-10/\", mode=\"valid\", transform=valid_transform)\n",
    "\n",
    "    # obtain the train dataloader\n",
    "    train_loader = get_dataloader(train_dataset, train=True, batch_size=batch_size, num_workers=0)\n",
    "    valid_loader = get_dataloader(valid_dataset, train=False, batch_size=batch_size, num_workers=0)\n",
    "    \n",
    "    if network == \"tln\":\n",
    "        net = TwolayerNet(num_inputs=3 * 32 * 32, num_hidden=512, num_classes=10)\n",
    "    elif network == \"cnn\":\n",
    "        net = ConvNet(in_channels=3, num_classes=10)\n",
    "    else:\n",
    "        raise ValueError()\n",
    "    arch = type(net).__name__\n",
    "\n",
    "    # define the optimizer and scheduler\n",
    "    opt = optimizer(model_params=net.parameters(), **opt_args)\n",
    "    sch = None\n",
    "    if sch_args is not None:\n",
    "        sch = scheduler(opt=opt, **sch_args)\n",
    "\n",
    "    # define the loss function\n",
    "    loss_fn = nn.CrossEntropyLoss()\n",
    "\n",
    "    # train the model\n",
    "    epochs, train_losses, train_metrics, valid_losses, valid_metrics = train(\n",
    "        net, loss_fn, train_loader, valid_loader, num_epochs=num_epochs, opt=opt, sch=sch,\n",
    "    )\n",
    "\n",
    "    # plot training curves\n",
    "    plot_multiple_quantities_by_time(\n",
    "        quantities=[train_losses[\"loss\"], valid_losses[\"loss\"]],\n",
    "        time=epochs,\n",
    "        labels=[\"Train\", \"Validation\"],\n",
    "        title=f\"{arch} Loss curves\",\n",
    "        show=True,\n",
    "        save=True,\n",
    "        save_path=\"../results/cnn_loss_plot_best.png\",\n",
    "        ylabel=\"Loss\",\n",
    "    )\n",
    "    plot_multiple_quantities_by_time(\n",
    "        quantities=[train_metrics[\"accuracy\"], valid_metrics[\"accuracy\"]],\n",
    "        time=epochs,\n",
    "        labels=[\"Train\", \"Validation\"],\n",
    "        title=f\"{arch} Accuracy curves\",\n",
    "        show=True,\n",
    "        save=True,\n",
    "        save_path=\"../results/cnn_accu_plot_best.png\",\n",
    "        ylabel=\"Accuracy\",\n",
    "    )\n",
    "    \n",
    "    return net, loss_fn"
   ]
  },
  {
   "cell_type": "code",
   "execution_count": null,
   "id": "d17ddae0-bd09-4b43-8c87-f69b7c417c95",
   "metadata": {},
   "outputs": [
    {
     "name": "stdout",
     "output_type": "stream",
     "text": [
      "[{'name': 'ToTensor', 'args': {}}, {'name': 'Normalize', 'args': {'mean': (0.5, 0.5, 0.5), 'std': (0.5, 0.5, 0.5)}}, {'name': 'RandomAffine', 'args': {'degrees': 10, 'translate': (0.1, 0.1), 'scale': (0.8, 1.2)}}]\n",
      "100\n",
      "128\n",
      "{'name': 'Adam', 'lr': 0.001}\n",
      "{'name': 'MultiStepLR', 'milestones': [50], 'gamma': 0.1}\n",
      "Selecting 40000 for train.\n",
      "Selecting 10000 for valid.\n"
     ]
    },
    {
     "name": "stderr",
     "output_type": "stream",
     "text": [
      "Training: Epoch [1/100]: 100%|██████████████████████████████| 313/313 [00:09<00:00, 34.54it/s]                                             \n",
      "Evaluate: Epoch [1/100]: 100%|██████████████████████████████| 79/79 [00:00<00:00, 115.61it/s]                                              \n"
     ]
    },
    {
     "name": "stdout",
     "output_type": "stream",
     "text": [
      "VALID \t: Summary: Loss: 1.6925 Accuracy: 0.3817\n",
      "TRAIN \t: Summary: Loss: 1.9289 Accuracy: 0.2925\n"
     ]
    },
    {
     "name": "stderr",
     "output_type": "stream",
     "text": [
      "Training: Epoch [2/100]: 100%|██████████████████████████████| 313/313 [00:09<00:00, 31.60it/s]                                             \n",
      "Evaluate: Epoch [2/100]: 100%|██████████████████████████████| 79/79 [00:00<00:00, 111.43it/s]                                              \n"
     ]
    },
    {
     "name": "stdout",
     "output_type": "stream",
     "text": [
      "VALID \t: Summary: Loss: 1.5297 Accuracy: 0.4442\n",
      "TRAIN \t: Summary: Loss: 1.6867 Accuracy: 0.3843\n"
     ]
    },
    {
     "name": "stderr",
     "output_type": "stream",
     "text": [
      "Training: Epoch [3/100]: 100%|██████████████████████████████| 313/313 [00:10<00:00, 31.18it/s]                                             \n",
      "Evaluate: Epoch [3/100]: 100%|██████████████████████████████| 79/79 [00:00<00:00, 124.71it/s]                                              \n"
     ]
    },
    {
     "name": "stdout",
     "output_type": "stream",
     "text": [
      "VALID \t: Summary: Loss: 1.4317 Accuracy: 0.4852\n",
      "TRAIN \t: Summary: Loss: 1.5723 Accuracy: 0.4274\n"
     ]
    },
    {
     "name": "stderr",
     "output_type": "stream",
     "text": [
      "Training: Epoch [4/100]: 100%|██████████████████████████████| 313/313 [00:09<00:00, 32.10it/s]                                             \n",
      "Evaluate: Epoch [4/100]: 100%|██████████████████████████████| 79/79 [00:00<00:00, 127.22it/s]                                              \n"
     ]
    },
    {
     "name": "stdout",
     "output_type": "stream",
     "text": [
      "VALID \t: Summary: Loss: 1.3653 Accuracy: 0.5076\n",
      "TRAIN \t: Summary: Loss: 1.5005 Accuracy: 0.4570\n"
     ]
    },
    {
     "name": "stderr",
     "output_type": "stream",
     "text": [
      "Training: Epoch [5/100]: 100%|██████████████████████████████| 313/313 [00:09<00:00, 32.19it/s]                                             \n",
      "Evaluate: Epoch [5/100]: 100%|██████████████████████████████| 79/79 [00:00<00:00, 125.03it/s]                                              \n"
     ]
    },
    {
     "name": "stdout",
     "output_type": "stream",
     "text": [
      "VALID \t: Summary: Loss: 1.3216 Accuracy: 0.5220\n",
      "TRAIN \t: Summary: Loss: 1.4524 Accuracy: 0.4744\n"
     ]
    },
    {
     "name": "stderr",
     "output_type": "stream",
     "text": [
      "Training: Epoch [6/100]: 100%|██████████████████████████████| 313/313 [00:09<00:00, 32.27it/s]                                             \n",
      "Evaluate: Epoch [6/100]: 100%|██████████████████████████████| 79/79 [00:00<00:00, 112.68it/s]                                              \n"
     ]
    },
    {
     "name": "stdout",
     "output_type": "stream",
     "text": [
      "VALID \t: Summary: Loss: 1.2748 Accuracy: 0.5399\n",
      "TRAIN \t: Summary: Loss: 1.4186 Accuracy: 0.4906\n"
     ]
    },
    {
     "name": "stderr",
     "output_type": "stream",
     "text": [
      "Training: Epoch [7/100]: 100%|██████████████████████████████| 313/313 [00:10<00:00, 28.50it/s]                                             \n",
      "Evaluate: Epoch [7/100]: 100%|██████████████████████████████| 79/79 [00:00<00:00, 123.84it/s]                                              \n"
     ]
    },
    {
     "name": "stdout",
     "output_type": "stream",
     "text": [
      "VALID \t: Summary: Loss: 1.2459 Accuracy: 0.5540\n",
      "TRAIN \t: Summary: Loss: 1.3800 Accuracy: 0.5030\n"
     ]
    },
    {
     "name": "stderr",
     "output_type": "stream",
     "text": [
      "Training: Epoch [8/100]: 100%|██████████████████████████████| 313/313 [00:10<00:00, 29.98it/s]                                             \n",
      "Evaluate: Epoch [8/100]: 100%|██████████████████████████████| 79/79 [00:00<00:00, 111.79it/s]                                              \n"
     ]
    },
    {
     "name": "stdout",
     "output_type": "stream",
     "text": [
      "VALID \t: Summary: Loss: 1.2407 Accuracy: 0.5462\n",
      "TRAIN \t: Summary: Loss: 1.3507 Accuracy: 0.5130\n"
     ]
    },
    {
     "name": "stderr",
     "output_type": "stream",
     "text": [
      "Training: Epoch [9/100]: 100%|██████████████████████████████| 313/313 [00:09<00:00, 31.74it/s]                                             \n",
      "Evaluate: Epoch [9/100]: 100%|██████████████████████████████| 79/79 [00:00<00:00, 126.14it/s]                                              \n"
     ]
    },
    {
     "name": "stdout",
     "output_type": "stream",
     "text": [
      "VALID \t: Summary: Loss: 1.1965 Accuracy: 0.5711\n",
      "TRAIN \t: Summary: Loss: 1.3201 Accuracy: 0.5258\n"
     ]
    },
    {
     "name": "stderr",
     "output_type": "stream",
     "text": [
      "Training: Epoch [10/100]: 100%|██████████████████████████████| 313/313 [00:10<00:00, 30.91it/s]                                            \n",
      "Evaluate: Epoch [10/100]: 100%|██████████████████████████████| 79/79 [00:00<00:00, 128.06it/s]                                             \n"
     ]
    },
    {
     "name": "stdout",
     "output_type": "stream",
     "text": [
      "VALID \t: Summary: Loss: 1.1709 Accuracy: 0.5820\n",
      "TRAIN \t: Summary: Loss: 1.2930 Accuracy: 0.5376\n"
     ]
    },
    {
     "name": "stderr",
     "output_type": "stream",
     "text": [
      "Training: Epoch [11/100]: 100%|██████████████████████████████| 313/313 [00:09<00:00, 32.06it/s]                                            \n",
      "Evaluate: Epoch [11/100]: 100%|██████████████████████████████| 79/79 [00:00<00:00, 122.65it/s]                                             \n"
     ]
    },
    {
     "name": "stdout",
     "output_type": "stream",
     "text": [
      "VALID \t: Summary: Loss: 1.1792 Accuracy: 0.5693\n",
      "TRAIN \t: Summary: Loss: 1.2755 Accuracy: 0.5437\n"
     ]
    },
    {
     "name": "stderr",
     "output_type": "stream",
     "text": [
      "Training: Epoch [12/100]: 100%|██████████████████████████████| 313/313 [00:09<00:00, 31.64it/s]                                            \n",
      "Evaluate: Epoch [12/100]: 100%|██████████████████████████████| 79/79 [00:00<00:00, 124.06it/s]                                             \n"
     ]
    },
    {
     "name": "stdout",
     "output_type": "stream",
     "text": [
      "VALID \t: Summary: Loss: 1.1512 Accuracy: 0.5890\n",
      "TRAIN \t: Summary: Loss: 1.2532 Accuracy: 0.5519\n"
     ]
    },
    {
     "name": "stderr",
     "output_type": "stream",
     "text": [
      "Training: Epoch [13/100]: 100%|██████████████████████████████| 313/313 [00:10<00:00, 29.63it/s]                                            \n",
      "Evaluate: Epoch [13/100]: 100%|██████████████████████████████| 79/79 [00:00<00:00, 117.27it/s]                                             \n"
     ]
    },
    {
     "name": "stdout",
     "output_type": "stream",
     "text": [
      "VALID \t: Summary: Loss: 1.1154 Accuracy: 0.5995\n",
      "TRAIN \t: Summary: Loss: 1.2398 Accuracy: 0.5597\n"
     ]
    },
    {
     "name": "stderr",
     "output_type": "stream",
     "text": [
      "Training: Epoch [14/100]: 100%|██████████████████████████████| 313/313 [00:09<00:00, 31.90it/s]                                            \n",
      "Evaluate: Epoch [14/100]: 100%|██████████████████████████████| 79/79 [00:00<00:00, 123.84it/s]                                             \n"
     ]
    },
    {
     "name": "stdout",
     "output_type": "stream",
     "text": [
      "VALID \t: Summary: Loss: 1.1332 Accuracy: 0.5944\n",
      "TRAIN \t: Summary: Loss: 1.2283 Accuracy: 0.5618\n"
     ]
    },
    {
     "name": "stderr",
     "output_type": "stream",
     "text": [
      "Training: Epoch [15/100]: 100%|██████████████████████████████| 313/313 [00:09<00:00, 31.60it/s]                                            \n",
      "Evaluate: Epoch [15/100]: 100%|██████████████████████████████| 79/79 [00:00<00:00, 124.32it/s]                                             \n"
     ]
    },
    {
     "name": "stdout",
     "output_type": "stream",
     "text": [
      "VALID \t: Summary: Loss: 1.1046 Accuracy: 0.6043\n",
      "TRAIN \t: Summary: Loss: 1.2160 Accuracy: 0.5638\n"
     ]
    },
    {
     "name": "stderr",
     "output_type": "stream",
     "text": [
      "Training: Epoch [16/100]: 100%|██████████████████████████████| 313/313 [00:09<00:00, 31.69it/s]                                            \n",
      "Evaluate: Epoch [16/100]: 100%|██████████████████████████████| 79/79 [00:00<00:00, 125.65it/s]                                             \n"
     ]
    },
    {
     "name": "stdout",
     "output_type": "stream",
     "text": [
      "VALID \t: Summary: Loss: 1.1169 Accuracy: 0.6071\n",
      "TRAIN \t: Summary: Loss: 1.1983 Accuracy: 0.5736\n"
     ]
    },
    {
     "name": "stderr",
     "output_type": "stream",
     "text": [
      "Training: Epoch [17/100]: 100%|██████████████████████████████| 313/313 [00:09<00:00, 31.90it/s]                                            \n",
      "Evaluate: Epoch [17/100]: 100%|██████████████████████████████| 79/79 [00:00<00:00, 122.21it/s]                                             \n"
     ]
    },
    {
     "name": "stdout",
     "output_type": "stream",
     "text": [
      "VALID \t: Summary: Loss: 1.0852 Accuracy: 0.6109\n",
      "TRAIN \t: Summary: Loss: 1.1912 Accuracy: 0.5736\n"
     ]
    },
    {
     "name": "stderr",
     "output_type": "stream",
     "text": [
      "Training: Epoch [18/100]: 100%|██████████████████████████████| 313/313 [00:09<00:00, 31.84it/s]                                            \n",
      "Evaluate: Epoch [18/100]: 100%|██████████████████████████████| 79/79 [00:00<00:00, 127.72it/s]                                             \n"
     ]
    },
    {
     "name": "stdout",
     "output_type": "stream",
     "text": [
      "VALID \t: Summary: Loss: 1.0859 Accuracy: 0.6153\n",
      "TRAIN \t: Summary: Loss: 1.1725 Accuracy: 0.5835\n"
     ]
    },
    {
     "name": "stderr",
     "output_type": "stream",
     "text": [
      "Training: Epoch [19/100]: 100%|██████████████████████████████| 313/313 [00:09<00:00, 31.82it/s]                                            \n",
      "Evaluate: Epoch [19/100]: 100%|██████████████████████████████| 79/79 [00:00<00:00, 125.42it/s]                                             \n"
     ]
    },
    {
     "name": "stdout",
     "output_type": "stream",
     "text": [
      "VALID \t: Summary: Loss: 1.0813 Accuracy: 0.6152\n",
      "TRAIN \t: Summary: Loss: 1.1676 Accuracy: 0.5834\n"
     ]
    },
    {
     "name": "stderr",
     "output_type": "stream",
     "text": [
      "Training: Epoch [20/100]: 100%|██████████████████████████████| 313/313 [00:10<00:00, 30.98it/s]                                            \n",
      "Evaluate: Epoch [20/100]: 100%|██████████████████████████████| 79/79 [00:00<00:00, 122.04it/s]                                             \n"
     ]
    },
    {
     "name": "stdout",
     "output_type": "stream",
     "text": [
      "VALID \t: Summary: Loss: 1.0852 Accuracy: 0.6161\n",
      "TRAIN \t: Summary: Loss: 1.1566 Accuracy: 0.5877\n"
     ]
    },
    {
     "name": "stderr",
     "output_type": "stream",
     "text": [
      "Training: Epoch [21/100]: 100%|██████████████████████████████| 313/313 [00:09<00:00, 31.84it/s]                                            \n",
      "Evaluate: Epoch [21/100]: 100%|██████████████████████████████| 79/79 [00:00<00:00, 123.06it/s]                                             \n"
     ]
    },
    {
     "name": "stdout",
     "output_type": "stream",
     "text": [
      "VALID \t: Summary: Loss: 1.0670 Accuracy: 0.6241\n",
      "TRAIN \t: Summary: Loss: 1.1564 Accuracy: 0.5884\n"
     ]
    },
    {
     "name": "stderr",
     "output_type": "stream",
     "text": [
      "Training: Epoch [22/100]: 100%|██████████████████████████████| 313/313 [00:10<00:00, 31.03it/s]                                            \n",
      "Evaluate: Epoch [22/100]: 100%|██████████████████████████████| 79/79 [00:00<00:00, 111.02it/s]                                             \n"
     ]
    },
    {
     "name": "stdout",
     "output_type": "stream",
     "text": [
      "VALID \t: Summary: Loss: 1.0563 Accuracy: 0.6282\n",
      "TRAIN \t: Summary: Loss: 1.1395 Accuracy: 0.5955\n"
     ]
    },
    {
     "name": "stderr",
     "output_type": "stream",
     "text": [
      "Training: Epoch [23/100]: 100%|██████████████████████████████| 313/313 [00:09<00:00, 31.47it/s]                                            \n",
      "Evaluate: Epoch [23/100]: 100%|██████████████████████████████| 79/79 [00:00<00:00, 127.72it/s]                                             \n"
     ]
    },
    {
     "name": "stdout",
     "output_type": "stream",
     "text": [
      "VALID \t: Summary: Loss: 1.0384 Accuracy: 0.6322\n",
      "TRAIN \t: Summary: Loss: 1.1314 Accuracy: 0.5997\n"
     ]
    },
    {
     "name": "stderr",
     "output_type": "stream",
     "text": [
      "Training: Epoch [24/100]: 100%|██████████████████████████████| 313/313 [00:09<00:00, 31.33it/s]                                            \n",
      "Evaluate: Epoch [24/100]: 100%|██████████████████████████████| 79/79 [00:00<00:00, 126.35it/s]                                             \n"
     ]
    },
    {
     "name": "stdout",
     "output_type": "stream",
     "text": [
      "VALID \t: Summary: Loss: 1.0621 Accuracy: 0.6210\n",
      "TRAIN \t: Summary: Loss: 1.1222 Accuracy: 0.6021\n"
     ]
    },
    {
     "name": "stderr",
     "output_type": "stream",
     "text": [
      "Training: Epoch [25/100]: 100%|██████████████████████████████| 313/313 [00:09<00:00, 31.76it/s]                                            \n",
      "Evaluate: Epoch [25/100]: 100%|██████████████████████████████| 79/79 [00:00<00:00, 123.42it/s]                                             \n"
     ]
    },
    {
     "name": "stdout",
     "output_type": "stream",
     "text": [
      "VALID \t: Summary: Loss: 1.0259 Accuracy: 0.6372\n",
      "TRAIN \t: Summary: Loss: 1.1101 Accuracy: 0.6026\n"
     ]
    },
    {
     "name": "stderr",
     "output_type": "stream",
     "text": [
      "Training: Epoch [26/100]: 100%|██████████████████████████████| 313/313 [00:09<00:00, 32.00it/s]                                            \n",
      "Evaluate: Epoch [26/100]: 100%|██████████████████████████████| 79/79 [00:00<00:00, 128.50it/s]                                             \n"
     ]
    },
    {
     "name": "stdout",
     "output_type": "stream",
     "text": [
      "VALID \t: Summary: Loss: 1.0468 Accuracy: 0.6260\n",
      "TRAIN \t: Summary: Loss: 1.1106 Accuracy: 0.6066\n"
     ]
    },
    {
     "name": "stderr",
     "output_type": "stream",
     "text": [
      "Training: Epoch [27/100]: 100%|██████████████████████████████| 313/313 [00:09<00:00, 31.77it/s]                                            \n",
      "Evaluate: Epoch [27/100]: 100%|██████████████████████████████| 79/79 [00:00<00:00, 127.76it/s]                                             \n"
     ]
    },
    {
     "name": "stdout",
     "output_type": "stream",
     "text": [
      "VALID \t: Summary: Loss: 1.0198 Accuracy: 0.6371\n",
      "TRAIN \t: Summary: Loss: 1.1009 Accuracy: 0.6082\n"
     ]
    },
    {
     "name": "stderr",
     "output_type": "stream",
     "text": [
      "Training: Epoch [28/100]: 100%|██████████████████████████████| 313/313 [00:09<00:00, 31.84it/s]                                            \n",
      "Evaluate: Epoch [28/100]: 100%|██████████████████████████████| 79/79 [00:00<00:00, 123.41it/s]                                             \n"
     ]
    },
    {
     "name": "stdout",
     "output_type": "stream",
     "text": [
      "VALID \t: Summary: Loss: 1.0600 Accuracy: 0.6210\n",
      "TRAIN \t: Summary: Loss: 1.0972 Accuracy: 0.6093\n"
     ]
    },
    {
     "name": "stderr",
     "output_type": "stream",
     "text": [
      "Training: Epoch [29/100]: 100%|██████████████████████████████| 313/313 [00:10<00:00, 31.02it/s]                                            \n",
      "Evaluate: Epoch [29/100]: 100%|██████████████████████████████| 79/79 [00:00<00:00, 129.96it/s]                                             \n"
     ]
    },
    {
     "name": "stdout",
     "output_type": "stream",
     "text": [
      "VALID \t: Summary: Loss: 1.0303 Accuracy: 0.6315\n",
      "TRAIN \t: Summary: Loss: 1.0943 Accuracy: 0.6112\n"
     ]
    },
    {
     "name": "stderr",
     "output_type": "stream",
     "text": [
      "Training: Epoch [30/100]: 100%|██████████████████████████████| 313/313 [00:09<00:00, 31.97it/s]                                            \n",
      "Evaluate: Epoch [30/100]: 100%|██████████████████████████████| 79/79 [00:00<00:00, 123.83it/s]                                             \n"
     ]
    },
    {
     "name": "stdout",
     "output_type": "stream",
     "text": [
      "VALID \t: Summary: Loss: 1.0106 Accuracy: 0.6411\n",
      "TRAIN \t: Summary: Loss: 1.0815 Accuracy: 0.6155\n"
     ]
    },
    {
     "name": "stderr",
     "output_type": "stream",
     "text": [
      "Training: Epoch [31/100]: 100%|██████████████████████████████| 313/313 [00:10<00:00, 29.62it/s]                                            \n",
      "Evaluate: Epoch [31/100]: 100%|██████████████████████████████| 79/79 [00:00<00:00, 126.35it/s]                                             \n"
     ]
    },
    {
     "name": "stdout",
     "output_type": "stream",
     "text": [
      "VALID \t: Summary: Loss: 1.0023 Accuracy: 0.6422\n",
      "TRAIN \t: Summary: Loss: 1.0713 Accuracy: 0.6173\n"
     ]
    },
    {
     "name": "stderr",
     "output_type": "stream",
     "text": [
      "Training: Epoch [32/100]: 100%|██████████████████████████████| 313/313 [00:10<00:00, 30.22it/s]                                            \n",
      "Evaluate: Epoch [32/100]: 100%|██████████████████████████████| 79/79 [00:00<00:00, 124.17it/s]                                             \n"
     ]
    },
    {
     "name": "stdout",
     "output_type": "stream",
     "text": [
      "VALID \t: Summary: Loss: 0.9983 Accuracy: 0.6480\n",
      "TRAIN \t: Summary: Loss: 1.0724 Accuracy: 0.6190\n"
     ]
    },
    {
     "name": "stderr",
     "output_type": "stream",
     "text": [
      "Training: Epoch [33/100]: 100%|██████████████████████████████| 313/313 [00:10<00:00, 31.26it/s]                                            \n",
      "Evaluate: Epoch [33/100]: 100%|██████████████████████████████| 79/79 [00:00<00:00, 125.23it/s]                                             \n"
     ]
    },
    {
     "name": "stdout",
     "output_type": "stream",
     "text": [
      "VALID \t: Summary: Loss: 1.0230 Accuracy: 0.6374\n",
      "TRAIN \t: Summary: Loss: 1.0650 Accuracy: 0.6238\n"
     ]
    },
    {
     "name": "stderr",
     "output_type": "stream",
     "text": [
      "Training: Epoch [34/100]: 100%|██████████████████████████████| 313/313 [00:09<00:00, 31.96it/s]                                            \n",
      "Evaluate: Epoch [34/100]: 100%|██████████████████████████████| 79/79 [00:00<00:00, 121.10it/s]                                             \n"
     ]
    },
    {
     "name": "stdout",
     "output_type": "stream",
     "text": [
      "VALID \t: Summary: Loss: 1.0065 Accuracy: 0.6439\n",
      "TRAIN \t: Summary: Loss: 1.0555 Accuracy: 0.6248\n"
     ]
    },
    {
     "name": "stderr",
     "output_type": "stream",
     "text": [
      "Training: Epoch [35/100]: 100%|██████████████████████████████| 313/313 [00:09<00:00, 32.26it/s]                                            \n",
      "Evaluate: Epoch [35/100]: 100%|██████████████████████████████| 79/79 [00:00<00:00, 126.78it/s]                                             \n"
     ]
    },
    {
     "name": "stdout",
     "output_type": "stream",
     "text": [
      "VALID \t: Summary: Loss: 0.9977 Accuracy: 0.6464\n",
      "TRAIN \t: Summary: Loss: 1.0524 Accuracy: 0.6244\n"
     ]
    },
    {
     "name": "stderr",
     "output_type": "stream",
     "text": [
      "Training: Epoch [36/100]: 100%|██████████████████████████████| 313/313 [00:09<00:00, 31.81it/s]                                            \n",
      "Evaluate: Epoch [36/100]: 100%|██████████████████████████████| 79/79 [00:00<00:00, 127.14it/s]                                             \n"
     ]
    },
    {
     "name": "stdout",
     "output_type": "stream",
     "text": [
      "VALID \t: Summary: Loss: 0.9898 Accuracy: 0.6482\n",
      "TRAIN \t: Summary: Loss: 1.0522 Accuracy: 0.6278\n"
     ]
    },
    {
     "name": "stderr",
     "output_type": "stream",
     "text": [
      "Training: Epoch [37/100]: 100%|██████████████████████████████| 313/313 [00:09<00:00, 31.73it/s]                                            \n",
      "Evaluate: Epoch [37/100]: 100%|██████████████████████████████| 79/79 [00:00<00:00, 126.35it/s]                                             \n"
     ]
    },
    {
     "name": "stdout",
     "output_type": "stream",
     "text": [
      "VALID \t: Summary: Loss: 0.9818 Accuracy: 0.6518\n",
      "TRAIN \t: Summary: Loss: 1.0434 Accuracy: 0.6312\n"
     ]
    },
    {
     "name": "stderr",
     "output_type": "stream",
     "text": [
      "Training: Epoch [38/100]: 100%|██████████████████████████████| 313/313 [00:09<00:00, 31.97it/s]                                            \n",
      "Evaluate: Epoch [38/100]: 100%|██████████████████████████████| 79/79 [00:00<00:00, 126.19it/s]                                             \n"
     ]
    },
    {
     "name": "stdout",
     "output_type": "stream",
     "text": [
      "VALID \t: Summary: Loss: 0.9860 Accuracy: 0.6484\n",
      "TRAIN \t: Summary: Loss: 1.0454 Accuracy: 0.6297\n"
     ]
    },
    {
     "name": "stderr",
     "output_type": "stream",
     "text": [
      "Training: Epoch [39/100]: 100%|██████████████████████████████| 313/313 [00:09<00:00, 31.81it/s]                                            \n",
      "Evaluate: Epoch [39/100]: 100%|██████████████████████████████| 79/79 [00:00<00:00, 126.49it/s]                                             \n"
     ]
    },
    {
     "name": "stdout",
     "output_type": "stream",
     "text": [
      "VALID \t: Summary: Loss: 1.0100 Accuracy: 0.6441\n",
      "TRAIN \t: Summary: Loss: 1.0398 Accuracy: 0.6295\n"
     ]
    },
    {
     "name": "stderr",
     "output_type": "stream",
     "text": [
      "Training: Epoch [40/100]: 100%|██████████████████████████████| 313/313 [00:10<00:00, 29.32it/s]                                            \n",
      "Evaluate: Epoch [40/100]: 100%|██████████████████████████████| 79/79 [00:00<00:00, 111.94it/s]                                             \n"
     ]
    },
    {
     "name": "stdout",
     "output_type": "stream",
     "text": [
      "VALID \t: Summary: Loss: 0.9742 Accuracy: 0.6607\n",
      "TRAIN \t: Summary: Loss: 1.0412 Accuracy: 0.6295\n"
     ]
    },
    {
     "name": "stderr",
     "output_type": "stream",
     "text": [
      "Training: Epoch [41/100]: 100%|██████████████████████████████| 313/313 [00:09<00:00, 31.32it/s]                                            \n",
      "Evaluate: Epoch [41/100]: 100%|██████████████████████████████| 79/79 [00:00<00:00, 92.81it/s]                                              \n"
     ]
    },
    {
     "name": "stdout",
     "output_type": "stream",
     "text": [
      "VALID \t: Summary: Loss: 0.9653 Accuracy: 0.6598\n",
      "TRAIN \t: Summary: Loss: 1.0301 Accuracy: 0.6343\n"
     ]
    },
    {
     "name": "stderr",
     "output_type": "stream",
     "text": [
      "Training: Epoch [42/100]: 100%|██████████████████████████████| 313/313 [00:11<00:00, 27.10it/s]                                            \n",
      "Evaluate: Epoch [42/100]: 100%|██████████████████████████████| 79/79 [00:00<00:00, 121.10it/s]                                             \n"
     ]
    },
    {
     "name": "stdout",
     "output_type": "stream",
     "text": [
      "VALID \t: Summary: Loss: 0.9810 Accuracy: 0.6519\n",
      "TRAIN \t: Summary: Loss: 1.0257 Accuracy: 0.6367\n"
     ]
    },
    {
     "name": "stderr",
     "output_type": "stream",
     "text": [
      "Training: Epoch [43/100]: 100%|██████████████████████████████| 313/313 [00:10<00:00, 29.75it/s]                                            \n",
      "Evaluate: Epoch [43/100]: 100%|██████████████████████████████| 79/79 [00:00<00:00, 123.55it/s]                                             \n"
     ]
    },
    {
     "name": "stdout",
     "output_type": "stream",
     "text": [
      "VALID \t: Summary: Loss: 0.9864 Accuracy: 0.6511\n",
      "TRAIN \t: Summary: Loss: 1.0167 Accuracy: 0.6363\n"
     ]
    },
    {
     "name": "stderr",
     "output_type": "stream",
     "text": [
      "Training: Epoch [44/100]: 100%|██████████████████████████████| 313/313 [00:10<00:00, 31.13it/s]                                            \n",
      "Evaluate: Epoch [44/100]: 100%|██████████████████████████████| 79/79 [00:00<00:00, 120.07it/s]                                             \n"
     ]
    },
    {
     "name": "stdout",
     "output_type": "stream",
     "text": [
      "VALID \t: Summary: Loss: 0.9742 Accuracy: 0.6563\n",
      "TRAIN \t: Summary: Loss: 1.0173 Accuracy: 0.6360\n"
     ]
    },
    {
     "name": "stderr",
     "output_type": "stream",
     "text": [
      "Training: Epoch [45/100]: 100%|██████████████████████████████| 313/313 [00:10<00:00, 31.20it/s]                                            \n",
      "Evaluate: Epoch [45/100]: 100%|██████████████████████████████| 79/79 [00:00<00:00, 123.33it/s]                                             \n"
     ]
    },
    {
     "name": "stdout",
     "output_type": "stream",
     "text": [
      "VALID \t: Summary: Loss: 0.9690 Accuracy: 0.6552\n",
      "TRAIN \t: Summary: Loss: 1.0095 Accuracy: 0.6406\n"
     ]
    },
    {
     "name": "stderr",
     "output_type": "stream",
     "text": [
      "Training: Epoch [46/100]: 100%|██████████████████████████████| 313/313 [00:09<00:00, 31.45it/s]                                            \n",
      "Evaluate: Epoch [46/100]: 100%|██████████████████████████████| 79/79 [00:00<00:00, 122.20it/s]                                             \n"
     ]
    },
    {
     "name": "stdout",
     "output_type": "stream",
     "text": [
      "VALID \t: Summary: Loss: 0.9637 Accuracy: 0.6604\n",
      "TRAIN \t: Summary: Loss: 1.0131 Accuracy: 0.6398\n"
     ]
    },
    {
     "name": "stderr",
     "output_type": "stream",
     "text": [
      "Training: Epoch [47/100]: 100%|██████████████████████████████| 313/313 [00:10<00:00, 30.64it/s]                                            \n",
      "Evaluate: Epoch [47/100]: 100%|██████████████████████████████| 79/79 [00:00<00:00, 118.87it/s]                                             \n"
     ]
    },
    {
     "name": "stdout",
     "output_type": "stream",
     "text": [
      "VALID \t: Summary: Loss: 0.9767 Accuracy: 0.6512\n",
      "TRAIN \t: Summary: Loss: 1.0117 Accuracy: 0.6414\n"
     ]
    },
    {
     "name": "stderr",
     "output_type": "stream",
     "text": [
      "Training: Epoch [48/100]: 100%|██████████████████████████████| 313/313 [00:10<00:00, 30.07it/s]                                            \n",
      "Evaluate: Epoch [48/100]: 100%|██████████████████████████████| 79/79 [00:00<00:00, 124.80it/s]                                             \n"
     ]
    },
    {
     "name": "stdout",
     "output_type": "stream",
     "text": [
      "VALID \t: Summary: Loss: 0.9578 Accuracy: 0.6645\n",
      "TRAIN \t: Summary: Loss: 1.0091 Accuracy: 0.6417\n"
     ]
    },
    {
     "name": "stderr",
     "output_type": "stream",
     "text": [
      "Training: Epoch [49/100]: 100%|██████████████████████████████| 313/313 [00:10<00:00, 30.88it/s]                                            \n",
      "Evaluate: Epoch [49/100]: 100%|██████████████████████████████| 79/79 [00:00<00:00, 123.62it/s]                                             \n"
     ]
    },
    {
     "name": "stdout",
     "output_type": "stream",
     "text": [
      "VALID \t: Summary: Loss: 0.9668 Accuracy: 0.6547\n",
      "TRAIN \t: Summary: Loss: 1.0023 Accuracy: 0.6439\n"
     ]
    },
    {
     "name": "stderr",
     "output_type": "stream",
     "text": [
      "Training: Epoch [50/100]: 100%|██████████████████████████████| 313/313 [00:09<00:00, 31.50it/s]                                            \n",
      "Evaluate: Epoch [50/100]: 100%|██████████████████████████████| 79/79 [00:00<00:00, 128.31it/s]                                             \n"
     ]
    },
    {
     "name": "stdout",
     "output_type": "stream",
     "text": [
      "VALID \t: Summary: Loss: 0.9604 Accuracy: 0.6630\n",
      "TRAIN \t: Summary: Loss: 1.0011 Accuracy: 0.6450\n"
     ]
    },
    {
     "name": "stderr",
     "output_type": "stream",
     "text": [
      "Training: Epoch [51/100]: 100%|██████████████████████████████| 313/313 [00:10<00:00, 30.75it/s]                                            \n",
      "Evaluate: Epoch [51/100]: 100%|██████████████████████████████| 79/79 [00:00<00:00, 96.71it/s]                                              \n"
     ]
    },
    {
     "name": "stdout",
     "output_type": "stream",
     "text": [
      "VALID \t: Summary: Loss: 0.9212 Accuracy: 0.6757\n",
      "TRAIN \t: Summary: Loss: 0.9531 Accuracy: 0.6623\n"
     ]
    },
    {
     "name": "stderr",
     "output_type": "stream",
     "text": [
      "Training: Epoch [52/100]: 100%|██████████████████████████████| 313/313 [00:10<00:00, 30.90it/s]                                            \n",
      "Evaluate: Epoch [52/100]: 100%|██████████████████████████████| 79/79 [00:00<00:00, 122.29it/s]                                             \n"
     ]
    },
    {
     "name": "stdout",
     "output_type": "stream",
     "text": [
      "VALID \t: Summary: Loss: 0.9207 Accuracy: 0.6764\n",
      "TRAIN \t: Summary: Loss: 0.9412 Accuracy: 0.6670\n"
     ]
    },
    {
     "name": "stderr",
     "output_type": "stream",
     "text": [
      "Training: Epoch [53/100]: 100%|██████████████████████████████| 313/313 [00:10<00:00, 29.41it/s]                                            \n",
      "Evaluate: Epoch [53/100]: 100%|██████████████████████████████| 79/79 [00:00<00:00, 97.88it/s]                                              \n"
     ]
    },
    {
     "name": "stdout",
     "output_type": "stream",
     "text": [
      "VALID \t: Summary: Loss: 0.9198 Accuracy: 0.6747\n",
      "TRAIN \t: Summary: Loss: 0.9415 Accuracy: 0.6649\n"
     ]
    },
    {
     "name": "stderr",
     "output_type": "stream",
     "text": [
      "Training: Epoch [54/100]: 100%|██████████████████████████████| 313/313 [00:10<00:00, 31.12it/s]                                            \n",
      "Evaluate: Epoch [54/100]: 100%|██████████████████████████████| 79/79 [00:00<00:00, 124.73it/s]                                             \n"
     ]
    },
    {
     "name": "stdout",
     "output_type": "stream",
     "text": [
      "VALID \t: Summary: Loss: 0.9177 Accuracy: 0.6766\n",
      "TRAIN \t: Summary: Loss: 0.9363 Accuracy: 0.6659\n"
     ]
    },
    {
     "name": "stderr",
     "output_type": "stream",
     "text": [
      "Training: Epoch [55/100]: 100%|██████████████████████████████| 313/313 [00:09<00:00, 31.96it/s]                                            \n",
      "Evaluate: Epoch [55/100]: 100%|██████████████████████████████| 79/79 [00:00<00:00, 125.87it/s]                                             \n"
     ]
    },
    {
     "name": "stdout",
     "output_type": "stream",
     "text": [
      "VALID \t: Summary: Loss: 0.9207 Accuracy: 0.6727\n",
      "TRAIN \t: Summary: Loss: 0.9371 Accuracy: 0.6680\n"
     ]
    },
    {
     "name": "stderr",
     "output_type": "stream",
     "text": [
      "Training: Epoch [56/100]: 100%|██████████████████████████████| 313/313 [00:10<00:00, 31.25it/s]                                            \n",
      "Evaluate: Epoch [56/100]: 100%|██████████████████████████████| 79/79 [00:00<00:00, 126.07it/s]                                             \n"
     ]
    },
    {
     "name": "stdout",
     "output_type": "stream",
     "text": [
      "VALID \t: Summary: Loss: 0.9179 Accuracy: 0.6762\n",
      "TRAIN \t: Summary: Loss: 0.9363 Accuracy: 0.6687\n"
     ]
    },
    {
     "name": "stderr",
     "output_type": "stream",
     "text": [
      "Training: Epoch [57/100]: 100%|██████████████████████████████| 313/313 [00:10<00:00, 30.01it/s]                                            \n",
      "Evaluate: Epoch [57/100]: 100%|██████████████████████████████| 79/79 [00:00<00:00, 120.93it/s]                                             \n"
     ]
    },
    {
     "name": "stdout",
     "output_type": "stream",
     "text": [
      "VALID \t: Summary: Loss: 0.9164 Accuracy: 0.6762\n",
      "TRAIN \t: Summary: Loss: 0.9316 Accuracy: 0.6715\n"
     ]
    },
    {
     "name": "stderr",
     "output_type": "stream",
     "text": [
      "Training: Epoch [58/100]: 100%|██████████████████████████████| 313/313 [00:10<00:00, 29.53it/s]                                            \n",
      "Evaluate: Epoch [58/100]: 100%|██████████████████████████████| 79/79 [00:00<00:00, 118.00it/s]                                             \n"
     ]
    },
    {
     "name": "stdout",
     "output_type": "stream",
     "text": [
      "VALID \t: Summary: Loss: 0.9140 Accuracy: 0.6763\n",
      "TRAIN \t: Summary: Loss: 0.9310 Accuracy: 0.6714\n"
     ]
    },
    {
     "name": "stderr",
     "output_type": "stream",
     "text": [
      "Training: Epoch [59/100]: 100%|██████████████████████████████| 313/313 [00:09<00:00, 31.51it/s]                                            \n",
      "Evaluate: Epoch [59/100]: 100%|██████████████████████████████| 79/79 [00:00<00:00, 121.22it/s]                                             \n"
     ]
    },
    {
     "name": "stdout",
     "output_type": "stream",
     "text": [
      "VALID \t: Summary: Loss: 0.9166 Accuracy: 0.6746\n",
      "TRAIN \t: Summary: Loss: 0.9292 Accuracy: 0.6710\n"
     ]
    },
    {
     "name": "stderr",
     "output_type": "stream",
     "text": [
      "Training: Epoch [60/100]: 100%|██████████████████████████████| 313/313 [00:09<00:00, 31.66it/s]                                            \n",
      "Evaluate: Epoch [60/100]: 100%|██████████████████████████████| 79/79 [00:00<00:00, 123.75it/s]                                             \n"
     ]
    },
    {
     "name": "stdout",
     "output_type": "stream",
     "text": [
      "VALID \t: Summary: Loss: 0.9133 Accuracy: 0.6770\n",
      "TRAIN \t: Summary: Loss: 0.9316 Accuracy: 0.6727\n"
     ]
    },
    {
     "name": "stderr",
     "output_type": "stream",
     "text": [
      "Training: Epoch [61/100]: 100%|██████████████████████████████| 313/313 [00:09<00:00, 31.97it/s]                                            \n",
      "Evaluate: Epoch [61/100]: 100%|██████████████████████████████| 79/79 [00:00<00:00, 124.36it/s]                                             \n"
     ]
    },
    {
     "name": "stdout",
     "output_type": "stream",
     "text": [
      "VALID \t: Summary: Loss: 0.9178 Accuracy: 0.6779\n",
      "TRAIN \t: Summary: Loss: 0.9330 Accuracy: 0.6703\n"
     ]
    },
    {
     "name": "stderr",
     "output_type": "stream",
     "text": [
      "Training: Epoch [62/100]: 100%|██████████████████████████████| 313/313 [00:09<00:00, 31.65it/s]                                            \n",
      "Evaluate: Epoch [62/100]: 100%|██████████████████████████████| 79/79 [00:00<00:00, 126.46it/s]                                             \n"
     ]
    },
    {
     "name": "stdout",
     "output_type": "stream",
     "text": [
      "VALID \t: Summary: Loss: 0.9150 Accuracy: 0.6774\n",
      "TRAIN \t: Summary: Loss: 0.9283 Accuracy: 0.6715\n"
     ]
    },
    {
     "name": "stderr",
     "output_type": "stream",
     "text": [
      "Training: Epoch [63/100]: 100%|██████████████████████████████| 313/313 [00:10<00:00, 29.53it/s]                                            \n",
      "Evaluate: Epoch [63/100]: 100%|██████████████████████████████| 79/79 [00:00<00:00, 113.47it/s]                                             \n"
     ]
    },
    {
     "name": "stdout",
     "output_type": "stream",
     "text": [
      "VALID \t: Summary: Loss: 0.9159 Accuracy: 0.6746\n",
      "TRAIN \t: Summary: Loss: 0.9298 Accuracy: 0.6728\n"
     ]
    },
    {
     "name": "stderr",
     "output_type": "stream",
     "text": [
      "Training: Epoch [64/100]: 100%|██████████████████████████████| 313/313 [00:11<00:00, 26.32it/s]                                            \n",
      "Evaluate: Epoch [64/100]: 100%|██████████████████████████████| 79/79 [00:00<00:00, 95.87it/s]                                              \n"
     ]
    },
    {
     "name": "stdout",
     "output_type": "stream",
     "text": [
      "VALID \t: Summary: Loss: 0.9135 Accuracy: 0.6768\n",
      "TRAIN \t: Summary: Loss: 0.9295 Accuracy: 0.6688\n"
     ]
    },
    {
     "name": "stderr",
     "output_type": "stream",
     "text": [
      "Training: Epoch [65/100]: 100%|██████████████████████████████| 313/313 [00:10<00:00, 30.43it/s]                                            \n",
      "Evaluate: Epoch [65/100]: 100%|██████████████████████████████| 79/79 [00:00<00:00, 124.60it/s]                                             \n"
     ]
    },
    {
     "name": "stdout",
     "output_type": "stream",
     "text": [
      "VALID \t: Summary: Loss: 0.9149 Accuracy: 0.6796\n",
      "TRAIN \t: Summary: Loss: 0.9237 Accuracy: 0.6730\n"
     ]
    },
    {
     "name": "stderr",
     "output_type": "stream",
     "text": [
      "Training: Epoch [66/100]: 100%|██████████████████████████████| 313/313 [00:10<00:00, 31.25it/s]                                            \n",
      "Evaluate: Epoch [66/100]: 100%|██████████████████████████████| 79/79 [00:00<00:00, 126.50it/s]                                             \n"
     ]
    },
    {
     "name": "stdout",
     "output_type": "stream",
     "text": [
      "VALID \t: Summary: Loss: 0.9145 Accuracy: 0.6786\n",
      "TRAIN \t: Summary: Loss: 0.9229 Accuracy: 0.6724\n"
     ]
    },
    {
     "name": "stderr",
     "output_type": "stream",
     "text": [
      "Training: Epoch [67/100]: 100%|██████████████████████████████| 313/313 [00:10<00:00, 29.03it/s]                                            \n",
      "Evaluate: Epoch [67/100]: 100%|██████████████████████████████| 79/79 [00:00<00:00, 123.21it/s]                                             \n"
     ]
    },
    {
     "name": "stdout",
     "output_type": "stream",
     "text": [
      "VALID \t: Summary: Loss: 0.9131 Accuracy: 0.6775\n",
      "TRAIN \t: Summary: Loss: 0.9260 Accuracy: 0.6725\n"
     ]
    },
    {
     "name": "stderr",
     "output_type": "stream",
     "text": [
      "Training: Epoch [68/100]: 100%|██████████████████████████████| 313/313 [00:09<00:00, 31.66it/s]                                            \n",
      "Evaluate: Epoch [68/100]: 100%|██████████████████████████████| 79/79 [00:00<00:00, 126.80it/s]                                             \n"
     ]
    },
    {
     "name": "stdout",
     "output_type": "stream",
     "text": [
      "VALID \t: Summary: Loss: 0.9167 Accuracy: 0.6767\n",
      "TRAIN \t: Summary: Loss: 0.9236 Accuracy: 0.6718\n"
     ]
    },
    {
     "name": "stderr",
     "output_type": "stream",
     "text": [
      "Training: Epoch [69/100]: 100%|██████████████████████████████| 313/313 [00:09<00:00, 31.67it/s]                                            \n",
      "Evaluate: Epoch [69/100]: 100%|██████████████████████████████| 79/79 [00:00<00:00, 122.84it/s]                                             \n"
     ]
    },
    {
     "name": "stdout",
     "output_type": "stream",
     "text": [
      "VALID \t: Summary: Loss: 0.9168 Accuracy: 0.6772\n",
      "TRAIN \t: Summary: Loss: 0.9232 Accuracy: 0.6717\n"
     ]
    },
    {
     "name": "stderr",
     "output_type": "stream",
     "text": [
      "Training: Epoch [70/100]: 100%|██████████████████████████████| 313/313 [00:09<00:00, 31.81it/s]                                            \n",
      "Evaluate: Epoch [70/100]: 100%|██████████████████████████████| 79/79 [00:00<00:00, 124.63it/s]                                             \n"
     ]
    },
    {
     "name": "stdout",
     "output_type": "stream",
     "text": [
      "VALID \t: Summary: Loss: 0.9143 Accuracy: 0.6782\n",
      "TRAIN \t: Summary: Loss: 0.9201 Accuracy: 0.6717\n"
     ]
    },
    {
     "name": "stderr",
     "output_type": "stream",
     "text": [
      "Training: Epoch [71/100]: 100%|██████████████████████████████| 313/313 [00:10<00:00, 30.13it/s]                                            \n",
      "Evaluate: Epoch [71/100]: 100%|██████████████████████████████| 79/79 [00:00<00:00, 120.91it/s]                                             \n"
     ]
    },
    {
     "name": "stdout",
     "output_type": "stream",
     "text": [
      "VALID \t: Summary: Loss: 0.9152 Accuracy: 0.6776\n",
      "TRAIN \t: Summary: Loss: 0.9213 Accuracy: 0.6729\n"
     ]
    },
    {
     "name": "stderr",
     "output_type": "stream",
     "text": [
      "Training: Epoch [72/100]: 100%|██████████████████████████████| 313/313 [00:09<00:00, 32.11it/s]                                            \n",
      "Evaluate: Epoch [72/100]: 100%|██████████████████████████████| 79/79 [00:00<00:00, 123.32it/s]                                             \n"
     ]
    },
    {
     "name": "stdout",
     "output_type": "stream",
     "text": [
      "VALID \t: Summary: Loss: 0.9146 Accuracy: 0.6776\n",
      "TRAIN \t: Summary: Loss: 0.9250 Accuracy: 0.6726\n"
     ]
    },
    {
     "name": "stderr",
     "output_type": "stream",
     "text": [
      "Training: Epoch [73/100]: 100%|██████████████████████████████| 313/313 [00:09<00:00, 31.34it/s]                                            \n",
      "Evaluate: Epoch [73/100]: 100%|██████████████████████████████| 79/79 [00:00<00:00, 115.53it/s]                                             \n"
     ]
    },
    {
     "name": "stdout",
     "output_type": "stream",
     "text": [
      "VALID \t: Summary: Loss: 0.9113 Accuracy: 0.6773\n",
      "TRAIN \t: Summary: Loss: 0.9198 Accuracy: 0.6730\n"
     ]
    },
    {
     "name": "stderr",
     "output_type": "stream",
     "text": [
      "Training: Epoch [74/100]: 100%|██████████████████████████████| 313/313 [00:10<00:00, 30.62it/s]                                            \n",
      "Evaluate: Epoch [74/100]: 100%|██████████████████████████████| 79/79 [00:00<00:00, 114.00it/s]                                             \n"
     ]
    },
    {
     "name": "stdout",
     "output_type": "stream",
     "text": [
      "VALID \t: Summary: Loss: 0.9124 Accuracy: 0.6784\n",
      "TRAIN \t: Summary: Loss: 0.9264 Accuracy: 0.6701\n"
     ]
    },
    {
     "name": "stderr",
     "output_type": "stream",
     "text": [
      "Training: Epoch [75/100]: 100%|██████████████████████████████| 313/313 [00:11<00:00, 26.98it/s]                                            \n",
      "Evaluate: Epoch [75/100]: 100%|██████████████████████████████| 79/79 [00:00<00:00, 91.41it/s]                                              \n"
     ]
    },
    {
     "name": "stdout",
     "output_type": "stream",
     "text": [
      "VALID \t: Summary: Loss: 0.9118 Accuracy: 0.6788\n",
      "TRAIN \t: Summary: Loss: 0.9244 Accuracy: 0.6717\n"
     ]
    },
    {
     "name": "stderr",
     "output_type": "stream",
     "text": [
      "Training: Epoch [76/100]: 100%|██████████████████████████████| 313/313 [00:11<00:00, 28.07it/s]                                            \n",
      "Evaluate: Epoch [76/100]: 100%|██████████████████████████████| 79/79 [00:00<00:00, 124.08it/s]                                             \n"
     ]
    },
    {
     "name": "stdout",
     "output_type": "stream",
     "text": [
      "VALID \t: Summary: Loss: 0.9148 Accuracy: 0.6783\n",
      "TRAIN \t: Summary: Loss: 0.9203 Accuracy: 0.6737\n"
     ]
    },
    {
     "name": "stderr",
     "output_type": "stream",
     "text": [
      "Training: Epoch [77/100]: 100%|██████████████████████████████| 313/313 [00:10<00:00, 31.01it/s]                                            \n",
      "Evaluate: Epoch [77/100]: 100%|██████████████████████████████| 79/79 [00:00<00:00, 119.03it/s]                                             \n"
     ]
    },
    {
     "name": "stdout",
     "output_type": "stream",
     "text": [
      "VALID \t: Summary: Loss: 0.9146 Accuracy: 0.6754\n",
      "TRAIN \t: Summary: Loss: 0.9196 Accuracy: 0.6757\n"
     ]
    },
    {
     "name": "stderr",
     "output_type": "stream",
     "text": [
      "Training: Epoch [78/100]: 100%|██████████████████████████████| 313/313 [00:10<00:00, 30.24it/s]                                            \n",
      "Evaluate: Epoch [78/100]: 100%|██████████████████████████████| 79/79 [00:00<00:00, 121.53it/s]                                             \n"
     ]
    },
    {
     "name": "stdout",
     "output_type": "stream",
     "text": [
      "VALID \t: Summary: Loss: 0.9125 Accuracy: 0.6766\n",
      "TRAIN \t: Summary: Loss: 0.9168 Accuracy: 0.6763\n"
     ]
    },
    {
     "name": "stderr",
     "output_type": "stream",
     "text": [
      "Training: Epoch [79/100]: 100%|██████████████████████████████| 313/313 [00:10<00:00, 31.07it/s]                                            \n",
      "Evaluate: Epoch [79/100]: 100%|██████████████████████████████| 79/79 [00:00<00:00, 121.50it/s]                                             \n"
     ]
    },
    {
     "name": "stdout",
     "output_type": "stream",
     "text": [
      "VALID \t: Summary: Loss: 0.9163 Accuracy: 0.6771\n",
      "TRAIN \t: Summary: Loss: 0.9196 Accuracy: 0.6724\n"
     ]
    },
    {
     "name": "stderr",
     "output_type": "stream",
     "text": [
      "Training: Epoch [80/100]: 100%|██████████████████████████████| 313/313 [00:10<00:00, 31.08it/s]                                            \n",
      "Evaluate: Epoch [80/100]: 100%|██████████████████████████████| 79/79 [00:00<00:00, 125.65it/s]                                             \n"
     ]
    },
    {
     "name": "stdout",
     "output_type": "stream",
     "text": [
      "VALID \t: Summary: Loss: 0.9116 Accuracy: 0.6795\n",
      "TRAIN \t: Summary: Loss: 0.9201 Accuracy: 0.6738\n"
     ]
    },
    {
     "name": "stderr",
     "output_type": "stream",
     "text": [
      "Training: Epoch [81/100]: 100%|██████████████████████████████| 313/313 [00:10<00:00, 30.37it/s]                                            \n",
      "Evaluate: Epoch [81/100]: 100%|██████████████████████████████| 79/79 [00:00<00:00, 125.72it/s]                                             \n"
     ]
    },
    {
     "name": "stdout",
     "output_type": "stream",
     "text": [
      "VALID \t: Summary: Loss: 0.9118 Accuracy: 0.6790\n",
      "TRAIN \t: Summary: Loss: 0.9224 Accuracy: 0.6760\n"
     ]
    },
    {
     "name": "stderr",
     "output_type": "stream",
     "text": [
      "Training: Epoch [82/100]: 100%|██████████████████████████████| 313/313 [00:09<00:00, 31.73it/s]                                            \n",
      "Evaluate: Epoch [82/100]: 100%|██████████████████████████████| 79/79 [00:00<00:00, 122.77it/s]                                             \n"
     ]
    },
    {
     "name": "stdout",
     "output_type": "stream",
     "text": [
      "VALID \t: Summary: Loss: 0.9163 Accuracy: 0.6757\n",
      "TRAIN \t: Summary: Loss: 0.9197 Accuracy: 0.6753\n"
     ]
    },
    {
     "name": "stderr",
     "output_type": "stream",
     "text": [
      "Training: Epoch [83/100]: 100%|██████████████████████████████| 313/313 [00:10<00:00, 30.48it/s]                                            \n",
      "Evaluate: Epoch [83/100]: 100%|██████████████████████████████| 79/79 [00:00<00:00, 119.64it/s]                                             \n"
     ]
    },
    {
     "name": "stdout",
     "output_type": "stream",
     "text": [
      "VALID \t: Summary: Loss: 0.9137 Accuracy: 0.6792\n",
      "TRAIN \t: Summary: Loss: 0.9172 Accuracy: 0.6750\n"
     ]
    },
    {
     "name": "stderr",
     "output_type": "stream",
     "text": [
      "Training: Epoch [84/100]: 100%|██████████████████████████████| 313/313 [00:10<00:00, 30.74it/s]                                            \n",
      "Evaluate: Epoch [84/100]: 100%|██████████████████████████████| 79/79 [00:00<00:00, 113.54it/s]                                             \n"
     ]
    },
    {
     "name": "stdout",
     "output_type": "stream",
     "text": [
      "VALID \t: Summary: Loss: 0.9123 Accuracy: 0.6785\n",
      "TRAIN \t: Summary: Loss: 0.9194 Accuracy: 0.6760\n"
     ]
    },
    {
     "name": "stderr",
     "output_type": "stream",
     "text": [
      "Training: Epoch [85/100]: 100%|██████████████████████████████| 313/313 [00:10<00:00, 30.48it/s]                                            \n",
      "Evaluate: Epoch [85/100]: 100%|██████████████████████████████| 79/79 [00:00<00:00, 122.36it/s]                                             \n"
     ]
    },
    {
     "name": "stdout",
     "output_type": "stream",
     "text": [
      "VALID \t: Summary: Loss: 0.9124 Accuracy: 0.6782\n",
      "TRAIN \t: Summary: Loss: 0.9175 Accuracy: 0.6751\n"
     ]
    },
    {
     "name": "stderr",
     "output_type": "stream",
     "text": [
      "Training: Epoch [86/100]: 100%|██████████████████████████████| 313/313 [00:10<00:00, 31.19it/s]                                            \n",
      "Evaluate: Epoch [86/100]: 100%|██████████████████████████████| 79/79 [00:00<00:00, 124.61it/s]                                             \n"
     ]
    },
    {
     "name": "stdout",
     "output_type": "stream",
     "text": [
      "VALID \t: Summary: Loss: 0.9120 Accuracy: 0.6807\n",
      "TRAIN \t: Summary: Loss: 0.9126 Accuracy: 0.6781\n"
     ]
    },
    {
     "name": "stderr",
     "output_type": "stream",
     "text": [
      "Training: Epoch [87/100]: 100%|██████████████████████████████| 313/313 [00:10<00:00, 29.46it/s]                                            \n",
      "Evaluate: Epoch [87/100]: 100%|██████████████████████████████| 79/79 [00:00<00:00, 118.49it/s]                                             \n"
     ]
    },
    {
     "name": "stdout",
     "output_type": "stream",
     "text": [
      "VALID \t: Summary: Loss: 0.9110 Accuracy: 0.6776\n",
      "TRAIN \t: Summary: Loss: 0.9140 Accuracy: 0.6757\n"
     ]
    },
    {
     "name": "stderr",
     "output_type": "stream",
     "text": [
      "Training: Epoch [88/100]: 100%|██████████████████████████████| 313/313 [00:09<00:00, 31.74it/s]                                            \n",
      "Evaluate: Epoch [88/100]: 100%|██████████████████████████████| 79/79 [00:00<00:00, 125.10it/s]                                             \n"
     ]
    },
    {
     "name": "stdout",
     "output_type": "stream",
     "text": [
      "VALID \t: Summary: Loss: 0.9134 Accuracy: 0.6783\n",
      "TRAIN \t: Summary: Loss: 0.9105 Accuracy: 0.6785\n"
     ]
    },
    {
     "name": "stderr",
     "output_type": "stream",
     "text": [
      "Training: Epoch [89/100]: 100%|██████████████████████████████| 313/313 [00:10<00:00, 31.00it/s]                                            \n",
      "Evaluate: Epoch [89/100]: 100%|██████████████████████████████| 79/79 [00:00<00:00, 113.93it/s]                                             \n"
     ]
    },
    {
     "name": "stdout",
     "output_type": "stream",
     "text": [
      "VALID \t: Summary: Loss: 0.9116 Accuracy: 0.6794\n",
      "TRAIN \t: Summary: Loss: 0.9179 Accuracy: 0.6727\n"
     ]
    },
    {
     "name": "stderr",
     "output_type": "stream",
     "text": [
      "Training: Epoch [90/100]: 100%|██████████████████████████████| 313/313 [00:09<00:00, 31.57it/s]                                            \n",
      "Evaluate: Epoch [90/100]: 100%|██████████████████████████████| 79/79 [00:00<00:00, 126.48it/s]                                             \n"
     ]
    },
    {
     "name": "stdout",
     "output_type": "stream",
     "text": [
      "VALID \t: Summary: Loss: 0.9088 Accuracy: 0.6798\n",
      "TRAIN \t: Summary: Loss: 0.9182 Accuracy: 0.6748\n"
     ]
    },
    {
     "name": "stderr",
     "output_type": "stream",
     "text": [
      "Training: Epoch [91/100]: 100%|██████████████████████████████| 313/313 [00:10<00:00, 30.40it/s]                                            \n",
      "Evaluate: Epoch [91/100]: 100%|██████████████████████████████| 79/79 [00:00<00:00, 122.56it/s]                                             \n"
     ]
    },
    {
     "name": "stdout",
     "output_type": "stream",
     "text": [
      "VALID \t: Summary: Loss: 0.9089 Accuracy: 0.6777\n",
      "TRAIN \t: Summary: Loss: 0.9123 Accuracy: 0.6771\n"
     ]
    },
    {
     "name": "stderr",
     "output_type": "stream",
     "text": [
      "Training: Epoch [92/100]: 100%|██████████████████████████████| 313/313 [00:10<00:00, 31.26it/s]                                            \n",
      "Evaluate: Epoch [92/100]: 100%|██████████████████████████████| 79/79 [00:00<00:00, 125.70it/s]                                             \n"
     ]
    },
    {
     "name": "stdout",
     "output_type": "stream",
     "text": [
      "VALID \t: Summary: Loss: 0.9122 Accuracy: 0.6796\n",
      "TRAIN \t: Summary: Loss: 0.9123 Accuracy: 0.6767\n"
     ]
    },
    {
     "name": "stderr",
     "output_type": "stream",
     "text": [
      "Training: Epoch [93/100]: 100%|██████████████████████████████| 313/313 [00:09<00:00, 32.10it/s]                                            \n",
      "Evaluate: Epoch [93/100]: 100%|██████████████████████████████| 79/79 [00:00<00:00, 122.49it/s]                                             \n"
     ]
    },
    {
     "name": "stdout",
     "output_type": "stream",
     "text": [
      "VALID \t: Summary: Loss: 0.9058 Accuracy: 0.6808\n",
      "TRAIN \t: Summary: Loss: 0.9082 Accuracy: 0.6783\n"
     ]
    },
    {
     "name": "stderr",
     "output_type": "stream",
     "text": [
      "Training: Epoch [94/100]: 100%|██████████████████████████████| 313/313 [00:10<00:00, 31.09it/s]                                            \n",
      "Evaluate: Epoch [94/100]: 100%|██████████████████████████████| 79/79 [00:00<00:00, 124.87it/s]                                             \n"
     ]
    },
    {
     "name": "stdout",
     "output_type": "stream",
     "text": [
      "VALID \t: Summary: Loss: 0.9148 Accuracy: 0.6774\n",
      "TRAIN \t: Summary: Loss: 0.9081 Accuracy: 0.6784\n"
     ]
    },
    {
     "name": "stderr",
     "output_type": "stream",
     "text": [
      "Training: Epoch [95/100]: 100%|██████████████████████████████| 313/313 [00:10<00:00, 31.11it/s]                                            \n",
      "Evaluate: Epoch [95/100]: 100%|██████████████████████████████| 79/79 [00:00<00:00, 117.05it/s]                                             \n"
     ]
    },
    {
     "name": "stdout",
     "output_type": "stream",
     "text": [
      "VALID \t: Summary: Loss: 0.9132 Accuracy: 0.6778\n",
      "TRAIN \t: Summary: Loss: 0.9164 Accuracy: 0.6777\n"
     ]
    },
    {
     "name": "stderr",
     "output_type": "stream",
     "text": [
      "Training: Epoch [96/100]: 100%|██████████████████████████████| 313/313 [00:10<00:00, 30.96it/s]                                            \n",
      "Evaluate: Epoch [96/100]: 100%|██████████████████████████████| 79/79 [00:00<00:00, 118.53it/s]                                             \n"
     ]
    },
    {
     "name": "stdout",
     "output_type": "stream",
     "text": [
      "VALID \t: Summary: Loss: 0.9094 Accuracy: 0.6793\n",
      "TRAIN \t: Summary: Loss: 0.9117 Accuracy: 0.6760\n"
     ]
    },
    {
     "name": "stderr",
     "output_type": "stream",
     "text": [
      "Training: Epoch [97/100]: 100%|██████████████████████████████| 313/313 [00:10<00:00, 30.47it/s]                                            \n",
      "Evaluate: Epoch [97/100]: 100%|██████████████████████████████| 79/79 [00:00<00:00, 121.44it/s]                                             \n"
     ]
    },
    {
     "name": "stdout",
     "output_type": "stream",
     "text": [
      "VALID \t: Summary: Loss: 0.9087 Accuracy: 0.6794\n",
      "TRAIN \t: Summary: Loss: 0.9074 Accuracy: 0.6770\n"
     ]
    },
    {
     "name": "stderr",
     "output_type": "stream",
     "text": [
      "Training: Epoch [98/100]: 100%|██████████████████████████████| 313/313 [00:10<00:00, 31.16it/s]                                            \n",
      "Evaluate: Epoch [98/100]: 100%|██████████████████████████████| 79/79 [00:00<00:00, 118.88it/s]                                             \n"
     ]
    },
    {
     "name": "stdout",
     "output_type": "stream",
     "text": [
      "VALID \t: Summary: Loss: 0.9076 Accuracy: 0.6802\n",
      "TRAIN \t: Summary: Loss: 0.9061 Accuracy: 0.6812\n"
     ]
    },
    {
     "name": "stderr",
     "output_type": "stream",
     "text": [
      "Training: Epoch [99/100]: 100%|██████████████████████████████| 313/313 [00:10<00:00, 30.92it/s]                                            \n",
      "Evaluate: Epoch [99/100]: 100%|██████████████████████████████| 79/79 [00:00<00:00, 125.56it/s]                                             \n"
     ]
    },
    {
     "name": "stdout",
     "output_type": "stream",
     "text": [
      "VALID \t: Summary: Loss: 0.9100 Accuracy: 0.6796\n",
      "TRAIN \t: Summary: Loss: 0.9093 Accuracy: 0.6796\n"
     ]
    },
    {
     "name": "stderr",
     "output_type": "stream",
     "text": [
      "Training: Epoch [100/100]: 100%|██████████████████████████████| 313/313 [00:09<00:00, 31.31it/s]                                           \n",
      "Evaluate: Epoch [100/100]: 100%|██████████████████████████████| 79/79 [00:00<00:00, 127.17it/s]                                            \n"
     ]
    },
    {
     "name": "stdout",
     "output_type": "stream",
     "text": [
      "VALID \t: Summary: Loss: 0.9078 Accuracy: 0.6812\n",
      "TRAIN \t: Summary: Loss: 0.9065 Accuracy: 0.6802\n"
     ]
    },
    {
     "data": {
      "image/png": "[encoded data removed]",
      "text/plain": [
       "<Figure size 648x432 with 1 Axes>"
      ]
     },
     "metadata": {
      "needs_background": "light"
     },
     "output_type": "display_data"
    },
    {
     "data": {
      "image/png": "[encoded data removed]",
      "text/plain": [
       "<Figure size 648x432 with 1 Axes>"
      ]
     },
     "metadata": {
      "needs_background": "light"
     },
     "output_type": "display_data"
    }
   ],
   "source": [
    "train_transforms = [\n",
    "    {\n",
    "        \"name\": \"ToTensor\",\n",
    "        \"args\": {},\n",
    "    },\n",
    "    {\n",
    "        \"name\": \"Normalize\",\n",
    "        \"args\": {\"mean\": (0.5, 0.5, 0.5), \"std\": (0.5, 0.5, 0.5)},\n",
    "    },\n",
    "    {\n",
    "        \"name\": \"RandomAffine\",\n",
    "        \"args\": {\"degrees\": 10, \"translate\": (0.1, 0.1), \"scale\": (0.8, 1.2)},\n",
    "    },\n",
    "]\n",
    "valid_transforms = [\n",
    "    {\n",
    "        \"name\": \"ToTensor\",\n",
    "        \"args\": {},\n",
    "    },\n",
    "    {\n",
    "        \"name\": \"Normalize\",\n",
    "        \"args\": {\"mean\": (0.5, 0.5, 0.5), \"std\": (0.5, 0.5, 0.5)},\n",
    "    },\n",
    "]\n",
    "\n",
    "network = \"cnn\"\n",
    "num_epochs = 100\n",
    "batch_size = 128\n",
    "opt_args = {\"name\": \"Adam\", \"lr\": 1e-3}\n",
    "\n",
    "sch_args = None\n",
    "sch_args = {\"name\": \"MultiStepLR\", \"milestones\": [50], \"gamma\": 0.1}\n",
    "\n",
    "net, loss_fn = experiment(\n",
    "    train_transforms, valid_transforms, network, num_epochs, batch_size, opt_args, sch_args=sch_args,\n",
    ")"
   ]
  },
  {
   "cell_type": "code",
   "execution_count": null,
   "id": "ba16c236-665d-4fd0-a661-d82a2035d41a",
   "metadata": {},
   "outputs": [
    {
     "name": "stdout",
     "output_type": "stream",
     "text": [
      "----------------------------------------------------------------\n",
      "        Layer (type)               Output Shape         Param #\n",
      "================================================================\n",
      "            Conv2d-1            [-1, 6, 28, 28]             456\n",
      "              ReLU-2            [-1, 6, 28, 28]               0\n",
      "         AvgPool2d-3            [-1, 6, 14, 14]               0\n",
      "            Conv2d-4           [-1, 16, 10, 10]           2,416\n",
      "              ReLU-5           [-1, 16, 10, 10]               0\n",
      "         AvgPool2d-6             [-1, 16, 5, 5]               0\n",
      "            Linear-7                  [-1, 120]          48,120\n",
      "              ReLU-8                  [-1, 120]               0\n",
      "            Linear-9                   [-1, 84]          10,164\n",
      "             ReLU-10                   [-1, 84]               0\n",
      "           Linear-11                   [-1, 10]             850\n",
      "================================================================\n",
      "Total params: 62,006\n",
      "Trainable params: 62,006\n",
      "Non-trainable params: 0\n",
      "----------------------------------------------------------------\n",
      "Input size (MB): 0.01\n",
      "Forward/backward pass size (MB): 0.11\n",
      "Params size (MB): 0.24\n",
      "Estimated Total Size (MB): 0.36\n",
      "----------------------------------------------------------------\n"
     ]
    }
   ],
   "source": [
    "summary(net, input_size=(3, 32, 32))"
   ]
  },
  {
   "cell_type": "code",
   "execution_count": null,
   "id": "4747220c-f8d2-4009-bf66-e12e3074ff07",
   "metadata": {},
   "outputs": [],
   "source": [
    "test_transforms = [\n",
    "    {\n",
    "        \"name\": \"ToTensor\",\n",
    "        \"args\": {},\n",
    "    },\n",
    "    {\n",
    "        \"name\": \"Normalize\",\n",
    "        \"args\": {\"mean\": (0.5, 0.5, 0.5), \"std\": (0.5, 0.5, 0.5)},\n",
    "    },\n",
    "]\n",
    "test_transform = InputTransform(test_transforms)\n",
    "test_dataset = CIFAR(root=\"../datasets/CIFAR-10/\", mode=\"test\", transform=test_transform)\n",
    "test_loader = get_dataloader(test_dataset, train=False, batch_size=128, num_workers=0)"
   ]
  },
  {
   "cell_type": "code",
   "execution_count": 8,
   "id": "c96173df-3863-42d5-8295-f20f4233f02e",
   "metadata": {},
   "outputs": [
    {
     "name": "stderr",
     "output_type": "stream",
     "text": [
      "Evaluate: Epoch [1/1]: 100%|██████████████████████████████| 79/79 [00:00<00:00, 128.76it/s]                                                "
     ]
    },
    {
     "name": "stdout",
     "output_type": "stream",
     "text": [
      "TEST \t: Summary: Loss: 0.9494 Accuracy: 0.6716\n"
     ]
    },
    {
     "name": "stderr",
     "output_type": "stream",
     "text": [
      "\n"
     ]
    },
    {
     "data": {
      "text/plain": [
       "(0.9494288541093657, 0.6716)"
      ]
     },
     "execution_count": 8,
     "metadata": {},
     "output_type": "execute_result"
    }
   ],
   "source": [
    "evaluate(net, test_loader, loss_fn, 1, 1, \"test\")"
   ]
  },
  {
   "cell_type": "code",
   "execution_count": 12,
   "id": "eff8affe-4375-4d1a-afa5-3d4ee1932270",
   "metadata": {},
   "outputs": [],
   "source": [
    "torch.save(net, \"../checkpoints/cnn_best_hparams.pt\")"
   ]
  },
  {
   "cell_type": "code",
   "execution_count": null,
   "id": "deb7c929-1f7f-4896-8430-e696f4c29307",
   "metadata": {},
   "outputs": [],
   "source": []
  }
 ],
 "metadata": {
  "kernelspec": {
   "display_name": "Python 3 (ipykernel)",
   "language": "python",
   "name": "python3"
  },
  "language_info": {
   "codemirror_mode": {
    "name": "ipython",
    "version": 3
   },
   "file_extension": ".py",
   "mimetype": "text/x-python",
   "name": "python",
   "nbconvert_exporter": "python",
   "pygments_lexer": "ipython3",
   "version": "3.9.7"
  }
 },
 "nbformat": 4,
 "nbformat_minor": 5
}
