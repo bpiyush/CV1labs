{
 "cells": [
  {
   "cell_type": "code",
   "execution_count": 5,
   "id": "attached-flesh",
   "metadata": {},
   "outputs": [],
   "source": [
    "import numpy as np\n",
    "\n",
    "def gauss2D( sigma_x, sigma_y , kernel_size ):\n",
    "    ## solution\n",
    "    x = np.linspace(1, kernel_size, kernel_size)\n",
    "    x = x - round(kernel_size/2) - 1\n",
    "    y = np.linspace(1, kernel_size, kernel_size)\n",
    "    y = y - round(kernel_size/2) - 1\n",
    "    G_x = np.exp((-(x**2))/((2*(sigma_x**2))))/ (np.sqrt(2*np.pi)*sigma_x)\n",
    "    G_y = np.exp((-(x**2))/((2*(sigma_y**2))))/ (np.sqrt(2*np.pi)*sigma_y)\n",
    "    G = G_x*G_y\n",
    "    G = G /np.sum(G)\n",
    "    return G"
   ]
  },
  {
   "cell_type": "code",
   "execution_count": 11,
   "id": "opponent-heaven",
   "metadata": {},
   "outputs": [
    {
     "data": {
      "text/plain": [
       "array([0.11170336, 0.23647602, 0.30364122, 0.23647602, 0.11170336])"
      ]
     },
     "execution_count": 11,
     "metadata": {},
     "output_type": "execute_result"
    }
   ],
   "source": [
    "gauss2D(2,2,5)"
   ]
  },
  {
   "cell_type": "code",
   "execution_count": null,
   "id": "ranking-pleasure",
   "metadata": {},
   "outputs": [],
   "source": []
  }
 ],
 "metadata": {
  "kernelspec": {
   "display_name": "Python 3",
   "language": "python",
   "name": "python3"
  },
  "language_info": {
   "codemirror_mode": {
    "name": "ipython",
    "version": 3
   },
   "file_extension": ".py",
   "mimetype": "text/x-python",
   "name": "python",
   "nbconvert_exporter": "python",
   "pygments_lexer": "ipython3",
   "version": "3.7.10"
  }
 },
 "nbformat": 4,
 "nbformat_minor": 5
}
