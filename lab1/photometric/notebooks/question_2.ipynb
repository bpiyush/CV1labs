{
 "cells": [
  {
   "cell_type": "code",
   "execution_count": null,
   "id": "b22e7b5a-1b14-48c5-8cfc-35124271edff",
   "metadata": {},
   "outputs": [],
   "source": [
    "import sys\n",
    "sys.path.append(\"../../\")"
   ]
  },
  {
   "cell_type": "code",
   "execution_count": null,
   "id": "528dcac9-e57e-4c00-94f3-9b609ec8eb42",
   "metadata": {
    "tags": []
   },
   "outputs": [],
   "source": [
    "from os.path import join, basename\n",
    "from glob import glob\n",
    "import numpy as np\n",
    "import cv2\n",
    "import matplotlib.pyplot as plt\n",
    "from typing import List, Any\n",
    "\n",
    "from photometric.check_integrability import check_integrability\n",
    "from photometric.estimate_alb_nrm import estimate_alb_nrm\n",
    "from photometric.utils import convert_polar_to_cartesian"
   ]
  },
  {
   "cell_type": "markdown",
   "id": "80feca17-5c4a-4c22-afef-6af25b94e543",
   "metadata": {},
   "source": [
    "**Part 1 and 2**"
   ]
  },
  {
   "cell_type": "code",
   "execution_count": null,
   "id": "5fa451ce-0470-4eae-91e5-d9cffbeb164b",
   "metadata": {},
   "outputs": [],
   "source": [
    "img_folder = \"../SphereGray5/\"\n",
    "img_paths = glob(join(img_folder, \"*.png\"))"
   ]
  },
  {
   "cell_type": "code",
   "execution_count": null,
   "id": "85440a82-a8d1-4566-9ed8-dea523ba9518",
   "metadata": {},
   "outputs": [],
   "source": [
    "# load images\n",
    "imgs = [cv2.imread(x, 0) / 255.0 for x in img_paths]\n",
    "\n",
    "# load ligh source directions (angles) from filenames\n",
    "angs = [basename(x).split(\".png\")[0].split(\"_\")[1:] for x in img_paths]\n",
    "angs = np.array(angs).astype(float)"
   ]
  },
  {
   "cell_type": "code",
   "execution_count": null,
   "id": "f6eb1f53-708a-4590-bf5e-162987d6f33c",
   "metadata": {},
   "outputs": [],
   "source": [
    "img_stack = np.moveaxis(np.array(imgs), 0, -1)\n",
    "scriptV = convert_polar_to_cartesian(angs[:, 0], angs[:, 1])"
   ]
  },
  {
   "cell_type": "code",
   "execution_count": null,
   "id": "94d52822-977e-413b-bdad-06bf206a76ee",
   "metadata": {},
   "outputs": [],
   "source": [
    "albedo, normal = estimate_alb_nrm(img_stack, scriptV, shadow_trick=True)"
   ]
  },
  {
   "cell_type": "code",
   "execution_count": null,
   "id": "e1ea69e3-a3d6-4cda-b2bf-ac1ad8bb127c",
   "metadata": {},
   "outputs": [],
   "source": [
    "p, q, SE = check_integrability(normal)"
   ]
  },
  {
   "cell_type": "code",
   "execution_count": null,
   "id": "b9cf3ca6-61c7-4eba-9e5e-389c3577fff9",
   "metadata": {},
   "outputs": [],
   "source": [
    "threshold = 0.005"
   ]
  },
  {
   "cell_type": "code",
   "execution_count": null,
   "id": "69f6a2a4-6205-4705-be1c-f986f322bdde",
   "metadata": {},
   "outputs": [],
   "source": [
    "np.sum(SE < threshold) / np.sum(albedo > 0)"
   ]
  },
  {
   "cell_type": "code",
   "execution_count": null,
   "id": "7fe44ec3-5a7b-4fc2-963c-b8325ea0eddc",
   "metadata": {},
   "outputs": [],
   "source": [
    "num_outliers = np.sum(SE > threshold)"
   ]
  },
  {
   "cell_type": "code",
   "execution_count": null,
   "id": "9d81d277-5a05-4a0f-9e76-b1dd2c96cbdd",
   "metadata": {},
   "outputs": [],
   "source": [
    "albedo[np.where(SE < threshold)].max()"
   ]
  },
  {
   "cell_type": "markdown",
   "id": "3296ca68-ef59-425b-a9b5-d121a279267d",
   "metadata": {},
   "source": [
    "Testing with varying number of images"
   ]
  },
  {
   "cell_type": "code",
   "execution_count": null,
   "id": "31575c4c-3aaf-4cc5-b7de-7a8e81392684",
   "metadata": {},
   "outputs": [],
   "source": [
    "img_folder = \"../SphereGray25/\"\n",
    "img_paths = glob(join(img_folder, \"*.png\"))\n",
    "\n",
    "# load images\n",
    "imgs = [cv2.imread(x, 0) / 255.0 for x in img_paths]\n",
    "\n",
    "# load ligh source directions (angles) from filenames\n",
    "angs = [basename(x).split(\".png\")[0].split(\"_\")[1:] for x in img_paths]\n",
    "angs = np.array(angs).astype(float)"
   ]
  },
  {
   "cell_type": "code",
   "execution_count": null,
   "id": "8b568d07-c95d-4acf-8d90-952b7adbfbf6",
   "metadata": {},
   "outputs": [],
   "source": [
    "num_imgs = [3, 5, 7, 9, 11, 13, 15, 17, 19, 21, 23, 25]\n",
    "fraction_violating_test = []\n",
    "num_outliers = []\n",
    "\n",
    "for n in num_imgs:\n",
    "    sub_imgs = imgs[:n]\n",
    "    sub_angs = angs[:n]\n",
    "    \n",
    "    img_stack = np.moveaxis(np.array(sub_imgs), 0, -1)\n",
    "    scriptV = convert_polar_to_cartesian(sub_angs[:, 0], sub_angs[:, 1])\n",
    "\n",
    "    albedo, normal = estimate_alb_nrm(img_stack, scriptV, shadow_trick=True)\n",
    "    \n",
    "    p, q, SE = check_integrability(normal)\n",
    "    \n",
    "    num_outliers.append(np.sum(SE > threshold))\n",
    "    fraction_violating_test.append(np.sum(SE < threshold) / np.sum(albedo > 0))"
   ]
  },
  {
   "cell_type": "code",
   "execution_count": null,
   "id": "a344a8e9-20c4-405f-8126-fb53e77620f5",
   "metadata": {},
   "outputs": [],
   "source": [
    "fig, ax = plt.subplots(1, 1, figsize=(8, 6))\n",
    "\n",
    "ax.set_title(\"Integrability test with varying $n$\")\n",
    "ax.set_xlabel(\"Number of images $n$\")\n",
    "# ax.set_ylabel(\"Fraction of pixels where $SE >= \\lambda (0.001)$\")\n",
    "ax.set_ylabel(\"Number of outliers\")\n",
    "\n",
    "# ax.plot(num_imgs, fraction_violating_test, 'o--')\n",
    "ax.plot(num_imgs, num_outliers, 'o--')\n",
    "ax.grid()\n",
    "\n",
    "plt.show()"
   ]
  },
  {
   "cell_type": "code",
   "execution_count": null,
   "id": "002a5cc3-7db3-47c0-a8fd-57dd1c3560c9",
   "metadata": {},
   "outputs": [],
   "source": []
  }
 ],
 "metadata": {
  "kernelspec": {
   "display_name": "Python 3 (ipykernel)",
   "language": "python",
   "name": "python3"
  },
  "language_info": {
   "codemirror_mode": {
    "name": "ipython",
    "version": 3
   },
   "file_extension": ".py",
   "mimetype": "text/x-python",
   "name": "python",
   "nbconvert_exporter": "python",
   "pygments_lexer": "ipython3",
   "version": "3.9.7"
  }
 },
 "nbformat": 4,
 "nbformat_minor": 5
}
