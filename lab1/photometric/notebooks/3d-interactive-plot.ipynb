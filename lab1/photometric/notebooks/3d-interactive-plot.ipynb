{
 "cells": [
  {
   "cell_type": "markdown",
   "id": "fd5522a8-8a2b-4097-a1e2-b7ec6067c130",
   "metadata": {},
   "source": [
    "**Steps for making 3D plots work in notebooks**\n",
    "\n",
    "```bash\n",
    "pip install ipywidgets\n",
    "conda install -y nodejs\n",
    "pip install --upgrade jupyterlab\n",
    "jupyter labextension install @jupyter-widgets/jupyterlab-manager\n",
    "jupyter labextension install jupyter-matplotlib\n",
    "jupyter nbextension enable --py widgetsnbextension\n",
    "```"
   ]
  },
  {
   "cell_type": "code",
   "execution_count": null,
   "id": "4f723574-1d7e-4f25-a67e-53a709beceae",
   "metadata": {},
   "outputs": [],
   "source": [
    "from mpl_toolkits.mplot3d import Axes3D\n",
    "import matplotlib.pyplot as plt"
   ]
  },
  {
   "cell_type": "code",
   "execution_count": null,
   "id": "5841355b-1d77-42e7-85b6-88c786845eac",
   "metadata": {},
   "outputs": [],
   "source": [
    "# for creating a responsive plot\n",
    "%matplotlib widget"
   ]
  },
  {
   "cell_type": "code",
   "execution_count": null,
   "id": "cfc99856-c857-4385-aaed-01c217184f62",
   "metadata": {},
   "outputs": [],
   "source": [
    "# creating random dataset\n",
    "xs = [14, 24, 43, 47, 54, 66, 74, 89, 12,\n",
    "      44, 1, 2, 3, 4, 5, 9, 8, 7, 6, 5]\n",
    "\n",
    "ys = [0, 1, 2, 3, 4, 5, 6, 7, 8, 9, 6, 3,\n",
    "      5, 2, 4, 1, 8, 7, 0, 5]\n",
    "\n",
    "zs = [9, 6, 3, 5, 2, 4, 1, 8, 7, 0, 1, 2, \n",
    "      3, 4, 5, 6, 7, 8, 9, 0]\n",
    "\n",
    "# creating figure\n",
    "fig = plt.figure()\n",
    "ax = Axes3D(fig, auto_add_to_figure=False)\n",
    "fig.add_axes(ax)\n",
    "\n",
    "# creating the plot\n",
    "plot_geeks = ax.scatter(xs, ys, zs, color='green')\n",
    "\n",
    "# setting title and labels\n",
    "ax.set_title(\"3D plot\")\n",
    "ax.set_xlabel('x-axis')\n",
    "ax.set_ylabel('y-axis')\n",
    "ax.set_zlabel('z-axis')\n",
    "\n",
    "# displaying the plot\n",
    "plt.show()\n"
   ]
  },
  {
   "cell_type": "code",
   "execution_count": null,
   "id": "74e8ed23-4f7f-4531-be22-0be9c4f78343",
   "metadata": {},
   "outputs": [],
   "source": []
  }
 ],
 "metadata": {
  "kernelspec": {
   "display_name": "Python 3 (ipykernel)",
   "language": "python",
   "name": "python3"
  },
  "language_info": {
   "codemirror_mode": {
    "name": "ipython",
    "version": 3
   },
   "file_extension": ".py",
   "mimetype": "text/x-python",
   "name": "python",
   "nbconvert_exporter": "python",
   "pygments_lexer": "ipython3",
   "version": "3.9.7"
  }
 },
 "nbformat": 4,
 "nbformat_minor": 5
}
