{
 "cells": [
  {
   "cell_type": "code",
   "execution_count": null,
   "id": "bf6ce742-172c-45d6-a3ae-f6f38164f6fe",
   "metadata": {},
   "outputs": [],
   "source": [
    "%load_ext autoreload\n",
    "%autoreload 2"
   ]
  },
  {
   "cell_type": "code",
   "execution_count": null,
   "id": "7f4d0868-84a8-4e42-825d-f63471121fff",
   "metadata": {},
   "outputs": [],
   "source": [
    "import sys\n",
    "sys.path.append(\"../../\")\n",
    "sys.path.append(\"../\")"
   ]
  },
  {
   "cell_type": "code",
   "execution_count": null,
   "id": "913b0f4a-5e67-4525-af5a-6d67c31c4c41",
   "metadata": {},
   "outputs": [],
   "source": [
    "from os.path import join, basename\n",
    "from glob import glob\n",
    "import numpy as np\n",
    "import cv2\n",
    "import matplotlib.pyplot as plt\n",
    "from typing import List, Any\n",
    "\n",
    "from utils import *\n",
    "from estimate_alb_nrm import estimate_alb_nrm\n",
    "from check_integrability import check_integrability\n",
    "from construct_surface import construct_surface\n",
    "\n",
    "# from photometric.photometric_stereo import photometric_stereo"
   ]
  },
  {
   "cell_type": "code",
   "execution_count": null,
   "id": "7cf0bba7-6b23-4a65-b2bd-5eced41d7dfc",
   "metadata": {},
   "outputs": [],
   "source": [
    "def photometric_stereo(image_dir='./SphereGray5/', path_type=\"column\"):\n",
    "\n",
    "    # obtain many images in a fixed view under different illumination\n",
    "    print('Loading images...\\n')\n",
    "    [image_stack, scriptV] = load_syn_images(image_dir)\n",
    "    [h, w, n] = image_stack.shape\n",
    "    print('Finish loading %d images.\\n' % n)\n",
    "\n",
    "    # compute the surface gradient from the stack of imgs and light source mat\n",
    "    print('Computing surface albedo and normal map...\\n')\n",
    "    [albedo, normals] = estimate_alb_nrm(image_stack, scriptV)\n",
    "\n",
    "\n",
    "    # integrability check: is (dp / dy  -  dq / dx) ^ 2 small everywhere?\n",
    "    print('Integrability checking\\n')\n",
    "    [p, q, SE] = check_integrability(normals)\n",
    "\n",
    "    threshold = 0.005;\n",
    "    print('Number of outliers: %d\\n' % np.sum(SE > threshold))\n",
    "    SE[SE <= threshold] = float('nan') # for good visualization\n",
    "\n",
    "    # compute the surface height\n",
    "    height_map = construct_surface( p, q, path_type=path_type)\n",
    "\n",
    "    # show results\n",
    "    show_results(albedo, normals, height_map, SE)"
   ]
  },
  {
   "cell_type": "code",
   "execution_count": null,
   "id": "a6b8649d-1c17-44a0-9476-b4a2ca782065",
   "metadata": {},
   "outputs": [],
   "source": [
    "photometric_stereo(image_dir='../SphereGray5/', path_type=\"column\")"
   ]
  },
  {
   "cell_type": "code",
   "execution_count": null,
   "id": "c577e50d-83e1-48f5-97f1-e3b6f82d9bcb",
   "metadata": {},
   "outputs": [],
   "source": [
    "photometric_stereo(image_dir='../SphereGray5/', path_type=\"row\")"
   ]
  },
  {
   "cell_type": "code",
   "execution_count": null,
   "id": "89b36383-678a-42f7-ac52-874ad0b885a3",
   "metadata": {},
   "outputs": [],
   "source": [
    "photometric_stereo(image_dir='../SphereGray5/', path_type=\"average\")"
   ]
  },
  {
   "cell_type": "code",
   "execution_count": null,
   "id": "7bc27f50-d76c-4aff-81cf-14d43807b4e0",
   "metadata": {},
   "outputs": [],
   "source": []
  }
 ],
 "metadata": {
  "kernelspec": {
   "display_name": "Python 3 (ipykernel)",
   "language": "python",
   "name": "python3"
  },
  "language_info": {
   "codemirror_mode": {
    "name": "ipython",
    "version": 3
   },
   "file_extension": ".py",
   "mimetype": "text/x-python",
   "name": "python",
   "nbconvert_exporter": "python",
   "pygments_lexer": "ipython3",
   "version": "3.9.7"
  }
 },
 "nbformat": 4,
 "nbformat_minor": 5
}
