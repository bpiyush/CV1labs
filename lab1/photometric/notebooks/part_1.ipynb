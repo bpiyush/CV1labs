{
 "cells": [
  {
   "cell_type": "code",
   "execution_count": null,
   "id": "bf6ce742-172c-45d6-a3ae-f6f38164f6fe",
   "metadata": {},
   "outputs": [],
   "source": [
    "%load_ext autoreload\n",
    "%autoreload 2"
   ]
  },
  {
   "cell_type": "code",
   "execution_count": null,
   "id": "7f4d0868-84a8-4e42-825d-f63471121fff",
   "metadata": {},
   "outputs": [],
   "source": [
    "import sys\n",
    "sys.path.append(\"../../\")\n",
    "sys.path.append(\"../\")"
   ]
  },
  {
   "cell_type": "code",
   "execution_count": null,
   "id": "913b0f4a-5e67-4525-af5a-6d67c31c4c41",
   "metadata": {},
   "outputs": [],
   "source": [
    "from os.path import join, basename\n",
    "from glob import glob\n",
    "import numpy as np\n",
    "import cv2\n",
    "import matplotlib.pyplot as plt\n",
    "from typing import List, Any\n",
    "\n",
    "from photometric.photometric_stereo import photometric_stereo"
   ]
  },
  {
   "cell_type": "code",
   "execution_count": null,
   "id": "a6b8649d-1c17-44a0-9476-b4a2ca782065",
   "metadata": {},
   "outputs": [],
   "source": [
    "photometric_stereo(image_dir='../SphereGray5/')"
   ]
  },
  {
   "cell_type": "code",
   "execution_count": null,
   "id": "c577e50d-83e1-48f5-97f1-e3b6f82d9bcb",
   "metadata": {},
   "outputs": [],
   "source": []
  }
 ],
 "metadata": {
  "kernelspec": {
   "display_name": "Python 3 (ipykernel)",
   "language": "python",
   "name": "python3"
  },
  "language_info": {
   "codemirror_mode": {
    "name": "ipython",
    "version": 3
   },
   "file_extension": ".py",
   "mimetype": "text/x-python",
   "name": "python",
   "nbconvert_exporter": "python",
   "pygments_lexer": "ipython3",
   "version": "3.9.7"
  }
 },
 "nbformat": 4,
 "nbformat_minor": 5
}
