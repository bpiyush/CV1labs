{
 "cells": [
  {
   "cell_type": "code",
   "execution_count": null,
   "id": "21e5c7d8-1559-4a53-b0fb-8bef74503b64",
   "metadata": {},
   "outputs": [],
   "source": [
    "import sys\n",
    "sys.path.append(\"../../\")"
   ]
  },
  {
   "cell_type": "code",
   "execution_count": null,
   "id": "011e8ed8-c2c8-4bdd-95f5-5eaf119c4d20",
   "metadata": {
    "tags": []
   },
   "outputs": [],
   "source": [
    "from os.path import join, basename\n",
    "from glob import glob\n",
    "import numpy as np\n",
    "import cv2\n",
    "import matplotlib.pyplot as plt\n",
    "from typing import List, Any\n",
    "\n",
    "from photometric.estimate_alb_nrm import estimate_alb_nrm"
   ]
  },
  {
   "cell_type": "markdown",
   "id": "1a1313b1-dc2b-4b1e-82e0-483b4ec03c67",
   "metadata": {},
   "source": [
    "### Utility functions"
   ]
  },
  {
   "cell_type": "code",
   "execution_count": null,
   "id": "0f463d72-6b0d-4e57-820d-2705a2a40619",
   "metadata": {},
   "outputs": [],
   "source": [
    "def show_single_image(img: np.ndarray, figsize=(8, 8), ax=None, show=True, grayscale=False):\n",
    "    \"\"\"Displays a single image.\"\"\"\n",
    "    if ax is None:\n",
    "        fig, ax = plt.subplots(1, 1, figsize=figsize)\n",
    "    \n",
    "    args = {\"X\": img}\n",
    "    if grayscale:\n",
    "        args[\"cmap\"] = \"gray\"\n",
    "\n",
    "    ax.imshow(**args)\n",
    "    \n",
    "    if show:\n",
    "        plt.show()"
   ]
  },
  {
   "cell_type": "code",
   "execution_count": null,
   "id": "c09dda89-8567-43d3-bb6a-abc42d51a927",
   "metadata": {},
   "outputs": [],
   "source": [
    "def show_multiple_images(\n",
    "        imgs: List[np.ndarray], grid: tuple = None, figsize=(8, 8), ax=None, grayscale=False, show=False\n",
    "    ):\n",
    "    \"\"\"Displays a set of images based on given grid pattern.\"\"\"\n",
    "    assert isinstance(imgs, list)\n",
    "    assert isinstance(grid, tuple) and len(grid) == 2\n",
    "\n",
    "    num_imgs = len(imgs)\n",
    "    if grid is None:\n",
    "        grid = (1, num_imgs)\n",
    "\n",
    "    if ax is None:\n",
    "        fig, ax = plt.subplots(1, 1, figsize=figsize)\n",
    "    \n",
    "    grid_imgs = [[None for _ in range(grid[1])] for _ in range(grid[0])]\n",
    "    for i in range(grid[0]):\n",
    "        for j in range(grid[1]):\n",
    "            grid_imgs[i][j] = imgs[i * j + j]\n",
    "\n",
    "    disp_imgs = []\n",
    "    for i in range(grid[0]):\n",
    "        disp_imgs.append(np.hstack(grid_imgs[i]))\n",
    "    disp_imgs = np.vstack(disp_imgs)\n",
    "    \n",
    "    args = {\"X\": disp_imgs}\n",
    "    if grayscale:\n",
    "        args[\"cmap\"] = \"gray\"\n",
    "\n",
    "    ax.imshow(**args)\n",
    "\n",
    "    if show:\n",
    "        plt.show()"
   ]
  },
  {
   "cell_type": "code",
   "execution_count": null,
   "id": "853441dd-057c-4df1-9be3-f7aad9479834",
   "metadata": {},
   "outputs": [],
   "source": [
    "def convert_polar_to_cartesian(theta: np.ndarray, phi: np.ndarray, convert_to_rad=False):\n",
    "    \"\"\"Converts (theta, phi) in polar coordinates to cartesian coordinates\"\"\"\n",
    "    # convert in radians\n",
    "    if convert_to_rad:\n",
    "        theta = (np.pi * theta) / 180.0\n",
    "        phi = (np.pi * phi) / 180.0\n",
    "\n",
    "    # compute x, y, z\n",
    "    z = np.cos(theta)\n",
    "    x = np.sin(theta) * np.cos(phi)\n",
    "    y = np.sin(theta) * np.sin(phi)\n",
    "\n",
    "    return np.array([x, y, z]).T"
   ]
  },
  {
   "cell_type": "markdown",
   "id": "b7731bbe-3507-4f9e-8803-c9250a063e88",
   "metadata": {},
   "source": [
    "### Question 1"
   ]
  },
  {
   "cell_type": "markdown",
   "id": "093b1fe9-b7cb-4ce2-8f2a-2c8393c358f0",
   "metadata": {},
   "source": [
    "**Part 1**"
   ]
  },
  {
   "cell_type": "code",
   "execution_count": null,
   "id": "40bc5b54-54b2-44d2-bc19-1cf299916edf",
   "metadata": {},
   "outputs": [],
   "source": [
    "img_folder = \"../SphereGray5/\"\n",
    "img_paths = glob(join(img_folder, \"*.png\"))"
   ]
  },
  {
   "cell_type": "code",
   "execution_count": null,
   "id": "a480f440-7e0c-4655-a698-3b2a67c288f4",
   "metadata": {},
   "outputs": [],
   "source": [
    "# load images\n",
    "imgs = [cv2.imread(x, 0) / 255.0 for x in img_paths]\n",
    "\n",
    "# load ligh source directions (angles) from filenames\n",
    "angs = [basename(x).split(\".png\")[0].split(\"_\")[1:] for x in img_paths]\n",
    "angs = np.array(angs).astype(float)"
   ]
  },
  {
   "cell_type": "code",
   "execution_count": null,
   "id": "c5342a03-9142-4bd3-99d6-db615e9088a2",
   "metadata": {},
   "outputs": [],
   "source": [
    "show_single_image(imgs[0], figsize=(4, 4), grayscale=True)"
   ]
  },
  {
   "cell_type": "code",
   "execution_count": null,
   "id": "132af82b-6684-426d-98e8-af759eb73de6",
   "metadata": {},
   "outputs": [],
   "source": [
    "show_multiple_images(imgs, grid=(1, 5), grayscale=True, figsize=(16, 6))"
   ]
  },
  {
   "cell_type": "code",
   "execution_count": null,
   "id": "97628923-085c-4b4e-89d1-a1206ce5e0a0",
   "metadata": {},
   "outputs": [],
   "source": [
    "img_stack = np.moveaxis(np.array(imgs), 0, -1)"
   ]
  },
  {
   "cell_type": "code",
   "execution_count": null,
   "id": "23fc7aac-9fff-4bdd-bad0-d0d9161fca6d",
   "metadata": {},
   "outputs": [],
   "source": [
    "img_stack.shape"
   ]
  },
  {
   "cell_type": "code",
   "execution_count": null,
   "id": "8bb77dcc-f4ae-47a5-8a6c-0582d6c829a7",
   "metadata": {},
   "outputs": [],
   "source": [
    "show_single_image(img_stack[:, :, 0], figsize=(4, 4), grayscale=True)"
   ]
  },
  {
   "cell_type": "code",
   "execution_count": null,
   "id": "61c5c129-7334-4567-bb78-719099386870",
   "metadata": {},
   "outputs": [],
   "source": [
    "scriptV = convert_polar_to_cartesian(angs[:, 0], angs[:, 1])"
   ]
  },
  {
   "cell_type": "code",
   "execution_count": null,
   "id": "cc4da9b5-9b47-4ed3-a4fa-a3dd12188e0f",
   "metadata": {},
   "outputs": [],
   "source": [
    "scriptV.shape"
   ]
  },
  {
   "cell_type": "code",
   "execution_count": null,
   "id": "56ccd41a-a497-4241-b60a-53bddf53e4cf",
   "metadata": {},
   "outputs": [],
   "source": [
    "albedo, normal = estimate_alb_nrm(img_stack, scriptV, shadow_trick=False)"
   ]
  },
  {
   "cell_type": "code",
   "execution_count": null,
   "id": "e55e5fad-d7da-4b69-b038-b928ad66f3a4",
   "metadata": {},
   "outputs": [],
   "source": [
    "show_single_image(albedo, grayscale=True)"
   ]
  },
  {
   "cell_type": "code",
   "execution_count": null,
   "id": "4d1091e0-529c-410f-86c4-0cd4f2a7da9c",
   "metadata": {},
   "outputs": [],
   "source": [
    "albedo.min(), albedo.max(), normal.min(), normal.max()"
   ]
  },
  {
   "cell_type": "code",
   "execution_count": null,
   "id": "c9559811-6497-4e6f-9d34-2a78b646949f",
   "metadata": {},
   "outputs": [],
   "source": [
    "albedo, normal = estimate_alb_nrm(img_stack, scriptV, shadow_trick=True)"
   ]
  },
  {
   "cell_type": "code",
   "execution_count": null,
   "id": "6cf24326-7f04-4e52-b344-d925f7579ed2",
   "metadata": {},
   "outputs": [],
   "source": [
    "show_single_image(albedo, grayscale=True)"
   ]
  },
  {
   "cell_type": "code",
   "execution_count": null,
   "id": "4ad9cba3-fc1b-4b4d-ae4a-444e58ea725e",
   "metadata": {},
   "outputs": [],
   "source": [
    "albedo.min(), albedo.max(), normal.min(), normal.max()"
   ]
  },
  {
   "cell_type": "markdown",
   "id": "94610874-502d-4309-adcf-c30d8d7d2f13",
   "metadata": {},
   "source": [
    "**Part 2**"
   ]
  },
  {
   "cell_type": "markdown",
   "id": "c47a5f3e-d7af-4e10-ab9c-fecf1d1e6b69",
   "metadata": {},
   "source": [
    "Q. In principle, what is the minimum number of images you need to esti-mate albedo and surface normal?\n",
    "\n",
    "Ans: Since we are solving for $\\mathbf{g}(x, y) \\in \\mathbb{R}^{3}$, i.e. 3 variables, we need at least 3 images to get to a solution. Also, for $n \\geq 3$ too, we need linearly independent system of linear equation to get a solution."
   ]
  },
  {
   "cell_type": "code",
   "execution_count": null,
   "id": "379ba6aa-4c89-40ee-a3bf-b075e8bad909",
   "metadata": {},
   "outputs": [],
   "source": [
    "img_folder = \"../SphereGray25/\"\n",
    "img_paths = glob(join(img_folder, \"*.png\"))"
   ]
  },
  {
   "cell_type": "code",
   "execution_count": null,
   "id": "b29c2eb3-36fa-46b5-beca-3091d4ca9d70",
   "metadata": {},
   "outputs": [],
   "source": [
    "# load images\n",
    "imgs = [cv2.imread(x, 0) / 255.0 for x in img_paths]\n",
    "\n",
    "# load ligh source directions (angles) from filenames\n",
    "angs = [basename(x).split(\".png\")[0].split(\"_\")[1:] for x in img_paths]\n",
    "angs = np.array(angs).astype(float)"
   ]
  },
  {
   "cell_type": "code",
   "execution_count": null,
   "id": "f4a7c36a-cb02-4674-881f-ff8ca857bd20",
   "metadata": {},
   "outputs": [],
   "source": [
    "show_multiple_images(imgs, grid=(5, 5), grayscale=True, figsize=(10, 10))"
   ]
  },
  {
   "cell_type": "code",
   "execution_count": null,
   "id": "e1649785-8174-40fa-ab9e-50651617512b",
   "metadata": {},
   "outputs": [],
   "source": [
    "img_stack = np.moveaxis(np.array(imgs), 0, -1)"
   ]
  },
  {
   "cell_type": "code",
   "execution_count": null,
   "id": "b87172a7-20ea-4353-a74e-69769c813314",
   "metadata": {},
   "outputs": [],
   "source": [
    "scriptV = convert_polar_to_cartesian(angs[:, 0], angs[:, 1])"
   ]
  },
  {
   "cell_type": "code",
   "execution_count": null,
   "id": "714f6c2c-d0d6-4391-a5ee-1d0089bdd32e",
   "metadata": {},
   "outputs": [],
   "source": [
    "albedo, normal = estimate_alb_nrm(img_stack, scriptV, shadow_trick=True)"
   ]
  },
  {
   "cell_type": "code",
   "execution_count": null,
   "id": "baba1949-2981-40d0-8af7-5c1c97d54255",
   "metadata": {},
   "outputs": [],
   "source": [
    "show_single_image(albedo, grayscale=True)"
   ]
  },
  {
   "cell_type": "code",
   "execution_count": null,
   "id": "4b75dcb3-27e7-4b4e-9f1c-55feb1c19752",
   "metadata": {},
   "outputs": [],
   "source": [
    "albedo.min(), albedo.max(), normal.min(), normal.max()"
   ]
  },
  {
   "cell_type": "code",
   "execution_count": null,
   "id": "85a86a46-c4a9-4c1f-84be-96db6e6edf57",
   "metadata": {},
   "outputs": [],
   "source": [
    "num_imgs = [3, 6, 12, 18, 25]\n",
    "\n",
    "for n in num_imgs:\n",
    "    sub_imgs = imgs[:n]\n",
    "    sub_angs = angs[:n]\n",
    "    \n",
    "    img_stack = np.moveaxis(np.array(sub_imgs), 0, -1)\n",
    "    scriptV = convert_polar_to_cartesian(sub_angs[:, 0], sub_angs[:, 1])\n",
    "\n",
    "    albedo, normal = estimate_alb_nrm(img_stack, scriptV, shadow_trick=True)\n",
    "    \n",
    "    print(f\"========= N = {n} ===========\")\n",
    "    show_single_image(albedo, grayscale=True)"
   ]
  },
  {
   "cell_type": "code",
   "execution_count": null,
   "id": "1f4f764d-c3bd-434f-b6d3-5031f4295acb",
   "metadata": {},
   "outputs": [],
   "source": []
  }
 ],
 "metadata": {
  "kernelspec": {
   "display_name": "Python 3 (ipykernel)",
   "language": "python",
   "name": "python3"
  },
  "language_info": {
   "codemirror_mode": {
    "name": "ipython",
    "version": 3
   },
   "file_extension": ".py",
   "mimetype": "text/x-python",
   "name": "python",
   "nbconvert_exporter": "python",
   "pygments_lexer": "ipython3",
   "version": "3.9.7"
  }
 },
 "nbformat": 4,
 "nbformat_minor": 5
}
