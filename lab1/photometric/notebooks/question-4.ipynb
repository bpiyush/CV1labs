{
 "cells": [
  {
   "cell_type": "code",
   "execution_count": null,
   "id": "cb038a02-9bdf-458a-8e9a-ce9f0b85ab12",
   "metadata": {},
   "outputs": [],
   "source": [
    "%load_ext autoreload\n",
    "%autoreload 2"
   ]
  },
  {
   "cell_type": "code",
   "execution_count": null,
   "id": "b80d2c71-b339-47c6-9f18-f498b6a959fc",
   "metadata": {},
   "outputs": [],
   "source": [
    "import sys\n",
    "sys.path.append(\"../../\")\n",
    "sys.path.append(\"../\")"
   ]
  },
  {
   "cell_type": "code",
   "execution_count": null,
   "id": "321abdfe-cac1-415c-9fa2-9e23fa9d1a07",
   "metadata": {},
   "outputs": [],
   "source": [
    "import os\n",
    "from os.path import join, basename\n",
    "from glob import glob\n",
    "import numpy as np\n",
    "import cv2\n",
    "import matplotlib.pyplot as plt\n",
    "from typing import List, Any\n",
    "from matplotlib import cm\n",
    "\n",
    "from utils import load_syn_images, show_single_image, show_multiple_images\n",
    "from photometric.estimate_alb_nrm import estimate_alb_nrm\n",
    "from photometric.check_integrability import check_integrability\n",
    "from photometric.photometric_stereo import photometric_stereo"
   ]
  },
  {
   "cell_type": "markdown",
   "id": "7ed42c88-3096-443f-a33d-16d39427adc6",
   "metadata": {},
   "source": [
    "### Monkey gray"
   ]
  },
  {
   "cell_type": "code",
   "execution_count": null,
   "id": "bb271dd8-5785-455c-9579-083753621db8",
   "metadata": {},
   "outputs": [],
   "source": [
    "albedo, normals, height_map, SE = photometric_stereo(\n",
    "    '../MonkeyGray/', shadow_trick=True, show=False, return_cache=True\n",
    ")"
   ]
  },
  {
   "cell_type": "code",
   "execution_count": null,
   "id": "769f5d5b-c382-4c1a-961d-fede6ad88827",
   "metadata": {},
   "outputs": [],
   "source": [
    "albedo.shape, normals.shape"
   ]
  },
  {
   "cell_type": "code",
   "execution_count": null,
   "id": "2e449aae-3a47-496c-a8cc-254692d1e4f9",
   "metadata": {},
   "outputs": [],
   "source": [
    "show_single_image(\n",
    "    albedo, grayscale=True, xticks=False, yticks=False,\n",
    "    save=True, path=\"../results/MonkeyGray_albedo.png\", figsize=(5, 5)\n",
    ")"
   ]
  },
  {
   "cell_type": "code",
   "execution_count": null,
   "id": "d91307a7-497b-4de4-8195-f0f845e59bb0",
   "metadata": {},
   "outputs": [],
   "source": [
    "show_multiple_images(\n",
    "    [normals[:, :, 0], normals[:, :, 1], normals[:, :, 2]], grid=(1, 3), grayscale=False,\n",
    "    xticks=False, yticks=False, save=True, path=\"../results/MonkeyGray_normals.png\", figsize=(12, 4)\n",
    ")"
   ]
  },
  {
   "cell_type": "markdown",
   "id": "c7d121af-ade3-410c-81a4-00f846036489",
   "metadata": {},
   "source": [
    "#### Expt with varying $n$"
   ]
  },
  {
   "cell_type": "code",
   "execution_count": null,
   "id": "708807ad-bf9e-4c87-96cf-1f3805a38323",
   "metadata": {},
   "outputs": [],
   "source": [
    "all_images = os.listdir('../MonkeyGray/')"
   ]
  },
  {
   "cell_type": "code",
   "execution_count": null,
   "id": "475799dd-5129-41ed-a333-68d20d19b81d",
   "metadata": {},
   "outputs": [],
   "source": [
    "num_images = [3, 5, 10, 20, 40, 80, 100, len(all_images)]"
   ]
  },
  {
   "cell_type": "code",
   "execution_count": null,
   "id": "81a11c6f-7591-4f6e-8416-deae5763e54c",
   "metadata": {},
   "outputs": [],
   "source": [
    "num_images"
   ]
  },
  {
   "cell_type": "code",
   "execution_count": null,
   "id": "2974e7f3-45ae-41a8-9f6b-c1317761d7cd",
   "metadata": {},
   "outputs": [],
   "source": [
    "threshold = 0.005"
   ]
  },
  {
   "cell_type": "code",
   "execution_count": null,
   "id": "8caa0f8f-03e4-4ac5-ad61-b61cdce72312",
   "metadata": {
    "tags": []
   },
   "outputs": [],
   "source": [
    "albedos = []\n",
    "outliers = []\n",
    "\n",
    "for n in num_images:\n",
    "    files = all_images[:n]\n",
    "\n",
    "    albedo, normals, height_map, SE = photometric_stereo(\n",
    "        image_dir=\"../MonkeyGray/\", files=files, shadow_trick=True, show=True, return_cache=True\n",
    "    )\n",
    "    albedos.append(albedo)\n",
    "    outliers.append(np.sum(SE > threshold))"
   ]
  },
  {
   "cell_type": "code",
   "execution_count": null,
   "id": "efca2acf-e635-4762-a218-44fe40ccdf06",
   "metadata": {},
   "outputs": [],
   "source": [
    "len(albedos), albedos[0].shape"
   ]
  },
  {
   "cell_type": "code",
   "execution_count": null,
   "id": "294995b3-72be-4e0f-b196-f397f660d55f",
   "metadata": {},
   "outputs": [],
   "source": [
    "(albedos[0] == albedos[-1]).all()"
   ]
  },
  {
   "cell_type": "code",
   "execution_count": null,
   "id": "1bf160bd-bd12-467e-b426-52aa81fe2571",
   "metadata": {},
   "outputs": [],
   "source": [
    "show_multiple_images(\n",
    "    albedos, grid=(1, len(num_images)), grayscale=True, figsize=(20, 4),\n",
    "    xticks=False, yticks=False, save=False, path=\"../results/MonkeyGray_n_normals.png\",\n",
    ")"
   ]
  },
  {
   "cell_type": "code",
   "execution_count": null,
   "id": "4d97d0d1-4a86-4203-8278-3ed91f70c794",
   "metadata": {},
   "outputs": [],
   "source": [
    "fig, ax = plt.subplots(1, len(num_images), figsize=(20, 7))\n",
    "\n",
    "for i, x in enumerate(albedos):\n",
    "    ax[i].imshow(x, cmap=\"gray\")\n",
    "    ax[i].set_title(f\"$n = {num_images[i]}$\")\n",
    "    ax[i].set_xticks([])\n",
    "    ax[i].set_yticks([])\n",
    "\n",
    "plt.savefig(\"../results/MonkeyGray_n_albedos.png\", bbox_inches=\"tight\")\n",
    "plt.show()"
   ]
  },
  {
   "cell_type": "code",
   "execution_count": null,
   "id": "18243b14-8e40-4b43-8cd7-77bf18ca9f95",
   "metadata": {},
   "outputs": [],
   "source": [
    "fig, ax = plt.subplots(1, 1, figsize=(10, 5))\n",
    "\n",
    "ax.set_title(\"Number of outliers with varying $n$ for MonkeyGray\")\n",
    "ax.set_xlabel(\"Number of images $n$\")\n",
    "ax.set_ylabel(\"Number of outliers (SE$(x, y)$ > threshold = 0.005)\")\n",
    "\n",
    "ax.plot(num_images, outliers, 'o--')\n",
    "ax.set_xticks(num_images)\n",
    "ax.grid()\n",
    "\n",
    "plt.savefig(\"../results/MonkeyGray_outliers.png\", bbox_inches=\"tight\")\n",
    "plt.show()"
   ]
  },
  {
   "cell_type": "code",
   "execution_count": null,
   "id": "e19582c0-a85f-4429-a45e-44023040fa67",
   "metadata": {},
   "outputs": [],
   "source": []
  }
 ],
 "metadata": {
  "kernelspec": {
   "display_name": "Python 3 (ipykernel)",
   "language": "python",
   "name": "python3"
  },
  "language_info": {
   "codemirror_mode": {
    "name": "ipython",
    "version": 3
   },
   "file_extension": ".py",
   "mimetype": "text/x-python",
   "name": "python",
   "nbconvert_exporter": "python",
   "pygments_lexer": "ipython3",
   "version": "3.9.7"
  }
 },
 "nbformat": 4,
 "nbformat_minor": 5
}
