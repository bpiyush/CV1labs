{
 "cells": [
  {
   "cell_type": "code",
   "execution_count": null,
   "id": "a689b8cc-c127-42b2-998a-fcdbd85e1003",
   "metadata": {},
   "outputs": [],
   "source": [
    "import sys\n",
    "sys.path.append(\"../../\")"
   ]
  },
  {
   "cell_type": "code",
   "execution_count": null,
   "id": "9e00314c-99a7-45d8-99d1-995e3924774a",
   "metadata": {
    "tags": []
   },
   "outputs": [],
   "source": [
    "from os.path import join, basename\n",
    "from glob import glob\n",
    "import numpy as np\n",
    "import cv2\n",
    "import matplotlib.pyplot as plt\n",
    "from typing import List, Any\n",
    "\n",
    "from photometric.check_integrability import check_integrability\n",
    "from photometric.estimate_alb_nrm import estimate_alb_nrm\n",
    "from photometric.utils import convert_polar_to_cartesian, show_results\n",
    "from photometric.construct_surface import construct_surface"
   ]
  },
  {
   "cell_type": "markdown",
   "id": "0c4d5a03-0d1d-4515-95df-63bd237f8300",
   "metadata": {},
   "source": [
    "**Part 1 and 2**"
   ]
  },
  {
   "cell_type": "code",
   "execution_count": null,
   "id": "2abbf0da-03a6-46bd-946d-5b0d819dbbd8",
   "metadata": {},
   "outputs": [],
   "source": [
    "img_folder = \"../SphereGray25/\"\n",
    "img_paths = glob(join(img_folder, \"*.png\"))"
   ]
  },
  {
   "cell_type": "code",
   "execution_count": null,
   "id": "40f1ea44-6503-4080-a90a-9377dfb4c9be",
   "metadata": {},
   "outputs": [],
   "source": [
    "# load images\n",
    "imgs = [cv2.imread(x, 0) / 255.0 for x in img_paths]\n",
    "\n",
    "# load ligh source directions (angles) from filenames\n",
    "angs = [basename(x).split(\".png\")[0].split(\"_\")[1:] for x in img_paths]\n",
    "angs = np.array(angs).astype(float)"
   ]
  },
  {
   "cell_type": "code",
   "execution_count": null,
   "id": "3b5a8b70-d42f-42ba-9039-14bbd49247bb",
   "metadata": {},
   "outputs": [],
   "source": [
    "img_stack = np.moveaxis(np.array(imgs), 0, -1)\n",
    "scriptV = convert_polar_to_cartesian(angs[:, 0], angs[:, 1])"
   ]
  },
  {
   "cell_type": "code",
   "execution_count": null,
   "id": "ec0d6975-8830-4978-9682-5bca90b79256",
   "metadata": {},
   "outputs": [],
   "source": [
    "albedo, normal = estimate_alb_nrm(img_stack, scriptV, shadow_trick=True)"
   ]
  },
  {
   "cell_type": "code",
   "execution_count": null,
   "id": "b12a6ab3-44d9-441a-ac8e-ea76423e1d87",
   "metadata": {},
   "outputs": [],
   "source": [
    "p, q, SE = check_integrability(normal)"
   ]
  },
  {
   "cell_type": "code",
   "execution_count": null,
   "id": "ae55ce4f-204a-4a39-b864-a3518f4cf1d4",
   "metadata": {},
   "outputs": [],
   "source": [
    "height_map = construct_surface(p, q, path_type='column')"
   ]
  },
  {
   "cell_type": "code",
   "execution_count": null,
   "id": "311bbab7-99b3-4349-9610-346dd55ab48a",
   "metadata": {},
   "outputs": [],
   "source": [
    "height_map"
   ]
  },
  {
   "cell_type": "code",
   "execution_count": null,
   "id": "7e95a3bd-abf4-49ef-84d0-4e0bffa6fca2",
   "metadata": {},
   "outputs": [],
   "source": [
    "show_results(albedo, normal, height_map, SE)"
   ]
  },
  {
   "cell_type": "code",
   "execution_count": null,
   "id": "f2151592-ec34-427f-b95b-3c07fa12aab1",
   "metadata": {},
   "outputs": [],
   "source": []
  },
  {
   "cell_type": "code",
   "execution_count": null,
   "id": "1c41929c-8fe8-4c55-ac3f-303836f4e3ca",
   "metadata": {},
   "outputs": [],
   "source": []
  }
 ],
 "metadata": {
  "kernelspec": {
   "display_name": "Python 3 (ipykernel)",
   "language": "python",
   "name": "python3"
  },
  "language_info": {
   "codemirror_mode": {
    "name": "ipython",
    "version": 3
   },
   "file_extension": ".py",
   "mimetype": "text/x-python",
   "name": "python",
   "nbconvert_exporter": "python",
   "pygments_lexer": "ipython3",
   "version": "3.9.7"
  }
 },
 "nbformat": 4,
 "nbformat_minor": 5
}
