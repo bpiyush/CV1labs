{
 "cells": [
  {
   "cell_type": "code",
   "execution_count": null,
   "id": "5caff19e-137b-4ea4-8e6b-c02613f8ca97",
   "metadata": {},
   "outputs": [],
   "source": [
    "%load_ext autoreload\n",
    "%autoreload 2"
   ]
  },
  {
   "cell_type": "code",
   "execution_count": null,
   "id": "5c634851-8b1e-4a81-8c0d-99e0e7807962",
   "metadata": {},
   "outputs": [],
   "source": [
    "import sys\n",
    "sys.path.append(\"../../\")\n",
    "sys.path.append(\"../\")"
   ]
  },
  {
   "cell_type": "code",
   "execution_count": null,
   "id": "8188f66c-748b-4fe0-850b-1e87c1ff6bd5",
   "metadata": {},
   "outputs": [],
   "source": [
    "import os\n",
    "from os.path import join, basename\n",
    "from glob import glob\n",
    "import numpy as np\n",
    "import cv2\n",
    "import matplotlib.pyplot as plt\n",
    "from typing import List, Any\n",
    "from matplotlib import cm\n",
    "\n",
    "from utils import load_syn_images, show_single_image, show_multiple_images, load_face_images, show_results, plot_surface, plot_grid_of_surfaces\n",
    "from photometric.estimate_alb_nrm import estimate_alb_nrm\n",
    "from photometric.check_integrability import check_integrability\n",
    "from photometric.construct_surface import construct_surface\n",
    "from photometric.photometric_stereo import photometric_stereo_color"
   ]
  },
  {
   "cell_type": "markdown",
   "id": "475c741f-6a0f-4928-97f3-ad03360204cf",
   "metadata": {},
   "source": [
    "### Sphere color"
   ]
  },
  {
   "cell_type": "code",
   "execution_count": null,
   "id": "1d9bfb81-6c58-4eed-a6fa-bf4a5bd12ab3",
   "metadata": {},
   "outputs": [],
   "source": [
    "albedos, normals, height_maps = photometric_stereo_color(\"../SphereColor/\")"
   ]
  },
  {
   "cell_type": "code",
   "execution_count": null,
   "id": "b462ec33-1c09-4145-aa01-525dc57e44f3",
   "metadata": {},
   "outputs": [],
   "source": [
    "albedo_color = np.dstack(albedos)\n",
    "# BGR -> RGB\n",
    "albedo_color[..., [0, 2]] = albedo_color[..., [2, 0]]"
   ]
  },
  {
   "cell_type": "code",
   "execution_count": null,
   "id": "ba3756cb-9ead-4cd7-b910-b26991ee6c6d",
   "metadata": {},
   "outputs": [],
   "source": [
    "albedo_color.min(), albedo_color.max()"
   ]
  },
  {
   "cell_type": "code",
   "execution_count": null,
   "id": "39682864-798e-4257-a419-2b3f90ce0132",
   "metadata": {},
   "outputs": [],
   "source": [
    "show_single_image(albedo_color, xticks=False, yticks=False, save=True, path=\"../results/SphereColor_albedo.png\")"
   ]
  },
  {
   "cell_type": "code",
   "execution_count": null,
   "id": "27062cb8-131a-42c1-8d82-216665f5f5fe",
   "metadata": {},
   "outputs": [],
   "source": [
    "len(normals), normals[1].shape, normals[2].shape, normals[0].shape"
   ]
  },
  {
   "cell_type": "code",
   "execution_count": null,
   "id": "47671288-1e9a-4646-a28b-dbe02c8f9856",
   "metadata": {},
   "outputs": [],
   "source": [
    "fig, ax = plt.subplots(3, 3, figsize=(6, 7), constrained_layout=True)\n",
    "channels = [\"B\", \"G\", \"R\"]\n",
    "\n",
    "for i in range(3):\n",
    "    for j in range(3):\n",
    "        ax[i, j].imshow(normals[2 - i][:, :, j], cmap=\"gray\")\n",
    "        \n",
    "        if j == 1:\n",
    "            ax[i, j].set_title(f\"Channel: {channels[2 - i]}\")\n",
    "\n",
    "        ax[i, j].set_xticks([])\n",
    "        ax[i, j].set_yticks([])\n",
    "\n",
    "        \n",
    "plt.savefig(\"../results/SphereColor_normals.png\", bbox_inches=\"tight\")\n",
    "plt.show()"
   ]
  },
  {
   "cell_type": "code",
   "execution_count": null,
   "id": "6bbbf120-2e40-4103-85ec-43f5bdf12c41",
   "metadata": {},
   "outputs": [],
   "source": []
  },
  {
   "cell_type": "code",
   "execution_count": null,
   "id": "84cbb8c6-b35f-4cb6-b0aa-871f76e309ee",
   "metadata": {},
   "outputs": [],
   "source": [
    "height_map_avg = np.mean(np.dstack(height_maps), axis=-1)"
   ]
  },
  {
   "cell_type": "code",
   "execution_count": null,
   "id": "11258f1b-6366-46fe-989c-8e02cf43e299",
   "metadata": {},
   "outputs": [],
   "source": [
    "height_map_avg.shape"
   ]
  },
  {
   "cell_type": "code",
   "execution_count": null,
   "id": "408eddab-ab95-4a32-8243-083d1357294d",
   "metadata": {},
   "outputs": [],
   "source": [
    "# for creating a responsive plot\n",
    "%matplotlib widget"
   ]
  },
  {
   "cell_type": "code",
   "execution_count": null,
   "id": "991377b2-6866-4c6e-839f-106f60394996",
   "metadata": {},
   "outputs": [],
   "source": [
    "facecolors = albedo_color\n",
    "facecolors[..., 0] /= albedo_color[...,0].max()\n",
    "facecolors[..., 1] /= albedo_color[...,1].max()\n",
    "facecolors[..., 2] /= albedo_color[...,2].max()"
   ]
  },
  {
   "cell_type": "code",
   "execution_count": null,
   "id": "b783e777-4410-4d05-9bfd-5f4b9d7c1c23",
   "metadata": {},
   "outputs": [],
   "source": [
    "facecolors.shape"
   ]
  },
  {
   "cell_type": "code",
   "execution_count": null,
   "id": "d545ad7d-5fd7-4eb4-abd9-ab3cf620bcf8",
   "metadata": {},
   "outputs": [],
   "source": [
    "facecolors.min(), facecolors.max()"
   ]
  },
  {
   "cell_type": "code",
   "execution_count": null,
   "id": "27043524-f2de-4ce7-9d53-74207f9282ff",
   "metadata": {},
   "outputs": [],
   "source": [
    "plot_surface(height_maps[2], set_lim=False, facecolors=facecolors)"
   ]
  },
  {
   "cell_type": "markdown",
   "id": "188c3b1d-f1bd-445d-8263-272d207c12e9",
   "metadata": {},
   "source": [
    "### Monkey color"
   ]
  },
  {
   "cell_type": "code",
   "execution_count": null,
   "id": "808d49aa-8751-40b5-a182-bb4a8515c4a2",
   "metadata": {},
   "outputs": [],
   "source": [
    "albedos, normals, height_maps = photometric_stereo_color(\"../MonkeyColor/\")"
   ]
  },
  {
   "cell_type": "markdown",
   "id": "aee1526c-787d-4841-9864-58a05cd1f71c",
   "metadata": {},
   "source": [
    "Convert NaN's to 0"
   ]
  },
  {
   "cell_type": "code",
   "execution_count": null,
   "id": "c2869b2e-bc64-45ba-8cc0-c343f5cf6934",
   "metadata": {},
   "outputs": [],
   "source": [
    "albedos = [np.nan_to_num(x, nan=0.0) for x in albedos]"
   ]
  },
  {
   "cell_type": "code",
   "execution_count": null,
   "id": "e5ca0874-e81a-4a67-9f7f-b4d3da5ce96b",
   "metadata": {},
   "outputs": [],
   "source": [
    "normals = [np.nan_to_num(x, nan=0.0) for x in normals]"
   ]
  },
  {
   "cell_type": "code",
   "execution_count": null,
   "id": "1999324a-e6a5-4324-aed4-39f144a92a55",
   "metadata": {},
   "outputs": [],
   "source": [
    "albedo_color = np.dstack(albedos)\n",
    "# BGR -> RGB\n",
    "albedo_color[..., [0, 2]] = albedo_color[..., [2, 0]]"
   ]
  },
  {
   "cell_type": "code",
   "execution_count": null,
   "id": "fecb6389-b044-4798-a696-64f2e5d8e526",
   "metadata": {},
   "outputs": [],
   "source": [
    "albedo_color.min(), albedo_color.max()"
   ]
  },
  {
   "cell_type": "code",
   "execution_count": null,
   "id": "0ec69d8b-a355-4066-9d69-371cbdd4c7f1",
   "metadata": {},
   "outputs": [],
   "source": [
    "%matplotlib inline"
   ]
  },
  {
   "cell_type": "code",
   "execution_count": null,
   "id": "b71f7471-3cc9-4e50-b365-6363007e65ed",
   "metadata": {},
   "outputs": [],
   "source": [
    "show_single_image(albedo_color, xticks=False, yticks=False, save=True, path=\"../results/MonkeyColor_albedo.png\")"
   ]
  },
  {
   "cell_type": "code",
   "execution_count": null,
   "id": "6b1e3601-87a4-4f9e-b965-39d982ebe3ea",
   "metadata": {},
   "outputs": [],
   "source": [
    "len(normals), normals[1].shape, normals[2].shape, normals[0].shape"
   ]
  },
  {
   "cell_type": "code",
   "execution_count": null,
   "id": "19a7cf8a-1eb4-4412-91d8-950714311720",
   "metadata": {},
   "outputs": [],
   "source": [
    "fig, ax = plt.subplots(3, 3, figsize=(6, 7), constrained_layout=True)\n",
    "channels = [\"B\", \"G\", \"R\"]\n",
    "\n",
    "for i in range(3):\n",
    "    for j in range(3):\n",
    "        ax[i, j].imshow(normals[2 - i][:, :, j], cmap=\"gray\")\n",
    "        \n",
    "        if j == 1:\n",
    "            ax[i, j].set_title(f\"Channel: {channels[2 - i]}\")\n",
    "\n",
    "        ax[i, j].set_xticks([])\n",
    "        ax[i, j].set_yticks([])\n",
    "\n",
    "        \n",
    "plt.savefig(\"../results/MonkeyColor_normals.png\", bbox_inches=\"tight\")\n",
    "plt.show()"
   ]
  },
  {
   "cell_type": "code",
   "execution_count": null,
   "id": "15bd5dd3-74b2-4588-9972-7682c9c6c8fe",
   "metadata": {},
   "outputs": [],
   "source": []
  },
  {
   "cell_type": "code",
   "execution_count": null,
   "id": "1a62e095-f9e3-4271-b1da-52ceebf2ba22",
   "metadata": {},
   "outputs": [],
   "source": [
    "height_map_avg = np.mean(np.dstack(height_maps), axis=-1)"
   ]
  },
  {
   "cell_type": "code",
   "execution_count": null,
   "id": "525a76dd-c539-4567-9661-be1b32060633",
   "metadata": {},
   "outputs": [],
   "source": [
    "height_map_avg.shape"
   ]
  },
  {
   "cell_type": "code",
   "execution_count": null,
   "id": "8086db75-d5e0-49cf-9c32-77422bc96db3",
   "metadata": {},
   "outputs": [],
   "source": [
    "# for creating a responsive plot\n",
    "%matplotlib widget"
   ]
  },
  {
   "cell_type": "code",
   "execution_count": null,
   "id": "5544e87f-2a4f-4d33-910b-58cc669f4fb4",
   "metadata": {},
   "outputs": [],
   "source": [
    "facecolors = albedo_color\n",
    "facecolors[..., 0] /= albedo_color[...,0].max()\n",
    "facecolors[..., 1] /= albedo_color[...,1].max()\n",
    "facecolors[..., 2] /= albedo_color[...,2].max()"
   ]
  },
  {
   "cell_type": "code",
   "execution_count": null,
   "id": "3d0272e8-358a-41fe-b64c-58f859ad850b",
   "metadata": {},
   "outputs": [],
   "source": [
    "facecolors.shape"
   ]
  },
  {
   "cell_type": "code",
   "execution_count": null,
   "id": "5b139ad7-3d8e-46c7-99e4-ee648a8edf03",
   "metadata": {},
   "outputs": [],
   "source": [
    "facecolors.min(), facecolors.max()"
   ]
  },
  {
   "cell_type": "code",
   "execution_count": null,
   "id": "ef33b38f-6a86-4781-b89a-f920cd42864a",
   "metadata": {},
   "outputs": [],
   "source": [
    "plot_surface(height_maps[2], set_lim=False, facecolors=facecolors)"
   ]
  },
  {
   "cell_type": "code",
   "execution_count": null,
   "id": "f0370fd4-9b8b-4e13-b1dc-6f8106d49a66",
   "metadata": {},
   "outputs": [],
   "source": []
  }
 ],
 "metadata": {
  "kernelspec": {
   "display_name": "Python 3 (ipykernel)",
   "language": "python",
   "name": "python3"
  },
  "language_info": {
   "codemirror_mode": {
    "name": "ipython",
    "version": 3
   },
   "file_extension": ".py",
   "mimetype": "text/x-python",
   "name": "python",
   "nbconvert_exporter": "python",
   "pygments_lexer": "ipython3",
   "version": "3.9.7"
  }
 },
 "nbformat": 4,
 "nbformat_minor": 5
}
