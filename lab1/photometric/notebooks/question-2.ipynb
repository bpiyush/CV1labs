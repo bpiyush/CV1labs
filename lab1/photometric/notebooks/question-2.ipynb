{
 "cells": [
  {
   "cell_type": "code",
   "execution_count": null,
   "id": "d9a7dcd4-043d-46c8-9bf6-fa2599c40287",
   "metadata": {},
   "outputs": [],
   "source": [
    "%load_ext autoreload\n",
    "%autoreload 2"
   ]
  },
  {
   "cell_type": "code",
   "execution_count": null,
   "id": "a9b43a62-ac45-426d-a388-f2f404d11fc4",
   "metadata": {},
   "outputs": [],
   "source": [
    "import sys\n",
    "sys.path.append(\"../../\")\n",
    "sys.path.append(\"../\")"
   ]
  },
  {
   "cell_type": "code",
   "execution_count": null,
   "id": "ebff8f80-dacd-440c-86fa-2b37b056ba9a",
   "metadata": {},
   "outputs": [],
   "source": [
    "from os.path import join, basename\n",
    "from glob import glob\n",
    "import numpy as np\n",
    "import cv2\n",
    "import matplotlib.pyplot as plt\n",
    "from typing import List, Any\n",
    "from matplotlib import cm\n",
    "\n",
    "from utils import load_syn_images, show_single_image, show_multiple_images\n",
    "from photometric.estimate_alb_nrm import estimate_alb_nrm\n",
    "from photometric.check_integrability import check_integrability"
   ]
  },
  {
   "cell_type": "code",
   "execution_count": null,
   "id": "33cbb41c-cf22-4604-9b63-b61587ac6668",
   "metadata": {},
   "outputs": [],
   "source": [
    "def get_integrability_outputs(image_stack, scriptV):\n",
    "    [albedo, normals] = estimate_alb_nrm(image_stack, scriptV)\n",
    "    [p, q, SE] = check_integrability(normals)\n",
    "    return p, q, SE"
   ]
  },
  {
   "cell_type": "markdown",
   "id": "7c1653d9-7026-4c00-8a56-1b7c03d660ab",
   "metadata": {},
   "source": [
    "With $n =5$"
   ]
  },
  {
   "cell_type": "code",
   "execution_count": null,
   "id": "940c2311-84ed-4945-823d-f3207072a114",
   "metadata": {},
   "outputs": [],
   "source": [
    "image_dir = \"../SphereGray5/\""
   ]
  },
  {
   "cell_type": "code",
   "execution_count": null,
   "id": "9b465ec8-ce84-4af2-8177-a1c54114c4d0",
   "metadata": {},
   "outputs": [],
   "source": [
    "[image_stack, scriptV] = load_syn_images(image_dir)\n",
    "[h, w, n] = image_stack.shape"
   ]
  },
  {
   "cell_type": "code",
   "execution_count": null,
   "id": "d00d1c91-731d-4a25-9f14-b1240045e558",
   "metadata": {},
   "outputs": [],
   "source": [
    "p, q, SE = get_integrability_outputs(image_stack, scriptV)"
   ]
  },
  {
   "cell_type": "code",
   "execution_count": null,
   "id": "f87f51e3-44d9-4454-8033-3330568c6fde",
   "metadata": {},
   "outputs": [],
   "source": [
    "threshold = 0.005"
   ]
  },
  {
   "cell_type": "code",
   "execution_count": null,
   "id": "9a367594-9370-457d-bcd4-99187294113a",
   "metadata": {},
   "outputs": [],
   "source": [
    "np.sum(SE > threshold)"
   ]
  },
  {
   "cell_type": "code",
   "execution_count": null,
   "id": "7996705e-c2d8-49c7-a256-e32e45e07033",
   "metadata": {},
   "outputs": [],
   "source": [
    "SE[SE <= threshold] = float('nan')"
   ]
  },
  {
   "cell_type": "code",
   "execution_count": null,
   "id": "ad87314a-32ef-4a84-83d6-e713f6c010aa",
   "metadata": {},
   "outputs": [],
   "source": [
    "p.shape"
   ]
  },
  {
   "cell_type": "code",
   "execution_count": null,
   "id": "82d740ec-1fcc-482b-a0a5-551cb4573cd1",
   "metadata": {},
   "outputs": [],
   "source": [
    "stride = 1\n",
    "\n",
    "# meshgrid\n",
    "X, Y, _ = np.meshgrid(np.arange(0,np.shape(p)[0], stride),\n",
    "np.arange(0,np.shape(p)[1], stride),\n",
    "np.arange(1))\n",
    "X = X[..., 0]\n",
    "Y = Y[..., 0]\n",
    "\n",
    "# plotting the SE\n",
    "H = SE[::stride,::stride]\n",
    "fig = plt.figure(figsize=(10, 10))\n",
    "ax = fig.gca(projection='3d')\n",
    "ax.plot_surface(X,Y, H.T, linewidths=0.2)\n",
    "ax.set_title(\"Pixels with SE $>$ threshold = 0.005 for $n = 5$\", fontsize=25)\n",
    "ax.set_xlabel(\"x\")\n",
    "ax.set_ylabel(\"y\")\n",
    "ax.set_zlabel(\"z\")\n",
    "\n",
    "plt.savefig(\"../results/integrability_test_5.png\", bbox_inches=\"tight\")\n",
    "\n",
    "plt.show()"
   ]
  },
  {
   "cell_type": "markdown",
   "id": "7c82aeed-f419-4fb1-8ba6-ca46c367f8af",
   "metadata": {},
   "source": [
    "Varying $n$"
   ]
  },
  {
   "cell_type": "code",
   "execution_count": null,
   "id": "3c64b49f-38b0-465b-8c31-90284f6f99e0",
   "metadata": {},
   "outputs": [],
   "source": [
    "image_dir = \"../SphereGray25/\"\n",
    "# obtain many images in a fixed view under different illumination\n",
    "[image_stack, scriptV] = load_syn_images(image_dir)\n",
    "[h, w, n] = image_stack.shape"
   ]
  },
  {
   "cell_type": "code",
   "execution_count": null,
   "id": "e7d4c7e8-a323-45dc-97b7-495d4f572231",
   "metadata": {},
   "outputs": [],
   "source": [
    "num_images = [1, 2, 3, 6, 9, 12, 15, 18, 21, 25]\n",
    "all_SE = []\n",
    "threshold = 0.005"
   ]
  },
  {
   "cell_type": "code",
   "execution_count": null,
   "id": "548ffd4e-14e1-4e40-8a21-46196d2ce7f6",
   "metadata": {},
   "outputs": [],
   "source": [
    "for n in num_images:\n",
    "    # get the images\n",
    "    image_substack = image_stack[:, :, :n].copy()\n",
    "    scriptV_sub = scriptV[:n, :].copy()\n",
    "    p, q, SE = get_integrability_outputs(image_substack, scriptV_sub)\n",
    "    \n",
    "    all_SE.append(np.sum(SE > threshold))"
   ]
  },
  {
   "cell_type": "code",
   "execution_count": null,
   "id": "f04d6667-65af-4b73-91ad-a3975d326c30",
   "metadata": {},
   "outputs": [],
   "source": [
    "fig, ax = plt.subplots(1, 1, figsize=(12, 4))\n",
    "\n",
    "ax.set_title(\"Integrability test with varying $n$\", fontsize=17)\n",
    "ax.set_xlabel(\"Number of images $n$\", fontsize=14)\n",
    "ax.set_ylabel(\"Number of outliers (SE$(x, y)$ > $\\\\tau $)\", fontsize=12)\n",
    "\n",
    "ax.plot(num_images, all_SE, 'o--')\n",
    "ax.set_xticks(num_images)\n",
    "ax.grid()\n",
    "\n",
    "plt.savefig(\"../results/integrability_test_n.png\", bbox_inches=\"tight\")\n",
    "plt.show()"
   ]
  },
  {
   "cell_type": "code",
   "execution_count": null,
   "id": "6911df60-4244-46fe-85b7-185c51c8ff5b",
   "metadata": {},
   "outputs": [],
   "source": []
  }
 ],
 "metadata": {
  "kernelspec": {
   "display_name": "Python 3 (ipykernel)",
   "language": "python",
   "name": "python3"
  },
  "language_info": {
   "codemirror_mode": {
    "name": "ipython",
    "version": 3
   },
   "file_extension": ".py",
   "mimetype": "text/x-python",
   "name": "python",
   "nbconvert_exporter": "python",
   "pygments_lexer": "ipython3",
   "version": "3.9.7"
  }
 },
 "nbformat": 4,
 "nbformat_minor": 5
}
