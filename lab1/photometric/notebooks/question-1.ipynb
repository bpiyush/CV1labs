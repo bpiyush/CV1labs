{
 "cells": [
  {
   "cell_type": "code",
   "execution_count": null,
   "id": "4bcae3cd-ab5b-4167-a283-cddc3d283dd0",
   "metadata": {},
   "outputs": [],
   "source": [
    "%load_ext autoreload\n",
    "%autoreload 2"
   ]
  },
  {
   "cell_type": "code",
   "execution_count": null,
   "id": "7fbf60b1-45a5-4458-9b25-6b05ac0dea88",
   "metadata": {},
   "outputs": [],
   "source": [
    "import sys\n",
    "sys.path.append(\"../../\")\n",
    "sys.path.append(\"../\")"
   ]
  },
  {
   "cell_type": "code",
   "execution_count": null,
   "id": "f5d38c75-a8c4-4558-a2d6-141f422eea07",
   "metadata": {},
   "outputs": [],
   "source": [
    "from os.path import join, basename\n",
    "from glob import glob\n",
    "import numpy as np\n",
    "import cv2\n",
    "import matplotlib.pyplot as plt\n",
    "from typing import List, Any\n",
    "\n",
    "from photometric.photometric_stereo import estimate_alb_nrm\n",
    "from utils import load_syn_images, show_single_image, show_multiple_images, load_face_images, show_results, plot_surface, plot_grid_of_surfaces\n",
    "from photometric.estimate_alb_nrm import estimate_alb_nrm\n",
    "from photometric.check_integrability import check_integrability\n",
    "from photometric.construct_surface import construct_surface\n",
    "from photometric.photometric_stereo import photometric_stereo"
   ]
  },
  {
   "cell_type": "markdown",
   "id": "13aef72f-095d-47fb-83a8-23a74d6510fd",
   "metadata": {},
   "source": [
    "Part 1.1."
   ]
  },
  {
   "cell_type": "code",
   "execution_count": null,
   "id": "b1c21499-9b0a-46b4-9fb6-9f729430b5f0",
   "metadata": {},
   "outputs": [],
   "source": [
    "albedo, normals, height_map, SE = photometric_stereo(\n",
    "    image_dir='../SphereGray25/', shadow_trick=True, return_cache=True, show=False\n",
    ")"
   ]
  },
  {
   "cell_type": "code",
   "execution_count": null,
   "id": "ee575886-dd45-4cec-b2bc-9566428c9bb5",
   "metadata": {},
   "outputs": [],
   "source": [
    "%matplotlib widget"
   ]
  },
  {
   "cell_type": "code",
   "execution_count": null,
   "id": "93fe8bad-586d-46d4-8b2d-8b5cf8516583",
   "metadata": {},
   "outputs": [],
   "source": [
    "albedo /= albedo.max()"
   ]
  },
  {
   "cell_type": "code",
   "execution_count": null,
   "id": "5b3e4a5c-d197-4229-84fd-096fc54a3f22",
   "metadata": {},
   "outputs": [],
   "source": [
    "plot_surface(height_map, set_lim=True, facecolors=np.dstack([albedo.T, albedo.T, albedo.T]))"
   ]
  },
  {
   "cell_type": "code",
   "execution_count": null,
   "id": "12f44c72-57d3-4d57-be3f-c66c5401a0a5",
   "metadata": {},
   "outputs": [],
   "source": []
  },
  {
   "cell_type": "code",
   "execution_count": null,
   "id": "d206162c-1908-46ea-a30e-a845741dd968",
   "metadata": {},
   "outputs": [],
   "source": []
  },
  {
   "cell_type": "code",
   "execution_count": null,
   "id": "338ccc8b-aff8-491a-a3d0-3289a5f19b03",
   "metadata": {},
   "outputs": [],
   "source": [
    "image_dir = \"../SphereGray5/\""
   ]
  },
  {
   "cell_type": "code",
   "execution_count": null,
   "id": "f1d6dff7-158a-4858-ae39-5d9e6ffbfc6e",
   "metadata": {},
   "outputs": [],
   "source": [
    "# obtain many images in a fixed view under different illumination\n",
    "[image_stack, scriptV] = load_syn_images(image_dir)\n",
    "[h, w, n] = image_stack.shape"
   ]
  },
  {
   "cell_type": "code",
   "execution_count": null,
   "id": "0d58a315-8b22-4b18-b21d-a538401e021c",
   "metadata": {},
   "outputs": [],
   "source": [
    "# compute the surface gradient from the stack of imgs and light source mat\n",
    "[albedo, normals] = estimate_alb_nrm(image_stack, scriptV)"
   ]
  },
  {
   "cell_type": "code",
   "execution_count": null,
   "id": "4d2923eb-97a3-465e-88fc-0265be0543d1",
   "metadata": {},
   "outputs": [],
   "source": [
    "images = [image_stack[:, :, i] for i in range(image_stack.shape[-1])]"
   ]
  },
  {
   "cell_type": "code",
   "execution_count": null,
   "id": "962522bc-41de-4c50-99f9-e2e328b8823f",
   "metadata": {},
   "outputs": [],
   "source": [
    "show_multiple_images(\n",
    "    images, (1, 5), grayscale=True, xticks=False, yticks=False, figsize=(20, 8),\n",
    "    save=True, path=\"../results/SphereGray5_original.png\"\n",
    ")"
   ]
  },
  {
   "cell_type": "code",
   "execution_count": null,
   "id": "77cf1d5d-2f2d-496a-8e0d-bb498d2c9ccd",
   "metadata": {},
   "outputs": [],
   "source": [
    "show_single_image(\n",
    "    albedo, grayscale=True, xticks=False, yticks=False, save=True, path=\"../results/SphereGray5_albedo.png\"\n",
    ")"
   ]
  },
  {
   "cell_type": "code",
   "execution_count": null,
   "id": "d314b79c-7a2a-4952-b427-056b31cd3a7e",
   "metadata": {},
   "outputs": [],
   "source": [
    "show_multiple_images(\n",
    "    [normals[:, :, 0], normals[:, :, 1], normals[:, :, 2]], grid=(1, 3), grayscale=False,\n",
    "    xticks=False, yticks=False, save=True, path=\"../results/SphereGray5_normals.png\"\n",
    ")"
   ]
  },
  {
   "cell_type": "markdown",
   "id": "e9afe1d3-6d1c-4180-9ec8-5159e2b985fc",
   "metadata": {},
   "source": [
    "Part 1.2"
   ]
  },
  {
   "cell_type": "code",
   "execution_count": null,
   "id": "4522372b-6fc4-4f3d-9593-5f4d97ad482b",
   "metadata": {},
   "outputs": [],
   "source": [
    "image_dir = \"../SphereGray25/\""
   ]
  },
  {
   "cell_type": "code",
   "execution_count": null,
   "id": "1e938fc6-4711-4b25-b158-c7accc2a282b",
   "metadata": {},
   "outputs": [],
   "source": [
    "# obtain many images in a fixed view under different illumination\n",
    "[image_stack, scriptV] = load_syn_images(image_dir)\n",
    "[h, w, n] = image_stack.shape"
   ]
  },
  {
   "cell_type": "code",
   "execution_count": null,
   "id": "61c5ec58-a7b7-406d-a680-1a19ac131db4",
   "metadata": {},
   "outputs": [],
   "source": [
    "image_stack.shape"
   ]
  },
  {
   "cell_type": "code",
   "execution_count": null,
   "id": "ccdd12b2-92b8-4171-869e-e6582e9f2014",
   "metadata": {},
   "outputs": [],
   "source": [
    "# compute the surface gradient from the stack of imgs and light source mat\n",
    "[albedo, normals] = estimate_alb_nrm(image_stack, scriptV)"
   ]
  },
  {
   "cell_type": "code",
   "execution_count": null,
   "id": "d27bb62d-6f9a-46d5-966d-90a44ac76f9a",
   "metadata": {},
   "outputs": [],
   "source": [
    "images = [image_stack[:, :, i] for i in range(image_stack.shape[-1])]"
   ]
  },
  {
   "cell_type": "code",
   "execution_count": null,
   "id": "8e2cf372-a6a2-4a8e-8be1-45a6090a8d0e",
   "metadata": {},
   "outputs": [],
   "source": [
    "show_multiple_images(\n",
    "    images, (1, 25), grayscale=True, xticks=False, yticks=False, figsize=(20, 8),\n",
    "    save=True, path=\"../results/SphereGray25_original.png\"\n",
    ")"
   ]
  },
  {
   "cell_type": "code",
   "execution_count": null,
   "id": "875805fc-aea9-4060-8caf-08cbf898c074",
   "metadata": {},
   "outputs": [],
   "source": [
    "show_single_image(\n",
    "    albedo, grayscale=True, xticks=False, yticks=False, save=True, path=\"../results/SphereGray25_albedo.png\"\n",
    ")"
   ]
  },
  {
   "cell_type": "code",
   "execution_count": null,
   "id": "af97e5d5-666b-4dc4-825f-33eff915fc43",
   "metadata": {},
   "outputs": [],
   "source": [
    "show_multiple_images(\n",
    "    [normals[:, :, 0], normals[:, :, 1], normals[:, :, 2]], grid=(1, 3), grayscale=False,\n",
    "    xticks=False, yticks=False, save=True, path=\"../results/SphereGray25_normals.png\"\n",
    ")"
   ]
  },
  {
   "cell_type": "markdown",
   "id": "74c0db06-9aae-4998-8d0c-4e18da961070",
   "metadata": {},
   "source": [
    "Varying $n$"
   ]
  },
  {
   "cell_type": "code",
   "execution_count": null,
   "id": "11a54d0f-dca7-427e-bc48-e664a107f932",
   "metadata": {},
   "outputs": [],
   "source": [
    "num_images = [1, 2, 3, 6, 9, 12, 15, 18, 21, 25]\n",
    "all_albedos = []\n",
    "all_normals = []"
   ]
  },
  {
   "cell_type": "code",
   "execution_count": null,
   "id": "39749a33-2c25-4878-a3bc-fbfe22aaebd8",
   "metadata": {},
   "outputs": [],
   "source": [
    "for n in num_images:\n",
    "    # get the images\n",
    "    image_substack = image_stack[:, :, :n].copy()\n",
    "    scriptV_sub = scriptV[:n, :].copy()\n",
    "    \n",
    "    # compute the surface gradient from the stack of imgs and light source mat\n",
    "    [albedo, normals] = estimate_alb_nrm(image_substack, scriptV_sub)\n",
    "    \n",
    "    # collect the results\n",
    "    all_albedos.append(albedo)\n",
    "    all_normals.append(normals)"
   ]
  },
  {
   "cell_type": "code",
   "execution_count": null,
   "id": "fb3612b3-fc71-4fd2-88a3-95b81413a579",
   "metadata": {},
   "outputs": [],
   "source": [
    "len(all_albedos), len(all_normals)"
   ]
  },
  {
   "cell_type": "code",
   "execution_count": null,
   "id": "0d3cddec-3199-46eb-b4f4-8c7dd2df9293",
   "metadata": {},
   "outputs": [],
   "source": [
    "fig, ax = plt.subplots(1, len(num_images), figsize=(20, 7))\n",
    "\n",
    "for i, x in enumerate(all_albedos):\n",
    "    ax[i].imshow(x, cmap=\"gray\")\n",
    "    ax[i].set_title(f\"$n = {num_images[i]}$\")\n",
    "    ax[i].set_xticks([])\n",
    "    ax[i].set_yticks([])\n",
    "\n",
    "plt.savefig(\"../results/SphereGray25_n_albedos.png\", bbox_inches=\"tight\")\n",
    "plt.show()"
   ]
  },
  {
   "cell_type": "code",
   "execution_count": null,
   "id": "ee20e338-2723-4a92-896a-57f9142b5b50",
   "metadata": {},
   "outputs": [],
   "source": [
    "show_multiple_images(\n",
    "    all_albedos, grid=(1, 8), figsize=(20, 8), grayscale=True,\n",
    "    xticks=False, yticks=False, save=True, path=\"../results/SphereGray25_albedo.png\",\n",
    ")"
   ]
  },
  {
   "cell_type": "code",
   "execution_count": null,
   "id": "f8325b35-3f9b-44cc-9202-10f6d5f1f3b3",
   "metadata": {},
   "outputs": [],
   "source": [
    "all_normals[0].shape"
   ]
  },
  {
   "cell_type": "code",
   "execution_count": null,
   "id": "fb9c94da-09b0-4385-848a-e902ca7b8b09",
   "metadata": {},
   "outputs": [],
   "source": [
    "all_xnormals = [x[:, :, 0] for x in all_normals]\n",
    "show_multiple_images(\n",
    "    all_xnormals, grid=(1, 8), figsize=(20, 8), grayscale=False,\n",
    "    xticks=False, yticks=False, save=True, path=\"../results/SphereGray25_xnormals.png\"\n",
    ")"
   ]
  },
  {
   "cell_type": "code",
   "execution_count": null,
   "id": "ff1cd1cb-7bf8-4359-9f13-209c39ba4b2b",
   "metadata": {},
   "outputs": [],
   "source": [
    "all_ynormals = [x[:, :, 1] for x in all_normals]\n",
    "show_multiple_images(\n",
    "    all_ynormals, grid=(1, 8), figsize=(20, 8), grayscale=False,\n",
    "    xticks=False, yticks=False, save=True, path=\"../results/SphereGray25_ynormals.png\",\n",
    ")"
   ]
  },
  {
   "cell_type": "code",
   "execution_count": null,
   "id": "c684e924-a44b-47b0-889e-94597774c9a7",
   "metadata": {},
   "outputs": [],
   "source": [
    "all_znormals = [x[:, :, -1] for x in all_normals]\n",
    "show_multiple_images(\n",
    "    all_znormals, grid=(1, 8), figsize=(20, 8), grayscale=False,\n",
    "    xticks=False, yticks=False, save=True, path=\"../results/SphereGray25_znormals.png\",\n",
    ")"
   ]
  },
  {
   "cell_type": "markdown",
   "id": "153d3fd6-40f8-43fa-9070-4fe8e3dcf976",
   "metadata": {},
   "source": [
    "Part 1.3: Shadow trick"
   ]
  },
  {
   "cell_type": "code",
   "execution_count": null,
   "id": "174b954a-3eae-4465-bb99-2472a12571d1",
   "metadata": {},
   "outputs": [],
   "source": [
    "image_dir = \"../SphereGray25/\""
   ]
  },
  {
   "cell_type": "code",
   "execution_count": null,
   "id": "8b9d4f55-fd2a-4f52-8ed3-b8f53b679950",
   "metadata": {},
   "outputs": [],
   "source": [
    "# obtain many images in a fixed view under different illumination\n",
    "[image_stack, scriptV] = load_syn_images(image_dir)\n",
    "[h, w, n] = image_stack.shape"
   ]
  },
  {
   "cell_type": "code",
   "execution_count": null,
   "id": "23500af8-71b6-4d14-a64f-5136c2e06519",
   "metadata": {},
   "outputs": [],
   "source": [
    "# compute the surface gradient from the stack of imgs and light source mat\n",
    "[albedo, normals] = estimate_alb_nrm(image_stack, scriptV)"
   ]
  },
  {
   "cell_type": "code",
   "execution_count": null,
   "id": "175a7db6-c9e2-434d-b594-50b88e34e040",
   "metadata": {},
   "outputs": [],
   "source": [
    "# compute the surface gradient from the stack of imgs and light source mat\n",
    "[albedo_nost, normals_nost] = estimate_alb_nrm(image_stack, scriptV, shadow_trick=False)"
   ]
  },
  {
   "cell_type": "code",
   "execution_count": null,
   "id": "99140da9-c7ea-4310-9c91-11980a16b59d",
   "metadata": {},
   "outputs": [],
   "source": [
    "show_multiple_images([albedo, albedo_nost], grayscale=True, grid=(1, 2))"
   ]
  },
  {
   "cell_type": "code",
   "execution_count": null,
   "id": "57b2f4e0-9791-4a23-b253-ba20dc777717",
   "metadata": {},
   "outputs": [],
   "source": [
    "(albedo == albedo_nost).all()"
   ]
  },
  {
   "cell_type": "code",
   "execution_count": null,
   "id": "38ac12de-4f9e-4f04-8aed-24b9215e8bc0",
   "metadata": {},
   "outputs": [],
   "source": [
    "show_multiple_images(\n",
    "    [normals[:, :, 0], normals[:, :, 1], normals[:, :, 2]], grid=(1, 3), grayscale=False,\n",
    "    xticks=False, yticks=False, save=True, path=\"../results/SphereGray25_albedo_shadow_trick.png\"\n",
    ")"
   ]
  },
  {
   "cell_type": "code",
   "execution_count": null,
   "id": "38371e2d-2258-43ad-b26f-69661c1b46a1",
   "metadata": {},
   "outputs": [],
   "source": [
    "show_multiple_images(\n",
    "    [normals_nost[:, :, 0], normals_nost[:, :, 1], normals[:, :, 2]], grid=(1, 3), grayscale=False,\n",
    "    xticks=False, yticks=False, save=True, path=\"../results/SphereGray25_albedo_no_shadow_trick.png\"\n",
    ")"
   ]
  },
  {
   "cell_type": "code",
   "execution_count": null,
   "id": "ee36246a-8b32-474a-96f1-25011a7ecba2",
   "metadata": {},
   "outputs": [],
   "source": []
  }
 ],
 "metadata": {
  "kernelspec": {
   "display_name": "Python 3 (ipykernel)",
   "language": "python",
   "name": "python3"
  },
  "language_info": {
   "codemirror_mode": {
    "name": "ipython",
    "version": 3
   },
   "file_extension": ".py",
   "mimetype": "text/x-python",
   "name": "python",
   "nbconvert_exporter": "python",
   "pygments_lexer": "ipython3",
   "version": "3.9.7"
  }
 },
 "nbformat": 4,
 "nbformat_minor": 5
}
