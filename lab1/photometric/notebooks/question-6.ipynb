{
 "cells": [
  {
   "cell_type": "code",
   "execution_count": null,
   "id": "91a5165a-313b-4ded-b9df-d5ce3dcfd6c7",
   "metadata": {},
   "outputs": [],
   "source": [
    "%load_ext autoreload\n",
    "%autoreload 2"
   ]
  },
  {
   "cell_type": "code",
   "execution_count": null,
   "id": "f6a97b10-fbc3-4ce5-8421-3d01d315b6e1",
   "metadata": {},
   "outputs": [],
   "source": [
    "import sys\n",
    "sys.path.append(\"../../\")\n",
    "sys.path.append(\"../\")"
   ]
  },
  {
   "cell_type": "code",
   "execution_count": null,
   "id": "0264cad3-8c09-4008-b731-e2c6391ccdae",
   "metadata": {},
   "outputs": [],
   "source": [
    "import os\n",
    "from os.path import join, basename\n",
    "from glob import glob\n",
    "import numpy as np\n",
    "import cv2\n",
    "import matplotlib.pyplot as plt\n",
    "from typing import List, Any\n",
    "from matplotlib import cm\n",
    "\n",
    "from utils import load_syn_images, show_single_image, show_multiple_images, load_face_images, show_results, plot_surface, plot_grid_of_surfaces\n",
    "from photometric.estimate_alb_nrm import estimate_alb_nrm\n",
    "from photometric.check_integrability import check_integrability\n",
    "from photometric.construct_surface import construct_surface\n",
    "from photometric.photometric_stereo import photometric_stereo, photometric_stereo_face"
   ]
  },
  {
   "cell_type": "markdown",
   "id": "04b32b7b-1798-4845-b6b6-24a4989adc09",
   "metadata": {},
   "source": [
    "### Yale face images"
   ]
  },
  {
   "cell_type": "code",
   "execution_count": null,
   "id": "d856ab13-e533-4b96-9323-b5fe7932338c",
   "metadata": {},
   "outputs": [],
   "source": [
    "image_dir=\"../yaleB02/\""
   ]
  },
  {
   "cell_type": "code",
   "execution_count": null,
   "id": "5ddd82fe-618a-4977-b77e-c6ee04081974",
   "metadata": {},
   "outputs": [],
   "source": [
    "albedos = []\n",
    "height_maps = []"
   ]
  },
  {
   "cell_type": "code",
   "execution_count": null,
   "id": "02c1aae7-4dec-4758-bb98-c1312f0d6852",
   "metadata": {
    "tags": []
   },
   "outputs": [],
   "source": [
    "for path_type in [\"column\", \"row\", \"average\"]:\n",
    "    albedo, normals, height_map, SE = photometric_stereo_face(\n",
    "        image_dir=image_dir, path_type=path_type, return_cache=True, show=False\n",
    "    )\n",
    "    albedos.append(albedo)\n",
    "    height_maps.append(height_map)"
   ]
  },
  {
   "cell_type": "code",
   "execution_count": null,
   "id": "12d1ab9c-9e17-4142-bdc1-3340f1ded078",
   "metadata": {},
   "outputs": [],
   "source": [
    "%matplotlib inline"
   ]
  },
  {
   "cell_type": "code",
   "execution_count": null,
   "id": "06c8549a-a03e-4675-87ac-36440a942ef5",
   "metadata": {},
   "outputs": [],
   "source": [
    "show_multiple_images(\n",
    "    albedos, grid=(1, 3), grayscale=True,\n",
    "    xticks=False, yticks=False, save=False, path=\"../results/Yale_normals.png\"\n",
    ")"
   ]
  },
  {
   "cell_type": "code",
   "execution_count": null,
   "id": "e995066d-57ff-42d8-a712-018eaa42db38",
   "metadata": {},
   "outputs": [],
   "source": [
    "fig, ax = plt.subplots(3, 1, figsize=(3, 6))\n",
    "\n",
    "for i in range(3):\n",
    "    ax[i].imshow(albedos[i], cmap=\"gray\")\n",
    "    ax[i].set_title(\"Column\" * (i == 0) + \"Row\" * (i == 1) + \"Average\" * (i == 2))\n",
    "    ax[i].set_xticks([])\n",
    "    ax[i].set_yticks([])\n",
    "\n",
    "plt.savefig(\"../results/yale_albedos.png\", bbox_inches=\"tight\")\n",
    "plt.show()"
   ]
  },
  {
   "cell_type": "code",
   "execution_count": null,
   "id": "a6cee5cf-8140-42a6-9c43-91099390116d",
   "metadata": {},
   "outputs": [],
   "source": [
    "# for creating a responsive plot\n",
    "%matplotlib widget"
   ]
  },
  {
   "cell_type": "code",
   "execution_count": null,
   "id": "6d597189-72d0-48d5-ba90-df1ea6529539",
   "metadata": {},
   "outputs": [],
   "source": [
    "plot_surface(height_maps[-1], set_lim=False, facecolors=np.dstack([albedos[-1].T, albedos[-1].T, albedos[-1].T]))"
   ]
  },
  {
   "cell_type": "code",
   "execution_count": null,
   "id": "6712440d-b819-4acf-acd9-f5f1c116814e",
   "metadata": {},
   "outputs": [],
   "source": [
    "facecolors = [np.dstack([x.T, x.T, x.T]) for x in albedos]"
   ]
  },
  {
   "cell_type": "code",
   "execution_count": null,
   "id": "b843863e-0b81-4353-89be-b657f9a0ffdd",
   "metadata": {},
   "outputs": [],
   "source": [
    "plot_grid_of_surfaces(surfaces=height_maps, grid=(1, 3), facecolors=facecolors)"
   ]
  },
  {
   "cell_type": "markdown",
   "id": "c6fc7e98-215e-4996-9412-78a900e92404",
   "metadata": {},
   "source": [
    "#### Analyzing face images"
   ]
  },
  {
   "cell_type": "code",
   "execution_count": null,
   "id": "44f631c3-cd9e-4786-aa3f-39bfc9be1729",
   "metadata": {},
   "outputs": [],
   "source": [
    "[image_stack, scriptV, filenames] = load_face_images(image_dir)"
   ]
  },
  {
   "cell_type": "code",
   "execution_count": null,
   "id": "76e42258-7f9c-4263-8826-8a921acaabaf",
   "metadata": {},
   "outputs": [],
   "source": [
    "image_stack.shape"
   ]
  },
  {
   "cell_type": "code",
   "execution_count": null,
   "id": "8c5f1c06-3d2d-4e16-aa5f-b86c0daccbca",
   "metadata": {},
   "outputs": [],
   "source": [
    "# for creating a responsive plot\n",
    "%matplotlib inline"
   ]
  },
  {
   "cell_type": "code",
   "execution_count": null,
   "id": "96824096-5b98-4489-9679-b7601be842b4",
   "metadata": {},
   "outputs": [],
   "source": [
    "fig, ax = plt.subplots(8, 8, figsize=(15, 20))\n",
    "\n",
    "for i in range(8):\n",
    "    for j in range(8):\n",
    "        idx = i * 8 + j\n",
    "        ax[i, j].imshow(image_stack[:, :, idx], cmap=\"gray\")\n",
    "        ax[i, j].set_title(idx)\n",
    "        ax[i, j].set_xticks([])\n",
    "        ax[i, j].set_yticks([])\n",
    "\n",
    "plt.show()"
   ]
  },
  {
   "cell_type": "code",
   "execution_count": null,
   "id": "bd3e8553-8504-444a-88de-1acbd37d610d",
   "metadata": {},
   "outputs": [],
   "source": [
    "annotations = {\n",
    "    \"Corrupted\": [50, 54],\n",
    "    \"Light behind the face\": [3, 7, 10, 13, 18, 25, 26, 33, 41, 43, 46, 48, 58],\n",
    "    \"Non-lambertian\": [14, 19, 22, 38, 63],\n",
    "}"
   ]
  },
  {
   "cell_type": "code",
   "execution_count": null,
   "id": "19080d4f-3c15-4608-b65c-071104ecf7a5",
   "metadata": {},
   "outputs": [],
   "source": [
    "fig, ax = plt.subplots(3, 2, figsize=(3, 6))\n",
    "\n",
    "for i, k in enumerate(list(annotations.keys())):\n",
    "    ax[i, 0].imshow(image_stack[..., annotations[k][0]], cmap=\"gray\")\n",
    "    ax[i, 0].set_title(f\"{k}\", loc=\"left\")\n",
    "    ax[i, 0].set_xticks([])\n",
    "    ax[i, 0].set_yticks([])\n",
    "\n",
    "    ax[i, 1].imshow(image_stack[..., annotations[k][1]], cmap=\"gray\")\n",
    "    ax[i, 1].set_xticks([])\n",
    "    ax[i, 1].set_yticks([])\n",
    "\n",
    "plt.savefig(\"../results/yale_noisy_images.png\", bbox_inches=\"tight\")\n",
    "plt.show()"
   ]
  },
  {
   "cell_type": "code",
   "execution_count": null,
   "id": "74e2dbde-b35b-461e-a670-4d47670cee12",
   "metadata": {},
   "outputs": [],
   "source": [
    "problematic = []\n",
    "for x in annotations:\n",
    "    problematic += annotations[x]"
   ]
  },
  {
   "cell_type": "code",
   "execution_count": null,
   "id": "81ea2eca-e8ad-44fe-8f9f-61121a86f953",
   "metadata": {},
   "outputs": [],
   "source": [
    "new_image_stack = image_stack[..., list(set(range(64)) - set(problematic))]\n",
    "new_scriptV = scriptV[list(set(range(64)) - set(problematic)),...]"
   ]
  },
  {
   "cell_type": "code",
   "execution_count": null,
   "id": "9ca664f0-da47-44cc-8dbc-8a30fcfdc904",
   "metadata": {},
   "outputs": [],
   "source": [
    "new_image_stack.shape, new_scriptV.shape"
   ]
  },
  {
   "cell_type": "code",
   "execution_count": null,
   "id": "d43dbca7-7323-4771-8056-7a0f5dc34633",
   "metadata": {},
   "outputs": [],
   "source": [
    "albedo, normals = estimate_alb_nrm(new_image_stack, new_scriptV, shadow_trick=False)\n",
    "p, q, SE = check_integrability(normals)\n",
    "threshold = 0.005\n",
    "SE[SE <= threshold] = float('nan')\n",
    "height_map = construct_surface( p, q, path_type=\"average\")\n",
    "print('Number of outliers: %d\\n' % np.sum(SE > threshold))\n",
    "# show_results(albedo, normals, height_map, SE, set_lim=False)"
   ]
  },
  {
   "cell_type": "code",
   "execution_count": null,
   "id": "88de9601-2e47-4688-bb19-9cdaf5ab0189",
   "metadata": {},
   "outputs": [],
   "source": [
    "%matplotlib widget"
   ]
  },
  {
   "cell_type": "code",
   "execution_count": null,
   "id": "4b3ca867-c61d-4746-a842-0802401f307f",
   "metadata": {},
   "outputs": [],
   "source": [
    "plot_surface(height_map, set_lim=False, facecolors=np.dstack([albedo.T, albedo.T, albedo.T]))"
   ]
  },
  {
   "cell_type": "code",
   "execution_count": null,
   "id": "8e696e9e-d62d-4d3c-b48d-a1397eb529b9",
   "metadata": {},
   "outputs": [],
   "source": []
  }
 ],
 "metadata": {
  "kernelspec": {
   "display_name": "Python 3 (ipykernel)",
   "language": "python",
   "name": "python3"
  },
  "language_info": {
   "codemirror_mode": {
    "name": "ipython",
    "version": 3
   },
   "file_extension": ".py",
   "mimetype": "text/x-python",
   "name": "python",
   "nbconvert_exporter": "python",
   "pygments_lexer": "ipython3",
   "version": "3.9.7"
  }
 },
 "nbformat": 4,
 "nbformat_minor": 5
}
