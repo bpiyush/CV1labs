{
 "cells": [
  {
   "cell_type": "code",
   "execution_count": 1,
   "id": "ae32799b-04f6-4080-8a85-4291f4ca5ab9",
   "metadata": {},
   "outputs": [],
   "source": [
    "%load_ext autoreload\n",
    "%autoreload 2"
   ]
  },
  {
   "cell_type": "code",
   "execution_count": 2,
   "id": "2aeb1be3-154b-4fb7-aefb-1f23add789e2",
   "metadata": {},
   "outputs": [
    {
     "name": "stdout",
     "output_type": "stream",
     "text": [
      "sys.version_info(major=3, minor=9, micro=7, releaselevel='final', serial=0)\n"
     ]
    }
   ],
   "source": [
    "from os.path import join\n",
    "import numpy as np\n",
    "from tqdm import tqdm\n",
    "\n",
    "from sklearn.manifold import TSNE\n",
    "from sklearn.decomposition import PCA\n",
    "import seaborn as sns\n",
    "import pandas as pd\n",
    "import matplotlib.pyplot as plt\n",
    "\n",
    "from constants import DATA_DIR, idx_to_class\n",
    "from classify import STL, BoWClassifier, relevant_classes"
   ]
  },
  {
   "cell_type": "markdown",
   "id": "0a463781-1a41-402b-a080-c008ac90f43b",
   "metadata": {},
   "source": [
    "### Dataset object"
   ]
  },
  {
   "cell_type": "code",
   "execution_count": 3,
   "id": "14e62b71-a41d-432e-b193-8ae9d0bb1969",
   "metadata": {},
   "outputs": [],
   "source": [
    "TRAIN_X_PATH = join(DATA_DIR, \"train_X.bin\")\n",
    "TRAIN_y_PATH = join(DATA_DIR, \"train_y.bin\")\n",
    "\n",
    "TEST_X_PATH = join(DATA_DIR, \"test_X.bin\")\n",
    "TEST_y_PATH = join(DATA_DIR, \"test_y.bin\")"
   ]
  },
  {
   "cell_type": "markdown",
   "id": "5016c19c-99a6-41fc-8425-69c7710e406f",
   "metadata": {},
   "source": [
    "### Run experiment"
   ]
  },
  {
   "cell_type": "code",
   "execution_count": 4,
   "id": "0714cd40-df40-4b8b-bf2d-a45b5b3ca2ff",
   "metadata": {},
   "outputs": [],
   "source": [
    "bow = BoWClassifier(n_clusters=500)"
   ]
  },
  {
   "cell_type": "code",
   "execution_count": 10,
   "id": "2542fec9-8d60-4de0-948d-096d1f66c373",
   "metadata": {},
   "outputs": [],
   "source": [
    "C_values = [0.1, 1.0, 5.0]\n",
    "# C_values = [0.1]\n",
    "kernel_values = [\"poly\", \"rbf\", \"linear\"]\n",
    "# kernel_values = [\"poly\"]"
   ]
  },
  {
   "cell_type": "code",
   "execution_count": 11,
   "id": "ad16babb-d408-4c75-8fe4-151f52e1eb06",
   "metadata": {
    "collapsed": true,
    "jupyter": {
     "outputs_hidden": true
    },
    "tags": []
   },
   "outputs": [
    {
     "name": "stdout",
     "output_type": "stream",
     "text": [
      "::::::::: Loaded dataset with images ((5000, 96, 96, 3)) and labels ((5000,)) ::::::::::\n"
     ]
    },
    {
     "name": "stderr",
     "output_type": "stream",
     "text": [
      "Extracting image features with SIFTDescriptorExtractor: 100%|██████████| 5000/5000 [00:09<00:00, 538.52it/s]                                \n"
     ]
    },
    {
     "name": "stdout",
     "output_type": "stream",
     "text": [
      "::::: Loading pre-saved k-means clustering model from ./checkpoints/kmeans_sift_500.pkl\n"
     ]
    },
    {
     "name": "stderr",
     "output_type": "stream",
     "text": [
      "Encoding features: 100%|██████████| 1250/1250 [00:01<00:00, 970.81it/s]                                                                     \n"
     ]
    },
    {
     "name": "stdout",
     "output_type": "stream",
     "text": [
      "............... SVM Trained with following results on the training set ...............\n",
      "..... Model: OneVsRestClassifier(estimator=SVC(C=0.1, kernel='poly', probability=True))\n",
      "..... Dataset: kMeans: X (93203, 128) SVM: X ((1250, 500))\n",
      "..... Hyperparameters: Number of clusters 500\n",
      "|                   |   airplane |   bird |      car |   horse |     ship |     mean |\n",
      "|:------------------|-----------:|-------:|---------:|--------:|---------:|---------:|\n",
      "| Average Precision |   0.997983 |      1 | 0.999952 |       1 | 0.992624 | 0.998112 |\n",
      "...... Accuracy: 0.9984\n",
      "::::::::: Loaded dataset with images ((8000, 96, 96, 3)) and labels ((8000,)) ::::::::::\n"
     ]
    },
    {
     "name": "stderr",
     "output_type": "stream",
     "text": [
      "Extracting image features with SIFTDescriptorExtractor: 100%|██████████| 8000/8000 [00:14<00:00, 537.21it/s]                                \n",
      "Encoding features: 100%|██████████| 4000/4000 [00:07<00:00, 531.36it/s]                                                                     \n"
     ]
    },
    {
     "name": "stdout",
     "output_type": "stream",
     "text": [
      "............... SVM Trained with following results on the test set ...............\n",
      "..... Model: OneVsRestClassifier(estimator=SVC(C=0.1, kernel='poly', probability=True))\n",
      "..... Hyperparameters: Number of clusters 500\n",
      "|                   |   airplane |     bird |      car |    horse |     ship |     mean |\n",
      "|:------------------|-----------:|---------:|---------:|---------:|---------:|---------:|\n",
      "| Average Precision |   0.563556 | 0.263398 | 0.336816 | 0.308961 | 0.512073 | 0.396961 |\n",
      "...... Accuracy: 0.5095\n",
      "::::::::: Loaded dataset with images ((5000, 96, 96, 3)) and labels ((5000,)) ::::::::::\n"
     ]
    },
    {
     "name": "stderr",
     "output_type": "stream",
     "text": [
      "Extracting image features with SIFTDescriptorExtractor: 100%|██████████| 5000/5000 [00:09<00:00, 540.47it/s]                                \n"
     ]
    },
    {
     "name": "stdout",
     "output_type": "stream",
     "text": [
      "::::: Loading pre-saved k-means clustering model from ./checkpoints/kmeans_sift_500.pkl\n"
     ]
    },
    {
     "name": "stderr",
     "output_type": "stream",
     "text": [
      "Encoding features: 100%|██████████| 1250/1250 [00:01<00:00, 844.53it/s]                                                                     \n"
     ]
    },
    {
     "name": "stdout",
     "output_type": "stream",
     "text": [
      "............... SVM Trained with following results on the training set ...............\n",
      "..... Model: OneVsRestClassifier(estimator=SVC(C=0.1, probability=True))\n",
      "..... Dataset: kMeans: X (93203, 128) SVM: X ((1250, 500))\n",
      "..... Hyperparameters: Number of clusters 500\n",
      "|                   |   airplane |     bird |      car |    horse |     ship |     mean |\n",
      "|:------------------|-----------:|---------:|---------:|---------:|---------:|---------:|\n",
      "| Average Precision |   0.985854 | 0.996045 | 0.994222 | 0.977967 | 0.994971 | 0.989812 |\n",
      "...... Accuracy: 0.9712\n",
      "::::::::: Loaded dataset with images ((8000, 96, 96, 3)) and labels ((8000,)) ::::::::::\n"
     ]
    },
    {
     "name": "stderr",
     "output_type": "stream",
     "text": [
      "Extracting image features with SIFTDescriptorExtractor: 100%|██████████| 8000/8000 [00:14<00:00, 537.49it/s]                                \n",
      "Encoding features: 100%|██████████| 4000/4000 [00:09<00:00, 422.72it/s]                                                                     \n"
     ]
    },
    {
     "name": "stdout",
     "output_type": "stream",
     "text": [
      "............... SVM Trained with following results on the test set ...............\n",
      "..... Model: OneVsRestClassifier(estimator=SVC(C=0.1, probability=True))\n",
      "..... Hyperparameters: Number of clusters 500\n",
      "|                   |   airplane |     bird |      car |    horse |    ship |     mean |\n",
      "|:------------------|-----------:|---------:|---------:|---------:|--------:|---------:|\n",
      "| Average Precision |   0.617142 | 0.473688 | 0.619896 | 0.607088 | 0.59924 | 0.583411 |\n",
      "...... Accuracy: 0.54275\n",
      "::::::::: Loaded dataset with images ((5000, 96, 96, 3)) and labels ((5000,)) ::::::::::\n"
     ]
    },
    {
     "name": "stderr",
     "output_type": "stream",
     "text": [
      "Extracting image features with SIFTDescriptorExtractor: 100%|██████████| 5000/5000 [00:09<00:00, 508.34it/s]                                \n"
     ]
    },
    {
     "name": "stdout",
     "output_type": "stream",
     "text": [
      "::::: Loading pre-saved k-means clustering model from ./checkpoints/kmeans_sift_500.pkl\n"
     ]
    },
    {
     "name": "stderr",
     "output_type": "stream",
     "text": [
      "Encoding features: 100%|██████████| 1250/1250 [00:02<00:00, 493.68it/s]                                                                     \n"
     ]
    },
    {
     "name": "stdout",
     "output_type": "stream",
     "text": [
      "............... SVM Trained with following results on the training set ...............\n",
      "..... Model: OneVsRestClassifier(estimator=SVC(C=0.1, kernel='linear', probability=True))\n",
      "..... Dataset: kMeans: X (93203, 128) SVM: X ((1250, 500))\n",
      "..... Hyperparameters: Number of clusters 500\n",
      "|                   |   airplane |     bird |      car |    horse |     ship |     mean |\n",
      "|:------------------|-----------:|---------:|---------:|---------:|---------:|---------:|\n",
      "| Average Precision |   0.722024 | 0.886087 | 0.855632 | 0.841195 | 0.686604 | 0.798309 |\n",
      "...... Accuracy: 0.7024\n",
      "::::::::: Loaded dataset with images ((8000, 96, 96, 3)) and labels ((8000,)) ::::::::::\n"
     ]
    },
    {
     "name": "stderr",
     "output_type": "stream",
     "text": [
      "Extracting image features with SIFTDescriptorExtractor: 100%|██████████| 8000/8000 [00:14<00:00, 540.24it/s]                                \n",
      "Encoding features: 100%|██████████| 4000/4000 [00:04<00:00, 834.35it/s]                                                                     \n"
     ]
    },
    {
     "name": "stdout",
     "output_type": "stream",
     "text": [
      "............... SVM Trained with following results on the test set ...............\n",
      "..... Model: OneVsRestClassifier(estimator=SVC(C=0.1, kernel='linear', probability=True))\n",
      "..... Hyperparameters: Number of clusters 500\n",
      "|                   |   airplane |    bird |      car |    horse |     ship |     mean |\n",
      "|:------------------|-----------:|--------:|---------:|---------:|---------:|---------:|\n",
      "| Average Precision |   0.569612 | 0.40642 | 0.541845 | 0.394998 | 0.552011 | 0.492977 |\n",
      "...... Accuracy: 0.481\n",
      "::::::::: Loaded dataset with images ((5000, 96, 96, 3)) and labels ((5000,)) ::::::::::\n"
     ]
    },
    {
     "name": "stderr",
     "output_type": "stream",
     "text": [
      "Extracting image features with SIFTDescriptorExtractor: 100%|██████████| 5000/5000 [00:09<00:00, 541.35it/s]                                \n"
     ]
    },
    {
     "name": "stdout",
     "output_type": "stream",
     "text": [
      "::::: Loading pre-saved k-means clustering model from ./checkpoints/kmeans_sift_500.pkl\n"
     ]
    },
    {
     "name": "stderr",
     "output_type": "stream",
     "text": [
      "Encoding features: 100%|██████████| 1250/1250 [00:01<00:00, 964.54it/s]                                                                     \n"
     ]
    },
    {
     "name": "stdout",
     "output_type": "stream",
     "text": [
      "............... SVM Trained with following results on the training set ...............\n",
      "..... Model: OneVsRestClassifier(estimator=SVC(kernel='poly', probability=True))\n",
      "..... Dataset: kMeans: X (93203, 128) SVM: X ((1250, 500))\n",
      "..... Hyperparameters: Number of clusters 500\n",
      "|                   |   airplane |   bird |      car |   horse |   ship |     mean |\n",
      "|:------------------|-----------:|-------:|---------:|--------:|-------:|---------:|\n",
      "| Average Precision |          1 |      1 | 0.999984 |       1 |      1 | 0.999997 |\n",
      "...... Accuracy: 0.9992\n",
      "::::::::: Loaded dataset with images ((8000, 96, 96, 3)) and labels ((8000,)) ::::::::::\n"
     ]
    },
    {
     "name": "stderr",
     "output_type": "stream",
     "text": [
      "Extracting image features with SIFTDescriptorExtractor: 100%|██████████| 8000/8000 [00:15<00:00, 532.27it/s]                                \n",
      "Encoding features: 100%|██████████| 4000/4000 [00:04<00:00, 921.40it/s]                                                                     \n"
     ]
    },
    {
     "name": "stdout",
     "output_type": "stream",
     "text": [
      "............... SVM Trained with following results on the test set ...............\n",
      "..... Model: OneVsRestClassifier(estimator=SVC(kernel='poly', probability=True))\n",
      "..... Hyperparameters: Number of clusters 500\n",
      "|                   |   airplane |     bird |     car |   horse |     ship |     mean |\n",
      "|:------------------|-----------:|---------:|--------:|--------:|---------:|---------:|\n",
      "| Average Precision |   0.546609 | 0.291055 | 0.34642 | 0.32363 | 0.544501 | 0.410443 |\n",
      "...... Accuracy: 0.53125\n",
      "::::::::: Loaded dataset with images ((5000, 96, 96, 3)) and labels ((5000,)) ::::::::::\n"
     ]
    },
    {
     "name": "stderr",
     "output_type": "stream",
     "text": [
      "Extracting image features with SIFTDescriptorExtractor: 100%|██████████| 5000/5000 [00:09<00:00, 534.62it/s]                                \n"
     ]
    },
    {
     "name": "stdout",
     "output_type": "stream",
     "text": [
      "::::: Loading pre-saved k-means clustering model from ./checkpoints/kmeans_sift_500.pkl\n"
     ]
    },
    {
     "name": "stderr",
     "output_type": "stream",
     "text": [
      "Encoding features: 100%|██████████| 1250/1250 [00:01<00:00, 955.29it/s]                                                                     \n"
     ]
    },
    {
     "name": "stdout",
     "output_type": "stream",
     "text": [
      "............... SVM Trained with following results on the training set ...............\n",
      "..... Model: OneVsRestClassifier(estimator=SVC(probability=True))\n",
      "..... Dataset: kMeans: X (93203, 128) SVM: X ((1250, 500))\n",
      "..... Hyperparameters: Number of clusters 500\n",
      "|                   |   airplane |     bird |      car |    horse |     ship |     mean |\n",
      "|:------------------|-----------:|---------:|---------:|---------:|---------:|---------:|\n",
      "| Average Precision |   0.998664 | 0.996061 | 0.994529 | 0.978707 | 0.995155 | 0.992623 |\n",
      "...... Accuracy: 0.9744\n",
      "::::::::: Loaded dataset with images ((8000, 96, 96, 3)) and labels ((8000,)) ::::::::::\n"
     ]
    },
    {
     "name": "stderr",
     "output_type": "stream",
     "text": [
      "Extracting image features with SIFTDescriptorExtractor: 100%|██████████| 8000/8000 [00:15<00:00, 507.89it/s]                                \n",
      "Encoding features: 100%|██████████| 4000/4000 [00:05<00:00, 760.67it/s]                                                                     \n"
     ]
    },
    {
     "name": "stdout",
     "output_type": "stream",
     "text": [
      "............... SVM Trained with following results on the test set ...............\n",
      "..... Model: OneVsRestClassifier(estimator=SVC(probability=True))\n",
      "..... Hyperparameters: Number of clusters 500\n",
      "|                   |   airplane |     bird |     car |    horse |     ship |     mean |\n",
      "|:------------------|-----------:|---------:|--------:|---------:|---------:|---------:|\n",
      "| Average Precision |   0.623879 | 0.473548 | 0.61977 | 0.606844 | 0.599587 | 0.584726 |\n",
      "...... Accuracy: 0.5485\n",
      "::::::::: Loaded dataset with images ((5000, 96, 96, 3)) and labels ((5000,)) ::::::::::\n"
     ]
    },
    {
     "name": "stderr",
     "output_type": "stream",
     "text": [
      "Extracting image features with SIFTDescriptorExtractor: 100%|██████████| 5000/5000 [00:09<00:00, 517.71it/s]                                \n"
     ]
    },
    {
     "name": "stdout",
     "output_type": "stream",
     "text": [
      "::::: Loading pre-saved k-means clustering model from ./checkpoints/kmeans_sift_500.pkl\n"
     ]
    },
    {
     "name": "stderr",
     "output_type": "stream",
     "text": [
      "Encoding features: 100%|██████████| 1250/1250 [00:02<00:00, 613.06it/s]                                                                     \n"
     ]
    },
    {
     "name": "stdout",
     "output_type": "stream",
     "text": [
      "............... SVM Trained with following results on the training set ...............\n",
      "..... Model: OneVsRestClassifier(estimator=SVC(kernel='linear', probability=True))\n",
      "..... Dataset: kMeans: X (93203, 128) SVM: X ((1250, 500))\n",
      "..... Hyperparameters: Number of clusters 500\n",
      "|                   |   airplane |     bird |      car |    horse |     ship |     mean |\n",
      "|:------------------|-----------:|---------:|---------:|---------:|---------:|---------:|\n",
      "| Average Precision |   0.721971 | 0.894924 | 0.858537 | 0.848622 | 0.687267 | 0.802264 |\n",
      "...... Accuracy: 0.7072\n",
      "::::::::: Loaded dataset with images ((8000, 96, 96, 3)) and labels ((8000,)) ::::::::::\n"
     ]
    },
    {
     "name": "stderr",
     "output_type": "stream",
     "text": [
      "Extracting image features with SIFTDescriptorExtractor: 100%|██████████| 8000/8000 [00:15<00:00, 517.72it/s]                                \n",
      "Encoding features: 100%|██████████| 4000/4000 [00:06<00:00, 653.27it/s]                                                                     \n"
     ]
    },
    {
     "name": "stdout",
     "output_type": "stream",
     "text": [
      "............... SVM Trained with following results on the test set ...............\n",
      "..... Model: OneVsRestClassifier(estimator=SVC(kernel='linear', probability=True))\n",
      "..... Hyperparameters: Number of clusters 500\n",
      "|                   |   airplane |     bird |      car |    horse |     ship |     mean |\n",
      "|:------------------|-----------:|---------:|---------:|---------:|---------:|---------:|\n",
      "| Average Precision |   0.569405 | 0.412724 | 0.538556 | 0.399037 | 0.552845 | 0.494513 |\n",
      "...... Accuracy: 0.48475\n",
      "::::::::: Loaded dataset with images ((5000, 96, 96, 3)) and labels ((5000,)) ::::::::::\n"
     ]
    },
    {
     "name": "stderr",
     "output_type": "stream",
     "text": [
      "Extracting image features with SIFTDescriptorExtractor: 100%|██████████| 5000/5000 [00:10<00:00, 498.39it/s]                                \n"
     ]
    },
    {
     "name": "stdout",
     "output_type": "stream",
     "text": [
      "::::: Loading pre-saved k-means clustering model from ./checkpoints/kmeans_sift_500.pkl\n"
     ]
    },
    {
     "name": "stderr",
     "output_type": "stream",
     "text": [
      "Encoding features: 100%|██████████| 1250/1250 [00:02<00:00, 434.73it/s]                                                                     \n"
     ]
    },
    {
     "name": "stdout",
     "output_type": "stream",
     "text": [
      "............... SVM Trained with following results on the training set ...............\n",
      "..... Model: OneVsRestClassifier(estimator=SVC(C=5.0, kernel='poly', probability=True))\n",
      "..... Dataset: kMeans: X (93203, 128) SVM: X ((1250, 500))\n",
      "..... Hyperparameters: Number of clusters 500\n",
      "|                   |   airplane |   bird |   car |   horse |   ship |   mean |\n",
      "|:------------------|-----------:|-------:|------:|--------:|-------:|-------:|\n",
      "| Average Precision |          1 |      1 |     1 |       1 |      1 |      1 |\n",
      "...... Accuracy: 0.9992\n",
      "::::::::: Loaded dataset with images ((8000, 96, 96, 3)) and labels ((8000,)) ::::::::::\n"
     ]
    },
    {
     "name": "stderr",
     "output_type": "stream",
     "text": [
      "Extracting image features with SIFTDescriptorExtractor: 100%|██████████| 8000/8000 [00:15<00:00, 524.92it/s]                                \n",
      "Encoding features: 100%|██████████| 4000/4000 [00:05<00:00, 679.14it/s]                                                                     \n"
     ]
    },
    {
     "name": "stdout",
     "output_type": "stream",
     "text": [
      "............... SVM Trained with following results on the test set ...............\n",
      "..... Model: OneVsRestClassifier(estimator=SVC(C=5.0, kernel='poly', probability=True))\n",
      "..... Hyperparameters: Number of clusters 500\n",
      "|                   |   airplane |    bird |      car |   horse |     ship |     mean |\n",
      "|:------------------|-----------:|--------:|---------:|--------:|---------:|---------:|\n",
      "| Average Precision |    0.53642 | 0.34554 | 0.405161 | 0.40179 | 0.560548 | 0.449892 |\n",
      "...... Accuracy: 0.45375\n",
      "::::::::: Loaded dataset with images ((5000, 96, 96, 3)) and labels ((5000,)) ::::::::::\n"
     ]
    },
    {
     "name": "stderr",
     "output_type": "stream",
     "text": [
      "Extracting image features with SIFTDescriptorExtractor: 100%|██████████| 5000/5000 [00:09<00:00, 516.43it/s]                                \n"
     ]
    },
    {
     "name": "stdout",
     "output_type": "stream",
     "text": [
      "::::: Loading pre-saved k-means clustering model from ./checkpoints/kmeans_sift_500.pkl\n"
     ]
    },
    {
     "name": "stderr",
     "output_type": "stream",
     "text": [
      "Encoding features: 100%|██████████| 1250/1250 [00:02<00:00, 624.63it/s]                                                                     \n"
     ]
    },
    {
     "name": "stdout",
     "output_type": "stream",
     "text": [
      "............... SVM Trained with following results on the training set ...............\n",
      "..... Model: OneVsRestClassifier(estimator=SVC(C=5.0, probability=True))\n",
      "..... Dataset: kMeans: X (93203, 128) SVM: X ((1250, 500))\n",
      "..... Hyperparameters: Number of clusters 500\n",
      "|                   |   airplane |   bird |   car |   horse |   ship |   mean |\n",
      "|:------------------|-----------:|-------:|------:|--------:|-------:|-------:|\n",
      "| Average Precision |          1 |      1 |     1 |       1 |      1 |      1 |\n",
      "...... Accuracy: 0.9992\n",
      "::::::::: Loaded dataset with images ((8000, 96, 96, 3)) and labels ((8000,)) ::::::::::\n"
     ]
    },
    {
     "name": "stderr",
     "output_type": "stream",
     "text": [
      "Extracting image features with SIFTDescriptorExtractor: 100%|██████████| 8000/8000 [00:15<00:00, 528.19it/s]                                \n",
      "Encoding features: 100%|██████████| 4000/4000 [00:06<00:00, 623.72it/s]                                                                     \n"
     ]
    },
    {
     "name": "stdout",
     "output_type": "stream",
     "text": [
      "............... SVM Trained with following results on the test set ...............\n",
      "..... Model: OneVsRestClassifier(estimator=SVC(C=5.0, probability=True))\n",
      "..... Hyperparameters: Number of clusters 500\n",
      "|                   |   airplane |     bird |      car |    horse |     ship |    mean |\n",
      "|:------------------|-----------:|---------:|---------:|---------:|---------:|--------:|\n",
      "| Average Precision |   0.607973 | 0.456794 | 0.620636 | 0.580245 | 0.570204 | 0.56717 |\n",
      "...... Accuracy: 0.54225\n",
      "::::::::: Loaded dataset with images ((5000, 96, 96, 3)) and labels ((5000,)) ::::::::::\n"
     ]
    },
    {
     "name": "stderr",
     "output_type": "stream",
     "text": [
      "Extracting image features with SIFTDescriptorExtractor: 100%|██████████| 5000/5000 [00:09<00:00, 512.31it/s]                                \n"
     ]
    },
    {
     "name": "stdout",
     "output_type": "stream",
     "text": [
      "::::: Loading pre-saved k-means clustering model from ./checkpoints/kmeans_sift_500.pkl\n"
     ]
    },
    {
     "name": "stderr",
     "output_type": "stream",
     "text": [
      "Encoding features: 100%|██████████| 1250/1250 [00:02<00:00, 496.62it/s]                                                                     \n"
     ]
    },
    {
     "name": "stdout",
     "output_type": "stream",
     "text": [
      "............... SVM Trained with following results on the training set ...............\n",
      "..... Model: OneVsRestClassifier(estimator=SVC(C=5.0, kernel='linear', probability=True))\n",
      "..... Dataset: kMeans: X (93203, 128) SVM: X ((1250, 500))\n",
      "..... Hyperparameters: Number of clusters 500\n",
      "|                   |   airplane |     bird |     car |    horse |     ship |     mean |\n",
      "|:------------------|-----------:|---------:|--------:|---------:|---------:|---------:|\n",
      "| Average Precision |   0.734972 | 0.896284 | 0.85821 | 0.847561 | 0.738848 | 0.815175 |\n",
      "...... Accuracy: 0.7248\n",
      "::::::::: Loaded dataset with images ((8000, 96, 96, 3)) and labels ((8000,)) ::::::::::\n"
     ]
    },
    {
     "name": "stderr",
     "output_type": "stream",
     "text": [
      "Extracting image features with SIFTDescriptorExtractor: 100%|██████████| 8000/8000 [00:15<00:00, 510.58it/s]                                \n",
      "Encoding features: 100%|██████████| 4000/4000 [00:07<00:00, 547.38it/s]                                                                     \n"
     ]
    },
    {
     "name": "stdout",
     "output_type": "stream",
     "text": [
      "............... SVM Trained with following results on the test set ...............\n",
      "..... Model: OneVsRestClassifier(estimator=SVC(C=5.0, kernel='linear', probability=True))\n",
      "..... Hyperparameters: Number of clusters 500\n",
      "|                   |   airplane |     bird |      car |    horse |     ship |     mean |\n",
      "|:------------------|-----------:|---------:|---------:|---------:|---------:|---------:|\n",
      "| Average Precision |   0.572696 | 0.412456 | 0.538236 | 0.399172 | 0.574708 | 0.499454 |\n",
      "...... Accuracy: 0.49125\n"
     ]
    }
   ],
   "source": [
    "df = pd.DataFrame(None, index=C_values, columns=kernel_values)\n",
    "\n",
    "for C in C_values:\n",
    "    for kernel in kernel_values:\n",
    "        svm_args = dict(C=C, kernel=kernel)\n",
    "        \n",
    "        bow = BoWClassifier(n_clusters=500, svm_args=svm_args)\n",
    "\n",
    "        bow.fit(\n",
    "            train_data_path=TRAIN_X_PATH,\n",
    "            train_label_path=TRAIN_y_PATH,\n",
    "            show_steps=False,\n",
    "        )\n",
    "        class_wise_ap, accuracy, svm_features, svm_labels, svm_pred_labels = bow.evaluate(\n",
    "            test_data_path=TEST_X_PATH,\n",
    "            test_label_path=TEST_y_PATH,\n",
    "            show_steps=False,\n",
    "        )\n",
    "        df.at[C, kernel] = class_wise_ap[\"mean\"]"
   ]
  },
  {
   "cell_type": "code",
   "execution_count": 12,
   "id": "47ebd63c-dbae-446e-af91-4e6f6a3c1aba",
   "metadata": {},
   "outputs": [
    {
     "data": {
      "text/html": [
       "<div>\n",
       "<style scoped>\n",
       "    .dataframe tbody tr th:only-of-type {\n",
       "        vertical-align: middle;\n",
       "    }\n",
       "\n",
       "    .dataframe tbody tr th {\n",
       "        vertical-align: top;\n",
       "    }\n",
       "\n",
       "    .dataframe thead th {\n",
       "        text-align: right;\n",
       "    }\n",
       "</style>\n",
       "<table border=\"1\" class=\"dataframe\">\n",
       "  <thead>\n",
       "    <tr style=\"text-align: right;\">\n",
       "      <th></th>\n",
       "      <th>poly</th>\n",
       "      <th>rbf</th>\n",
       "      <th>linear</th>\n",
       "    </tr>\n",
       "  </thead>\n",
       "  <tbody>\n",
       "    <tr>\n",
       "      <th>0.1</th>\n",
       "      <td>0.396961</td>\n",
       "      <td>0.583411</td>\n",
       "      <td>0.492977</td>\n",
       "    </tr>\n",
       "    <tr>\n",
       "      <th>1.0</th>\n",
       "      <td>0.410443</td>\n",
       "      <td>0.584726</td>\n",
       "      <td>0.494513</td>\n",
       "    </tr>\n",
       "    <tr>\n",
       "      <th>5.0</th>\n",
       "      <td>0.449892</td>\n",
       "      <td>0.56717</td>\n",
       "      <td>0.499454</td>\n",
       "    </tr>\n",
       "  </tbody>\n",
       "</table>\n",
       "</div>"
      ],
      "text/plain": [
       "         poly       rbf    linear\n",
       "0.1  0.396961  0.583411  0.492977\n",
       "1.0  0.410443  0.584726  0.494513\n",
       "5.0  0.449892   0.56717  0.499454"
      ]
     },
     "execution_count": 12,
     "metadata": {},
     "output_type": "execute_result"
    }
   ],
   "source": [
    "df"
   ]
  },
  {
   "cell_type": "code",
   "execution_count": 14,
   "id": "3b529f60-b566-4add-8aad-95e944be3957",
   "metadata": {},
   "outputs": [
    {
     "name": "stdout",
     "output_type": "stream",
     "text": [
      "\\begin{tabular}{llll}\n",
      "\\toprule\n",
      "{} &      poly &       rbf &    linear \\\\\n",
      "\\midrule\n",
      "0.1 &  0.396961 &  0.583411 &  0.492977 \\\\\n",
      "1.0 &  0.410443 &  0.584726 &  0.494513 \\\\\n",
      "5.0 &  0.449892 &   0.56717 &  0.499454 \\\\\n",
      "\\bottomrule\n",
      "\\end{tabular}\n",
      "\n"
     ]
    }
   ],
   "source": [
    "print(df.to_latex())"
   ]
  },
  {
   "cell_type": "code",
   "execution_count": null,
   "id": "4b71658a-3fb4-482b-a86c-ec5d77aa7b7d",
   "metadata": {},
   "outputs": [],
   "source": []
  }
 ],
 "metadata": {
  "kernelspec": {
   "display_name": "Python 3 (ipykernel)",
   "language": "python",
   "name": "python3"
  },
  "language_info": {
   "codemirror_mode": {
    "name": "ipython",
    "version": 3
   },
   "file_extension": ".py",
   "mimetype": "text/x-python",
   "name": "python",
   "nbconvert_exporter": "python",
   "pygments_lexer": "ipython3",
   "version": "3.9.7"
  }
 },
 "nbformat": 4,
 "nbformat_minor": 5
}
