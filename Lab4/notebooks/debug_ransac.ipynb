{
 "cells": [
  {
   "cell_type": "code",
   "execution_count": null,
   "id": "25e83a07-cb9f-4423-affc-f162324dea80",
   "metadata": {},
   "outputs": [],
   "source": [
    "%load_ext autoreload\n",
    "%autoreload 2"
   ]
  },
  {
   "cell_type": "code",
   "execution_count": null,
   "id": "ed7c05ad-f4e2-4e7d-a933-96cffc1c0fbc",
   "metadata": {},
   "outputs": [],
   "source": [
    "import numpy as np\n",
    "import cv2\n",
    "\n",
    "from keypoint_matching import KeypointMatcher\n",
    "from RANSAC import ImageAlignment\n",
    "from utils import show_two_images, show_single_image"
   ]
  },
  {
   "cell_type": "code",
   "execution_count": null,
   "id": "d5be822d-5944-4786-838d-aa6f92d1f9d4",
   "metadata": {},
   "outputs": [],
   "source": [
    "boat1 = cv2.imread('boat1.pgm', cv2.IMREAD_GRAYSCALE)\n",
    "boat2 = cv2.imread('boat2.pgm', cv2.IMREAD_GRAYSCALE)\n",
    "show_two_images(boat1, boat2, title=\"Sample pair of images.\")\n",
    "\n",
    "# get matches\n",
    "kp_matcher = KeypointMatcher(contrastThreshold=0.1, edgeThreshold=5)\n",
    "matches, kp1, des1, kp2, des2 = kp_matcher.match(boat1, boat2, show_matches=True)\n",
    "\n",
    "image_alignment = ImageAlignment()\n",
    "params = image_alignment.align(boat1, kp1, boat2, kp2, matches)"
   ]
  },
  {
   "cell_type": "code",
   "execution_count": null,
   "id": "513a1399-14c4-4196-968e-f52f46a62c92",
   "metadata": {},
   "outputs": [],
   "source": [
    "params"
   ]
  },
  {
   "cell_type": "code",
   "execution_count": null,
   "id": "0d78212e-b3ce-4427-9603-365b65c2445d",
   "metadata": {},
   "outputs": [],
   "source": [
    "# Apply the affine transformation using cv2.warpAffine()\n",
    "rows, cols = boat1.shape[:2]\n",
    "\n",
    "M = np.zeros((2, 3))\n",
    "M[0, :2] = params[:2]\n",
    "M[1, :2] = params[2:4]\n",
    "M[0, 2] = params[4]\n",
    "M[1, 2] = params[5]\n",
    "\n",
    "boat1_warped = cv2.warpAffine(boat1, M, (cols,rows))"
   ]
  },
  {
   "cell_type": "code",
   "execution_count": null,
   "id": "8f1c6841-5575-454e-bbac-53e33c120f91",
   "metadata": {},
   "outputs": [],
   "source": [
    "show_two_images(boat1, boat2)"
   ]
  },
  {
   "cell_type": "code",
   "execution_count": null,
   "id": "abe6f83a-c00c-4fcc-89f5-7ee9737b51a7",
   "metadata": {},
   "outputs": [],
   "source": [
    "show_two_images(boat1, boat1_warped)"
   ]
  },
  {
   "cell_type": "code",
   "execution_count": null,
   "id": "71a4e2ab-a077-4f3f-b6c2-d22e23c42898",
   "metadata": {},
   "outputs": [],
   "source": []
  }
 ],
 "metadata": {
  "kernelspec": {
   "display_name": "Python 3 (ipykernel)",
   "language": "python",
   "name": "python3"
  },
  "language_info": {
   "codemirror_mode": {
    "name": "ipython",
    "version": 3
   },
   "file_extension": ".py",
   "mimetype": "text/x-python",
   "name": "python",
   "nbconvert_exporter": "python",
   "pygments_lexer": "ipython3",
   "version": "3.9.7"
  }
 },
 "nbformat": 4,
 "nbformat_minor": 5
}
