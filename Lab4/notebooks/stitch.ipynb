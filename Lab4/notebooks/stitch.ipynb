{
 "cells": [
  {
   "cell_type": "code",
   "execution_count": null,
   "id": "6ee39b7a-ff78-41a8-9275-fa4c548cf049",
   "metadata": {},
   "outputs": [],
   "source": [
    "%load_ext autoreload\n",
    "%autoreload 2"
   ]
  },
  {
   "cell_type": "code",
   "execution_count": null,
   "id": "61385310-58f0-4e83-bcde-462797a84eb3",
   "metadata": {},
   "outputs": [],
   "source": [
    "import numpy as np\n",
    "import cv2\n",
    "import matplotlib.pyplot as plt\n",
    "from matplotlib.patches import Rectangle, Polygon\n",
    "\n",
    "from keypoint_matching import KeypointMatcher\n",
    "from RANSAC import ImageAlignment, project_2d_to_6d, project_1d_to_2d\n",
    "from utils import show_two_images"
   ]
  },
  {
   "cell_type": "code",
   "execution_count": null,
   "id": "357d76ed-62a8-4c3d-b8f8-09f8db0d1d32",
   "metadata": {},
   "outputs": [],
   "source": [
    "# read & show images\n",
    "left = cv2.imread('left.jpg')\n",
    "left = cv2.cvtColor(left, cv2.COLOR_BGR2RGB)\n",
    "left_gray = cv2.cvtColor(left, cv2.COLOR_RGB2GRAY)\n",
    "right = cv2.imread('right.jpg')\n",
    "right = cv2.cvtColor(right, cv2.COLOR_BGR2RGB)\n",
    "right_gray = cv2.cvtColor(right, cv2.COLOR_RGB2GRAY)\n",
    "show_two_images(left, right, title=\"Given pair of images.\")"
   ]
  },
  {
   "cell_type": "code",
   "execution_count": null,
   "id": "591d1041-af16-432b-b3c6-7ae4a3a805a0",
   "metadata": {},
   "outputs": [],
   "source": [
    "# get matches\n",
    "kp_matcher = KeypointMatcher()\n",
    "matches, kp1, des1, kp2, des2 = kp_matcher.match(left_gray, right_gray, show_matches=True)"
   ]
  },
  {
   "cell_type": "code",
   "execution_count": null,
   "id": "0a3cad13-00cb-40b3-ad88-1cb8ea1374fb",
   "metadata": {},
   "outputs": [],
   "source": [
    "image_alignment = ImageAlignment()\n",
    "best_params = image_alignment.align(\n",
    "    left_gray, kp1, right_gray, kp2, matches, show_warped_image=True, num_matches=4, max_iter=2000\n",
    ")"
   ]
  },
  {
   "cell_type": "code",
   "execution_count": null,
   "id": "0b2fa774-0bbb-42ce-ace6-dc2f141a8848",
   "metadata": {},
   "outputs": [],
   "source": []
  },
  {
   "cell_type": "code",
   "execution_count": null,
   "id": "02632094-0eb1-468d-883d-7c34e3627faf",
   "metadata": {},
   "outputs": [],
   "source": [
    "# try transforming image 2 into image 1"
   ]
  },
  {
   "cell_type": "code",
   "execution_count": null,
   "id": "f96e3f96-9228-44af-badd-5729bd14cb76",
   "metadata": {},
   "outputs": [],
   "source": [
    "AM = np.zeros((3, 3))\n",
    "AM[0, :2] = best_params[:2]\n",
    "AM[1, :2] = best_params[2:4]\n",
    "AM[0, 2] = best_params[4]\n",
    "AM[1, 2] = best_params[5]\n",
    "AM[-1, -1] = 1.0"
   ]
  },
  {
   "cell_type": "code",
   "execution_count": null,
   "id": "e800ee1f-3e60-4938-a454-fbf84fc80be8",
   "metadata": {},
   "outputs": [],
   "source": [
    "AM"
   ]
  },
  {
   "cell_type": "code",
   "execution_count": null,
   "id": "02656dc0-a950-4d33-8688-84d4756b6a35",
   "metadata": {},
   "outputs": [],
   "source": [
    "np.linalg.inv(AM)"
   ]
  },
  {
   "cell_type": "code",
   "execution_count": null,
   "id": "08277839-58d1-44b1-83ff-ac89630d5c79",
   "metadata": {},
   "outputs": [],
   "source": [
    "M_inv = np.linalg.inv(AM)[:2]"
   ]
  },
  {
   "cell_type": "code",
   "execution_count": null,
   "id": "620bb101-7494-436e-9db8-659f148d13b4",
   "metadata": {},
   "outputs": [],
   "source": [
    "M_inv"
   ]
  },
  {
   "cell_type": "code",
   "execution_count": null,
   "id": "f14957db-3690-4326-bf67-f0485f77b5a1",
   "metadata": {},
   "outputs": [],
   "source": [
    "rows, cols = right_gray.shape[:2]\n",
    "img2_warped = cv2.warpAffine(right_gray, M_inv, (cols, rows))"
   ]
  },
  {
   "cell_type": "code",
   "execution_count": null,
   "id": "3e9d20d5-40bb-44d5-9e54-2464942753f6",
   "metadata": {},
   "outputs": [],
   "source": [
    "show_two_images(right_gray, img2_warped)"
   ]
  },
  {
   "cell_type": "markdown",
   "id": "9f3fe7b6-9f1f-4cc4-95de-6a4638c54170",
   "metadata": {},
   "source": [
    "Compute corners of `right` in the co-ordinate space of `left`"
   ]
  },
  {
   "cell_type": "code",
   "execution_count": null,
   "id": "0f4f71ae-6791-4789-9772-7e374645ff94",
   "metadata": {},
   "outputs": [],
   "source": [
    "best_params_2_to_1 = np.array([M_inv[0, 0], M_inv[0, 1], M_inv[1, 0], M_inv[1, 1], M_inv[0, 2], M_inv[1, 2]])"
   ]
  },
  {
   "cell_type": "code",
   "execution_count": null,
   "id": "851adf0f-40c1-43e8-a5a3-87c61c0150ab",
   "metadata": {},
   "outputs": [],
   "source": [
    "H1, W1 = left_gray.shape\n",
    "C1 = np.array([[0, 0], [W1, 0], [0, H1], [W1, H1]])"
   ]
  },
  {
   "cell_type": "code",
   "execution_count": null,
   "id": "1e9a4beb-4b74-49c8-8134-89f571335785",
   "metadata": {},
   "outputs": [],
   "source": [
    "H2, W2 = right_gray.shape\n",
    "\n",
    "C2 = np.array([[0, 0], [W2, 0], [0, H2], [W2, H2]])\n",
    "C2_viewed_from_1 = np.dot(project_2d_to_6d(C2), best_params_2_to_1)\n",
    "C2_viewed_from_1 = project_1d_to_2d(C2_viewed_from_1)"
   ]
  },
  {
   "cell_type": "code",
   "execution_count": null,
   "id": "97c4ba6a-5a49-4336-a6d0-8ab869d2cd18",
   "metadata": {},
   "outputs": [],
   "source": [
    "C2"
   ]
  },
  {
   "cell_type": "code",
   "execution_count": null,
   "id": "11a9fa35-51b8-4fbb-a030-2c9b7a1445c5",
   "metadata": {},
   "outputs": [],
   "source": [
    "C2_viewed_from_1"
   ]
  },
  {
   "cell_type": "code",
   "execution_count": null,
   "id": "3f17eb41-6935-485e-b1eb-a3f5eda5e6c9",
   "metadata": {},
   "outputs": [],
   "source": []
  },
  {
   "cell_type": "code",
   "execution_count": null,
   "id": "eae76dd9-3f48-44ac-a84c-0b6dcb0423a3",
   "metadata": {},
   "outputs": [],
   "source": []
  },
  {
   "cell_type": "markdown",
   "id": "bc957baf-14a9-4638-acb8-fe0496bef1a6",
   "metadata": {},
   "source": [
    "#### Show canvas containing both images and Transformed(`right`)"
   ]
  },
  {
   "cell_type": "code",
   "execution_count": null,
   "id": "e59adcb4-f6b3-4d9c-aec6-9874393f5848",
   "metadata": {},
   "outputs": [],
   "source": [
    "\n",
    "H, W = 400, 800\n",
    "canvas = np.zeros((H, W, 3))\n",
    "canvas[:H1, :W1, :] = left\n",
    "\n",
    "canvas[:H2, W - W2:, :] = right"
   ]
  },
  {
   "cell_type": "code",
   "execution_count": null,
   "id": "73ddb9b7-3d01-44d2-83c8-5a9684d61931",
   "metadata": {},
   "outputs": [],
   "source": [
    "canvas_copy = np.zeros((H, W, 3))\n",
    "canvas_copy[:H2, :W2, :] = right\n",
    "canvas_copy = cv2.warpAffine(canvas_copy, M_inv, (W, H))\n",
    "plt.imshow(canvas_copy.astype(int))\n",
    "plt.show()"
   ]
  },
  {
   "cell_type": "code",
   "execution_count": null,
   "id": "055b8e72-15f3-47f4-aa54-9c8b76ec8bf7",
   "metadata": {},
   "outputs": [],
   "source": [
    "fig, ax = plt.subplots(1, 1, figsize=(13, 7), dpi=100)\n",
    "\n",
    "ax.imshow(canvas.astype(int), alpha=0.6)\n",
    "ax.imshow(canvas_copy.astype(int), alpha=0.4)\n",
    "ax.scatter(C2_viewed_from_1[:, 0], C2_viewed_from_1[:, 1], c=\"red\", label=\"Corners of Image 2 transformed\")\n",
    "\n",
    "title = \"Image 1 (Left), Image 2 (Right) and Image 2 transformed (middle) based on estimated affine parameters.\"\n",
    "ax.set_title(title, fontsize=13)\n",
    "\n",
    "plt.legend(loc=\"lower right\")\n",
    "plt.show()"
   ]
  },
  {
   "cell_type": "markdown",
   "id": "4dc49c7c-28f4-4c74-83b8-bb45944a24e5",
   "metadata": {},
   "source": [
    "#### Estimate the size of stiched image"
   ]
  },
  {
   "cell_type": "code",
   "execution_count": null,
   "id": "3f3a5449-02c1-4a98-8202-8dcb18f4be50",
   "metadata": {},
   "outputs": [],
   "source": [
    "C2_viewed_from_1"
   ]
  },
  {
   "cell_type": "code",
   "execution_count": null,
   "id": "aad30ecf-21e7-4b48-bc64-424c9131063d",
   "metadata": {},
   "outputs": [],
   "source": [
    "H_new, W_new = None, None\n",
    "\n",
    "Y_top = np.max([0, C2_viewed_from_1[0, 1], C2_viewed_from_1[1, 1]])\n",
    "Y_bot = np.min([H1, C2_viewed_from_1[2, 1], C2_viewed_from_1[3, 1]])\n",
    "X_left = np.min([0, C2_viewed_from_1[0, 0], C2_viewed_from_1[3, 0]])\n",
    "X_right = np.max([W1, C2_viewed_from_1[1, 0], C2_viewed_from_1[2, 0]])\n",
    "\n",
    "H_new = Y_bot - Y_top\n",
    "W_new = X_right - X_left"
   ]
  },
  {
   "cell_type": "code",
   "execution_count": null,
   "id": "9067ff3f-7411-4dc1-9ffa-55f982ccd894",
   "metadata": {},
   "outputs": [],
   "source": [
    "Y_top, Y_bot, X_left, X_right, \\\n",
    "(H_new, W_new)"
   ]
  },
  {
   "cell_type": "code",
   "execution_count": null,
   "id": "91e2f05b-b491-4ef3-8439-67fdcdf1f744",
   "metadata": {},
   "outputs": [],
   "source": [
    "fig, ax = plt.subplots(1, 1, figsize=(13, 7), dpi=100)\n",
    "\n",
    "ax.imshow(canvas.astype(int), alpha=0.6)\n",
    "ax.imshow(canvas_copy.astype(int), alpha=0.4)\n",
    "ax.scatter(C2_viewed_from_1[:, 0], C2_viewed_from_1[:, 1], c=\"red\", label=\"Corners of Image 2 transformed\")\n",
    "\n",
    "stiched_image_rect = Rectangle(\n",
    "    (X_left, Y_top), W_new, H_new, fc='none', ec='limegreen', lw=1, label=\"Border of stiched image\",\n",
    ")\n",
    "ax.add_patch(stiched_image_rect)\n",
    "\n",
    "title = \"Image 1 (Left), Image 2 (Right) and Image 2 transformed (middle) based on estimated affine parameters.\"\n",
    "ax.set_title(title, fontsize=13)\n",
    "\n",
    "plt.legend(loc=\"lower right\")\n",
    "plt.savefig(\"./results/LR_intermediate.png\", bbox_inches=\"tight\")\n",
    "plt.show()"
   ]
  },
  {
   "cell_type": "code",
   "execution_count": null,
   "id": "12c178d6-dce2-4223-9725-be697574fc66",
   "metadata": {},
   "outputs": [],
   "source": [
    "SEED = np.random.get_state()[1][0]"
   ]
  },
  {
   "cell_type": "markdown",
   "id": "bd0384cb-afb7-4a43-b67e-932ab207abf1",
   "metadata": {},
   "source": [
    "#### Fill the stiched image pixel-by-pixel"
   ]
  },
  {
   "cell_type": "code",
   "execution_count": null,
   "id": "eb5ead38-d9a3-4e08-838e-e94df0c12712",
   "metadata": {},
   "outputs": [],
   "source": [
    "I = np.meshgrid(np.arange(int(X_left), int(X_right), 1), np.arange(int(Y_top), int(Y_bot), 1))[0]"
   ]
  },
  {
   "cell_type": "code",
   "execution_count": null,
   "id": "2a49a90f-2aa6-40df-bbef-225bae430dbd",
   "metadata": {},
   "outputs": [],
   "source": [
    "I.shape"
   ]
  },
  {
   "cell_type": "code",
   "execution_count": null,
   "id": "89d29408-1c23-444e-ad7c-70308fcf57ab",
   "metadata": {},
   "outputs": [],
   "source": [
    "int(H_new), int(W_new)"
   ]
  },
  {
   "cell_type": "code",
   "execution_count": null,
   "id": "fa38d6e4-93e6-4bfb-9f4d-0d80189fed1f",
   "metadata": {},
   "outputs": [],
   "source": [
    "assert I.shape == (int(H_new), int(W_new))"
   ]
  },
  {
   "cell_type": "code",
   "execution_count": null,
   "id": "785cd597-00db-47b9-ae87-349b9a9fa2cf",
   "metadata": {},
   "outputs": [],
   "source": [
    "pixels = []\n",
    "for x in np.arange(int(X_left), int(X_right), 1):\n",
    "    for y in np.arange(int(Y_top), int(Y_bot), 1):\n",
    "        pixels.append([y, x])"
   ]
  },
  {
   "cell_type": "code",
   "execution_count": null,
   "id": "fda1eaaa-42c5-4a99-a6c7-88e504a41213",
   "metadata": {},
   "outputs": [],
   "source": [
    "len(pixels)"
   ]
  },
  {
   "cell_type": "code",
   "execution_count": null,
   "id": "a68ef973-7e94-45c1-8eeb-cca592b7baa4",
   "metadata": {},
   "outputs": [],
   "source": [
    "def check_point_inside_rectangle(point, rect_top_left, rect_bot_right):\n",
    "\n",
    "    assert isinstance(point, (tuple, list, np.ndarray))\n",
    "    assert len(point) == 2\n",
    "\n",
    "    assert isinstance(rect_top_left, (tuple, list, np.ndarray))\n",
    "    assert len(point) == 2\n",
    "\n",
    "    assert isinstance(rect_bot_right, (tuple, list, np.ndarray))\n",
    "    assert len(point) == 2\n",
    "\n",
    "    x, y = point\n",
    "    x1, y1 = rect_top_left\n",
    "    x2, y2 = rect_bot_right\n",
    "    \n",
    "    return ((x <= x2) and (x > x1)) and ((y <= y2) and (y > y1))"
   ]
  },
  {
   "cell_type": "code",
   "execution_count": null,
   "id": "7759e0b8-a7ed-422f-b971-c080ffe16a7d",
   "metadata": {},
   "outputs": [],
   "source": [
    "check_point_inside_rectangle((0.5, 0.5), (0, 0), (1, 1)), check_point_inside_rectangle((0.5, -0.5), (0, 0), (1, 1))"
   ]
  },
  {
   "cell_type": "code",
   "execution_count": null,
   "id": "4f43a3da-9452-40aa-b811-d52f34445bab",
   "metadata": {},
   "outputs": [],
   "source": [
    "C2_viewed_from_1"
   ]
  },
  {
   "cell_type": "code",
   "execution_count": null,
   "id": "6174f272-a938-4e10-a736-ea15ffd693ba",
   "metadata": {},
   "outputs": [],
   "source": [
    "C1"
   ]
  },
  {
   "cell_type": "code",
   "execution_count": null,
   "id": "d935d003-fbc8-4466-a081-c1eb13122625",
   "metadata": {},
   "outputs": [],
   "source": [
    "C2_viewed_from_1"
   ]
  },
  {
   "cell_type": "code",
   "execution_count": null,
   "id": "49579acd-5e09-4564-bc89-b4b3c2a31dcf",
   "metadata": {},
   "outputs": [],
   "source": [
    "C2_viewed_from_1_reordered = np.array(\n",
    "    [C2_viewed_from_1[0], C2_viewed_from_1[1], C2_viewed_from_1[3], C2_viewed_from_1[2]]\n",
    ")"
   ]
  },
  {
   "cell_type": "code",
   "execution_count": null,
   "id": "34929102-7eb3-44a3-9319-c3c330530ceb",
   "metadata": {},
   "outputs": [],
   "source": [
    "P2 = Polygon(C2_viewed_from_1_reordered)"
   ]
  },
  {
   "cell_type": "code",
   "execution_count": null,
   "id": "da5c3720-5b2d-4f42-adad-e79931fa18b1",
   "metadata": {},
   "outputs": [],
   "source": [
    "C1_reordered = np.array([C1[0], C1[1], C1[3], C1[2]])"
   ]
  },
  {
   "cell_type": "code",
   "execution_count": null,
   "id": "b17d7792-13f9-4753-aa59-e6f6d245e22a",
   "metadata": {},
   "outputs": [],
   "source": [
    "P2.contains_point((300, 300))"
   ]
  },
  {
   "cell_type": "code",
   "execution_count": null,
   "id": "c233e39c-442f-47ea-88f9-a5bc6a4b52bb",
   "metadata": {},
   "outputs": [],
   "source": [
    "P1 = Polygon(C1_reordered)"
   ]
  },
  {
   "cell_type": "code",
   "execution_count": null,
   "id": "2ff8a618-0147-4c45-b0b0-0894ab6dbeb0",
   "metadata": {},
   "outputs": [],
   "source": [
    "P1.contains_point((500, 100))"
   ]
  },
  {
   "cell_type": "code",
   "execution_count": null,
   "id": "f442448d-6eb1-4c67-85b6-0fbb6f1906d4",
   "metadata": {},
   "outputs": [],
   "source": []
  },
  {
   "cell_type": "code",
   "execution_count": null,
   "id": "a5a5778c-eade-4cea-af02-82e72319be6c",
   "metadata": {},
   "outputs": [],
   "source": []
  },
  {
   "cell_type": "code",
   "execution_count": null,
   "id": "a879999e-d315-4901-a18c-605b358c1795",
   "metadata": {},
   "outputs": [],
   "source": [
    "C1"
   ]
  },
  {
   "cell_type": "code",
   "execution_count": null,
   "id": "0ccf32c7-81a8-4901-9388-6695eab711a7",
   "metadata": {},
   "outputs": [],
   "source": [
    "C1_reordered"
   ]
  },
  {
   "cell_type": "code",
   "execution_count": null,
   "id": "0231b4e7-3c23-4be8-93c9-7087c1acef2a",
   "metadata": {},
   "outputs": [],
   "source": [
    "C2_viewed_from_1_reordered"
   ]
  },
  {
   "cell_type": "code",
   "execution_count": null,
   "id": "bf39698c-0637-4a7e-9f14-3b32e9509b7d",
   "metadata": {},
   "outputs": [],
   "source": [
    "C1_reordered = np.array([C1[0], C1[1], C1[3], C1[2]])\n",
    "P1 = Polygon(C1_reordered, color=\"red\")\n",
    "\n",
    "fig = plt.figure()\n",
    "ax = fig.add_subplot(1, 1, 1)\n",
    "rect = plt.Rectangle((0.2, 0.75), 0.4, 0.15, color='k', alpha=0.3)\n",
    "circ = plt.Circle((0.7, 0.2), 0.15, color='b', alpha=0.3)\n",
    "pgon = plt.Polygon([[0.15, 0.15], [0.35, 0.4], [0.2, 0.6]],\n",
    "color='g', alpha=0.5)\n",
    "\n",
    "ax.add_patch(rect)\n",
    "ax.add_patch(circ)\n",
    "ax.add_patch(pgon)\n",
    "ax.add_patch(P1)\n",
    "ax.set_xlim(0, 1000)\n",
    "ax.set_ylim(0, 1000)\n"
   ]
  },
  {
   "cell_type": "code",
   "execution_count": null,
   "id": "57217e73-a06c-4fcb-8f2e-7785463dde92",
   "metadata": {},
   "outputs": [],
   "source": []
  },
  {
   "cell_type": "code",
   "execution_count": null,
   "id": "35836781-ac1a-4c9e-b94b-ad635540a548",
   "metadata": {},
   "outputs": [],
   "source": [
    "merged_image = np.zeros(canvas.shape)\n",
    "merging_weights_1 = np.zeros(canvas.shape)\n",
    "merging_weights_2 = np.zeros(canvas.shape)\n",
    "checker = np.zeros(canvas.shape)\n",
    "\n",
    "C1_reordered = np.array([C1[0], C1[1], C1[3], C1[2]])\n",
    "P1 = Polygon(C1_reordered)\n",
    "\n",
    "C2_viewed_from_1_reordered = np.array(\n",
    "    [C2_viewed_from_1[0], C2_viewed_from_1[1], C2_viewed_from_1[3], C2_viewed_from_1[2]]\n",
    ")\n",
    "P2 = Polygon(C2_viewed_from_1_reordered)\n",
    "\n",
    "for x in np.arange(int(X_left), int(X_right), 1):\n",
    "    for y in np.arange(int(Y_top), int(Y_bot), 1):\n",
    "        \n",
    "        in_img_1 = P1.contains_point((x, y))\n",
    "        in_img_2 = P2.contains_point((x, y))\n",
    "        \n",
    "        if in_img_1 and not in_img_2:\n",
    "            merging_weights_1[y, x] = 1.0\n",
    "            merging_weights_2[y, x] = 0.0\n",
    "\n",
    "        if in_img_2 and not in_img_1:\n",
    "            merging_weights_1[y, x] = 0.0\n",
    "            merging_weights_2[y, x] = 1.0\n",
    "\n",
    "        if in_img_1 and in_img_2:\n",
    "            merging_weights_1[y, x] = 0.5\n",
    "            merging_weights_2[y, x] = 0.5\n",
    "            checker[y, x] = 1.0"
   ]
  },
  {
   "cell_type": "code",
   "execution_count": null,
   "id": "a8b9129c-e97d-46a2-bc9e-d8ef8791166f",
   "metadata": {},
   "outputs": [],
   "source": [
    "plt.imshow(merging_weights_1)"
   ]
  },
  {
   "cell_type": "code",
   "execution_count": null,
   "id": "99b6831f-aa84-466b-a14e-25bf02e7a5fa",
   "metadata": {},
   "outputs": [],
   "source": [
    "plt.imshow(merging_weights_2)"
   ]
  },
  {
   "cell_type": "code",
   "execution_count": null,
   "id": "c2f5153e-8573-41ff-9a28-7933fbc14f1b",
   "metadata": {},
   "outputs": [],
   "source": [
    "canvas.shape, canvas_copy.shape"
   ]
  },
  {
   "cell_type": "code",
   "execution_count": null,
   "id": "8d49dd8e-d833-477c-aaeb-d482b08e1e4b",
   "metadata": {},
   "outputs": [],
   "source": [
    "merging_weights_1.shape, merging_weights_2.shape"
   ]
  },
  {
   "cell_type": "code",
   "execution_count": null,
   "id": "b9c76fe2-ced2-4412-8f82-47518ee98445",
   "metadata": {},
   "outputs": [],
   "source": [
    "canvas_final = np.multiply(canvas, merging_weights_1) + np.multiply(canvas_copy, merging_weights_2)"
   ]
  },
  {
   "cell_type": "code",
   "execution_count": null,
   "id": "f5b95ade-f919-4322-ac41-fecc8b10bbc4",
   "metadata": {},
   "outputs": [],
   "source": [
    "canvas_final_cropped = canvas_final[int(Y_top):int(Y_bot), int(X_left):int(X_right)]"
   ]
  },
  {
   "cell_type": "code",
   "execution_count": null,
   "id": "16f87575-2ec5-4beb-bacd-e4ae53e6dd2a",
   "metadata": {},
   "outputs": [],
   "source": [
    "# generate some data\n",
    "x = np.arange(0, 10, 0.2)\n",
    "y = np.sin(x)\n",
    "\n",
    "# plot it\n",
    "f, ax = plt.subplots(1, 3, gridspec_kw={'width_ratios': [2, 2, 4]}, figsize=(20, 6))\n",
    "\n",
    "ax[0].imshow(left)\n",
    "ax[0].set_title(\"Left image\", fontsize=18)\n",
    "ax[0].axis(\"off\")\n",
    "\n",
    "ax[1].imshow(right)\n",
    "ax[1].set_title(\"Right image\", fontsize=18)\n",
    "ax[1].axis(\"off\")\n",
    "\n",
    "ax[2].imshow(canvas_final_cropped.astype(int))\n",
    "ax[2].set_title(\"Stitched image\", fontsize=18)\n",
    "ax[2].axis(\"off\")\n",
    "\n",
    "f.tight_layout()\n",
    "f.savefig('./results/all_stiched.png', bbox_inches=\"tight\")"
   ]
  },
  {
   "cell_type": "code",
   "execution_count": null,
   "id": "6a95ba45-6b5c-4223-8867-2bc5da797f17",
   "metadata": {},
   "outputs": [],
   "source": []
  }
 ],
 "metadata": {
  "kernelspec": {
   "display_name": "Python 3 (ipykernel)",
   "language": "python",
   "name": "python3"
  },
  "language_info": {
   "codemirror_mode": {
    "name": "ipython",
    "version": 3
   },
   "file_extension": ".py",
   "mimetype": "text/x-python",
   "name": "python",
   "nbconvert_exporter": "python",
   "pygments_lexer": "ipython3",
   "version": "3.9.7"
  }
 },
 "nbformat": 4,
 "nbformat_minor": 5
}
