{
 "cells": [
  {
   "cell_type": "code",
   "execution_count": null,
   "id": "43668281-2421-4b8d-89f4-386426cef02e",
   "metadata": {},
   "outputs": [],
   "source": [
    "%load_ext autoreload\n",
    "%autoreload 2"
   ]
  },
  {
   "cell_type": "code",
   "execution_count": null,
   "id": "4d8d50fa-67ad-4fcd-93e7-31ea5ce5e001",
   "metadata": {},
   "outputs": [],
   "source": [
    "import numpy as np\n",
    "import cv2\n",
    "import matplotlib.pyplot as plt\n",
    "from matplotlib.pyplot import cm\n",
    "\n",
    "from keypoint_matching import KeypointMatcher\n",
    "from RANSAC import ImageAlignment, project_2d_to_6d, project_6d_to_2d\n",
    "from utils import show_two_images, show_single_image"
   ]
  },
  {
   "cell_type": "code",
   "execution_count": null,
   "id": "5fa3a299-e710-4f0e-bfdc-4f505dc1cf3e",
   "metadata": {},
   "outputs": [],
   "source": [
    "boat1 = cv2.imread('boat1.pgm', cv2.IMREAD_GRAYSCALE)\n",
    "boat2 = cv2.imread('boat2.pgm', cv2.IMREAD_GRAYSCALE)\n",
    "show_two_images(boat1, boat2, title=\"Sample pair of images.\")"
   ]
  },
  {
   "cell_type": "code",
   "execution_count": null,
   "id": "b9eea01a-4320-4b3e-897c-8f8f4554c02b",
   "metadata": {},
   "outputs": [],
   "source": [
    "# get matches\n",
    "kp_matcher = KeypointMatcher(contrastThreshold=0.1, edgeThreshold=5)\n",
    "matches, kp1, des1, kp2, des2 = kp_matcher.match(boat1, boat2, show_matches=True)"
   ]
  },
  {
   "cell_type": "code",
   "execution_count": null,
   "id": "e02108be-3ad9-4ebb-b685-ee9c81cffb0f",
   "metadata": {},
   "outputs": [],
   "source": [
    "image_alignment = ImageAlignment()\n",
    "params = image_alignment.align(boat1, kp1, boat2, kp2, matches)"
   ]
  },
  {
   "cell_type": "code",
   "execution_count": null,
   "id": "921eb1cb-a62b-45e4-8fcb-6f1e2b525207",
   "metadata": {},
   "outputs": [],
   "source": [
    "params"
   ]
  },
  {
   "cell_type": "code",
   "execution_count": null,
   "id": "aa75c661-2743-4237-89f0-99b27d5df3d8",
   "metadata": {},
   "outputs": [],
   "source": [
    "x2, y2"
   ]
  },
  {
   "cell_type": "code",
   "execution_count": null,
   "id": "0119a3d5-198b-4d95-a1d8-dc765ef16343",
   "metadata": {},
   "outputs": [],
   "source": [
    "A = project_2d_to_6d(np.array([[x1, y1]]))\n",
    "x = params\n",
    "\n",
    "b = np.dot(A, x)"
   ]
  },
  {
   "cell_type": "code",
   "execution_count": null,
   "id": "76b72953-848d-4bcc-a90f-5bb7189721dd",
   "metadata": {},
   "outputs": [],
   "source": [
    "b"
   ]
  },
  {
   "cell_type": "code",
   "execution_count": null,
   "id": "83f9c0a4-dd28-46dd-9891-86c345a39fb6",
   "metadata": {},
   "outputs": [],
   "source": [
    "colors = cm.rainbow(np.linspace(0, 1, 10))"
   ]
  },
  {
   "cell_type": "code",
   "execution_count": null,
   "id": "07383343-0e46-4488-a4b1-3e882596d5b7",
   "metadata": {},
   "outputs": [],
   "source": [
    "colors[0]"
   ]
  },
  {
   "cell_type": "code",
   "execution_count": null,
   "id": "6a58ef23-a0eb-47b6-aa66-d0440b5afd12",
   "metadata": {},
   "outputs": [],
   "source": [
    "def show_transformed_points(img1, img2, X1, kp1, kp2, matches, num_to_show=100):\n",
    "\n",
    "    H1, W1 = img1.shape\n",
    "    H2, W2 = img2.shape\n",
    "    img = np.hstack([img1, img2])\n",
    "\n",
    "    random_matches = np.random.choice(matches, num_to_show)\n",
    "\n",
    "    fig, ax = plt.subplots(1, 1, figsize=(18, 7))\n",
    "    colors = cm.rainbow(np.linspace(0, 1, num_to_show))\n",
    "\n",
    "    for i, match in enumerate(random_matches):\n",
    "\n",
    "        # select a single match to visualize\n",
    "        x1, y1 = kp1[match.queryIdx].pt\n",
    "        x2, y2 = kp2[match.trainIdx].pt\n",
    "\n",
    "        # get (x1, y1) transformed to (x1_transformed, y1_transformed)\n",
    "        A = project_2d_to_6d(np.array([[x1, y1]]))\n",
    "        (x1_transformed, y1_transformed) = np.dot(A, params)\n",
    "\n",
    "        ax.imshow(img, cmap=\"gray\")\n",
    "        ax.axis(\"off\")\n",
    "        ax.scatter(x1_transformed + W1, y1_transformed, s=200, marker=\"x\", color=colors[i])\n",
    "        ax.plot((x1, x1_transformed + W1), (y1, y1_transformed), linestyle=\"--\", color=colors[i], marker=\"o\")\n",
    "\n",
    "    plt.show()"
   ]
  },
  {
   "cell_type": "code",
   "execution_count": null,
   "id": "b3637de9-1f99-4e0a-8862-e3c3c1d585da",
   "metadata": {},
   "outputs": [],
   "source": [
    "show_transformed_points(boat1, boat2, X1, kp1, kp2, matches, num_to_show=100)"
   ]
  },
  {
   "cell_type": "code",
   "execution_count": null,
   "id": "7b4fe342-51ce-4c55-a8ec-c8b82a402b65",
   "metadata": {},
   "outputs": [],
   "source": [
    "# select a single match to visualize\n",
    "sel_match = matches[10]\n",
    "x1, y1 = kp1[sel_match.queryIdx].pt\n",
    "x2, y2 = kp2[sel_match.trainIdx].pt\n",
    "\n",
    "# get (x1, y1) transformed to (x1_transformed, y1_transformed)\n",
    "A = project_2d_to_6d(np.array([[x1, y1]]))\n",
    "(x1_transformed, y1_transformed) = np.dot(A, params)\n",
    "\n",
    "H1, W1 = boat1.shape\n",
    "H2, W2 = boat1.shape\n",
    "\n",
    "fig, ax = plt.subplots(1, 1, figsize=(18, 7))\n",
    "\n",
    "img = np.hstack([boat1, boat2])\n",
    "ax.imshow(img, cmap=\"gray\")\n",
    "ax.axis(\"off\")\n",
    "# ax.scatter(x1, y1, s=100, color=\"red\", facecolor=\"none\", linewidths=2.0)\n",
    "# ax.scatter(x2 + W1, y2, s=100, color=\"red\", facecolor=\"none\", linewidths=2.0)\n",
    "ax.scatter(x1_transformed + W1, y1_transformed, s=200, marker=\"x\", color=\"red\")\n",
    "ax.plot((x1, x1_transformed + W1), (y1, y1_transformed), linestyle=\"--\", color=\"red\", marker=\"o\")\n",
    "\n",
    "plt.show()"
   ]
  },
  {
   "cell_type": "code",
   "execution_count": null,
   "id": "ef3b34bb-e15d-46a8-bbba-9d623023332c",
   "metadata": {},
   "outputs": [],
   "source": []
  },
  {
   "cell_type": "code",
   "execution_count": null,
   "id": "2f74bbfd-bddb-4e34-b14f-d80f20f9c916",
   "metadata": {},
   "outputs": [],
   "source": []
  },
  {
   "cell_type": "code",
   "execution_count": null,
   "id": "27028b61-017d-4d74-882f-28f95fb4b5ea",
   "metadata": {},
   "outputs": [],
   "source": []
  },
  {
   "cell_type": "code",
   "execution_count": null,
   "id": "7a5a3891-4ba8-402a-8b4f-65526940792b",
   "metadata": {},
   "outputs": [],
   "source": [
    "X.size"
   ]
  },
  {
   "cell_type": "code",
   "execution_count": null,
   "id": "7497d84c-c847-4b15-93c0-80f5ad353516",
   "metadata": {},
   "outputs": [],
   "source": [
    "sel_match = matches[100]\n",
    "\n",
    "sel_kp1 = [kp1[sel_match.queryIdx]]\n",
    "sel_kp1[0].size = 10\n",
    "sel_kp2 = [kp2[sel_match.trainIdx]]\n",
    "\n",
    "show_two_images(\n",
    "    cv2.drawKeypoints(boat1, sel_kp1, color=(0, 0, 255), outImage=None),\n",
    "    cv2.drawKeypoints(boat2, sel_kp2, color=(0, 0, 255), outImage=None),\n",
    ")"
   ]
  },
  {
   "cell_type": "code",
   "execution_count": null,
   "id": "fee464d2-2f81-43ce-86e5-74ccbd3c7071",
   "metadata": {},
   "outputs": [],
   "source": [
    "sel_kp2"
   ]
  },
  {
   "cell_type": "code",
   "execution_count": null,
   "id": "89178e91-21b1-4600-9554-7be2bee38044",
   "metadata": {},
   "outputs": [],
   "source": []
  },
  {
   "cell_type": "code",
   "execution_count": null,
   "id": "581e5bee-77aa-4128-9101-318bbefd00a2",
   "metadata": {},
   "outputs": [],
   "source": [
    "boat1.shape"
   ]
  },
  {
   "cell_type": "code",
   "execution_count": null,
   "id": "669fa0c3-5992-4b1a-bb70-fcdf1ce004fb",
   "metadata": {},
   "outputs": [],
   "source": [
    "cv2.KeyPoint?"
   ]
  },
  {
   "cell_type": "code",
   "execution_count": null,
   "id": "6180a663-1504-4e9f-adbd-fd2f77158d85",
   "metadata": {},
   "outputs": [],
   "source": [
    "key_points = [cv2.KeyPoint(100, 250, size=10)]"
   ]
  },
  {
   "cell_type": "code",
   "execution_count": null,
   "id": "78a8392d-f3b4-49e7-b1e9-beb30b1f2514",
   "metadata": {},
   "outputs": [],
   "source": [
    "img = cv2.drawKeypoints(boat1, key_points, outImage=None, color=(0, 0, 255))"
   ]
  },
  {
   "cell_type": "code",
   "execution_count": null,
   "id": "be4e46eb-6578-42fb-9e10-c27de15977bf",
   "metadata": {},
   "outputs": [],
   "source": [
    "cv2.drawKeypoints?"
   ]
  },
  {
   "cell_type": "code",
   "execution_count": null,
   "id": "9152c5fe-b7b8-4c92-af04-fdbd45eb2b94",
   "metadata": {},
   "outputs": [],
   "source": [
    "show_single_image(img, figsize=(10, 8))"
   ]
  },
  {
   "cell_type": "code",
   "execution_count": null,
   "id": "7bf705e4-a19d-42c5-99bf-cd4ecc5eceee",
   "metadata": {},
   "outputs": [],
   "source": []
  },
  {
   "cell_type": "code",
   "execution_count": null,
   "id": "0cb88181-f20a-4e23-82fb-6b2bf8847a5c",
   "metadata": {},
   "outputs": [],
   "source": [
    "\n",
    "# get matches\n",
    "kp_matcher = KeypointMatcher(contrastThreshold=0.1, edgeThreshold=5)\n",
    "matches, kp1, des1, kp2, des2 = kp_matcher.match(boat1, boat2, show_matches=True)\n",
    "\n",
    "image_alignment = ImageAlignment()\n",
    "params = image_alignment.align(boat1, kp1, boat2, kp2, matches)"
   ]
  }
 ],
 "metadata": {
  "kernelspec": {
   "display_name": "Python 3 (ipykernel)",
   "language": "python",
   "name": "python3"
  },
  "language_info": {
   "codemirror_mode": {
    "name": "ipython",
    "version": 3
   },
   "file_extension": ".py",
   "mimetype": "text/x-python",
   "name": "python",
   "nbconvert_exporter": "python",
   "pygments_lexer": "ipython3",
   "version": "3.9.7"
  }
 },
 "nbformat": 4,
 "nbformat_minor": 5
}
