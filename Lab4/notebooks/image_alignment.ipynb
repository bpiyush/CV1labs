{
 "cells": [
  {
   "cell_type": "code",
   "execution_count": null,
   "id": "58d88f22-b866-465e-8930-46b2a89f95d7",
   "metadata": {},
   "outputs": [],
   "source": [
    "%load_ext autoreload\n",
    "%autoreload 2"
   ]
  },
  {
   "cell_type": "code",
   "execution_count": null,
   "id": "3cf4f887-d552-4e2c-b873-59caa23a74d7",
   "metadata": {},
   "outputs": [],
   "source": [
    "import numpy as np\n",
    "import cv2\n",
    "import matplotlib.pyplot as plt"
   ]
  },
  {
   "cell_type": "code",
   "execution_count": null,
   "id": "f099ba01-d89e-4593-b241-d0cf5efe9347",
   "metadata": {},
   "outputs": [],
   "source": [
    "def show_single_image(img, figsize=(7, 5)):\n",
    "    fig = plt.figure(figsize=figsize)\n",
    "    plt.axis(\"off\")\n",
    "    plt.imshow(img)\n",
    "    plt.show()\n",
    "\n",
    "def show_two_images(img1, img2):\n",
    "    fig, ax = plt.subplots(1, 2, figsize=(10, 5))\n",
    "\n",
    "    ax[0].axis(\"off\")\n",
    "    ax[0].imshow(img1)\n",
    "\n",
    "    ax[1].axis(\"off\")\n",
    "    ax[1].imshow(img2)\n",
    "\n",
    "    plt.show()"
   ]
  },
  {
   "cell_type": "markdown",
   "id": "57645052-7525-4b6d-8aa1-e0cd3ddcb2ce",
   "metadata": {},
   "source": [
    "## SIFT Tutorial"
   ]
  },
  {
   "cell_type": "markdown",
   "id": "2227d481-b952-445b-9c26-bcd5f16959ed",
   "metadata": {},
   "source": [
    "### Load two images"
   ]
  },
  {
   "cell_type": "code",
   "execution_count": null,
   "id": "ccec52e2-e46a-4ab0-b5a7-6c23849eb0ab",
   "metadata": {},
   "outputs": [],
   "source": [
    "boat1 = cv2.imread('boat1.pgm', cv2.IMREAD_GRAYSCALE)"
   ]
  },
  {
   "cell_type": "code",
   "execution_count": null,
   "id": "a3db6f34-30d3-47c7-b1e6-d124697b6bed",
   "metadata": {},
   "outputs": [],
   "source": [
    "boat1.min(), boat1.max(), boat1.shape"
   ]
  },
  {
   "cell_type": "code",
   "execution_count": null,
   "id": "a705dd80-5e09-464e-94c1-15a852bdf005",
   "metadata": {},
   "outputs": [],
   "source": [
    "show_single_image(boat1)"
   ]
  },
  {
   "cell_type": "markdown",
   "id": "884a7a15-f40a-4f27-a1ac-2414db32be98",
   "metadata": {},
   "source": [
    "### Detect keypoints using SIFT"
   ]
  },
  {
   "cell_type": "code",
   "execution_count": null,
   "id": "864a063a-0203-4f1a-9807-16409c3aaed6",
   "metadata": {},
   "outputs": [],
   "source": [
    "sift = cv2.SIFT_create()"
   ]
  },
  {
   "cell_type": "code",
   "execution_count": null,
   "id": "07871633-f1d9-48b4-99f7-6112a92f67e3",
   "metadata": {},
   "outputs": [],
   "source": [
    "kp = sift.detect(boat1, None)"
   ]
  },
  {
   "cell_type": "code",
   "execution_count": null,
   "id": "2fca9855-faae-4ee3-8ed3-0ef094fa5da7",
   "metadata": {},
   "outputs": [],
   "source": [
    "len(kp), kp[0].pt"
   ]
  },
  {
   "cell_type": "code",
   "execution_count": null,
   "id": "c68980ce-e5d7-406b-b974-4de335748812",
   "metadata": {},
   "outputs": [],
   "source": [
    "boat1_with_kp = cv2.drawKeypoints(boat1, kp, boat1)"
   ]
  },
  {
   "cell_type": "code",
   "execution_count": null,
   "id": "d3f1a686-73c2-4e8c-bcb5-b190d96ee0ff",
   "metadata": {},
   "outputs": [],
   "source": [
    "show_single_image(boat1_with_kp, figsize=(10, 8))"
   ]
  },
  {
   "cell_type": "markdown",
   "id": "5b57db0b-6954-43c0-bed0-8587a7f02ccc",
   "metadata": {},
   "source": [
    "### Detect and describe keypoints using SIFT"
   ]
  },
  {
   "cell_type": "code",
   "execution_count": null,
   "id": "5aad8d4f-5c54-493e-9a11-9f377b098bd2",
   "metadata": {},
   "outputs": [],
   "source": [
    "sift = cv2.SIFT_create(contrastThreshold=0.1, edgeThreshold=5)\n",
    "kp, des = sift.detectAndCompute(boat1, None)"
   ]
  },
  {
   "cell_type": "code",
   "execution_count": null,
   "id": "04c32817-b44e-449d-b174-d423da3da841",
   "metadata": {},
   "outputs": [],
   "source": [
    "boat1_with_kp = cv2.drawKeypoints(boat1, kp, boat1, flags=cv2.DRAW_MATCHES_FLAGS_DRAW_RICH_KEYPOINTS)"
   ]
  },
  {
   "cell_type": "code",
   "execution_count": null,
   "id": "2bb9e10f-c7a3-4d09-9a60-74f7279d5055",
   "metadata": {},
   "outputs": [],
   "source": [
    "show_single_image(boat1_with_kp, figsize=(10, 8))"
   ]
  },
  {
   "cell_type": "code",
   "execution_count": null,
   "id": "4001feb1-139c-4bbd-9d95-5125cbaea873",
   "metadata": {},
   "outputs": [],
   "source": [
    "des.shape, len(kp)"
   ]
  },
  {
   "cell_type": "markdown",
   "id": "da5a773e-a385-4b2c-a1d7-22fae2b16d06",
   "metadata": {},
   "source": [
    "## Brute-force matching tutorial"
   ]
  },
  {
   "cell_type": "code",
   "execution_count": null,
   "id": "f35fcb2a-18e4-434b-b9b1-2e477a9f55ed",
   "metadata": {},
   "outputs": [],
   "source": [
    "boat1 = cv2.imread('boat1.pgm', cv2.IMREAD_GRAYSCALE)\n",
    "boat2 = cv2.imread('boat2.pgm', cv2.IMREAD_GRAYSCALE)\n",
    "\n",
    "sift = cv2.SIFT_create(contrastThreshold=0.1, edgeThreshold=5)\n",
    "\n",
    "kp1, des1 = sift.detectAndCompute(boat1, None)\n",
    "boat1_with_kp = cv2.drawKeypoints(boat1, kp, boat1, flags=cv2.DRAW_MATCHES_FLAGS_DRAW_RICH_KEYPOINTS)\n",
    "\n",
    "kp2, des2 = sift.detectAndCompute(boat2, None)\n",
    "boat2_with_kp = cv2.drawKeypoints(boat2, kp, boat2, flags=cv2.DRAW_MATCHES_FLAGS_DRAW_RICH_KEYPOINTS)"
   ]
  },
  {
   "cell_type": "code",
   "execution_count": null,
   "id": "80b87164-d245-4253-817c-0b79c6529fa6",
   "metadata": {},
   "outputs": [],
   "source": [
    "show_two_images(boat1_with_kp, boat2_with_kp)"
   ]
  },
  {
   "cell_type": "code",
   "execution_count": null,
   "id": "2e56ee9d-7d53-4799-9675-ed230ee721e9",
   "metadata": {},
   "outputs": [],
   "source": [
    "des1.dtype, des2.dtype"
   ]
  },
  {
   "cell_type": "code",
   "execution_count": null,
   "id": "cdba31fa-b1b2-4615-af50-5c785e384285",
   "metadata": {},
   "outputs": [],
   "source": [
    "# create BFMatcher object\n",
    "bf = cv2.BFMatcher()\n",
    "\n",
    "# Match descriptors.\n",
    "matches = bf.match(des1, des2)\n",
    "\n",
    "# Sort them in the order of their distance.\n",
    "matches = sorted(matches, key = lambda x:x.distance)\n",
    "\n",
    "# Draw first K matches.\n",
    "K = 100\n",
    "img3 = cv2.drawMatches(boat1, kp1, boat2, kp2, matches[:K], outImg=None)\n",
    "\n",
    "show_single_image(img3, figsize=(20, 8))"
   ]
  },
  {
   "cell_type": "code",
   "execution_count": null,
   "id": "2c53a58b-6218-4991-901d-81f401443c62",
   "metadata": {},
   "outputs": [],
   "source": []
  }
 ],
 "metadata": {
  "kernelspec": {
   "display_name": "Python 3 (ipykernel)",
   "language": "python",
   "name": "python3"
  },
  "language_info": {
   "codemirror_mode": {
    "name": "ipython",
    "version": 3
   },
   "file_extension": ".py",
   "mimetype": "text/x-python",
   "name": "python",
   "nbconvert_exporter": "python",
   "pygments_lexer": "ipython3",
   "version": "3.9.7"
  }
 },
 "nbformat": 4,
 "nbformat_minor": 5
}
